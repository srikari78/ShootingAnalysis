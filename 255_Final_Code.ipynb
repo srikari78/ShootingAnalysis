{
  "cells": [
    {
      "cell_type": "code",
      "execution_count": null,
      "metadata": {
        "id": "KImIlrXDi1V-"
      },
      "outputs": [],
      "source": [
        "import pandas as pd\n",
        "import requests\n",
        "import os\n",
        "census_key = os.getenv('YOUR_API_KEY_HERE')\n",
        "import numpy as np\n",
        "import matplotlib.pyplot as plt\n",
        "from matplotlib.ticker import StrMethodFormatter\n",
        "import matplotlib.ticker as ticker\n",
        "from collections import Counter\n",
        "from wordcloud import WordCloud\n",
        "import plotly.express as px\n",
        "from wordcloud import WordCloud, STOPWORDS, ImageColorGenerator\n",
        "import seaborn as sns\n",
        "from scipy.stats import poisson \n",
        "import urllib.request, json \n",
        "import plotly.graph_objects as go\n",
        "import plotly.figure_factory as ff\n",
        "from plotly.colors import n_colors\n",
        "from plotly.subplots import make_subplots\n",
        "sns.set(rc={'figure.figsize':(11.7,8.27)})\n",
        "import warnings\n",
        "warnings.simplefilter(\"ignore\")\n",
        "# Plot settings\n",
        "%matplotlib inline\n",
        "%config InlineBackend.figure_format = 'svg'\n",
        "sns.set_style(\"whitegrid\")\n",
        "sns.set_palette(\"dark\") # set color palette"
      ]
    },
    {
      "cell_type": "code",
      "execution_count": null,
      "metadata": {
        "colab": {
          "base_uri": "https://localhost:8080/"
        },
        "id": "wrczTVvei35C",
        "outputId": "385f5b69-f35d-414b-ba18-d5057df23097"
      },
      "outputs": [
        {
          "name": "stdout",
          "output_type": "stream",
          "text": [
            "https://api.census.gov/data/2020/acs/acs5?get=NAME%2CB01001_001E%2CB02001_004E%2CB02001_005E%2CB01001H_001E%2CB01001B_001E%2CB01001I_001E&for=state%3A%2A\n"
          ]
        }
      ],
      "source": [
        "url = 'https://api.census.gov/data/2020/acs/acs5?'\n",
        "params = {'get' : 'NAME,B01001_001E,B02001_004E,B02001_005E,B01001H_001E,B01001B_001E,B01001I_001E',\n",
        "          'for' : 'state:*'}\n",
        "r = requests.get(url, params=params)\n",
        "print(r.url)"
      ]
    },
    {
      "cell_type": "code",
      "execution_count": null,
      "metadata": {
        "id": "Tvt3tqO4i6UM"
      },
      "outputs": [],
      "source": [
        "census_DataFrame = pd.DataFrame(r.json()[1:], columns=r.json()[0])"
      ]
    },
    {
      "cell_type": "code",
      "execution_count": null,
      "metadata": {
        "colab": {
          "base_uri": "https://localhost:8080/",
          "height": 479
        },
        "id": "pJ0GMItgqixY",
        "outputId": "512a431e-b1cf-4843-d9a1-ef388032869f"
      },
      "outputs": [
        {
          "data": {
            "text/html": [
              "\n",
              "  <div id=\"df-a4c8c1f0-7df4-4f57-b74c-d8fee374a8ba\">\n",
              "    <div class=\"colab-df-container\">\n",
              "      <div>\n",
              "<style scoped>\n",
              "    .dataframe tbody tr th:only-of-type {\n",
              "        vertical-align: middle;\n",
              "    }\n",
              "\n",
              "    .dataframe tbody tr th {\n",
              "        vertical-align: top;\n",
              "    }\n",
              "\n",
              "    .dataframe thead th {\n",
              "        text-align: right;\n",
              "    }\n",
              "</style>\n",
              "<table border=\"1\" class=\"dataframe\">\n",
              "  <thead>\n",
              "    <tr style=\"text-align: right;\">\n",
              "      <th></th>\n",
              "      <th>NAME</th>\n",
              "      <th>B01001_001E</th>\n",
              "      <th>B02001_004E</th>\n",
              "      <th>B02001_005E</th>\n",
              "      <th>B01001H_001E</th>\n",
              "      <th>B01001B_001E</th>\n",
              "      <th>B01001I_001E</th>\n",
              "      <th>state</th>\n",
              "    </tr>\n",
              "  </thead>\n",
              "  <tbody>\n",
              "    <tr>\n",
              "      <th>0</th>\n",
              "      <td>Pennsylvania</td>\n",
              "      <td>12794885</td>\n",
              "      <td>20798</td>\n",
              "      <td>449320</td>\n",
              "      <td>9685118</td>\n",
              "      <td>1419582</td>\n",
              "      <td>971813</td>\n",
              "      <td>42</td>\n",
              "    </tr>\n",
              "    <tr>\n",
              "      <th>1</th>\n",
              "      <td>California</td>\n",
              "      <td>39346023</td>\n",
              "      <td>311629</td>\n",
              "      <td>5834312</td>\n",
              "      <td>14365145</td>\n",
              "      <td>2250962</td>\n",
              "      <td>15380929</td>\n",
              "      <td>06</td>\n",
              "    </tr>\n",
              "    <tr>\n",
              "      <th>2</th>\n",
              "      <td>West Virginia</td>\n",
              "      <td>1807426</td>\n",
              "      <td>3146</td>\n",
              "      <td>14228</td>\n",
              "      <td>1654681</td>\n",
              "      <td>64285</td>\n",
              "      <td>28679</td>\n",
              "      <td>54</td>\n",
              "    </tr>\n",
              "    <tr>\n",
              "      <th>3</th>\n",
              "      <td>Utah</td>\n",
              "      <td>3151239</td>\n",
              "      <td>33222</td>\n",
              "      <td>73190</td>\n",
              "      <td>2455192</td>\n",
              "      <td>38059</td>\n",
              "      <td>446067</td>\n",
              "      <td>49</td>\n",
              "    </tr>\n",
              "    <tr>\n",
              "      <th>4</th>\n",
              "      <td>New York</td>\n",
              "      <td>19514849</td>\n",
              "      <td>76535</td>\n",
              "      <td>1674216</td>\n",
              "      <td>10766297</td>\n",
              "      <td>3002401</td>\n",
              "      <td>3720707</td>\n",
              "      <td>36</td>\n",
              "    </tr>\n",
              "    <tr>\n",
              "      <th>5</th>\n",
              "      <td>District of Columbia</td>\n",
              "      <td>701974</td>\n",
              "      <td>2438</td>\n",
              "      <td>28762</td>\n",
              "      <td>257792</td>\n",
              "      <td>318631</td>\n",
              "      <td>77981</td>\n",
              "      <td>11</td>\n",
              "    </tr>\n",
              "    <tr>\n",
              "      <th>6</th>\n",
              "      <td>Alaska</td>\n",
              "      <td>736990</td>\n",
              "      <td>107298</td>\n",
              "      <td>47289</td>\n",
              "      <td>439979</td>\n",
              "      <td>23894</td>\n",
              "      <td>53059</td>\n",
              "      <td>02</td>\n",
              "    </tr>\n",
              "    <tr>\n",
              "      <th>7</th>\n",
              "      <td>Florida</td>\n",
              "      <td>21216924</td>\n",
              "      <td>55655</td>\n",
              "      <td>590668</td>\n",
              "      <td>11331222</td>\n",
              "      <td>3381061</td>\n",
              "      <td>5468826</td>\n",
              "      <td>12</td>\n",
              "    </tr>\n",
              "    <tr>\n",
              "      <th>8</th>\n",
              "      <td>South Carolina</td>\n",
              "      <td>5091517</td>\n",
              "      <td>16951</td>\n",
              "      <td>83573</td>\n",
              "      <td>3230111</td>\n",
              "      <td>1346560</td>\n",
              "      <td>296897</td>\n",
              "      <td>45</td>\n",
              "    </tr>\n",
              "    <tr>\n",
              "      <th>9</th>\n",
              "      <td>North Dakota</td>\n",
              "      <td>760394</td>\n",
              "      <td>39165</td>\n",
              "      <td>11979</td>\n",
              "      <td>636284</td>\n",
              "      <td>23959</td>\n",
              "      <td>30325</td>\n",
              "      <td>38</td>\n",
              "    </tr>\n",
              "  </tbody>\n",
              "</table>\n",
              "</div>\n",
              "      <button class=\"colab-df-convert\" onclick=\"convertToInteractive('df-a4c8c1f0-7df4-4f57-b74c-d8fee374a8ba')\"\n",
              "              title=\"Convert this dataframe to an interactive table.\"\n",
              "              style=\"display:none;\">\n",
              "        \n",
              "  <svg xmlns=\"http://www.w3.org/2000/svg\" height=\"24px\"viewBox=\"0 0 24 24\"\n",
              "       width=\"24px\">\n",
              "    <path d=\"M0 0h24v24H0V0z\" fill=\"none\"/>\n",
              "    <path d=\"M18.56 5.44l.94 2.06.94-2.06 2.06-.94-2.06-.94-.94-2.06-.94 2.06-2.06.94zm-11 1L8.5 8.5l.94-2.06 2.06-.94-2.06-.94L8.5 2.5l-.94 2.06-2.06.94zm10 10l.94 2.06.94-2.06 2.06-.94-2.06-.94-.94-2.06-.94 2.06-2.06.94z\"/><path d=\"M17.41 7.96l-1.37-1.37c-.4-.4-.92-.59-1.43-.59-.52 0-1.04.2-1.43.59L10.3 9.45l-7.72 7.72c-.78.78-.78 2.05 0 2.83L4 21.41c.39.39.9.59 1.41.59.51 0 1.02-.2 1.41-.59l7.78-7.78 2.81-2.81c.8-.78.8-2.07 0-2.86zM5.41 20L4 18.59l7.72-7.72 1.47 1.35L5.41 20z\"/>\n",
              "  </svg>\n",
              "      </button>\n",
              "      \n",
              "  <style>\n",
              "    .colab-df-container {\n",
              "      display:flex;\n",
              "      flex-wrap:wrap;\n",
              "      gap: 12px;\n",
              "    }\n",
              "\n",
              "    .colab-df-convert {\n",
              "      background-color: #E8F0FE;\n",
              "      border: none;\n",
              "      border-radius: 50%;\n",
              "      cursor: pointer;\n",
              "      display: none;\n",
              "      fill: #1967D2;\n",
              "      height: 32px;\n",
              "      padding: 0 0 0 0;\n",
              "      width: 32px;\n",
              "    }\n",
              "\n",
              "    .colab-df-convert:hover {\n",
              "      background-color: #E2EBFA;\n",
              "      box-shadow: 0px 1px 2px rgba(60, 64, 67, 0.3), 0px 1px 3px 1px rgba(60, 64, 67, 0.15);\n",
              "      fill: #174EA6;\n",
              "    }\n",
              "\n",
              "    [theme=dark] .colab-df-convert {\n",
              "      background-color: #3B4455;\n",
              "      fill: #D2E3FC;\n",
              "    }\n",
              "\n",
              "    [theme=dark] .colab-df-convert:hover {\n",
              "      background-color: #434B5C;\n",
              "      box-shadow: 0px 1px 3px 1px rgba(0, 0, 0, 0.15);\n",
              "      filter: drop-shadow(0px 1px 2px rgba(0, 0, 0, 0.3));\n",
              "      fill: #FFFFFF;\n",
              "    }\n",
              "  </style>\n",
              "\n",
              "      <script>\n",
              "        const buttonEl =\n",
              "          document.querySelector('#df-a4c8c1f0-7df4-4f57-b74c-d8fee374a8ba button.colab-df-convert');\n",
              "        buttonEl.style.display =\n",
              "          google.colab.kernel.accessAllowed ? 'block' : 'none';\n",
              "\n",
              "        async function convertToInteractive(key) {\n",
              "          const element = document.querySelector('#df-a4c8c1f0-7df4-4f57-b74c-d8fee374a8ba');\n",
              "          const dataTable =\n",
              "            await google.colab.kernel.invokeFunction('convertToInteractive',\n",
              "                                                     [key], {});\n",
              "          if (!dataTable) return;\n",
              "\n",
              "          const docLinkHtml = 'Like what you see? Visit the ' +\n",
              "            '<a target=\"_blank\" href=https://colab.research.google.com/notebooks/data_table.ipynb>data table notebook</a>'\n",
              "            + ' to learn more about interactive tables.';\n",
              "          element.innerHTML = '';\n",
              "          dataTable['output_type'] = 'display_data';\n",
              "          await google.colab.output.renderOutput(dataTable, element);\n",
              "          const docLink = document.createElement('div');\n",
              "          docLink.innerHTML = docLinkHtml;\n",
              "          element.appendChild(docLink);\n",
              "        }\n",
              "      </script>\n",
              "    </div>\n",
              "  </div>\n",
              "  "
            ],
            "text/plain": [
              "                   NAME B01001_001E B02001_004E B02001_005E B01001H_001E  \\\n",
              "0          Pennsylvania    12794885       20798      449320      9685118   \n",
              "1            California    39346023      311629     5834312     14365145   \n",
              "2         West Virginia     1807426        3146       14228      1654681   \n",
              "3                  Utah     3151239       33222       73190      2455192   \n",
              "4              New York    19514849       76535     1674216     10766297   \n",
              "5  District of Columbia      701974        2438       28762       257792   \n",
              "6                Alaska      736990      107298       47289       439979   \n",
              "7               Florida    21216924       55655      590668     11331222   \n",
              "8        South Carolina     5091517       16951       83573      3230111   \n",
              "9          North Dakota      760394       39165       11979       636284   \n",
              "\n",
              "  B01001B_001E B01001I_001E state  \n",
              "0      1419582       971813    42  \n",
              "1      2250962     15380929    06  \n",
              "2        64285        28679    54  \n",
              "3        38059       446067    49  \n",
              "4      3002401      3720707    36  \n",
              "5       318631        77981    11  \n",
              "6        23894        53059    02  \n",
              "7      3381061      5468826    12  \n",
              "8      1346560       296897    45  \n",
              "9        23959        30325    38  "
            ]
          },
          "execution_count": 4,
          "metadata": {},
          "output_type": "execute_result"
        }
      ],
      "source": [
        "census_DataFrame.head(10)"
      ]
    },
    {
      "cell_type": "code",
      "execution_count": null,
      "metadata": {
        "id": "lCB0Y6-zi9bc"
      },
      "outputs": [],
      "source": [
        "census_DataFrame = pd.DataFrame(r.json()[1:], columns=r.json()[0]) \\\n",
        "             .rename(columns={'NAME' : 'State Name',\n",
        "                              'B01001_001E' : 'Total Population',\n",
        "                              'B02001_004E' : 'Native',\n",
        "                              'B02001_005E' : 'Asian',\n",
        "                              'B01001H_001E' : 'White',\n",
        "                              'B01001B_001E' : 'Black',\n",
        "                              'B01001I_001E' : 'Hispanic'\n",
        "                             }) \\\n",
        "             .set_index('State Name')\n"
      ]
    },
    {
      "cell_type": "code",
      "execution_count": null,
      "metadata": {
        "colab": {
          "base_uri": "https://localhost:8080/",
          "height": 394
        },
        "id": "Mt9ykyxpjL2A",
        "outputId": "f9317201-37b8-4aae-8b13-86389a58763f"
      },
      "outputs": [
        {
          "data": {
            "text/html": [
              "\n",
              "  <div id=\"df-9e4a7890-67bc-4dab-b5ee-9b05b0d12301\">\n",
              "    <div class=\"colab-df-container\">\n",
              "      <div>\n",
              "<style scoped>\n",
              "    .dataframe tbody tr th:only-of-type {\n",
              "        vertical-align: middle;\n",
              "    }\n",
              "\n",
              "    .dataframe tbody tr th {\n",
              "        vertical-align: top;\n",
              "    }\n",
              "\n",
              "    .dataframe thead th {\n",
              "        text-align: right;\n",
              "    }\n",
              "</style>\n",
              "<table border=\"1\" class=\"dataframe\">\n",
              "  <thead>\n",
              "    <tr style=\"text-align: right;\">\n",
              "      <th></th>\n",
              "      <th>Total Population</th>\n",
              "      <th>Native</th>\n",
              "      <th>Asian</th>\n",
              "      <th>White</th>\n",
              "      <th>Black</th>\n",
              "      <th>Hispanic</th>\n",
              "      <th>state</th>\n",
              "    </tr>\n",
              "    <tr>\n",
              "      <th>State Name</th>\n",
              "      <th></th>\n",
              "      <th></th>\n",
              "      <th></th>\n",
              "      <th></th>\n",
              "      <th></th>\n",
              "      <th></th>\n",
              "      <th></th>\n",
              "    </tr>\n",
              "  </thead>\n",
              "  <tbody>\n",
              "    <tr>\n",
              "      <th>Pennsylvania</th>\n",
              "      <td>12794885</td>\n",
              "      <td>20798</td>\n",
              "      <td>449320</td>\n",
              "      <td>9685118</td>\n",
              "      <td>1419582</td>\n",
              "      <td>971813</td>\n",
              "      <td>42</td>\n",
              "    </tr>\n",
              "    <tr>\n",
              "      <th>California</th>\n",
              "      <td>39346023</td>\n",
              "      <td>311629</td>\n",
              "      <td>5834312</td>\n",
              "      <td>14365145</td>\n",
              "      <td>2250962</td>\n",
              "      <td>15380929</td>\n",
              "      <td>06</td>\n",
              "    </tr>\n",
              "    <tr>\n",
              "      <th>West Virginia</th>\n",
              "      <td>1807426</td>\n",
              "      <td>3146</td>\n",
              "      <td>14228</td>\n",
              "      <td>1654681</td>\n",
              "      <td>64285</td>\n",
              "      <td>28679</td>\n",
              "      <td>54</td>\n",
              "    </tr>\n",
              "    <tr>\n",
              "      <th>Utah</th>\n",
              "      <td>3151239</td>\n",
              "      <td>33222</td>\n",
              "      <td>73190</td>\n",
              "      <td>2455192</td>\n",
              "      <td>38059</td>\n",
              "      <td>446067</td>\n",
              "      <td>49</td>\n",
              "    </tr>\n",
              "    <tr>\n",
              "      <th>New York</th>\n",
              "      <td>19514849</td>\n",
              "      <td>76535</td>\n",
              "      <td>1674216</td>\n",
              "      <td>10766297</td>\n",
              "      <td>3002401</td>\n",
              "      <td>3720707</td>\n",
              "      <td>36</td>\n",
              "    </tr>\n",
              "    <tr>\n",
              "      <th>District of Columbia</th>\n",
              "      <td>701974</td>\n",
              "      <td>2438</td>\n",
              "      <td>28762</td>\n",
              "      <td>257792</td>\n",
              "      <td>318631</td>\n",
              "      <td>77981</td>\n",
              "      <td>11</td>\n",
              "    </tr>\n",
              "    <tr>\n",
              "      <th>Alaska</th>\n",
              "      <td>736990</td>\n",
              "      <td>107298</td>\n",
              "      <td>47289</td>\n",
              "      <td>439979</td>\n",
              "      <td>23894</td>\n",
              "      <td>53059</td>\n",
              "      <td>02</td>\n",
              "    </tr>\n",
              "    <tr>\n",
              "      <th>Florida</th>\n",
              "      <td>21216924</td>\n",
              "      <td>55655</td>\n",
              "      <td>590668</td>\n",
              "      <td>11331222</td>\n",
              "      <td>3381061</td>\n",
              "      <td>5468826</td>\n",
              "      <td>12</td>\n",
              "    </tr>\n",
              "    <tr>\n",
              "      <th>South Carolina</th>\n",
              "      <td>5091517</td>\n",
              "      <td>16951</td>\n",
              "      <td>83573</td>\n",
              "      <td>3230111</td>\n",
              "      <td>1346560</td>\n",
              "      <td>296897</td>\n",
              "      <td>45</td>\n",
              "    </tr>\n",
              "    <tr>\n",
              "      <th>North Dakota</th>\n",
              "      <td>760394</td>\n",
              "      <td>39165</td>\n",
              "      <td>11979</td>\n",
              "      <td>636284</td>\n",
              "      <td>23959</td>\n",
              "      <td>30325</td>\n",
              "      <td>38</td>\n",
              "    </tr>\n",
              "  </tbody>\n",
              "</table>\n",
              "</div>\n",
              "      <button class=\"colab-df-convert\" onclick=\"convertToInteractive('df-9e4a7890-67bc-4dab-b5ee-9b05b0d12301')\"\n",
              "              title=\"Convert this dataframe to an interactive table.\"\n",
              "              style=\"display:none;\">\n",
              "        \n",
              "  <svg xmlns=\"http://www.w3.org/2000/svg\" height=\"24px\"viewBox=\"0 0 24 24\"\n",
              "       width=\"24px\">\n",
              "    <path d=\"M0 0h24v24H0V0z\" fill=\"none\"/>\n",
              "    <path d=\"M18.56 5.44l.94 2.06.94-2.06 2.06-.94-2.06-.94-.94-2.06-.94 2.06-2.06.94zm-11 1L8.5 8.5l.94-2.06 2.06-.94-2.06-.94L8.5 2.5l-.94 2.06-2.06.94zm10 10l.94 2.06.94-2.06 2.06-.94-2.06-.94-.94-2.06-.94 2.06-2.06.94z\"/><path d=\"M17.41 7.96l-1.37-1.37c-.4-.4-.92-.59-1.43-.59-.52 0-1.04.2-1.43.59L10.3 9.45l-7.72 7.72c-.78.78-.78 2.05 0 2.83L4 21.41c.39.39.9.59 1.41.59.51 0 1.02-.2 1.41-.59l7.78-7.78 2.81-2.81c.8-.78.8-2.07 0-2.86zM5.41 20L4 18.59l7.72-7.72 1.47 1.35L5.41 20z\"/>\n",
              "  </svg>\n",
              "      </button>\n",
              "      \n",
              "  <style>\n",
              "    .colab-df-container {\n",
              "      display:flex;\n",
              "      flex-wrap:wrap;\n",
              "      gap: 12px;\n",
              "    }\n",
              "\n",
              "    .colab-df-convert {\n",
              "      background-color: #E8F0FE;\n",
              "      border: none;\n",
              "      border-radius: 50%;\n",
              "      cursor: pointer;\n",
              "      display: none;\n",
              "      fill: #1967D2;\n",
              "      height: 32px;\n",
              "      padding: 0 0 0 0;\n",
              "      width: 32px;\n",
              "    }\n",
              "\n",
              "    .colab-df-convert:hover {\n",
              "      background-color: #E2EBFA;\n",
              "      box-shadow: 0px 1px 2px rgba(60, 64, 67, 0.3), 0px 1px 3px 1px rgba(60, 64, 67, 0.15);\n",
              "      fill: #174EA6;\n",
              "    }\n",
              "\n",
              "    [theme=dark] .colab-df-convert {\n",
              "      background-color: #3B4455;\n",
              "      fill: #D2E3FC;\n",
              "    }\n",
              "\n",
              "    [theme=dark] .colab-df-convert:hover {\n",
              "      background-color: #434B5C;\n",
              "      box-shadow: 0px 1px 3px 1px rgba(0, 0, 0, 0.15);\n",
              "      filter: drop-shadow(0px 1px 2px rgba(0, 0, 0, 0.3));\n",
              "      fill: #FFFFFF;\n",
              "    }\n",
              "  </style>\n",
              "\n",
              "      <script>\n",
              "        const buttonEl =\n",
              "          document.querySelector('#df-9e4a7890-67bc-4dab-b5ee-9b05b0d12301 button.colab-df-convert');\n",
              "        buttonEl.style.display =\n",
              "          google.colab.kernel.accessAllowed ? 'block' : 'none';\n",
              "\n",
              "        async function convertToInteractive(key) {\n",
              "          const element = document.querySelector('#df-9e4a7890-67bc-4dab-b5ee-9b05b0d12301');\n",
              "          const dataTable =\n",
              "            await google.colab.kernel.invokeFunction('convertToInteractive',\n",
              "                                                     [key], {});\n",
              "          if (!dataTable) return;\n",
              "\n",
              "          const docLinkHtml = 'Like what you see? Visit the ' +\n",
              "            '<a target=\"_blank\" href=https://colab.research.google.com/notebooks/data_table.ipynb>data table notebook</a>'\n",
              "            + ' to learn more about interactive tables.';\n",
              "          element.innerHTML = '';\n",
              "          dataTable['output_type'] = 'display_data';\n",
              "          await google.colab.output.renderOutput(dataTable, element);\n",
              "          const docLink = document.createElement('div');\n",
              "          docLink.innerHTML = docLinkHtml;\n",
              "          element.appendChild(docLink);\n",
              "        }\n",
              "      </script>\n",
              "    </div>\n",
              "  </div>\n",
              "  "
            ],
            "text/plain": [
              "                     Total Population  Native    Asian     White    Black  \\\n",
              "State Name                                                                  \n",
              "Pennsylvania                 12794885   20798   449320   9685118  1419582   \n",
              "California                   39346023  311629  5834312  14365145  2250962   \n",
              "West Virginia                 1807426    3146    14228   1654681    64285   \n",
              "Utah                          3151239   33222    73190   2455192    38059   \n",
              "New York                     19514849   76535  1674216  10766297  3002401   \n",
              "District of Columbia           701974    2438    28762    257792   318631   \n",
              "Alaska                         736990  107298    47289    439979    23894   \n",
              "Florida                      21216924   55655   590668  11331222  3381061   \n",
              "South Carolina                5091517   16951    83573   3230111  1346560   \n",
              "North Dakota                   760394   39165    11979    636284    23959   \n",
              "\n",
              "                      Hispanic state  \n",
              "State Name                            \n",
              "Pennsylvania            971813    42  \n",
              "California            15380929    06  \n",
              "West Virginia            28679    54  \n",
              "Utah                    446067    49  \n",
              "New York               3720707    36  \n",
              "District of Columbia     77981    11  \n",
              "Alaska                   53059    02  \n",
              "Florida                5468826    12  \n",
              "South Carolina          296897    45  \n",
              "North Dakota             30325    38  "
            ]
          },
          "execution_count": 6,
          "metadata": {},
          "output_type": "execute_result"
        }
      ],
      "source": [
        "census_DataFrame.head(10)"
      ]
    },
    {
      "cell_type": "code",
      "execution_count": null,
      "metadata": {
        "colab": {
          "base_uri": "https://localhost:8080/"
        },
        "id": "YUNMFHDOjPki",
        "outputId": "6e816113-f2a7-43db-b063-ae3708ce0f42"
      },
      "outputs": [
        {
          "name": "stdout",
          "output_type": "stream",
          "text": [
            "<class 'pandas.core.frame.DataFrame'>\n",
            "Index: 52 entries, Pennsylvania to Tennessee\n",
            "Data columns (total 7 columns):\n",
            " #   Column            Non-Null Count  Dtype \n",
            "---  ------            --------------  ----- \n",
            " 0   Total Population  52 non-null     object\n",
            " 1   Native            52 non-null     object\n",
            " 2   Asian             52 non-null     object\n",
            " 3   White             52 non-null     object\n",
            " 4   Black             52 non-null     object\n",
            " 5   Hispanic          52 non-null     object\n",
            " 6   state             52 non-null     object\n",
            "dtypes: object(7)\n",
            "memory usage: 3.2+ KB\n"
          ]
        }
      ],
      "source": [
        "census_DataFrame.info()"
      ]
    },
    {
      "cell_type": "code",
      "execution_count": null,
      "metadata": {
        "id": "AxsRUPkujR7F"
      },
      "outputs": [],
      "source": [
        "census_DataFrame['Total Population'] = census_DataFrame['Total Population'].astype(int)"
      ]
    },
    {
      "cell_type": "code",
      "execution_count": null,
      "metadata": {
        "id": "LR6DFv_xjTrv"
      },
      "outputs": [],
      "source": [
        "census_DataFrame['Native'] = census_DataFrame['Native'].astype(int)"
      ]
    },
    {
      "cell_type": "code",
      "execution_count": null,
      "metadata": {
        "id": "cekvS3fXjV5Q"
      },
      "outputs": [],
      "source": [
        "census_DataFrame['Black'] = census_DataFrame['Black'].astype(int)"
      ]
    },
    {
      "cell_type": "code",
      "execution_count": null,
      "metadata": {
        "id": "srFZ-SM9jYfC"
      },
      "outputs": [],
      "source": [
        "census_DataFrame['White'] = census_DataFrame['White'].astype(int)"
      ]
    },
    {
      "cell_type": "code",
      "execution_count": null,
      "metadata": {
        "id": "egEjX0tgjiIn"
      },
      "outputs": [],
      "source": [
        "census_DataFrame['Hispanic'] = census_DataFrame['Hispanic'].astype(int)"
      ]
    },
    {
      "cell_type": "code",
      "execution_count": null,
      "metadata": {
        "id": "4m52Tu2bjkth"
      },
      "outputs": [],
      "source": [
        "census_DataFrame['Asian'] = census_DataFrame['Asian'].astype(int)"
      ]
    },
    {
      "cell_type": "code",
      "execution_count": null,
      "metadata": {
        "colab": {
          "base_uri": "https://localhost:8080/"
        },
        "id": "ytQiiwEtjnMY",
        "outputId": "6a822876-89ef-4788-f56e-0d3fbf69f926"
      },
      "outputs": [
        {
          "name": "stdout",
          "output_type": "stream",
          "text": [
            "<class 'pandas.core.frame.DataFrame'>\n",
            "Index: 52 entries, Pennsylvania to Tennessee\n",
            "Data columns (total 7 columns):\n",
            " #   Column            Non-Null Count  Dtype \n",
            "---  ------            --------------  ----- \n",
            " 0   Total Population  52 non-null     int64 \n",
            " 1   Native            52 non-null     int64 \n",
            " 2   Asian             52 non-null     int64 \n",
            " 3   White             52 non-null     int64 \n",
            " 4   Black             52 non-null     int64 \n",
            " 5   Hispanic          52 non-null     int64 \n",
            " 6   state             52 non-null     object\n",
            "dtypes: int64(6), object(1)\n",
            "memory usage: 3.2+ KB\n"
          ]
        }
      ],
      "source": [
        "census_DataFrame.info()"
      ]
    },
    {
      "cell_type": "code",
      "execution_count": null,
      "metadata": {
        "colab": {
          "base_uri": "https://localhost:8080/",
          "height": 1000
        },
        "id": "DDaqu86cjrgc",
        "outputId": "6041f0da-9b73-4d3c-deb5-89bb2442f917"
      },
      "outputs": [
        {
          "data": {
            "text/html": [
              "\n",
              "  <div id=\"df-8f311ef0-e89a-48b0-b4c8-a22079ef922c\">\n",
              "    <div class=\"colab-df-container\">\n",
              "      <div>\n",
              "<style scoped>\n",
              "    .dataframe tbody tr th:only-of-type {\n",
              "        vertical-align: middle;\n",
              "    }\n",
              "\n",
              "    .dataframe tbody tr th {\n",
              "        vertical-align: top;\n",
              "    }\n",
              "\n",
              "    .dataframe thead th {\n",
              "        text-align: right;\n",
              "    }\n",
              "</style>\n",
              "<table border=\"1\" class=\"dataframe\">\n",
              "  <thead>\n",
              "    <tr style=\"text-align: right;\">\n",
              "      <th></th>\n",
              "      <th>Total Population</th>\n",
              "      <th>Native</th>\n",
              "      <th>Asian</th>\n",
              "      <th>White</th>\n",
              "      <th>Black</th>\n",
              "      <th>Hispanic</th>\n",
              "      <th>state</th>\n",
              "    </tr>\n",
              "    <tr>\n",
              "      <th>State Name</th>\n",
              "      <th></th>\n",
              "      <th></th>\n",
              "      <th></th>\n",
              "      <th></th>\n",
              "      <th></th>\n",
              "      <th></th>\n",
              "      <th></th>\n",
              "    </tr>\n",
              "  </thead>\n",
              "  <tbody>\n",
              "    <tr>\n",
              "      <th>Wyoming</th>\n",
              "      <td>581348</td>\n",
              "      <td>13117</td>\n",
              "      <td>4892</td>\n",
              "      <td>485816</td>\n",
              "      <td>5079</td>\n",
              "      <td>58854</td>\n",
              "      <td>56</td>\n",
              "    </tr>\n",
              "    <tr>\n",
              "      <th>Vermont</th>\n",
              "      <td>624340</td>\n",
              "      <td>1873</td>\n",
              "      <td>10126</td>\n",
              "      <td>576601</td>\n",
              "      <td>7964</td>\n",
              "      <td>12518</td>\n",
              "      <td>50</td>\n",
              "    </tr>\n",
              "    <tr>\n",
              "      <th>District of Columbia</th>\n",
              "      <td>701974</td>\n",
              "      <td>2438</td>\n",
              "      <td>28762</td>\n",
              "      <td>257792</td>\n",
              "      <td>318631</td>\n",
              "      <td>77981</td>\n",
              "      <td>11</td>\n",
              "    </tr>\n",
              "    <tr>\n",
              "      <th>Alaska</th>\n",
              "      <td>736990</td>\n",
              "      <td>107298</td>\n",
              "      <td>47289</td>\n",
              "      <td>439979</td>\n",
              "      <td>23894</td>\n",
              "      <td>53059</td>\n",
              "      <td>02</td>\n",
              "    </tr>\n",
              "    <tr>\n",
              "      <th>North Dakota</th>\n",
              "      <td>760394</td>\n",
              "      <td>39165</td>\n",
              "      <td>11979</td>\n",
              "      <td>636284</td>\n",
              "      <td>23959</td>\n",
              "      <td>30325</td>\n",
              "      <td>38</td>\n",
              "    </tr>\n",
              "    <tr>\n",
              "      <th>South Dakota</th>\n",
              "      <td>879336</td>\n",
              "      <td>74975</td>\n",
              "      <td>12413</td>\n",
              "      <td>715328</td>\n",
              "      <td>18836</td>\n",
              "      <td>36088</td>\n",
              "      <td>46</td>\n",
              "    </tr>\n",
              "    <tr>\n",
              "      <th>Delaware</th>\n",
              "      <td>967679</td>\n",
              "      <td>3560</td>\n",
              "      <td>38528</td>\n",
              "      <td>595236</td>\n",
              "      <td>212795</td>\n",
              "      <td>91350</td>\n",
              "      <td>10</td>\n",
              "    </tr>\n",
              "    <tr>\n",
              "      <th>Rhode Island</th>\n",
              "      <td>1057798</td>\n",
              "      <td>4344</td>\n",
              "      <td>36536</td>\n",
              "      <td>755708</td>\n",
              "      <td>69196</td>\n",
              "      <td>168007</td>\n",
              "      <td>44</td>\n",
              "    </tr>\n",
              "    <tr>\n",
              "      <th>Montana</th>\n",
              "      <td>1061705</td>\n",
              "      <td>65523</td>\n",
              "      <td>8664</td>\n",
              "      <td>908782</td>\n",
              "      <td>5919</td>\n",
              "      <td>41501</td>\n",
              "      <td>30</td>\n",
              "    </tr>\n",
              "    <tr>\n",
              "      <th>Maine</th>\n",
              "      <td>1340825</td>\n",
              "      <td>8894</td>\n",
              "      <td>15270</td>\n",
              "      <td>1242113</td>\n",
              "      <td>18635</td>\n",
              "      <td>23143</td>\n",
              "      <td>23</td>\n",
              "    </tr>\n",
              "    <tr>\n",
              "      <th>New Hampshire</th>\n",
              "      <td>1355244</td>\n",
              "      <td>2197</td>\n",
              "      <td>36581</td>\n",
              "      <td>1214029</td>\n",
              "      <td>21045</td>\n",
              "      <td>52792</td>\n",
              "      <td>33</td>\n",
              "    </tr>\n",
              "    <tr>\n",
              "      <th>Hawaii</th>\n",
              "      <td>1420074</td>\n",
              "      <td>3508</td>\n",
              "      <td>534519</td>\n",
              "      <td>306360</td>\n",
              "      <td>26717</td>\n",
              "      <td>152566</td>\n",
              "      <td>15</td>\n",
              "    </tr>\n",
              "    <tr>\n",
              "      <th>Idaho</th>\n",
              "      <td>1754367</td>\n",
              "      <td>23029</td>\n",
              "      <td>24501</td>\n",
              "      <td>1427529</td>\n",
              "      <td>11536</td>\n",
              "      <td>222967</td>\n",
              "      <td>16</td>\n",
              "    </tr>\n",
              "    <tr>\n",
              "      <th>West Virginia</th>\n",
              "      <td>1807426</td>\n",
              "      <td>3146</td>\n",
              "      <td>14228</td>\n",
              "      <td>1654681</td>\n",
              "      <td>64285</td>\n",
              "      <td>28679</td>\n",
              "      <td>54</td>\n",
              "    </tr>\n",
              "    <tr>\n",
              "      <th>Nebraska</th>\n",
              "      <td>1923826</td>\n",
              "      <td>16875</td>\n",
              "      <td>47944</td>\n",
              "      <td>1507127</td>\n",
              "      <td>91896</td>\n",
              "      <td>214952</td>\n",
              "      <td>31</td>\n",
              "    </tr>\n",
              "    <tr>\n",
              "      <th>New Mexico</th>\n",
              "      <td>2097021</td>\n",
              "      <td>195166</td>\n",
              "      <td>33695</td>\n",
              "      <td>769139</td>\n",
              "      <td>43476</td>\n",
              "      <td>1031788</td>\n",
              "      <td>35</td>\n",
              "    </tr>\n",
              "    <tr>\n",
              "      <th>Kansas</th>\n",
              "      <td>2912619</td>\n",
              "      <td>22278</td>\n",
              "      <td>87093</td>\n",
              "      <td>2193988</td>\n",
              "      <td>165837</td>\n",
              "      <td>351602</td>\n",
              "      <td>20</td>\n",
              "    </tr>\n",
              "    <tr>\n",
              "      <th>Mississippi</th>\n",
              "      <td>2981835</td>\n",
              "      <td>13951</td>\n",
              "      <td>29742</td>\n",
              "      <td>1680938</td>\n",
              "      <td>1123545</td>\n",
              "      <td>94342</td>\n",
              "      <td>28</td>\n",
              "    </tr>\n",
              "    <tr>\n",
              "      <th>Arkansas</th>\n",
              "      <td>3011873</td>\n",
              "      <td>19146</td>\n",
              "      <td>46130</td>\n",
              "      <td>2155099</td>\n",
              "      <td>457840</td>\n",
              "      <td>229629</td>\n",
              "      <td>05</td>\n",
              "    </tr>\n",
              "    <tr>\n",
              "      <th>Nevada</th>\n",
              "      <td>3030281</td>\n",
              "      <td>37715</td>\n",
              "      <td>252314</td>\n",
              "      <td>1460159</td>\n",
              "      <td>282722</td>\n",
              "      <td>875798</td>\n",
              "      <td>32</td>\n",
              "    </tr>\n",
              "    <tr>\n",
              "      <th>Iowa</th>\n",
              "      <td>3150011</td>\n",
              "      <td>10538</td>\n",
              "      <td>79296</td>\n",
              "      <td>2677946</td>\n",
              "      <td>117035</td>\n",
              "      <td>194407</td>\n",
              "      <td>19</td>\n",
              "    </tr>\n",
              "    <tr>\n",
              "      <th>Utah</th>\n",
              "      <td>3151239</td>\n",
              "      <td>33222</td>\n",
              "      <td>73190</td>\n",
              "      <td>2455192</td>\n",
              "      <td>38059</td>\n",
              "      <td>446067</td>\n",
              "      <td>49</td>\n",
              "    </tr>\n",
              "    <tr>\n",
              "      <th>Puerto Rico</th>\n",
              "      <td>3255642</td>\n",
              "      <td>5697</td>\n",
              "      <td>5882</td>\n",
              "      <td>31715</td>\n",
              "      <td>367906</td>\n",
              "      <td>3212625</td>\n",
              "      <td>72</td>\n",
              "    </tr>\n",
              "    <tr>\n",
              "      <th>Connecticut</th>\n",
              "      <td>3570549</td>\n",
              "      <td>9079</td>\n",
              "      <td>163262</td>\n",
              "      <td>2357942</td>\n",
              "      <td>382161</td>\n",
              "      <td>587212</td>\n",
              "      <td>09</td>\n",
              "    </tr>\n",
              "    <tr>\n",
              "      <th>Oklahoma</th>\n",
              "      <td>3949342</td>\n",
              "      <td>303791</td>\n",
              "      <td>87033</td>\n",
              "      <td>2563119</td>\n",
              "      <td>287856</td>\n",
              "      <td>431467</td>\n",
              "      <td>40</td>\n",
              "    </tr>\n",
              "    <tr>\n",
              "      <th>Oregon</th>\n",
              "      <td>4176346</td>\n",
              "      <td>45683</td>\n",
              "      <td>187801</td>\n",
              "      <td>3128494</td>\n",
              "      <td>79117</td>\n",
              "      <td>552279</td>\n",
              "      <td>41</td>\n",
              "    </tr>\n",
              "    <tr>\n",
              "      <th>Kentucky</th>\n",
              "      <td>4461952</td>\n",
              "      <td>8364</td>\n",
              "      <td>68139</td>\n",
              "      <td>3751738</td>\n",
              "      <td>361230</td>\n",
              "      <td>167949</td>\n",
              "      <td>21</td>\n",
              "    </tr>\n",
              "    <tr>\n",
              "      <th>Louisiana</th>\n",
              "      <td>4664616</td>\n",
              "      <td>25938</td>\n",
              "      <td>80930</td>\n",
              "      <td>2720638</td>\n",
              "      <td>1500633</td>\n",
              "      <td>243372</td>\n",
              "      <td>22</td>\n",
              "    </tr>\n",
              "    <tr>\n",
              "      <th>Alabama</th>\n",
              "      <td>4893186</td>\n",
              "      <td>24764</td>\n",
              "      <td>67909</td>\n",
              "      <td>3192147</td>\n",
              "      <td>1301319</td>\n",
              "      <td>212951</td>\n",
              "      <td>01</td>\n",
              "    </tr>\n",
              "    <tr>\n",
              "      <th>South Carolina</th>\n",
              "      <td>5091517</td>\n",
              "      <td>16951</td>\n",
              "      <td>83573</td>\n",
              "      <td>3230111</td>\n",
              "      <td>1346560</td>\n",
              "      <td>296897</td>\n",
              "      <td>45</td>\n",
              "    </tr>\n",
              "    <tr>\n",
              "      <th>Minnesota</th>\n",
              "      <td>5600166</td>\n",
              "      <td>54558</td>\n",
              "      <td>275242</td>\n",
              "      <td>4422490</td>\n",
              "      <td>359817</td>\n",
              "      <td>307675</td>\n",
              "      <td>27</td>\n",
              "    </tr>\n",
              "    <tr>\n",
              "      <th>Colorado</th>\n",
              "      <td>5684926</td>\n",
              "      <td>53671</td>\n",
              "      <td>181733</td>\n",
              "      <td>3837450</td>\n",
              "      <td>235692</td>\n",
              "      <td>1231126</td>\n",
              "      <td>08</td>\n",
              "    </tr>\n",
              "    <tr>\n",
              "      <th>Wisconsin</th>\n",
              "      <td>5806975</td>\n",
              "      <td>48674</td>\n",
              "      <td>163396</td>\n",
              "      <td>4681072</td>\n",
              "      <td>367889</td>\n",
              "      <td>408267</td>\n",
              "      <td>55</td>\n",
              "    </tr>\n",
              "    <tr>\n",
              "      <th>Maryland</th>\n",
              "      <td>6037624</td>\n",
              "      <td>15860</td>\n",
              "      <td>384429</td>\n",
              "      <td>3028494</td>\n",
              "      <td>1803128</td>\n",
              "      <td>619418</td>\n",
              "      <td>24</td>\n",
              "    </tr>\n",
              "    <tr>\n",
              "      <th>Missouri</th>\n",
              "      <td>6124160</td>\n",
              "      <td>24274</td>\n",
              "      <td>123810</td>\n",
              "      <td>4826943</td>\n",
              "      <td>698043</td>\n",
              "      <td>262677</td>\n",
              "      <td>29</td>\n",
              "    </tr>\n",
              "    <tr>\n",
              "      <th>Indiana</th>\n",
              "      <td>6696893</td>\n",
              "      <td>14030</td>\n",
              "      <td>158705</td>\n",
              "      <td>5253453</td>\n",
              "      <td>631923</td>\n",
              "      <td>475475</td>\n",
              "      <td>18</td>\n",
              "    </tr>\n",
              "    <tr>\n",
              "      <th>Tennessee</th>\n",
              "      <td>6772268</td>\n",
              "      <td>17178</td>\n",
              "      <td>122897</td>\n",
              "      <td>4969371</td>\n",
              "      <td>1128806</td>\n",
              "      <td>377162</td>\n",
              "      <td>47</td>\n",
              "    </tr>\n",
              "    <tr>\n",
              "      <th>Massachusetts</th>\n",
              "      <td>6873003</td>\n",
              "      <td>13999</td>\n",
              "      <td>466044</td>\n",
              "      <td>4865022</td>\n",
              "      <td>513369</td>\n",
              "      <td>828140</td>\n",
              "      <td>25</td>\n",
              "    </tr>\n",
              "    <tr>\n",
              "      <th>Arizona</th>\n",
              "      <td>7174064</td>\n",
              "      <td>311014</td>\n",
              "      <td>239190</td>\n",
              "      <td>3883722</td>\n",
              "      <td>325105</td>\n",
              "      <td>2260690</td>\n",
              "      <td>04</td>\n",
              "    </tr>\n",
              "    <tr>\n",
              "      <th>Washington</th>\n",
              "      <td>7512465</td>\n",
              "      <td>91766</td>\n",
              "      <td>662902</td>\n",
              "      <td>5067909</td>\n",
              "      <td>290245</td>\n",
              "      <td>971522</td>\n",
              "      <td>53</td>\n",
              "    </tr>\n",
              "    <tr>\n",
              "      <th>Virginia</th>\n",
              "      <td>8509358</td>\n",
              "      <td>22553</td>\n",
              "      <td>570398</td>\n",
              "      <td>5209336</td>\n",
              "      <td>1620649</td>\n",
              "      <td>810770</td>\n",
              "      <td>51</td>\n",
              "    </tr>\n",
              "    <tr>\n",
              "      <th>New Jersey</th>\n",
              "      <td>8885418</td>\n",
              "      <td>22288</td>\n",
              "      <td>857873</td>\n",
              "      <td>4858807</td>\n",
              "      <td>1189681</td>\n",
              "      <td>1815078</td>\n",
              "      <td>34</td>\n",
              "    </tr>\n",
              "    <tr>\n",
              "      <th>Michigan</th>\n",
              "      <td>9973907</td>\n",
              "      <td>50035</td>\n",
              "      <td>316844</td>\n",
              "      <td>7428622</td>\n",
              "      <td>1360149</td>\n",
              "      <td>521203</td>\n",
              "      <td>26</td>\n",
              "    </tr>\n",
              "    <tr>\n",
              "      <th>North Carolina</th>\n",
              "      <td>10386227</td>\n",
              "      <td>120272</td>\n",
              "      <td>308958</td>\n",
              "      <td>6503292</td>\n",
              "      <td>2217522</td>\n",
              "      <td>991051</td>\n",
              "      <td>37</td>\n",
              "    </tr>\n",
              "    <tr>\n",
              "      <th>Georgia</th>\n",
              "      <td>10516579</td>\n",
              "      <td>34962</td>\n",
              "      <td>434603</td>\n",
              "      <td>5478289</td>\n",
              "      <td>3319844</td>\n",
              "      <td>1013057</td>\n",
              "      <td>13</td>\n",
              "    </tr>\n",
              "    <tr>\n",
              "      <th>Ohio</th>\n",
              "      <td>11675275</td>\n",
              "      <td>20442</td>\n",
              "      <td>268527</td>\n",
              "      <td>9141370</td>\n",
              "      <td>1442655</td>\n",
              "      <td>459939</td>\n",
              "      <td>39</td>\n",
              "    </tr>\n",
              "    <tr>\n",
              "      <th>Illinois</th>\n",
              "      <td>12716164</td>\n",
              "      <td>33972</td>\n",
              "      <td>709567</td>\n",
              "      <td>7737459</td>\n",
              "      <td>1796660</td>\n",
              "      <td>2190696</td>\n",
              "      <td>17</td>\n",
              "    </tr>\n",
              "    <tr>\n",
              "      <th>Pennsylvania</th>\n",
              "      <td>12794885</td>\n",
              "      <td>20798</td>\n",
              "      <td>449320</td>\n",
              "      <td>9685118</td>\n",
              "      <td>1419582</td>\n",
              "      <td>971813</td>\n",
              "      <td>42</td>\n",
              "    </tr>\n",
              "    <tr>\n",
              "      <th>New York</th>\n",
              "      <td>19514849</td>\n",
              "      <td>76535</td>\n",
              "      <td>1674216</td>\n",
              "      <td>10766297</td>\n",
              "      <td>3002401</td>\n",
              "      <td>3720707</td>\n",
              "      <td>36</td>\n",
              "    </tr>\n",
              "    <tr>\n",
              "      <th>Florida</th>\n",
              "      <td>21216924</td>\n",
              "      <td>55655</td>\n",
              "      <td>590668</td>\n",
              "      <td>11331222</td>\n",
              "      <td>3381061</td>\n",
              "      <td>5468826</td>\n",
              "      <td>12</td>\n",
              "    </tr>\n",
              "    <tr>\n",
              "      <th>Texas</th>\n",
              "      <td>28635442</td>\n",
              "      <td>137921</td>\n",
              "      <td>1415664</td>\n",
              "      <td>11850477</td>\n",
              "      <td>3464424</td>\n",
              "      <td>11294257</td>\n",
              "      <td>48</td>\n",
              "    </tr>\n",
              "    <tr>\n",
              "      <th>California</th>\n",
              "      <td>39346023</td>\n",
              "      <td>311629</td>\n",
              "      <td>5834312</td>\n",
              "      <td>14365145</td>\n",
              "      <td>2250962</td>\n",
              "      <td>15380929</td>\n",
              "      <td>06</td>\n",
              "    </tr>\n",
              "  </tbody>\n",
              "</table>\n",
              "</div>\n",
              "      <button class=\"colab-df-convert\" onclick=\"convertToInteractive('df-8f311ef0-e89a-48b0-b4c8-a22079ef922c')\"\n",
              "              title=\"Convert this dataframe to an interactive table.\"\n",
              "              style=\"display:none;\">\n",
              "        \n",
              "  <svg xmlns=\"http://www.w3.org/2000/svg\" height=\"24px\"viewBox=\"0 0 24 24\"\n",
              "       width=\"24px\">\n",
              "    <path d=\"M0 0h24v24H0V0z\" fill=\"none\"/>\n",
              "    <path d=\"M18.56 5.44l.94 2.06.94-2.06 2.06-.94-2.06-.94-.94-2.06-.94 2.06-2.06.94zm-11 1L8.5 8.5l.94-2.06 2.06-.94-2.06-.94L8.5 2.5l-.94 2.06-2.06.94zm10 10l.94 2.06.94-2.06 2.06-.94-2.06-.94-.94-2.06-.94 2.06-2.06.94z\"/><path d=\"M17.41 7.96l-1.37-1.37c-.4-.4-.92-.59-1.43-.59-.52 0-1.04.2-1.43.59L10.3 9.45l-7.72 7.72c-.78.78-.78 2.05 0 2.83L4 21.41c.39.39.9.59 1.41.59.51 0 1.02-.2 1.41-.59l7.78-7.78 2.81-2.81c.8-.78.8-2.07 0-2.86zM5.41 20L4 18.59l7.72-7.72 1.47 1.35L5.41 20z\"/>\n",
              "  </svg>\n",
              "      </button>\n",
              "      \n",
              "  <style>\n",
              "    .colab-df-container {\n",
              "      display:flex;\n",
              "      flex-wrap:wrap;\n",
              "      gap: 12px;\n",
              "    }\n",
              "\n",
              "    .colab-df-convert {\n",
              "      background-color: #E8F0FE;\n",
              "      border: none;\n",
              "      border-radius: 50%;\n",
              "      cursor: pointer;\n",
              "      display: none;\n",
              "      fill: #1967D2;\n",
              "      height: 32px;\n",
              "      padding: 0 0 0 0;\n",
              "      width: 32px;\n",
              "    }\n",
              "\n",
              "    .colab-df-convert:hover {\n",
              "      background-color: #E2EBFA;\n",
              "      box-shadow: 0px 1px 2px rgba(60, 64, 67, 0.3), 0px 1px 3px 1px rgba(60, 64, 67, 0.15);\n",
              "      fill: #174EA6;\n",
              "    }\n",
              "\n",
              "    [theme=dark] .colab-df-convert {\n",
              "      background-color: #3B4455;\n",
              "      fill: #D2E3FC;\n",
              "    }\n",
              "\n",
              "    [theme=dark] .colab-df-convert:hover {\n",
              "      background-color: #434B5C;\n",
              "      box-shadow: 0px 1px 3px 1px rgba(0, 0, 0, 0.15);\n",
              "      filter: drop-shadow(0px 1px 2px rgba(0, 0, 0, 0.3));\n",
              "      fill: #FFFFFF;\n",
              "    }\n",
              "  </style>\n",
              "\n",
              "      <script>\n",
              "        const buttonEl =\n",
              "          document.querySelector('#df-8f311ef0-e89a-48b0-b4c8-a22079ef922c button.colab-df-convert');\n",
              "        buttonEl.style.display =\n",
              "          google.colab.kernel.accessAllowed ? 'block' : 'none';\n",
              "\n",
              "        async function convertToInteractive(key) {\n",
              "          const element = document.querySelector('#df-8f311ef0-e89a-48b0-b4c8-a22079ef922c');\n",
              "          const dataTable =\n",
              "            await google.colab.kernel.invokeFunction('convertToInteractive',\n",
              "                                                     [key], {});\n",
              "          if (!dataTable) return;\n",
              "\n",
              "          const docLinkHtml = 'Like what you see? Visit the ' +\n",
              "            '<a target=\"_blank\" href=https://colab.research.google.com/notebooks/data_table.ipynb>data table notebook</a>'\n",
              "            + ' to learn more about interactive tables.';\n",
              "          element.innerHTML = '';\n",
              "          dataTable['output_type'] = 'display_data';\n",
              "          await google.colab.output.renderOutput(dataTable, element);\n",
              "          const docLink = document.createElement('div');\n",
              "          docLink.innerHTML = docLinkHtml;\n",
              "          element.appendChild(docLink);\n",
              "        }\n",
              "      </script>\n",
              "    </div>\n",
              "  </div>\n",
              "  "
            ],
            "text/plain": [
              "                      Total Population  Native    Asian     White    Black  \\\n",
              "State Name                                                                   \n",
              "Wyoming                         581348   13117     4892    485816     5079   \n",
              "Vermont                         624340    1873    10126    576601     7964   \n",
              "District of Columbia            701974    2438    28762    257792   318631   \n",
              "Alaska                          736990  107298    47289    439979    23894   \n",
              "North Dakota                    760394   39165    11979    636284    23959   \n",
              "South Dakota                    879336   74975    12413    715328    18836   \n",
              "Delaware                        967679    3560    38528    595236   212795   \n",
              "Rhode Island                   1057798    4344    36536    755708    69196   \n",
              "Montana                        1061705   65523     8664    908782     5919   \n",
              "Maine                          1340825    8894    15270   1242113    18635   \n",
              "New Hampshire                  1355244    2197    36581   1214029    21045   \n",
              "Hawaii                         1420074    3508   534519    306360    26717   \n",
              "Idaho                          1754367   23029    24501   1427529    11536   \n",
              "West Virginia                  1807426    3146    14228   1654681    64285   \n",
              "Nebraska                       1923826   16875    47944   1507127    91896   \n",
              "New Mexico                     2097021  195166    33695    769139    43476   \n",
              "Kansas                         2912619   22278    87093   2193988   165837   \n",
              "Mississippi                    2981835   13951    29742   1680938  1123545   \n",
              "Arkansas                       3011873   19146    46130   2155099   457840   \n",
              "Nevada                         3030281   37715   252314   1460159   282722   \n",
              "Iowa                           3150011   10538    79296   2677946   117035   \n",
              "Utah                           3151239   33222    73190   2455192    38059   \n",
              "Puerto Rico                    3255642    5697     5882     31715   367906   \n",
              "Connecticut                    3570549    9079   163262   2357942   382161   \n",
              "Oklahoma                       3949342  303791    87033   2563119   287856   \n",
              "Oregon                         4176346   45683   187801   3128494    79117   \n",
              "Kentucky                       4461952    8364    68139   3751738   361230   \n",
              "Louisiana                      4664616   25938    80930   2720638  1500633   \n",
              "Alabama                        4893186   24764    67909   3192147  1301319   \n",
              "South Carolina                 5091517   16951    83573   3230111  1346560   \n",
              "Minnesota                      5600166   54558   275242   4422490   359817   \n",
              "Colorado                       5684926   53671   181733   3837450   235692   \n",
              "Wisconsin                      5806975   48674   163396   4681072   367889   \n",
              "Maryland                       6037624   15860   384429   3028494  1803128   \n",
              "Missouri                       6124160   24274   123810   4826943   698043   \n",
              "Indiana                        6696893   14030   158705   5253453   631923   \n",
              "Tennessee                      6772268   17178   122897   4969371  1128806   \n",
              "Massachusetts                  6873003   13999   466044   4865022   513369   \n",
              "Arizona                        7174064  311014   239190   3883722   325105   \n",
              "Washington                     7512465   91766   662902   5067909   290245   \n",
              "Virginia                       8509358   22553   570398   5209336  1620649   \n",
              "New Jersey                     8885418   22288   857873   4858807  1189681   \n",
              "Michigan                       9973907   50035   316844   7428622  1360149   \n",
              "North Carolina                10386227  120272   308958   6503292  2217522   \n",
              "Georgia                       10516579   34962   434603   5478289  3319844   \n",
              "Ohio                          11675275   20442   268527   9141370  1442655   \n",
              "Illinois                      12716164   33972   709567   7737459  1796660   \n",
              "Pennsylvania                  12794885   20798   449320   9685118  1419582   \n",
              "New York                      19514849   76535  1674216  10766297  3002401   \n",
              "Florida                       21216924   55655   590668  11331222  3381061   \n",
              "Texas                         28635442  137921  1415664  11850477  3464424   \n",
              "California                    39346023  311629  5834312  14365145  2250962   \n",
              "\n",
              "                      Hispanic state  \n",
              "State Name                            \n",
              "Wyoming                  58854    56  \n",
              "Vermont                  12518    50  \n",
              "District of Columbia     77981    11  \n",
              "Alaska                   53059    02  \n",
              "North Dakota             30325    38  \n",
              "South Dakota             36088    46  \n",
              "Delaware                 91350    10  \n",
              "Rhode Island            168007    44  \n",
              "Montana                  41501    30  \n",
              "Maine                    23143    23  \n",
              "New Hampshire            52792    33  \n",
              "Hawaii                  152566    15  \n",
              "Idaho                   222967    16  \n",
              "West Virginia            28679    54  \n",
              "Nebraska                214952    31  \n",
              "New Mexico             1031788    35  \n",
              "Kansas                  351602    20  \n",
              "Mississippi              94342    28  \n",
              "Arkansas                229629    05  \n",
              "Nevada                  875798    32  \n",
              "Iowa                    194407    19  \n",
              "Utah                    446067    49  \n",
              "Puerto Rico            3212625    72  \n",
              "Connecticut             587212    09  \n",
              "Oklahoma                431467    40  \n",
              "Oregon                  552279    41  \n",
              "Kentucky                167949    21  \n",
              "Louisiana               243372    22  \n",
              "Alabama                 212951    01  \n",
              "South Carolina          296897    45  \n",
              "Minnesota               307675    27  \n",
              "Colorado               1231126    08  \n",
              "Wisconsin               408267    55  \n",
              "Maryland                619418    24  \n",
              "Missouri                262677    29  \n",
              "Indiana                 475475    18  \n",
              "Tennessee               377162    47  \n",
              "Massachusetts           828140    25  \n",
              "Arizona                2260690    04  \n",
              "Washington              971522    53  \n",
              "Virginia                810770    51  \n",
              "New Jersey             1815078    34  \n",
              "Michigan                521203    26  \n",
              "North Carolina          991051    37  \n",
              "Georgia                1013057    13  \n",
              "Ohio                    459939    39  \n",
              "Illinois               2190696    17  \n",
              "Pennsylvania            971813    42  \n",
              "New York               3720707    36  \n",
              "Florida                5468826    12  \n",
              "Texas                 11294257    48  \n",
              "California            15380929    06  "
            ]
          },
          "execution_count": 15,
          "metadata": {},
          "output_type": "execute_result"
        }
      ],
      "source": [
        "census_DataFrame.sort_values(by='Total Population')"
      ]
    },
    {
      "cell_type": "code",
      "execution_count": null,
      "metadata": {
        "id": "vK1meqZe9bNJ"
      },
      "outputs": [],
      "source": [
        "census_DataFrame['Total Population'] = pd.to_numeric(census_DataFrame['Total Population'], errors='coerce')\n"
      ]
    },
    {
      "cell_type": "code",
      "execution_count": null,
      "metadata": {
        "id": "87kmqQAcj79c"
      },
      "outputs": [],
      "source": [
        "census_DataFrame = census_DataFrame.assign(\n",
        "    Others = census_DataFrame['Total Population'] - \n",
        "    census_DataFrame[['Asian', 'Black', 'White', 'Hispanic', 'Native']].sum(axis=1)\n",
        ")\n"
      ]
    },
    {
      "cell_type": "code",
      "execution_count": null,
      "metadata": {
        "colab": {
          "base_uri": "https://localhost:8080/",
          "height": 438
        },
        "id": "NdtTky1Kj-Rm",
        "outputId": "84f4dd03-a273-477a-93a8-07d9dfa4e095"
      },
      "outputs": [
        {
          "data": {
            "text/html": [
              "\n",
              "  <div id=\"df-512ece8c-004e-48ea-afda-e1aedab82e29\">\n",
              "    <div class=\"colab-df-container\">\n",
              "      <div>\n",
              "<style scoped>\n",
              "    .dataframe tbody tr th:only-of-type {\n",
              "        vertical-align: middle;\n",
              "    }\n",
              "\n",
              "    .dataframe tbody tr th {\n",
              "        vertical-align: top;\n",
              "    }\n",
              "\n",
              "    .dataframe thead th {\n",
              "        text-align: right;\n",
              "    }\n",
              "</style>\n",
              "<table border=\"1\" class=\"dataframe\">\n",
              "  <thead>\n",
              "    <tr style=\"text-align: right;\">\n",
              "      <th></th>\n",
              "      <th>Total Population</th>\n",
              "      <th>Native</th>\n",
              "      <th>Asian</th>\n",
              "      <th>White</th>\n",
              "      <th>Black</th>\n",
              "      <th>Hispanic</th>\n",
              "      <th>state</th>\n",
              "      <th>Others</th>\n",
              "    </tr>\n",
              "    <tr>\n",
              "      <th>State Name</th>\n",
              "      <th></th>\n",
              "      <th></th>\n",
              "      <th></th>\n",
              "      <th></th>\n",
              "      <th></th>\n",
              "      <th></th>\n",
              "      <th></th>\n",
              "      <th></th>\n",
              "    </tr>\n",
              "  </thead>\n",
              "  <tbody>\n",
              "    <tr>\n",
              "      <th>Pennsylvania</th>\n",
              "      <td>12794885</td>\n",
              "      <td>20798</td>\n",
              "      <td>449320</td>\n",
              "      <td>9685118</td>\n",
              "      <td>1419582</td>\n",
              "      <td>971813</td>\n",
              "      <td>42</td>\n",
              "      <td>248254</td>\n",
              "    </tr>\n",
              "    <tr>\n",
              "      <th>California</th>\n",
              "      <td>39346023</td>\n",
              "      <td>311629</td>\n",
              "      <td>5834312</td>\n",
              "      <td>14365145</td>\n",
              "      <td>2250962</td>\n",
              "      <td>15380929</td>\n",
              "      <td>06</td>\n",
              "      <td>1203046</td>\n",
              "    </tr>\n",
              "    <tr>\n",
              "      <th>West Virginia</th>\n",
              "      <td>1807426</td>\n",
              "      <td>3146</td>\n",
              "      <td>14228</td>\n",
              "      <td>1654681</td>\n",
              "      <td>64285</td>\n",
              "      <td>28679</td>\n",
              "      <td>54</td>\n",
              "      <td>42407</td>\n",
              "    </tr>\n",
              "    <tr>\n",
              "      <th>Utah</th>\n",
              "      <td>3151239</td>\n",
              "      <td>33222</td>\n",
              "      <td>73190</td>\n",
              "      <td>2455192</td>\n",
              "      <td>38059</td>\n",
              "      <td>446067</td>\n",
              "      <td>49</td>\n",
              "      <td>105509</td>\n",
              "    </tr>\n",
              "    <tr>\n",
              "      <th>New York</th>\n",
              "      <td>19514849</td>\n",
              "      <td>76535</td>\n",
              "      <td>1674216</td>\n",
              "      <td>10766297</td>\n",
              "      <td>3002401</td>\n",
              "      <td>3720707</td>\n",
              "      <td>36</td>\n",
              "      <td>274693</td>\n",
              "    </tr>\n",
              "    <tr>\n",
              "      <th>District of Columbia</th>\n",
              "      <td>701974</td>\n",
              "      <td>2438</td>\n",
              "      <td>28762</td>\n",
              "      <td>257792</td>\n",
              "      <td>318631</td>\n",
              "      <td>77981</td>\n",
              "      <td>11</td>\n",
              "      <td>16370</td>\n",
              "    </tr>\n",
              "    <tr>\n",
              "      <th>Alaska</th>\n",
              "      <td>736990</td>\n",
              "      <td>107298</td>\n",
              "      <td>47289</td>\n",
              "      <td>439979</td>\n",
              "      <td>23894</td>\n",
              "      <td>53059</td>\n",
              "      <td>02</td>\n",
              "      <td>65471</td>\n",
              "    </tr>\n",
              "    <tr>\n",
              "      <th>Florida</th>\n",
              "      <td>21216924</td>\n",
              "      <td>55655</td>\n",
              "      <td>590668</td>\n",
              "      <td>11331222</td>\n",
              "      <td>3381061</td>\n",
              "      <td>5468826</td>\n",
              "      <td>12</td>\n",
              "      <td>389492</td>\n",
              "    </tr>\n",
              "    <tr>\n",
              "      <th>South Carolina</th>\n",
              "      <td>5091517</td>\n",
              "      <td>16951</td>\n",
              "      <td>83573</td>\n",
              "      <td>3230111</td>\n",
              "      <td>1346560</td>\n",
              "      <td>296897</td>\n",
              "      <td>45</td>\n",
              "      <td>117425</td>\n",
              "    </tr>\n",
              "    <tr>\n",
              "      <th>North Dakota</th>\n",
              "      <td>760394</td>\n",
              "      <td>39165</td>\n",
              "      <td>11979</td>\n",
              "      <td>636284</td>\n",
              "      <td>23959</td>\n",
              "      <td>30325</td>\n",
              "      <td>38</td>\n",
              "      <td>18682</td>\n",
              "    </tr>\n",
              "  </tbody>\n",
              "</table>\n",
              "</div>\n",
              "      <button class=\"colab-df-convert\" onclick=\"convertToInteractive('df-512ece8c-004e-48ea-afda-e1aedab82e29')\"\n",
              "              title=\"Convert this dataframe to an interactive table.\"\n",
              "              style=\"display:none;\">\n",
              "        \n",
              "  <svg xmlns=\"http://www.w3.org/2000/svg\" height=\"24px\"viewBox=\"0 0 24 24\"\n",
              "       width=\"24px\">\n",
              "    <path d=\"M0 0h24v24H0V0z\" fill=\"none\"/>\n",
              "    <path d=\"M18.56 5.44l.94 2.06.94-2.06 2.06-.94-2.06-.94-.94-2.06-.94 2.06-2.06.94zm-11 1L8.5 8.5l.94-2.06 2.06-.94-2.06-.94L8.5 2.5l-.94 2.06-2.06.94zm10 10l.94 2.06.94-2.06 2.06-.94-2.06-.94-.94-2.06-.94 2.06-2.06.94z\"/><path d=\"M17.41 7.96l-1.37-1.37c-.4-.4-.92-.59-1.43-.59-.52 0-1.04.2-1.43.59L10.3 9.45l-7.72 7.72c-.78.78-.78 2.05 0 2.83L4 21.41c.39.39.9.59 1.41.59.51 0 1.02-.2 1.41-.59l7.78-7.78 2.81-2.81c.8-.78.8-2.07 0-2.86zM5.41 20L4 18.59l7.72-7.72 1.47 1.35L5.41 20z\"/>\n",
              "  </svg>\n",
              "      </button>\n",
              "      \n",
              "  <style>\n",
              "    .colab-df-container {\n",
              "      display:flex;\n",
              "      flex-wrap:wrap;\n",
              "      gap: 12px;\n",
              "    }\n",
              "\n",
              "    .colab-df-convert {\n",
              "      background-color: #E8F0FE;\n",
              "      border: none;\n",
              "      border-radius: 50%;\n",
              "      cursor: pointer;\n",
              "      display: none;\n",
              "      fill: #1967D2;\n",
              "      height: 32px;\n",
              "      padding: 0 0 0 0;\n",
              "      width: 32px;\n",
              "    }\n",
              "\n",
              "    .colab-df-convert:hover {\n",
              "      background-color: #E2EBFA;\n",
              "      box-shadow: 0px 1px 2px rgba(60, 64, 67, 0.3), 0px 1px 3px 1px rgba(60, 64, 67, 0.15);\n",
              "      fill: #174EA6;\n",
              "    }\n",
              "\n",
              "    [theme=dark] .colab-df-convert {\n",
              "      background-color: #3B4455;\n",
              "      fill: #D2E3FC;\n",
              "    }\n",
              "\n",
              "    [theme=dark] .colab-df-convert:hover {\n",
              "      background-color: #434B5C;\n",
              "      box-shadow: 0px 1px 3px 1px rgba(0, 0, 0, 0.15);\n",
              "      filter: drop-shadow(0px 1px 2px rgba(0, 0, 0, 0.3));\n",
              "      fill: #FFFFFF;\n",
              "    }\n",
              "  </style>\n",
              "\n",
              "      <script>\n",
              "        const buttonEl =\n",
              "          document.querySelector('#df-512ece8c-004e-48ea-afda-e1aedab82e29 button.colab-df-convert');\n",
              "        buttonEl.style.display =\n",
              "          google.colab.kernel.accessAllowed ? 'block' : 'none';\n",
              "\n",
              "        async function convertToInteractive(key) {\n",
              "          const element = document.querySelector('#df-512ece8c-004e-48ea-afda-e1aedab82e29');\n",
              "          const dataTable =\n",
              "            await google.colab.kernel.invokeFunction('convertToInteractive',\n",
              "                                                     [key], {});\n",
              "          if (!dataTable) return;\n",
              "\n",
              "          const docLinkHtml = 'Like what you see? Visit the ' +\n",
              "            '<a target=\"_blank\" href=https://colab.research.google.com/notebooks/data_table.ipynb>data table notebook</a>'\n",
              "            + ' to learn more about interactive tables.';\n",
              "          element.innerHTML = '';\n",
              "          dataTable['output_type'] = 'display_data';\n",
              "          await google.colab.output.renderOutput(dataTable, element);\n",
              "          const docLink = document.createElement('div');\n",
              "          docLink.innerHTML = docLinkHtml;\n",
              "          element.appendChild(docLink);\n",
              "        }\n",
              "      </script>\n",
              "    </div>\n",
              "  </div>\n",
              "  "
            ],
            "text/plain": [
              "                      Total Population  Native    Asian     White    Black  \\\n",
              "State Name                                                                   \n",
              "Pennsylvania                  12794885   20798   449320   9685118  1419582   \n",
              "California                    39346023  311629  5834312  14365145  2250962   \n",
              "West Virginia                  1807426    3146    14228   1654681    64285   \n",
              "Utah                           3151239   33222    73190   2455192    38059   \n",
              "New York                      19514849   76535  1674216  10766297  3002401   \n",
              "District of Columbia            701974    2438    28762    257792   318631   \n",
              "Alaska                          736990  107298    47289    439979    23894   \n",
              "Florida                       21216924   55655   590668  11331222  3381061   \n",
              "South Carolina                 5091517   16951    83573   3230111  1346560   \n",
              "North Dakota                    760394   39165    11979    636284    23959   \n",
              "\n",
              "                      Hispanic state   Others  \n",
              "State Name                                     \n",
              "Pennsylvania            971813    42   248254  \n",
              "California            15380929    06  1203046  \n",
              "West Virginia            28679    54    42407  \n",
              "Utah                    446067    49   105509  \n",
              "New York               3720707    36   274693  \n",
              "District of Columbia     77981    11    16370  \n",
              "Alaska                   53059    02    65471  \n",
              "Florida                5468826    12   389492  \n",
              "South Carolina          296897    45   117425  \n",
              "North Dakota             30325    38    18682  "
            ]
          },
          "execution_count": 18,
          "metadata": {},
          "output_type": "execute_result"
        }
      ],
      "source": [
        "census_DataFrame.head(10)"
      ]
    },
    {
      "cell_type": "code",
      "execution_count": null,
      "metadata": {
        "id": "honMI2iRkCd3"
      },
      "outputs": [],
      "source": [
        "population = census_DataFrame['Total Population']"
      ]
    },
    {
      "cell_type": "code",
      "execution_count": null,
      "metadata": {
        "colab": {
          "base_uri": "https://localhost:8080/",
          "height": 1000
        },
        "id": "nbr760zRkarz",
        "outputId": "a74a9827-75d8-4855-915d-68d1417300d7"
      },
      "outputs": [
        {
          "data": {
            "image/svg+xml": "<?xml version=\"1.0\" encoding=\"utf-8\" standalone=\"no\"?>\n<!DOCTYPE svg PUBLIC \"-//W3C//DTD SVG 1.1//EN\"\n  \"http://www.w3.org/Graphics/SVG/1.1/DTD/svg11.dtd\">\n<svg xmlns:xlink=\"http://www.w3.org/1999/xlink\" width=\"909.70125pt\" height=\"785.249844pt\" viewBox=\"0 0 909.70125 785.249844\" xmlns=\"http://www.w3.org/2000/svg\" version=\"1.1\">\n <metadata>\n  <rdf:RDF xmlns:dc=\"http://purl.org/dc/elements/1.1/\" xmlns:cc=\"http://creativecommons.org/ns#\" xmlns:rdf=\"http://www.w3.org/1999/02/22-rdf-syntax-ns#\">\n   <cc:Work>\n    <dc:type rdf:resource=\"http://purl.org/dc/dcmitype/StillImage\"/>\n    <dc:date>2023-05-01T22:47:34.909202</dc:date>\n    <dc:format>image/svg+xml</dc:format>\n    <dc:creator>\n     <cc:Agent>\n      <dc:title>Matplotlib v3.7.1, https://matplotlib.org/</dc:title>\n     </cc:Agent>\n    </dc:creator>\n   </cc:Work>\n  </rdf:RDF>\n </metadata>\n <defs>\n  <style type=\"text/css\">*{stroke-linejoin: round; stroke-linecap: butt}</style>\n </defs>\n <g id=\"figure_1\">\n  <g id=\"patch_1\">\n   <path d=\"M 0 785.249844 \nL 909.70125 785.249844 \nL 909.70125 -0 \nL 0 -0 \nz\n\" style=\"fill: #ffffff\"/>\n  </g>\n  <g id=\"axes_1\">\n   <g id=\"patch_2\">\n    <path d=\"M 65.50125 586.596094 \nL 902.50125 586.596094 \nL 902.50125 32.196094 \nL 65.50125 32.196094 \nz\n\" style=\"fill: #ffffff\"/>\n   </g>\n   <g id=\"matplotlib.axis_1\">\n    <g id=\"xtick_1\">\n     <g id=\"line2d_1\">\n      <path d=\"M 73.549327 586.596094 \nL 73.549327 32.196094 \n\" clip-path=\"url(#p8a034ec986)\" style=\"fill: none; stroke: #cccccc; stroke-linecap: round\"/>\n     </g>\n     <g id=\"text_1\">\n      <!-- Pennsylvania -->\n      <g style=\"fill: #262626\" transform=\"translate(77.964327 701.203594) rotate(-90) scale(0.16 -0.16)\">\n       <defs>\n        <path id=\"DejaVuSans-50\" d=\"M 1259 4147 \nL 1259 2394 \nL 2053 2394 \nQ 2494 2394 2734 2622 \nQ 2975 2850 2975 3272 \nQ 2975 3691 2734 3919 \nQ 2494 4147 2053 4147 \nL 1259 4147 \nz\nM 628 4666 \nL 2053 4666 \nQ 2838 4666 3239 4311 \nQ 3641 3956 3641 3272 \nQ 3641 2581 3239 2228 \nQ 2838 1875 2053 1875 \nL 1259 1875 \nL 1259 0 \nL 628 0 \nL 628 4666 \nz\n\" transform=\"scale(0.015625)\"/>\n        <path id=\"DejaVuSans-65\" d=\"M 3597 1894 \nL 3597 1613 \nL 953 1613 \nQ 991 1019 1311 708 \nQ 1631 397 2203 397 \nQ 2534 397 2845 478 \nQ 3156 559 3463 722 \nL 3463 178 \nQ 3153 47 2828 -22 \nQ 2503 -91 2169 -91 \nQ 1331 -91 842 396 \nQ 353 884 353 1716 \nQ 353 2575 817 3079 \nQ 1281 3584 2069 3584 \nQ 2775 3584 3186 3129 \nQ 3597 2675 3597 1894 \nz\nM 3022 2063 \nQ 3016 2534 2758 2815 \nQ 2500 3097 2075 3097 \nQ 1594 3097 1305 2825 \nQ 1016 2553 972 2059 \nL 3022 2063 \nz\n\" transform=\"scale(0.015625)\"/>\n        <path id=\"DejaVuSans-6e\" d=\"M 3513 2113 \nL 3513 0 \nL 2938 0 \nL 2938 2094 \nQ 2938 2591 2744 2837 \nQ 2550 3084 2163 3084 \nQ 1697 3084 1428 2787 \nQ 1159 2491 1159 1978 \nL 1159 0 \nL 581 0 \nL 581 3500 \nL 1159 3500 \nL 1159 2956 \nQ 1366 3272 1645 3428 \nQ 1925 3584 2291 3584 \nQ 2894 3584 3203 3211 \nQ 3513 2838 3513 2113 \nz\n\" transform=\"scale(0.015625)\"/>\n        <path id=\"DejaVuSans-73\" d=\"M 2834 3397 \nL 2834 2853 \nQ 2591 2978 2328 3040 \nQ 2066 3103 1784 3103 \nQ 1356 3103 1142 2972 \nQ 928 2841 928 2578 \nQ 928 2378 1081 2264 \nQ 1234 2150 1697 2047 \nL 1894 2003 \nQ 2506 1872 2764 1633 \nQ 3022 1394 3022 966 \nQ 3022 478 2636 193 \nQ 2250 -91 1575 -91 \nQ 1294 -91 989 -36 \nQ 684 19 347 128 \nL 347 722 \nQ 666 556 975 473 \nQ 1284 391 1588 391 \nQ 1994 391 2212 530 \nQ 2431 669 2431 922 \nQ 2431 1156 2273 1281 \nQ 2116 1406 1581 1522 \nL 1381 1569 \nQ 847 1681 609 1914 \nQ 372 2147 372 2553 \nQ 372 3047 722 3315 \nQ 1072 3584 1716 3584 \nQ 2034 3584 2315 3537 \nQ 2597 3491 2834 3397 \nz\n\" transform=\"scale(0.015625)\"/>\n        <path id=\"DejaVuSans-79\" d=\"M 2059 -325 \nQ 1816 -950 1584 -1140 \nQ 1353 -1331 966 -1331 \nL 506 -1331 \nL 506 -850 \nL 844 -850 \nQ 1081 -850 1212 -737 \nQ 1344 -625 1503 -206 \nL 1606 56 \nL 191 3500 \nL 800 3500 \nL 1894 763 \nL 2988 3500 \nL 3597 3500 \nL 2059 -325 \nz\n\" transform=\"scale(0.015625)\"/>\n        <path id=\"DejaVuSans-6c\" d=\"M 603 4863 \nL 1178 4863 \nL 1178 0 \nL 603 0 \nL 603 4863 \nz\n\" transform=\"scale(0.015625)\"/>\n        <path id=\"DejaVuSans-76\" d=\"M 191 3500 \nL 800 3500 \nL 1894 563 \nL 2988 3500 \nL 3597 3500 \nL 2284 0 \nL 1503 0 \nL 191 3500 \nz\n\" transform=\"scale(0.015625)\"/>\n        <path id=\"DejaVuSans-61\" d=\"M 2194 1759 \nQ 1497 1759 1228 1600 \nQ 959 1441 959 1056 \nQ 959 750 1161 570 \nQ 1363 391 1709 391 \nQ 2188 391 2477 730 \nQ 2766 1069 2766 1631 \nL 2766 1759 \nL 2194 1759 \nz\nM 3341 1997 \nL 3341 0 \nL 2766 0 \nL 2766 531 \nQ 2569 213 2275 61 \nQ 1981 -91 1556 -91 \nQ 1019 -91 701 211 \nQ 384 513 384 1019 \nQ 384 1609 779 1909 \nQ 1175 2209 1959 2209 \nL 2766 2209 \nL 2766 2266 \nQ 2766 2663 2505 2880 \nQ 2244 3097 1772 3097 \nQ 1472 3097 1187 3025 \nQ 903 2953 641 2809 \nL 641 3341 \nQ 956 3463 1253 3523 \nQ 1550 3584 1831 3584 \nQ 2591 3584 2966 3190 \nQ 3341 2797 3341 1997 \nz\n\" transform=\"scale(0.015625)\"/>\n        <path id=\"DejaVuSans-69\" d=\"M 603 3500 \nL 1178 3500 \nL 1178 0 \nL 603 0 \nL 603 3500 \nz\nM 603 4863 \nL 1178 4863 \nL 1178 4134 \nL 603 4134 \nL 603 4863 \nz\n\" transform=\"scale(0.015625)\"/>\n       </defs>\n       <use xlink:href=\"#DejaVuSans-50\"/>\n       <use xlink:href=\"#DejaVuSans-65\" x=\"56.677734\"/>\n       <use xlink:href=\"#DejaVuSans-6e\" x=\"118.201172\"/>\n       <use xlink:href=\"#DejaVuSans-6e\" x=\"181.580078\"/>\n       <use xlink:href=\"#DejaVuSans-73\" x=\"244.958984\"/>\n       <use xlink:href=\"#DejaVuSans-79\" x=\"297.058594\"/>\n       <use xlink:href=\"#DejaVuSans-6c\" x=\"356.238281\"/>\n       <use xlink:href=\"#DejaVuSans-76\" x=\"384.021484\"/>\n       <use xlink:href=\"#DejaVuSans-61\" x=\"443.201172\"/>\n       <use xlink:href=\"#DejaVuSans-6e\" x=\"504.480469\"/>\n       <use xlink:href=\"#DejaVuSans-69\" x=\"567.859375\"/>\n       <use xlink:href=\"#DejaVuSans-61\" x=\"595.642578\"/>\n      </g>\n     </g>\n    </g>\n    <g id=\"xtick_2\">\n     <g id=\"line2d_2\">\n      <path d=\"M 89.645481 586.596094 \nL 89.645481 32.196094 \n\" clip-path=\"url(#p8a034ec986)\" style=\"fill: none; stroke: #cccccc; stroke-linecap: round\"/>\n     </g>\n     <g id=\"text_2\">\n      <!-- California -->\n      <g style=\"fill: #262626\" transform=\"translate(94.060481 672.073594) rotate(-90) scale(0.16 -0.16)\">\n       <defs>\n        <path id=\"DejaVuSans-43\" d=\"M 4122 4306 \nL 4122 3641 \nQ 3803 3938 3442 4084 \nQ 3081 4231 2675 4231 \nQ 1875 4231 1450 3742 \nQ 1025 3253 1025 2328 \nQ 1025 1406 1450 917 \nQ 1875 428 2675 428 \nQ 3081 428 3442 575 \nQ 3803 722 4122 1019 \nL 4122 359 \nQ 3791 134 3420 21 \nQ 3050 -91 2638 -91 \nQ 1578 -91 968 557 \nQ 359 1206 359 2328 \nQ 359 3453 968 4101 \nQ 1578 4750 2638 4750 \nQ 3056 4750 3426 4639 \nQ 3797 4528 4122 4306 \nz\n\" transform=\"scale(0.015625)\"/>\n        <path id=\"DejaVuSans-66\" d=\"M 2375 4863 \nL 2375 4384 \nL 1825 4384 \nQ 1516 4384 1395 4259 \nQ 1275 4134 1275 3809 \nL 1275 3500 \nL 2222 3500 \nL 2222 3053 \nL 1275 3053 \nL 1275 0 \nL 697 0 \nL 697 3053 \nL 147 3053 \nL 147 3500 \nL 697 3500 \nL 697 3744 \nQ 697 4328 969 4595 \nQ 1241 4863 1831 4863 \nL 2375 4863 \nz\n\" transform=\"scale(0.015625)\"/>\n        <path id=\"DejaVuSans-6f\" d=\"M 1959 3097 \nQ 1497 3097 1228 2736 \nQ 959 2375 959 1747 \nQ 959 1119 1226 758 \nQ 1494 397 1959 397 \nQ 2419 397 2687 759 \nQ 2956 1122 2956 1747 \nQ 2956 2369 2687 2733 \nQ 2419 3097 1959 3097 \nz\nM 1959 3584 \nQ 2709 3584 3137 3096 \nQ 3566 2609 3566 1747 \nQ 3566 888 3137 398 \nQ 2709 -91 1959 -91 \nQ 1206 -91 779 398 \nQ 353 888 353 1747 \nQ 353 2609 779 3096 \nQ 1206 3584 1959 3584 \nz\n\" transform=\"scale(0.015625)\"/>\n        <path id=\"DejaVuSans-72\" d=\"M 2631 2963 \nQ 2534 3019 2420 3045 \nQ 2306 3072 2169 3072 \nQ 1681 3072 1420 2755 \nQ 1159 2438 1159 1844 \nL 1159 0 \nL 581 0 \nL 581 3500 \nL 1159 3500 \nL 1159 2956 \nQ 1341 3275 1631 3429 \nQ 1922 3584 2338 3584 \nQ 2397 3584 2469 3576 \nQ 2541 3569 2628 3553 \nL 2631 2963 \nz\n\" transform=\"scale(0.015625)\"/>\n       </defs>\n       <use xlink:href=\"#DejaVuSans-43\"/>\n       <use xlink:href=\"#DejaVuSans-61\" x=\"69.824219\"/>\n       <use xlink:href=\"#DejaVuSans-6c\" x=\"131.103516\"/>\n       <use xlink:href=\"#DejaVuSans-69\" x=\"158.886719\"/>\n       <use xlink:href=\"#DejaVuSans-66\" x=\"186.669922\"/>\n       <use xlink:href=\"#DejaVuSans-6f\" x=\"221.875\"/>\n       <use xlink:href=\"#DejaVuSans-72\" x=\"283.056641\"/>\n       <use xlink:href=\"#DejaVuSans-6e\" x=\"322.419922\"/>\n       <use xlink:href=\"#DejaVuSans-69\" x=\"385.798828\"/>\n       <use xlink:href=\"#DejaVuSans-61\" x=\"413.582031\"/>\n      </g>\n     </g>\n    </g>\n    <g id=\"xtick_3\">\n     <g id=\"line2d_3\">\n      <path d=\"M 105.741635 586.596094 \nL 105.741635 32.196094 \n\" clip-path=\"url(#p8a034ec986)\" style=\"fill: none; stroke: #cccccc; stroke-linecap: round\"/>\n     </g>\n     <g id=\"text_3\">\n      <!-- West Virginia -->\n      <g style=\"fill: #262626\" transform=\"translate(110.156635 700.833594) rotate(-90) scale(0.16 -0.16)\">\n       <defs>\n        <path id=\"DejaVuSans-57\" d=\"M 213 4666 \nL 850 4666 \nL 1831 722 \nL 2809 4666 \nL 3519 4666 \nL 4500 722 \nL 5478 4666 \nL 6119 4666 \nL 4947 0 \nL 4153 0 \nL 3169 4050 \nL 2175 0 \nL 1381 0 \nL 213 4666 \nz\n\" transform=\"scale(0.015625)\"/>\n        <path id=\"DejaVuSans-74\" d=\"M 1172 4494 \nL 1172 3500 \nL 2356 3500 \nL 2356 3053 \nL 1172 3053 \nL 1172 1153 \nQ 1172 725 1289 603 \nQ 1406 481 1766 481 \nL 2356 481 \nL 2356 0 \nL 1766 0 \nQ 1100 0 847 248 \nQ 594 497 594 1153 \nL 594 3053 \nL 172 3053 \nL 172 3500 \nL 594 3500 \nL 594 4494 \nL 1172 4494 \nz\n\" transform=\"scale(0.015625)\"/>\n        <path id=\"DejaVuSans-20\" transform=\"scale(0.015625)\"/>\n        <path id=\"DejaVuSans-56\" d=\"M 1831 0 \nL 50 4666 \nL 709 4666 \nL 2188 738 \nL 3669 4666 \nL 4325 4666 \nL 2547 0 \nL 1831 0 \nz\n\" transform=\"scale(0.015625)\"/>\n        <path id=\"DejaVuSans-67\" d=\"M 2906 1791 \nQ 2906 2416 2648 2759 \nQ 2391 3103 1925 3103 \nQ 1463 3103 1205 2759 \nQ 947 2416 947 1791 \nQ 947 1169 1205 825 \nQ 1463 481 1925 481 \nQ 2391 481 2648 825 \nQ 2906 1169 2906 1791 \nz\nM 3481 434 \nQ 3481 -459 3084 -895 \nQ 2688 -1331 1869 -1331 \nQ 1566 -1331 1297 -1286 \nQ 1028 -1241 775 -1147 \nL 775 -588 \nQ 1028 -725 1275 -790 \nQ 1522 -856 1778 -856 \nQ 2344 -856 2625 -561 \nQ 2906 -266 2906 331 \nL 2906 616 \nQ 2728 306 2450 153 \nQ 2172 0 1784 0 \nQ 1141 0 747 490 \nQ 353 981 353 1791 \nQ 353 2603 747 3093 \nQ 1141 3584 1784 3584 \nQ 2172 3584 2450 3431 \nQ 2728 3278 2906 2969 \nL 2906 3500 \nL 3481 3500 \nL 3481 434 \nz\n\" transform=\"scale(0.015625)\"/>\n       </defs>\n       <use xlink:href=\"#DejaVuSans-57\"/>\n       <use xlink:href=\"#DejaVuSans-65\" x=\"93.001953\"/>\n       <use xlink:href=\"#DejaVuSans-73\" x=\"154.525391\"/>\n       <use xlink:href=\"#DejaVuSans-74\" x=\"206.625\"/>\n       <use xlink:href=\"#DejaVuSans-20\" x=\"245.833984\"/>\n       <use xlink:href=\"#DejaVuSans-56\" x=\"277.621094\"/>\n       <use xlink:href=\"#DejaVuSans-69\" x=\"343.779297\"/>\n       <use xlink:href=\"#DejaVuSans-72\" x=\"371.5625\"/>\n       <use xlink:href=\"#DejaVuSans-67\" x=\"410.925781\"/>\n       <use xlink:href=\"#DejaVuSans-69\" x=\"474.402344\"/>\n       <use xlink:href=\"#DejaVuSans-6e\" x=\"502.185547\"/>\n       <use xlink:href=\"#DejaVuSans-69\" x=\"565.564453\"/>\n       <use xlink:href=\"#DejaVuSans-61\" x=\"593.347656\"/>\n      </g>\n     </g>\n    </g>\n    <g id=\"xtick_4\">\n     <g id=\"line2d_4\">\n      <path d=\"M 121.837788 586.596094 \nL 121.837788 32.196094 \n\" clip-path=\"url(#p8a034ec986)\" style=\"fill: none; stroke: #cccccc; stroke-linecap: round\"/>\n     </g>\n     <g id=\"text_4\">\n      <!-- Utah -->\n      <g style=\"fill: #262626\" transform=\"translate(126.252788 634.023594) rotate(-90) scale(0.16 -0.16)\">\n       <defs>\n        <path id=\"DejaVuSans-55\" d=\"M 556 4666 \nL 1191 4666 \nL 1191 1831 \nQ 1191 1081 1462 751 \nQ 1734 422 2344 422 \nQ 2950 422 3222 751 \nQ 3494 1081 3494 1831 \nL 3494 4666 \nL 4128 4666 \nL 4128 1753 \nQ 4128 841 3676 375 \nQ 3225 -91 2344 -91 \nQ 1459 -91 1007 375 \nQ 556 841 556 1753 \nL 556 4666 \nz\n\" transform=\"scale(0.015625)\"/>\n        <path id=\"DejaVuSans-68\" d=\"M 3513 2113 \nL 3513 0 \nL 2938 0 \nL 2938 2094 \nQ 2938 2591 2744 2837 \nQ 2550 3084 2163 3084 \nQ 1697 3084 1428 2787 \nQ 1159 2491 1159 1978 \nL 1159 0 \nL 581 0 \nL 581 4863 \nL 1159 4863 \nL 1159 2956 \nQ 1366 3272 1645 3428 \nQ 1925 3584 2291 3584 \nQ 2894 3584 3203 3211 \nQ 3513 2838 3513 2113 \nz\n\" transform=\"scale(0.015625)\"/>\n       </defs>\n       <use xlink:href=\"#DejaVuSans-55\"/>\n       <use xlink:href=\"#DejaVuSans-74\" x=\"73.193359\"/>\n       <use xlink:href=\"#DejaVuSans-61\" x=\"112.402344\"/>\n       <use xlink:href=\"#DejaVuSans-68\" x=\"173.681641\"/>\n      </g>\n     </g>\n    </g>\n    <g id=\"xtick_5\">\n     <g id=\"line2d_5\">\n      <path d=\"M 137.933942 586.596094 \nL 137.933942 32.196094 \n\" clip-path=\"url(#p8a034ec986)\" style=\"fill: none; stroke: #cccccc; stroke-linecap: round\"/>\n     </g>\n     <g id=\"text_5\">\n      <!-- New York -->\n      <g style=\"fill: #262626\" transform=\"translate(142.348942 669.366094) rotate(-90) scale(0.16 -0.16)\">\n       <defs>\n        <path id=\"DejaVuSans-4e\" d=\"M 628 4666 \nL 1478 4666 \nL 3547 763 \nL 3547 4666 \nL 4159 4666 \nL 4159 0 \nL 3309 0 \nL 1241 3903 \nL 1241 0 \nL 628 0 \nL 628 4666 \nz\n\" transform=\"scale(0.015625)\"/>\n        <path id=\"DejaVuSans-77\" d=\"M 269 3500 \nL 844 3500 \nL 1563 769 \nL 2278 3500 \nL 2956 3500 \nL 3675 769 \nL 4391 3500 \nL 4966 3500 \nL 4050 0 \nL 3372 0 \nL 2619 2869 \nL 1863 0 \nL 1184 0 \nL 269 3500 \nz\n\" transform=\"scale(0.015625)\"/>\n        <path id=\"DejaVuSans-59\" d=\"M -13 4666 \nL 666 4666 \nL 1959 2747 \nL 3244 4666 \nL 3922 4666 \nL 2272 2222 \nL 2272 0 \nL 1638 0 \nL 1638 2222 \nL -13 4666 \nz\n\" transform=\"scale(0.015625)\"/>\n        <path id=\"DejaVuSans-6b\" d=\"M 581 4863 \nL 1159 4863 \nL 1159 1991 \nL 2875 3500 \nL 3609 3500 \nL 1753 1863 \nL 3688 0 \nL 2938 0 \nL 1159 1709 \nL 1159 0 \nL 581 0 \nL 581 4863 \nz\n\" transform=\"scale(0.015625)\"/>\n       </defs>\n       <use xlink:href=\"#DejaVuSans-4e\"/>\n       <use xlink:href=\"#DejaVuSans-65\" x=\"74.804688\"/>\n       <use xlink:href=\"#DejaVuSans-77\" x=\"136.328125\"/>\n       <use xlink:href=\"#DejaVuSans-20\" x=\"218.115234\"/>\n       <use xlink:href=\"#DejaVuSans-59\" x=\"249.902344\"/>\n       <use xlink:href=\"#DejaVuSans-6f\" x=\"297.736328\"/>\n       <use xlink:href=\"#DejaVuSans-72\" x=\"358.917969\"/>\n       <use xlink:href=\"#DejaVuSans-6b\" x=\"400.03125\"/>\n      </g>\n     </g>\n    </g>\n    <g id=\"xtick_6\">\n     <g id=\"line2d_6\">\n      <path d=\"M 154.030096 586.596094 \nL 154.030096 32.196094 \n\" clip-path=\"url(#p8a034ec986)\" style=\"fill: none; stroke: #cccccc; stroke-linecap: round\"/>\n     </g>\n     <g id=\"text_6\">\n      <!-- District of Columbia -->\n      <g style=\"fill: #262626\" transform=\"translate(158.445096 754.693594) rotate(-90) scale(0.16 -0.16)\">\n       <defs>\n        <path id=\"DejaVuSans-44\" d=\"M 1259 4147 \nL 1259 519 \nL 2022 519 \nQ 2988 519 3436 956 \nQ 3884 1394 3884 2338 \nQ 3884 3275 3436 3711 \nQ 2988 4147 2022 4147 \nL 1259 4147 \nz\nM 628 4666 \nL 1925 4666 \nQ 3281 4666 3915 4102 \nQ 4550 3538 4550 2338 \nQ 4550 1131 3912 565 \nQ 3275 0 1925 0 \nL 628 0 \nL 628 4666 \nz\n\" transform=\"scale(0.015625)\"/>\n        <path id=\"DejaVuSans-63\" d=\"M 3122 3366 \nL 3122 2828 \nQ 2878 2963 2633 3030 \nQ 2388 3097 2138 3097 \nQ 1578 3097 1268 2742 \nQ 959 2388 959 1747 \nQ 959 1106 1268 751 \nQ 1578 397 2138 397 \nQ 2388 397 2633 464 \nQ 2878 531 3122 666 \nL 3122 134 \nQ 2881 22 2623 -34 \nQ 2366 -91 2075 -91 \nQ 1284 -91 818 406 \nQ 353 903 353 1747 \nQ 353 2603 823 3093 \nQ 1294 3584 2113 3584 \nQ 2378 3584 2631 3529 \nQ 2884 3475 3122 3366 \nz\n\" transform=\"scale(0.015625)\"/>\n        <path id=\"DejaVuSans-75\" d=\"M 544 1381 \nL 544 3500 \nL 1119 3500 \nL 1119 1403 \nQ 1119 906 1312 657 \nQ 1506 409 1894 409 \nQ 2359 409 2629 706 \nQ 2900 1003 2900 1516 \nL 2900 3500 \nL 3475 3500 \nL 3475 0 \nL 2900 0 \nL 2900 538 \nQ 2691 219 2414 64 \nQ 2138 -91 1772 -91 \nQ 1169 -91 856 284 \nQ 544 659 544 1381 \nz\nM 1991 3584 \nL 1991 3584 \nz\n\" transform=\"scale(0.015625)\"/>\n        <path id=\"DejaVuSans-6d\" d=\"M 3328 2828 \nQ 3544 3216 3844 3400 \nQ 4144 3584 4550 3584 \nQ 5097 3584 5394 3201 \nQ 5691 2819 5691 2113 \nL 5691 0 \nL 5113 0 \nL 5113 2094 \nQ 5113 2597 4934 2840 \nQ 4756 3084 4391 3084 \nQ 3944 3084 3684 2787 \nQ 3425 2491 3425 1978 \nL 3425 0 \nL 2847 0 \nL 2847 2094 \nQ 2847 2600 2669 2842 \nQ 2491 3084 2119 3084 \nQ 1678 3084 1418 2786 \nQ 1159 2488 1159 1978 \nL 1159 0 \nL 581 0 \nL 581 3500 \nL 1159 3500 \nL 1159 2956 \nQ 1356 3278 1631 3431 \nQ 1906 3584 2284 3584 \nQ 2666 3584 2933 3390 \nQ 3200 3197 3328 2828 \nz\n\" transform=\"scale(0.015625)\"/>\n        <path id=\"DejaVuSans-62\" d=\"M 3116 1747 \nQ 3116 2381 2855 2742 \nQ 2594 3103 2138 3103 \nQ 1681 3103 1420 2742 \nQ 1159 2381 1159 1747 \nQ 1159 1113 1420 752 \nQ 1681 391 2138 391 \nQ 2594 391 2855 752 \nQ 3116 1113 3116 1747 \nz\nM 1159 2969 \nQ 1341 3281 1617 3432 \nQ 1894 3584 2278 3584 \nQ 2916 3584 3314 3078 \nQ 3713 2572 3713 1747 \nQ 3713 922 3314 415 \nQ 2916 -91 2278 -91 \nQ 1894 -91 1617 61 \nQ 1341 213 1159 525 \nL 1159 0 \nL 581 0 \nL 581 4863 \nL 1159 4863 \nL 1159 2969 \nz\n\" transform=\"scale(0.015625)\"/>\n       </defs>\n       <use xlink:href=\"#DejaVuSans-44\"/>\n       <use xlink:href=\"#DejaVuSans-69\" x=\"77.001953\"/>\n       <use xlink:href=\"#DejaVuSans-73\" x=\"104.785156\"/>\n       <use xlink:href=\"#DejaVuSans-74\" x=\"156.884766\"/>\n       <use xlink:href=\"#DejaVuSans-72\" x=\"196.09375\"/>\n       <use xlink:href=\"#DejaVuSans-69\" x=\"237.207031\"/>\n       <use xlink:href=\"#DejaVuSans-63\" x=\"264.990234\"/>\n       <use xlink:href=\"#DejaVuSans-74\" x=\"319.970703\"/>\n       <use xlink:href=\"#DejaVuSans-20\" x=\"359.179688\"/>\n       <use xlink:href=\"#DejaVuSans-6f\" x=\"390.966797\"/>\n       <use xlink:href=\"#DejaVuSans-66\" x=\"452.148438\"/>\n       <use xlink:href=\"#DejaVuSans-20\" x=\"487.353516\"/>\n       <use xlink:href=\"#DejaVuSans-43\" x=\"519.140625\"/>\n       <use xlink:href=\"#DejaVuSans-6f\" x=\"588.964844\"/>\n       <use xlink:href=\"#DejaVuSans-6c\" x=\"650.146484\"/>\n       <use xlink:href=\"#DejaVuSans-75\" x=\"677.929688\"/>\n       <use xlink:href=\"#DejaVuSans-6d\" x=\"741.308594\"/>\n       <use xlink:href=\"#DejaVuSans-62\" x=\"838.720703\"/>\n       <use xlink:href=\"#DejaVuSans-69\" x=\"902.197266\"/>\n       <use xlink:href=\"#DejaVuSans-61\" x=\"929.980469\"/>\n      </g>\n     </g>\n    </g>\n    <g id=\"xtick_7\">\n     <g id=\"line2d_7\">\n      <path d=\"M 170.12625 586.596094 \nL 170.12625 32.196094 \n\" clip-path=\"url(#p8a034ec986)\" style=\"fill: none; stroke: #cccccc; stroke-linecap: round\"/>\n     </g>\n     <g id=\"text_7\">\n      <!-- Alaska -->\n      <g style=\"fill: #262626\" transform=\"translate(174.54125 648.416094) rotate(-90) scale(0.16 -0.16)\">\n       <defs>\n        <path id=\"DejaVuSans-41\" d=\"M 2188 4044 \nL 1331 1722 \nL 3047 1722 \nL 2188 4044 \nz\nM 1831 4666 \nL 2547 4666 \nL 4325 0 \nL 3669 0 \nL 3244 1197 \nL 1141 1197 \nL 716 0 \nL 50 0 \nL 1831 4666 \nz\n\" transform=\"scale(0.015625)\"/>\n       </defs>\n       <use xlink:href=\"#DejaVuSans-41\"/>\n       <use xlink:href=\"#DejaVuSans-6c\" x=\"68.408203\"/>\n       <use xlink:href=\"#DejaVuSans-61\" x=\"96.191406\"/>\n       <use xlink:href=\"#DejaVuSans-73\" x=\"157.470703\"/>\n       <use xlink:href=\"#DejaVuSans-6b\" x=\"209.570312\"/>\n       <use xlink:href=\"#DejaVuSans-61\" x=\"265.730469\"/>\n      </g>\n     </g>\n    </g>\n    <g id=\"xtick_8\">\n     <g id=\"line2d_8\">\n      <path d=\"M 186.222404 586.596094 \nL 186.222404 32.196094 \n\" clip-path=\"url(#p8a034ec986)\" style=\"fill: none; stroke: #cccccc; stroke-linecap: round\"/>\n     </g>\n     <g id=\"text_8\">\n      <!-- Florida -->\n      <g style=\"fill: #262626\" transform=\"translate(190.637404 650.518594) rotate(-90) scale(0.16 -0.16)\">\n       <defs>\n        <path id=\"DejaVuSans-46\" d=\"M 628 4666 \nL 3309 4666 \nL 3309 4134 \nL 1259 4134 \nL 1259 2759 \nL 3109 2759 \nL 3109 2228 \nL 1259 2228 \nL 1259 0 \nL 628 0 \nL 628 4666 \nz\n\" transform=\"scale(0.015625)\"/>\n        <path id=\"DejaVuSans-64\" d=\"M 2906 2969 \nL 2906 4863 \nL 3481 4863 \nL 3481 0 \nL 2906 0 \nL 2906 525 \nQ 2725 213 2448 61 \nQ 2172 -91 1784 -91 \nQ 1150 -91 751 415 \nQ 353 922 353 1747 \nQ 353 2572 751 3078 \nQ 1150 3584 1784 3584 \nQ 2172 3584 2448 3432 \nQ 2725 3281 2906 2969 \nz\nM 947 1747 \nQ 947 1113 1208 752 \nQ 1469 391 1925 391 \nQ 2381 391 2643 752 \nQ 2906 1113 2906 1747 \nQ 2906 2381 2643 2742 \nQ 2381 3103 1925 3103 \nQ 1469 3103 1208 2742 \nQ 947 2381 947 1747 \nz\n\" transform=\"scale(0.015625)\"/>\n       </defs>\n       <use xlink:href=\"#DejaVuSans-46\"/>\n       <use xlink:href=\"#DejaVuSans-6c\" x=\"57.519531\"/>\n       <use xlink:href=\"#DejaVuSans-6f\" x=\"85.302734\"/>\n       <use xlink:href=\"#DejaVuSans-72\" x=\"146.484375\"/>\n       <use xlink:href=\"#DejaVuSans-69\" x=\"187.597656\"/>\n       <use xlink:href=\"#DejaVuSans-64\" x=\"215.380859\"/>\n       <use xlink:href=\"#DejaVuSans-61\" x=\"278.857422\"/>\n      </g>\n     </g>\n    </g>\n    <g id=\"xtick_9\">\n     <g id=\"line2d_9\">\n      <path d=\"M 202.318558 586.596094 \nL 202.318558 32.196094 \n\" clip-path=\"url(#p8a034ec986)\" style=\"fill: none; stroke: #cccccc; stroke-linecap: round\"/>\n     </g>\n     <g id=\"text_9\">\n      <!-- South Carolina -->\n      <g style=\"fill: #262626\" transform=\"translate(206.733558 713.501094) rotate(-90) scale(0.16 -0.16)\">\n       <defs>\n        <path id=\"DejaVuSans-53\" d=\"M 3425 4513 \nL 3425 3897 \nQ 3066 4069 2747 4153 \nQ 2428 4238 2131 4238 \nQ 1616 4238 1336 4038 \nQ 1056 3838 1056 3469 \nQ 1056 3159 1242 3001 \nQ 1428 2844 1947 2747 \nL 2328 2669 \nQ 3034 2534 3370 2195 \nQ 3706 1856 3706 1288 \nQ 3706 609 3251 259 \nQ 2797 -91 1919 -91 \nQ 1588 -91 1214 -16 \nQ 841 59 441 206 \nL 441 856 \nQ 825 641 1194 531 \nQ 1563 422 1919 422 \nQ 2459 422 2753 634 \nQ 3047 847 3047 1241 \nQ 3047 1584 2836 1778 \nQ 2625 1972 2144 2069 \nL 1759 2144 \nQ 1053 2284 737 2584 \nQ 422 2884 422 3419 \nQ 422 4038 858 4394 \nQ 1294 4750 2059 4750 \nQ 2388 4750 2728 4690 \nQ 3069 4631 3425 4513 \nz\n\" transform=\"scale(0.015625)\"/>\n       </defs>\n       <use xlink:href=\"#DejaVuSans-53\"/>\n       <use xlink:href=\"#DejaVuSans-6f\" x=\"63.476562\"/>\n       <use xlink:href=\"#DejaVuSans-75\" x=\"124.658203\"/>\n       <use xlink:href=\"#DejaVuSans-74\" x=\"188.037109\"/>\n       <use xlink:href=\"#DejaVuSans-68\" x=\"227.246094\"/>\n       <use xlink:href=\"#DejaVuSans-20\" x=\"290.625\"/>\n       <use xlink:href=\"#DejaVuSans-43\" x=\"322.412109\"/>\n       <use xlink:href=\"#DejaVuSans-61\" x=\"392.236328\"/>\n       <use xlink:href=\"#DejaVuSans-72\" x=\"453.515625\"/>\n       <use xlink:href=\"#DejaVuSans-6f\" x=\"492.378906\"/>\n       <use xlink:href=\"#DejaVuSans-6c\" x=\"553.560547\"/>\n       <use xlink:href=\"#DejaVuSans-69\" x=\"581.34375\"/>\n       <use xlink:href=\"#DejaVuSans-6e\" x=\"609.126953\"/>\n       <use xlink:href=\"#DejaVuSans-61\" x=\"672.505859\"/>\n      </g>\n     </g>\n    </g>\n    <g id=\"xtick_10\">\n     <g id=\"line2d_10\">\n      <path d=\"M 218.414712 586.596094 \nL 218.414712 32.196094 \n\" clip-path=\"url(#p8a034ec986)\" style=\"fill: none; stroke: #cccccc; stroke-linecap: round\"/>\n     </g>\n     <g id=\"text_10\">\n      <!-- North Dakota -->\n      <g style=\"fill: #262626\" transform=\"translate(222.829712 702.608594) rotate(-90) scale(0.16 -0.16)\">\n       <use xlink:href=\"#DejaVuSans-4e\"/>\n       <use xlink:href=\"#DejaVuSans-6f\" x=\"74.804688\"/>\n       <use xlink:href=\"#DejaVuSans-72\" x=\"135.986328\"/>\n       <use xlink:href=\"#DejaVuSans-74\" x=\"177.099609\"/>\n       <use xlink:href=\"#DejaVuSans-68\" x=\"216.308594\"/>\n       <use xlink:href=\"#DejaVuSans-20\" x=\"279.6875\"/>\n       <use xlink:href=\"#DejaVuSans-44\" x=\"311.474609\"/>\n       <use xlink:href=\"#DejaVuSans-61\" x=\"388.476562\"/>\n       <use xlink:href=\"#DejaVuSans-6b\" x=\"449.755859\"/>\n       <use xlink:href=\"#DejaVuSans-6f\" x=\"504.041016\"/>\n       <use xlink:href=\"#DejaVuSans-74\" x=\"565.222656\"/>\n       <use xlink:href=\"#DejaVuSans-61\" x=\"604.431641\"/>\n      </g>\n     </g>\n    </g>\n    <g id=\"xtick_11\">\n     <g id=\"line2d_11\">\n      <path d=\"M 234.510865 586.596094 \nL 234.510865 32.196094 \n\" clip-path=\"url(#p8a034ec986)\" style=\"fill: none; stroke: #cccccc; stroke-linecap: round\"/>\n     </g>\n     <g id=\"text_11\">\n      <!-- Maine -->\n      <g style=\"fill: #262626\" transform=\"translate(238.925865 644.136094) rotate(-90) scale(0.16 -0.16)\">\n       <defs>\n        <path id=\"DejaVuSans-4d\" d=\"M 628 4666 \nL 1569 4666 \nL 2759 1491 \nL 3956 4666 \nL 4897 4666 \nL 4897 0 \nL 4281 0 \nL 4281 4097 \nL 3078 897 \nL 2444 897 \nL 1241 4097 \nL 1241 0 \nL 628 0 \nL 628 4666 \nz\n\" transform=\"scale(0.015625)\"/>\n       </defs>\n       <use xlink:href=\"#DejaVuSans-4d\"/>\n       <use xlink:href=\"#DejaVuSans-61\" x=\"86.279297\"/>\n       <use xlink:href=\"#DejaVuSans-69\" x=\"147.558594\"/>\n       <use xlink:href=\"#DejaVuSans-6e\" x=\"175.341797\"/>\n       <use xlink:href=\"#DejaVuSans-65\" x=\"238.720703\"/>\n      </g>\n     </g>\n    </g>\n    <g id=\"xtick_12\">\n     <g id=\"line2d_12\">\n      <path d=\"M 250.607019 586.596094 \nL 250.607019 32.196094 \n\" clip-path=\"url(#p8a034ec986)\" style=\"fill: none; stroke: #cccccc; stroke-linecap: round\"/>\n     </g>\n     <g id=\"text_12\">\n      <!-- Georgia -->\n      <g style=\"fill: #262626\" transform=\"translate(255.022019 658.833594) rotate(-90) scale(0.16 -0.16)\">\n       <defs>\n        <path id=\"DejaVuSans-47\" d=\"M 3809 666 \nL 3809 1919 \nL 2778 1919 \nL 2778 2438 \nL 4434 2438 \nL 4434 434 \nQ 4069 175 3628 42 \nQ 3188 -91 2688 -91 \nQ 1594 -91 976 548 \nQ 359 1188 359 2328 \nQ 359 3472 976 4111 \nQ 1594 4750 2688 4750 \nQ 3144 4750 3555 4637 \nQ 3966 4525 4313 4306 \nL 4313 3634 \nQ 3963 3931 3569 4081 \nQ 3175 4231 2741 4231 \nQ 1884 4231 1454 3753 \nQ 1025 3275 1025 2328 \nQ 1025 1384 1454 906 \nQ 1884 428 2741 428 \nQ 3075 428 3337 486 \nQ 3600 544 3809 666 \nz\n\" transform=\"scale(0.015625)\"/>\n       </defs>\n       <use xlink:href=\"#DejaVuSans-47\"/>\n       <use xlink:href=\"#DejaVuSans-65\" x=\"77.490234\"/>\n       <use xlink:href=\"#DejaVuSans-6f\" x=\"139.013672\"/>\n       <use xlink:href=\"#DejaVuSans-72\" x=\"200.195312\"/>\n       <use xlink:href=\"#DejaVuSans-67\" x=\"239.558594\"/>\n       <use xlink:href=\"#DejaVuSans-69\" x=\"303.035156\"/>\n       <use xlink:href=\"#DejaVuSans-61\" x=\"330.818359\"/>\n      </g>\n     </g>\n    </g>\n    <g id=\"xtick_13\">\n     <g id=\"line2d_13\">\n      <path d=\"M 266.703173 586.596094 \nL 266.703173 32.196094 \n\" clip-path=\"url(#p8a034ec986)\" style=\"fill: none; stroke: #cccccc; stroke-linecap: round\"/>\n     </g>\n     <g id=\"text_13\">\n      <!-- Alabama -->\n      <g style=\"fill: #262626\" transform=\"translate(271.118173 666.643594) rotate(-90) scale(0.16 -0.16)\">\n       <use xlink:href=\"#DejaVuSans-41\"/>\n       <use xlink:href=\"#DejaVuSans-6c\" x=\"68.408203\"/>\n       <use xlink:href=\"#DejaVuSans-61\" x=\"96.191406\"/>\n       <use xlink:href=\"#DejaVuSans-62\" x=\"157.470703\"/>\n       <use xlink:href=\"#DejaVuSans-61\" x=\"220.947266\"/>\n       <use xlink:href=\"#DejaVuSans-6d\" x=\"282.226562\"/>\n       <use xlink:href=\"#DejaVuSans-61\" x=\"379.638672\"/>\n      </g>\n     </g>\n    </g>\n    <g id=\"xtick_14\">\n     <g id=\"line2d_14\">\n      <path d=\"M 282.799327 586.596094 \nL 282.799327 32.196094 \n\" clip-path=\"url(#p8a034ec986)\" style=\"fill: none; stroke: #cccccc; stroke-linecap: round\"/>\n     </g>\n     <g id=\"text_14\">\n      <!-- New Hampshire -->\n      <g style=\"fill: #262626\" transform=\"translate(287.214327 722.643594) rotate(-90) scale(0.16 -0.16)\">\n       <defs>\n        <path id=\"DejaVuSans-48\" d=\"M 628 4666 \nL 1259 4666 \nL 1259 2753 \nL 3553 2753 \nL 3553 4666 \nL 4184 4666 \nL 4184 0 \nL 3553 0 \nL 3553 2222 \nL 1259 2222 \nL 1259 0 \nL 628 0 \nL 628 4666 \nz\n\" transform=\"scale(0.015625)\"/>\n        <path id=\"DejaVuSans-70\" d=\"M 1159 525 \nL 1159 -1331 \nL 581 -1331 \nL 581 3500 \nL 1159 3500 \nL 1159 2969 \nQ 1341 3281 1617 3432 \nQ 1894 3584 2278 3584 \nQ 2916 3584 3314 3078 \nQ 3713 2572 3713 1747 \nQ 3713 922 3314 415 \nQ 2916 -91 2278 -91 \nQ 1894 -91 1617 61 \nQ 1341 213 1159 525 \nz\nM 3116 1747 \nQ 3116 2381 2855 2742 \nQ 2594 3103 2138 3103 \nQ 1681 3103 1420 2742 \nQ 1159 2381 1159 1747 \nQ 1159 1113 1420 752 \nQ 1681 391 2138 391 \nQ 2594 391 2855 752 \nQ 3116 1113 3116 1747 \nz\n\" transform=\"scale(0.015625)\"/>\n       </defs>\n       <use xlink:href=\"#DejaVuSans-4e\"/>\n       <use xlink:href=\"#DejaVuSans-65\" x=\"74.804688\"/>\n       <use xlink:href=\"#DejaVuSans-77\" x=\"136.328125\"/>\n       <use xlink:href=\"#DejaVuSans-20\" x=\"218.115234\"/>\n       <use xlink:href=\"#DejaVuSans-48\" x=\"249.902344\"/>\n       <use xlink:href=\"#DejaVuSans-61\" x=\"325.097656\"/>\n       <use xlink:href=\"#DejaVuSans-6d\" x=\"386.376953\"/>\n       <use xlink:href=\"#DejaVuSans-70\" x=\"483.789062\"/>\n       <use xlink:href=\"#DejaVuSans-73\" x=\"547.265625\"/>\n       <use xlink:href=\"#DejaVuSans-68\" x=\"599.365234\"/>\n       <use xlink:href=\"#DejaVuSans-69\" x=\"662.744141\"/>\n       <use xlink:href=\"#DejaVuSans-72\" x=\"690.527344\"/>\n       <use xlink:href=\"#DejaVuSans-65\" x=\"729.390625\"/>\n      </g>\n     </g>\n    </g>\n    <g id=\"xtick_15\">\n     <g id=\"line2d_15\">\n      <path d=\"M 298.895481 586.596094 \nL 298.895481 32.196094 \n\" clip-path=\"url(#p8a034ec986)\" style=\"fill: none; stroke: #cccccc; stroke-linecap: round\"/>\n     </g>\n     <g id=\"text_15\">\n      <!-- Oregon -->\n      <g style=\"fill: #262626\" transform=\"translate(303.310481 654.841094) rotate(-90) scale(0.16 -0.16)\">\n       <defs>\n        <path id=\"DejaVuSans-4f\" d=\"M 2522 4238 \nQ 1834 4238 1429 3725 \nQ 1025 3213 1025 2328 \nQ 1025 1447 1429 934 \nQ 1834 422 2522 422 \nQ 3209 422 3611 934 \nQ 4013 1447 4013 2328 \nQ 4013 3213 3611 3725 \nQ 3209 4238 2522 4238 \nz\nM 2522 4750 \nQ 3503 4750 4090 4092 \nQ 4678 3434 4678 2328 \nQ 4678 1225 4090 567 \nQ 3503 -91 2522 -91 \nQ 1538 -91 948 565 \nQ 359 1222 359 2328 \nQ 359 3434 948 4092 \nQ 1538 4750 2522 4750 \nz\n\" transform=\"scale(0.015625)\"/>\n       </defs>\n       <use xlink:href=\"#DejaVuSans-4f\"/>\n       <use xlink:href=\"#DejaVuSans-72\" x=\"78.710938\"/>\n       <use xlink:href=\"#DejaVuSans-65\" x=\"117.574219\"/>\n       <use xlink:href=\"#DejaVuSans-67\" x=\"179.097656\"/>\n       <use xlink:href=\"#DejaVuSans-6f\" x=\"242.574219\"/>\n       <use xlink:href=\"#DejaVuSans-6e\" x=\"303.755859\"/>\n      </g>\n     </g>\n    </g>\n    <g id=\"xtick_16\">\n     <g id=\"line2d_16\">\n      <path d=\"M 314.991635 586.596094 \nL 314.991635 32.196094 \n\" clip-path=\"url(#p8a034ec986)\" style=\"fill: none; stroke: #cccccc; stroke-linecap: round\"/>\n     </g>\n     <g id=\"text_16\">\n      <!-- Wyoming -->\n      <g style=\"fill: #262626\" transform=\"translate(319.406635 671.223594) rotate(-90) scale(0.16 -0.16)\">\n       <use xlink:href=\"#DejaVuSans-57\"/>\n       <use xlink:href=\"#DejaVuSans-79\" x=\"97.126953\"/>\n       <use xlink:href=\"#DejaVuSans-6f\" x=\"156.306641\"/>\n       <use xlink:href=\"#DejaVuSans-6d\" x=\"217.488281\"/>\n       <use xlink:href=\"#DejaVuSans-69\" x=\"314.900391\"/>\n       <use xlink:href=\"#DejaVuSans-6e\" x=\"342.683594\"/>\n       <use xlink:href=\"#DejaVuSans-67\" x=\"406.0625\"/>\n      </g>\n     </g>\n    </g>\n    <g id=\"xtick_17\">\n     <g id=\"line2d_17\">\n      <path d=\"M 331.087788 586.596094 \nL 331.087788 32.196094 \n\" clip-path=\"url(#p8a034ec986)\" style=\"fill: none; stroke: #cccccc; stroke-linecap: round\"/>\n     </g>\n     <g id=\"text_17\">\n      <!-- Arizona -->\n      <g style=\"fill: #262626\" transform=\"translate(335.502788 656.196094) rotate(-90) scale(0.16 -0.16)\">\n       <defs>\n        <path id=\"DejaVuSans-7a\" d=\"M 353 3500 \nL 3084 3500 \nL 3084 2975 \nL 922 459 \nL 3084 459 \nL 3084 0 \nL 275 0 \nL 275 525 \nL 2438 3041 \nL 353 3041 \nL 353 3500 \nz\n\" transform=\"scale(0.015625)\"/>\n       </defs>\n       <use xlink:href=\"#DejaVuSans-41\"/>\n       <use xlink:href=\"#DejaVuSans-72\" x=\"68.408203\"/>\n       <use xlink:href=\"#DejaVuSans-69\" x=\"109.521484\"/>\n       <use xlink:href=\"#DejaVuSans-7a\" x=\"137.304688\"/>\n       <use xlink:href=\"#DejaVuSans-6f\" x=\"189.794922\"/>\n       <use xlink:href=\"#DejaVuSans-6e\" x=\"250.976562\"/>\n       <use xlink:href=\"#DejaVuSans-61\" x=\"314.355469\"/>\n      </g>\n     </g>\n    </g>\n    <g id=\"xtick_18\">\n     <g id=\"line2d_18\">\n      <path d=\"M 347.183942 586.596094 \nL 347.183942 32.196094 \n\" clip-path=\"url(#p8a034ec986)\" style=\"fill: none; stroke: #cccccc; stroke-linecap: round\"/>\n     </g>\n     <g id=\"text_18\">\n      <!-- Louisiana -->\n      <g style=\"fill: #262626\" transform=\"translate(351.598942 671.636094) rotate(-90) scale(0.16 -0.16)\">\n       <defs>\n        <path id=\"DejaVuSans-4c\" d=\"M 628 4666 \nL 1259 4666 \nL 1259 531 \nL 3531 531 \nL 3531 0 \nL 628 0 \nL 628 4666 \nz\n\" transform=\"scale(0.015625)\"/>\n       </defs>\n       <use xlink:href=\"#DejaVuSans-4c\"/>\n       <use xlink:href=\"#DejaVuSans-6f\" x=\"53.962891\"/>\n       <use xlink:href=\"#DejaVuSans-75\" x=\"115.144531\"/>\n       <use xlink:href=\"#DejaVuSans-69\" x=\"178.523438\"/>\n       <use xlink:href=\"#DejaVuSans-73\" x=\"206.306641\"/>\n       <use xlink:href=\"#DejaVuSans-69\" x=\"258.40625\"/>\n       <use xlink:href=\"#DejaVuSans-61\" x=\"286.189453\"/>\n       <use xlink:href=\"#DejaVuSans-6e\" x=\"347.46875\"/>\n       <use xlink:href=\"#DejaVuSans-61\" x=\"410.847656\"/>\n      </g>\n     </g>\n    </g>\n    <g id=\"xtick_19\">\n     <g id=\"line2d_19\">\n      <path d=\"M 363.280096 586.596094 \nL 363.280096 32.196094 \n\" clip-path=\"url(#p8a034ec986)\" style=\"fill: none; stroke: #cccccc; stroke-linecap: round\"/>\n     </g>\n     <g id=\"text_19\">\n      <!-- Indiana -->\n      <g style=\"fill: #262626\" transform=\"translate(367.695096 655.308594) rotate(-90) scale(0.16 -0.16)\">\n       <defs>\n        <path id=\"DejaVuSans-49\" d=\"M 628 4666 \nL 1259 4666 \nL 1259 0 \nL 628 0 \nL 628 4666 \nz\n\" transform=\"scale(0.015625)\"/>\n       </defs>\n       <use xlink:href=\"#DejaVuSans-49\"/>\n       <use xlink:href=\"#DejaVuSans-6e\" x=\"29.492188\"/>\n       <use xlink:href=\"#DejaVuSans-64\" x=\"92.871094\"/>\n       <use xlink:href=\"#DejaVuSans-69\" x=\"156.347656\"/>\n       <use xlink:href=\"#DejaVuSans-61\" x=\"184.130859\"/>\n       <use xlink:href=\"#DejaVuSans-6e\" x=\"245.410156\"/>\n       <use xlink:href=\"#DejaVuSans-61\" x=\"308.789062\"/>\n      </g>\n     </g>\n    </g>\n    <g id=\"xtick_20\">\n     <g id=\"line2d_20\">\n      <path d=\"M 379.37625 586.596094 \nL 379.37625 32.196094 \n\" clip-path=\"url(#p8a034ec986)\" style=\"fill: none; stroke: #cccccc; stroke-linecap: round\"/>\n     </g>\n     <g id=\"text_20\">\n      <!-- Idaho -->\n      <g style=\"fill: #262626\" transform=\"translate(383.79125 640.708594) rotate(-90) scale(0.16 -0.16)\">\n       <use xlink:href=\"#DejaVuSans-49\"/>\n       <use xlink:href=\"#DejaVuSans-64\" x=\"29.492188\"/>\n       <use xlink:href=\"#DejaVuSans-61\" x=\"92.96875\"/>\n       <use xlink:href=\"#DejaVuSans-68\" x=\"154.248047\"/>\n       <use xlink:href=\"#DejaVuSans-6f\" x=\"217.626953\"/>\n      </g>\n     </g>\n    </g>\n    <g id=\"xtick_21\">\n     <g id=\"line2d_21\">\n      <path d=\"M 395.472404 586.596094 \nL 395.472404 32.196094 \n\" clip-path=\"url(#p8a034ec986)\" style=\"fill: none; stroke: #cccccc; stroke-linecap: round\"/>\n     </g>\n     <g id=\"text_21\">\n      <!-- Connecticut -->\n      <g style=\"fill: #262626\" transform=\"translate(399.887404 691.908594) rotate(-90) scale(0.16 -0.16)\">\n       <use xlink:href=\"#DejaVuSans-43\"/>\n       <use xlink:href=\"#DejaVuSans-6f\" x=\"69.824219\"/>\n       <use xlink:href=\"#DejaVuSans-6e\" x=\"131.005859\"/>\n       <use xlink:href=\"#DejaVuSans-6e\" x=\"194.384766\"/>\n       <use xlink:href=\"#DejaVuSans-65\" x=\"257.763672\"/>\n       <use xlink:href=\"#DejaVuSans-63\" x=\"319.287109\"/>\n       <use xlink:href=\"#DejaVuSans-74\" x=\"374.267578\"/>\n       <use xlink:href=\"#DejaVuSans-69\" x=\"413.476562\"/>\n       <use xlink:href=\"#DejaVuSans-63\" x=\"441.259766\"/>\n       <use xlink:href=\"#DejaVuSans-75\" x=\"496.240234\"/>\n       <use xlink:href=\"#DejaVuSans-74\" x=\"559.619141\"/>\n      </g>\n     </g>\n    </g>\n    <g id=\"xtick_22\">\n     <g id=\"line2d_22\">\n      <path d=\"M 411.568558 586.596094 \nL 411.568558 32.196094 \n\" clip-path=\"url(#p8a034ec986)\" style=\"fill: none; stroke: #cccccc; stroke-linecap: round\"/>\n     </g>\n     <g id=\"text_22\">\n      <!-- Hawaii -->\n      <g style=\"fill: #262626\" transform=\"translate(415.983558 649.713594) rotate(-90) scale(0.16 -0.16)\">\n       <use xlink:href=\"#DejaVuSans-48\"/>\n       <use xlink:href=\"#DejaVuSans-61\" x=\"75.195312\"/>\n       <use xlink:href=\"#DejaVuSans-77\" x=\"136.474609\"/>\n       <use xlink:href=\"#DejaVuSans-61\" x=\"218.261719\"/>\n       <use xlink:href=\"#DejaVuSans-69\" x=\"279.541016\"/>\n       <use xlink:href=\"#DejaVuSans-69\" x=\"307.324219\"/>\n      </g>\n     </g>\n    </g>\n    <g id=\"xtick_23\">\n     <g id=\"line2d_23\">\n      <path d=\"M 427.664712 586.596094 \nL 427.664712 32.196094 \n\" clip-path=\"url(#p8a034ec986)\" style=\"fill: none; stroke: #cccccc; stroke-linecap: round\"/>\n     </g>\n     <g id=\"text_23\">\n      <!-- Illinois -->\n      <g style=\"fill: #262626\" transform=\"translate(432.079712 646.861094) rotate(-90) scale(0.16 -0.16)\">\n       <use xlink:href=\"#DejaVuSans-49\"/>\n       <use xlink:href=\"#DejaVuSans-6c\" x=\"29.492188\"/>\n       <use xlink:href=\"#DejaVuSans-6c\" x=\"57.275391\"/>\n       <use xlink:href=\"#DejaVuSans-69\" x=\"85.058594\"/>\n       <use xlink:href=\"#DejaVuSans-6e\" x=\"112.841797\"/>\n       <use xlink:href=\"#DejaVuSans-6f\" x=\"176.220703\"/>\n       <use xlink:href=\"#DejaVuSans-69\" x=\"237.402344\"/>\n       <use xlink:href=\"#DejaVuSans-73\" x=\"265.185547\"/>\n      </g>\n     </g>\n    </g>\n    <g id=\"xtick_24\">\n     <g id=\"line2d_24\">\n      <path d=\"M 443.760865 586.596094 \nL 443.760865 32.196094 \n\" clip-path=\"url(#p8a034ec986)\" style=\"fill: none; stroke: #cccccc; stroke-linecap: round\"/>\n     </g>\n     <g id=\"text_24\">\n      <!-- Massachusetts -->\n      <g style=\"fill: #262626\" transform=\"translate(448.175865 714.318594) rotate(-90) scale(0.16 -0.16)\">\n       <use xlink:href=\"#DejaVuSans-4d\"/>\n       <use xlink:href=\"#DejaVuSans-61\" x=\"86.279297\"/>\n       <use xlink:href=\"#DejaVuSans-73\" x=\"147.558594\"/>\n       <use xlink:href=\"#DejaVuSans-73\" x=\"199.658203\"/>\n       <use xlink:href=\"#DejaVuSans-61\" x=\"251.757812\"/>\n       <use xlink:href=\"#DejaVuSans-63\" x=\"313.037109\"/>\n       <use xlink:href=\"#DejaVuSans-68\" x=\"368.017578\"/>\n       <use xlink:href=\"#DejaVuSans-75\" x=\"431.396484\"/>\n       <use xlink:href=\"#DejaVuSans-73\" x=\"494.775391\"/>\n       <use xlink:href=\"#DejaVuSans-65\" x=\"546.875\"/>\n       <use xlink:href=\"#DejaVuSans-74\" x=\"608.398438\"/>\n       <use xlink:href=\"#DejaVuSans-74\" x=\"647.607422\"/>\n       <use xlink:href=\"#DejaVuSans-73\" x=\"686.816406\"/>\n      </g>\n     </g>\n    </g>\n    <g id=\"xtick_25\">\n     <g id=\"line2d_25\">\n      <path d=\"M 459.857019 586.596094 \nL 459.857019 32.196094 \n\" clip-path=\"url(#p8a034ec986)\" style=\"fill: none; stroke: #cccccc; stroke-linecap: round\"/>\n     </g>\n     <g id=\"text_25\">\n      <!-- Texas -->\n      <g style=\"fill: #262626\" transform=\"translate(464.272019 640.323594) rotate(-90) scale(0.16 -0.16)\">\n       <defs>\n        <path id=\"DejaVuSans-54\" d=\"M -19 4666 \nL 3928 4666 \nL 3928 4134 \nL 2272 4134 \nL 2272 0 \nL 1638 0 \nL 1638 4134 \nL -19 4134 \nL -19 4666 \nz\n\" transform=\"scale(0.015625)\"/>\n        <path id=\"DejaVuSans-78\" d=\"M 3513 3500 \nL 2247 1797 \nL 3578 0 \nL 2900 0 \nL 1881 1375 \nL 863 0 \nL 184 0 \nL 1544 1831 \nL 300 3500 \nL 978 3500 \nL 1906 2253 \nL 2834 3500 \nL 3513 3500 \nz\n\" transform=\"scale(0.015625)\"/>\n       </defs>\n       <use xlink:href=\"#DejaVuSans-54\"/>\n       <use xlink:href=\"#DejaVuSans-65\" x=\"44.083984\"/>\n       <use xlink:href=\"#DejaVuSans-78\" x=\"103.857422\"/>\n       <use xlink:href=\"#DejaVuSans-61\" x=\"163.037109\"/>\n       <use xlink:href=\"#DejaVuSans-73\" x=\"224.316406\"/>\n      </g>\n     </g>\n    </g>\n    <g id=\"xtick_26\">\n     <g id=\"line2d_26\">\n      <path d=\"M 475.953173 586.596094 \nL 475.953173 32.196094 \n\" clip-path=\"url(#p8a034ec986)\" style=\"fill: none; stroke: #cccccc; stroke-linecap: round\"/>\n     </g>\n     <g id=\"text_26\">\n      <!-- Montana -->\n      <g style=\"fill: #262626\" transform=\"translate(480.368173 665.853594) rotate(-90) scale(0.16 -0.16)\">\n       <use xlink:href=\"#DejaVuSans-4d\"/>\n       <use xlink:href=\"#DejaVuSans-6f\" x=\"86.279297\"/>\n       <use xlink:href=\"#DejaVuSans-6e\" x=\"147.460938\"/>\n       <use xlink:href=\"#DejaVuSans-74\" x=\"210.839844\"/>\n       <use xlink:href=\"#DejaVuSans-61\" x=\"250.048828\"/>\n       <use xlink:href=\"#DejaVuSans-6e\" x=\"311.328125\"/>\n       <use xlink:href=\"#DejaVuSans-61\" x=\"374.707031\"/>\n      </g>\n     </g>\n    </g>\n    <g id=\"xtick_27\">\n     <g id=\"line2d_27\">\n      <path d=\"M 492.049327 586.596094 \nL 492.049327 32.196094 \n\" clip-path=\"url(#p8a034ec986)\" style=\"fill: none; stroke: #cccccc; stroke-linecap: round\"/>\n     </g>\n     <g id=\"text_27\">\n      <!-- Nebraska -->\n      <g style=\"fill: #262626\" transform=\"translate(496.464327 671.576094) rotate(-90) scale(0.16 -0.16)\">\n       <use xlink:href=\"#DejaVuSans-4e\"/>\n       <use xlink:href=\"#DejaVuSans-65\" x=\"74.804688\"/>\n       <use xlink:href=\"#DejaVuSans-62\" x=\"136.328125\"/>\n       <use xlink:href=\"#DejaVuSans-72\" x=\"199.804688\"/>\n       <use xlink:href=\"#DejaVuSans-61\" x=\"240.917969\"/>\n       <use xlink:href=\"#DejaVuSans-73\" x=\"302.197266\"/>\n       <use xlink:href=\"#DejaVuSans-6b\" x=\"354.296875\"/>\n       <use xlink:href=\"#DejaVuSans-61\" x=\"410.457031\"/>\n      </g>\n     </g>\n    </g>\n    <g id=\"xtick_28\">\n     <g id=\"line2d_28\">\n      <path d=\"M 508.145481 586.596094 \nL 508.145481 32.196094 \n\" clip-path=\"url(#p8a034ec986)\" style=\"fill: none; stroke: #cccccc; stroke-linecap: round\"/>\n     </g>\n     <g id=\"text_28\">\n      <!-- Ohio -->\n      <g style=\"fill: #262626\" transform=\"translate(512.560481 633.066094) rotate(-90) scale(0.16 -0.16)\">\n       <use xlink:href=\"#DejaVuSans-4f\"/>\n       <use xlink:href=\"#DejaVuSans-68\" x=\"78.710938\"/>\n       <use xlink:href=\"#DejaVuSans-69\" x=\"142.089844\"/>\n       <use xlink:href=\"#DejaVuSans-6f\" x=\"169.873047\"/>\n      </g>\n     </g>\n    </g>\n    <g id=\"xtick_29\">\n     <g id=\"line2d_29\">\n      <path d=\"M 524.241635 586.596094 \nL 524.241635 32.196094 \n\" clip-path=\"url(#p8a034ec986)\" style=\"fill: none; stroke: #cccccc; stroke-linecap: round\"/>\n     </g>\n     <g id=\"text_29\">\n      <!-- Colorado -->\n      <g style=\"fill: #262626\" transform=\"translate(528.656635 667.623594) rotate(-90) scale(0.16 -0.16)\">\n       <use xlink:href=\"#DejaVuSans-43\"/>\n       <use xlink:href=\"#DejaVuSans-6f\" x=\"69.824219\"/>\n       <use xlink:href=\"#DejaVuSans-6c\" x=\"131.005859\"/>\n       <use xlink:href=\"#DejaVuSans-6f\" x=\"158.789062\"/>\n       <use xlink:href=\"#DejaVuSans-72\" x=\"219.970703\"/>\n       <use xlink:href=\"#DejaVuSans-61\" x=\"261.083984\"/>\n       <use xlink:href=\"#DejaVuSans-64\" x=\"322.363281\"/>\n       <use xlink:href=\"#DejaVuSans-6f\" x=\"385.839844\"/>\n      </g>\n     </g>\n    </g>\n    <g id=\"xtick_30\">\n     <g id=\"line2d_30\">\n      <path d=\"M 540.337788 586.596094 \nL 540.337788 32.196094 \n\" clip-path=\"url(#p8a034ec986)\" style=\"fill: none; stroke: #cccccc; stroke-linecap: round\"/>\n     </g>\n     <g id=\"text_30\">\n      <!-- New Jersey -->\n      <g style=\"fill: #262626\" transform=\"translate(544.752788 684.873594) rotate(-90) scale(0.16 -0.16)\">\n       <defs>\n        <path id=\"DejaVuSans-4a\" d=\"M 628 4666 \nL 1259 4666 \nL 1259 325 \nQ 1259 -519 939 -900 \nQ 619 -1281 -91 -1281 \nL -331 -1281 \nL -331 -750 \nL -134 -750 \nQ 284 -750 456 -515 \nQ 628 -281 628 325 \nL 628 4666 \nz\n\" transform=\"scale(0.015625)\"/>\n       </defs>\n       <use xlink:href=\"#DejaVuSans-4e\"/>\n       <use xlink:href=\"#DejaVuSans-65\" x=\"74.804688\"/>\n       <use xlink:href=\"#DejaVuSans-77\" x=\"136.328125\"/>\n       <use xlink:href=\"#DejaVuSans-20\" x=\"218.115234\"/>\n       <use xlink:href=\"#DejaVuSans-4a\" x=\"249.902344\"/>\n       <use xlink:href=\"#DejaVuSans-65\" x=\"279.394531\"/>\n       <use xlink:href=\"#DejaVuSans-72\" x=\"340.917969\"/>\n       <use xlink:href=\"#DejaVuSans-73\" x=\"382.03125\"/>\n       <use xlink:href=\"#DejaVuSans-65\" x=\"434.130859\"/>\n       <use xlink:href=\"#DejaVuSans-79\" x=\"495.654297\"/>\n      </g>\n     </g>\n    </g>\n    <g id=\"xtick_31\">\n     <g id=\"line2d_31\">\n      <path d=\"M 556.433942 586.596094 \nL 556.433942 32.196094 \n\" clip-path=\"url(#p8a034ec986)\" style=\"fill: none; stroke: #cccccc; stroke-linecap: round\"/>\n     </g>\n     <g id=\"text_31\">\n      <!-- Maryland -->\n      <g style=\"fill: #262626\" transform=\"translate(560.848942 670.301094) rotate(-90) scale(0.16 -0.16)\">\n       <use xlink:href=\"#DejaVuSans-4d\"/>\n       <use xlink:href=\"#DejaVuSans-61\" x=\"86.279297\"/>\n       <use xlink:href=\"#DejaVuSans-72\" x=\"147.558594\"/>\n       <use xlink:href=\"#DejaVuSans-79\" x=\"188.671875\"/>\n       <use xlink:href=\"#DejaVuSans-6c\" x=\"247.851562\"/>\n       <use xlink:href=\"#DejaVuSans-61\" x=\"275.634766\"/>\n       <use xlink:href=\"#DejaVuSans-6e\" x=\"336.914062\"/>\n       <use xlink:href=\"#DejaVuSans-64\" x=\"400.292969\"/>\n      </g>\n     </g>\n    </g>\n    <g id=\"xtick_32\">\n     <g id=\"line2d_32\">\n      <path d=\"M 572.530096 586.596094 \nL 572.530096 32.196094 \n\" clip-path=\"url(#p8a034ec986)\" style=\"fill: none; stroke: #cccccc; stroke-linecap: round\"/>\n     </g>\n     <g id=\"text_32\">\n      <!-- Virginia -->\n      <g style=\"fill: #262626\" transform=\"translate(576.945096 656.416094) rotate(-90) scale(0.16 -0.16)\">\n       <use xlink:href=\"#DejaVuSans-56\"/>\n       <use xlink:href=\"#DejaVuSans-69\" x=\"66.158203\"/>\n       <use xlink:href=\"#DejaVuSans-72\" x=\"93.941406\"/>\n       <use xlink:href=\"#DejaVuSans-67\" x=\"133.304688\"/>\n       <use xlink:href=\"#DejaVuSans-69\" x=\"196.78125\"/>\n       <use xlink:href=\"#DejaVuSans-6e\" x=\"224.564453\"/>\n       <use xlink:href=\"#DejaVuSans-69\" x=\"287.943359\"/>\n       <use xlink:href=\"#DejaVuSans-61\" x=\"315.726562\"/>\n      </g>\n     </g>\n    </g>\n    <g id=\"xtick_33\">\n     <g id=\"line2d_33\">\n      <path d=\"M 588.62625 586.596094 \nL 588.62625 32.196094 \n\" clip-path=\"url(#p8a034ec986)\" style=\"fill: none; stroke: #cccccc; stroke-linecap: round\"/>\n     </g>\n     <g id=\"text_33\">\n      <!-- Vermont -->\n      <g style=\"fill: #262626\" transform=\"translate(593.04125 663.731094) rotate(-90) scale(0.16 -0.16)\">\n       <use xlink:href=\"#DejaVuSans-56\"/>\n       <use xlink:href=\"#DejaVuSans-65\" x=\"60.658203\"/>\n       <use xlink:href=\"#DejaVuSans-72\" x=\"122.181641\"/>\n       <use xlink:href=\"#DejaVuSans-6d\" x=\"161.544922\"/>\n       <use xlink:href=\"#DejaVuSans-6f\" x=\"258.957031\"/>\n       <use xlink:href=\"#DejaVuSans-6e\" x=\"320.138672\"/>\n       <use xlink:href=\"#DejaVuSans-74\" x=\"383.517578\"/>\n      </g>\n     </g>\n    </g>\n    <g id=\"xtick_34\">\n     <g id=\"line2d_34\">\n      <path d=\"M 604.722404 586.596094 \nL 604.722404 32.196094 \n\" clip-path=\"url(#p8a034ec986)\" style=\"fill: none; stroke: #cccccc; stroke-linecap: round\"/>\n     </g>\n     <g id=\"text_34\">\n      <!-- North Carolina -->\n      <g style=\"fill: #262626\" transform=\"translate(609.137404 711.751094) rotate(-90) scale(0.16 -0.16)\">\n       <use xlink:href=\"#DejaVuSans-4e\"/>\n       <use xlink:href=\"#DejaVuSans-6f\" x=\"74.804688\"/>\n       <use xlink:href=\"#DejaVuSans-72\" x=\"135.986328\"/>\n       <use xlink:href=\"#DejaVuSans-74\" x=\"177.099609\"/>\n       <use xlink:href=\"#DejaVuSans-68\" x=\"216.308594\"/>\n       <use xlink:href=\"#DejaVuSans-20\" x=\"279.6875\"/>\n       <use xlink:href=\"#DejaVuSans-43\" x=\"311.474609\"/>\n       <use xlink:href=\"#DejaVuSans-61\" x=\"381.298828\"/>\n       <use xlink:href=\"#DejaVuSans-72\" x=\"442.578125\"/>\n       <use xlink:href=\"#DejaVuSans-6f\" x=\"481.441406\"/>\n       <use xlink:href=\"#DejaVuSans-6c\" x=\"542.623047\"/>\n       <use xlink:href=\"#DejaVuSans-69\" x=\"570.40625\"/>\n       <use xlink:href=\"#DejaVuSans-6e\" x=\"598.189453\"/>\n       <use xlink:href=\"#DejaVuSans-61\" x=\"661.568359\"/>\n      </g>\n     </g>\n    </g>\n    <g id=\"xtick_35\">\n     <g id=\"line2d_35\">\n      <path d=\"M 620.818558 586.596094 \nL 620.818558 32.196094 \n\" clip-path=\"url(#p8a034ec986)\" style=\"fill: none; stroke: #cccccc; stroke-linecap: round\"/>\n     </g>\n     <g id=\"text_35\">\n      <!-- Arkansas -->\n      <g style=\"fill: #262626\" transform=\"translate(625.233558 669.023594) rotate(-90) scale(0.16 -0.16)\">\n       <use xlink:href=\"#DejaVuSans-41\"/>\n       <use xlink:href=\"#DejaVuSans-72\" x=\"68.408203\"/>\n       <use xlink:href=\"#DejaVuSans-6b\" x=\"109.521484\"/>\n       <use xlink:href=\"#DejaVuSans-61\" x=\"165.681641\"/>\n       <use xlink:href=\"#DejaVuSans-6e\" x=\"226.960938\"/>\n       <use xlink:href=\"#DejaVuSans-73\" x=\"290.339844\"/>\n       <use xlink:href=\"#DejaVuSans-61\" x=\"342.439453\"/>\n       <use xlink:href=\"#DejaVuSans-73\" x=\"403.71875\"/>\n      </g>\n     </g>\n    </g>\n    <g id=\"xtick_36\">\n     <g id=\"line2d_36\">\n      <path d=\"M 636.914712 586.596094 \nL 636.914712 32.196094 \n\" clip-path=\"url(#p8a034ec986)\" style=\"fill: none; stroke: #cccccc; stroke-linecap: round\"/>\n     </g>\n     <g id=\"text_36\">\n      <!-- Washington -->\n      <g style=\"fill: #262626\" transform=\"translate(641.329712 690.121094) rotate(-90) scale(0.16 -0.16)\">\n       <use xlink:href=\"#DejaVuSans-57\"/>\n       <use xlink:href=\"#DejaVuSans-61\" x=\"92.501953\"/>\n       <use xlink:href=\"#DejaVuSans-73\" x=\"153.78125\"/>\n       <use xlink:href=\"#DejaVuSans-68\" x=\"205.880859\"/>\n       <use xlink:href=\"#DejaVuSans-69\" x=\"269.259766\"/>\n       <use xlink:href=\"#DejaVuSans-6e\" x=\"297.042969\"/>\n       <use xlink:href=\"#DejaVuSans-67\" x=\"360.421875\"/>\n       <use xlink:href=\"#DejaVuSans-74\" x=\"423.898438\"/>\n       <use xlink:href=\"#DejaVuSans-6f\" x=\"463.107422\"/>\n       <use xlink:href=\"#DejaVuSans-6e\" x=\"524.289062\"/>\n      </g>\n     </g>\n    </g>\n    <g id=\"xtick_37\">\n     <g id=\"line2d_37\">\n      <path d=\"M 653.010865 586.596094 \nL 653.010865 32.196094 \n\" clip-path=\"url(#p8a034ec986)\" style=\"fill: none; stroke: #cccccc; stroke-linecap: round\"/>\n     </g>\n     <g id=\"text_37\">\n      <!-- Kansas -->\n      <g style=\"fill: #262626\" transform=\"translate(657.425865 652.728594) rotate(-90) scale(0.16 -0.16)\">\n       <defs>\n        <path id=\"DejaVuSans-4b\" d=\"M 628 4666 \nL 1259 4666 \nL 1259 2694 \nL 3353 4666 \nL 4166 4666 \nL 1850 2491 \nL 4331 0 \nL 3500 0 \nL 1259 2247 \nL 1259 0 \nL 628 0 \nL 628 4666 \nz\n\" transform=\"scale(0.015625)\"/>\n       </defs>\n       <use xlink:href=\"#DejaVuSans-4b\"/>\n       <use xlink:href=\"#DejaVuSans-61\" x=\"63.826172\"/>\n       <use xlink:href=\"#DejaVuSans-6e\" x=\"125.105469\"/>\n       <use xlink:href=\"#DejaVuSans-73\" x=\"188.484375\"/>\n       <use xlink:href=\"#DejaVuSans-61\" x=\"240.583984\"/>\n       <use xlink:href=\"#DejaVuSans-73\" x=\"301.863281\"/>\n      </g>\n     </g>\n    </g>\n    <g id=\"xtick_38\">\n     <g id=\"line2d_38\">\n      <path d=\"M 669.107019 586.596094 \nL 669.107019 32.196094 \n\" clip-path=\"url(#p8a034ec986)\" style=\"fill: none; stroke: #cccccc; stroke-linecap: round\"/>\n     </g>\n     <g id=\"text_38\">\n      <!-- Oklahoma -->\n      <g style=\"fill: #262626\" transform=\"translate(673.522019 677.526094) rotate(-90) scale(0.16 -0.16)\">\n       <use xlink:href=\"#DejaVuSans-4f\"/>\n       <use xlink:href=\"#DejaVuSans-6b\" x=\"78.710938\"/>\n       <use xlink:href=\"#DejaVuSans-6c\" x=\"136.621094\"/>\n       <use xlink:href=\"#DejaVuSans-61\" x=\"164.404297\"/>\n       <use xlink:href=\"#DejaVuSans-68\" x=\"225.683594\"/>\n       <use xlink:href=\"#DejaVuSans-6f\" x=\"289.0625\"/>\n       <use xlink:href=\"#DejaVuSans-6d\" x=\"350.244141\"/>\n       <use xlink:href=\"#DejaVuSans-61\" x=\"447.65625\"/>\n      </g>\n     </g>\n    </g>\n    <g id=\"xtick_39\">\n     <g id=\"line2d_39\">\n      <path d=\"M 685.203173 586.596094 \nL 685.203173 32.196094 \n\" clip-path=\"url(#p8a034ec986)\" style=\"fill: none; stroke: #cccccc; stroke-linecap: round\"/>\n     </g>\n     <g id=\"text_39\">\n      <!-- Wisconsin -->\n      <g style=\"fill: #262626\" transform=\"translate(689.618173 675.983594) rotate(-90) scale(0.16 -0.16)\">\n       <use xlink:href=\"#DejaVuSans-57\"/>\n       <use xlink:href=\"#DejaVuSans-69\" x=\"96.626953\"/>\n       <use xlink:href=\"#DejaVuSans-73\" x=\"124.410156\"/>\n       <use xlink:href=\"#DejaVuSans-63\" x=\"176.509766\"/>\n       <use xlink:href=\"#DejaVuSans-6f\" x=\"231.490234\"/>\n       <use xlink:href=\"#DejaVuSans-6e\" x=\"292.671875\"/>\n       <use xlink:href=\"#DejaVuSans-73\" x=\"356.050781\"/>\n       <use xlink:href=\"#DejaVuSans-69\" x=\"408.150391\"/>\n       <use xlink:href=\"#DejaVuSans-6e\" x=\"435.933594\"/>\n      </g>\n     </g>\n    </g>\n    <g id=\"xtick_40\">\n     <g id=\"line2d_40\">\n      <path d=\"M 701.299327 586.596094 \nL 701.299327 32.196094 \n\" clip-path=\"url(#p8a034ec986)\" style=\"fill: none; stroke: #cccccc; stroke-linecap: round\"/>\n     </g>\n     <g id=\"text_40\">\n      <!-- Mississippi -->\n      <g style=\"fill: #262626\" transform=\"translate(705.714327 681.336094) rotate(-90) scale(0.16 -0.16)\">\n       <use xlink:href=\"#DejaVuSans-4d\"/>\n       <use xlink:href=\"#DejaVuSans-69\" x=\"86.279297\"/>\n       <use xlink:href=\"#DejaVuSans-73\" x=\"114.0625\"/>\n       <use xlink:href=\"#DejaVuSans-73\" x=\"166.162109\"/>\n       <use xlink:href=\"#DejaVuSans-69\" x=\"218.261719\"/>\n       <use xlink:href=\"#DejaVuSans-73\" x=\"246.044922\"/>\n       <use xlink:href=\"#DejaVuSans-73\" x=\"298.144531\"/>\n       <use xlink:href=\"#DejaVuSans-69\" x=\"350.244141\"/>\n       <use xlink:href=\"#DejaVuSans-70\" x=\"378.027344\"/>\n       <use xlink:href=\"#DejaVuSans-70\" x=\"441.503906\"/>\n       <use xlink:href=\"#DejaVuSans-69\" x=\"504.980469\"/>\n      </g>\n     </g>\n    </g>\n    <g id=\"xtick_41\">\n     <g id=\"line2d_41\">\n      <path d=\"M 717.395481 586.596094 \nL 717.395481 32.196094 \n\" clip-path=\"url(#p8a034ec986)\" style=\"fill: none; stroke: #cccccc; stroke-linecap: round\"/>\n     </g>\n     <g id=\"text_41\">\n      <!-- Missouri -->\n      <g style=\"fill: #262626\" transform=\"translate(721.810481 661.968594) rotate(-90) scale(0.16 -0.16)\">\n       <use xlink:href=\"#DejaVuSans-4d\"/>\n       <use xlink:href=\"#DejaVuSans-69\" x=\"86.279297\"/>\n       <use xlink:href=\"#DejaVuSans-73\" x=\"114.0625\"/>\n       <use xlink:href=\"#DejaVuSans-73\" x=\"166.162109\"/>\n       <use xlink:href=\"#DejaVuSans-6f\" x=\"218.261719\"/>\n       <use xlink:href=\"#DejaVuSans-75\" x=\"279.443359\"/>\n       <use xlink:href=\"#DejaVuSans-72\" x=\"342.822266\"/>\n       <use xlink:href=\"#DejaVuSans-69\" x=\"383.935547\"/>\n      </g>\n     </g>\n    </g>\n    <g id=\"xtick_42\">\n     <g id=\"line2d_42\">\n      <path d=\"M 733.491635 586.596094 \nL 733.491635 32.196094 \n\" clip-path=\"url(#p8a034ec986)\" style=\"fill: none; stroke: #cccccc; stroke-linecap: round\"/>\n     </g>\n     <g id=\"text_42\">\n      <!-- Michigan -->\n      <g style=\"fill: #262626\" transform=\"translate(737.906635 667.831094) rotate(-90) scale(0.16 -0.16)\">\n       <use xlink:href=\"#DejaVuSans-4d\"/>\n       <use xlink:href=\"#DejaVuSans-69\" x=\"86.279297\"/>\n       <use xlink:href=\"#DejaVuSans-63\" x=\"114.0625\"/>\n       <use xlink:href=\"#DejaVuSans-68\" x=\"169.042969\"/>\n       <use xlink:href=\"#DejaVuSans-69\" x=\"232.421875\"/>\n       <use xlink:href=\"#DejaVuSans-67\" x=\"260.205078\"/>\n       <use xlink:href=\"#DejaVuSans-61\" x=\"323.681641\"/>\n       <use xlink:href=\"#DejaVuSans-6e\" x=\"384.960938\"/>\n      </g>\n     </g>\n    </g>\n    <g id=\"xtick_43\">\n     <g id=\"line2d_43\">\n      <path d=\"M 749.587788 586.596094 \nL 749.587788 32.196094 \n\" clip-path=\"url(#p8a034ec986)\" style=\"fill: none; stroke: #cccccc; stroke-linecap: round\"/>\n     </g>\n     <g id=\"text_43\">\n      <!-- Rhode Island -->\n      <g style=\"fill: #262626\" transform=\"translate(754.002788 699.833594) rotate(-90) scale(0.16 -0.16)\">\n       <defs>\n        <path id=\"DejaVuSans-52\" d=\"M 2841 2188 \nQ 3044 2119 3236 1894 \nQ 3428 1669 3622 1275 \nL 4263 0 \nL 3584 0 \nL 2988 1197 \nQ 2756 1666 2539 1819 \nQ 2322 1972 1947 1972 \nL 1259 1972 \nL 1259 0 \nL 628 0 \nL 628 4666 \nL 2053 4666 \nQ 2853 4666 3247 4331 \nQ 3641 3997 3641 3322 \nQ 3641 2881 3436 2590 \nQ 3231 2300 2841 2188 \nz\nM 1259 4147 \nL 1259 2491 \nL 2053 2491 \nQ 2509 2491 2742 2702 \nQ 2975 2913 2975 3322 \nQ 2975 3731 2742 3939 \nQ 2509 4147 2053 4147 \nL 1259 4147 \nz\n\" transform=\"scale(0.015625)\"/>\n       </defs>\n       <use xlink:href=\"#DejaVuSans-52\"/>\n       <use xlink:href=\"#DejaVuSans-68\" x=\"69.482422\"/>\n       <use xlink:href=\"#DejaVuSans-6f\" x=\"132.861328\"/>\n       <use xlink:href=\"#DejaVuSans-64\" x=\"194.042969\"/>\n       <use xlink:href=\"#DejaVuSans-65\" x=\"257.519531\"/>\n       <use xlink:href=\"#DejaVuSans-20\" x=\"319.042969\"/>\n       <use xlink:href=\"#DejaVuSans-49\" x=\"350.830078\"/>\n       <use xlink:href=\"#DejaVuSans-73\" x=\"380.322266\"/>\n       <use xlink:href=\"#DejaVuSans-6c\" x=\"432.421875\"/>\n       <use xlink:href=\"#DejaVuSans-61\" x=\"460.205078\"/>\n       <use xlink:href=\"#DejaVuSans-6e\" x=\"521.484375\"/>\n       <use xlink:href=\"#DejaVuSans-64\" x=\"584.863281\"/>\n      </g>\n     </g>\n    </g>\n    <g id=\"xtick_44\">\n     <g id=\"line2d_44\">\n      <path d=\"M 765.683942 586.596094 \nL 765.683942 32.196094 \n\" clip-path=\"url(#p8a034ec986)\" style=\"fill: none; stroke: #cccccc; stroke-linecap: round\"/>\n     </g>\n     <g id=\"text_44\">\n      <!-- Minnesota -->\n      <g style=\"fill: #262626\" transform=\"translate(770.098942 678.673594) rotate(-90) scale(0.16 -0.16)\">\n       <use xlink:href=\"#DejaVuSans-4d\"/>\n       <use xlink:href=\"#DejaVuSans-69\" x=\"86.279297\"/>\n       <use xlink:href=\"#DejaVuSans-6e\" x=\"114.0625\"/>\n       <use xlink:href=\"#DejaVuSans-6e\" x=\"177.441406\"/>\n       <use xlink:href=\"#DejaVuSans-65\" x=\"240.820312\"/>\n       <use xlink:href=\"#DejaVuSans-73\" x=\"302.34375\"/>\n       <use xlink:href=\"#DejaVuSans-6f\" x=\"354.443359\"/>\n       <use xlink:href=\"#DejaVuSans-74\" x=\"415.625\"/>\n       <use xlink:href=\"#DejaVuSans-61\" x=\"454.833984\"/>\n      </g>\n     </g>\n    </g>\n    <g id=\"xtick_45\">\n     <g id=\"line2d_45\">\n      <path d=\"M 781.780096 586.596094 \nL 781.780096 32.196094 \n\" clip-path=\"url(#p8a034ec986)\" style=\"fill: none; stroke: #cccccc; stroke-linecap: round\"/>\n     </g>\n     <g id=\"text_45\">\n      <!-- Iowa -->\n      <g style=\"fill: #262626\" transform=\"translate(786.195096 633.496094) rotate(-90) scale(0.16 -0.16)\">\n       <use xlink:href=\"#DejaVuSans-49\"/>\n       <use xlink:href=\"#DejaVuSans-6f\" x=\"29.492188\"/>\n       <use xlink:href=\"#DejaVuSans-77\" x=\"90.673828\"/>\n       <use xlink:href=\"#DejaVuSans-61\" x=\"172.460938\"/>\n      </g>\n     </g>\n    </g>\n    <g id=\"xtick_46\">\n     <g id=\"line2d_46\">\n      <path d=\"M 797.87625 586.596094 \nL 797.87625 32.196094 \n\" clip-path=\"url(#p8a034ec986)\" style=\"fill: none; stroke: #cccccc; stroke-linecap: round\"/>\n     </g>\n     <g id=\"text_46\">\n      <!-- New Mexico -->\n      <g style=\"fill: #262626\" transform=\"translate(802.29125 691.953594) rotate(-90) scale(0.16 -0.16)\">\n       <use xlink:href=\"#DejaVuSans-4e\"/>\n       <use xlink:href=\"#DejaVuSans-65\" x=\"74.804688\"/>\n       <use xlink:href=\"#DejaVuSans-77\" x=\"136.328125\"/>\n       <use xlink:href=\"#DejaVuSans-20\" x=\"218.115234\"/>\n       <use xlink:href=\"#DejaVuSans-4d\" x=\"249.902344\"/>\n       <use xlink:href=\"#DejaVuSans-65\" x=\"336.181641\"/>\n       <use xlink:href=\"#DejaVuSans-78\" x=\"395.955078\"/>\n       <use xlink:href=\"#DejaVuSans-69\" x=\"455.134766\"/>\n       <use xlink:href=\"#DejaVuSans-63\" x=\"482.917969\"/>\n       <use xlink:href=\"#DejaVuSans-6f\" x=\"537.898438\"/>\n      </g>\n     </g>\n    </g>\n    <g id=\"xtick_47\">\n     <g id=\"line2d_47\">\n      <path d=\"M 813.972404 586.596094 \nL 813.972404 32.196094 \n\" clip-path=\"url(#p8a034ec986)\" style=\"fill: none; stroke: #cccccc; stroke-linecap: round\"/>\n     </g>\n     <g id=\"text_47\">\n      <!-- Nevada -->\n      <g style=\"fill: #262626\" transform=\"translate(818.387404 657.148594) rotate(-90) scale(0.16 -0.16)\">\n       <use xlink:href=\"#DejaVuSans-4e\"/>\n       <use xlink:href=\"#DejaVuSans-65\" x=\"74.804688\"/>\n       <use xlink:href=\"#DejaVuSans-76\" x=\"136.328125\"/>\n       <use xlink:href=\"#DejaVuSans-61\" x=\"195.507812\"/>\n       <use xlink:href=\"#DejaVuSans-64\" x=\"256.787109\"/>\n       <use xlink:href=\"#DejaVuSans-61\" x=\"320.263672\"/>\n      </g>\n     </g>\n    </g>\n    <g id=\"xtick_48\">\n     <g id=\"line2d_48\">\n      <path d=\"M 830.068558 586.596094 \nL 830.068558 32.196094 \n\" clip-path=\"url(#p8a034ec986)\" style=\"fill: none; stroke: #cccccc; stroke-linecap: round\"/>\n     </g>\n     <g id=\"text_48\">\n      <!-- Delaware -->\n      <g style=\"fill: #262626\" transform=\"translate(834.483558 671.463594) rotate(-90) scale(0.16 -0.16)\">\n       <use xlink:href=\"#DejaVuSans-44\"/>\n       <use xlink:href=\"#DejaVuSans-65\" x=\"77.001953\"/>\n       <use xlink:href=\"#DejaVuSans-6c\" x=\"138.525391\"/>\n       <use xlink:href=\"#DejaVuSans-61\" x=\"166.308594\"/>\n       <use xlink:href=\"#DejaVuSans-77\" x=\"227.587891\"/>\n       <use xlink:href=\"#DejaVuSans-61\" x=\"309.375\"/>\n       <use xlink:href=\"#DejaVuSans-72\" x=\"370.654297\"/>\n       <use xlink:href=\"#DejaVuSans-65\" x=\"409.517578\"/>\n      </g>\n     </g>\n    </g>\n    <g id=\"xtick_49\">\n     <g id=\"line2d_49\">\n      <path d=\"M 846.164712 586.596094 \nL 846.164712 32.196094 \n\" clip-path=\"url(#p8a034ec986)\" style=\"fill: none; stroke: #cccccc; stroke-linecap: round\"/>\n     </g>\n     <g id=\"text_49\">\n      <!-- Puerto Rico -->\n      <g style=\"fill: #262626\" transform=\"translate(850.579712 687.323594) rotate(-90) scale(0.16 -0.16)\">\n       <use xlink:href=\"#DejaVuSans-50\"/>\n       <use xlink:href=\"#DejaVuSans-75\" x=\"58.552734\"/>\n       <use xlink:href=\"#DejaVuSans-65\" x=\"121.931641\"/>\n       <use xlink:href=\"#DejaVuSans-72\" x=\"183.455078\"/>\n       <use xlink:href=\"#DejaVuSans-74\" x=\"224.568359\"/>\n       <use xlink:href=\"#DejaVuSans-6f\" x=\"263.777344\"/>\n       <use xlink:href=\"#DejaVuSans-20\" x=\"324.958984\"/>\n       <use xlink:href=\"#DejaVuSans-52\" x=\"356.746094\"/>\n       <use xlink:href=\"#DejaVuSans-69\" x=\"426.228516\"/>\n       <use xlink:href=\"#DejaVuSans-63\" x=\"454.011719\"/>\n       <use xlink:href=\"#DejaVuSans-6f\" x=\"508.992188\"/>\n      </g>\n     </g>\n    </g>\n    <g id=\"xtick_50\">\n     <g id=\"line2d_50\">\n      <path d=\"M 862.260865 586.596094 \nL 862.260865 32.196094 \n\" clip-path=\"url(#p8a034ec986)\" style=\"fill: none; stroke: #cccccc; stroke-linecap: round\"/>\n     </g>\n     <g id=\"text_50\">\n      <!-- Kentucky -->\n      <g style=\"fill: #262626\" transform=\"translate(866.675865 669.138594) rotate(-90) scale(0.16 -0.16)\">\n       <use xlink:href=\"#DejaVuSans-4b\"/>\n       <use xlink:href=\"#DejaVuSans-65\" x=\"60.576172\"/>\n       <use xlink:href=\"#DejaVuSans-6e\" x=\"122.099609\"/>\n       <use xlink:href=\"#DejaVuSans-74\" x=\"185.478516\"/>\n       <use xlink:href=\"#DejaVuSans-75\" x=\"224.6875\"/>\n       <use xlink:href=\"#DejaVuSans-63\" x=\"288.066406\"/>\n       <use xlink:href=\"#DejaVuSans-6b\" x=\"343.046875\"/>\n       <use xlink:href=\"#DejaVuSans-79\" x=\"397.332031\"/>\n      </g>\n     </g>\n    </g>\n    <g id=\"xtick_51\">\n     <g id=\"line2d_51\">\n      <path d=\"M 878.357019 586.596094 \nL 878.357019 32.196094 \n\" clip-path=\"url(#p8a034ec986)\" style=\"fill: none; stroke: #cccccc; stroke-linecap: round\"/>\n     </g>\n     <g id=\"text_51\">\n      <!-- South Dakota -->\n      <g style=\"fill: #262626\" transform=\"translate(882.772019 704.358594) rotate(-90) scale(0.16 -0.16)\">\n       <use xlink:href=\"#DejaVuSans-53\"/>\n       <use xlink:href=\"#DejaVuSans-6f\" x=\"63.476562\"/>\n       <use xlink:href=\"#DejaVuSans-75\" x=\"124.658203\"/>\n       <use xlink:href=\"#DejaVuSans-74\" x=\"188.037109\"/>\n       <use xlink:href=\"#DejaVuSans-68\" x=\"227.246094\"/>\n       <use xlink:href=\"#DejaVuSans-20\" x=\"290.625\"/>\n       <use xlink:href=\"#DejaVuSans-44\" x=\"322.412109\"/>\n       <use xlink:href=\"#DejaVuSans-61\" x=\"399.414062\"/>\n       <use xlink:href=\"#DejaVuSans-6b\" x=\"460.693359\"/>\n       <use xlink:href=\"#DejaVuSans-6f\" x=\"514.978516\"/>\n       <use xlink:href=\"#DejaVuSans-74\" x=\"576.160156\"/>\n       <use xlink:href=\"#DejaVuSans-61\" x=\"615.369141\"/>\n      </g>\n     </g>\n    </g>\n    <g id=\"xtick_52\">\n     <g id=\"line2d_52\">\n      <path d=\"M 894.453173 586.596094 \nL 894.453173 32.196094 \n\" clip-path=\"url(#p8a034ec986)\" style=\"fill: none; stroke: #cccccc; stroke-linecap: round\"/>\n     </g>\n     <g id=\"text_52\">\n      <!-- Tennessee -->\n      <g style=\"fill: #262626\" transform=\"translate(898.868173 679.478594) rotate(-90) scale(0.16 -0.16)\">\n       <use xlink:href=\"#DejaVuSans-54\"/>\n       <use xlink:href=\"#DejaVuSans-65\" x=\"44.083984\"/>\n       <use xlink:href=\"#DejaVuSans-6e\" x=\"105.607422\"/>\n       <use xlink:href=\"#DejaVuSans-6e\" x=\"168.986328\"/>\n       <use xlink:href=\"#DejaVuSans-65\" x=\"232.365234\"/>\n       <use xlink:href=\"#DejaVuSans-73\" x=\"293.888672\"/>\n       <use xlink:href=\"#DejaVuSans-73\" x=\"345.988281\"/>\n       <use xlink:href=\"#DejaVuSans-65\" x=\"398.087891\"/>\n       <use xlink:href=\"#DejaVuSans-65\" x=\"459.611328\"/>\n      </g>\n     </g>\n    </g>\n    <g id=\"text_53\">\n     <!-- State -->\n     <g style=\"fill: #262626\" transform=\"translate(457.530938 773.890469) scale(0.2 -0.2)\">\n      <use xlink:href=\"#DejaVuSans-53\"/>\n      <use xlink:href=\"#DejaVuSans-74\" x=\"63.476562\"/>\n      <use xlink:href=\"#DejaVuSans-61\" x=\"102.685547\"/>\n      <use xlink:href=\"#DejaVuSans-74\" x=\"163.964844\"/>\n      <use xlink:href=\"#DejaVuSans-65\" x=\"203.173828\"/>\n     </g>\n    </g>\n   </g>\n   <g id=\"matplotlib.axis_2\">\n    <g id=\"ytick_1\">\n     <g id=\"line2d_53\">\n      <path d=\"M 65.50125 586.596094 \nL 902.50125 586.596094 \n\" clip-path=\"url(#p8a034ec986)\" style=\"fill: none; stroke: #cccccc; stroke-linecap: round\"/>\n     </g>\n     <g id=\"text_54\">\n      <!-- 0.0 -->\n      <g style=\"fill: #262626\" transform=\"translate(30.55625 592.674844) scale(0.16 -0.16)\">\n       <defs>\n        <path id=\"DejaVuSans-30\" d=\"M 2034 4250 \nQ 1547 4250 1301 3770 \nQ 1056 3291 1056 2328 \nQ 1056 1369 1301 889 \nQ 1547 409 2034 409 \nQ 2525 409 2770 889 \nQ 3016 1369 3016 2328 \nQ 3016 3291 2770 3770 \nQ 2525 4250 2034 4250 \nz\nM 2034 4750 \nQ 2819 4750 3233 4129 \nQ 3647 3509 3647 2328 \nQ 3647 1150 3233 529 \nQ 2819 -91 2034 -91 \nQ 1250 -91 836 529 \nQ 422 1150 422 2328 \nQ 422 3509 836 4129 \nQ 1250 4750 2034 4750 \nz\n\" transform=\"scale(0.015625)\"/>\n        <path id=\"DejaVuSans-2e\" d=\"M 684 794 \nL 1344 794 \nL 1344 0 \nL 684 0 \nL 684 794 \nz\n\" transform=\"scale(0.015625)\"/>\n       </defs>\n       <use xlink:href=\"#DejaVuSans-30\"/>\n       <use xlink:href=\"#DejaVuSans-2e\" x=\"63.623047\"/>\n       <use xlink:href=\"#DejaVuSans-30\" x=\"95.410156\"/>\n      </g>\n     </g>\n    </g>\n    <g id=\"ytick_2\">\n     <g id=\"line2d_54\">\n      <path d=\"M 65.50125 519.499096 \nL 902.50125 519.499096 \n\" clip-path=\"url(#p8a034ec986)\" style=\"fill: none; stroke: #cccccc; stroke-linecap: round\"/>\n     </g>\n     <g id=\"text_55\">\n      <!-- 0.5 -->\n      <g style=\"fill: #262626\" transform=\"translate(30.55625 525.577846) scale(0.16 -0.16)\">\n       <defs>\n        <path id=\"DejaVuSans-35\" d=\"M 691 4666 \nL 3169 4666 \nL 3169 4134 \nL 1269 4134 \nL 1269 2991 \nQ 1406 3038 1543 3061 \nQ 1681 3084 1819 3084 \nQ 2600 3084 3056 2656 \nQ 3513 2228 3513 1497 \nQ 3513 744 3044 326 \nQ 2575 -91 1722 -91 \nQ 1428 -91 1123 -41 \nQ 819 9 494 109 \nL 494 744 \nQ 775 591 1075 516 \nQ 1375 441 1709 441 \nQ 2250 441 2565 725 \nQ 2881 1009 2881 1497 \nQ 2881 1984 2565 2268 \nQ 2250 2553 1709 2553 \nQ 1456 2553 1204 2497 \nQ 953 2441 691 2322 \nL 691 4666 \nz\n\" transform=\"scale(0.015625)\"/>\n       </defs>\n       <use xlink:href=\"#DejaVuSans-30\"/>\n       <use xlink:href=\"#DejaVuSans-2e\" x=\"63.623047\"/>\n       <use xlink:href=\"#DejaVuSans-35\" x=\"95.410156\"/>\n      </g>\n     </g>\n    </g>\n    <g id=\"ytick_3\">\n     <g id=\"line2d_55\">\n      <path d=\"M 65.50125 452.402099 \nL 902.50125 452.402099 \n\" clip-path=\"url(#p8a034ec986)\" style=\"fill: none; stroke: #cccccc; stroke-linecap: round\"/>\n     </g>\n     <g id=\"text_56\">\n      <!-- 1.0 -->\n      <g style=\"fill: #262626\" transform=\"translate(30.55625 458.480849) scale(0.16 -0.16)\">\n       <defs>\n        <path id=\"DejaVuSans-31\" d=\"M 794 531 \nL 1825 531 \nL 1825 4091 \nL 703 3866 \nL 703 4441 \nL 1819 4666 \nL 2450 4666 \nL 2450 531 \nL 3481 531 \nL 3481 0 \nL 794 0 \nL 794 531 \nz\n\" transform=\"scale(0.015625)\"/>\n       </defs>\n       <use xlink:href=\"#DejaVuSans-31\"/>\n       <use xlink:href=\"#DejaVuSans-2e\" x=\"63.623047\"/>\n       <use xlink:href=\"#DejaVuSans-30\" x=\"95.410156\"/>\n      </g>\n     </g>\n    </g>\n    <g id=\"ytick_4\">\n     <g id=\"line2d_56\">\n      <path d=\"M 65.50125 385.305102 \nL 902.50125 385.305102 \n\" clip-path=\"url(#p8a034ec986)\" style=\"fill: none; stroke: #cccccc; stroke-linecap: round\"/>\n     </g>\n     <g id=\"text_57\">\n      <!-- 1.5 -->\n      <g style=\"fill: #262626\" transform=\"translate(30.55625 391.383852) scale(0.16 -0.16)\">\n       <use xlink:href=\"#DejaVuSans-31\"/>\n       <use xlink:href=\"#DejaVuSans-2e\" x=\"63.623047\"/>\n       <use xlink:href=\"#DejaVuSans-35\" x=\"95.410156\"/>\n      </g>\n     </g>\n    </g>\n    <g id=\"ytick_5\">\n     <g id=\"line2d_57\">\n      <path d=\"M 65.50125 318.208104 \nL 902.50125 318.208104 \n\" clip-path=\"url(#p8a034ec986)\" style=\"fill: none; stroke: #cccccc; stroke-linecap: round\"/>\n     </g>\n     <g id=\"text_58\">\n      <!-- 2.0 -->\n      <g style=\"fill: #262626\" transform=\"translate(30.55625 324.286854) scale(0.16 -0.16)\">\n       <defs>\n        <path id=\"DejaVuSans-32\" d=\"M 1228 531 \nL 3431 531 \nL 3431 0 \nL 469 0 \nL 469 531 \nQ 828 903 1448 1529 \nQ 2069 2156 2228 2338 \nQ 2531 2678 2651 2914 \nQ 2772 3150 2772 3378 \nQ 2772 3750 2511 3984 \nQ 2250 4219 1831 4219 \nQ 1534 4219 1204 4116 \nQ 875 4013 500 3803 \nL 500 4441 \nQ 881 4594 1212 4672 \nQ 1544 4750 1819 4750 \nQ 2544 4750 2975 4387 \nQ 3406 4025 3406 3419 \nQ 3406 3131 3298 2873 \nQ 3191 2616 2906 2266 \nQ 2828 2175 2409 1742 \nQ 1991 1309 1228 531 \nz\n\" transform=\"scale(0.015625)\"/>\n       </defs>\n       <use xlink:href=\"#DejaVuSans-32\"/>\n       <use xlink:href=\"#DejaVuSans-2e\" x=\"63.623047\"/>\n       <use xlink:href=\"#DejaVuSans-30\" x=\"95.410156\"/>\n      </g>\n     </g>\n    </g>\n    <g id=\"ytick_6\">\n     <g id=\"line2d_58\">\n      <path d=\"M 65.50125 251.111107 \nL 902.50125 251.111107 \n\" clip-path=\"url(#p8a034ec986)\" style=\"fill: none; stroke: #cccccc; stroke-linecap: round\"/>\n     </g>\n     <g id=\"text_59\">\n      <!-- 2.5 -->\n      <g style=\"fill: #262626\" transform=\"translate(30.55625 257.189857) scale(0.16 -0.16)\">\n       <use xlink:href=\"#DejaVuSans-32\"/>\n       <use xlink:href=\"#DejaVuSans-2e\" x=\"63.623047\"/>\n       <use xlink:href=\"#DejaVuSans-35\" x=\"95.410156\"/>\n      </g>\n     </g>\n    </g>\n    <g id=\"ytick_7\">\n     <g id=\"line2d_59\">\n      <path d=\"M 65.50125 184.01411 \nL 902.50125 184.01411 \n\" clip-path=\"url(#p8a034ec986)\" style=\"fill: none; stroke: #cccccc; stroke-linecap: round\"/>\n     </g>\n     <g id=\"text_60\">\n      <!-- 3.0 -->\n      <g style=\"fill: #262626\" transform=\"translate(30.55625 190.09286) scale(0.16 -0.16)\">\n       <defs>\n        <path id=\"DejaVuSans-33\" d=\"M 2597 2516 \nQ 3050 2419 3304 2112 \nQ 3559 1806 3559 1356 \nQ 3559 666 3084 287 \nQ 2609 -91 1734 -91 \nQ 1441 -91 1130 -33 \nQ 819 25 488 141 \nL 488 750 \nQ 750 597 1062 519 \nQ 1375 441 1716 441 \nQ 2309 441 2620 675 \nQ 2931 909 2931 1356 \nQ 2931 1769 2642 2001 \nQ 2353 2234 1838 2234 \nL 1294 2234 \nL 1294 2753 \nL 1863 2753 \nQ 2328 2753 2575 2939 \nQ 2822 3125 2822 3475 \nQ 2822 3834 2567 4026 \nQ 2313 4219 1838 4219 \nQ 1578 4219 1281 4162 \nQ 984 4106 628 3988 \nL 628 4550 \nQ 988 4650 1302 4700 \nQ 1616 4750 1894 4750 \nQ 2613 4750 3031 4423 \nQ 3450 4097 3450 3541 \nQ 3450 3153 3228 2886 \nQ 3006 2619 2597 2516 \nz\n\" transform=\"scale(0.015625)\"/>\n       </defs>\n       <use xlink:href=\"#DejaVuSans-33\"/>\n       <use xlink:href=\"#DejaVuSans-2e\" x=\"63.623047\"/>\n       <use xlink:href=\"#DejaVuSans-30\" x=\"95.410156\"/>\n      </g>\n     </g>\n    </g>\n    <g id=\"ytick_8\">\n     <g id=\"line2d_60\">\n      <path d=\"M 65.50125 116.917112 \nL 902.50125 116.917112 \n\" clip-path=\"url(#p8a034ec986)\" style=\"fill: none; stroke: #cccccc; stroke-linecap: round\"/>\n     </g>\n     <g id=\"text_61\">\n      <!-- 3.5 -->\n      <g style=\"fill: #262626\" transform=\"translate(30.55625 122.995862) scale(0.16 -0.16)\">\n       <use xlink:href=\"#DejaVuSans-33\"/>\n       <use xlink:href=\"#DejaVuSans-2e\" x=\"63.623047\"/>\n       <use xlink:href=\"#DejaVuSans-35\" x=\"95.410156\"/>\n      </g>\n     </g>\n    </g>\n    <g id=\"ytick_9\">\n     <g id=\"line2d_61\">\n      <path d=\"M 65.50125 49.820115 \nL 902.50125 49.820115 \n\" clip-path=\"url(#p8a034ec986)\" style=\"fill: none; stroke: #cccccc; stroke-linecap: round\"/>\n     </g>\n     <g id=\"text_62\">\n      <!-- 4.0 -->\n      <g style=\"fill: #262626\" transform=\"translate(30.55625 55.898865) scale(0.16 -0.16)\">\n       <defs>\n        <path id=\"DejaVuSans-34\" d=\"M 2419 4116 \nL 825 1625 \nL 2419 1625 \nL 2419 4116 \nz\nM 2253 4666 \nL 3047 4666 \nL 3047 1625 \nL 3713 1625 \nL 3713 1100 \nL 3047 1100 \nL 3047 0 \nL 2419 0 \nL 2419 1100 \nL 313 1100 \nL 313 1709 \nL 2253 4666 \nz\n\" transform=\"scale(0.015625)\"/>\n       </defs>\n       <use xlink:href=\"#DejaVuSans-34\"/>\n       <use xlink:href=\"#DejaVuSans-2e\" x=\"63.623047\"/>\n       <use xlink:href=\"#DejaVuSans-30\" x=\"95.410156\"/>\n      </g>\n     </g>\n    </g>\n    <g id=\"text_63\">\n     <!-- Population -->\n     <g style=\"fill: #262626\" transform=\"translate(22.396875 361.928906) rotate(-90) scale(0.2 -0.2)\">\n      <use xlink:href=\"#DejaVuSans-50\"/>\n      <use xlink:href=\"#DejaVuSans-6f\" x=\"56.677734\"/>\n      <use xlink:href=\"#DejaVuSans-70\" x=\"117.859375\"/>\n      <use xlink:href=\"#DejaVuSans-75\" x=\"181.335938\"/>\n      <use xlink:href=\"#DejaVuSans-6c\" x=\"244.714844\"/>\n      <use xlink:href=\"#DejaVuSans-61\" x=\"272.498047\"/>\n      <use xlink:href=\"#DejaVuSans-74\" x=\"333.777344\"/>\n      <use xlink:href=\"#DejaVuSans-69\" x=\"372.986328\"/>\n      <use xlink:href=\"#DejaVuSans-6f\" x=\"400.769531\"/>\n      <use xlink:href=\"#DejaVuSans-6e\" x=\"461.951172\"/>\n     </g>\n    </g>\n    <g id=\"text_64\">\n     <!-- 1e7 -->\n     <g style=\"fill: #262626\" transform=\"translate(65.50125 29.196094) scale(0.11 -0.11)\">\n      <defs>\n       <path id=\"DejaVuSans-37\" d=\"M 525 4666 \nL 3525 4666 \nL 3525 4397 \nL 1831 0 \nL 1172 0 \nL 2766 4134 \nL 525 4134 \nL 525 4666 \nz\n\" transform=\"scale(0.015625)\"/>\n      </defs>\n      <use xlink:href=\"#DejaVuSans-31\"/>\n      <use xlink:href=\"#DejaVuSans-65\" x=\"63.623047\"/>\n      <use xlink:href=\"#DejaVuSans-37\" x=\"125.146484\"/>\n     </g>\n    </g>\n   </g>\n   <g id=\"patch_3\">\n    <path d=\"M 69.525288 586.596094 \nL 77.573365 586.596094 \nL 77.573365 414.896421 \nL 69.525288 414.896421 \nz\n\" clip-path=\"url(#p8a034ec986)\" style=\"fill: #ff5733; stroke: #ffffff; stroke-linejoin: miter\"/>\n   </g>\n   <g id=\"patch_4\">\n    <path d=\"M 85.621442 586.596094 \nL 93.669519 586.596094 \nL 93.669519 58.596094 \nL 85.621442 58.596094 \nz\n\" clip-path=\"url(#p8a034ec986)\" style=\"fill: #c70039; stroke: #ffffff; stroke-linejoin: miter\"/>\n   </g>\n   <g id=\"patch_5\">\n    <path d=\"M 101.717596 586.596094 \nL 109.765673 586.596094 \nL 109.765673 562.341522 \nL 101.717596 562.341522 \nz\n\" clip-path=\"url(#p8a034ec986)\" style=\"fill: #ffc300; stroke: #ffffff; stroke-linejoin: miter\"/>\n   </g>\n   <g id=\"patch_6\">\n    <path d=\"M 117.81375 586.596094 \nL 125.861827 586.596094 \nL 125.861827 544.308359 \nL 117.81375 544.308359 \nz\n\" clip-path=\"url(#p8a034ec986)\" style=\"fill: #daf7a6; stroke: #ffffff; stroke-linejoin: miter\"/>\n   </g>\n   <g id=\"patch_7\">\n    <path d=\"M 133.909904 586.596094 \nL 141.957981 586.596094 \nL 141.957981 324.71854 \nL 133.909904 324.71854 \nz\n\" clip-path=\"url(#p8a034ec986)\" style=\"fill: #5dade2; stroke: #ffffff; stroke-linejoin: miter\"/>\n   </g>\n   <g id=\"patch_8\">\n    <path d=\"M 150.006058 586.596094 \nL 158.054135 586.596094 \nL 158.054135 577.176024 \nL 150.006058 577.176024 \nz\n\" clip-path=\"url(#p8a034ec986)\" style=\"fill: #7d3c98; stroke: #ffffff; stroke-linejoin: miter\"/>\n   </g>\n   <g id=\"patch_9\">\n    <path d=\"M 166.102212 586.596094 \nL 174.150288 586.596094 \nL 174.150288 576.706131 \nL 166.102212 576.706131 \nz\n\" clip-path=\"url(#p8a034ec986)\" style=\"fill: #ff5733; stroke: #ffffff; stroke-linejoin: miter\"/>\n   </g>\n   <g id=\"patch_10\">\n    <path d=\"M 182.198365 586.596094 \nL 190.246442 586.596094 \nL 190.246442 301.877715 \nL 182.198365 301.877715 \nz\n\" clip-path=\"url(#p8a034ec986)\" style=\"fill: #c70039; stroke: #ffffff; stroke-linejoin: miter\"/>\n   </g>\n   <g id=\"patch_11\">\n    <path d=\"M 198.294519 586.596094 \nL 206.342596 586.596094 \nL 206.342596 518.270993 \nL 198.294519 518.270993 \nz\n\" clip-path=\"url(#p8a034ec986)\" style=\"fill: #ffc300; stroke: #ffffff; stroke-linejoin: miter\"/>\n   </g>\n   <g id=\"patch_12\">\n    <path d=\"M 214.390673 586.596094 \nL 222.43875 586.596094 \nL 222.43875 576.392063 \nL 214.390673 576.392063 \nz\n\" clip-path=\"url(#p8a034ec986)\" style=\"fill: #daf7a6; stroke: #ffffff; stroke-linejoin: miter\"/>\n   </g>\n   <g id=\"patch_13\">\n    <path d=\"M 230.486827 586.596094 \nL 238.534904 586.596094 \nL 238.534904 568.603027 \nL 230.486827 568.603027 \nz\n\" clip-path=\"url(#p8a034ec986)\" style=\"fill: #5dade2; stroke: #ffffff; stroke-linejoin: miter\"/>\n   </g>\n   <g id=\"patch_14\">\n    <path d=\"M 246.582981 586.596094 \nL 254.631058 586.596094 \nL 254.631058 445.469919 \nL 246.582981 445.469919 \nz\n\" clip-path=\"url(#p8a034ec986)\" style=\"fill: #7d3c98; stroke: #ffffff; stroke-linejoin: miter\"/>\n   </g>\n   <g id=\"patch_15\">\n    <path d=\"M 262.679135 586.596094 \nL 270.727212 586.596094 \nL 270.727212 520.932476 \nL 262.679135 520.932476 \nz\n\" clip-path=\"url(#p8a034ec986)\" style=\"fill: #ff5733; stroke: #ffffff; stroke-linejoin: miter\"/>\n   </g>\n   <g id=\"patch_16\">\n    <path d=\"M 278.775288 586.596094 \nL 286.823365 586.596094 \nL 286.823365 568.409533 \nL 278.775288 568.409533 \nz\n\" clip-path=\"url(#p8a034ec986)\" style=\"fill: #c70039; stroke: #ffffff; stroke-linejoin: miter\"/>\n   </g>\n   <g id=\"patch_17\">\n    <path d=\"M 294.871442 586.596094 \nL 302.919519 586.596094 \nL 302.919519 530.552038 \nL 294.871442 530.552038 \nz\n\" clip-path=\"url(#p8a034ec986)\" style=\"fill: #ffc300; stroke: #ffffff; stroke-linejoin: miter\"/>\n   </g>\n   <g id=\"patch_18\">\n    <path d=\"M 310.967596 586.596094 \nL 319.015673 586.596094 \nL 319.015673 578.794753 \nL 310.967596 578.794753 \nz\n\" clip-path=\"url(#p8a034ec986)\" style=\"fill: #daf7a6; stroke: #ffffff; stroke-linejoin: miter\"/>\n   </g>\n   <g id=\"patch_19\">\n    <path d=\"M 327.06375 586.596094 \nL 335.111827 586.596094 \nL 335.111827 490.324463 \nL 327.06375 490.324463 \nz\n\" clip-path=\"url(#p8a034ec986)\" style=\"fill: #5dade2; stroke: #ffffff; stroke-linejoin: miter\"/>\n   </g>\n   <g id=\"patch_20\">\n    <path d=\"M 343.159904 586.596094 \nL 351.207981 586.596094 \nL 351.207981 523.999748 \nL 343.159904 523.999748 \nz\n\" clip-path=\"url(#p8a034ec986)\" style=\"fill: #7d3c98; stroke: #ffffff; stroke-linejoin: miter\"/>\n   </g>\n   <g id=\"patch_21\">\n    <path d=\"M 359.256058 586.596094 \nL 367.304135 586.596094 \nL 367.304135 496.727811 \nL 359.256058 496.727811 \nz\n\" clip-path=\"url(#p8a034ec986)\" style=\"fill: #ff5733; stroke: #ffffff; stroke-linejoin: miter\"/>\n   </g>\n   <g id=\"patch_22\">\n    <path d=\"M 375.352212 586.596094 \nL 383.400288 586.596094 \nL 383.400288 563.053542 \nL 375.352212 563.053542 \nz\n\" clip-path=\"url(#p8a034ec986)\" style=\"fill: #c70039; stroke: #ffffff; stroke-linejoin: miter\"/>\n   </g>\n   <g id=\"patch_23\">\n    <path d=\"M 391.448365 586.596094 \nL 399.496442 586.596094 \nL 399.496442 538.68147 \nL 391.448365 538.68147 \nz\n\" clip-path=\"url(#p8a034ec986)\" style=\"fill: #ffc300; stroke: #ffffff; stroke-linejoin: miter\"/>\n   </g>\n   <g id=\"patch_24\">\n    <path d=\"M 407.544519 586.596094 \nL 415.592596 586.596094 \nL 415.592596 567.539553 \nL 407.544519 567.539553 \nz\n\" clip-path=\"url(#p8a034ec986)\" style=\"fill: #daf7a6; stroke: #ffffff; stroke-linejoin: miter\"/>\n   </g>\n   <g id=\"patch_25\">\n    <path d=\"M 423.640673 586.596094 \nL 431.68875 586.596094 \nL 431.68875 415.952809 \nL 423.640673 415.952809 \nz\n\" clip-path=\"url(#p8a034ec986)\" style=\"fill: #5dade2; stroke: #ffffff; stroke-linejoin: miter\"/>\n   </g>\n   <g id=\"patch_26\">\n    <path d=\"M 439.736827 586.596094 \nL 447.784904 586.596094 \nL 447.784904 494.364521 \nL 439.736827 494.364521 \nz\n\" clip-path=\"url(#p8a034ec986)\" style=\"fill: #7d3c98; stroke: #ffffff; stroke-linejoin: miter\"/>\n   </g>\n   <g id=\"patch_27\">\n    <path d=\"M 455.832981 586.596094 \nL 463.881058 586.596094 \nL 463.881058 202.325659 \nL 455.832981 202.325659 \nz\n\" clip-path=\"url(#p8a034ec986)\" style=\"fill: #ff5733; stroke: #ffffff; stroke-linejoin: miter\"/>\n   </g>\n   <g id=\"patch_28\">\n    <path d=\"M 471.929135 586.596094 \nL 479.977212 586.596094 \nL 479.977212 572.34865 \nL 471.929135 572.34865 \nz\n\" clip-path=\"url(#p8a034ec986)\" style=\"fill: #c70039; stroke: #ffffff; stroke-linejoin: miter\"/>\n   </g>\n   <g id=\"patch_29\">\n    <path d=\"M 488.025288 586.596094 \nL 496.073365 586.596094 \nL 496.073365 560.779504 \nL 488.025288 560.779504 \nz\n\" clip-path=\"url(#p8a034ec986)\" style=\"fill: #ffc300; stroke: #ffffff; stroke-linejoin: miter\"/>\n   </g>\n   <g id=\"patch_30\">\n    <path d=\"M 504.121442 586.596094 \nL 512.169519 586.596094 \nL 512.169519 429.920915 \nL 504.121442 429.920915 \nz\n\" clip-path=\"url(#p8a034ec986)\" style=\"fill: #daf7a6; stroke: #ffffff; stroke-linejoin: miter\"/>\n   </g>\n   <g id=\"patch_31\">\n    <path d=\"M 520.217596 586.596094 \nL 528.265673 586.596094 \nL 528.265673 510.307801 \nL 520.217596 510.307801 \nz\n\" clip-path=\"url(#p8a034ec986)\" style=\"fill: #5dade2; stroke: #ffffff; stroke-linejoin: miter\"/>\n   </g>\n   <g id=\"patch_32\">\n    <path d=\"M 536.31375 586.596094 \nL 544.361827 586.596094 \nL 544.361827 467.35912 \nL 536.31375 467.35912 \nz\n\" clip-path=\"url(#p8a034ec986)\" style=\"fill: #7d3c98; stroke: #ffffff; stroke-linejoin: miter\"/>\n   </g>\n   <g id=\"patch_33\">\n    <path d=\"M 552.409904 586.596094 \nL 560.457981 586.596094 \nL 560.457981 505.574805 \nL 552.409904 505.574805 \nz\n\" clip-path=\"url(#p8a034ec986)\" style=\"fill: #ff5733; stroke: #ffffff; stroke-linejoin: miter\"/>\n   </g>\n   <g id=\"patch_34\">\n    <path d=\"M 568.506058 586.596094 \nL 576.554135 586.596094 \nL 576.554135 472.40562 \nL 568.506058 472.40562 \nz\n\" clip-path=\"url(#p8a034ec986)\" style=\"fill: #c70039; stroke: #ffffff; stroke-linejoin: miter\"/>\n   </g>\n   <g id=\"patch_35\">\n    <path d=\"M 584.602212 586.596094 \nL 592.650288 586.596094 \nL 592.650288 578.217826 \nL 584.602212 578.217826 \nz\n\" clip-path=\"url(#p8a034ec986)\" style=\"fill: #ffc300; stroke: #ffffff; stroke-linejoin: miter\"/>\n   </g>\n   <g id=\"patch_36\">\n    <path d=\"M 600.698365 586.596094 \nL 608.746442 586.596094 \nL 608.746442 447.219165 \nL 600.698365 447.219165 \nz\n\" clip-path=\"url(#p8a034ec986)\" style=\"fill: #daf7a6; stroke: #ffffff; stroke-linejoin: miter\"/>\n   </g>\n   <g id=\"patch_37\">\n    <path d=\"M 616.794519 586.596094 \nL 624.842596 586.596094 \nL 624.842596 546.178567 \nL 616.794519 546.178567 \nz\n\" clip-path=\"url(#p8a034ec986)\" style=\"fill: #5dade2; stroke: #ffffff; stroke-linejoin: miter\"/>\n   </g>\n   <g id=\"patch_38\">\n    <path d=\"M 632.890673 586.596094 \nL 640.93875 586.596094 \nL 640.93875 485.783325 \nL 632.890673 485.783325 \nz\n\" clip-path=\"url(#p8a034ec986)\" style=\"fill: #7d3c98; stroke: #ffffff; stroke-linejoin: miter\"/>\n   </g>\n   <g id=\"patch_39\">\n    <path d=\"M 648.986827 586.596094 \nL 657.034904 586.596094 \nL 657.034904 547.510496 \nL 648.986827 547.510496 \nz\n\" clip-path=\"url(#p8a034ec986)\" style=\"fill: #ff5733; stroke: #ffffff; stroke-linejoin: miter\"/>\n   </g>\n   <g id=\"patch_40\">\n    <path d=\"M 665.082981 586.596094 \nL 673.131058 586.596094 \nL 673.131058 533.598296 \nL 665.082981 533.598296 \nz\n\" clip-path=\"url(#p8a034ec986)\" style=\"fill: #c70039; stroke: #ffffff; stroke-linejoin: miter\"/>\n   </g>\n   <g id=\"patch_41\">\n    <path d=\"M 681.179135 586.596094 \nL 689.227212 586.596094 \nL 689.227212 508.669977 \nL 681.179135 508.669977 \nz\n\" clip-path=\"url(#p8a034ec986)\" style=\"fill: #ffc300; stroke: #ffffff; stroke-linejoin: miter\"/>\n   </g>\n   <g id=\"patch_42\">\n    <path d=\"M 697.275288 586.596094 \nL 705.323365 586.596094 \nL 705.323365 546.581659 \nL 697.275288 546.581659 \nz\n\" clip-path=\"url(#p8a034ec986)\" style=\"fill: #daf7a6; stroke: #ffffff; stroke-linejoin: miter\"/>\n   </g>\n   <g id=\"patch_43\">\n    <path d=\"M 713.371442 586.596094 \nL 721.419519 586.596094 \nL 721.419519 504.413544 \nL 713.371442 504.413544 \nz\n\" clip-path=\"url(#p8a034ec986)\" style=\"fill: #5dade2; stroke: #ffffff; stroke-linejoin: miter\"/>\n   </g>\n   <g id=\"patch_44\">\n    <path d=\"M 729.467596 586.596094 \nL 737.515673 586.596094 \nL 737.515673 452.752251 \nL 729.467596 452.752251 \nz\n\" clip-path=\"url(#p8a034ec986)\" style=\"fill: #7d3c98; stroke: #ffffff; stroke-linejoin: miter\"/>\n   </g>\n   <g id=\"patch_45\">\n    <path d=\"M 745.56375 586.596094 \nL 753.611827 586.596094 \nL 753.611827 572.40108 \nL 745.56375 572.40108 \nz\n\" clip-path=\"url(#p8a034ec986)\" style=\"fill: #ff5733; stroke: #ffffff; stroke-linejoin: miter\"/>\n   </g>\n   <g id=\"patch_46\">\n    <path d=\"M 761.659904 586.596094 \nL 769.707981 586.596094 \nL 769.707981 511.445229 \nL 761.659904 511.445229 \nz\n\" clip-path=\"url(#p8a034ec986)\" style=\"fill: #c70039; stroke: #ffffff; stroke-linejoin: miter\"/>\n   </g>\n   <g id=\"patch_47\">\n    <path d=\"M 777.756058 586.596094 \nL 785.804135 586.596094 \nL 785.804135 544.324838 \nL 777.756058 544.324838 \nz\n\" clip-path=\"url(#p8a034ec986)\" style=\"fill: #ffc300; stroke: #ffffff; stroke-linejoin: miter\"/>\n   </g>\n   <g id=\"patch_48\">\n    <path d=\"M 793.852212 586.596094 \nL 801.900288 586.596094 \nL 801.900288 558.455331 \nL 793.852212 558.455331 \nz\n\" clip-path=\"url(#p8a034ec986)\" style=\"fill: #daf7a6; stroke: #ffffff; stroke-linejoin: miter\"/>\n   </g>\n   <g id=\"patch_49\">\n    <path d=\"M 809.948365 586.596094 \nL 817.996442 586.596094 \nL 817.996442 545.931543 \nL 809.948365 545.931543 \nz\n\" clip-path=\"url(#p8a034ec986)\" style=\"fill: #5dade2; stroke: #ffffff; stroke-linejoin: miter\"/>\n   </g>\n   <g id=\"patch_50\">\n    <path d=\"M 826.044519 586.596094 \nL 834.092596 586.596094 \nL 834.092596 573.610423 \nL 826.044519 573.610423 \nz\n\" clip-path=\"url(#p8a034ec986)\" style=\"fill: #7d3c98; stroke: #ffffff; stroke-linejoin: miter\"/>\n   </g>\n   <g id=\"patch_51\">\n    <path d=\"M 842.140673 586.596094 \nL 850.18875 586.596094 \nL 850.18875 542.907333 \nL 842.140673 542.907333 \nz\n\" clip-path=\"url(#p8a034ec986)\" style=\"fill: #ff5733; stroke: #ffffff; stroke-linejoin: miter\"/>\n   </g>\n   <g id=\"patch_52\">\n    <path d=\"M 858.236827 586.596094 \nL 866.284904 586.596094 \nL 866.284904 526.719377 \nL 858.236827 526.719377 \nz\n\" clip-path=\"url(#p8a034ec986)\" style=\"fill: #c70039; stroke: #ffffff; stroke-linejoin: miter\"/>\n   </g>\n   <g id=\"patch_53\">\n    <path d=\"M 874.332981 586.596094 \nL 882.381058 586.596094 \nL 882.381058 574.795933 \nL 874.332981 574.795933 \nz\n\" clip-path=\"url(#p8a034ec986)\" style=\"fill: #ffc300; stroke: #ffffff; stroke-linejoin: miter\"/>\n   </g>\n   <g id=\"patch_54\">\n    <path d=\"M 890.429135 586.596094 \nL 898.477212 586.596094 \nL 898.477212 495.716324 \nL 890.429135 495.716324 \nz\n\" clip-path=\"url(#p8a034ec986)\" style=\"fill: #daf7a6; stroke: #ffffff; stroke-linejoin: miter\"/>\n   </g>\n   <g id=\"patch_55\">\n    <path d=\"M 65.50125 586.596094 \nL 65.50125 32.196094 \n\" style=\"fill: none; stroke: #cccccc; stroke-width: 1.25; stroke-linejoin: miter; stroke-linecap: square\"/>\n   </g>\n   <g id=\"patch_56\">\n    <path d=\"M 902.50125 586.596094 \nL 902.50125 32.196094 \n\" style=\"fill: none; stroke: #cccccc; stroke-width: 1.25; stroke-linejoin: miter; stroke-linecap: square\"/>\n   </g>\n   <g id=\"patch_57\">\n    <path d=\"M 65.50125 586.596094 \nL 902.50125 586.596094 \n\" style=\"fill: none; stroke: #cccccc; stroke-width: 1.25; stroke-linejoin: miter; stroke-linecap: square\"/>\n   </g>\n   <g id=\"patch_58\">\n    <path d=\"M 65.50125 32.196094 \nL 902.50125 32.196094 \n\" style=\"fill: none; stroke: #cccccc; stroke-width: 1.25; stroke-linejoin: miter; stroke-linecap: square\"/>\n   </g>\n   <g id=\"text_65\">\n    <!-- Population by State -->\n    <g style=\"fill: #262626\" transform=\"translate(361.968047 26.196094) scale(0.25 -0.25)\">\n     <use xlink:href=\"#DejaVuSans-50\"/>\n     <use xlink:href=\"#DejaVuSans-6f\" x=\"56.677734\"/>\n     <use xlink:href=\"#DejaVuSans-70\" x=\"117.859375\"/>\n     <use xlink:href=\"#DejaVuSans-75\" x=\"181.335938\"/>\n     <use xlink:href=\"#DejaVuSans-6c\" x=\"244.714844\"/>\n     <use xlink:href=\"#DejaVuSans-61\" x=\"272.498047\"/>\n     <use xlink:href=\"#DejaVuSans-74\" x=\"333.777344\"/>\n     <use xlink:href=\"#DejaVuSans-69\" x=\"372.986328\"/>\n     <use xlink:href=\"#DejaVuSans-6f\" x=\"400.769531\"/>\n     <use xlink:href=\"#DejaVuSans-6e\" x=\"461.951172\"/>\n     <use xlink:href=\"#DejaVuSans-20\" x=\"525.330078\"/>\n     <use xlink:href=\"#DejaVuSans-62\" x=\"557.117188\"/>\n     <use xlink:href=\"#DejaVuSans-79\" x=\"620.59375\"/>\n     <use xlink:href=\"#DejaVuSans-20\" x=\"679.773438\"/>\n     <use xlink:href=\"#DejaVuSans-53\" x=\"711.560547\"/>\n     <use xlink:href=\"#DejaVuSans-74\" x=\"775.037109\"/>\n     <use xlink:href=\"#DejaVuSans-61\" x=\"814.246094\"/>\n     <use xlink:href=\"#DejaVuSans-74\" x=\"875.525391\"/>\n     <use xlink:href=\"#DejaVuSans-65\" x=\"914.734375\"/>\n    </g>\n   </g>\n  </g>\n </g>\n <defs>\n  <clipPath id=\"p8a034ec986\">\n   <rect x=\"65.50125\" y=\"32.196094\" width=\"837\" height=\"554.4\"/>\n  </clipPath>\n </defs>\n</svg>\n",
            "text/plain": [
              "<Figure size 1500x1000 with 1 Axes>"
            ]
          },
          "metadata": {},
          "output_type": "display_data"
        }
      ],
      "source": [
        "# add colors to the bars\n",
        "colors = ['#FF5733', '#C70039', '#FFC300', '#DAF7A6', '#5DADE2', '#7D3C98']\n",
        "\n",
        "ax = population.plot.bar(figsize=(15,10), color=colors)\n",
        "\n",
        "# set title and axis labels\n",
        "ax.set_title('Population by State', fontsize=25)\n",
        "ax.set_xlabel('State', fontsize=20)\n",
        "ax.set_ylabel('Population', fontsize=20)\n",
        "\n",
        "# set font size for tick labels\n",
        "ax.tick_params(axis='both', which='major', labelsize=16)\n",
        "\n",
        "# remove legend\n",
        "ax.legend().remove()\n",
        "\n",
        "# show the plot\n",
        "plt.show()\n"
      ]
    },
    {
      "cell_type": "code",
      "execution_count": null,
      "metadata": {
        "id": "_WI2ZjD8kljJ"
      },
      "outputs": [],
      "source": [
        "columns = ['Native','Asian','White','Black','Hispanic','Others']\n",
        "for col in columns:\n",
        "    census_DataFrame[col] = pd.to_numeric(census_DataFrame[col], errors='coerce')\n",
        "    census_DataFrame[col + ' percent'] = (census_DataFrame[col]/census_DataFrame['Total Population'])*100\n"
      ]
    },
    {
      "cell_type": "code",
      "execution_count": null,
      "metadata": {
        "colab": {
          "base_uri": "https://localhost:8080/",
          "height": 1000
        },
        "id": "bnJoHvVjknqY",
        "outputId": "ce7d0fbf-f49e-4a6f-8e5b-0007b3b0ed57"
      },
      "outputs": [
        {
          "data": {
            "text/html": [
              "\n",
              "  <div id=\"df-956881f2-4a58-45ed-9bfd-ff523d2032b9\">\n",
              "    <div class=\"colab-df-container\">\n",
              "      <div>\n",
              "<style scoped>\n",
              "    .dataframe tbody tr th:only-of-type {\n",
              "        vertical-align: middle;\n",
              "    }\n",
              "\n",
              "    .dataframe tbody tr th {\n",
              "        vertical-align: top;\n",
              "    }\n",
              "\n",
              "    .dataframe thead th {\n",
              "        text-align: right;\n",
              "    }\n",
              "</style>\n",
              "<table border=\"1\" class=\"dataframe\">\n",
              "  <thead>\n",
              "    <tr style=\"text-align: right;\">\n",
              "      <th></th>\n",
              "      <th>Total Population</th>\n",
              "      <th>Native</th>\n",
              "      <th>Asian</th>\n",
              "      <th>White</th>\n",
              "      <th>Black</th>\n",
              "      <th>Hispanic</th>\n",
              "      <th>state</th>\n",
              "      <th>Others</th>\n",
              "      <th>Native percent</th>\n",
              "      <th>Asian percent</th>\n",
              "      <th>White percent</th>\n",
              "      <th>Black percent</th>\n",
              "      <th>Hispanic percent</th>\n",
              "      <th>Others percent</th>\n",
              "    </tr>\n",
              "    <tr>\n",
              "      <th>State Name</th>\n",
              "      <th></th>\n",
              "      <th></th>\n",
              "      <th></th>\n",
              "      <th></th>\n",
              "      <th></th>\n",
              "      <th></th>\n",
              "      <th></th>\n",
              "      <th></th>\n",
              "      <th></th>\n",
              "      <th></th>\n",
              "      <th></th>\n",
              "      <th></th>\n",
              "      <th></th>\n",
              "      <th></th>\n",
              "    </tr>\n",
              "  </thead>\n",
              "  <tbody>\n",
              "    <tr>\n",
              "      <th>Pennsylvania</th>\n",
              "      <td>12794885</td>\n",
              "      <td>20798</td>\n",
              "      <td>449320</td>\n",
              "      <td>9685118</td>\n",
              "      <td>1419582</td>\n",
              "      <td>971813</td>\n",
              "      <td>42</td>\n",
              "      <td>248254</td>\n",
              "      <td>0.162549</td>\n",
              "      <td>3.511716</td>\n",
              "      <td>75.695233</td>\n",
              "      <td>11.094918</td>\n",
              "      <td>7.595324</td>\n",
              "      <td>1.940260</td>\n",
              "    </tr>\n",
              "    <tr>\n",
              "      <th>California</th>\n",
              "      <td>39346023</td>\n",
              "      <td>311629</td>\n",
              "      <td>5834312</td>\n",
              "      <td>14365145</td>\n",
              "      <td>2250962</td>\n",
              "      <td>15380929</td>\n",
              "      <td>06</td>\n",
              "      <td>1203046</td>\n",
              "      <td>0.792022</td>\n",
              "      <td>14.828213</td>\n",
              "      <td>36.509776</td>\n",
              "      <td>5.720939</td>\n",
              "      <td>39.091445</td>\n",
              "      <td>3.057605</td>\n",
              "    </tr>\n",
              "    <tr>\n",
              "      <th>West Virginia</th>\n",
              "      <td>1807426</td>\n",
              "      <td>3146</td>\n",
              "      <td>14228</td>\n",
              "      <td>1654681</td>\n",
              "      <td>64285</td>\n",
              "      <td>28679</td>\n",
              "      <td>54</td>\n",
              "      <td>42407</td>\n",
              "      <td>0.174060</td>\n",
              "      <td>0.787197</td>\n",
              "      <td>91.549032</td>\n",
              "      <td>3.556715</td>\n",
              "      <td>1.586732</td>\n",
              "      <td>2.346265</td>\n",
              "    </tr>\n",
              "    <tr>\n",
              "      <th>Utah</th>\n",
              "      <td>3151239</td>\n",
              "      <td>33222</td>\n",
              "      <td>73190</td>\n",
              "      <td>2455192</td>\n",
              "      <td>38059</td>\n",
              "      <td>446067</td>\n",
              "      <td>49</td>\n",
              "      <td>105509</td>\n",
              "      <td>1.054252</td>\n",
              "      <td>2.322579</td>\n",
              "      <td>77.911958</td>\n",
              "      <td>1.207747</td>\n",
              "      <td>14.155289</td>\n",
              "      <td>3.348175</td>\n",
              "    </tr>\n",
              "    <tr>\n",
              "      <th>New York</th>\n",
              "      <td>19514849</td>\n",
              "      <td>76535</td>\n",
              "      <td>1674216</td>\n",
              "      <td>10766297</td>\n",
              "      <td>3002401</td>\n",
              "      <td>3720707</td>\n",
              "      <td>36</td>\n",
              "      <td>274693</td>\n",
              "      <td>0.392189</td>\n",
              "      <td>8.579190</td>\n",
              "      <td>55.169768</td>\n",
              "      <td>15.385213</td>\n",
              "      <td>19.066030</td>\n",
              "      <td>1.407610</td>\n",
              "    </tr>\n",
              "    <tr>\n",
              "      <th>District of Columbia</th>\n",
              "      <td>701974</td>\n",
              "      <td>2438</td>\n",
              "      <td>28762</td>\n",
              "      <td>257792</td>\n",
              "      <td>318631</td>\n",
              "      <td>77981</td>\n",
              "      <td>11</td>\n",
              "      <td>16370</td>\n",
              "      <td>0.347306</td>\n",
              "      <td>4.097303</td>\n",
              "      <td>36.723867</td>\n",
              "      <td>45.390712</td>\n",
              "      <td>11.108816</td>\n",
              "      <td>2.331995</td>\n",
              "    </tr>\n",
              "    <tr>\n",
              "      <th>Alaska</th>\n",
              "      <td>736990</td>\n",
              "      <td>107298</td>\n",
              "      <td>47289</td>\n",
              "      <td>439979</td>\n",
              "      <td>23894</td>\n",
              "      <td>53059</td>\n",
              "      <td>02</td>\n",
              "      <td>65471</td>\n",
              "      <td>14.558949</td>\n",
              "      <td>6.416505</td>\n",
              "      <td>59.699453</td>\n",
              "      <td>3.242106</td>\n",
              "      <td>7.199419</td>\n",
              "      <td>8.883567</td>\n",
              "    </tr>\n",
              "    <tr>\n",
              "      <th>Florida</th>\n",
              "      <td>21216924</td>\n",
              "      <td>55655</td>\n",
              "      <td>590668</td>\n",
              "      <td>11331222</td>\n",
              "      <td>3381061</td>\n",
              "      <td>5468826</td>\n",
              "      <td>12</td>\n",
              "      <td>389492</td>\n",
              "      <td>0.262314</td>\n",
              "      <td>2.783947</td>\n",
              "      <td>53.406526</td>\n",
              "      <td>15.935679</td>\n",
              "      <td>25.775772</td>\n",
              "      <td>1.835761</td>\n",
              "    </tr>\n",
              "    <tr>\n",
              "      <th>South Carolina</th>\n",
              "      <td>5091517</td>\n",
              "      <td>16951</td>\n",
              "      <td>83573</td>\n",
              "      <td>3230111</td>\n",
              "      <td>1346560</td>\n",
              "      <td>296897</td>\n",
              "      <td>45</td>\n",
              "      <td>117425</td>\n",
              "      <td>0.332926</td>\n",
              "      <td>1.641416</td>\n",
              "      <td>63.441033</td>\n",
              "      <td>26.447128</td>\n",
              "      <td>5.831209</td>\n",
              "      <td>2.306287</td>\n",
              "    </tr>\n",
              "    <tr>\n",
              "      <th>North Dakota</th>\n",
              "      <td>760394</td>\n",
              "      <td>39165</td>\n",
              "      <td>11979</td>\n",
              "      <td>636284</td>\n",
              "      <td>23959</td>\n",
              "      <td>30325</td>\n",
              "      <td>38</td>\n",
              "      <td>18682</td>\n",
              "      <td>5.150619</td>\n",
              "      <td>1.575368</td>\n",
              "      <td>83.678198</td>\n",
              "      <td>3.150867</td>\n",
              "      <td>3.988064</td>\n",
              "      <td>2.456884</td>\n",
              "    </tr>\n",
              "    <tr>\n",
              "      <th>Maine</th>\n",
              "      <td>1340825</td>\n",
              "      <td>8894</td>\n",
              "      <td>15270</td>\n",
              "      <td>1242113</td>\n",
              "      <td>18635</td>\n",
              "      <td>23143</td>\n",
              "      <td>23</td>\n",
              "      <td>32770</td>\n",
              "      <td>0.663323</td>\n",
              "      <td>1.138851</td>\n",
              "      <td>92.637965</td>\n",
              "      <td>1.389816</td>\n",
              "      <td>1.726027</td>\n",
              "      <td>2.444018</td>\n",
              "    </tr>\n",
              "    <tr>\n",
              "      <th>Georgia</th>\n",
              "      <td>10516579</td>\n",
              "      <td>34962</td>\n",
              "      <td>434603</td>\n",
              "      <td>5478289</td>\n",
              "      <td>3319844</td>\n",
              "      <td>1013057</td>\n",
              "      <td>13</td>\n",
              "      <td>235824</td>\n",
              "      <td>0.332447</td>\n",
              "      <td>4.132551</td>\n",
              "      <td>52.091930</td>\n",
              "      <td>31.567718</td>\n",
              "      <td>9.632952</td>\n",
              "      <td>2.242402</td>\n",
              "    </tr>\n",
              "    <tr>\n",
              "      <th>Alabama</th>\n",
              "      <td>4893186</td>\n",
              "      <td>24764</td>\n",
              "      <td>67909</td>\n",
              "      <td>3192147</td>\n",
              "      <td>1301319</td>\n",
              "      <td>212951</td>\n",
              "      <td>01</td>\n",
              "      <td>94096</td>\n",
              "      <td>0.506092</td>\n",
              "      <td>1.387828</td>\n",
              "      <td>65.236576</td>\n",
              "      <td>26.594513</td>\n",
              "      <td>4.351991</td>\n",
              "      <td>1.923001</td>\n",
              "    </tr>\n",
              "    <tr>\n",
              "      <th>New Hampshire</th>\n",
              "      <td>1355244</td>\n",
              "      <td>2197</td>\n",
              "      <td>36581</td>\n",
              "      <td>1214029</td>\n",
              "      <td>21045</td>\n",
              "      <td>52792</td>\n",
              "      <td>33</td>\n",
              "      <td>28600</td>\n",
              "      <td>0.162111</td>\n",
              "      <td>2.699219</td>\n",
              "      <td>89.580105</td>\n",
              "      <td>1.552857</td>\n",
              "      <td>3.895387</td>\n",
              "      <td>2.110321</td>\n",
              "    </tr>\n",
              "    <tr>\n",
              "      <th>Oregon</th>\n",
              "      <td>4176346</td>\n",
              "      <td>45683</td>\n",
              "      <td>187801</td>\n",
              "      <td>3128494</td>\n",
              "      <td>79117</td>\n",
              "      <td>552279</td>\n",
              "      <td>41</td>\n",
              "      <td>182972</td>\n",
              "      <td>1.093851</td>\n",
              "      <td>4.496778</td>\n",
              "      <td>74.909837</td>\n",
              "      <td>1.894407</td>\n",
              "      <td>13.223976</td>\n",
              "      <td>4.381150</td>\n",
              "    </tr>\n",
              "    <tr>\n",
              "      <th>Wyoming</th>\n",
              "      <td>581348</td>\n",
              "      <td>13117</td>\n",
              "      <td>4892</td>\n",
              "      <td>485816</td>\n",
              "      <td>5079</td>\n",
              "      <td>58854</td>\n",
              "      <td>56</td>\n",
              "      <td>13590</td>\n",
              "      <td>2.256308</td>\n",
              "      <td>0.841493</td>\n",
              "      <td>83.567158</td>\n",
              "      <td>0.873659</td>\n",
              "      <td>10.123712</td>\n",
              "      <td>2.337670</td>\n",
              "    </tr>\n",
              "    <tr>\n",
              "      <th>Arizona</th>\n",
              "      <td>7174064</td>\n",
              "      <td>311014</td>\n",
              "      <td>239190</td>\n",
              "      <td>3883722</td>\n",
              "      <td>325105</td>\n",
              "      <td>2260690</td>\n",
              "      <td>04</td>\n",
              "      <td>154343</td>\n",
              "      <td>4.335255</td>\n",
              "      <td>3.334093</td>\n",
              "      <td>54.135592</td>\n",
              "      <td>4.531671</td>\n",
              "      <td>31.511985</td>\n",
              "      <td>2.151403</td>\n",
              "    </tr>\n",
              "    <tr>\n",
              "      <th>Louisiana</th>\n",
              "      <td>4664616</td>\n",
              "      <td>25938</td>\n",
              "      <td>80930</td>\n",
              "      <td>2720638</td>\n",
              "      <td>1500633</td>\n",
              "      <td>243372</td>\n",
              "      <td>22</td>\n",
              "      <td>93105</td>\n",
              "      <td>0.556059</td>\n",
              "      <td>1.734977</td>\n",
              "      <td>58.325015</td>\n",
              "      <td>32.170558</td>\n",
              "      <td>5.217407</td>\n",
              "      <td>1.995984</td>\n",
              "    </tr>\n",
              "    <tr>\n",
              "      <th>Indiana</th>\n",
              "      <td>6696893</td>\n",
              "      <td>14030</td>\n",
              "      <td>158705</td>\n",
              "      <td>5253453</td>\n",
              "      <td>631923</td>\n",
              "      <td>475475</td>\n",
              "      <td>18</td>\n",
              "      <td>163307</td>\n",
              "      <td>0.209500</td>\n",
              "      <td>2.369830</td>\n",
              "      <td>78.446124</td>\n",
              "      <td>9.436062</td>\n",
              "      <td>7.099934</td>\n",
              "      <td>2.438549</td>\n",
              "    </tr>\n",
              "    <tr>\n",
              "      <th>Idaho</th>\n",
              "      <td>1754367</td>\n",
              "      <td>23029</td>\n",
              "      <td>24501</td>\n",
              "      <td>1427529</td>\n",
              "      <td>11536</td>\n",
              "      <td>222967</td>\n",
              "      <td>16</td>\n",
              "      <td>44805</td>\n",
              "      <td>1.312667</td>\n",
              "      <td>1.396572</td>\n",
              "      <td>81.370033</td>\n",
              "      <td>0.657559</td>\n",
              "      <td>12.709256</td>\n",
              "      <td>2.553913</td>\n",
              "    </tr>\n",
              "    <tr>\n",
              "      <th>Connecticut</th>\n",
              "      <td>3570549</td>\n",
              "      <td>9079</td>\n",
              "      <td>163262</td>\n",
              "      <td>2357942</td>\n",
              "      <td>382161</td>\n",
              "      <td>587212</td>\n",
              "      <td>09</td>\n",
              "      <td>70893</td>\n",
              "      <td>0.254275</td>\n",
              "      <td>4.572462</td>\n",
              "      <td>66.038640</td>\n",
              "      <td>10.703144</td>\n",
              "      <td>16.445986</td>\n",
              "      <td>1.985493</td>\n",
              "    </tr>\n",
              "    <tr>\n",
              "      <th>Hawaii</th>\n",
              "      <td>1420074</td>\n",
              "      <td>3508</td>\n",
              "      <td>534519</td>\n",
              "      <td>306360</td>\n",
              "      <td>26717</td>\n",
              "      <td>152566</td>\n",
              "      <td>15</td>\n",
              "      <td>396404</td>\n",
              "      <td>0.247029</td>\n",
              "      <td>37.640222</td>\n",
              "      <td>21.573524</td>\n",
              "      <td>1.881381</td>\n",
              "      <td>10.743525</td>\n",
              "      <td>27.914320</td>\n",
              "    </tr>\n",
              "    <tr>\n",
              "      <th>Illinois</th>\n",
              "      <td>12716164</td>\n",
              "      <td>33972</td>\n",
              "      <td>709567</td>\n",
              "      <td>7737459</td>\n",
              "      <td>1796660</td>\n",
              "      <td>2190696</td>\n",
              "      <td>17</td>\n",
              "      <td>247810</td>\n",
              "      <td>0.267156</td>\n",
              "      <td>5.580040</td>\n",
              "      <td>60.847430</td>\n",
              "      <td>14.128946</td>\n",
              "      <td>17.227648</td>\n",
              "      <td>1.948780</td>\n",
              "    </tr>\n",
              "    <tr>\n",
              "      <th>Massachusetts</th>\n",
              "      <td>6873003</td>\n",
              "      <td>13999</td>\n",
              "      <td>466044</td>\n",
              "      <td>4865022</td>\n",
              "      <td>513369</td>\n",
              "      <td>828140</td>\n",
              "      <td>25</td>\n",
              "      <td>186429</td>\n",
              "      <td>0.203681</td>\n",
              "      <td>6.780791</td>\n",
              "      <td>70.784517</td>\n",
              "      <td>7.469355</td>\n",
              "      <td>12.049173</td>\n",
              "      <td>2.712482</td>\n",
              "    </tr>\n",
              "    <tr>\n",
              "      <th>Texas</th>\n",
              "      <td>28635442</td>\n",
              "      <td>137921</td>\n",
              "      <td>1415664</td>\n",
              "      <td>11850477</td>\n",
              "      <td>3464424</td>\n",
              "      <td>11294257</td>\n",
              "      <td>48</td>\n",
              "      <td>472699</td>\n",
              "      <td>0.481644</td>\n",
              "      <td>4.943748</td>\n",
              "      <td>41.383950</td>\n",
              "      <td>12.098378</td>\n",
              "      <td>39.441532</td>\n",
              "      <td>1.650748</td>\n",
              "    </tr>\n",
              "    <tr>\n",
              "      <th>Montana</th>\n",
              "      <td>1061705</td>\n",
              "      <td>65523</td>\n",
              "      <td>8664</td>\n",
              "      <td>908782</td>\n",
              "      <td>5919</td>\n",
              "      <td>41501</td>\n",
              "      <td>30</td>\n",
              "      <td>31316</td>\n",
              "      <td>6.171488</td>\n",
              "      <td>0.816046</td>\n",
              "      <td>85.596470</td>\n",
              "      <td>0.557499</td>\n",
              "      <td>3.908901</td>\n",
              "      <td>2.949595</td>\n",
              "    </tr>\n",
              "    <tr>\n",
              "      <th>Nebraska</th>\n",
              "      <td>1923826</td>\n",
              "      <td>16875</td>\n",
              "      <td>47944</td>\n",
              "      <td>1507127</td>\n",
              "      <td>91896</td>\n",
              "      <td>214952</td>\n",
              "      <td>31</td>\n",
              "      <td>45032</td>\n",
              "      <td>0.877158</td>\n",
              "      <td>2.492117</td>\n",
              "      <td>78.340089</td>\n",
              "      <td>4.776731</td>\n",
              "      <td>11.173152</td>\n",
              "      <td>2.340752</td>\n",
              "    </tr>\n",
              "    <tr>\n",
              "      <th>Ohio</th>\n",
              "      <td>11675275</td>\n",
              "      <td>20442</td>\n",
              "      <td>268527</td>\n",
              "      <td>9141370</td>\n",
              "      <td>1442655</td>\n",
              "      <td>459939</td>\n",
              "      <td>39</td>\n",
              "      <td>342342</td>\n",
              "      <td>0.175088</td>\n",
              "      <td>2.299963</td>\n",
              "      <td>78.296828</td>\n",
              "      <td>12.356497</td>\n",
              "      <td>3.939428</td>\n",
              "      <td>2.932196</td>\n",
              "    </tr>\n",
              "    <tr>\n",
              "      <th>Colorado</th>\n",
              "      <td>5684926</td>\n",
              "      <td>53671</td>\n",
              "      <td>181733</td>\n",
              "      <td>3837450</td>\n",
              "      <td>235692</td>\n",
              "      <td>1231126</td>\n",
              "      <td>08</td>\n",
              "      <td>145254</td>\n",
              "      <td>0.944093</td>\n",
              "      <td>3.196752</td>\n",
              "      <td>67.502198</td>\n",
              "      <td>4.145911</td>\n",
              "      <td>21.655972</td>\n",
              "      <td>2.555073</td>\n",
              "    </tr>\n",
              "    <tr>\n",
              "      <th>New Jersey</th>\n",
              "      <td>8885418</td>\n",
              "      <td>22288</td>\n",
              "      <td>857873</td>\n",
              "      <td>4858807</td>\n",
              "      <td>1189681</td>\n",
              "      <td>1815078</td>\n",
              "      <td>34</td>\n",
              "      <td>141691</td>\n",
              "      <td>0.250838</td>\n",
              "      <td>9.654841</td>\n",
              "      <td>54.682931</td>\n",
              "      <td>13.389139</td>\n",
              "      <td>20.427604</td>\n",
              "      <td>1.594646</td>\n",
              "    </tr>\n",
              "    <tr>\n",
              "      <th>Maryland</th>\n",
              "      <td>6037624</td>\n",
              "      <td>15860</td>\n",
              "      <td>384429</td>\n",
              "      <td>3028494</td>\n",
              "      <td>1803128</td>\n",
              "      <td>619418</td>\n",
              "      <td>24</td>\n",
              "      <td>186295</td>\n",
              "      <td>0.262686</td>\n",
              "      <td>6.367223</td>\n",
              "      <td>50.160361</td>\n",
              "      <td>29.864861</td>\n",
              "      <td>10.259301</td>\n",
              "      <td>3.085568</td>\n",
              "    </tr>\n",
              "    <tr>\n",
              "      <th>Virginia</th>\n",
              "      <td>8509358</td>\n",
              "      <td>22553</td>\n",
              "      <td>570398</td>\n",
              "      <td>5209336</td>\n",
              "      <td>1620649</td>\n",
              "      <td>810770</td>\n",
              "      <td>51</td>\n",
              "      <td>275652</td>\n",
              "      <td>0.265038</td>\n",
              "      <td>6.703185</td>\n",
              "      <td>61.218907</td>\n",
              "      <td>19.045491</td>\n",
              "      <td>9.527981</td>\n",
              "      <td>3.239398</td>\n",
              "    </tr>\n",
              "    <tr>\n",
              "      <th>Vermont</th>\n",
              "      <td>624340</td>\n",
              "      <td>1873</td>\n",
              "      <td>10126</td>\n",
              "      <td>576601</td>\n",
              "      <td>7964</td>\n",
              "      <td>12518</td>\n",
              "      <td>50</td>\n",
              "      <td>15258</td>\n",
              "      <td>0.299997</td>\n",
              "      <td>1.621873</td>\n",
              "      <td>92.353685</td>\n",
              "      <td>1.275587</td>\n",
              "      <td>2.004997</td>\n",
              "      <td>2.443861</td>\n",
              "    </tr>\n",
              "    <tr>\n",
              "      <th>North Carolina</th>\n",
              "      <td>10386227</td>\n",
              "      <td>120272</td>\n",
              "      <td>308958</td>\n",
              "      <td>6503292</td>\n",
              "      <td>2217522</td>\n",
              "      <td>991051</td>\n",
              "      <td>37</td>\n",
              "      <td>245132</td>\n",
              "      <td>1.157995</td>\n",
              "      <td>2.974689</td>\n",
              "      <td>62.614576</td>\n",
              "      <td>21.350602</td>\n",
              "      <td>9.541973</td>\n",
              "      <td>2.360164</td>\n",
              "    </tr>\n",
              "    <tr>\n",
              "      <th>Arkansas</th>\n",
              "      <td>3011873</td>\n",
              "      <td>19146</td>\n",
              "      <td>46130</td>\n",
              "      <td>2155099</td>\n",
              "      <td>457840</td>\n",
              "      <td>229629</td>\n",
              "      <td>05</td>\n",
              "      <td>104029</td>\n",
              "      <td>0.635684</td>\n",
              "      <td>1.531605</td>\n",
              "      <td>71.553449</td>\n",
              "      <td>15.201172</td>\n",
              "      <td>7.624126</td>\n",
              "      <td>3.453964</td>\n",
              "    </tr>\n",
              "    <tr>\n",
              "      <th>Washington</th>\n",
              "      <td>7512465</td>\n",
              "      <td>91766</td>\n",
              "      <td>662902</td>\n",
              "      <td>5067909</td>\n",
              "      <td>290245</td>\n",
              "      <td>971522</td>\n",
              "      <td>53</td>\n",
              "      <td>428121</td>\n",
              "      <td>1.221517</td>\n",
              "      <td>8.824028</td>\n",
              "      <td>67.460001</td>\n",
              "      <td>3.863512</td>\n",
              "      <td>12.932133</td>\n",
              "      <td>5.698809</td>\n",
              "    </tr>\n",
              "    <tr>\n",
              "      <th>Kansas</th>\n",
              "      <td>2912619</td>\n",
              "      <td>22278</td>\n",
              "      <td>87093</td>\n",
              "      <td>2193988</td>\n",
              "      <td>165837</td>\n",
              "      <td>351602</td>\n",
              "      <td>20</td>\n",
              "      <td>91821</td>\n",
              "      <td>0.764879</td>\n",
              "      <td>2.990195</td>\n",
              "      <td>75.326982</td>\n",
              "      <td>5.693742</td>\n",
              "      <td>12.071678</td>\n",
              "      <td>3.152524</td>\n",
              "    </tr>\n",
              "    <tr>\n",
              "      <th>Oklahoma</th>\n",
              "      <td>3949342</td>\n",
              "      <td>303791</td>\n",
              "      <td>87033</td>\n",
              "      <td>2563119</td>\n",
              "      <td>287856</td>\n",
              "      <td>431467</td>\n",
              "      <td>40</td>\n",
              "      <td>276076</td>\n",
              "      <td>7.692193</td>\n",
              "      <td>2.203734</td>\n",
              "      <td>64.899900</td>\n",
              "      <td>7.288708</td>\n",
              "      <td>10.925035</td>\n",
              "      <td>6.990430</td>\n",
              "    </tr>\n",
              "    <tr>\n",
              "      <th>Wisconsin</th>\n",
              "      <td>5806975</td>\n",
              "      <td>48674</td>\n",
              "      <td>163396</td>\n",
              "      <td>4681072</td>\n",
              "      <td>367889</td>\n",
              "      <td>408267</td>\n",
              "      <td>55</td>\n",
              "      <td>137677</td>\n",
              "      <td>0.838199</td>\n",
              "      <td>2.813789</td>\n",
              "      <td>80.611196</td>\n",
              "      <td>6.335295</td>\n",
              "      <td>7.030631</td>\n",
              "      <td>2.370890</td>\n",
              "    </tr>\n",
              "    <tr>\n",
              "      <th>Mississippi</th>\n",
              "      <td>2981835</td>\n",
              "      <td>13951</td>\n",
              "      <td>29742</td>\n",
              "      <td>1680938</td>\n",
              "      <td>1123545</td>\n",
              "      <td>94342</td>\n",
              "      <td>28</td>\n",
              "      <td>39317</td>\n",
              "      <td>0.467866</td>\n",
              "      <td>0.997439</td>\n",
              "      <td>56.372603</td>\n",
              "      <td>37.679650</td>\n",
              "      <td>3.163891</td>\n",
              "      <td>1.318550</td>\n",
              "    </tr>\n",
              "    <tr>\n",
              "      <th>Missouri</th>\n",
              "      <td>6124160</td>\n",
              "      <td>24274</td>\n",
              "      <td>123810</td>\n",
              "      <td>4826943</td>\n",
              "      <td>698043</td>\n",
              "      <td>262677</td>\n",
              "      <td>29</td>\n",
              "      <td>188413</td>\n",
              "      <td>0.396365</td>\n",
              "      <td>2.021665</td>\n",
              "      <td>78.818042</td>\n",
              "      <td>11.398184</td>\n",
              "      <td>4.289192</td>\n",
              "      <td>3.076553</td>\n",
              "    </tr>\n",
              "    <tr>\n",
              "      <th>Michigan</th>\n",
              "      <td>9973907</td>\n",
              "      <td>50035</td>\n",
              "      <td>316844</td>\n",
              "      <td>7428622</td>\n",
              "      <td>1360149</td>\n",
              "      <td>521203</td>\n",
              "      <td>26</td>\n",
              "      <td>297054</td>\n",
              "      <td>0.501659</td>\n",
              "      <td>3.176729</td>\n",
              "      <td>74.480562</td>\n",
              "      <td>13.637073</td>\n",
              "      <td>5.225665</td>\n",
              "      <td>2.978311</td>\n",
              "    </tr>\n",
              "    <tr>\n",
              "      <th>Rhode Island</th>\n",
              "      <td>1057798</td>\n",
              "      <td>4344</td>\n",
              "      <td>36536</td>\n",
              "      <td>755708</td>\n",
              "      <td>69196</td>\n",
              "      <td>168007</td>\n",
              "      <td>44</td>\n",
              "      <td>24007</td>\n",
              "      <td>0.410664</td>\n",
              "      <td>3.453968</td>\n",
              "      <td>71.441617</td>\n",
              "      <td>6.541514</td>\n",
              "      <td>15.882711</td>\n",
              "      <td>2.269526</td>\n",
              "    </tr>\n",
              "    <tr>\n",
              "      <th>Minnesota</th>\n",
              "      <td>5600166</td>\n",
              "      <td>54558</td>\n",
              "      <td>275242</td>\n",
              "      <td>4422490</td>\n",
              "      <td>359817</td>\n",
              "      <td>307675</td>\n",
              "      <td>27</td>\n",
              "      <td>180384</td>\n",
              "      <td>0.974221</td>\n",
              "      <td>4.914890</td>\n",
              "      <td>78.970695</td>\n",
              "      <td>6.425113</td>\n",
              "      <td>5.494034</td>\n",
              "      <td>3.221047</td>\n",
              "    </tr>\n",
              "    <tr>\n",
              "      <th>Iowa</th>\n",
              "      <td>3150011</td>\n",
              "      <td>10538</td>\n",
              "      <td>79296</td>\n",
              "      <td>2677946</td>\n",
              "      <td>117035</td>\n",
              "      <td>194407</td>\n",
              "      <td>19</td>\n",
              "      <td>70789</td>\n",
              "      <td>0.334539</td>\n",
              "      <td>2.517325</td>\n",
              "      <td>85.013862</td>\n",
              "      <td>3.715384</td>\n",
              "      <td>6.171629</td>\n",
              "      <td>2.247262</td>\n",
              "    </tr>\n",
              "    <tr>\n",
              "      <th>New Mexico</th>\n",
              "      <td>2097021</td>\n",
              "      <td>195166</td>\n",
              "      <td>33695</td>\n",
              "      <td>769139</td>\n",
              "      <td>43476</td>\n",
              "      <td>1031788</td>\n",
              "      <td>35</td>\n",
              "      <td>23757</td>\n",
              "      <td>9.306821</td>\n",
              "      <td>1.606803</td>\n",
              "      <td>36.677697</td>\n",
              "      <td>2.073227</td>\n",
              "      <td>49.202559</td>\n",
              "      <td>1.132893</td>\n",
              "    </tr>\n",
              "    <tr>\n",
              "      <th>Nevada</th>\n",
              "      <td>3030281</td>\n",
              "      <td>37715</td>\n",
              "      <td>252314</td>\n",
              "      <td>1460159</td>\n",
              "      <td>282722</td>\n",
              "      <td>875798</td>\n",
              "      <td>32</td>\n",
              "      <td>121573</td>\n",
              "      <td>1.244604</td>\n",
              "      <td>8.326423</td>\n",
              "      <td>48.185597</td>\n",
              "      <td>9.329894</td>\n",
              "      <td>28.901544</td>\n",
              "      <td>4.011938</td>\n",
              "    </tr>\n",
              "    <tr>\n",
              "      <th>Delaware</th>\n",
              "      <td>967679</td>\n",
              "      <td>3560</td>\n",
              "      <td>38528</td>\n",
              "      <td>595236</td>\n",
              "      <td>212795</td>\n",
              "      <td>91350</td>\n",
              "      <td>10</td>\n",
              "      <td>26210</td>\n",
              "      <td>0.367891</td>\n",
              "      <td>3.981486</td>\n",
              "      <td>61.511720</td>\n",
              "      <td>21.990247</td>\n",
              "      <td>9.440114</td>\n",
              "      <td>2.708543</td>\n",
              "    </tr>\n",
              "    <tr>\n",
              "      <th>Puerto Rico</th>\n",
              "      <td>3255642</td>\n",
              "      <td>5697</td>\n",
              "      <td>5882</td>\n",
              "      <td>31715</td>\n",
              "      <td>367906</td>\n",
              "      <td>3212625</td>\n",
              "      <td>72</td>\n",
              "      <td>-368183</td>\n",
              "      <td>0.174989</td>\n",
              "      <td>0.180671</td>\n",
              "      <td>0.974155</td>\n",
              "      <td>11.300567</td>\n",
              "      <td>98.678694</td>\n",
              "      <td>-11.309075</td>\n",
              "    </tr>\n",
              "    <tr>\n",
              "      <th>Kentucky</th>\n",
              "      <td>4461952</td>\n",
              "      <td>8364</td>\n",
              "      <td>68139</td>\n",
              "      <td>3751738</td>\n",
              "      <td>361230</td>\n",
              "      <td>167949</td>\n",
              "      <td>21</td>\n",
              "      <td>104532</td>\n",
              "      <td>0.187452</td>\n",
              "      <td>1.527112</td>\n",
              "      <td>84.082886</td>\n",
              "      <td>8.095784</td>\n",
              "      <td>3.764025</td>\n",
              "      <td>2.342741</td>\n",
              "    </tr>\n",
              "    <tr>\n",
              "      <th>South Dakota</th>\n",
              "      <td>879336</td>\n",
              "      <td>74975</td>\n",
              "      <td>12413</td>\n",
              "      <td>715328</td>\n",
              "      <td>18836</td>\n",
              "      <td>36088</td>\n",
              "      <td>46</td>\n",
              "      <td>21696</td>\n",
              "      <td>8.526320</td>\n",
              "      <td>1.411633</td>\n",
              "      <td>81.348654</td>\n",
              "      <td>2.142071</td>\n",
              "      <td>4.104006</td>\n",
              "      <td>2.467316</td>\n",
              "    </tr>\n",
              "    <tr>\n",
              "      <th>Tennessee</th>\n",
              "      <td>6772268</td>\n",
              "      <td>17178</td>\n",
              "      <td>122897</td>\n",
              "      <td>4969371</td>\n",
              "      <td>1128806</td>\n",
              "      <td>377162</td>\n",
              "      <td>47</td>\n",
              "      <td>156854</td>\n",
              "      <td>0.253652</td>\n",
              "      <td>1.814710</td>\n",
              "      <td>73.378239</td>\n",
              "      <td>16.668065</td>\n",
              "      <td>5.569213</td>\n",
              "      <td>2.316122</td>\n",
              "    </tr>\n",
              "  </tbody>\n",
              "</table>\n",
              "</div>\n",
              "      <button class=\"colab-df-convert\" onclick=\"convertToInteractive('df-956881f2-4a58-45ed-9bfd-ff523d2032b9')\"\n",
              "              title=\"Convert this dataframe to an interactive table.\"\n",
              "              style=\"display:none;\">\n",
              "        \n",
              "  <svg xmlns=\"http://www.w3.org/2000/svg\" height=\"24px\"viewBox=\"0 0 24 24\"\n",
              "       width=\"24px\">\n",
              "    <path d=\"M0 0h24v24H0V0z\" fill=\"none\"/>\n",
              "    <path d=\"M18.56 5.44l.94 2.06.94-2.06 2.06-.94-2.06-.94-.94-2.06-.94 2.06-2.06.94zm-11 1L8.5 8.5l.94-2.06 2.06-.94-2.06-.94L8.5 2.5l-.94 2.06-2.06.94zm10 10l.94 2.06.94-2.06 2.06-.94-2.06-.94-.94-2.06-.94 2.06-2.06.94z\"/><path d=\"M17.41 7.96l-1.37-1.37c-.4-.4-.92-.59-1.43-.59-.52 0-1.04.2-1.43.59L10.3 9.45l-7.72 7.72c-.78.78-.78 2.05 0 2.83L4 21.41c.39.39.9.59 1.41.59.51 0 1.02-.2 1.41-.59l7.78-7.78 2.81-2.81c.8-.78.8-2.07 0-2.86zM5.41 20L4 18.59l7.72-7.72 1.47 1.35L5.41 20z\"/>\n",
              "  </svg>\n",
              "      </button>\n",
              "      \n",
              "  <style>\n",
              "    .colab-df-container {\n",
              "      display:flex;\n",
              "      flex-wrap:wrap;\n",
              "      gap: 12px;\n",
              "    }\n",
              "\n",
              "    .colab-df-convert {\n",
              "      background-color: #E8F0FE;\n",
              "      border: none;\n",
              "      border-radius: 50%;\n",
              "      cursor: pointer;\n",
              "      display: none;\n",
              "      fill: #1967D2;\n",
              "      height: 32px;\n",
              "      padding: 0 0 0 0;\n",
              "      width: 32px;\n",
              "    }\n",
              "\n",
              "    .colab-df-convert:hover {\n",
              "      background-color: #E2EBFA;\n",
              "      box-shadow: 0px 1px 2px rgba(60, 64, 67, 0.3), 0px 1px 3px 1px rgba(60, 64, 67, 0.15);\n",
              "      fill: #174EA6;\n",
              "    }\n",
              "\n",
              "    [theme=dark] .colab-df-convert {\n",
              "      background-color: #3B4455;\n",
              "      fill: #D2E3FC;\n",
              "    }\n",
              "\n",
              "    [theme=dark] .colab-df-convert:hover {\n",
              "      background-color: #434B5C;\n",
              "      box-shadow: 0px 1px 3px 1px rgba(0, 0, 0, 0.15);\n",
              "      filter: drop-shadow(0px 1px 2px rgba(0, 0, 0, 0.3));\n",
              "      fill: #FFFFFF;\n",
              "    }\n",
              "  </style>\n",
              "\n",
              "      <script>\n",
              "        const buttonEl =\n",
              "          document.querySelector('#df-956881f2-4a58-45ed-9bfd-ff523d2032b9 button.colab-df-convert');\n",
              "        buttonEl.style.display =\n",
              "          google.colab.kernel.accessAllowed ? 'block' : 'none';\n",
              "\n",
              "        async function convertToInteractive(key) {\n",
              "          const element = document.querySelector('#df-956881f2-4a58-45ed-9bfd-ff523d2032b9');\n",
              "          const dataTable =\n",
              "            await google.colab.kernel.invokeFunction('convertToInteractive',\n",
              "                                                     [key], {});\n",
              "          if (!dataTable) return;\n",
              "\n",
              "          const docLinkHtml = 'Like what you see? Visit the ' +\n",
              "            '<a target=\"_blank\" href=https://colab.research.google.com/notebooks/data_table.ipynb>data table notebook</a>'\n",
              "            + ' to learn more about interactive tables.';\n",
              "          element.innerHTML = '';\n",
              "          dataTable['output_type'] = 'display_data';\n",
              "          await google.colab.output.renderOutput(dataTable, element);\n",
              "          const docLink = document.createElement('div');\n",
              "          docLink.innerHTML = docLinkHtml;\n",
              "          element.appendChild(docLink);\n",
              "        }\n",
              "      </script>\n",
              "    </div>\n",
              "  </div>\n",
              "  "
            ],
            "text/plain": [
              "                      Total Population  Native    Asian     White    Black  \\\n",
              "State Name                                                                   \n",
              "Pennsylvania                  12794885   20798   449320   9685118  1419582   \n",
              "California                    39346023  311629  5834312  14365145  2250962   \n",
              "West Virginia                  1807426    3146    14228   1654681    64285   \n",
              "Utah                           3151239   33222    73190   2455192    38059   \n",
              "New York                      19514849   76535  1674216  10766297  3002401   \n",
              "District of Columbia            701974    2438    28762    257792   318631   \n",
              "Alaska                          736990  107298    47289    439979    23894   \n",
              "Florida                       21216924   55655   590668  11331222  3381061   \n",
              "South Carolina                 5091517   16951    83573   3230111  1346560   \n",
              "North Dakota                    760394   39165    11979    636284    23959   \n",
              "Maine                          1340825    8894    15270   1242113    18635   \n",
              "Georgia                       10516579   34962   434603   5478289  3319844   \n",
              "Alabama                        4893186   24764    67909   3192147  1301319   \n",
              "New Hampshire                  1355244    2197    36581   1214029    21045   \n",
              "Oregon                         4176346   45683   187801   3128494    79117   \n",
              "Wyoming                         581348   13117     4892    485816     5079   \n",
              "Arizona                        7174064  311014   239190   3883722   325105   \n",
              "Louisiana                      4664616   25938    80930   2720638  1500633   \n",
              "Indiana                        6696893   14030   158705   5253453   631923   \n",
              "Idaho                          1754367   23029    24501   1427529    11536   \n",
              "Connecticut                    3570549    9079   163262   2357942   382161   \n",
              "Hawaii                         1420074    3508   534519    306360    26717   \n",
              "Illinois                      12716164   33972   709567   7737459  1796660   \n",
              "Massachusetts                  6873003   13999   466044   4865022   513369   \n",
              "Texas                         28635442  137921  1415664  11850477  3464424   \n",
              "Montana                        1061705   65523     8664    908782     5919   \n",
              "Nebraska                       1923826   16875    47944   1507127    91896   \n",
              "Ohio                          11675275   20442   268527   9141370  1442655   \n",
              "Colorado                       5684926   53671   181733   3837450   235692   \n",
              "New Jersey                     8885418   22288   857873   4858807  1189681   \n",
              "Maryland                       6037624   15860   384429   3028494  1803128   \n",
              "Virginia                       8509358   22553   570398   5209336  1620649   \n",
              "Vermont                         624340    1873    10126    576601     7964   \n",
              "North Carolina                10386227  120272   308958   6503292  2217522   \n",
              "Arkansas                       3011873   19146    46130   2155099   457840   \n",
              "Washington                     7512465   91766   662902   5067909   290245   \n",
              "Kansas                         2912619   22278    87093   2193988   165837   \n",
              "Oklahoma                       3949342  303791    87033   2563119   287856   \n",
              "Wisconsin                      5806975   48674   163396   4681072   367889   \n",
              "Mississippi                    2981835   13951    29742   1680938  1123545   \n",
              "Missouri                       6124160   24274   123810   4826943   698043   \n",
              "Michigan                       9973907   50035   316844   7428622  1360149   \n",
              "Rhode Island                   1057798    4344    36536    755708    69196   \n",
              "Minnesota                      5600166   54558   275242   4422490   359817   \n",
              "Iowa                           3150011   10538    79296   2677946   117035   \n",
              "New Mexico                     2097021  195166    33695    769139    43476   \n",
              "Nevada                         3030281   37715   252314   1460159   282722   \n",
              "Delaware                        967679    3560    38528    595236   212795   \n",
              "Puerto Rico                    3255642    5697     5882     31715   367906   \n",
              "Kentucky                       4461952    8364    68139   3751738   361230   \n",
              "South Dakota                    879336   74975    12413    715328    18836   \n",
              "Tennessee                      6772268   17178   122897   4969371  1128806   \n",
              "\n",
              "                      Hispanic state   Others  Native percent  Asian percent  \\\n",
              "State Name                                                                     \n",
              "Pennsylvania            971813    42   248254        0.162549       3.511716   \n",
              "California            15380929    06  1203046        0.792022      14.828213   \n",
              "West Virginia            28679    54    42407        0.174060       0.787197   \n",
              "Utah                    446067    49   105509        1.054252       2.322579   \n",
              "New York               3720707    36   274693        0.392189       8.579190   \n",
              "District of Columbia     77981    11    16370        0.347306       4.097303   \n",
              "Alaska                   53059    02    65471       14.558949       6.416505   \n",
              "Florida                5468826    12   389492        0.262314       2.783947   \n",
              "South Carolina          296897    45   117425        0.332926       1.641416   \n",
              "North Dakota             30325    38    18682        5.150619       1.575368   \n",
              "Maine                    23143    23    32770        0.663323       1.138851   \n",
              "Georgia                1013057    13   235824        0.332447       4.132551   \n",
              "Alabama                 212951    01    94096        0.506092       1.387828   \n",
              "New Hampshire            52792    33    28600        0.162111       2.699219   \n",
              "Oregon                  552279    41   182972        1.093851       4.496778   \n",
              "Wyoming                  58854    56    13590        2.256308       0.841493   \n",
              "Arizona                2260690    04   154343        4.335255       3.334093   \n",
              "Louisiana               243372    22    93105        0.556059       1.734977   \n",
              "Indiana                 475475    18   163307        0.209500       2.369830   \n",
              "Idaho                   222967    16    44805        1.312667       1.396572   \n",
              "Connecticut             587212    09    70893        0.254275       4.572462   \n",
              "Hawaii                  152566    15   396404        0.247029      37.640222   \n",
              "Illinois               2190696    17   247810        0.267156       5.580040   \n",
              "Massachusetts           828140    25   186429        0.203681       6.780791   \n",
              "Texas                 11294257    48   472699        0.481644       4.943748   \n",
              "Montana                  41501    30    31316        6.171488       0.816046   \n",
              "Nebraska                214952    31    45032        0.877158       2.492117   \n",
              "Ohio                    459939    39   342342        0.175088       2.299963   \n",
              "Colorado               1231126    08   145254        0.944093       3.196752   \n",
              "New Jersey             1815078    34   141691        0.250838       9.654841   \n",
              "Maryland                619418    24   186295        0.262686       6.367223   \n",
              "Virginia                810770    51   275652        0.265038       6.703185   \n",
              "Vermont                  12518    50    15258        0.299997       1.621873   \n",
              "North Carolina          991051    37   245132        1.157995       2.974689   \n",
              "Arkansas                229629    05   104029        0.635684       1.531605   \n",
              "Washington              971522    53   428121        1.221517       8.824028   \n",
              "Kansas                  351602    20    91821        0.764879       2.990195   \n",
              "Oklahoma                431467    40   276076        7.692193       2.203734   \n",
              "Wisconsin               408267    55   137677        0.838199       2.813789   \n",
              "Mississippi              94342    28    39317        0.467866       0.997439   \n",
              "Missouri                262677    29   188413        0.396365       2.021665   \n",
              "Michigan                521203    26   297054        0.501659       3.176729   \n",
              "Rhode Island            168007    44    24007        0.410664       3.453968   \n",
              "Minnesota               307675    27   180384        0.974221       4.914890   \n",
              "Iowa                    194407    19    70789        0.334539       2.517325   \n",
              "New Mexico             1031788    35    23757        9.306821       1.606803   \n",
              "Nevada                  875798    32   121573        1.244604       8.326423   \n",
              "Delaware                 91350    10    26210        0.367891       3.981486   \n",
              "Puerto Rico            3212625    72  -368183        0.174989       0.180671   \n",
              "Kentucky                167949    21   104532        0.187452       1.527112   \n",
              "South Dakota             36088    46    21696        8.526320       1.411633   \n",
              "Tennessee               377162    47   156854        0.253652       1.814710   \n",
              "\n",
              "                      White percent  Black percent  Hispanic percent  \\\n",
              "State Name                                                             \n",
              "Pennsylvania              75.695233      11.094918          7.595324   \n",
              "California                36.509776       5.720939         39.091445   \n",
              "West Virginia             91.549032       3.556715          1.586732   \n",
              "Utah                      77.911958       1.207747         14.155289   \n",
              "New York                  55.169768      15.385213         19.066030   \n",
              "District of Columbia      36.723867      45.390712         11.108816   \n",
              "Alaska                    59.699453       3.242106          7.199419   \n",
              "Florida                   53.406526      15.935679         25.775772   \n",
              "South Carolina            63.441033      26.447128          5.831209   \n",
              "North Dakota              83.678198       3.150867          3.988064   \n",
              "Maine                     92.637965       1.389816          1.726027   \n",
              "Georgia                   52.091930      31.567718          9.632952   \n",
              "Alabama                   65.236576      26.594513          4.351991   \n",
              "New Hampshire             89.580105       1.552857          3.895387   \n",
              "Oregon                    74.909837       1.894407         13.223976   \n",
              "Wyoming                   83.567158       0.873659         10.123712   \n",
              "Arizona                   54.135592       4.531671         31.511985   \n",
              "Louisiana                 58.325015      32.170558          5.217407   \n",
              "Indiana                   78.446124       9.436062          7.099934   \n",
              "Idaho                     81.370033       0.657559         12.709256   \n",
              "Connecticut               66.038640      10.703144         16.445986   \n",
              "Hawaii                    21.573524       1.881381         10.743525   \n",
              "Illinois                  60.847430      14.128946         17.227648   \n",
              "Massachusetts             70.784517       7.469355         12.049173   \n",
              "Texas                     41.383950      12.098378         39.441532   \n",
              "Montana                   85.596470       0.557499          3.908901   \n",
              "Nebraska                  78.340089       4.776731         11.173152   \n",
              "Ohio                      78.296828      12.356497          3.939428   \n",
              "Colorado                  67.502198       4.145911         21.655972   \n",
              "New Jersey                54.682931      13.389139         20.427604   \n",
              "Maryland                  50.160361      29.864861         10.259301   \n",
              "Virginia                  61.218907      19.045491          9.527981   \n",
              "Vermont                   92.353685       1.275587          2.004997   \n",
              "North Carolina            62.614576      21.350602          9.541973   \n",
              "Arkansas                  71.553449      15.201172          7.624126   \n",
              "Washington                67.460001       3.863512         12.932133   \n",
              "Kansas                    75.326982       5.693742         12.071678   \n",
              "Oklahoma                  64.899900       7.288708         10.925035   \n",
              "Wisconsin                 80.611196       6.335295          7.030631   \n",
              "Mississippi               56.372603      37.679650          3.163891   \n",
              "Missouri                  78.818042      11.398184          4.289192   \n",
              "Michigan                  74.480562      13.637073          5.225665   \n",
              "Rhode Island              71.441617       6.541514         15.882711   \n",
              "Minnesota                 78.970695       6.425113          5.494034   \n",
              "Iowa                      85.013862       3.715384          6.171629   \n",
              "New Mexico                36.677697       2.073227         49.202559   \n",
              "Nevada                    48.185597       9.329894         28.901544   \n",
              "Delaware                  61.511720      21.990247          9.440114   \n",
              "Puerto Rico                0.974155      11.300567         98.678694   \n",
              "Kentucky                  84.082886       8.095784          3.764025   \n",
              "South Dakota              81.348654       2.142071          4.104006   \n",
              "Tennessee                 73.378239      16.668065          5.569213   \n",
              "\n",
              "                      Others percent  \n",
              "State Name                            \n",
              "Pennsylvania                1.940260  \n",
              "California                  3.057605  \n",
              "West Virginia               2.346265  \n",
              "Utah                        3.348175  \n",
              "New York                    1.407610  \n",
              "District of Columbia        2.331995  \n",
              "Alaska                      8.883567  \n",
              "Florida                     1.835761  \n",
              "South Carolina              2.306287  \n",
              "North Dakota                2.456884  \n",
              "Maine                       2.444018  \n",
              "Georgia                     2.242402  \n",
              "Alabama                     1.923001  \n",
              "New Hampshire               2.110321  \n",
              "Oregon                      4.381150  \n",
              "Wyoming                     2.337670  \n",
              "Arizona                     2.151403  \n",
              "Louisiana                   1.995984  \n",
              "Indiana                     2.438549  \n",
              "Idaho                       2.553913  \n",
              "Connecticut                 1.985493  \n",
              "Hawaii                     27.914320  \n",
              "Illinois                    1.948780  \n",
              "Massachusetts               2.712482  \n",
              "Texas                       1.650748  \n",
              "Montana                     2.949595  \n",
              "Nebraska                    2.340752  \n",
              "Ohio                        2.932196  \n",
              "Colorado                    2.555073  \n",
              "New Jersey                  1.594646  \n",
              "Maryland                    3.085568  \n",
              "Virginia                    3.239398  \n",
              "Vermont                     2.443861  \n",
              "North Carolina              2.360164  \n",
              "Arkansas                    3.453964  \n",
              "Washington                  5.698809  \n",
              "Kansas                      3.152524  \n",
              "Oklahoma                    6.990430  \n",
              "Wisconsin                   2.370890  \n",
              "Mississippi                 1.318550  \n",
              "Missouri                    3.076553  \n",
              "Michigan                    2.978311  \n",
              "Rhode Island                2.269526  \n",
              "Minnesota                   3.221047  \n",
              "Iowa                        2.247262  \n",
              "New Mexico                  1.132893  \n",
              "Nevada                      4.011938  \n",
              "Delaware                    2.708543  \n",
              "Puerto Rico               -11.309075  \n",
              "Kentucky                    2.342741  \n",
              "South Dakota                2.467316  \n",
              "Tennessee                   2.316122  "
            ]
          },
          "execution_count": 22,
          "metadata": {},
          "output_type": "execute_result"
        }
      ],
      "source": [
        "census_DataFrame"
      ]
    },
    {
      "cell_type": "code",
      "execution_count": null,
      "metadata": {
        "colab": {
          "base_uri": "https://localhost:8080/",
          "height": 1000
        },
        "id": "zyHYEC2skxgR",
        "outputId": "bdc9dd2c-6598-49e2-cde8-ec4790fe2bb1"
      },
      "outputs": [
        {
          "data": {
            "image/svg+xml": "<?xml version=\"1.0\" encoding=\"utf-8\" standalone=\"no\"?>\n<!DOCTYPE svg PUBLIC \"-//W3C//DTD SVG 1.1//EN\"\n  \"http://www.w3.org/Graphics/SVG/1.1/DTD/svg11.dtd\">\n<svg xmlns:xlink=\"http://www.w3.org/1999/xlink\" width=\"881.89625pt\" height=\"980.149531pt\" viewBox=\"0 0 881.89625 980.149531\" xmlns=\"http://www.w3.org/2000/svg\" version=\"1.1\">\n <metadata>\n  <rdf:RDF xmlns:dc=\"http://purl.org/dc/elements/1.1/\" xmlns:cc=\"http://creativecommons.org/ns#\" xmlns:rdf=\"http://www.w3.org/1999/02/22-rdf-syntax-ns#\">\n   <cc:Work>\n    <dc:type rdf:resource=\"http://purl.org/dc/dcmitype/StillImage\"/>\n    <dc:date>2023-05-01T22:47:36.753443</dc:date>\n    <dc:format>image/svg+xml</dc:format>\n    <dc:creator>\n     <cc:Agent>\n      <dc:title>Matplotlib v3.7.1, https://matplotlib.org/</dc:title>\n     </cc:Agent>\n    </dc:creator>\n   </cc:Work>\n  </rdf:RDF>\n </metadata>\n <defs>\n  <style type=\"text/css\">*{stroke-linejoin: round; stroke-linecap: butt}</style>\n </defs>\n <g id=\"figure_1\">\n  <g id=\"patch_1\">\n   <path d=\"M 0 980.149531 \nL 881.89625 980.149531 \nL 881.89625 0 \nL 0 0 \nz\n\" style=\"fill: #ffffff\"/>\n  </g>\n  <g id=\"axes_1\">\n   <g id=\"patch_2\">\n    <path d=\"M 37.69625 838.8 \nL 874.69625 838.8 \nL 874.69625 7.2 \nL 37.69625 7.2 \nz\n\" style=\"fill: #ffffff\"/>\n   </g>\n   <g id=\"matplotlib.axis_1\">\n    <g id=\"xtick_1\">\n     <g id=\"line2d_1\">\n      <path d=\"M 45.744327 838.8 \nL 45.744327 7.2 \n\" clip-path=\"url(#p9e88aa34a5)\" style=\"fill: none; stroke: #cccccc; stroke-linecap: round\"/>\n     </g>\n     <g id=\"text_1\">\n      <!-- Pennsylvania -->\n      <g style=\"fill: #262626\" transform=\"translate(48.779639 920.561406) rotate(-90) scale(0.11 -0.11)\">\n       <defs>\n        <path id=\"DejaVuSans-50\" d=\"M 1259 4147 \nL 1259 2394 \nL 2053 2394 \nQ 2494 2394 2734 2622 \nQ 2975 2850 2975 3272 \nQ 2975 3691 2734 3919 \nQ 2494 4147 2053 4147 \nL 1259 4147 \nz\nM 628 4666 \nL 2053 4666 \nQ 2838 4666 3239 4311 \nQ 3641 3956 3641 3272 \nQ 3641 2581 3239 2228 \nQ 2838 1875 2053 1875 \nL 1259 1875 \nL 1259 0 \nL 628 0 \nL 628 4666 \nz\n\" transform=\"scale(0.015625)\"/>\n        <path id=\"DejaVuSans-65\" d=\"M 3597 1894 \nL 3597 1613 \nL 953 1613 \nQ 991 1019 1311 708 \nQ 1631 397 2203 397 \nQ 2534 397 2845 478 \nQ 3156 559 3463 722 \nL 3463 178 \nQ 3153 47 2828 -22 \nQ 2503 -91 2169 -91 \nQ 1331 -91 842 396 \nQ 353 884 353 1716 \nQ 353 2575 817 3079 \nQ 1281 3584 2069 3584 \nQ 2775 3584 3186 3129 \nQ 3597 2675 3597 1894 \nz\nM 3022 2063 \nQ 3016 2534 2758 2815 \nQ 2500 3097 2075 3097 \nQ 1594 3097 1305 2825 \nQ 1016 2553 972 2059 \nL 3022 2063 \nz\n\" transform=\"scale(0.015625)\"/>\n        <path id=\"DejaVuSans-6e\" d=\"M 3513 2113 \nL 3513 0 \nL 2938 0 \nL 2938 2094 \nQ 2938 2591 2744 2837 \nQ 2550 3084 2163 3084 \nQ 1697 3084 1428 2787 \nQ 1159 2491 1159 1978 \nL 1159 0 \nL 581 0 \nL 581 3500 \nL 1159 3500 \nL 1159 2956 \nQ 1366 3272 1645 3428 \nQ 1925 3584 2291 3584 \nQ 2894 3584 3203 3211 \nQ 3513 2838 3513 2113 \nz\n\" transform=\"scale(0.015625)\"/>\n        <path id=\"DejaVuSans-73\" d=\"M 2834 3397 \nL 2834 2853 \nQ 2591 2978 2328 3040 \nQ 2066 3103 1784 3103 \nQ 1356 3103 1142 2972 \nQ 928 2841 928 2578 \nQ 928 2378 1081 2264 \nQ 1234 2150 1697 2047 \nL 1894 2003 \nQ 2506 1872 2764 1633 \nQ 3022 1394 3022 966 \nQ 3022 478 2636 193 \nQ 2250 -91 1575 -91 \nQ 1294 -91 989 -36 \nQ 684 19 347 128 \nL 347 722 \nQ 666 556 975 473 \nQ 1284 391 1588 391 \nQ 1994 391 2212 530 \nQ 2431 669 2431 922 \nQ 2431 1156 2273 1281 \nQ 2116 1406 1581 1522 \nL 1381 1569 \nQ 847 1681 609 1914 \nQ 372 2147 372 2553 \nQ 372 3047 722 3315 \nQ 1072 3584 1716 3584 \nQ 2034 3584 2315 3537 \nQ 2597 3491 2834 3397 \nz\n\" transform=\"scale(0.015625)\"/>\n        <path id=\"DejaVuSans-79\" d=\"M 2059 -325 \nQ 1816 -950 1584 -1140 \nQ 1353 -1331 966 -1331 \nL 506 -1331 \nL 506 -850 \nL 844 -850 \nQ 1081 -850 1212 -737 \nQ 1344 -625 1503 -206 \nL 1606 56 \nL 191 3500 \nL 800 3500 \nL 1894 763 \nL 2988 3500 \nL 3597 3500 \nL 2059 -325 \nz\n\" transform=\"scale(0.015625)\"/>\n        <path id=\"DejaVuSans-6c\" d=\"M 603 4863 \nL 1178 4863 \nL 1178 0 \nL 603 0 \nL 603 4863 \nz\n\" transform=\"scale(0.015625)\"/>\n        <path id=\"DejaVuSans-76\" d=\"M 191 3500 \nL 800 3500 \nL 1894 563 \nL 2988 3500 \nL 3597 3500 \nL 2284 0 \nL 1503 0 \nL 191 3500 \nz\n\" transform=\"scale(0.015625)\"/>\n        <path id=\"DejaVuSans-61\" d=\"M 2194 1759 \nQ 1497 1759 1228 1600 \nQ 959 1441 959 1056 \nQ 959 750 1161 570 \nQ 1363 391 1709 391 \nQ 2188 391 2477 730 \nQ 2766 1069 2766 1631 \nL 2766 1759 \nL 2194 1759 \nz\nM 3341 1997 \nL 3341 0 \nL 2766 0 \nL 2766 531 \nQ 2569 213 2275 61 \nQ 1981 -91 1556 -91 \nQ 1019 -91 701 211 \nQ 384 513 384 1019 \nQ 384 1609 779 1909 \nQ 1175 2209 1959 2209 \nL 2766 2209 \nL 2766 2266 \nQ 2766 2663 2505 2880 \nQ 2244 3097 1772 3097 \nQ 1472 3097 1187 3025 \nQ 903 2953 641 2809 \nL 641 3341 \nQ 956 3463 1253 3523 \nQ 1550 3584 1831 3584 \nQ 2591 3584 2966 3190 \nQ 3341 2797 3341 1997 \nz\n\" transform=\"scale(0.015625)\"/>\n        <path id=\"DejaVuSans-69\" d=\"M 603 3500 \nL 1178 3500 \nL 1178 0 \nL 603 0 \nL 603 3500 \nz\nM 603 4863 \nL 1178 4863 \nL 1178 4134 \nL 603 4134 \nL 603 4863 \nz\n\" transform=\"scale(0.015625)\"/>\n       </defs>\n       <use xlink:href=\"#DejaVuSans-50\"/>\n       <use xlink:href=\"#DejaVuSans-65\" x=\"56.677734\"/>\n       <use xlink:href=\"#DejaVuSans-6e\" x=\"118.201172\"/>\n       <use xlink:href=\"#DejaVuSans-6e\" x=\"181.580078\"/>\n       <use xlink:href=\"#DejaVuSans-73\" x=\"244.958984\"/>\n       <use xlink:href=\"#DejaVuSans-79\" x=\"297.058594\"/>\n       <use xlink:href=\"#DejaVuSans-6c\" x=\"356.238281\"/>\n       <use xlink:href=\"#DejaVuSans-76\" x=\"384.021484\"/>\n       <use xlink:href=\"#DejaVuSans-61\" x=\"443.201172\"/>\n       <use xlink:href=\"#DejaVuSans-6e\" x=\"504.480469\"/>\n       <use xlink:href=\"#DejaVuSans-69\" x=\"567.859375\"/>\n       <use xlink:href=\"#DejaVuSans-61\" x=\"595.642578\"/>\n      </g>\n     </g>\n    </g>\n    <g id=\"xtick_2\">\n     <g id=\"line2d_2\">\n      <path d=\"M 61.840481 838.8 \nL 61.840481 7.2 \n\" clip-path=\"url(#p9e88aa34a5)\" style=\"fill: none; stroke: #cccccc; stroke-linecap: round\"/>\n     </g>\n     <g id=\"text_2\">\n      <!-- California -->\n      <g style=\"fill: #262626\" transform=\"translate(64.875793 900.534531) rotate(-90) scale(0.11 -0.11)\">\n       <defs>\n        <path id=\"DejaVuSans-43\" d=\"M 4122 4306 \nL 4122 3641 \nQ 3803 3938 3442 4084 \nQ 3081 4231 2675 4231 \nQ 1875 4231 1450 3742 \nQ 1025 3253 1025 2328 \nQ 1025 1406 1450 917 \nQ 1875 428 2675 428 \nQ 3081 428 3442 575 \nQ 3803 722 4122 1019 \nL 4122 359 \nQ 3791 134 3420 21 \nQ 3050 -91 2638 -91 \nQ 1578 -91 968 557 \nQ 359 1206 359 2328 \nQ 359 3453 968 4101 \nQ 1578 4750 2638 4750 \nQ 3056 4750 3426 4639 \nQ 3797 4528 4122 4306 \nz\n\" transform=\"scale(0.015625)\"/>\n        <path id=\"DejaVuSans-66\" d=\"M 2375 4863 \nL 2375 4384 \nL 1825 4384 \nQ 1516 4384 1395 4259 \nQ 1275 4134 1275 3809 \nL 1275 3500 \nL 2222 3500 \nL 2222 3053 \nL 1275 3053 \nL 1275 0 \nL 697 0 \nL 697 3053 \nL 147 3053 \nL 147 3500 \nL 697 3500 \nL 697 3744 \nQ 697 4328 969 4595 \nQ 1241 4863 1831 4863 \nL 2375 4863 \nz\n\" transform=\"scale(0.015625)\"/>\n        <path id=\"DejaVuSans-6f\" d=\"M 1959 3097 \nQ 1497 3097 1228 2736 \nQ 959 2375 959 1747 \nQ 959 1119 1226 758 \nQ 1494 397 1959 397 \nQ 2419 397 2687 759 \nQ 2956 1122 2956 1747 \nQ 2956 2369 2687 2733 \nQ 2419 3097 1959 3097 \nz\nM 1959 3584 \nQ 2709 3584 3137 3096 \nQ 3566 2609 3566 1747 \nQ 3566 888 3137 398 \nQ 2709 -91 1959 -91 \nQ 1206 -91 779 398 \nQ 353 888 353 1747 \nQ 353 2609 779 3096 \nQ 1206 3584 1959 3584 \nz\n\" transform=\"scale(0.015625)\"/>\n        <path id=\"DejaVuSans-72\" d=\"M 2631 2963 \nQ 2534 3019 2420 3045 \nQ 2306 3072 2169 3072 \nQ 1681 3072 1420 2755 \nQ 1159 2438 1159 1844 \nL 1159 0 \nL 581 0 \nL 581 3500 \nL 1159 3500 \nL 1159 2956 \nQ 1341 3275 1631 3429 \nQ 1922 3584 2338 3584 \nQ 2397 3584 2469 3576 \nQ 2541 3569 2628 3553 \nL 2631 2963 \nz\n\" transform=\"scale(0.015625)\"/>\n       </defs>\n       <use xlink:href=\"#DejaVuSans-43\"/>\n       <use xlink:href=\"#DejaVuSans-61\" x=\"69.824219\"/>\n       <use xlink:href=\"#DejaVuSans-6c\" x=\"131.103516\"/>\n       <use xlink:href=\"#DejaVuSans-69\" x=\"158.886719\"/>\n       <use xlink:href=\"#DejaVuSans-66\" x=\"186.669922\"/>\n       <use xlink:href=\"#DejaVuSans-6f\" x=\"221.875\"/>\n       <use xlink:href=\"#DejaVuSans-72\" x=\"283.056641\"/>\n       <use xlink:href=\"#DejaVuSans-6e\" x=\"322.419922\"/>\n       <use xlink:href=\"#DejaVuSans-69\" x=\"385.798828\"/>\n       <use xlink:href=\"#DejaVuSans-61\" x=\"413.582031\"/>\n      </g>\n     </g>\n    </g>\n    <g id=\"xtick_3\">\n     <g id=\"line2d_3\">\n      <path d=\"M 77.936635 838.8 \nL 77.936635 7.2 \n\" clip-path=\"url(#p9e88aa34a5)\" style=\"fill: none; stroke: #cccccc; stroke-linecap: round\"/>\n     </g>\n     <g id=\"text_3\">\n      <!-- West Virginia -->\n      <g style=\"fill: #262626\" transform=\"translate(80.971947 920.307031) rotate(-90) scale(0.11 -0.11)\">\n       <defs>\n        <path id=\"DejaVuSans-57\" d=\"M 213 4666 \nL 850 4666 \nL 1831 722 \nL 2809 4666 \nL 3519 4666 \nL 4500 722 \nL 5478 4666 \nL 6119 4666 \nL 4947 0 \nL 4153 0 \nL 3169 4050 \nL 2175 0 \nL 1381 0 \nL 213 4666 \nz\n\" transform=\"scale(0.015625)\"/>\n        <path id=\"DejaVuSans-74\" d=\"M 1172 4494 \nL 1172 3500 \nL 2356 3500 \nL 2356 3053 \nL 1172 3053 \nL 1172 1153 \nQ 1172 725 1289 603 \nQ 1406 481 1766 481 \nL 2356 481 \nL 2356 0 \nL 1766 0 \nQ 1100 0 847 248 \nQ 594 497 594 1153 \nL 594 3053 \nL 172 3053 \nL 172 3500 \nL 594 3500 \nL 594 4494 \nL 1172 4494 \nz\n\" transform=\"scale(0.015625)\"/>\n        <path id=\"DejaVuSans-20\" transform=\"scale(0.015625)\"/>\n        <path id=\"DejaVuSans-56\" d=\"M 1831 0 \nL 50 4666 \nL 709 4666 \nL 2188 738 \nL 3669 4666 \nL 4325 4666 \nL 2547 0 \nL 1831 0 \nz\n\" transform=\"scale(0.015625)\"/>\n        <path id=\"DejaVuSans-67\" d=\"M 2906 1791 \nQ 2906 2416 2648 2759 \nQ 2391 3103 1925 3103 \nQ 1463 3103 1205 2759 \nQ 947 2416 947 1791 \nQ 947 1169 1205 825 \nQ 1463 481 1925 481 \nQ 2391 481 2648 825 \nQ 2906 1169 2906 1791 \nz\nM 3481 434 \nQ 3481 -459 3084 -895 \nQ 2688 -1331 1869 -1331 \nQ 1566 -1331 1297 -1286 \nQ 1028 -1241 775 -1147 \nL 775 -588 \nQ 1028 -725 1275 -790 \nQ 1522 -856 1778 -856 \nQ 2344 -856 2625 -561 \nQ 2906 -266 2906 331 \nL 2906 616 \nQ 2728 306 2450 153 \nQ 2172 0 1784 0 \nQ 1141 0 747 490 \nQ 353 981 353 1791 \nQ 353 2603 747 3093 \nQ 1141 3584 1784 3584 \nQ 2172 3584 2450 3431 \nQ 2728 3278 2906 2969 \nL 2906 3500 \nL 3481 3500 \nL 3481 434 \nz\n\" transform=\"scale(0.015625)\"/>\n       </defs>\n       <use xlink:href=\"#DejaVuSans-57\"/>\n       <use xlink:href=\"#DejaVuSans-65\" x=\"93.001953\"/>\n       <use xlink:href=\"#DejaVuSans-73\" x=\"154.525391\"/>\n       <use xlink:href=\"#DejaVuSans-74\" x=\"206.625\"/>\n       <use xlink:href=\"#DejaVuSans-20\" x=\"245.833984\"/>\n       <use xlink:href=\"#DejaVuSans-56\" x=\"277.621094\"/>\n       <use xlink:href=\"#DejaVuSans-69\" x=\"343.779297\"/>\n       <use xlink:href=\"#DejaVuSans-72\" x=\"371.5625\"/>\n       <use xlink:href=\"#DejaVuSans-67\" x=\"410.925781\"/>\n       <use xlink:href=\"#DejaVuSans-69\" x=\"474.402344\"/>\n       <use xlink:href=\"#DejaVuSans-6e\" x=\"502.185547\"/>\n       <use xlink:href=\"#DejaVuSans-69\" x=\"565.564453\"/>\n       <use xlink:href=\"#DejaVuSans-61\" x=\"593.347656\"/>\n      </g>\n     </g>\n    </g>\n    <g id=\"xtick_4\">\n     <g id=\"line2d_4\">\n      <path d=\"M 94.032788 838.8 \nL 94.032788 7.2 \n\" clip-path=\"url(#p9e88aa34a5)\" style=\"fill: none; stroke: #cccccc; stroke-linecap: round\"/>\n     </g>\n     <g id=\"text_4\">\n      <!-- Utah -->\n      <g style=\"fill: #262626\" transform=\"translate(97.068101 874.375156) rotate(-90) scale(0.11 -0.11)\">\n       <defs>\n        <path id=\"DejaVuSans-55\" d=\"M 556 4666 \nL 1191 4666 \nL 1191 1831 \nQ 1191 1081 1462 751 \nQ 1734 422 2344 422 \nQ 2950 422 3222 751 \nQ 3494 1081 3494 1831 \nL 3494 4666 \nL 4128 4666 \nL 4128 1753 \nQ 4128 841 3676 375 \nQ 3225 -91 2344 -91 \nQ 1459 -91 1007 375 \nQ 556 841 556 1753 \nL 556 4666 \nz\n\" transform=\"scale(0.015625)\"/>\n        <path id=\"DejaVuSans-68\" d=\"M 3513 2113 \nL 3513 0 \nL 2938 0 \nL 2938 2094 \nQ 2938 2591 2744 2837 \nQ 2550 3084 2163 3084 \nQ 1697 3084 1428 2787 \nQ 1159 2491 1159 1978 \nL 1159 0 \nL 581 0 \nL 581 4863 \nL 1159 4863 \nL 1159 2956 \nQ 1366 3272 1645 3428 \nQ 1925 3584 2291 3584 \nQ 2894 3584 3203 3211 \nQ 3513 2838 3513 2113 \nz\n\" transform=\"scale(0.015625)\"/>\n       </defs>\n       <use xlink:href=\"#DejaVuSans-55\"/>\n       <use xlink:href=\"#DejaVuSans-74\" x=\"73.193359\"/>\n       <use xlink:href=\"#DejaVuSans-61\" x=\"112.402344\"/>\n       <use xlink:href=\"#DejaVuSans-68\" x=\"173.681641\"/>\n      </g>\n     </g>\n    </g>\n    <g id=\"xtick_5\">\n     <g id=\"line2d_5\">\n      <path d=\"M 110.128942 838.8 \nL 110.128942 7.2 \n\" clip-path=\"url(#p9e88aa34a5)\" style=\"fill: none; stroke: #cccccc; stroke-linecap: round\"/>\n     </g>\n     <g id=\"text_5\">\n      <!-- New York -->\n      <g style=\"fill: #262626\" transform=\"translate(113.164255 898.673125) rotate(-90) scale(0.11 -0.11)\">\n       <defs>\n        <path id=\"DejaVuSans-4e\" d=\"M 628 4666 \nL 1478 4666 \nL 3547 763 \nL 3547 4666 \nL 4159 4666 \nL 4159 0 \nL 3309 0 \nL 1241 3903 \nL 1241 0 \nL 628 0 \nL 628 4666 \nz\n\" transform=\"scale(0.015625)\"/>\n        <path id=\"DejaVuSans-77\" d=\"M 269 3500 \nL 844 3500 \nL 1563 769 \nL 2278 3500 \nL 2956 3500 \nL 3675 769 \nL 4391 3500 \nL 4966 3500 \nL 4050 0 \nL 3372 0 \nL 2619 2869 \nL 1863 0 \nL 1184 0 \nL 269 3500 \nz\n\" transform=\"scale(0.015625)\"/>\n        <path id=\"DejaVuSans-59\" d=\"M -13 4666 \nL 666 4666 \nL 1959 2747 \nL 3244 4666 \nL 3922 4666 \nL 2272 2222 \nL 2272 0 \nL 1638 0 \nL 1638 2222 \nL -13 4666 \nz\n\" transform=\"scale(0.015625)\"/>\n        <path id=\"DejaVuSans-6b\" d=\"M 581 4863 \nL 1159 4863 \nL 1159 1991 \nL 2875 3500 \nL 3609 3500 \nL 1753 1863 \nL 3688 0 \nL 2938 0 \nL 1159 1709 \nL 1159 0 \nL 581 0 \nL 581 4863 \nz\n\" transform=\"scale(0.015625)\"/>\n       </defs>\n       <use xlink:href=\"#DejaVuSans-4e\"/>\n       <use xlink:href=\"#DejaVuSans-65\" x=\"74.804688\"/>\n       <use xlink:href=\"#DejaVuSans-77\" x=\"136.328125\"/>\n       <use xlink:href=\"#DejaVuSans-20\" x=\"218.115234\"/>\n       <use xlink:href=\"#DejaVuSans-59\" x=\"249.902344\"/>\n       <use xlink:href=\"#DejaVuSans-6f\" x=\"297.736328\"/>\n       <use xlink:href=\"#DejaVuSans-72\" x=\"358.917969\"/>\n       <use xlink:href=\"#DejaVuSans-6b\" x=\"400.03125\"/>\n      </g>\n     </g>\n    </g>\n    <g id=\"xtick_6\">\n     <g id=\"line2d_6\">\n      <path d=\"M 126.225096 838.8 \nL 126.225096 7.2 \n\" clip-path=\"url(#p9e88aa34a5)\" style=\"fill: none; stroke: #cccccc; stroke-linecap: round\"/>\n     </g>\n     <g id=\"text_6\">\n      <!-- District of Columbia -->\n      <g style=\"fill: #262626\" transform=\"translate(129.260409 957.335781) rotate(-90) scale(0.11 -0.11)\">\n       <defs>\n        <path id=\"DejaVuSans-44\" d=\"M 1259 4147 \nL 1259 519 \nL 2022 519 \nQ 2988 519 3436 956 \nQ 3884 1394 3884 2338 \nQ 3884 3275 3436 3711 \nQ 2988 4147 2022 4147 \nL 1259 4147 \nz\nM 628 4666 \nL 1925 4666 \nQ 3281 4666 3915 4102 \nQ 4550 3538 4550 2338 \nQ 4550 1131 3912 565 \nQ 3275 0 1925 0 \nL 628 0 \nL 628 4666 \nz\n\" transform=\"scale(0.015625)\"/>\n        <path id=\"DejaVuSans-63\" d=\"M 3122 3366 \nL 3122 2828 \nQ 2878 2963 2633 3030 \nQ 2388 3097 2138 3097 \nQ 1578 3097 1268 2742 \nQ 959 2388 959 1747 \nQ 959 1106 1268 751 \nQ 1578 397 2138 397 \nQ 2388 397 2633 464 \nQ 2878 531 3122 666 \nL 3122 134 \nQ 2881 22 2623 -34 \nQ 2366 -91 2075 -91 \nQ 1284 -91 818 406 \nQ 353 903 353 1747 \nQ 353 2603 823 3093 \nQ 1294 3584 2113 3584 \nQ 2378 3584 2631 3529 \nQ 2884 3475 3122 3366 \nz\n\" transform=\"scale(0.015625)\"/>\n        <path id=\"DejaVuSans-75\" d=\"M 544 1381 \nL 544 3500 \nL 1119 3500 \nL 1119 1403 \nQ 1119 906 1312 657 \nQ 1506 409 1894 409 \nQ 2359 409 2629 706 \nQ 2900 1003 2900 1516 \nL 2900 3500 \nL 3475 3500 \nL 3475 0 \nL 2900 0 \nL 2900 538 \nQ 2691 219 2414 64 \nQ 2138 -91 1772 -91 \nQ 1169 -91 856 284 \nQ 544 659 544 1381 \nz\nM 1991 3584 \nL 1991 3584 \nz\n\" transform=\"scale(0.015625)\"/>\n        <path id=\"DejaVuSans-6d\" d=\"M 3328 2828 \nQ 3544 3216 3844 3400 \nQ 4144 3584 4550 3584 \nQ 5097 3584 5394 3201 \nQ 5691 2819 5691 2113 \nL 5691 0 \nL 5113 0 \nL 5113 2094 \nQ 5113 2597 4934 2840 \nQ 4756 3084 4391 3084 \nQ 3944 3084 3684 2787 \nQ 3425 2491 3425 1978 \nL 3425 0 \nL 2847 0 \nL 2847 2094 \nQ 2847 2600 2669 2842 \nQ 2491 3084 2119 3084 \nQ 1678 3084 1418 2786 \nQ 1159 2488 1159 1978 \nL 1159 0 \nL 581 0 \nL 581 3500 \nL 1159 3500 \nL 1159 2956 \nQ 1356 3278 1631 3431 \nQ 1906 3584 2284 3584 \nQ 2666 3584 2933 3390 \nQ 3200 3197 3328 2828 \nz\n\" transform=\"scale(0.015625)\"/>\n        <path id=\"DejaVuSans-62\" d=\"M 3116 1747 \nQ 3116 2381 2855 2742 \nQ 2594 3103 2138 3103 \nQ 1681 3103 1420 2742 \nQ 1159 2381 1159 1747 \nQ 1159 1113 1420 752 \nQ 1681 391 2138 391 \nQ 2594 391 2855 752 \nQ 3116 1113 3116 1747 \nz\nM 1159 2969 \nQ 1341 3281 1617 3432 \nQ 1894 3584 2278 3584 \nQ 2916 3584 3314 3078 \nQ 3713 2572 3713 1747 \nQ 3713 922 3314 415 \nQ 2916 -91 2278 -91 \nQ 1894 -91 1617 61 \nQ 1341 213 1159 525 \nL 1159 0 \nL 581 0 \nL 581 4863 \nL 1159 4863 \nL 1159 2969 \nz\n\" transform=\"scale(0.015625)\"/>\n       </defs>\n       <use xlink:href=\"#DejaVuSans-44\"/>\n       <use xlink:href=\"#DejaVuSans-69\" x=\"77.001953\"/>\n       <use xlink:href=\"#DejaVuSans-73\" x=\"104.785156\"/>\n       <use xlink:href=\"#DejaVuSans-74\" x=\"156.884766\"/>\n       <use xlink:href=\"#DejaVuSans-72\" x=\"196.09375\"/>\n       <use xlink:href=\"#DejaVuSans-69\" x=\"237.207031\"/>\n       <use xlink:href=\"#DejaVuSans-63\" x=\"264.990234\"/>\n       <use xlink:href=\"#DejaVuSans-74\" x=\"319.970703\"/>\n       <use xlink:href=\"#DejaVuSans-20\" x=\"359.179688\"/>\n       <use xlink:href=\"#DejaVuSans-6f\" x=\"390.966797\"/>\n       <use xlink:href=\"#DejaVuSans-66\" x=\"452.148438\"/>\n       <use xlink:href=\"#DejaVuSans-20\" x=\"487.353516\"/>\n       <use xlink:href=\"#DejaVuSans-43\" x=\"519.140625\"/>\n       <use xlink:href=\"#DejaVuSans-6f\" x=\"588.964844\"/>\n       <use xlink:href=\"#DejaVuSans-6c\" x=\"650.146484\"/>\n       <use xlink:href=\"#DejaVuSans-75\" x=\"677.929688\"/>\n       <use xlink:href=\"#DejaVuSans-6d\" x=\"741.308594\"/>\n       <use xlink:href=\"#DejaVuSans-62\" x=\"838.720703\"/>\n       <use xlink:href=\"#DejaVuSans-69\" x=\"902.197266\"/>\n       <use xlink:href=\"#DejaVuSans-61\" x=\"929.980469\"/>\n      </g>\n     </g>\n    </g>\n    <g id=\"xtick_7\">\n     <g id=\"line2d_7\">\n      <path d=\"M 142.32125 838.8 \nL 142.32125 7.2 \n\" clip-path=\"url(#p9e88aa34a5)\" style=\"fill: none; stroke: #cccccc; stroke-linecap: round\"/>\n     </g>\n     <g id=\"text_7\">\n      <!-- Alaska -->\n      <g style=\"fill: #262626\" transform=\"translate(145.356563 884.27) rotate(-90) scale(0.11 -0.11)\">\n       <defs>\n        <path id=\"DejaVuSans-41\" d=\"M 2188 4044 \nL 1331 1722 \nL 3047 1722 \nL 2188 4044 \nz\nM 1831 4666 \nL 2547 4666 \nL 4325 0 \nL 3669 0 \nL 3244 1197 \nL 1141 1197 \nL 716 0 \nL 50 0 \nL 1831 4666 \nz\n\" transform=\"scale(0.015625)\"/>\n       </defs>\n       <use xlink:href=\"#DejaVuSans-41\"/>\n       <use xlink:href=\"#DejaVuSans-6c\" x=\"68.408203\"/>\n       <use xlink:href=\"#DejaVuSans-61\" x=\"96.191406\"/>\n       <use xlink:href=\"#DejaVuSans-73\" x=\"157.470703\"/>\n       <use xlink:href=\"#DejaVuSans-6b\" x=\"209.570312\"/>\n       <use xlink:href=\"#DejaVuSans-61\" x=\"265.730469\"/>\n      </g>\n     </g>\n    </g>\n    <g id=\"xtick_8\">\n     <g id=\"line2d_8\">\n      <path d=\"M 158.417404 838.8 \nL 158.417404 7.2 \n\" clip-path=\"url(#p9e88aa34a5)\" style=\"fill: none; stroke: #cccccc; stroke-linecap: round\"/>\n     </g>\n     <g id=\"text_8\">\n      <!-- Florida -->\n      <g style=\"fill: #262626\" transform=\"translate(161.452716 885.715469) rotate(-90) scale(0.11 -0.11)\">\n       <defs>\n        <path id=\"DejaVuSans-46\" d=\"M 628 4666 \nL 3309 4666 \nL 3309 4134 \nL 1259 4134 \nL 1259 2759 \nL 3109 2759 \nL 3109 2228 \nL 1259 2228 \nL 1259 0 \nL 628 0 \nL 628 4666 \nz\n\" transform=\"scale(0.015625)\"/>\n        <path id=\"DejaVuSans-64\" d=\"M 2906 2969 \nL 2906 4863 \nL 3481 4863 \nL 3481 0 \nL 2906 0 \nL 2906 525 \nQ 2725 213 2448 61 \nQ 2172 -91 1784 -91 \nQ 1150 -91 751 415 \nQ 353 922 353 1747 \nQ 353 2572 751 3078 \nQ 1150 3584 1784 3584 \nQ 2172 3584 2448 3432 \nQ 2725 3281 2906 2969 \nz\nM 947 1747 \nQ 947 1113 1208 752 \nQ 1469 391 1925 391 \nQ 2381 391 2643 752 \nQ 2906 1113 2906 1747 \nQ 2906 2381 2643 2742 \nQ 2381 3103 1925 3103 \nQ 1469 3103 1208 2742 \nQ 947 2381 947 1747 \nz\n\" transform=\"scale(0.015625)\"/>\n       </defs>\n       <use xlink:href=\"#DejaVuSans-46\"/>\n       <use xlink:href=\"#DejaVuSans-6c\" x=\"57.519531\"/>\n       <use xlink:href=\"#DejaVuSans-6f\" x=\"85.302734\"/>\n       <use xlink:href=\"#DejaVuSans-72\" x=\"146.484375\"/>\n       <use xlink:href=\"#DejaVuSans-69\" x=\"187.597656\"/>\n       <use xlink:href=\"#DejaVuSans-64\" x=\"215.380859\"/>\n       <use xlink:href=\"#DejaVuSans-61\" x=\"278.857422\"/>\n      </g>\n     </g>\n    </g>\n    <g id=\"xtick_9\">\n     <g id=\"line2d_9\">\n      <path d=\"M 174.513558 838.8 \nL 174.513558 7.2 \n\" clip-path=\"url(#p9e88aa34a5)\" style=\"fill: none; stroke: #cccccc; stroke-linecap: round\"/>\n     </g>\n     <g id=\"text_9\">\n      <!-- South Carolina -->\n      <g style=\"fill: #262626\" transform=\"translate(177.54887 929.015938) rotate(-90) scale(0.11 -0.11)\">\n       <defs>\n        <path id=\"DejaVuSans-53\" d=\"M 3425 4513 \nL 3425 3897 \nQ 3066 4069 2747 4153 \nQ 2428 4238 2131 4238 \nQ 1616 4238 1336 4038 \nQ 1056 3838 1056 3469 \nQ 1056 3159 1242 3001 \nQ 1428 2844 1947 2747 \nL 2328 2669 \nQ 3034 2534 3370 2195 \nQ 3706 1856 3706 1288 \nQ 3706 609 3251 259 \nQ 2797 -91 1919 -91 \nQ 1588 -91 1214 -16 \nQ 841 59 441 206 \nL 441 856 \nQ 825 641 1194 531 \nQ 1563 422 1919 422 \nQ 2459 422 2753 634 \nQ 3047 847 3047 1241 \nQ 3047 1584 2836 1778 \nQ 2625 1972 2144 2069 \nL 1759 2144 \nQ 1053 2284 737 2584 \nQ 422 2884 422 3419 \nQ 422 4038 858 4394 \nQ 1294 4750 2059 4750 \nQ 2388 4750 2728 4690 \nQ 3069 4631 3425 4513 \nz\n\" transform=\"scale(0.015625)\"/>\n       </defs>\n       <use xlink:href=\"#DejaVuSans-53\"/>\n       <use xlink:href=\"#DejaVuSans-6f\" x=\"63.476562\"/>\n       <use xlink:href=\"#DejaVuSans-75\" x=\"124.658203\"/>\n       <use xlink:href=\"#DejaVuSans-74\" x=\"188.037109\"/>\n       <use xlink:href=\"#DejaVuSans-68\" x=\"227.246094\"/>\n       <use xlink:href=\"#DejaVuSans-20\" x=\"290.625\"/>\n       <use xlink:href=\"#DejaVuSans-43\" x=\"322.412109\"/>\n       <use xlink:href=\"#DejaVuSans-61\" x=\"392.236328\"/>\n       <use xlink:href=\"#DejaVuSans-72\" x=\"453.515625\"/>\n       <use xlink:href=\"#DejaVuSans-6f\" x=\"492.378906\"/>\n       <use xlink:href=\"#DejaVuSans-6c\" x=\"553.560547\"/>\n       <use xlink:href=\"#DejaVuSans-69\" x=\"581.34375\"/>\n       <use xlink:href=\"#DejaVuSans-6e\" x=\"609.126953\"/>\n       <use xlink:href=\"#DejaVuSans-61\" x=\"672.505859\"/>\n      </g>\n     </g>\n    </g>\n    <g id=\"xtick_10\">\n     <g id=\"line2d_10\">\n      <path d=\"M 190.609712 838.8 \nL 190.609712 7.2 \n\" clip-path=\"url(#p9e88aa34a5)\" style=\"fill: none; stroke: #cccccc; stroke-linecap: round\"/>\n     </g>\n     <g id=\"text_10\">\n      <!-- North Dakota -->\n      <g style=\"fill: #262626\" transform=\"translate(193.645024 921.527344) rotate(-90) scale(0.11 -0.11)\">\n       <use xlink:href=\"#DejaVuSans-4e\"/>\n       <use xlink:href=\"#DejaVuSans-6f\" x=\"74.804688\"/>\n       <use xlink:href=\"#DejaVuSans-72\" x=\"135.986328\"/>\n       <use xlink:href=\"#DejaVuSans-74\" x=\"177.099609\"/>\n       <use xlink:href=\"#DejaVuSans-68\" x=\"216.308594\"/>\n       <use xlink:href=\"#DejaVuSans-20\" x=\"279.6875\"/>\n       <use xlink:href=\"#DejaVuSans-44\" x=\"311.474609\"/>\n       <use xlink:href=\"#DejaVuSans-61\" x=\"388.476562\"/>\n       <use xlink:href=\"#DejaVuSans-6b\" x=\"449.755859\"/>\n       <use xlink:href=\"#DejaVuSans-6f\" x=\"504.041016\"/>\n       <use xlink:href=\"#DejaVuSans-74\" x=\"565.222656\"/>\n       <use xlink:href=\"#DejaVuSans-61\" x=\"604.431641\"/>\n      </g>\n     </g>\n    </g>\n    <g id=\"xtick_11\">\n     <g id=\"line2d_11\">\n      <path d=\"M 206.705865 838.8 \nL 206.705865 7.2 \n\" clip-path=\"url(#p9e88aa34a5)\" style=\"fill: none; stroke: #cccccc; stroke-linecap: round\"/>\n     </g>\n     <g id=\"text_11\">\n      <!-- Maine -->\n      <g style=\"fill: #262626\" transform=\"translate(209.741178 881.3275) rotate(-90) scale(0.11 -0.11)\">\n       <defs>\n        <path id=\"DejaVuSans-4d\" d=\"M 628 4666 \nL 1569 4666 \nL 2759 1491 \nL 3956 4666 \nL 4897 4666 \nL 4897 0 \nL 4281 0 \nL 4281 4097 \nL 3078 897 \nL 2444 897 \nL 1241 4097 \nL 1241 0 \nL 628 0 \nL 628 4666 \nz\n\" transform=\"scale(0.015625)\"/>\n       </defs>\n       <use xlink:href=\"#DejaVuSans-4d\"/>\n       <use xlink:href=\"#DejaVuSans-61\" x=\"86.279297\"/>\n       <use xlink:href=\"#DejaVuSans-69\" x=\"147.558594\"/>\n       <use xlink:href=\"#DejaVuSans-6e\" x=\"175.341797\"/>\n       <use xlink:href=\"#DejaVuSans-65\" x=\"238.720703\"/>\n      </g>\n     </g>\n    </g>\n    <g id=\"xtick_12\">\n     <g id=\"line2d_12\">\n      <path d=\"M 222.802019 838.8 \nL 222.802019 7.2 \n\" clip-path=\"url(#p9e88aa34a5)\" style=\"fill: none; stroke: #cccccc; stroke-linecap: round\"/>\n     </g>\n     <g id=\"text_12\">\n      <!-- Georgia -->\n      <g style=\"fill: #262626\" transform=\"translate(225.837332 891.432031) rotate(-90) scale(0.11 -0.11)\">\n       <defs>\n        <path id=\"DejaVuSans-47\" d=\"M 3809 666 \nL 3809 1919 \nL 2778 1919 \nL 2778 2438 \nL 4434 2438 \nL 4434 434 \nQ 4069 175 3628 42 \nQ 3188 -91 2688 -91 \nQ 1594 -91 976 548 \nQ 359 1188 359 2328 \nQ 359 3472 976 4111 \nQ 1594 4750 2688 4750 \nQ 3144 4750 3555 4637 \nQ 3966 4525 4313 4306 \nL 4313 3634 \nQ 3963 3931 3569 4081 \nQ 3175 4231 2741 4231 \nQ 1884 4231 1454 3753 \nQ 1025 3275 1025 2328 \nQ 1025 1384 1454 906 \nQ 1884 428 2741 428 \nQ 3075 428 3337 486 \nQ 3600 544 3809 666 \nz\n\" transform=\"scale(0.015625)\"/>\n       </defs>\n       <use xlink:href=\"#DejaVuSans-47\"/>\n       <use xlink:href=\"#DejaVuSans-65\" x=\"77.490234\"/>\n       <use xlink:href=\"#DejaVuSans-6f\" x=\"139.013672\"/>\n       <use xlink:href=\"#DejaVuSans-72\" x=\"200.195312\"/>\n       <use xlink:href=\"#DejaVuSans-67\" x=\"239.558594\"/>\n       <use xlink:href=\"#DejaVuSans-69\" x=\"303.035156\"/>\n       <use xlink:href=\"#DejaVuSans-61\" x=\"330.818359\"/>\n      </g>\n     </g>\n    </g>\n    <g id=\"xtick_13\">\n     <g id=\"line2d_13\">\n      <path d=\"M 238.898173 838.8 \nL 238.898173 7.2 \n\" clip-path=\"url(#p9e88aa34a5)\" style=\"fill: none; stroke: #cccccc; stroke-linecap: round\"/>\n     </g>\n     <g id=\"text_13\">\n      <!-- Alabama -->\n      <g style=\"fill: #262626\" transform=\"translate(241.933486 896.801406) rotate(-90) scale(0.11 -0.11)\">\n       <use xlink:href=\"#DejaVuSans-41\"/>\n       <use xlink:href=\"#DejaVuSans-6c\" x=\"68.408203\"/>\n       <use xlink:href=\"#DejaVuSans-61\" x=\"96.191406\"/>\n       <use xlink:href=\"#DejaVuSans-62\" x=\"157.470703\"/>\n       <use xlink:href=\"#DejaVuSans-61\" x=\"220.947266\"/>\n       <use xlink:href=\"#DejaVuSans-6d\" x=\"282.226562\"/>\n       <use xlink:href=\"#DejaVuSans-61\" x=\"379.638672\"/>\n      </g>\n     </g>\n    </g>\n    <g id=\"xtick_14\">\n     <g id=\"line2d_14\">\n      <path d=\"M 254.994327 838.8 \nL 254.994327 7.2 \n\" clip-path=\"url(#p9e88aa34a5)\" style=\"fill: none; stroke: #cccccc; stroke-linecap: round\"/>\n     </g>\n     <g id=\"text_14\">\n      <!-- New Hampshire -->\n      <g style=\"fill: #262626\" transform=\"translate(258.029639 935.301406) rotate(-90) scale(0.11 -0.11)\">\n       <defs>\n        <path id=\"DejaVuSans-48\" d=\"M 628 4666 \nL 1259 4666 \nL 1259 2753 \nL 3553 2753 \nL 3553 4666 \nL 4184 4666 \nL 4184 0 \nL 3553 0 \nL 3553 2222 \nL 1259 2222 \nL 1259 0 \nL 628 0 \nL 628 4666 \nz\n\" transform=\"scale(0.015625)\"/>\n        <path id=\"DejaVuSans-70\" d=\"M 1159 525 \nL 1159 -1331 \nL 581 -1331 \nL 581 3500 \nL 1159 3500 \nL 1159 2969 \nQ 1341 3281 1617 3432 \nQ 1894 3584 2278 3584 \nQ 2916 3584 3314 3078 \nQ 3713 2572 3713 1747 \nQ 3713 922 3314 415 \nQ 2916 -91 2278 -91 \nQ 1894 -91 1617 61 \nQ 1341 213 1159 525 \nz\nM 3116 1747 \nQ 3116 2381 2855 2742 \nQ 2594 3103 2138 3103 \nQ 1681 3103 1420 2742 \nQ 1159 2381 1159 1747 \nQ 1159 1113 1420 752 \nQ 1681 391 2138 391 \nQ 2594 391 2855 752 \nQ 3116 1113 3116 1747 \nz\n\" transform=\"scale(0.015625)\"/>\n       </defs>\n       <use xlink:href=\"#DejaVuSans-4e\"/>\n       <use xlink:href=\"#DejaVuSans-65\" x=\"74.804688\"/>\n       <use xlink:href=\"#DejaVuSans-77\" x=\"136.328125\"/>\n       <use xlink:href=\"#DejaVuSans-20\" x=\"218.115234\"/>\n       <use xlink:href=\"#DejaVuSans-48\" x=\"249.902344\"/>\n       <use xlink:href=\"#DejaVuSans-61\" x=\"325.097656\"/>\n       <use xlink:href=\"#DejaVuSans-6d\" x=\"386.376953\"/>\n       <use xlink:href=\"#DejaVuSans-70\" x=\"483.789062\"/>\n       <use xlink:href=\"#DejaVuSans-73\" x=\"547.265625\"/>\n       <use xlink:href=\"#DejaVuSans-68\" x=\"599.365234\"/>\n       <use xlink:href=\"#DejaVuSans-69\" x=\"662.744141\"/>\n       <use xlink:href=\"#DejaVuSans-72\" x=\"690.527344\"/>\n       <use xlink:href=\"#DejaVuSans-65\" x=\"729.390625\"/>\n      </g>\n     </g>\n    </g>\n    <g id=\"xtick_15\">\n     <g id=\"line2d_15\">\n      <path d=\"M 271.090481 838.8 \nL 271.090481 7.2 \n\" clip-path=\"url(#p9e88aa34a5)\" style=\"fill: none; stroke: #cccccc; stroke-linecap: round\"/>\n     </g>\n     <g id=\"text_15\">\n      <!-- Oregon -->\n      <g style=\"fill: #262626\" transform=\"translate(274.125793 888.687188) rotate(-90) scale(0.11 -0.11)\">\n       <defs>\n        <path id=\"DejaVuSans-4f\" d=\"M 2522 4238 \nQ 1834 4238 1429 3725 \nQ 1025 3213 1025 2328 \nQ 1025 1447 1429 934 \nQ 1834 422 2522 422 \nQ 3209 422 3611 934 \nQ 4013 1447 4013 2328 \nQ 4013 3213 3611 3725 \nQ 3209 4238 2522 4238 \nz\nM 2522 4750 \nQ 3503 4750 4090 4092 \nQ 4678 3434 4678 2328 \nQ 4678 1225 4090 567 \nQ 3503 -91 2522 -91 \nQ 1538 -91 948 565 \nQ 359 1222 359 2328 \nQ 359 3434 948 4092 \nQ 1538 4750 2522 4750 \nz\n\" transform=\"scale(0.015625)\"/>\n       </defs>\n       <use xlink:href=\"#DejaVuSans-4f\"/>\n       <use xlink:href=\"#DejaVuSans-72\" x=\"78.710938\"/>\n       <use xlink:href=\"#DejaVuSans-65\" x=\"117.574219\"/>\n       <use xlink:href=\"#DejaVuSans-67\" x=\"179.097656\"/>\n       <use xlink:href=\"#DejaVuSans-6f\" x=\"242.574219\"/>\n       <use xlink:href=\"#DejaVuSans-6e\" x=\"303.755859\"/>\n      </g>\n     </g>\n    </g>\n    <g id=\"xtick_16\">\n     <g id=\"line2d_16\">\n      <path d=\"M 287.186635 838.8 \nL 287.186635 7.2 \n\" clip-path=\"url(#p9e88aa34a5)\" style=\"fill: none; stroke: #cccccc; stroke-linecap: round\"/>\n     </g>\n     <g id=\"text_16\">\n      <!-- Wyoming -->\n      <g style=\"fill: #262626\" transform=\"translate(290.221947 899.950156) rotate(-90) scale(0.11 -0.11)\">\n       <use xlink:href=\"#DejaVuSans-57\"/>\n       <use xlink:href=\"#DejaVuSans-79\" x=\"97.126953\"/>\n       <use xlink:href=\"#DejaVuSans-6f\" x=\"156.306641\"/>\n       <use xlink:href=\"#DejaVuSans-6d\" x=\"217.488281\"/>\n       <use xlink:href=\"#DejaVuSans-69\" x=\"314.900391\"/>\n       <use xlink:href=\"#DejaVuSans-6e\" x=\"342.683594\"/>\n       <use xlink:href=\"#DejaVuSans-67\" x=\"406.0625\"/>\n      </g>\n     </g>\n    </g>\n    <g id=\"xtick_17\">\n     <g id=\"line2d_17\">\n      <path d=\"M 303.282788 838.8 \nL 303.282788 7.2 \n\" clip-path=\"url(#p9e88aa34a5)\" style=\"fill: none; stroke: #cccccc; stroke-linecap: round\"/>\n     </g>\n     <g id=\"text_17\">\n      <!-- Arizona -->\n      <g style=\"fill: #262626\" transform=\"translate(306.318101 889.61875) rotate(-90) scale(0.11 -0.11)\">\n       <defs>\n        <path id=\"DejaVuSans-7a\" d=\"M 353 3500 \nL 3084 3500 \nL 3084 2975 \nL 922 459 \nL 3084 459 \nL 3084 0 \nL 275 0 \nL 275 525 \nL 2438 3041 \nL 353 3041 \nL 353 3500 \nz\n\" transform=\"scale(0.015625)\"/>\n       </defs>\n       <use xlink:href=\"#DejaVuSans-41\"/>\n       <use xlink:href=\"#DejaVuSans-72\" x=\"68.408203\"/>\n       <use xlink:href=\"#DejaVuSans-69\" x=\"109.521484\"/>\n       <use xlink:href=\"#DejaVuSans-7a\" x=\"137.304688\"/>\n       <use xlink:href=\"#DejaVuSans-6f\" x=\"189.794922\"/>\n       <use xlink:href=\"#DejaVuSans-6e\" x=\"250.976562\"/>\n       <use xlink:href=\"#DejaVuSans-61\" x=\"314.355469\"/>\n      </g>\n     </g>\n    </g>\n    <g id=\"xtick_18\">\n     <g id=\"line2d_18\">\n      <path d=\"M 319.378942 838.8 \nL 319.378942 7.2 \n\" clip-path=\"url(#p9e88aa34a5)\" style=\"fill: none; stroke: #cccccc; stroke-linecap: round\"/>\n     </g>\n     <g id=\"text_18\">\n      <!-- Louisiana -->\n      <g style=\"fill: #262626\" transform=\"translate(322.414255 900.23375) rotate(-90) scale(0.11 -0.11)\">\n       <defs>\n        <path id=\"DejaVuSans-4c\" d=\"M 628 4666 \nL 1259 4666 \nL 1259 531 \nL 3531 531 \nL 3531 0 \nL 628 0 \nL 628 4666 \nz\n\" transform=\"scale(0.015625)\"/>\n       </defs>\n       <use xlink:href=\"#DejaVuSans-4c\"/>\n       <use xlink:href=\"#DejaVuSans-6f\" x=\"53.962891\"/>\n       <use xlink:href=\"#DejaVuSans-75\" x=\"115.144531\"/>\n       <use xlink:href=\"#DejaVuSans-69\" x=\"178.523438\"/>\n       <use xlink:href=\"#DejaVuSans-73\" x=\"206.306641\"/>\n       <use xlink:href=\"#DejaVuSans-69\" x=\"258.40625\"/>\n       <use xlink:href=\"#DejaVuSans-61\" x=\"286.189453\"/>\n       <use xlink:href=\"#DejaVuSans-6e\" x=\"347.46875\"/>\n       <use xlink:href=\"#DejaVuSans-61\" x=\"410.847656\"/>\n      </g>\n     </g>\n    </g>\n    <g id=\"xtick_19\">\n     <g id=\"line2d_19\">\n      <path d=\"M 335.475096 838.8 \nL 335.475096 7.2 \n\" clip-path=\"url(#p9e88aa34a5)\" style=\"fill: none; stroke: #cccccc; stroke-linecap: round\"/>\n     </g>\n     <g id=\"text_19\">\n      <!-- Indiana -->\n      <g style=\"fill: #262626\" transform=\"translate(338.510409 889.008594) rotate(-90) scale(0.11 -0.11)\">\n       <defs>\n        <path id=\"DejaVuSans-49\" d=\"M 628 4666 \nL 1259 4666 \nL 1259 0 \nL 628 0 \nL 628 4666 \nz\n\" transform=\"scale(0.015625)\"/>\n       </defs>\n       <use xlink:href=\"#DejaVuSans-49\"/>\n       <use xlink:href=\"#DejaVuSans-6e\" x=\"29.492188\"/>\n       <use xlink:href=\"#DejaVuSans-64\" x=\"92.871094\"/>\n       <use xlink:href=\"#DejaVuSans-69\" x=\"156.347656\"/>\n       <use xlink:href=\"#DejaVuSans-61\" x=\"184.130859\"/>\n       <use xlink:href=\"#DejaVuSans-6e\" x=\"245.410156\"/>\n       <use xlink:href=\"#DejaVuSans-61\" x=\"308.789062\"/>\n      </g>\n     </g>\n    </g>\n    <g id=\"xtick_20\">\n     <g id=\"line2d_20\">\n      <path d=\"M 351.57125 838.8 \nL 351.57125 7.2 \n\" clip-path=\"url(#p9e88aa34a5)\" style=\"fill: none; stroke: #cccccc; stroke-linecap: round\"/>\n     </g>\n     <g id=\"text_20\">\n      <!-- Idaho -->\n      <g style=\"fill: #262626\" transform=\"translate(354.606562 878.971094) rotate(-90) scale(0.11 -0.11)\">\n       <use xlink:href=\"#DejaVuSans-49\"/>\n       <use xlink:href=\"#DejaVuSans-64\" x=\"29.492188\"/>\n       <use xlink:href=\"#DejaVuSans-61\" x=\"92.96875\"/>\n       <use xlink:href=\"#DejaVuSans-68\" x=\"154.248047\"/>\n       <use xlink:href=\"#DejaVuSans-6f\" x=\"217.626953\"/>\n      </g>\n     </g>\n    </g>\n    <g id=\"xtick_21\">\n     <g id=\"line2d_21\">\n      <path d=\"M 367.667404 838.8 \nL 367.667404 7.2 \n\" clip-path=\"url(#p9e88aa34a5)\" style=\"fill: none; stroke: #cccccc; stroke-linecap: round\"/>\n     </g>\n     <g id=\"text_21\">\n      <!-- Connecticut -->\n      <g style=\"fill: #262626\" transform=\"translate(370.702716 914.171094) rotate(-90) scale(0.11 -0.11)\">\n       <use xlink:href=\"#DejaVuSans-43\"/>\n       <use xlink:href=\"#DejaVuSans-6f\" x=\"69.824219\"/>\n       <use xlink:href=\"#DejaVuSans-6e\" x=\"131.005859\"/>\n       <use xlink:href=\"#DejaVuSans-6e\" x=\"194.384766\"/>\n       <use xlink:href=\"#DejaVuSans-65\" x=\"257.763672\"/>\n       <use xlink:href=\"#DejaVuSans-63\" x=\"319.287109\"/>\n       <use xlink:href=\"#DejaVuSans-74\" x=\"374.267578\"/>\n       <use xlink:href=\"#DejaVuSans-69\" x=\"413.476562\"/>\n       <use xlink:href=\"#DejaVuSans-63\" x=\"441.259766\"/>\n       <use xlink:href=\"#DejaVuSans-75\" x=\"496.240234\"/>\n       <use xlink:href=\"#DejaVuSans-74\" x=\"559.619141\"/>\n      </g>\n     </g>\n    </g>\n    <g id=\"xtick_22\">\n     <g id=\"line2d_22\">\n      <path d=\"M 383.763558 838.8 \nL 383.763558 7.2 \n\" clip-path=\"url(#p9e88aa34a5)\" style=\"fill: none; stroke: #cccccc; stroke-linecap: round\"/>\n     </g>\n     <g id=\"text_22\">\n      <!-- Hawaii -->\n      <g style=\"fill: #262626\" transform=\"translate(386.79887 885.162031) rotate(-90) scale(0.11 -0.11)\">\n       <use xlink:href=\"#DejaVuSans-48\"/>\n       <use xlink:href=\"#DejaVuSans-61\" x=\"75.195312\"/>\n       <use xlink:href=\"#DejaVuSans-77\" x=\"136.474609\"/>\n       <use xlink:href=\"#DejaVuSans-61\" x=\"218.261719\"/>\n       <use xlink:href=\"#DejaVuSans-69\" x=\"279.541016\"/>\n       <use xlink:href=\"#DejaVuSans-69\" x=\"307.324219\"/>\n      </g>\n     </g>\n    </g>\n    <g id=\"xtick_23\">\n     <g id=\"line2d_23\">\n      <path d=\"M 399.859712 838.8 \nL 399.859712 7.2 \n\" clip-path=\"url(#p9e88aa34a5)\" style=\"fill: none; stroke: #cccccc; stroke-linecap: round\"/>\n     </g>\n     <g id=\"text_23\">\n      <!-- Illinois -->\n      <g style=\"fill: #262626\" transform=\"translate(402.895024 883.200938) rotate(-90) scale(0.11 -0.11)\">\n       <use xlink:href=\"#DejaVuSans-49\"/>\n       <use xlink:href=\"#DejaVuSans-6c\" x=\"29.492188\"/>\n       <use xlink:href=\"#DejaVuSans-6c\" x=\"57.275391\"/>\n       <use xlink:href=\"#DejaVuSans-69\" x=\"85.058594\"/>\n       <use xlink:href=\"#DejaVuSans-6e\" x=\"112.841797\"/>\n       <use xlink:href=\"#DejaVuSans-6f\" x=\"176.220703\"/>\n       <use xlink:href=\"#DejaVuSans-69\" x=\"237.402344\"/>\n       <use xlink:href=\"#DejaVuSans-73\" x=\"265.185547\"/>\n      </g>\n     </g>\n    </g>\n    <g id=\"xtick_24\">\n     <g id=\"line2d_24\">\n      <path d=\"M 415.955865 838.8 \nL 415.955865 7.2 \n\" clip-path=\"url(#p9e88aa34a5)\" style=\"fill: none; stroke: #cccccc; stroke-linecap: round\"/>\n     </g>\n     <g id=\"text_24\">\n      <!-- Massachusetts -->\n      <g style=\"fill: #262626\" transform=\"translate(418.991178 929.577969) rotate(-90) scale(0.11 -0.11)\">\n       <use xlink:href=\"#DejaVuSans-4d\"/>\n       <use xlink:href=\"#DejaVuSans-61\" x=\"86.279297\"/>\n       <use xlink:href=\"#DejaVuSans-73\" x=\"147.558594\"/>\n       <use xlink:href=\"#DejaVuSans-73\" x=\"199.658203\"/>\n       <use xlink:href=\"#DejaVuSans-61\" x=\"251.757812\"/>\n       <use xlink:href=\"#DejaVuSans-63\" x=\"313.037109\"/>\n       <use xlink:href=\"#DejaVuSans-68\" x=\"368.017578\"/>\n       <use xlink:href=\"#DejaVuSans-75\" x=\"431.396484\"/>\n       <use xlink:href=\"#DejaVuSans-73\" x=\"494.775391\"/>\n       <use xlink:href=\"#DejaVuSans-65\" x=\"546.875\"/>\n       <use xlink:href=\"#DejaVuSans-74\" x=\"608.398438\"/>\n       <use xlink:href=\"#DejaVuSans-74\" x=\"647.607422\"/>\n       <use xlink:href=\"#DejaVuSans-73\" x=\"686.816406\"/>\n      </g>\n     </g>\n    </g>\n    <g id=\"xtick_25\">\n     <g id=\"line2d_25\">\n      <path d=\"M 432.052019 838.8 \nL 432.052019 7.2 \n\" clip-path=\"url(#p9e88aa34a5)\" style=\"fill: none; stroke: #cccccc; stroke-linecap: round\"/>\n     </g>\n     <g id=\"text_25\">\n      <!-- Texas -->\n      <g style=\"fill: #262626\" transform=\"translate(435.087332 878.706406) rotate(-90) scale(0.11 -0.11)\">\n       <defs>\n        <path id=\"DejaVuSans-54\" d=\"M -19 4666 \nL 3928 4666 \nL 3928 4134 \nL 2272 4134 \nL 2272 0 \nL 1638 0 \nL 1638 4134 \nL -19 4134 \nL -19 4666 \nz\n\" transform=\"scale(0.015625)\"/>\n        <path id=\"DejaVuSans-78\" d=\"M 3513 3500 \nL 2247 1797 \nL 3578 0 \nL 2900 0 \nL 1881 1375 \nL 863 0 \nL 184 0 \nL 1544 1831 \nL 300 3500 \nL 978 3500 \nL 1906 2253 \nL 2834 3500 \nL 3513 3500 \nz\n\" transform=\"scale(0.015625)\"/>\n       </defs>\n       <use xlink:href=\"#DejaVuSans-54\"/>\n       <use xlink:href=\"#DejaVuSans-65\" x=\"44.083984\"/>\n       <use xlink:href=\"#DejaVuSans-78\" x=\"103.857422\"/>\n       <use xlink:href=\"#DejaVuSans-61\" x=\"163.037109\"/>\n       <use xlink:href=\"#DejaVuSans-73\" x=\"224.316406\"/>\n      </g>\n     </g>\n    </g>\n    <g id=\"xtick_26\">\n     <g id=\"line2d_26\">\n      <path d=\"M 448.148173 838.8 \nL 448.148173 7.2 \n\" clip-path=\"url(#p9e88aa34a5)\" style=\"fill: none; stroke: #cccccc; stroke-linecap: round\"/>\n     </g>\n     <g id=\"text_26\">\n      <!-- Montana -->\n      <g style=\"fill: #262626\" transform=\"translate(451.183486 896.258281) rotate(-90) scale(0.11 -0.11)\">\n       <use xlink:href=\"#DejaVuSans-4d\"/>\n       <use xlink:href=\"#DejaVuSans-6f\" x=\"86.279297\"/>\n       <use xlink:href=\"#DejaVuSans-6e\" x=\"147.460938\"/>\n       <use xlink:href=\"#DejaVuSans-74\" x=\"210.839844\"/>\n       <use xlink:href=\"#DejaVuSans-61\" x=\"250.048828\"/>\n       <use xlink:href=\"#DejaVuSans-6e\" x=\"311.328125\"/>\n       <use xlink:href=\"#DejaVuSans-61\" x=\"374.707031\"/>\n      </g>\n     </g>\n    </g>\n    <g id=\"xtick_27\">\n     <g id=\"line2d_27\">\n      <path d=\"M 464.244327 838.8 \nL 464.244327 7.2 \n\" clip-path=\"url(#p9e88aa34a5)\" style=\"fill: none; stroke: #cccccc; stroke-linecap: round\"/>\n     </g>\n     <g id=\"text_27\">\n      <!-- Nebraska -->\n      <g style=\"fill: #262626\" transform=\"translate(467.279639 900.1925) rotate(-90) scale(0.11 -0.11)\">\n       <use xlink:href=\"#DejaVuSans-4e\"/>\n       <use xlink:href=\"#DejaVuSans-65\" x=\"74.804688\"/>\n       <use xlink:href=\"#DejaVuSans-62\" x=\"136.328125\"/>\n       <use xlink:href=\"#DejaVuSans-72\" x=\"199.804688\"/>\n       <use xlink:href=\"#DejaVuSans-61\" x=\"240.917969\"/>\n       <use xlink:href=\"#DejaVuSans-73\" x=\"302.197266\"/>\n       <use xlink:href=\"#DejaVuSans-6b\" x=\"354.296875\"/>\n       <use xlink:href=\"#DejaVuSans-61\" x=\"410.457031\"/>\n      </g>\n     </g>\n    </g>\n    <g id=\"xtick_28\">\n     <g id=\"line2d_28\">\n      <path d=\"M 480.340481 838.8 \nL 480.340481 7.2 \n\" clip-path=\"url(#p9e88aa34a5)\" style=\"fill: none; stroke: #cccccc; stroke-linecap: round\"/>\n     </g>\n     <g id=\"text_28\">\n      <!-- Ohio -->\n      <g style=\"fill: #262626\" transform=\"translate(483.375793 873.716875) rotate(-90) scale(0.11 -0.11)\">\n       <use xlink:href=\"#DejaVuSans-4f\"/>\n       <use xlink:href=\"#DejaVuSans-68\" x=\"78.710938\"/>\n       <use xlink:href=\"#DejaVuSans-69\" x=\"142.089844\"/>\n       <use xlink:href=\"#DejaVuSans-6f\" x=\"169.873047\"/>\n      </g>\n     </g>\n    </g>\n    <g id=\"xtick_29\">\n     <g id=\"line2d_29\">\n      <path d=\"M 496.436635 838.8 \nL 496.436635 7.2 \n\" clip-path=\"url(#p9e88aa34a5)\" style=\"fill: none; stroke: #cccccc; stroke-linecap: round\"/>\n     </g>\n     <g id=\"text_29\">\n      <!-- Colorado -->\n      <g style=\"fill: #262626\" transform=\"translate(499.471947 897.475156) rotate(-90) scale(0.11 -0.11)\">\n       <use xlink:href=\"#DejaVuSans-43\"/>\n       <use xlink:href=\"#DejaVuSans-6f\" x=\"69.824219\"/>\n       <use xlink:href=\"#DejaVuSans-6c\" x=\"131.005859\"/>\n       <use xlink:href=\"#DejaVuSans-6f\" x=\"158.789062\"/>\n       <use xlink:href=\"#DejaVuSans-72\" x=\"219.970703\"/>\n       <use xlink:href=\"#DejaVuSans-61\" x=\"261.083984\"/>\n       <use xlink:href=\"#DejaVuSans-64\" x=\"322.363281\"/>\n       <use xlink:href=\"#DejaVuSans-6f\" x=\"385.839844\"/>\n      </g>\n     </g>\n    </g>\n    <g id=\"xtick_30\">\n     <g id=\"line2d_30\">\n      <path d=\"M 512.532788 838.8 \nL 512.532788 7.2 \n\" clip-path=\"url(#p9e88aa34a5)\" style=\"fill: none; stroke: #cccccc; stroke-linecap: round\"/>\n     </g>\n     <g id=\"text_30\">\n      <!-- New Jersey -->\n      <g style=\"fill: #262626\" transform=\"translate(515.568101 909.334531) rotate(-90) scale(0.11 -0.11)\">\n       <defs>\n        <path id=\"DejaVuSans-4a\" d=\"M 628 4666 \nL 1259 4666 \nL 1259 325 \nQ 1259 -519 939 -900 \nQ 619 -1281 -91 -1281 \nL -331 -1281 \nL -331 -750 \nL -134 -750 \nQ 284 -750 456 -515 \nQ 628 -281 628 325 \nL 628 4666 \nz\n\" transform=\"scale(0.015625)\"/>\n       </defs>\n       <use xlink:href=\"#DejaVuSans-4e\"/>\n       <use xlink:href=\"#DejaVuSans-65\" x=\"74.804688\"/>\n       <use xlink:href=\"#DejaVuSans-77\" x=\"136.328125\"/>\n       <use xlink:href=\"#DejaVuSans-20\" x=\"218.115234\"/>\n       <use xlink:href=\"#DejaVuSans-4a\" x=\"249.902344\"/>\n       <use xlink:href=\"#DejaVuSans-65\" x=\"279.394531\"/>\n       <use xlink:href=\"#DejaVuSans-72\" x=\"340.917969\"/>\n       <use xlink:href=\"#DejaVuSans-73\" x=\"382.03125\"/>\n       <use xlink:href=\"#DejaVuSans-65\" x=\"434.130859\"/>\n       <use xlink:href=\"#DejaVuSans-79\" x=\"495.654297\"/>\n      </g>\n     </g>\n    </g>\n    <g id=\"xtick_31\">\n     <g id=\"line2d_31\">\n      <path d=\"M 528.628942 838.8 \nL 528.628942 7.2 \n\" clip-path=\"url(#p9e88aa34a5)\" style=\"fill: none; stroke: #cccccc; stroke-linecap: round\"/>\n     </g>\n     <g id=\"text_31\">\n      <!-- Maryland -->\n      <g style=\"fill: #262626\" transform=\"translate(531.664255 899.315938) rotate(-90) scale(0.11 -0.11)\">\n       <use xlink:href=\"#DejaVuSans-4d\"/>\n       <use xlink:href=\"#DejaVuSans-61\" x=\"86.279297\"/>\n       <use xlink:href=\"#DejaVuSans-72\" x=\"147.558594\"/>\n       <use xlink:href=\"#DejaVuSans-79\" x=\"188.671875\"/>\n       <use xlink:href=\"#DejaVuSans-6c\" x=\"247.851562\"/>\n       <use xlink:href=\"#DejaVuSans-61\" x=\"275.634766\"/>\n       <use xlink:href=\"#DejaVuSans-6e\" x=\"336.914062\"/>\n       <use xlink:href=\"#DejaVuSans-64\" x=\"400.292969\"/>\n      </g>\n     </g>\n    </g>\n    <g id=\"xtick_32\">\n     <g id=\"line2d_32\">\n      <path d=\"M 544.725096 838.8 \nL 544.725096 7.2 \n\" clip-path=\"url(#p9e88aa34a5)\" style=\"fill: none; stroke: #cccccc; stroke-linecap: round\"/>\n     </g>\n     <g id=\"text_32\">\n      <!-- Virginia -->\n      <g style=\"fill: #262626\" transform=\"translate(547.760409 889.77) rotate(-90) scale(0.11 -0.11)\">\n       <use xlink:href=\"#DejaVuSans-56\"/>\n       <use xlink:href=\"#DejaVuSans-69\" x=\"66.158203\"/>\n       <use xlink:href=\"#DejaVuSans-72\" x=\"93.941406\"/>\n       <use xlink:href=\"#DejaVuSans-67\" x=\"133.304688\"/>\n       <use xlink:href=\"#DejaVuSans-69\" x=\"196.78125\"/>\n       <use xlink:href=\"#DejaVuSans-6e\" x=\"224.564453\"/>\n       <use xlink:href=\"#DejaVuSans-69\" x=\"287.943359\"/>\n       <use xlink:href=\"#DejaVuSans-61\" x=\"315.726562\"/>\n      </g>\n     </g>\n    </g>\n    <g id=\"xtick_33\">\n     <g id=\"line2d_33\">\n      <path d=\"M 560.82125 838.8 \nL 560.82125 7.2 \n\" clip-path=\"url(#p9e88aa34a5)\" style=\"fill: none; stroke: #cccccc; stroke-linecap: round\"/>\n     </g>\n     <g id=\"text_33\">\n      <!-- Vermont -->\n      <g style=\"fill: #262626\" transform=\"translate(563.856563 894.799062) rotate(-90) scale(0.11 -0.11)\">\n       <use xlink:href=\"#DejaVuSans-56\"/>\n       <use xlink:href=\"#DejaVuSans-65\" x=\"60.658203\"/>\n       <use xlink:href=\"#DejaVuSans-72\" x=\"122.181641\"/>\n       <use xlink:href=\"#DejaVuSans-6d\" x=\"161.544922\"/>\n       <use xlink:href=\"#DejaVuSans-6f\" x=\"258.957031\"/>\n       <use xlink:href=\"#DejaVuSans-6e\" x=\"320.138672\"/>\n       <use xlink:href=\"#DejaVuSans-74\" x=\"383.517578\"/>\n      </g>\n     </g>\n    </g>\n    <g id=\"xtick_34\">\n     <g id=\"line2d_34\">\n      <path d=\"M 576.917404 838.8 \nL 576.917404 7.2 \n\" clip-path=\"url(#p9e88aa34a5)\" style=\"fill: none; stroke: #cccccc; stroke-linecap: round\"/>\n     </g>\n     <g id=\"text_34\">\n      <!-- North Carolina -->\n      <g style=\"fill: #262626\" transform=\"translate(579.952716 927.812813) rotate(-90) scale(0.11 -0.11)\">\n       <use xlink:href=\"#DejaVuSans-4e\"/>\n       <use xlink:href=\"#DejaVuSans-6f\" x=\"74.804688\"/>\n       <use xlink:href=\"#DejaVuSans-72\" x=\"135.986328\"/>\n       <use xlink:href=\"#DejaVuSans-74\" x=\"177.099609\"/>\n       <use xlink:href=\"#DejaVuSans-68\" x=\"216.308594\"/>\n       <use xlink:href=\"#DejaVuSans-20\" x=\"279.6875\"/>\n       <use xlink:href=\"#DejaVuSans-43\" x=\"311.474609\"/>\n       <use xlink:href=\"#DejaVuSans-61\" x=\"381.298828\"/>\n       <use xlink:href=\"#DejaVuSans-72\" x=\"442.578125\"/>\n       <use xlink:href=\"#DejaVuSans-6f\" x=\"481.441406\"/>\n       <use xlink:href=\"#DejaVuSans-6c\" x=\"542.623047\"/>\n       <use xlink:href=\"#DejaVuSans-69\" x=\"570.40625\"/>\n       <use xlink:href=\"#DejaVuSans-6e\" x=\"598.189453\"/>\n       <use xlink:href=\"#DejaVuSans-61\" x=\"661.568359\"/>\n      </g>\n     </g>\n    </g>\n    <g id=\"xtick_35\">\n     <g id=\"line2d_35\">\n      <path d=\"M 593.013558 838.8 \nL 593.013558 7.2 \n\" clip-path=\"url(#p9e88aa34a5)\" style=\"fill: none; stroke: #cccccc; stroke-linecap: round\"/>\n     </g>\n     <g id=\"text_35\">\n      <!-- Arkansas -->\n      <g style=\"fill: #262626\" transform=\"translate(596.04887 898.437656) rotate(-90) scale(0.11 -0.11)\">\n       <use xlink:href=\"#DejaVuSans-41\"/>\n       <use xlink:href=\"#DejaVuSans-72\" x=\"68.408203\"/>\n       <use xlink:href=\"#DejaVuSans-6b\" x=\"109.521484\"/>\n       <use xlink:href=\"#DejaVuSans-61\" x=\"165.681641\"/>\n       <use xlink:href=\"#DejaVuSans-6e\" x=\"226.960938\"/>\n       <use xlink:href=\"#DejaVuSans-73\" x=\"290.339844\"/>\n       <use xlink:href=\"#DejaVuSans-61\" x=\"342.439453\"/>\n       <use xlink:href=\"#DejaVuSans-73\" x=\"403.71875\"/>\n      </g>\n     </g>\n    </g>\n    <g id=\"xtick_36\">\n     <g id=\"line2d_36\">\n      <path d=\"M 609.109712 838.8 \nL 609.109712 7.2 \n\" clip-path=\"url(#p9e88aa34a5)\" style=\"fill: none; stroke: #cccccc; stroke-linecap: round\"/>\n     </g>\n     <g id=\"text_36\">\n      <!-- Washington -->\n      <g style=\"fill: #262626\" transform=\"translate(612.145024 912.942188) rotate(-90) scale(0.11 -0.11)\">\n       <use xlink:href=\"#DejaVuSans-57\"/>\n       <use xlink:href=\"#DejaVuSans-61\" x=\"92.501953\"/>\n       <use xlink:href=\"#DejaVuSans-73\" x=\"153.78125\"/>\n       <use xlink:href=\"#DejaVuSans-68\" x=\"205.880859\"/>\n       <use xlink:href=\"#DejaVuSans-69\" x=\"269.259766\"/>\n       <use xlink:href=\"#DejaVuSans-6e\" x=\"297.042969\"/>\n       <use xlink:href=\"#DejaVuSans-67\" x=\"360.421875\"/>\n       <use xlink:href=\"#DejaVuSans-74\" x=\"423.898438\"/>\n       <use xlink:href=\"#DejaVuSans-6f\" x=\"463.107422\"/>\n       <use xlink:href=\"#DejaVuSans-6e\" x=\"524.289062\"/>\n      </g>\n     </g>\n    </g>\n    <g id=\"xtick_37\">\n     <g id=\"line2d_37\">\n      <path d=\"M 625.205865 838.8 \nL 625.205865 7.2 \n\" clip-path=\"url(#p9e88aa34a5)\" style=\"fill: none; stroke: #cccccc; stroke-linecap: round\"/>\n     </g>\n     <g id=\"text_37\">\n      <!-- Kansas -->\n      <g style=\"fill: #262626\" transform=\"translate(628.241178 887.234844) rotate(-90) scale(0.11 -0.11)\">\n       <defs>\n        <path id=\"DejaVuSans-4b\" d=\"M 628 4666 \nL 1259 4666 \nL 1259 2694 \nL 3353 4666 \nL 4166 4666 \nL 1850 2491 \nL 4331 0 \nL 3500 0 \nL 1259 2247 \nL 1259 0 \nL 628 0 \nL 628 4666 \nz\n\" transform=\"scale(0.015625)\"/>\n       </defs>\n       <use xlink:href=\"#DejaVuSans-4b\"/>\n       <use xlink:href=\"#DejaVuSans-61\" x=\"63.826172\"/>\n       <use xlink:href=\"#DejaVuSans-6e\" x=\"125.105469\"/>\n       <use xlink:href=\"#DejaVuSans-73\" x=\"188.484375\"/>\n       <use xlink:href=\"#DejaVuSans-61\" x=\"240.583984\"/>\n       <use xlink:href=\"#DejaVuSans-73\" x=\"301.863281\"/>\n      </g>\n     </g>\n    </g>\n    <g id=\"xtick_38\">\n     <g id=\"line2d_38\">\n      <path d=\"M 641.302019 838.8 \nL 641.302019 7.2 \n\" clip-path=\"url(#p9e88aa34a5)\" style=\"fill: none; stroke: #cccccc; stroke-linecap: round\"/>\n     </g>\n     <g id=\"text_38\">\n      <!-- Oklahoma -->\n      <g style=\"fill: #262626\" transform=\"translate(644.337332 904.283125) rotate(-90) scale(0.11 -0.11)\">\n       <use xlink:href=\"#DejaVuSans-4f\"/>\n       <use xlink:href=\"#DejaVuSans-6b\" x=\"78.710938\"/>\n       <use xlink:href=\"#DejaVuSans-6c\" x=\"136.621094\"/>\n       <use xlink:href=\"#DejaVuSans-61\" x=\"164.404297\"/>\n       <use xlink:href=\"#DejaVuSans-68\" x=\"225.683594\"/>\n       <use xlink:href=\"#DejaVuSans-6f\" x=\"289.0625\"/>\n       <use xlink:href=\"#DejaVuSans-6d\" x=\"350.244141\"/>\n       <use xlink:href=\"#DejaVuSans-61\" x=\"447.65625\"/>\n      </g>\n     </g>\n    </g>\n    <g id=\"xtick_39\">\n     <g id=\"line2d_39\">\n      <path d=\"M 657.398173 838.8 \nL 657.398173 7.2 \n\" clip-path=\"url(#p9e88aa34a5)\" style=\"fill: none; stroke: #cccccc; stroke-linecap: round\"/>\n     </g>\n     <g id=\"text_39\">\n      <!-- Wisconsin -->\n      <g style=\"fill: #262626\" transform=\"translate(660.433486 903.222656) rotate(-90) scale(0.11 -0.11)\">\n       <use xlink:href=\"#DejaVuSans-57\"/>\n       <use xlink:href=\"#DejaVuSans-69\" x=\"96.626953\"/>\n       <use xlink:href=\"#DejaVuSans-73\" x=\"124.410156\"/>\n       <use xlink:href=\"#DejaVuSans-63\" x=\"176.509766\"/>\n       <use xlink:href=\"#DejaVuSans-6f\" x=\"231.490234\"/>\n       <use xlink:href=\"#DejaVuSans-6e\" x=\"292.671875\"/>\n       <use xlink:href=\"#DejaVuSans-73\" x=\"356.050781\"/>\n       <use xlink:href=\"#DejaVuSans-69\" x=\"408.150391\"/>\n       <use xlink:href=\"#DejaVuSans-6e\" x=\"435.933594\"/>\n      </g>\n     </g>\n    </g>\n    <g id=\"xtick_40\">\n     <g id=\"line2d_40\">\n      <path d=\"M 673.494327 838.8 \nL 673.494327 7.2 \n\" clip-path=\"url(#p9e88aa34a5)\" style=\"fill: none; stroke: #cccccc; stroke-linecap: round\"/>\n     </g>\n     <g id=\"text_40\">\n      <!-- Mississippi -->\n      <g style=\"fill: #262626\" transform=\"translate(676.529639 906.9025) rotate(-90) scale(0.11 -0.11)\">\n       <use xlink:href=\"#DejaVuSans-4d\"/>\n       <use xlink:href=\"#DejaVuSans-69\" x=\"86.279297\"/>\n       <use xlink:href=\"#DejaVuSans-73\" x=\"114.0625\"/>\n       <use xlink:href=\"#DejaVuSans-73\" x=\"166.162109\"/>\n       <use xlink:href=\"#DejaVuSans-69\" x=\"218.261719\"/>\n       <use xlink:href=\"#DejaVuSans-73\" x=\"246.044922\"/>\n       <use xlink:href=\"#DejaVuSans-73\" x=\"298.144531\"/>\n       <use xlink:href=\"#DejaVuSans-69\" x=\"350.244141\"/>\n       <use xlink:href=\"#DejaVuSans-70\" x=\"378.027344\"/>\n       <use xlink:href=\"#DejaVuSans-70\" x=\"441.503906\"/>\n       <use xlink:href=\"#DejaVuSans-69\" x=\"504.980469\"/>\n      </g>\n     </g>\n    </g>\n    <g id=\"xtick_41\">\n     <g id=\"line2d_41\">\n      <path d=\"M 689.590481 838.8 \nL 689.590481 7.2 \n\" clip-path=\"url(#p9e88aa34a5)\" style=\"fill: none; stroke: #cccccc; stroke-linecap: round\"/>\n     </g>\n     <g id=\"text_41\">\n      <!-- Missouri -->\n      <g style=\"fill: #262626\" transform=\"translate(692.625793 893.587344) rotate(-90) scale(0.11 -0.11)\">\n       <use xlink:href=\"#DejaVuSans-4d\"/>\n       <use xlink:href=\"#DejaVuSans-69\" x=\"86.279297\"/>\n       <use xlink:href=\"#DejaVuSans-73\" x=\"114.0625\"/>\n       <use xlink:href=\"#DejaVuSans-73\" x=\"166.162109\"/>\n       <use xlink:href=\"#DejaVuSans-6f\" x=\"218.261719\"/>\n       <use xlink:href=\"#DejaVuSans-75\" x=\"279.443359\"/>\n       <use xlink:href=\"#DejaVuSans-72\" x=\"342.822266\"/>\n       <use xlink:href=\"#DejaVuSans-69\" x=\"383.935547\"/>\n      </g>\n     </g>\n    </g>\n    <g id=\"xtick_42\">\n     <g id=\"line2d_42\">\n      <path d=\"M 705.686635 838.8 \nL 705.686635 7.2 \n\" clip-path=\"url(#p9e88aa34a5)\" style=\"fill: none; stroke: #cccccc; stroke-linecap: round\"/>\n     </g>\n     <g id=\"text_42\">\n      <!-- Michigan -->\n      <g style=\"fill: #262626\" transform=\"translate(708.721947 897.617813) rotate(-90) scale(0.11 -0.11)\">\n       <use xlink:href=\"#DejaVuSans-4d\"/>\n       <use xlink:href=\"#DejaVuSans-69\" x=\"86.279297\"/>\n       <use xlink:href=\"#DejaVuSans-63\" x=\"114.0625\"/>\n       <use xlink:href=\"#DejaVuSans-68\" x=\"169.042969\"/>\n       <use xlink:href=\"#DejaVuSans-69\" x=\"232.421875\"/>\n       <use xlink:href=\"#DejaVuSans-67\" x=\"260.205078\"/>\n       <use xlink:href=\"#DejaVuSans-61\" x=\"323.681641\"/>\n       <use xlink:href=\"#DejaVuSans-6e\" x=\"384.960938\"/>\n      </g>\n     </g>\n    </g>\n    <g id=\"xtick_43\">\n     <g id=\"line2d_43\">\n      <path d=\"M 721.782788 838.8 \nL 721.782788 7.2 \n\" clip-path=\"url(#p9e88aa34a5)\" style=\"fill: none; stroke: #cccccc; stroke-linecap: round\"/>\n     </g>\n     <g id=\"text_43\">\n      <!-- Rhode Island -->\n      <g style=\"fill: #262626\" transform=\"translate(724.818101 919.619531) rotate(-90) scale(0.11 -0.11)\">\n       <defs>\n        <path id=\"DejaVuSans-52\" d=\"M 2841 2188 \nQ 3044 2119 3236 1894 \nQ 3428 1669 3622 1275 \nL 4263 0 \nL 3584 0 \nL 2988 1197 \nQ 2756 1666 2539 1819 \nQ 2322 1972 1947 1972 \nL 1259 1972 \nL 1259 0 \nL 628 0 \nL 628 4666 \nL 2053 4666 \nQ 2853 4666 3247 4331 \nQ 3641 3997 3641 3322 \nQ 3641 2881 3436 2590 \nQ 3231 2300 2841 2188 \nz\nM 1259 4147 \nL 1259 2491 \nL 2053 2491 \nQ 2509 2491 2742 2702 \nQ 2975 2913 2975 3322 \nQ 2975 3731 2742 3939 \nQ 2509 4147 2053 4147 \nL 1259 4147 \nz\n\" transform=\"scale(0.015625)\"/>\n       </defs>\n       <use xlink:href=\"#DejaVuSans-52\"/>\n       <use xlink:href=\"#DejaVuSans-68\" x=\"69.482422\"/>\n       <use xlink:href=\"#DejaVuSans-6f\" x=\"132.861328\"/>\n       <use xlink:href=\"#DejaVuSans-64\" x=\"194.042969\"/>\n       <use xlink:href=\"#DejaVuSans-65\" x=\"257.519531\"/>\n       <use xlink:href=\"#DejaVuSans-20\" x=\"319.042969\"/>\n       <use xlink:href=\"#DejaVuSans-49\" x=\"350.830078\"/>\n       <use xlink:href=\"#DejaVuSans-73\" x=\"380.322266\"/>\n       <use xlink:href=\"#DejaVuSans-6c\" x=\"432.421875\"/>\n       <use xlink:href=\"#DejaVuSans-61\" x=\"460.205078\"/>\n       <use xlink:href=\"#DejaVuSans-6e\" x=\"521.484375\"/>\n       <use xlink:href=\"#DejaVuSans-64\" x=\"584.863281\"/>\n      </g>\n     </g>\n    </g>\n    <g id=\"xtick_44\">\n     <g id=\"line2d_44\">\n      <path d=\"M 737.878942 838.8 \nL 737.878942 7.2 \n\" clip-path=\"url(#p9e88aa34a5)\" style=\"fill: none; stroke: #cccccc; stroke-linecap: round\"/>\n     </g>\n     <g id=\"text_44\">\n      <!-- Minnesota -->\n      <g style=\"fill: #262626\" transform=\"translate(740.914255 905.072031) rotate(-90) scale(0.11 -0.11)\">\n       <use xlink:href=\"#DejaVuSans-4d\"/>\n       <use xlink:href=\"#DejaVuSans-69\" x=\"86.279297\"/>\n       <use xlink:href=\"#DejaVuSans-6e\" x=\"114.0625\"/>\n       <use xlink:href=\"#DejaVuSans-6e\" x=\"177.441406\"/>\n       <use xlink:href=\"#DejaVuSans-65\" x=\"240.820312\"/>\n       <use xlink:href=\"#DejaVuSans-73\" x=\"302.34375\"/>\n       <use xlink:href=\"#DejaVuSans-6f\" x=\"354.443359\"/>\n       <use xlink:href=\"#DejaVuSans-74\" x=\"415.625\"/>\n       <use xlink:href=\"#DejaVuSans-61\" x=\"454.833984\"/>\n      </g>\n     </g>\n    </g>\n    <g id=\"xtick_45\">\n     <g id=\"line2d_45\">\n      <path d=\"M 753.975096 838.8 \nL 753.975096 7.2 \n\" clip-path=\"url(#p9e88aa34a5)\" style=\"fill: none; stroke: #cccccc; stroke-linecap: round\"/>\n     </g>\n     <g id=\"text_45\">\n      <!-- Iowa -->\n      <g style=\"fill: #262626\" transform=\"translate(757.010409 874.0125) rotate(-90) scale(0.11 -0.11)\">\n       <use xlink:href=\"#DejaVuSans-49\"/>\n       <use xlink:href=\"#DejaVuSans-6f\" x=\"29.492188\"/>\n       <use xlink:href=\"#DejaVuSans-77\" x=\"90.673828\"/>\n       <use xlink:href=\"#DejaVuSans-61\" x=\"172.460938\"/>\n      </g>\n     </g>\n    </g>\n    <g id=\"xtick_46\">\n     <g id=\"line2d_46\">\n      <path d=\"M 770.07125 838.8 \nL 770.07125 7.2 \n\" clip-path=\"url(#p9e88aa34a5)\" style=\"fill: none; stroke: #cccccc; stroke-linecap: round\"/>\n     </g>\n     <g id=\"text_46\">\n      <!-- New Mexico -->\n      <g style=\"fill: #262626\" transform=\"translate(773.106563 914.202031) rotate(-90) scale(0.11 -0.11)\">\n       <use xlink:href=\"#DejaVuSans-4e\"/>\n       <use xlink:href=\"#DejaVuSans-65\" x=\"74.804688\"/>\n       <use xlink:href=\"#DejaVuSans-77\" x=\"136.328125\"/>\n       <use xlink:href=\"#DejaVuSans-20\" x=\"218.115234\"/>\n       <use xlink:href=\"#DejaVuSans-4d\" x=\"249.902344\"/>\n       <use xlink:href=\"#DejaVuSans-65\" x=\"336.181641\"/>\n       <use xlink:href=\"#DejaVuSans-78\" x=\"395.955078\"/>\n       <use xlink:href=\"#DejaVuSans-69\" x=\"455.134766\"/>\n       <use xlink:href=\"#DejaVuSans-63\" x=\"482.917969\"/>\n       <use xlink:href=\"#DejaVuSans-6f\" x=\"537.898438\"/>\n      </g>\n     </g>\n    </g>\n    <g id=\"xtick_47\">\n     <g id=\"line2d_47\">\n      <path d=\"M 786.167404 838.8 \nL 786.167404 7.2 \n\" clip-path=\"url(#p9e88aa34a5)\" style=\"fill: none; stroke: #cccccc; stroke-linecap: round\"/>\n     </g>\n     <g id=\"text_47\">\n      <!-- Nevada -->\n      <g style=\"fill: #262626\" transform=\"translate(789.202716 890.273594) rotate(-90) scale(0.11 -0.11)\">\n       <use xlink:href=\"#DejaVuSans-4e\"/>\n       <use xlink:href=\"#DejaVuSans-65\" x=\"74.804688\"/>\n       <use xlink:href=\"#DejaVuSans-76\" x=\"136.328125\"/>\n       <use xlink:href=\"#DejaVuSans-61\" x=\"195.507812\"/>\n       <use xlink:href=\"#DejaVuSans-64\" x=\"256.787109\"/>\n       <use xlink:href=\"#DejaVuSans-61\" x=\"320.263672\"/>\n      </g>\n     </g>\n    </g>\n    <g id=\"xtick_48\">\n     <g id=\"line2d_48\">\n      <path d=\"M 802.263558 838.8 \nL 802.263558 7.2 \n\" clip-path=\"url(#p9e88aa34a5)\" style=\"fill: none; stroke: #cccccc; stroke-linecap: round\"/>\n     </g>\n     <g id=\"text_48\">\n      <!-- Delaware -->\n      <g style=\"fill: #262626\" transform=\"translate(805.29887 900.115156) rotate(-90) scale(0.11 -0.11)\">\n       <use xlink:href=\"#DejaVuSans-44\"/>\n       <use xlink:href=\"#DejaVuSans-65\" x=\"77.001953\"/>\n       <use xlink:href=\"#DejaVuSans-6c\" x=\"138.525391\"/>\n       <use xlink:href=\"#DejaVuSans-61\" x=\"166.308594\"/>\n       <use xlink:href=\"#DejaVuSans-77\" x=\"227.587891\"/>\n       <use xlink:href=\"#DejaVuSans-61\" x=\"309.375\"/>\n       <use xlink:href=\"#DejaVuSans-72\" x=\"370.654297\"/>\n       <use xlink:href=\"#DejaVuSans-65\" x=\"409.517578\"/>\n      </g>\n     </g>\n    </g>\n    <g id=\"xtick_49\">\n     <g id=\"line2d_49\">\n      <path d=\"M 818.359712 838.8 \nL 818.359712 7.2 \n\" clip-path=\"url(#p9e88aa34a5)\" style=\"fill: none; stroke: #cccccc; stroke-linecap: round\"/>\n     </g>\n     <g id=\"text_49\">\n      <!-- Puerto Rico -->\n      <g style=\"fill: #262626\" transform=\"translate(821.395024 911.018906) rotate(-90) scale(0.11 -0.11)\">\n       <use xlink:href=\"#DejaVuSans-50\"/>\n       <use xlink:href=\"#DejaVuSans-75\" x=\"58.552734\"/>\n       <use xlink:href=\"#DejaVuSans-65\" x=\"121.931641\"/>\n       <use xlink:href=\"#DejaVuSans-72\" x=\"183.455078\"/>\n       <use xlink:href=\"#DejaVuSans-74\" x=\"224.568359\"/>\n       <use xlink:href=\"#DejaVuSans-6f\" x=\"263.777344\"/>\n       <use xlink:href=\"#DejaVuSans-20\" x=\"324.958984\"/>\n       <use xlink:href=\"#DejaVuSans-52\" x=\"356.746094\"/>\n       <use xlink:href=\"#DejaVuSans-69\" x=\"426.228516\"/>\n       <use xlink:href=\"#DejaVuSans-63\" x=\"454.011719\"/>\n       <use xlink:href=\"#DejaVuSans-6f\" x=\"508.992188\"/>\n      </g>\n     </g>\n    </g>\n    <g id=\"xtick_50\">\n     <g id=\"line2d_50\">\n      <path d=\"M 834.455865 838.8 \nL 834.455865 7.2 \n\" clip-path=\"url(#p9e88aa34a5)\" style=\"fill: none; stroke: #cccccc; stroke-linecap: round\"/>\n     </g>\n     <g id=\"text_50\">\n      <!-- Kentucky -->\n      <g style=\"fill: #262626\" transform=\"translate(837.491178 898.516719) rotate(-90) scale(0.11 -0.11)\">\n       <use xlink:href=\"#DejaVuSans-4b\"/>\n       <use xlink:href=\"#DejaVuSans-65\" x=\"60.576172\"/>\n       <use xlink:href=\"#DejaVuSans-6e\" x=\"122.099609\"/>\n       <use xlink:href=\"#DejaVuSans-74\" x=\"185.478516\"/>\n       <use xlink:href=\"#DejaVuSans-75\" x=\"224.6875\"/>\n       <use xlink:href=\"#DejaVuSans-63\" x=\"288.066406\"/>\n       <use xlink:href=\"#DejaVuSans-6b\" x=\"343.046875\"/>\n       <use xlink:href=\"#DejaVuSans-79\" x=\"397.332031\"/>\n      </g>\n     </g>\n    </g>\n    <g id=\"xtick_51\">\n     <g id=\"line2d_51\">\n      <path d=\"M 850.552019 838.8 \nL 850.552019 7.2 \n\" clip-path=\"url(#p9e88aa34a5)\" style=\"fill: none; stroke: #cccccc; stroke-linecap: round\"/>\n     </g>\n     <g id=\"text_51\">\n      <!-- South Dakota -->\n      <g style=\"fill: #262626\" transform=\"translate(853.587332 922.730469) rotate(-90) scale(0.11 -0.11)\">\n       <use xlink:href=\"#DejaVuSans-53\"/>\n       <use xlink:href=\"#DejaVuSans-6f\" x=\"63.476562\"/>\n       <use xlink:href=\"#DejaVuSans-75\" x=\"124.658203\"/>\n       <use xlink:href=\"#DejaVuSans-74\" x=\"188.037109\"/>\n       <use xlink:href=\"#DejaVuSans-68\" x=\"227.246094\"/>\n       <use xlink:href=\"#DejaVuSans-20\" x=\"290.625\"/>\n       <use xlink:href=\"#DejaVuSans-44\" x=\"322.412109\"/>\n       <use xlink:href=\"#DejaVuSans-61\" x=\"399.414062\"/>\n       <use xlink:href=\"#DejaVuSans-6b\" x=\"460.693359\"/>\n       <use xlink:href=\"#DejaVuSans-6f\" x=\"514.978516\"/>\n       <use xlink:href=\"#DejaVuSans-74\" x=\"576.160156\"/>\n       <use xlink:href=\"#DejaVuSans-61\" x=\"615.369141\"/>\n      </g>\n     </g>\n    </g>\n    <g id=\"xtick_52\">\n     <g id=\"line2d_52\">\n      <path d=\"M 866.648173 838.8 \nL 866.648173 7.2 \n\" clip-path=\"url(#p9e88aa34a5)\" style=\"fill: none; stroke: #cccccc; stroke-linecap: round\"/>\n     </g>\n     <g id=\"text_52\">\n      <!-- Tennessee -->\n      <g style=\"fill: #262626\" transform=\"translate(869.683486 905.625469) rotate(-90) scale(0.11 -0.11)\">\n       <use xlink:href=\"#DejaVuSans-54\"/>\n       <use xlink:href=\"#DejaVuSans-65\" x=\"44.083984\"/>\n       <use xlink:href=\"#DejaVuSans-6e\" x=\"105.607422\"/>\n       <use xlink:href=\"#DejaVuSans-6e\" x=\"168.986328\"/>\n       <use xlink:href=\"#DejaVuSans-65\" x=\"232.365234\"/>\n       <use xlink:href=\"#DejaVuSans-73\" x=\"293.888672\"/>\n       <use xlink:href=\"#DejaVuSans-73\" x=\"345.988281\"/>\n       <use xlink:href=\"#DejaVuSans-65\" x=\"398.087891\"/>\n       <use xlink:href=\"#DejaVuSans-65\" x=\"459.611328\"/>\n      </g>\n     </g>\n    </g>\n    <g id=\"text_53\">\n     <!-- State Name -->\n     <g style=\"fill: #262626\" transform=\"translate(420.705312 970.453906) scale(0.12 -0.12)\">\n      <use xlink:href=\"#DejaVuSans-53\"/>\n      <use xlink:href=\"#DejaVuSans-74\" x=\"63.476562\"/>\n      <use xlink:href=\"#DejaVuSans-61\" x=\"102.685547\"/>\n      <use xlink:href=\"#DejaVuSans-74\" x=\"163.964844\"/>\n      <use xlink:href=\"#DejaVuSans-65\" x=\"203.173828\"/>\n      <use xlink:href=\"#DejaVuSans-20\" x=\"264.697266\"/>\n      <use xlink:href=\"#DejaVuSans-4e\" x=\"296.484375\"/>\n      <use xlink:href=\"#DejaVuSans-61\" x=\"371.289062\"/>\n      <use xlink:href=\"#DejaVuSans-6d\" x=\"432.568359\"/>\n      <use xlink:href=\"#DejaVuSans-65\" x=\"529.980469\"/>\n     </g>\n    </g>\n   </g>\n   <g id=\"matplotlib.axis_2\">\n    <g id=\"ytick_1\">\n     <g id=\"line2d_53\">\n      <path d=\"M 37.69625 838.8 \nL 874.69625 838.8 \n\" clip-path=\"url(#p9e88aa34a5)\" style=\"fill: none; stroke: #cccccc; stroke-linecap: round\"/>\n     </g>\n     <g id=\"text_54\">\n      <!-- 0 -->\n      <g style=\"fill: #262626\" transform=\"translate(21.1975 842.979141) scale(0.11 -0.11)\">\n       <defs>\n        <path id=\"DejaVuSans-30\" d=\"M 2034 4250 \nQ 1547 4250 1301 3770 \nQ 1056 3291 1056 2328 \nQ 1056 1369 1301 889 \nQ 1547 409 2034 409 \nQ 2525 409 2770 889 \nQ 3016 1369 3016 2328 \nQ 3016 3291 2770 3770 \nQ 2525 4250 2034 4250 \nz\nM 2034 4750 \nQ 2819 4750 3233 4129 \nQ 3647 3509 3647 2328 \nQ 3647 1150 3233 529 \nQ 2819 -91 2034 -91 \nQ 1250 -91 836 529 \nQ 422 1150 422 2328 \nQ 422 3509 836 4129 \nQ 1250 4750 2034 4750 \nz\n\" transform=\"scale(0.015625)\"/>\n       </defs>\n       <use xlink:href=\"#DejaVuSans-30\"/>\n      </g>\n     </g>\n    </g>\n    <g id=\"ytick_2\">\n     <g id=\"line2d_54\">\n      <path d=\"M 37.69625 696.493544 \nL 874.69625 696.493544 \n\" clip-path=\"url(#p9e88aa34a5)\" style=\"fill: none; stroke: #cccccc; stroke-linecap: round\"/>\n     </g>\n     <g id=\"text_55\">\n      <!-- 20 -->\n      <g style=\"fill: #262626\" transform=\"translate(14.19875 700.672685) scale(0.11 -0.11)\">\n       <defs>\n        <path id=\"DejaVuSans-32\" d=\"M 1228 531 \nL 3431 531 \nL 3431 0 \nL 469 0 \nL 469 531 \nQ 828 903 1448 1529 \nQ 2069 2156 2228 2338 \nQ 2531 2678 2651 2914 \nQ 2772 3150 2772 3378 \nQ 2772 3750 2511 3984 \nQ 2250 4219 1831 4219 \nQ 1534 4219 1204 4116 \nQ 875 4013 500 3803 \nL 500 4441 \nQ 881 4594 1212 4672 \nQ 1544 4750 1819 4750 \nQ 2544 4750 2975 4387 \nQ 3406 4025 3406 3419 \nQ 3406 3131 3298 2873 \nQ 3191 2616 2906 2266 \nQ 2828 2175 2409 1742 \nQ 1991 1309 1228 531 \nz\n\" transform=\"scale(0.015625)\"/>\n       </defs>\n       <use xlink:href=\"#DejaVuSans-32\"/>\n       <use xlink:href=\"#DejaVuSans-30\" x=\"63.623047\"/>\n      </g>\n     </g>\n    </g>\n    <g id=\"ytick_3\">\n     <g id=\"line2d_55\">\n      <path d=\"M 37.69625 554.187088 \nL 874.69625 554.187088 \n\" clip-path=\"url(#p9e88aa34a5)\" style=\"fill: none; stroke: #cccccc; stroke-linecap: round\"/>\n     </g>\n     <g id=\"text_56\">\n      <!-- 40 -->\n      <g style=\"fill: #262626\" transform=\"translate(14.19875 558.366229) scale(0.11 -0.11)\">\n       <defs>\n        <path id=\"DejaVuSans-34\" d=\"M 2419 4116 \nL 825 1625 \nL 2419 1625 \nL 2419 4116 \nz\nM 2253 4666 \nL 3047 4666 \nL 3047 1625 \nL 3713 1625 \nL 3713 1100 \nL 3047 1100 \nL 3047 0 \nL 2419 0 \nL 2419 1100 \nL 313 1100 \nL 313 1709 \nL 2253 4666 \nz\n\" transform=\"scale(0.015625)\"/>\n       </defs>\n       <use xlink:href=\"#DejaVuSans-34\"/>\n       <use xlink:href=\"#DejaVuSans-30\" x=\"63.623047\"/>\n      </g>\n     </g>\n    </g>\n    <g id=\"ytick_4\">\n     <g id=\"line2d_56\">\n      <path d=\"M 37.69625 411.880632 \nL 874.69625 411.880632 \n\" clip-path=\"url(#p9e88aa34a5)\" style=\"fill: none; stroke: #cccccc; stroke-linecap: round\"/>\n     </g>\n     <g id=\"text_57\">\n      <!-- 60 -->\n      <g style=\"fill: #262626\" transform=\"translate(14.19875 416.059773) scale(0.11 -0.11)\">\n       <defs>\n        <path id=\"DejaVuSans-36\" d=\"M 2113 2584 \nQ 1688 2584 1439 2293 \nQ 1191 2003 1191 1497 \nQ 1191 994 1439 701 \nQ 1688 409 2113 409 \nQ 2538 409 2786 701 \nQ 3034 994 3034 1497 \nQ 3034 2003 2786 2293 \nQ 2538 2584 2113 2584 \nz\nM 3366 4563 \nL 3366 3988 \nQ 3128 4100 2886 4159 \nQ 2644 4219 2406 4219 \nQ 1781 4219 1451 3797 \nQ 1122 3375 1075 2522 \nQ 1259 2794 1537 2939 \nQ 1816 3084 2150 3084 \nQ 2853 3084 3261 2657 \nQ 3669 2231 3669 1497 \nQ 3669 778 3244 343 \nQ 2819 -91 2113 -91 \nQ 1303 -91 875 529 \nQ 447 1150 447 2328 \nQ 447 3434 972 4092 \nQ 1497 4750 2381 4750 \nQ 2619 4750 2861 4703 \nQ 3103 4656 3366 4563 \nz\n\" transform=\"scale(0.015625)\"/>\n       </defs>\n       <use xlink:href=\"#DejaVuSans-36\"/>\n       <use xlink:href=\"#DejaVuSans-30\" x=\"63.623047\"/>\n      </g>\n     </g>\n    </g>\n    <g id=\"ytick_5\">\n     <g id=\"line2d_57\">\n      <path d=\"M 37.69625 269.574176 \nL 874.69625 269.574176 \n\" clip-path=\"url(#p9e88aa34a5)\" style=\"fill: none; stroke: #cccccc; stroke-linecap: round\"/>\n     </g>\n     <g id=\"text_58\">\n      <!-- 80 -->\n      <g style=\"fill: #262626\" transform=\"translate(14.19875 273.753317) scale(0.11 -0.11)\">\n       <defs>\n        <path id=\"DejaVuSans-38\" d=\"M 2034 2216 \nQ 1584 2216 1326 1975 \nQ 1069 1734 1069 1313 \nQ 1069 891 1326 650 \nQ 1584 409 2034 409 \nQ 2484 409 2743 651 \nQ 3003 894 3003 1313 \nQ 3003 1734 2745 1975 \nQ 2488 2216 2034 2216 \nz\nM 1403 2484 \nQ 997 2584 770 2862 \nQ 544 3141 544 3541 \nQ 544 4100 942 4425 \nQ 1341 4750 2034 4750 \nQ 2731 4750 3128 4425 \nQ 3525 4100 3525 3541 \nQ 3525 3141 3298 2862 \nQ 3072 2584 2669 2484 \nQ 3125 2378 3379 2068 \nQ 3634 1759 3634 1313 \nQ 3634 634 3220 271 \nQ 2806 -91 2034 -91 \nQ 1263 -91 848 271 \nQ 434 634 434 1313 \nQ 434 1759 690 2068 \nQ 947 2378 1403 2484 \nz\nM 1172 3481 \nQ 1172 3119 1398 2916 \nQ 1625 2713 2034 2713 \nQ 2441 2713 2670 2916 \nQ 2900 3119 2900 3481 \nQ 2900 3844 2670 4047 \nQ 2441 4250 2034 4250 \nQ 1625 4250 1398 4047 \nQ 1172 3844 1172 3481 \nz\n\" transform=\"scale(0.015625)\"/>\n       </defs>\n       <use xlink:href=\"#DejaVuSans-38\"/>\n       <use xlink:href=\"#DejaVuSans-30\" x=\"63.623047\"/>\n      </g>\n     </g>\n    </g>\n    <g id=\"ytick_6\">\n     <g id=\"line2d_58\">\n      <path d=\"M 37.69625 127.26772 \nL 874.69625 127.26772 \n\" clip-path=\"url(#p9e88aa34a5)\" style=\"fill: none; stroke: #cccccc; stroke-linecap: round\"/>\n     </g>\n     <g id=\"text_59\">\n      <!-- 100 -->\n      <g style=\"fill: #262626\" transform=\"translate(7.2 131.446861) scale(0.11 -0.11)\">\n       <defs>\n        <path id=\"DejaVuSans-31\" d=\"M 794 531 \nL 1825 531 \nL 1825 4091 \nL 703 3866 \nL 703 4441 \nL 1819 4666 \nL 2450 4666 \nL 2450 531 \nL 3481 531 \nL 3481 0 \nL 794 0 \nL 794 531 \nz\n\" transform=\"scale(0.015625)\"/>\n       </defs>\n       <use xlink:href=\"#DejaVuSans-31\"/>\n       <use xlink:href=\"#DejaVuSans-30\" x=\"63.623047\"/>\n       <use xlink:href=\"#DejaVuSans-30\" x=\"127.246094\"/>\n      </g>\n     </g>\n    </g>\n   </g>\n   <g id=\"patch_3\">\n    <path d=\"M 41.720288 838.8 \nL 49.768365 838.8 \nL 49.768365 837.643409 \nL 41.720288 837.643409 \nz\n\" clip-path=\"url(#p9e88aa34a5)\" style=\"fill: #ff5733; stroke: #ffffff; stroke-linejoin: miter\"/>\n   </g>\n   <g id=\"patch_4\">\n    <path d=\"M 57.816442 838.8 \nL 65.864519 838.8 \nL 65.864519 833.164511 \nL 57.816442 833.164511 \nz\n\" clip-path=\"url(#p9e88aa34a5)\" style=\"fill: #ff5733; stroke: #ffffff; stroke-linejoin: miter\"/>\n   </g>\n   <g id=\"patch_5\">\n    <path d=\"M 73.912596 838.8 \nL 81.960673 838.8 \nL 81.960673 837.561509 \nL 73.912596 837.561509 \nz\n\" clip-path=\"url(#p9e88aa34a5)\" style=\"fill: #ff5733; stroke: #ffffff; stroke-linejoin: miter\"/>\n   </g>\n   <g id=\"patch_6\">\n    <path d=\"M 90.00875 838.8 \nL 98.056827 838.8 \nL 98.056827 831.298657 \nL 90.00875 831.298657 \nz\n\" clip-path=\"url(#p9e88aa34a5)\" style=\"fill: #ff5733; stroke: #ffffff; stroke-linejoin: miter\"/>\n   </g>\n   <g id=\"patch_7\">\n    <path d=\"M 106.104904 838.8 \nL 114.152981 838.8 \nL 114.152981 836.009452 \nL 106.104904 836.009452 \nz\n\" clip-path=\"url(#p9e88aa34a5)\" style=\"fill: #ff5733; stroke: #ffffff; stroke-linejoin: miter\"/>\n   </g>\n   <g id=\"patch_8\">\n    <path d=\"M 122.201058 838.8 \nL 130.249135 838.8 \nL 130.249135 836.328803 \nL 122.201058 836.328803 \nz\n\" clip-path=\"url(#p9e88aa34a5)\" style=\"fill: #ff5733; stroke: #ffffff; stroke-linejoin: miter\"/>\n   </g>\n   <g id=\"patch_9\">\n    <path d=\"M 138.297212 838.8 \nL 146.345288 838.8 \nL 146.345288 735.208377 \nL 138.297212 735.208377 \nz\n\" clip-path=\"url(#p9e88aa34a5)\" style=\"fill: #ff5733; stroke: #ffffff; stroke-linejoin: miter\"/>\n   </g>\n   <g id=\"patch_10\">\n    <path d=\"M 154.393365 838.8 \nL 162.441442 838.8 \nL 162.441442 836.93355 \nL 154.393365 836.93355 \nz\n\" clip-path=\"url(#p9e88aa34a5)\" style=\"fill: #ff5733; stroke: #ffffff; stroke-linejoin: miter\"/>\n   </g>\n   <g id=\"patch_11\">\n    <path d=\"M 170.489519 838.8 \nL 178.537596 838.8 \nL 178.537596 836.431122 \nL 170.489519 836.431122 \nz\n\" clip-path=\"url(#p9e88aa34a5)\" style=\"fill: #ff5733; stroke: #ffffff; stroke-linejoin: miter\"/>\n   </g>\n   <g id=\"patch_12\">\n    <path d=\"M 186.585673 838.8 \nL 194.63375 838.8 \nL 194.63375 802.151681 \nL 186.585673 802.151681 \nz\n\" clip-path=\"url(#p9e88aa34a5)\" style=\"fill: #ff5733; stroke: #ffffff; stroke-linejoin: miter\"/>\n   </g>\n   <g id=\"patch_13\">\n    <path d=\"M 202.681827 838.8 \nL 210.729904 838.8 \nL 210.729904 834.080243 \nL 202.681827 834.080243 \nz\n\" clip-path=\"url(#p9e88aa34a5)\" style=\"fill: #ff5733; stroke: #ffffff; stroke-linejoin: miter\"/>\n   </g>\n   <g id=\"patch_14\">\n    <path d=\"M 218.777981 838.8 \nL 226.826058 838.8 \nL 226.826058 836.434536 \nL 218.777981 836.434536 \nz\n\" clip-path=\"url(#p9e88aa34a5)\" style=\"fill: #ff5733; stroke: #ffffff; stroke-linejoin: miter\"/>\n   </g>\n   <g id=\"patch_15\">\n    <path d=\"M 234.874135 838.8 \nL 242.922212 838.8 \nL 242.922212 835.198995 \nL 234.874135 835.198995 \nz\n\" clip-path=\"url(#p9e88aa34a5)\" style=\"fill: #ff5733; stroke: #ffffff; stroke-linejoin: miter\"/>\n   </g>\n   <g id=\"patch_16\">\n    <path d=\"M 250.970288 838.8 \nL 259.018365 838.8 \nL 259.018365 837.646528 \nL 250.970288 837.646528 \nz\n\" clip-path=\"url(#p9e88aa34a5)\" style=\"fill: #ff5733; stroke: #ffffff; stroke-linejoin: miter\"/>\n   </g>\n   <g id=\"patch_17\">\n    <path d=\"M 267.066442 838.8 \nL 275.114519 838.8 \nL 275.114519 831.016897 \nL 267.066442 831.016897 \nz\n\" clip-path=\"url(#p9e88aa34a5)\" style=\"fill: #ff5733; stroke: #ffffff; stroke-linejoin: miter\"/>\n   </g>\n   <g id=\"patch_18\">\n    <path d=\"M 283.162596 838.8 \nL 291.210673 838.8 \nL 291.210673 822.745642 \nL 283.162596 822.745642 \nz\n\" clip-path=\"url(#p9e88aa34a5)\" style=\"fill: #ff5733; stroke: #ffffff; stroke-linejoin: miter\"/>\n   </g>\n   <g id=\"patch_19\">\n    <path d=\"M 299.25875 838.8 \nL 307.306827 838.8 \nL 307.306827 807.953258 \nL 299.25875 807.953258 \nz\n\" clip-path=\"url(#p9e88aa34a5)\" style=\"fill: #ff5733; stroke: #ffffff; stroke-linejoin: miter\"/>\n   </g>\n   <g id=\"patch_20\">\n    <path d=\"M 315.354904 838.8 \nL 323.402981 838.8 \nL 323.402981 834.843463 \nL 315.354904 834.843463 \nz\n\" clip-path=\"url(#p9e88aa34a5)\" style=\"fill: #ff5733; stroke: #ffffff; stroke-linejoin: miter\"/>\n   </g>\n   <g id=\"patch_21\">\n    <path d=\"M 331.451058 838.8 \nL 339.499135 838.8 \nL 339.499135 837.309339 \nL 331.451058 837.309339 \nz\n\" clip-path=\"url(#p9e88aa34a5)\" style=\"fill: #ff5733; stroke: #ffffff; stroke-linejoin: miter\"/>\n   </g>\n   <g id=\"patch_22\">\n    <path d=\"M 347.547212 838.8 \nL 355.595288 838.8 \nL 355.595288 829.459949 \nL 347.547212 829.459949 \nz\n\" clip-path=\"url(#p9e88aa34a5)\" style=\"fill: #ff5733; stroke: #ffffff; stroke-linejoin: miter\"/>\n   </g>\n   <g id=\"patch_23\">\n    <path d=\"M 363.643365 838.8 \nL 371.691442 838.8 \nL 371.691442 836.990754 \nL 363.643365 836.990754 \nz\n\" clip-path=\"url(#p9e88aa34a5)\" style=\"fill: #ff5733; stroke: #ffffff; stroke-linejoin: miter\"/>\n   </g>\n   <g id=\"patch_24\">\n    <path d=\"M 379.739519 838.8 \nL 387.787596 838.8 \nL 387.787596 837.042306 \nL 379.739519 837.042306 \nz\n\" clip-path=\"url(#p9e88aa34a5)\" style=\"fill: #ff5733; stroke: #ffffff; stroke-linejoin: miter\"/>\n   </g>\n   <g id=\"patch_25\">\n    <path d=\"M 395.835673 838.8 \nL 403.88375 838.8 \nL 403.88375 836.899099 \nL 395.835673 836.899099 \nz\n\" clip-path=\"url(#p9e88aa34a5)\" style=\"fill: #ff5733; stroke: #ffffff; stroke-linejoin: miter\"/>\n   </g>\n   <g id=\"patch_26\">\n    <path d=\"M 411.931827 838.8 \nL 419.979904 838.8 \nL 419.979904 837.350744 \nL 411.931827 837.350744 \nz\n\" clip-path=\"url(#p9e88aa34a5)\" style=\"fill: #ff5733; stroke: #ffffff; stroke-linejoin: miter\"/>\n   </g>\n   <g id=\"patch_27\">\n    <path d=\"M 428.027981 838.8 \nL 436.076058 838.8 \nL 436.076058 835.372945 \nL 428.027981 835.372945 \nz\n\" clip-path=\"url(#p9e88aa34a5)\" style=\"fill: #ff5733; stroke: #ffffff; stroke-linejoin: miter\"/>\n   </g>\n   <g id=\"patch_28\">\n    <path d=\"M 444.124135 838.8 \nL 452.172212 838.8 \nL 452.172212 794.887869 \nL 444.124135 794.887869 \nz\n\" clip-path=\"url(#p9e88aa34a5)\" style=\"fill: #ff5733; stroke: #ffffff; stroke-linejoin: miter\"/>\n   </g>\n   <g id=\"patch_29\">\n    <path d=\"M 460.220288 838.8 \nL 468.268365 838.8 \nL 468.268365 832.558735 \nL 460.220288 832.558735 \nz\n\" clip-path=\"url(#p9e88aa34a5)\" style=\"fill: #ff5733; stroke: #ffffff; stroke-linejoin: miter\"/>\n   </g>\n   <g id=\"patch_30\">\n    <path d=\"M 476.316442 838.8 \nL 484.364519 838.8 \nL 484.364519 837.554193 \nL 476.316442 837.554193 \nz\n\" clip-path=\"url(#p9e88aa34a5)\" style=\"fill: #ff5733; stroke: #ffffff; stroke-linejoin: miter\"/>\n   </g>\n   <g id=\"patch_31\">\n    <path d=\"M 492.412596 838.8 \nL 500.460673 838.8 \nL 500.460673 832.082472 \nL 492.412596 832.082472 \nz\n\" clip-path=\"url(#p9e88aa34a5)\" style=\"fill: #ff5733; stroke: #ffffff; stroke-linejoin: miter\"/>\n   </g>\n   <g id=\"patch_32\">\n    <path d=\"M 508.50875 838.8 \nL 516.556827 838.8 \nL 516.556827 837.015207 \nL 508.50875 837.015207 \nz\n\" clip-path=\"url(#p9e88aa34a5)\" style=\"fill: #ff5733; stroke: #ffffff; stroke-linejoin: miter\"/>\n   </g>\n   <g id=\"patch_33\">\n    <path d=\"M 524.604904 838.8 \nL 532.652981 838.8 \nL 532.652981 836.930903 \nL 524.604904 836.930903 \nz\n\" clip-path=\"url(#p9e88aa34a5)\" style=\"fill: #ff5733; stroke: #ffffff; stroke-linejoin: miter\"/>\n   </g>\n   <g id=\"patch_34\">\n    <path d=\"M 540.701058 838.8 \nL 548.749135 838.8 \nL 548.749135 836.914172 \nL 540.701058 836.914172 \nz\n\" clip-path=\"url(#p9e88aa34a5)\" style=\"fill: #ff5733; stroke: #ffffff; stroke-linejoin: miter\"/>\n   </g>\n   <g id=\"patch_35\">\n    <path d=\"M 556.797212 838.8 \nL 564.845288 838.8 \nL 564.845288 836.665426 \nL 556.797212 836.665426 \nz\n\" clip-path=\"url(#p9e88aa34a5)\" style=\"fill: #ff5733; stroke: #ffffff; stroke-linejoin: miter\"/>\n   </g>\n   <g id=\"patch_36\">\n    <path d=\"M 572.893365 838.8 \nL 580.941442 838.8 \nL 580.941442 830.560491 \nL 572.893365 830.560491 \nz\n\" clip-path=\"url(#p9e88aa34a5)\" style=\"fill: #ff5733; stroke: #ffffff; stroke-linejoin: miter\"/>\n   </g>\n   <g id=\"patch_37\">\n    <path d=\"M 588.989519 838.8 \nL 597.037596 838.8 \nL 597.037596 834.276902 \nL 588.989519 834.276902 \nz\n\" clip-path=\"url(#p9e88aa34a5)\" style=\"fill: #ff5733; stroke: #ffffff; stroke-linejoin: miter\"/>\n   </g>\n   <g id=\"patch_38\">\n    <path d=\"M 605.085673 838.8 \nL 613.13375 838.8 \nL 613.13375 830.108516 \nL 605.085673 830.108516 \nz\n\" clip-path=\"url(#p9e88aa34a5)\" style=\"fill: #ff5733; stroke: #ffffff; stroke-linejoin: miter\"/>\n   </g>\n   <g id=\"patch_39\">\n    <path d=\"M 621.181827 838.8 \nL 629.229904 838.8 \nL 629.229904 833.357642 \nL 621.181827 833.357642 \nz\n\" clip-path=\"url(#p9e88aa34a5)\" style=\"fill: #ff5733; stroke: #ffffff; stroke-linejoin: miter\"/>\n   </g>\n   <g id=\"patch_40\">\n    <path d=\"M 637.277981 838.8 \nL 645.326058 838.8 \nL 645.326058 784.067565 \nL 637.277981 784.067565 \nz\n\" clip-path=\"url(#p9e88aa34a5)\" style=\"fill: #ff5733; stroke: #ffffff; stroke-linejoin: miter\"/>\n   </g>\n   <g id=\"patch_41\">\n    <path d=\"M 653.374135 838.8 \nL 661.422212 838.8 \nL 661.422212 832.835944 \nL 653.374135 832.835944 \nz\n\" clip-path=\"url(#p9e88aa34a5)\" style=\"fill: #ff5733; stroke: #ffffff; stroke-linejoin: miter\"/>\n   </g>\n   <g id=\"patch_42\">\n    <path d=\"M 669.470288 838.8 \nL 677.518365 838.8 \nL 677.518365 835.470981 \nL 669.470288 835.470981 \nz\n\" clip-path=\"url(#p9e88aa34a5)\" style=\"fill: #ff5733; stroke: #ffffff; stroke-linejoin: miter\"/>\n   </g>\n   <g id=\"patch_43\">\n    <path d=\"M 685.566442 838.8 \nL 693.614519 838.8 \nL 693.614519 835.979738 \nL 685.566442 835.979738 \nz\n\" clip-path=\"url(#p9e88aa34a5)\" style=\"fill: #ff5733; stroke: #ffffff; stroke-linejoin: miter\"/>\n   </g>\n   <g id=\"patch_44\">\n    <path d=\"M 701.662596 838.8 \nL 709.710673 838.8 \nL 709.710673 835.230534 \nL 701.662596 835.230534 \nz\n\" clip-path=\"url(#p9e88aa34a5)\" style=\"fill: #ff5733; stroke: #ffffff; stroke-linejoin: miter\"/>\n   </g>\n   <g id=\"patch_45\">\n    <path d=\"M 717.75875 838.8 \nL 725.806827 838.8 \nL 725.806827 835.87799 \nL 717.75875 835.87799 \nz\n\" clip-path=\"url(#p9e88aa34a5)\" style=\"fill: #ff5733; stroke: #ffffff; stroke-linejoin: miter\"/>\n   </g>\n   <g id=\"patch_46\">\n    <path d=\"M 733.854904 838.8 \nL 741.902981 838.8 \nL 741.902981 831.868102 \nL 733.854904 831.868102 \nz\n\" clip-path=\"url(#p9e88aa34a5)\" style=\"fill: #ff5733; stroke: #ffffff; stroke-linejoin: miter\"/>\n   </g>\n   <g id=\"patch_47\">\n    <path d=\"M 749.951058 838.8 \nL 757.999135 838.8 \nL 757.999135 836.41965 \nL 749.951058 836.41965 \nz\n\" clip-path=\"url(#p9e88aa34a5)\" style=\"fill: #ff5733; stroke: #ffffff; stroke-linejoin: miter\"/>\n   </g>\n   <g id=\"patch_48\">\n    <path d=\"M 766.047212 838.8 \nL 774.095288 838.8 \nL 774.095288 772.578961 \nL 766.047212 772.578961 \nz\n\" clip-path=\"url(#p9e88aa34a5)\" style=\"fill: #ff5733; stroke: #ffffff; stroke-linejoin: miter\"/>\n   </g>\n   <g id=\"patch_49\">\n    <path d=\"M 782.143365 838.8 \nL 790.191442 838.8 \nL 790.191442 829.94424 \nL 782.143365 829.94424 \nz\n\" clip-path=\"url(#p9e88aa34a5)\" style=\"fill: #ff5733; stroke: #ffffff; stroke-linejoin: miter\"/>\n   </g>\n   <g id=\"patch_50\">\n    <path d=\"M 798.239519 838.8 \nL 806.287596 838.8 \nL 806.287596 836.18234 \nL 798.239519 836.18234 \nz\n\" clip-path=\"url(#p9e88aa34a5)\" style=\"fill: #ff5733; stroke: #ffffff; stroke-linejoin: miter\"/>\n   </g>\n   <g id=\"patch_51\">\n    <path d=\"M 814.335673 838.8 \nL 822.38375 838.8 \nL 822.38375 837.5549 \nL 814.335673 837.5549 \nz\n\" clip-path=\"url(#p9e88aa34a5)\" style=\"fill: #ff5733; stroke: #ffffff; stroke-linejoin: miter\"/>\n   </g>\n   <g id=\"patch_52\">\n    <path d=\"M 830.431827 838.8 \nL 838.479904 838.8 \nL 838.479904 837.466221 \nL 830.431827 837.466221 \nz\n\" clip-path=\"url(#p9e88aa34a5)\" style=\"fill: #ff5733; stroke: #ffffff; stroke-linejoin: miter\"/>\n   </g>\n   <g id=\"patch_53\">\n    <path d=\"M 846.527981 838.8 \nL 854.576058 838.8 \nL 854.576058 778.132482 \nL 846.527981 778.132482 \nz\n\" clip-path=\"url(#p9e88aa34a5)\" style=\"fill: #ff5733; stroke: #ffffff; stroke-linejoin: miter\"/>\n   </g>\n   <g id=\"patch_54\">\n    <path d=\"M 862.624135 838.8 \nL 870.672212 838.8 \nL 870.672212 836.995183 \nL 862.624135 836.995183 \nz\n\" clip-path=\"url(#p9e88aa34a5)\" style=\"fill: #ff5733; stroke: #ffffff; stroke-linejoin: miter\"/>\n   </g>\n   <g id=\"patch_55\">\n    <path d=\"M 41.720288 837.643409 \nL 49.768365 837.643409 \nL 49.768365 812.656417 \nL 41.720288 812.656417 \nz\n\" clip-path=\"url(#p9e88aa34a5)\" style=\"fill: #c70039; stroke: #ffffff; stroke-linejoin: miter\"/>\n   </g>\n   <g id=\"patch_56\">\n    <path d=\"M 57.816442 833.164511 \nL 65.864519 833.164511 \nL 65.864519 727.65699 \nL 57.816442 727.65699 \nz\n\" clip-path=\"url(#p9e88aa34a5)\" style=\"fill: #c70039; stroke: #ffffff; stroke-linejoin: miter\"/>\n   </g>\n   <g id=\"patch_57\">\n    <path d=\"M 73.912596 837.561509 \nL 81.960673 837.561509 \nL 81.960673 831.96035 \nL 73.912596 831.96035 \nz\n\" clip-path=\"url(#p9e88aa34a5)\" style=\"fill: #c70039; stroke: #ffffff; stroke-linejoin: miter\"/>\n   </g>\n   <g id=\"patch_58\">\n    <path d=\"M 90.00875 831.298657 \nL 98.056827 831.298657 \nL 98.056827 814.772761 \nL 90.00875 814.772761 \nz\n\" clip-path=\"url(#p9e88aa34a5)\" style=\"fill: #c70039; stroke: #ffffff; stroke-linejoin: miter\"/>\n   </g>\n   <g id=\"patch_59\">\n    <path d=\"M 106.104904 836.009452 \nL 114.152981 836.009452 \nL 114.152981 774.965745 \nL 106.104904 774.965745 \nz\n\" clip-path=\"url(#p9e88aa34a5)\" style=\"fill: #c70039; stroke: #ffffff; stroke-linejoin: miter\"/>\n   </g>\n   <g id=\"patch_60\">\n    <path d=\"M 122.201058 836.328803 \nL 130.249135 836.328803 \nL 130.249135 807.175172 \nL 122.201058 807.175172 \nz\n\" clip-path=\"url(#p9e88aa34a5)\" style=\"fill: #c70039; stroke: #ffffff; stroke-linejoin: miter\"/>\n   </g>\n   <g id=\"patch_61\">\n    <path d=\"M 138.297212 735.208377 \nL 146.345288 735.208377 \nL 146.345288 689.552872 \nL 138.297212 689.552872 \nz\n\" clip-path=\"url(#p9e88aa34a5)\" style=\"fill: #c70039; stroke: #ffffff; stroke-linejoin: miter\"/>\n   </g>\n   <g id=\"patch_62\">\n    <path d=\"M 154.393365 836.93355 \nL 162.441442 836.93355 \nL 162.441442 817.124866 \nL 154.393365 817.124866 \nz\n\" clip-path=\"url(#p9e88aa34a5)\" style=\"fill: #c70039; stroke: #ffffff; stroke-linejoin: miter\"/>\n   </g>\n   <g id=\"patch_63\">\n    <path d=\"M 170.489519 836.431122 \nL 178.537596 836.431122 \nL 178.537596 824.751914 \nL 170.489519 824.751914 \nz\n\" clip-path=\"url(#p9e88aa34a5)\" style=\"fill: #c70039; stroke: #ffffff; stroke-linejoin: miter\"/>\n   </g>\n   <g id=\"patch_64\">\n    <path d=\"M 186.585673 802.151681 \nL 194.63375 802.151681 \nL 194.63375 790.942433 \nL 186.585673 790.942433 \nz\n\" clip-path=\"url(#p9e88aa34a5)\" style=\"fill: #c70039; stroke: #ffffff; stroke-linejoin: miter\"/>\n   </g>\n   <g id=\"patch_65\">\n    <path d=\"M 202.681827 834.080243 \nL 210.729904 834.080243 \nL 210.729904 825.97695 \nL 202.681827 825.97695 \nz\n\" clip-path=\"url(#p9e88aa34a5)\" style=\"fill: #c70039; stroke: #ffffff; stroke-linejoin: miter\"/>\n   </g>\n   <g id=\"patch_66\">\n    <path d=\"M 218.777981 836.434536 \nL 226.826058 836.434536 \nL 226.826058 807.030101 \nL 218.777981 807.030101 \nz\n\" clip-path=\"url(#p9e88aa34a5)\" style=\"fill: #c70039; stroke: #ffffff; stroke-linejoin: miter\"/>\n   </g>\n   <g id=\"patch_67\">\n    <path d=\"M 234.874135 835.198995 \nL 242.922212 835.198995 \nL 242.922212 825.324152 \nL 234.874135 825.324152 \nz\n\" clip-path=\"url(#p9e88aa34a5)\" style=\"fill: #c70039; stroke: #ffffff; stroke-linejoin: miter\"/>\n   </g>\n   <g id=\"patch_68\">\n    <path d=\"M 250.970288 837.646528 \nL 259.018365 837.646528 \nL 259.018365 818.440715 \nL 250.970288 818.440715 \nz\n\" clip-path=\"url(#p9e88aa34a5)\" style=\"fill: #c70039; stroke: #ffffff; stroke-linejoin: miter\"/>\n   </g>\n   <g id=\"patch_69\">\n    <path d=\"M 267.066442 831.016897 \nL 275.114519 831.016897 \nL 275.114519 799.020872 \nL 267.066442 799.020872 \nz\n\" clip-path=\"url(#p9e88aa34a5)\" style=\"fill: #c70039; stroke: #ffffff; stroke-linejoin: miter\"/>\n   </g>\n   <g id=\"patch_70\">\n    <path d=\"M 283.162596 822.745642 \nL 291.210673 822.745642 \nL 291.210673 816.758151 \nL 283.162596 816.758151 \nz\n\" clip-path=\"url(#p9e88aa34a5)\" style=\"fill: #c70039; stroke: #ffffff; stroke-linejoin: miter\"/>\n   </g>\n   <g id=\"patch_71\">\n    <path d=\"M 299.25875 807.953258 \nL 307.306827 807.953258 \nL 307.306827 784.230107 \nL 299.25875 784.230107 \nz\n\" clip-path=\"url(#p9e88aa34a5)\" style=\"fill: #c70039; stroke: #ffffff; stroke-linejoin: miter\"/>\n   </g>\n   <g id=\"patch_72\">\n    <path d=\"M 315.354904 834.843463 \nL 323.402981 834.843463 \nL 323.402981 822.498544 \nL 315.354904 822.498544 \nz\n\" clip-path=\"url(#p9e88aa34a5)\" style=\"fill: #c70039; stroke: #ffffff; stroke-linejoin: miter\"/>\n   </g>\n   <g id=\"patch_73\">\n    <path d=\"M 331.451058 837.309339 \nL 339.499135 837.309339 \nL 339.499135 820.447231 \nL 331.451058 820.447231 \nz\n\" clip-path=\"url(#p9e88aa34a5)\" style=\"fill: #c70039; stroke: #ffffff; stroke-linejoin: miter\"/>\n   </g>\n   <g id=\"patch_74\">\n    <path d=\"M 347.547212 829.459949 \nL 355.595288 829.459949 \nL 355.595288 819.522888 \nL 347.547212 819.522888 \nz\n\" clip-path=\"url(#p9e88aa34a5)\" style=\"fill: #c70039; stroke: #ffffff; stroke-linejoin: miter\"/>\n   </g>\n   <g id=\"patch_75\">\n    <path d=\"M 363.643365 836.990754 \nL 371.691442 836.990754 \nL 371.691442 804.45621 \nL 363.643365 804.45621 \nz\n\" clip-path=\"url(#p9e88aa34a5)\" style=\"fill: #c70039; stroke: #ffffff; stroke-linejoin: miter\"/>\n   </g>\n   <g id=\"patch_76\">\n    <path d=\"M 379.739519 837.042306 \nL 387.787596 837.042306 \nL 387.787596 569.21998 \nL 379.739519 569.21998 \nz\n\" clip-path=\"url(#p9e88aa34a5)\" style=\"fill: #c70039; stroke: #ffffff; stroke-linejoin: miter\"/>\n   </g>\n   <g id=\"patch_77\">\n    <path d=\"M 395.835673 836.899099 \nL 403.88375 836.899099 \nL 403.88375 797.195315 \nL 395.835673 797.195315 \nz\n\" clip-path=\"url(#p9e88aa34a5)\" style=\"fill: #c70039; stroke: #ffffff; stroke-linejoin: miter\"/>\n   </g>\n   <g id=\"patch_78\">\n    <path d=\"M 411.931827 837.350744 \nL 419.979904 837.350744 \nL 419.979904 789.103224 \nL 411.931827 789.103224 \nz\n\" clip-path=\"url(#p9e88aa34a5)\" style=\"fill: #c70039; stroke: #ffffff; stroke-linejoin: miter\"/>\n   </g>\n   <g id=\"patch_79\">\n    <path d=\"M 428.027981 835.372945 \nL 436.076058 835.372945 \nL 436.076058 800.196584 \nL 428.027981 800.196584 \nz\n\" clip-path=\"url(#p9e88aa34a5)\" style=\"fill: #c70039; stroke: #ffffff; stroke-linejoin: miter\"/>\n   </g>\n   <g id=\"patch_80\">\n    <path d=\"M 444.124135 794.887869 \nL 452.172212 794.887869 \nL 452.172212 789.081439 \nL 444.124135 789.081439 \nz\n\" clip-path=\"url(#p9e88aa34a5)\" style=\"fill: #c70039; stroke: #ffffff; stroke-linejoin: miter\"/>\n   </g>\n   <g id=\"patch_81\">\n    <path d=\"M 460.220288 832.558735 \nL 468.268365 832.558735 \nL 468.268365 814.826517 \nL 460.220288 814.826517 \nz\n\" clip-path=\"url(#p9e88aa34a5)\" style=\"fill: #c70039; stroke: #ffffff; stroke-linejoin: miter\"/>\n   </g>\n   <g id=\"patch_82\">\n    <path d=\"M 476.316442 837.554193 \nL 484.364519 837.554193 \nL 484.364519 821.189214 \nL 476.316442 821.189214 \nz\n\" clip-path=\"url(#p9e88aa34a5)\" style=\"fill: #c70039; stroke: #ffffff; stroke-linejoin: miter\"/>\n   </g>\n   <g id=\"patch_83\">\n    <path d=\"M 492.412596 832.082472 \nL 500.460673 832.082472 \nL 500.460673 809.336548 \nL 492.412596 809.336548 \nz\n\" clip-path=\"url(#p9e88aa34a5)\" style=\"fill: #c70039; stroke: #ffffff; stroke-linejoin: miter\"/>\n   </g>\n   <g id=\"patch_84\">\n    <path d=\"M 508.50875 837.015207 \nL 516.556827 837.015207 \nL 516.556827 768.317895 \nL 508.50875 768.317895 \nz\n\" clip-path=\"url(#p9e88aa34a5)\" style=\"fill: #c70039; stroke: #ffffff; stroke-linejoin: miter\"/>\n   </g>\n   <g id=\"patch_85\">\n    <path d=\"M 524.604904 836.930903 \nL 532.652981 836.930903 \nL 532.652981 791.626055 \nL 524.604904 791.626055 \nz\n\" clip-path=\"url(#p9e88aa34a5)\" style=\"fill: #c70039; stroke: #ffffff; stroke-linejoin: miter\"/>\n   </g>\n   <g id=\"patch_86\">\n    <path d=\"M 540.701058 836.914172 \nL 548.749135 836.914172 \nL 548.749135 789.218847 \nL 540.701058 789.218847 \nz\n\" clip-path=\"url(#p9e88aa34a5)\" style=\"fill: #c70039; stroke: #ffffff; stroke-linejoin: miter\"/>\n   </g>\n   <g id=\"patch_87\">\n    <path d=\"M 556.797212 836.665426 \nL 564.845288 836.665426 \nL 564.845288 825.125278 \nL 556.797212 825.125278 \nz\n\" clip-path=\"url(#p9e88aa34a5)\" style=\"fill: #c70039; stroke: #ffffff; stroke-linejoin: miter\"/>\n   </g>\n   <g id=\"patch_88\">\n    <path d=\"M 572.893365 830.560491 \nL 580.941442 830.560491 \nL 580.941442 809.394615 \nL 572.893365 809.394615 \nz\n\" clip-path=\"url(#p9e88aa34a5)\" style=\"fill: #c70039; stroke: #ffffff; stroke-linejoin: miter\"/>\n   </g>\n   <g id=\"patch_89\">\n    <path d=\"M 588.989519 834.276902 \nL 597.037596 834.276902 \nL 597.037596 823.379037 \nL 588.989519 823.379037 \nz\n\" clip-path=\"url(#p9e88aa34a5)\" style=\"fill: #c70039; stroke: #ffffff; stroke-linejoin: miter\"/>\n   </g>\n   <g id=\"patch_90\">\n    <path d=\"M 605.085673 830.108516 \nL 613.13375 830.108516 \nL 613.13375 767.32271 \nL 605.085673 767.32271 \nz\n\" clip-path=\"url(#p9e88aa34a5)\" style=\"fill: #c70039; stroke: #ffffff; stroke-linejoin: miter\"/>\n   </g>\n   <g id=\"patch_91\">\n    <path d=\"M 621.181827 833.357642 \nL 629.229904 833.357642 \nL 629.229904 812.081436 \nL 621.181827 812.081436 \nz\n\" clip-path=\"url(#p9e88aa34a5)\" style=\"fill: #c70039; stroke: #ffffff; stroke-linejoin: miter\"/>\n   </g>\n   <g id=\"patch_92\">\n    <path d=\"M 637.277981 784.067565 \nL 645.326058 784.067565 \nL 645.326058 768.387285 \nL 637.277981 768.387285 \nz\n\" clip-path=\"url(#p9e88aa34a5)\" style=\"fill: #c70039; stroke: #ffffff; stroke-linejoin: miter\"/>\n   </g>\n   <g id=\"patch_93\">\n    <path d=\"M 653.374135 832.835944 \nL 661.422212 832.835944 \nL 661.422212 812.81493 \nL 653.374135 812.81493 \nz\n\" clip-path=\"url(#p9e88aa34a5)\" style=\"fill: #c70039; stroke: #ffffff; stroke-linejoin: miter\"/>\n   </g>\n   <g id=\"patch_94\">\n    <path d=\"M 669.470288 835.470981 \nL 677.518365 835.470981 \nL 677.518365 828.373877 \nL 669.470288 828.373877 \nz\n\" clip-path=\"url(#p9e88aa34a5)\" style=\"fill: #c70039; stroke: #ffffff; stroke-linejoin: miter\"/>\n   </g>\n   <g id=\"patch_95\">\n    <path d=\"M 685.566442 835.979738 \nL 693.614519 835.979738 \nL 693.614519 821.594939 \nL 685.566442 821.594939 \nz\n\" clip-path=\"url(#p9e88aa34a5)\" style=\"fill: #c70039; stroke: #ffffff; stroke-linejoin: miter\"/>\n   </g>\n   <g id=\"patch_96\">\n    <path d=\"M 701.662596 835.230534 \nL 709.710673 835.230534 \nL 709.710673 812.627082 \nL 701.662596 812.627082 \nz\n\" clip-path=\"url(#p9e88aa34a5)\" style=\"fill: #c70039; stroke: #ffffff; stroke-linejoin: miter\"/>\n   </g>\n   <g id=\"patch_97\">\n    <path d=\"M 717.75875 835.87799 \nL 725.806827 835.87799 \nL 725.806827 811.301896 \nL 717.75875 811.301896 \nz\n\" clip-path=\"url(#p9e88aa34a5)\" style=\"fill: #c70039; stroke: #ffffff; stroke-linejoin: miter\"/>\n   </g>\n   <g id=\"patch_98\">\n    <path d=\"M 733.854904 831.868102 \nL 741.902981 831.868102 \nL 741.902981 796.897073 \nL 733.854904 796.897073 \nz\n\" clip-path=\"url(#p9e88aa34a5)\" style=\"fill: #c70039; stroke: #ffffff; stroke-linejoin: miter\"/>\n   </g>\n   <g id=\"patch_99\">\n    <path d=\"M 749.951058 836.41965 \nL 757.999135 836.41965 \nL 757.999135 818.508074 \nL 749.951058 818.508074 \nz\n\" clip-path=\"url(#p9e88aa34a5)\" style=\"fill: #c70039; stroke: #ffffff; stroke-linejoin: miter\"/>\n   </g>\n   <g id=\"patch_100\">\n    <path d=\"M 766.047212 772.578961 \nL 774.095288 772.578961 \nL 774.095288 761.146038 \nL 766.047212 761.146038 \nz\n\" clip-path=\"url(#p9e88aa34a5)\" style=\"fill: #c70039; stroke: #ffffff; stroke-linejoin: miter\"/>\n   </g>\n   <g id=\"patch_101\">\n    <path d=\"M 782.143365 829.94424 \nL 790.191442 829.94424 \nL 790.191442 770.699056 \nL 782.143365 770.699056 \nz\n\" clip-path=\"url(#p9e88aa34a5)\" style=\"fill: #c70039; stroke: #ffffff; stroke-linejoin: miter\"/>\n   </g>\n   <g id=\"patch_102\">\n    <path d=\"M 798.239519 836.18234 \nL 806.287596 836.18234 \nL 806.287596 807.852784 \nL 798.239519 807.852784 \nz\n\" clip-path=\"url(#p9e88aa34a5)\" style=\"fill: #c70039; stroke: #ffffff; stroke-linejoin: miter\"/>\n   </g>\n   <g id=\"patch_103\">\n    <path d=\"M 814.335673 837.5549 \nL 822.38375 837.5549 \nL 822.38375 836.269368 \nL 814.335673 836.269368 \nz\n\" clip-path=\"url(#p9e88aa34a5)\" style=\"fill: #c70039; stroke: #ffffff; stroke-linejoin: miter\"/>\n   </g>\n   <g id=\"patch_104\">\n    <path d=\"M 830.431827 837.466221 \nL 838.479904 837.466221 \nL 838.479904 826.600327 \nL 830.431827 826.600327 \nz\n\" clip-path=\"url(#p9e88aa34a5)\" style=\"fill: #c70039; stroke: #ffffff; stroke-linejoin: miter\"/>\n   </g>\n   <g id=\"patch_105\">\n    <path d=\"M 846.527981 778.132482 \nL 854.576058 778.132482 \nL 854.576058 768.088255 \nL 846.527981 768.088255 \nz\n\" clip-path=\"url(#p9e88aa34a5)\" style=\"fill: #c70039; stroke: #ffffff; stroke-linejoin: miter\"/>\n   </g>\n   <g id=\"patch_106\">\n    <path d=\"M 862.624135 836.995183 \nL 870.672212 836.995183 \nL 870.672212 824.082939 \nL 862.624135 824.082939 \nz\n\" clip-path=\"url(#p9e88aa34a5)\" style=\"fill: #c70039; stroke: #ffffff; stroke-linejoin: miter\"/>\n   </g>\n   <g id=\"patch_107\">\n    <path d=\"M 41.720288 812.656417 \nL 49.768365 812.656417 \nL 49.768365 274.060401 \nL 41.720288 274.060401 \nz\n\" clip-path=\"url(#p9e88aa34a5)\" style=\"fill: #900c3f; stroke: #ffffff; stroke-linejoin: miter\"/>\n   </g>\n   <g id=\"patch_108\">\n    <path d=\"M 57.816442 727.65699 \nL 65.864519 727.65699 \nL 65.864519 467.878146 \nL 57.816442 467.878146 \nz\n\" clip-path=\"url(#p9e88aa34a5)\" style=\"fill: #900c3f; stroke: #ffffff; stroke-linejoin: miter\"/>\n   </g>\n   <g id=\"patch_109\">\n    <path d=\"M 73.912596 831.96035 \nL 81.960673 831.96035 \nL 81.960673 180.559438 \nL 73.912596 180.559438 \nz\n\" clip-path=\"url(#p9e88aa34a5)\" style=\"fill: #900c3f; stroke: #ffffff; stroke-linejoin: miter\"/>\n   </g>\n   <g id=\"patch_110\">\n    <path d=\"M 90.00875 814.772761 \nL 98.056827 814.772761 \nL 98.056827 260.404031 \nL 90.00875 260.404031 \nz\n\" clip-path=\"url(#p9e88aa34a5)\" style=\"fill: #900c3f; stroke: #ffffff; stroke-linejoin: miter\"/>\n   </g>\n   <g id=\"patch_111\">\n    <path d=\"M 106.104904 774.965745 \nL 114.152981 774.965745 \nL 114.152981 382.415034 \nL 106.104904 382.415034 \nz\n\" clip-path=\"url(#p9e88aa34a5)\" style=\"fill: #900c3f; stroke: #ffffff; stroke-linejoin: miter\"/>\n   </g>\n   <g id=\"patch_112\">\n    <path d=\"M 122.201058 807.175172 \nL 130.249135 807.175172 \nL 130.249135 545.873002 \nL 122.201058 545.873002 \nz\n\" clip-path=\"url(#p9e88aa34a5)\" style=\"fill: #900c3f; stroke: #ffffff; stroke-linejoin: miter\"/>\n   </g>\n   <g id=\"patch_113\">\n    <path d=\"M 138.297212 689.552872 \nL 146.345288 689.552872 \nL 146.345288 264.771992 \nL 138.297212 264.771992 \nz\n\" clip-path=\"url(#p9e88aa34a5)\" style=\"fill: #900c3f; stroke: #ffffff; stroke-linejoin: miter\"/>\n   </g>\n   <g id=\"patch_114\">\n    <path d=\"M 154.393365 817.124866 \nL 162.441442 817.124866 \nL 162.441442 437.120195 \nL 154.393365 437.120195 \nz\n\" clip-path=\"url(#p9e88aa34a5)\" style=\"fill: #900c3f; stroke: #ffffff; stroke-linejoin: miter\"/>\n   </g>\n   <g id=\"patch_115\">\n    <path d=\"M 170.489519 824.751914 \nL 178.537596 824.751914 \nL 178.537596 373.348482 \nL 170.489519 373.348482 \nz\n\" clip-path=\"url(#p9e88aa34a5)\" style=\"fill: #900c3f; stroke: #ffffff; stroke-linejoin: miter\"/>\n   </g>\n   <g id=\"patch_116\">\n    <path d=\"M 186.585673 790.942433 \nL 194.63375 790.942433 \nL 194.63375 195.54504 \nL 186.585673 195.54504 \nz\n\" clip-path=\"url(#p9e88aa34a5)\" style=\"fill: #900c3f; stroke: #ffffff; stroke-linejoin: miter\"/>\n   </g>\n   <g id=\"patch_117\">\n    <path d=\"M 202.681827 825.97695 \nL 210.729904 825.97695 \nL 210.729904 166.827923 \nL 202.681827 166.827923 \nz\n\" clip-path=\"url(#p9e88aa34a5)\" style=\"fill: #900c3f; stroke: #ffffff; stroke-linejoin: miter\"/>\n   </g>\n   <g id=\"patch_118\">\n    <path d=\"M 218.777981 807.030101 \nL 226.826058 807.030101 \nL 226.826058 436.379202 \nL 218.777981 436.379202 \nz\n\" clip-path=\"url(#p9e88aa34a5)\" style=\"fill: #900c3f; stroke: #ffffff; stroke-linejoin: miter\"/>\n   </g>\n   <g id=\"patch_119\">\n    <path d=\"M 234.874135 825.324152 \nL 242.922212 825.324152 \nL 242.922212 361.144856 \nL 234.874135 361.144856 \nz\n\" clip-path=\"url(#p9e88aa34a5)\" style=\"fill: #900c3f; stroke: #ffffff; stroke-linejoin: miter\"/>\n   </g>\n   <g id=\"patch_120\">\n    <path d=\"M 250.970288 818.440715 \nL 259.018365 818.440715 \nL 259.018365 181.049351 \nL 250.970288 181.049351 \nz\n\" clip-path=\"url(#p9e88aa34a5)\" style=\"fill: #900c3f; stroke: #ffffff; stroke-linejoin: miter\"/>\n   </g>\n   <g id=\"patch_121\">\n    <path d=\"M 267.066442 799.020872 \nL 275.114519 799.020872 \nL 275.114519 266.013198 \nL 267.066442 266.013198 \nz\n\" clip-path=\"url(#p9e88aa34a5)\" style=\"fill: #900c3f; stroke: #ffffff; stroke-linejoin: miter\"/>\n   </g>\n   <g id=\"patch_122\">\n    <path d=\"M 283.162596 816.758151 \nL 291.210673 816.758151 \nL 291.210673 222.150849 \nL 283.162596 222.150849 \nz\n\" clip-path=\"url(#p9e88aa34a5)\" style=\"fill: #900c3f; stroke: #ffffff; stroke-linejoin: miter\"/>\n   </g>\n   <g id=\"patch_123\">\n    <path d=\"M 299.25875 784.230107 \nL 307.306827 784.230107 \nL 307.306827 399.037896 \nL 299.25875 399.037896 \nz\n\" clip-path=\"url(#p9e88aa34a5)\" style=\"fill: #900c3f; stroke: #ffffff; stroke-linejoin: miter\"/>\n   </g>\n   <g id=\"patch_124\">\n    <path d=\"M 315.354904 822.498544 \nL 323.402981 822.498544 \nL 323.402981 407.497232 \nL 315.354904 407.497232 \nz\n\" clip-path=\"url(#p9e88aa34a5)\" style=\"fill: #900c3f; stroke: #ffffff; stroke-linejoin: miter\"/>\n   </g>\n   <g id=\"patch_125\">\n    <path d=\"M 331.451058 820.447231 \nL 339.499135 820.447231 \nL 339.499135 262.277735 \nL 331.451058 262.277735 \nz\n\" clip-path=\"url(#p9e88aa34a5)\" style=\"fill: #900c3f; stroke: #ffffff; stroke-linejoin: miter\"/>\n   </g>\n   <g id=\"patch_126\">\n    <path d=\"M 347.547212 819.522888 \nL 355.595288 819.522888 \nL 355.595288 240.54884 \nL 347.547212 240.54884 \nz\n\" clip-path=\"url(#p9e88aa34a5)\" style=\"fill: #900c3f; stroke: #ffffff; stroke-linejoin: miter\"/>\n   </g>\n   <g id=\"patch_127\">\n    <path d=\"M 363.643365 804.45621 \nL 371.691442 804.45621 \nL 371.691442 334.569969 \nL 363.643365 334.569969 \nz\n\" clip-path=\"url(#p9e88aa34a5)\" style=\"fill: #900c3f; stroke: #ffffff; stroke-linejoin: miter\"/>\n   </g>\n   <g id=\"patch_128\">\n    <path d=\"M 379.739519 569.21998 \nL 387.787596 569.21998 \nL 387.787596 415.717395 \nL 379.739519 415.717395 \nz\n\" clip-path=\"url(#p9e88aa34a5)\" style=\"fill: #900c3f; stroke: #ffffff; stroke-linejoin: miter\"/>\n   </g>\n   <g id=\"patch_129\">\n    <path d=\"M 395.835673 797.195315 \nL 403.88375 797.195315 \nL 403.88375 364.246208 \nL 395.835673 364.246208 \nz\n\" clip-path=\"url(#p9e88aa34a5)\" style=\"fill: #900c3f; stroke: #ffffff; stroke-linejoin: miter\"/>\n   </g>\n   <g id=\"patch_130\">\n    <path d=\"M 411.931827 789.103224 \nL 419.979904 789.103224 \nL 419.979904 285.448534 \nL 411.931827 285.448534 \nz\n\" clip-path=\"url(#p9e88aa34a5)\" style=\"fill: #900c3f; stroke: #ffffff; stroke-linejoin: miter\"/>\n   </g>\n   <g id=\"patch_131\">\n    <path d=\"M 428.027981 800.196584 \nL 436.076058 800.196584 \nL 436.076058 505.736421 \nL 428.027981 505.736421 \nz\n\" clip-path=\"url(#p9e88aa34a5)\" style=\"fill: #900c3f; stroke: #ffffff; stroke-linejoin: miter\"/>\n   </g>\n   <g id=\"patch_132\">\n    <path d=\"M 444.124135 789.081439 \nL 452.172212 789.081439 \nL 452.172212 180.034925 \nL 444.124135 180.034925 \nz\n\" clip-path=\"url(#p9e88aa34a5)\" style=\"fill: #900c3f; stroke: #ffffff; stroke-linejoin: miter\"/>\n   </g>\n   <g id=\"patch_133\">\n    <path d=\"M 460.220288 814.826517 \nL 468.268365 814.826517 \nL 468.268365 257.411495 \nL 460.220288 257.411495 \nz\n\" clip-path=\"url(#p9e88aa34a5)\" style=\"fill: #900c3f; stroke: #ffffff; stroke-linejoin: miter\"/>\n   </g>\n   <g id=\"patch_134\">\n    <path d=\"M 476.316442 821.189214 \nL 484.364519 821.189214 \nL 484.364519 264.082008 \nL 476.316442 264.082008 \nz\n\" clip-path=\"url(#p9e88aa34a5)\" style=\"fill: #900c3f; stroke: #ffffff; stroke-linejoin: miter\"/>\n   </g>\n   <g id=\"patch_135\">\n    <path d=\"M 492.412596 809.336548 \nL 500.460673 809.336548 \nL 500.460673 329.03662 \nL 492.412596 329.03662 \nz\n\" clip-path=\"url(#p9e88aa34a5)\" style=\"fill: #900c3f; stroke: #ffffff; stroke-linejoin: miter\"/>\n   </g>\n   <g id=\"patch_136\">\n    <path d=\"M 508.50875 768.317895 \nL 516.556827 768.317895 \nL 516.556827 379.231189 \nL 508.50875 379.231189 \nz\n\" clip-path=\"url(#p9e88aa34a5)\" style=\"fill: #900c3f; stroke: #ffffff; stroke-linejoin: miter\"/>\n   </g>\n   <g id=\"patch_137\">\n    <path d=\"M 524.604904 791.626055 \nL 532.652981 791.626055 \nL 532.652981 434.718894 \nL 524.604904 434.718894 \nz\n\" clip-path=\"url(#p9e88aa34a5)\" style=\"fill: #900c3f; stroke: #ffffff; stroke-linejoin: miter\"/>\n   </g>\n   <g id=\"patch_138\">\n    <path d=\"M 540.701058 789.218847 \nL 548.749135 789.218847 \nL 548.749135 353.626559 \nL 540.701058 353.626559 \nz\n\" clip-path=\"url(#p9e88aa34a5)\" style=\"fill: #900c3f; stroke: #ffffff; stroke-linejoin: miter\"/>\n   </g>\n   <g id=\"patch_139\">\n    <path d=\"M 556.797212 825.125278 \nL 564.845288 825.125278 \nL 564.845288 167.998994 \nL 556.797212 167.998994 \nz\n\" clip-path=\"url(#p9e88aa34a5)\" style=\"fill: #900c3f; stroke: #ffffff; stroke-linejoin: miter\"/>\n   </g>\n   <g id=\"patch_140\">\n    <path d=\"M 572.893365 809.394615 \nL 580.941442 809.394615 \nL 580.941442 363.871695 \nL 572.893365 363.871695 \nz\n\" clip-path=\"url(#p9e88aa34a5)\" style=\"fill: #900c3f; stroke: #ffffff; stroke-linejoin: miter\"/>\n   </g>\n   <g id=\"patch_141\">\n    <path d=\"M 588.989519 823.379037 \nL 597.037596 823.379037 \nL 597.037596 314.253153 \nL 588.989519 314.253153 \nz\n\" clip-path=\"url(#p9e88aa34a5)\" style=\"fill: #900c3f; stroke: #ffffff; stroke-linejoin: miter\"/>\n   </g>\n   <g id=\"patch_142\">\n    <path d=\"M 605.085673 767.32271 \nL 613.13375 767.32271 \nL 613.13375 287.323023 \nL 605.085673 287.323023 \nz\n\" clip-path=\"url(#p9e88aa34a5)\" style=\"fill: #900c3f; stroke: #ffffff; stroke-linejoin: miter\"/>\n   </g>\n   <g id=\"patch_143\">\n    <path d=\"M 621.181827 812.081436 \nL 629.229904 812.081436 \nL 629.229904 276.105641 \nL 621.181827 276.105641 \nz\n\" clip-path=\"url(#p9e88aa34a5)\" style=\"fill: #900c3f; stroke: #ffffff; stroke-linejoin: miter\"/>\n   </g>\n   <g id=\"patch_144\">\n    <path d=\"M 637.277981 768.387285 \nL 645.326058 768.387285 \nL 645.326058 306.603549 \nL 637.277981 306.603549 \nz\n\" clip-path=\"url(#p9e88aa34a5)\" style=\"fill: #900c3f; stroke: #ffffff; stroke-linejoin: miter\"/>\n   </g>\n   <g id=\"patch_145\">\n    <path d=\"M 653.374135 812.81493 \nL 661.422212 812.81493 \nL 661.422212 239.240249 \nL 653.374135 239.240249 \nz\n\" clip-path=\"url(#p9e88aa34a5)\" style=\"fill: #900c3f; stroke: #ffffff; stroke-linejoin: miter\"/>\n   </g>\n   <g id=\"patch_146\">\n    <path d=\"M 669.470288 828.373877 \nL 677.518365 828.373877 \nL 677.518365 427.264611 \nL 669.470288 427.264611 \nz\n\" clip-path=\"url(#p9e88aa34a5)\" style=\"fill: #900c3f; stroke: #ffffff; stroke-linejoin: miter\"/>\n   </g>\n   <g id=\"patch_147\">\n    <path d=\"M 685.566442 821.594939 \nL 693.614519 821.594939 \nL 693.614519 260.779128 \nL 685.566442 260.779128 \nz\n\" clip-path=\"url(#p9e88aa34a5)\" style=\"fill: #900c3f; stroke: #ffffff; stroke-linejoin: miter\"/>\n   </g>\n   <g id=\"patch_148\">\n    <path d=\"M 701.662596 812.627082 \nL 709.710673 812.627082 \nL 709.710673 282.67384 \nL 701.662596 282.67384 \nz\n\" clip-path=\"url(#p9e88aa34a5)\" style=\"fill: #900c3f; stroke: #ffffff; stroke-linejoin: miter\"/>\n   </g>\n   <g id=\"patch_149\">\n    <path d=\"M 717.75875 811.301896 \nL 725.806827 811.301896 \nL 725.806827 302.971727 \nL 717.75875 302.971727 \nz\n\" clip-path=\"url(#p9e88aa34a5)\" style=\"fill: #900c3f; stroke: #ffffff; stroke-linejoin: miter\"/>\n   </g>\n   <g id=\"patch_150\">\n    <path d=\"M 733.854904 796.897073 \nL 741.902981 796.897073 \nL 741.902981 234.995088 \nL 733.854904 234.995088 \nz\n\" clip-path=\"url(#p9e88aa34a5)\" style=\"fill: #900c3f; stroke: #ffffff; stroke-linejoin: miter\"/>\n   </g>\n   <g id=\"patch_151\">\n    <path d=\"M 749.951058 818.508074 \nL 757.999135 818.508074 \nL 757.999135 213.607004 \nL 749.951058 213.607004 \nz\n\" clip-path=\"url(#p9e88aa34a5)\" style=\"fill: #900c3f; stroke: #ffffff; stroke-linejoin: miter\"/>\n   </g>\n   <g id=\"patch_152\">\n    <path d=\"M 766.047212 761.146038 \nL 774.095288 761.146038 \nL 774.095288 500.172387 \nL 766.047212 500.172387 \nz\n\" clip-path=\"url(#p9e88aa34a5)\" style=\"fill: #900c3f; stroke: #ffffff; stroke-linejoin: miter\"/>\n   </g>\n   <g id=\"patch_153\">\n    <path d=\"M 782.143365 770.699056 \nL 790.191442 770.699056 \nL 790.191442 427.842977 \nL 782.143365 427.842977 \nz\n\" clip-path=\"url(#p9e88aa34a5)\" style=\"fill: #900c3f; stroke: #ffffff; stroke-linejoin: miter\"/>\n   </g>\n   <g id=\"patch_154\">\n    <path d=\"M 798.239519 807.852784 \nL 806.287596 807.852784 \nL 806.287596 370.177039 \nL 798.239519 370.177039 \nz\n\" clip-path=\"url(#p9e88aa34a5)\" style=\"fill: #900c3f; stroke: #ffffff; stroke-linejoin: miter\"/>\n   </g>\n   <g id=\"patch_155\">\n    <path d=\"M 814.335673 836.269368 \nL 822.38375 836.269368 \nL 822.38375 829.33794 \nL 814.335673 829.33794 \nz\n\" clip-path=\"url(#p9e88aa34a5)\" style=\"fill: #900c3f; stroke: #ffffff; stroke-linejoin: miter\"/>\n   </g>\n   <g id=\"patch_156\">\n    <path d=\"M 830.431827 826.600327 \nL 838.479904 826.600327 \nL 838.479904 228.323454 \nL 830.431827 228.323454 \nz\n\" clip-path=\"url(#p9e88aa34a5)\" style=\"fill: #900c3f; stroke: #ffffff; stroke-linejoin: miter\"/>\n   </g>\n   <g id=\"patch_157\">\n    <path d=\"M 846.527981 768.088255 \nL 854.576058 768.088255 \nL 854.576058 189.266323 \nL 846.527981 189.266323 \nz\n\" clip-path=\"url(#p9e88aa34a5)\" style=\"fill: #900c3f; stroke: #ffffff; stroke-linejoin: miter\"/>\n   </g>\n   <g id=\"patch_158\">\n    <path d=\"M 862.624135 824.082939 \nL 870.672212 824.082939 \nL 870.672212 301.973082 \nL 862.624135 301.973082 \nz\n\" clip-path=\"url(#p9e88aa34a5)\" style=\"fill: #900c3f; stroke: #ffffff; stroke-linejoin: miter\"/>\n   </g>\n   <g id=\"patch_159\">\n    <path d=\"M 41.720288 274.060401 \nL 49.768365 274.060401 \nL 49.768365 195.116478 \nL 41.720288 195.116478 \nz\n\" clip-path=\"url(#p9e88aa34a5)\" style=\"fill: #581845; stroke: #ffffff; stroke-linejoin: miter\"/>\n   </g>\n   <g id=\"patch_160\">\n    <path d=\"M 57.816442 467.878146 \nL 65.864519 467.878146 \nL 65.864519 427.171818 \nL 57.816442 427.171818 \nz\n\" clip-path=\"url(#p9e88aa34a5)\" style=\"fill: #581845; stroke: #ffffff; stroke-linejoin: miter\"/>\n   </g>\n   <g id=\"patch_161\">\n    <path d=\"M 73.912596 180.559438 \nL 81.960673 180.559438 \nL 81.960673 155.252259 \nL 73.912596 155.252259 \nz\n\" clip-path=\"url(#p9e88aa34a5)\" style=\"fill: #581845; stroke: #ffffff; stroke-linejoin: miter\"/>\n   </g>\n   <g id=\"patch_162\">\n    <path d=\"M 90.00875 260.404031 \nL 98.056827 260.404031 \nL 98.056827 251.81052 \nL 90.00875 251.81052 \nz\n\" clip-path=\"url(#p9e88aa34a5)\" style=\"fill: #581845; stroke: #ffffff; stroke-linejoin: miter\"/>\n   </g>\n   <g id=\"patch_163\">\n    <path d=\"M 106.104904 382.415034 \nL 114.152981 382.415034 \nL 114.152981 272.94428 \nL 106.104904 272.94428 \nz\n\" clip-path=\"url(#p9e88aa34a5)\" style=\"fill: #581845; stroke: #ffffff; stroke-linejoin: miter\"/>\n   </g>\n   <g id=\"patch_164\">\n    <path d=\"M 122.201058 545.873002 \nL 130.249135 545.873002 \nL 130.249135 222.903431 \nL 122.201058 222.903431 \nz\n\" clip-path=\"url(#p9e88aa34a5)\" style=\"fill: #581845; stroke: #ffffff; stroke-linejoin: miter\"/>\n   </g>\n   <g id=\"patch_165\">\n    <path d=\"M 138.297212 264.771992 \nL 146.345288 264.771992 \nL 146.345288 241.703359 \nL 138.297212 241.703359 \nz\n\" clip-path=\"url(#p9e88aa34a5)\" style=\"fill: #581845; stroke: #ffffff; stroke-linejoin: miter\"/>\n   </g>\n   <g id=\"patch_166\">\n    <path d=\"M 154.393365 437.120195 \nL 162.441442 437.120195 \nL 162.441442 323.732691 \nL 154.393365 323.732691 \nz\n\" clip-path=\"url(#p9e88aa34a5)\" style=\"fill: #581845; stroke: #ffffff; stroke-linejoin: miter\"/>\n   </g>\n   <g id=\"patch_167\">\n    <path d=\"M 170.489519 373.348482 \nL 178.537596 373.348482 \nL 178.537596 185.168632 \nL 170.489519 185.168632 \nz\n\" clip-path=\"url(#p9e88aa34a5)\" style=\"fill: #581845; stroke: #ffffff; stroke-linejoin: miter\"/>\n   </g>\n   <g id=\"patch_168\">\n    <path d=\"M 186.585673 195.54504 \nL 194.63375 195.54504 \nL 194.63375 173.125608 \nL 186.585673 173.125608 \nz\n\" clip-path=\"url(#p9e88aa34a5)\" style=\"fill: #581845; stroke: #ffffff; stroke-linejoin: miter\"/>\n   </g>\n   <g id=\"patch_169\">\n    <path d=\"M 202.681827 166.827923 \nL 210.729904 166.827923 \nL 210.729904 156.938933 \nL 202.681827 156.938933 \nz\n\" clip-path=\"url(#p9e88aa34a5)\" style=\"fill: #581845; stroke: #ffffff; stroke-linejoin: miter\"/>\n   </g>\n   <g id=\"patch_170\">\n    <path d=\"M 218.777981 436.379202 \nL 226.826058 436.379202 \nL 226.826058 211.764698 \nL 218.777981 211.764698 \nz\n\" clip-path=\"url(#p9e88aa34a5)\" style=\"fill: #581845; stroke: #ffffff; stroke-linejoin: miter\"/>\n   </g>\n   <g id=\"patch_171\">\n    <path d=\"M 234.874135 361.144856 \nL 242.922212 361.144856 \nL 242.922212 171.916309 \nL 234.874135 171.916309 \nz\n\" clip-path=\"url(#p9e88aa34a5)\" style=\"fill: #581845; stroke: #ffffff; stroke-linejoin: miter\"/>\n   </g>\n   <g id=\"patch_172\">\n    <path d=\"M 250.970288 181.049351 \nL 259.018365 181.049351 \nL 259.018365 170.000273 \nL 250.970288 170.000273 \nz\n\" clip-path=\"url(#p9e88aa34a5)\" style=\"fill: #581845; stroke: #ffffff; stroke-linejoin: miter\"/>\n   </g>\n   <g id=\"patch_173\">\n    <path d=\"M 267.066442 266.013198 \nL 275.114519 266.013198 \nL 275.114519 252.533879 \nL 267.066442 252.533879 \nz\n\" clip-path=\"url(#p9e88aa34a5)\" style=\"fill: #581845; stroke: #ffffff; stroke-linejoin: miter\"/>\n   </g>\n   <g id=\"patch_174\">\n    <path d=\"M 283.162596 222.150849 \nL 291.210673 222.150849 \nL 291.210673 215.934482 \nL 283.162596 215.934482 \nz\n\" clip-path=\"url(#p9e88aa34a5)\" style=\"fill: #581845; stroke: #ffffff; stroke-linejoin: miter\"/>\n   </g>\n   <g id=\"patch_175\">\n    <path d=\"M 299.25875 399.037896 \nL 307.306827 399.037896 \nL 307.306827 366.793592 \nL 299.25875 366.793592 \nz\n\" clip-path=\"url(#p9e88aa34a5)\" style=\"fill: #581845; stroke: #ffffff; stroke-linejoin: miter\"/>\n   </g>\n   <g id=\"patch_176\">\n    <path d=\"M 315.354904 407.497232 \nL 323.402981 407.497232 \nL 323.402981 178.593327 \nL 315.354904 178.593327 \nz\n\" clip-path=\"url(#p9e88aa34a5)\" style=\"fill: #581845; stroke: #ffffff; stroke-linejoin: miter\"/>\n   </g>\n   <g id=\"patch_177\">\n    <path d=\"M 331.451058 262.277735 \nL 339.499135 262.277735 \nL 339.499135 195.137106 \nL 331.451058 195.137106 \nz\n\" clip-path=\"url(#p9e88aa34a5)\" style=\"fill: #581845; stroke: #ffffff; stroke-linejoin: miter\"/>\n   </g>\n   <g id=\"patch_178\">\n    <path d=\"M 347.547212 240.54884 \nL 355.595288 240.54884 \nL 355.595288 235.870094 \nL 347.547212 235.870094 \nz\n\" clip-path=\"url(#p9e88aa34a5)\" style=\"fill: #581845; stroke: #ffffff; stroke-linejoin: miter\"/>\n   </g>\n   <g id=\"patch_179\">\n    <path d=\"M 363.643365 334.569969 \nL 371.691442 334.569969 \nL 371.691442 258.413645 \nL 363.643365 258.413645 \nz\n\" clip-path=\"url(#p9e88aa34a5)\" style=\"fill: #581845; stroke: #ffffff; stroke-linejoin: miter\"/>\n   </g>\n   <g id=\"patch_180\">\n    <path d=\"M 379.739519 415.717395 \nL 387.787596 415.717395 \nL 387.787596 402.330763 \nL 379.739519 402.330763 \nz\n\" clip-path=\"url(#p9e88aa34a5)\" style=\"fill: #581845; stroke: #ffffff; stroke-linejoin: miter\"/>\n   </g>\n   <g id=\"patch_181\">\n    <path d=\"M 395.835673 364.246208 \nL 403.88375 364.246208 \nL 403.88375 263.714194 \nL 395.835673 263.714194 \nz\n\" clip-path=\"url(#p9e88aa34a5)\" style=\"fill: #581845; stroke: #ffffff; stroke-linejoin: miter\"/>\n   </g>\n   <g id=\"patch_182\">\n    <path d=\"M 411.931827 285.448534 \nL 419.979904 285.448534 \nL 419.979904 232.301661 \nL 411.931827 232.301661 \nz\n\" clip-path=\"url(#p9e88aa34a5)\" style=\"fill: #581845; stroke: #ffffff; stroke-linejoin: miter\"/>\n   </g>\n   <g id=\"patch_183\">\n    <path d=\"M 428.027981 505.736421 \nL 436.076058 505.736421 \nL 436.076058 419.652557 \nL 428.027981 419.652557 \nz\n\" clip-path=\"url(#p9e88aa34a5)\" style=\"fill: #581845; stroke: #ffffff; stroke-linejoin: miter\"/>\n   </g>\n   <g id=\"patch_184\">\n    <path d=\"M 444.124135 180.034925 \nL 452.172212 180.034925 \nL 452.172212 176.068136 \nL 444.124135 176.068136 \nz\n\" clip-path=\"url(#p9e88aa34a5)\" style=\"fill: #581845; stroke: #ffffff; stroke-linejoin: miter\"/>\n   </g>\n   <g id=\"patch_185\">\n    <path d=\"M 460.220288 257.411495 \nL 468.268365 257.411495 \nL 468.268365 223.42351 \nL 460.220288 223.42351 \nz\n\" clip-path=\"url(#p9e88aa34a5)\" style=\"fill: #581845; stroke: #ffffff; stroke-linejoin: miter\"/>\n   </g>\n   <g id=\"patch_186\">\n    <path d=\"M 476.316442 264.082008 \nL 484.364519 264.082008 \nL 484.364519 176.161543 \nL 476.316442 176.161543 \nz\n\" clip-path=\"url(#p9e88aa34a5)\" style=\"fill: #581845; stroke: #ffffff; stroke-linejoin: miter\"/>\n   </g>\n   <g id=\"patch_187\">\n    <path d=\"M 492.412596 329.03662 \nL 500.460673 329.03662 \nL 500.460673 299.537122 \nL 492.412596 299.537122 \nz\n\" clip-path=\"url(#p9e88aa34a5)\" style=\"fill: #581845; stroke: #ffffff; stroke-linejoin: miter\"/>\n   </g>\n   <g id=\"patch_188\">\n    <path d=\"M 508.50875 379.231189 \nL 516.556827 379.231189 \nL 516.556827 283.96314 \nL 508.50875 283.96314 \nz\n\" clip-path=\"url(#p9e88aa34a5)\" style=\"fill: #581845; stroke: #ffffff; stroke-linejoin: miter\"/>\n   </g>\n   <g id=\"patch_189\">\n    <path d=\"M 524.604904 434.718894 \nL 532.652981 434.718894 \nL 532.652981 222.220769 \nL 524.604904 222.220769 \nz\n\" clip-path=\"url(#p9e88aa34a5)\" style=\"fill: #581845; stroke: #ffffff; stroke-linejoin: miter\"/>\n   </g>\n   <g id=\"patch_190\">\n    <path d=\"M 540.701058 353.626559 \nL 548.749135 353.626559 \nL 548.749135 218.111744 \nL 540.701058 218.111744 \nz\n\" clip-path=\"url(#p9e88aa34a5)\" style=\"fill: #581845; stroke: #ffffff; stroke-linejoin: miter\"/>\n   </g>\n   <g id=\"patch_191\">\n    <path d=\"M 556.797212 167.998994 \nL 564.845288 167.998994 \nL 564.845288 158.922781 \nL 556.797212 158.922781 \nz\n\" clip-path=\"url(#p9e88aa34a5)\" style=\"fill: #581845; stroke: #ffffff; stroke-linejoin: miter\"/>\n   </g>\n   <g id=\"patch_192\">\n    <path d=\"M 572.893365 363.871695 \nL 580.941442 363.871695 \nL 580.941442 211.955269 \nL 572.893365 211.955269 \nz\n\" clip-path=\"url(#p9e88aa34a5)\" style=\"fill: #581845; stroke: #ffffff; stroke-linejoin: miter\"/>\n   </g>\n   <g id=\"patch_193\">\n    <path d=\"M 588.989519 314.253153 \nL 597.037596 314.253153 \nL 597.037596 206.091906 \nL 588.989519 206.091906 \nz\n\" clip-path=\"url(#p9e88aa34a5)\" style=\"fill: #581845; stroke: #ffffff; stroke-linejoin: miter\"/>\n   </g>\n   <g id=\"patch_194\">\n    <path d=\"M 605.085673 287.323023 \nL 613.13375 287.323023 \nL 613.13375 259.832887 \nL 605.085673 259.832887 \nz\n\" clip-path=\"url(#p9e88aa34a5)\" style=\"fill: #581845; stroke: #ffffff; stroke-linejoin: miter\"/>\n   </g>\n   <g id=\"patch_195\">\n    <path d=\"M 621.181827 276.105641 \nL 629.229904 276.105641 \nL 629.229904 235.592832 \nL 621.181827 235.592832 \nz\n\" clip-path=\"url(#p9e88aa34a5)\" style=\"fill: #581845; stroke: #ffffff; stroke-linejoin: miter\"/>\n   </g>\n   <g id=\"patch_196\">\n    <path d=\"M 637.277981 306.603549 \nL 645.326058 306.603549 \nL 645.326058 254.74204 \nL 637.277981 254.74204 \nz\n\" clip-path=\"url(#p9e88aa34a5)\" style=\"fill: #581845; stroke: #ffffff; stroke-linejoin: miter\"/>\n   </g>\n   <g id=\"patch_197\">\n    <path d=\"M 653.374135 239.240249 \nL 661.422212 239.240249 \nL 661.422212 194.16258 \nL 653.374135 194.16258 \nz\n\" clip-path=\"url(#p9e88aa34a5)\" style=\"fill: #581845; stroke: #ffffff; stroke-linejoin: miter\"/>\n   </g>\n   <g id=\"patch_198\">\n    <path d=\"M 669.470288 427.264611 \nL 677.518365 427.264611 \nL 677.518365 159.161736 \nL 669.470288 159.161736 \nz\n\" clip-path=\"url(#p9e88aa34a5)\" style=\"fill: #581845; stroke: #ffffff; stroke-linejoin: miter\"/>\n   </g>\n   <g id=\"patch_199\">\n    <path d=\"M 685.566442 260.779128 \nL 693.614519 260.779128 \nL 693.614519 179.677372 \nL 685.566442 179.677372 \nz\n\" clip-path=\"url(#p9e88aa34a5)\" style=\"fill: #581845; stroke: #ffffff; stroke-linejoin: miter\"/>\n   </g>\n   <g id=\"patch_200\">\n    <path d=\"M 701.662596 282.67384 \nL 709.710673 282.67384 \nL 709.710673 185.641662 \nL 701.662596 185.641662 \nz\n\" clip-path=\"url(#p9e88aa34a5)\" style=\"fill: #581845; stroke: #ffffff; stroke-linejoin: miter\"/>\n   </g>\n   <g id=\"patch_201\">\n    <path d=\"M 717.75875 302.971727 \nL 725.806827 302.971727 \nL 725.806827 256.426746 \nL 717.75875 256.426746 \nz\n\" clip-path=\"url(#p9e88aa34a5)\" style=\"fill: #581845; stroke: #ffffff; stroke-linejoin: miter\"/>\n   </g>\n   <g id=\"patch_202\">\n    <path d=\"M 733.854904 234.995088 \nL 741.902981 234.995088 \nL 741.902981 189.278334 \nL 733.854904 189.278334 \nz\n\" clip-path=\"url(#p9e88aa34a5)\" style=\"fill: #581845; stroke: #ffffff; stroke-linejoin: miter\"/>\n   </g>\n   <g id=\"patch_203\">\n    <path d=\"M 749.951058 213.607004 \nL 757.999135 213.607004 \nL 757.999135 187.170849 \nL 749.951058 187.170849 \nz\n\" clip-path=\"url(#p9e88aa34a5)\" style=\"fill: #581845; stroke: #ffffff; stroke-linejoin: miter\"/>\n   </g>\n   <g id=\"patch_204\">\n    <path d=\"M 766.047212 500.172387 \nL 774.095288 500.172387 \nL 774.095288 485.42071 \nL 766.047212 485.42071 \nz\n\" clip-path=\"url(#p9e88aa34a5)\" style=\"fill: #581845; stroke: #ffffff; stroke-linejoin: miter\"/>\n   </g>\n   <g id=\"patch_205\">\n    <path d=\"M 782.143365 427.842977 \nL 790.191442 427.842977 \nL 790.191442 361.457771 \nL 782.143365 361.457771 \nz\n\" clip-path=\"url(#p9e88aa34a5)\" style=\"fill: #581845; stroke: #ffffff; stroke-linejoin: miter\"/>\n   </g>\n   <g id=\"patch_206\">\n    <path d=\"M 798.239519 370.177039 \nL 806.287596 370.177039 \nL 806.287596 213.709334 \nL 798.239519 213.709334 \nz\n\" clip-path=\"url(#p9e88aa34a5)\" style=\"fill: #581845; stroke: #ffffff; stroke-linejoin: miter\"/>\n   </g>\n   <g id=\"patch_207\">\n    <path d=\"M 814.335673 829.33794 \nL 822.38375 829.33794 \nL 822.38375 748.93076 \nL 814.335673 748.93076 \nz\n\" clip-path=\"url(#p9e88aa34a5)\" style=\"fill: #581845; stroke: #ffffff; stroke-linejoin: miter\"/>\n   </g>\n   <g id=\"patch_208\">\n    <path d=\"M 830.431827 228.323454 \nL 838.479904 228.323454 \nL 838.479904 170.719337 \nL 830.431827 170.719337 \nz\n\" clip-path=\"url(#p9e88aa34a5)\" style=\"fill: #581845; stroke: #ffffff; stroke-linejoin: miter\"/>\n   </g>\n   <g id=\"patch_209\">\n    <path d=\"M 846.527981 189.266323 \nL 854.576058 189.266323 \nL 854.576058 174.024797 \nL 846.527981 174.024797 \nz\n\" clip-path=\"url(#p9e88aa34a5)\" style=\"fill: #581845; stroke: #ffffff; stroke-linejoin: miter\"/>\n   </g>\n   <g id=\"patch_210\">\n    <path d=\"M 862.624135 301.973082 \nL 870.672212 301.973082 \nL 870.672212 183.374422 \nL 862.624135 183.374422 \nz\n\" clip-path=\"url(#p9e88aa34a5)\" style=\"fill: #581845; stroke: #ffffff; stroke-linejoin: miter\"/>\n   </g>\n   <g id=\"patch_211\">\n    <path d=\"M 41.720288 195.116478 \nL 49.768365 195.116478 \nL 49.768365 141.073294 \nL 41.720288 141.073294 \nz\n\" clip-path=\"url(#p9e88aa34a5)\" style=\"fill: #ffc300; stroke: #ffffff; stroke-linejoin: miter\"/>\n   </g>\n   <g id=\"patch_212\">\n    <path d=\"M 57.816442 427.171818 \nL 65.864519 427.171818 \nL 65.864519 149.023567 \nL 57.816442 149.023567 \nz\n\" clip-path=\"url(#p9e88aa34a5)\" style=\"fill: #ffc300; stroke: #ffffff; stroke-linejoin: miter\"/>\n   </g>\n   <g id=\"patch_213\">\n    <path d=\"M 73.912596 155.252259 \nL 81.960673 155.252259 \nL 81.960673 143.962152 \nL 73.912596 143.962152 \nz\n\" clip-path=\"url(#p9e88aa34a5)\" style=\"fill: #ffc300; stroke: #ffffff; stroke-linejoin: miter\"/>\n   </g>\n   <g id=\"patch_214\">\n    <path d=\"M 90.00875 251.81052 \nL 98.056827 251.81052 \nL 98.056827 151.091067 \nL 90.00875 151.091067 \nz\n\" clip-path=\"url(#p9e88aa34a5)\" style=\"fill: #ffc300; stroke: #ffffff; stroke-linejoin: miter\"/>\n   </g>\n   <g id=\"patch_215\">\n    <path d=\"M 106.104904 272.94428 \nL 114.152981 272.94428 \nL 114.152981 137.283321 \nL 106.104904 137.283321 \nz\n\" clip-path=\"url(#p9e88aa34a5)\" style=\"fill: #ffc300; stroke: #ffffff; stroke-linejoin: miter\"/>\n   </g>\n   <g id=\"patch_216\">\n    <path d=\"M 122.201058 222.903431 \nL 130.249135 222.903431 \nL 130.249135 143.860619 \nL 122.201058 143.860619 \nz\n\" clip-path=\"url(#p9e88aa34a5)\" style=\"fill: #ffc300; stroke: #ffffff; stroke-linejoin: miter\"/>\n   </g>\n   <g id=\"patch_217\">\n    <path d=\"M 138.297212 241.703359 \nL 146.345288 241.703359 \nL 146.345288 190.477167 \nL 138.297212 190.477167 \nz\n\" clip-path=\"url(#p9e88aa34a5)\" style=\"fill: #ffc300; stroke: #ffffff; stroke-linejoin: miter\"/>\n   </g>\n   <g id=\"patch_218\">\n    <path d=\"M 154.393365 323.732691 \nL 162.441442 323.732691 \nL 162.441442 140.329752 \nL 154.393365 140.329752 \nz\n\" clip-path=\"url(#p9e88aa34a5)\" style=\"fill: #ffc300; stroke: #ffffff; stroke-linejoin: miter\"/>\n   </g>\n   <g id=\"patch_219\">\n    <path d=\"M 170.489519 185.168632 \nL 178.537596 185.168632 \nL 178.537596 143.677697 \nL 170.489519 143.677697 \nz\n\" clip-path=\"url(#p9e88aa34a5)\" style=\"fill: #ffc300; stroke: #ffffff; stroke-linejoin: miter\"/>\n   </g>\n   <g id=\"patch_220\">\n    <path d=\"M 186.585673 173.125608 \nL 194.63375 173.125608 \nL 194.63375 144.749244 \nL 186.585673 144.749244 \nz\n\" clip-path=\"url(#p9e88aa34a5)\" style=\"fill: #ffc300; stroke: #ffffff; stroke-linejoin: miter\"/>\n   </g>\n   <g id=\"patch_221\">\n    <path d=\"M 202.681827 156.938933 \nL 210.729904 156.938933 \nL 210.729904 144.657695 \nL 202.681827 144.657695 \nz\n\" clip-path=\"url(#p9e88aa34a5)\" style=\"fill: #ffc300; stroke: #ffffff; stroke-linejoin: miter\"/>\n   </g>\n   <g id=\"patch_222\">\n    <path d=\"M 218.777981 211.764698 \nL 226.826058 211.764698 \nL 226.826058 143.223136 \nL 218.777981 143.223136 \nz\n\" clip-path=\"url(#p9e88aa34a5)\" style=\"fill: #ffc300; stroke: #ffffff; stroke-linejoin: miter\"/>\n   </g>\n   <g id=\"patch_223\">\n    <path d=\"M 234.874135 171.916309 \nL 242.922212 171.916309 \nL 242.922212 140.950491 \nL 234.874135 140.950491 \nz\n\" clip-path=\"url(#p9e88aa34a5)\" style=\"fill: #ffc300; stroke: #ffffff; stroke-linejoin: miter\"/>\n   </g>\n   <g id=\"patch_224\">\n    <path d=\"M 250.970288 170.000273 \nL 259.018365 170.000273 \nL 259.018365 142.283336 \nL 250.970288 142.283336 \nz\n\" clip-path=\"url(#p9e88aa34a5)\" style=\"fill: #ffc300; stroke: #ffffff; stroke-linejoin: miter\"/>\n   </g>\n   <g id=\"patch_225\">\n    <path d=\"M 267.066442 252.533879 \nL 275.114519 252.533879 \nL 275.114519 158.44102 \nL 267.066442 158.44102 \nz\n\" clip-path=\"url(#p9e88aa34a5)\" style=\"fill: #ffc300; stroke: #ffffff; stroke-linejoin: miter\"/>\n   </g>\n   <g id=\"patch_226\">\n    <path d=\"M 283.162596 215.934482 \nL 291.210673 215.934482 \nL 291.210673 143.901 \nL 283.162596 143.901 \nz\n\" clip-path=\"url(#p9e88aa34a5)\" style=\"fill: #ffc300; stroke: #ffffff; stroke-linejoin: miter\"/>\n   </g>\n   <g id=\"patch_227\">\n    <path d=\"M 299.25875 366.793592 \nL 307.306827 366.793592 \nL 307.306827 142.575644 \nL 299.25875 142.575644 \nz\n\" clip-path=\"url(#p9e88aa34a5)\" style=\"fill: #ffc300; stroke: #ffffff; stroke-linejoin: miter\"/>\n   </g>\n   <g id=\"patch_228\">\n    <path d=\"M 315.354904 178.593327 \nL 323.402981 178.593327 \nL 323.402981 141.469792 \nL 315.354904 141.469792 \nz\n\" clip-path=\"url(#p9e88aa34a5)\" style=\"fill: #ffc300; stroke: #ffffff; stroke-linejoin: miter\"/>\n   </g>\n   <g id=\"patch_229\">\n    <path d=\"M 331.451058 195.137106 \nL 339.499135 195.137106 \nL 339.499135 144.618782 \nL 331.451058 144.618782 \nz\n\" clip-path=\"url(#p9e88aa34a5)\" style=\"fill: #ffc300; stroke: #ffffff; stroke-linejoin: miter\"/>\n   </g>\n   <g id=\"patch_230\">\n    <path d=\"M 347.547212 235.870094 \nL 355.595288 235.870094 \nL 355.595288 145.439633 \nL 347.547212 145.439633 \nz\n\" clip-path=\"url(#p9e88aa34a5)\" style=\"fill: #ffc300; stroke: #ffffff; stroke-linejoin: miter\"/>\n   </g>\n   <g id=\"patch_231\">\n    <path d=\"M 363.643365 258.413645 \nL 371.691442 258.413645 \nL 371.691442 141.395144 \nL 363.643365 141.395144 \nz\n\" clip-path=\"url(#p9e88aa34a5)\" style=\"fill: #ffc300; stroke: #ffffff; stroke-linejoin: miter\"/>\n   </g>\n   <g id=\"patch_232\">\n    <path d=\"M 379.739519 402.330763 \nL 387.787596 402.330763 \nL 387.787596 325.887117 \nL 379.739519 325.887117 \nz\n\" clip-path=\"url(#p9e88aa34a5)\" style=\"fill: #ffc300; stroke: #ffffff; stroke-linejoin: miter\"/>\n   </g>\n   <g id=\"patch_233\">\n    <path d=\"M 395.835673 263.714194 \nL 403.88375 263.714194 \nL 403.88375 141.133916 \nL 395.835673 141.133916 \nz\n\" clip-path=\"url(#p9e88aa34a5)\" style=\"fill: #ffc300; stroke: #ffffff; stroke-linejoin: miter\"/>\n   </g>\n   <g id=\"patch_234\">\n    <path d=\"M 411.931827 232.301661 \nL 419.979904 232.301661 \nL 419.979904 146.567908 \nL 411.931827 146.567908 \nz\n\" clip-path=\"url(#p9e88aa34a5)\" style=\"fill: #ffc300; stroke: #ffffff; stroke-linejoin: miter\"/>\n   </g>\n   <g id=\"patch_235\">\n    <path d=\"M 428.027981 419.652557 \nL 436.076058 419.652557 \nL 436.076058 139.013325 \nL 428.027981 139.013325 \nz\n\" clip-path=\"url(#p9e88aa34a5)\" style=\"fill: #ffc300; stroke: #ffffff; stroke-linejoin: miter\"/>\n   </g>\n   <g id=\"patch_236\">\n    <path d=\"M 444.124135 176.068136 \nL 452.172212 176.068136 \nL 452.172212 148.255042 \nL 444.124135 148.255042 \nz\n\" clip-path=\"url(#p9e88aa34a5)\" style=\"fill: #ffc300; stroke: #ffffff; stroke-linejoin: miter\"/>\n   </g>\n   <g id=\"patch_237\">\n    <path d=\"M 460.220288 223.42351 \nL 468.268365 223.42351 \nL 468.268365 143.922928 \nL 460.220288 143.922928 \nz\n\" clip-path=\"url(#p9e88aa34a5)\" style=\"fill: #ffc300; stroke: #ffffff; stroke-linejoin: miter\"/>\n   </g>\n   <g id=\"patch_238\">\n    <path d=\"M 476.316442 176.161543 \nL 484.364519 176.161543 \nL 484.364519 148.131244 \nL 476.316442 148.131244 \nz\n\" clip-path=\"url(#p9e88aa34a5)\" style=\"fill: #ffc300; stroke: #ffffff; stroke-linejoin: miter\"/>\n   </g>\n   <g id=\"patch_239\">\n    <path d=\"M 492.412596 299.537122 \nL 500.460673 299.537122 \nL 500.460673 145.447888 \nL 492.412596 145.447888 \nz\n\" clip-path=\"url(#p9e88aa34a5)\" style=\"fill: #ffc300; stroke: #ffffff; stroke-linejoin: miter\"/>\n   </g>\n   <g id=\"patch_240\">\n    <path d=\"M 508.50875 283.96314 \nL 516.556827 283.96314 \nL 516.556827 138.614144 \nL 508.50875 138.614144 \nz\n\" clip-path=\"url(#p9e88aa34a5)\" style=\"fill: #ffc300; stroke: #ffffff; stroke-linejoin: miter\"/>\n   </g>\n   <g id=\"patch_241\">\n    <path d=\"M 524.604904 222.220769 \nL 532.652981 222.220769 \nL 532.652981 149.222533 \nL 524.604904 149.222533 \nz\n\" clip-path=\"url(#p9e88aa34a5)\" style=\"fill: #ffc300; stroke: #ffffff; stroke-linejoin: miter\"/>\n   </g>\n   <g id=\"patch_242\">\n    <path d=\"M 540.701058 218.111744 \nL 548.749135 218.111744 \nL 548.749135 150.317085 \nL 540.701058 150.317085 \nz\n\" clip-path=\"url(#p9e88aa34a5)\" style=\"fill: #ffc300; stroke: #ffffff; stroke-linejoin: miter\"/>\n   </g>\n   <g id=\"patch_243\">\n    <path d=\"M 556.797212 158.922781 \nL 564.845288 158.922781 \nL 564.845288 144.656578 \nL 556.797212 144.656578 \nz\n\" clip-path=\"url(#p9e88aa34a5)\" style=\"fill: #ffc300; stroke: #ffffff; stroke-linejoin: miter\"/>\n   </g>\n   <g id=\"patch_244\">\n    <path d=\"M 572.893365 211.955269 \nL 580.941442 211.955269 \nL 580.941442 144.06105 \nL 572.893365 144.06105 \nz\n\" clip-path=\"url(#p9e88aa34a5)\" style=\"fill: #ffc300; stroke: #ffffff; stroke-linejoin: miter\"/>\n   </g>\n   <g id=\"patch_245\">\n    <path d=\"M 588.989519 206.091906 \nL 597.037596 206.091906 \nL 597.037596 151.843787 \nL 588.989519 151.843787 \nz\n\" clip-path=\"url(#p9e88aa34a5)\" style=\"fill: #ffc300; stroke: #ffffff; stroke-linejoin: miter\"/>\n   </g>\n   <g id=\"patch_246\">\n    <path d=\"M 605.085673 259.832887 \nL 613.13375 259.832887 \nL 613.13375 167.816583 \nL 605.085673 167.816583 \nz\n\" clip-path=\"url(#p9e88aa34a5)\" style=\"fill: #ffc300; stroke: #ffffff; stroke-linejoin: miter\"/>\n   </g>\n   <g id=\"patch_247\">\n    <path d=\"M 621.181827 235.592832 \nL 629.229904 235.592832 \nL 629.229904 149.698943 \nL 621.181827 149.698943 \nz\n\" clip-path=\"url(#p9e88aa34a5)\" style=\"fill: #ffc300; stroke: #ffffff; stroke-linejoin: miter\"/>\n   </g>\n   <g id=\"patch_248\">\n    <path d=\"M 637.277981 254.74204 \nL 645.326058 254.74204 \nL 645.326058 177.006888 \nL 637.277981 177.006888 \nz\n\" clip-path=\"url(#p9e88aa34a5)\" style=\"fill: #ffc300; stroke: #ffffff; stroke-linejoin: miter\"/>\n   </g>\n   <g id=\"patch_249\">\n    <path d=\"M 653.374135 194.16258 \nL 661.422212 194.16258 \nL 661.422212 144.137369 \nL 653.374135 144.137369 \nz\n\" clip-path=\"url(#p9e88aa34a5)\" style=\"fill: #ffc300; stroke: #ffffff; stroke-linejoin: miter\"/>\n   </g>\n   <g id=\"patch_250\">\n    <path d=\"M 669.470288 159.161736 \nL 677.518365 159.161736 \nL 677.518365 136.649633 \nL 669.470288 136.649633 \nz\n\" clip-path=\"url(#p9e88aa34a5)\" style=\"fill: #ffc300; stroke: #ffffff; stroke-linejoin: miter\"/>\n   </g>\n   <g id=\"patch_251\">\n    <path d=\"M 685.566442 179.677372 \nL 693.614519 179.677372 \nL 693.614519 149.158385 \nL 685.566442 149.158385 \nz\n\" clip-path=\"url(#p9e88aa34a5)\" style=\"fill: #ffc300; stroke: #ffffff; stroke-linejoin: miter\"/>\n   </g>\n   <g id=\"patch_252\">\n    <path d=\"M 701.662596 185.641662 \nL 709.710673 185.641662 \nL 709.710673 148.459367 \nL 701.662596 148.459367 \nz\n\" clip-path=\"url(#p9e88aa34a5)\" style=\"fill: #ffc300; stroke: #ffffff; stroke-linejoin: miter\"/>\n   </g>\n   <g id=\"patch_253\">\n    <path d=\"M 717.75875 256.426746 \nL 725.806827 256.426746 \nL 725.806827 143.41613 \nL 717.75875 143.41613 \nz\n\" clip-path=\"url(#p9e88aa34a5)\" style=\"fill: #ffc300; stroke: #ffffff; stroke-linejoin: miter\"/>\n   </g>\n   <g id=\"patch_254\">\n    <path d=\"M 733.854904 189.278334 \nL 741.902981 189.278334 \nL 741.902981 150.186512 \nL 733.854904 150.186512 \nz\n\" clip-path=\"url(#p9e88aa34a5)\" style=\"fill: #ffc300; stroke: #ffffff; stroke-linejoin: miter\"/>\n   </g>\n   <g id=\"patch_255\">\n    <path d=\"M 749.951058 187.170849 \nL 757.999135 187.170849 \nL 757.999135 143.257715 \nL 749.951058 143.257715 \nz\n\" clip-path=\"url(#p9e88aa34a5)\" style=\"fill: #ffc300; stroke: #ffffff; stroke-linejoin: miter\"/>\n   </g>\n   <g id=\"patch_256\">\n    <path d=\"M 766.047212 485.42071 \nL 774.095288 485.42071 \nL 774.095288 135.328618 \nL 766.047212 135.328618 \nz\n\" clip-path=\"url(#p9e88aa34a5)\" style=\"fill: #ffc300; stroke: #ffffff; stroke-linejoin: miter\"/>\n   </g>\n   <g id=\"patch_257\">\n    <path d=\"M 782.143365 361.457771 \nL 790.191442 361.457771 \nL 790.191442 155.813955 \nL 782.143365 155.813955 \nz\n\" clip-path=\"url(#p9e88aa34a5)\" style=\"fill: #ffc300; stroke: #ffffff; stroke-linejoin: miter\"/>\n   </g>\n   <g id=\"patch_258\">\n    <path d=\"M 798.239519 213.709334 \nL 806.287596 213.709334 \nL 806.287596 146.539877 \nL 798.239519 146.539877 \nz\n\" clip-path=\"url(#p9e88aa34a5)\" style=\"fill: #ffc300; stroke: #ffffff; stroke-linejoin: miter\"/>\n   </g>\n   <g id=\"patch_259\">\n    <path d=\"M 814.335673 748.93076 \nL 822.38375 748.93076 \nL 822.38375 46.8 \nL 814.335673 46.8 \nz\n\" clip-path=\"url(#p9e88aa34a5)\" style=\"fill: #ffc300; stroke: #ffffff; stroke-linejoin: miter\"/>\n   </g>\n   <g id=\"patch_260\">\n    <path d=\"M 830.431827 170.719337 \nL 838.479904 170.719337 \nL 838.479904 143.937082 \nL 830.431827 143.937082 \nz\n\" clip-path=\"url(#p9e88aa34a5)\" style=\"fill: #ffc300; stroke: #ffffff; stroke-linejoin: miter\"/>\n   </g>\n   <g id=\"patch_261\">\n    <path d=\"M 846.527981 174.024797 \nL 854.576058 174.024797 \nL 854.576058 144.823472 \nL 846.527981 144.823472 \nz\n\" clip-path=\"url(#p9e88aa34a5)\" style=\"fill: #ffc300; stroke: #ffffff; stroke-linejoin: miter\"/>\n   </g>\n   <g id=\"patch_262\">\n    <path d=\"M 862.624135 183.374422 \nL 870.672212 183.374422 \nL 870.672212 143.747677 \nL 862.624135 143.747677 \nz\n\" clip-path=\"url(#p9e88aa34a5)\" style=\"fill: #ffc300; stroke: #ffffff; stroke-linejoin: miter\"/>\n   </g>\n   <g id=\"patch_263\">\n    <path d=\"M 41.720288 141.073294 \nL 49.768365 141.073294 \nL 49.768365 127.26772 \nL 41.720288 127.26772 \nz\n\" clip-path=\"url(#p9e88aa34a5)\" style=\"fill: #daf7a6; stroke: #ffffff; stroke-linejoin: miter\"/>\n   </g>\n   <g id=\"patch_264\">\n    <path d=\"M 57.816442 149.023567 \nL 65.864519 149.023567 \nL 65.864519 127.26772 \nL 57.816442 127.26772 \nz\n\" clip-path=\"url(#p9e88aa34a5)\" style=\"fill: #daf7a6; stroke: #ffffff; stroke-linejoin: miter\"/>\n   </g>\n   <g id=\"patch_265\">\n    <path d=\"M 73.912596 143.962152 \nL 81.960673 143.962152 \nL 81.960673 127.26772 \nL 73.912596 127.26772 \nz\n\" clip-path=\"url(#p9e88aa34a5)\" style=\"fill: #daf7a6; stroke: #ffffff; stroke-linejoin: miter\"/>\n   </g>\n   <g id=\"patch_266\">\n    <path d=\"M 90.00875 151.091067 \nL 98.056827 151.091067 \nL 98.056827 127.26772 \nL 90.00875 127.26772 \nz\n\" clip-path=\"url(#p9e88aa34a5)\" style=\"fill: #daf7a6; stroke: #ffffff; stroke-linejoin: miter\"/>\n   </g>\n   <g id=\"patch_267\">\n    <path d=\"M 106.104904 137.283321 \nL 114.152981 137.283321 \nL 114.152981 127.26772 \nL 106.104904 127.26772 \nz\n\" clip-path=\"url(#p9e88aa34a5)\" style=\"fill: #daf7a6; stroke: #ffffff; stroke-linejoin: miter\"/>\n   </g>\n   <g id=\"patch_268\">\n    <path d=\"M 122.201058 143.860619 \nL 130.249135 143.860619 \nL 130.249135 127.26772 \nL 122.201058 127.26772 \nz\n\" clip-path=\"url(#p9e88aa34a5)\" style=\"fill: #daf7a6; stroke: #ffffff; stroke-linejoin: miter\"/>\n   </g>\n   <g id=\"patch_269\">\n    <path d=\"M 138.297212 190.477167 \nL 146.345288 190.477167 \nL 146.345288 127.26772 \nL 138.297212 127.26772 \nz\n\" clip-path=\"url(#p9e88aa34a5)\" style=\"fill: #daf7a6; stroke: #ffffff; stroke-linejoin: miter\"/>\n   </g>\n   <g id=\"patch_270\">\n    <path d=\"M 154.393365 140.329752 \nL 162.441442 140.329752 \nL 162.441442 127.26772 \nL 154.393365 127.26772 \nz\n\" clip-path=\"url(#p9e88aa34a5)\" style=\"fill: #daf7a6; stroke: #ffffff; stroke-linejoin: miter\"/>\n   </g>\n   <g id=\"patch_271\">\n    <path d=\"M 170.489519 143.677697 \nL 178.537596 143.677697 \nL 178.537596 127.26772 \nL 170.489519 127.26772 \nz\n\" clip-path=\"url(#p9e88aa34a5)\" style=\"fill: #daf7a6; stroke: #ffffff; stroke-linejoin: miter\"/>\n   </g>\n   <g id=\"patch_272\">\n    <path d=\"M 186.585673 144.749244 \nL 194.63375 144.749244 \nL 194.63375 127.26772 \nL 186.585673 127.26772 \nz\n\" clip-path=\"url(#p9e88aa34a5)\" style=\"fill: #daf7a6; stroke: #ffffff; stroke-linejoin: miter\"/>\n   </g>\n   <g id=\"patch_273\">\n    <path d=\"M 202.681827 144.657695 \nL 210.729904 144.657695 \nL 210.729904 127.26772 \nL 202.681827 127.26772 \nz\n\" clip-path=\"url(#p9e88aa34a5)\" style=\"fill: #daf7a6; stroke: #ffffff; stroke-linejoin: miter\"/>\n   </g>\n   <g id=\"patch_274\">\n    <path d=\"M 218.777981 143.223136 \nL 226.826058 143.223136 \nL 226.826058 127.26772 \nL 218.777981 127.26772 \nz\n\" clip-path=\"url(#p9e88aa34a5)\" style=\"fill: #daf7a6; stroke: #ffffff; stroke-linejoin: miter\"/>\n   </g>\n   <g id=\"patch_275\">\n    <path d=\"M 234.874135 140.950491 \nL 242.922212 140.950491 \nL 242.922212 127.26772 \nL 234.874135 127.26772 \nz\n\" clip-path=\"url(#p9e88aa34a5)\" style=\"fill: #daf7a6; stroke: #ffffff; stroke-linejoin: miter\"/>\n   </g>\n   <g id=\"patch_276\">\n    <path d=\"M 250.970288 142.283336 \nL 259.018365 142.283336 \nL 259.018365 127.26772 \nL 250.970288 127.26772 \nz\n\" clip-path=\"url(#p9e88aa34a5)\" style=\"fill: #daf7a6; stroke: #ffffff; stroke-linejoin: miter\"/>\n   </g>\n   <g id=\"patch_277\">\n    <path d=\"M 267.066442 158.44102 \nL 275.114519 158.44102 \nL 275.114519 127.26772 \nL 267.066442 127.26772 \nz\n\" clip-path=\"url(#p9e88aa34a5)\" style=\"fill: #daf7a6; stroke: #ffffff; stroke-linejoin: miter\"/>\n   </g>\n   <g id=\"patch_278\">\n    <path d=\"M 283.162596 143.901 \nL 291.210673 143.901 \nL 291.210673 127.26772 \nL 283.162596 127.26772 \nz\n\" clip-path=\"url(#p9e88aa34a5)\" style=\"fill: #daf7a6; stroke: #ffffff; stroke-linejoin: miter\"/>\n   </g>\n   <g id=\"patch_279\">\n    <path d=\"M 299.25875 142.575644 \nL 307.306827 142.575644 \nL 307.306827 127.26772 \nL 299.25875 127.26772 \nz\n\" clip-path=\"url(#p9e88aa34a5)\" style=\"fill: #daf7a6; stroke: #ffffff; stroke-linejoin: miter\"/>\n   </g>\n   <g id=\"patch_280\">\n    <path d=\"M 315.354904 141.469792 \nL 323.402981 141.469792 \nL 323.402981 127.26772 \nL 315.354904 127.26772 \nz\n\" clip-path=\"url(#p9e88aa34a5)\" style=\"fill: #daf7a6; stroke: #ffffff; stroke-linejoin: miter\"/>\n   </g>\n   <g id=\"patch_281\">\n    <path d=\"M 331.451058 144.618782 \nL 339.499135 144.618782 \nL 339.499135 127.26772 \nL 331.451058 127.26772 \nz\n\" clip-path=\"url(#p9e88aa34a5)\" style=\"fill: #daf7a6; stroke: #ffffff; stroke-linejoin: miter\"/>\n   </g>\n   <g id=\"patch_282\">\n    <path d=\"M 347.547212 145.439633 \nL 355.595288 145.439633 \nL 355.595288 127.26772 \nL 347.547212 127.26772 \nz\n\" clip-path=\"url(#p9e88aa34a5)\" style=\"fill: #daf7a6; stroke: #ffffff; stroke-linejoin: miter\"/>\n   </g>\n   <g id=\"patch_283\">\n    <path d=\"M 363.643365 141.395144 \nL 371.691442 141.395144 \nL 371.691442 127.26772 \nL 363.643365 127.26772 \nz\n\" clip-path=\"url(#p9e88aa34a5)\" style=\"fill: #daf7a6; stroke: #ffffff; stroke-linejoin: miter\"/>\n   </g>\n   <g id=\"patch_284\">\n    <path d=\"M 379.739519 325.887117 \nL 387.787596 325.887117 \nL 387.787596 127.26772 \nL 379.739519 127.26772 \nz\n\" clip-path=\"url(#p9e88aa34a5)\" style=\"fill: #daf7a6; stroke: #ffffff; stroke-linejoin: miter\"/>\n   </g>\n   <g id=\"patch_285\">\n    <path d=\"M 395.835673 141.133916 \nL 403.88375 141.133916 \nL 403.88375 127.26772 \nL 395.835673 127.26772 \nz\n\" clip-path=\"url(#p9e88aa34a5)\" style=\"fill: #daf7a6; stroke: #ffffff; stroke-linejoin: miter\"/>\n   </g>\n   <g id=\"patch_286\">\n    <path d=\"M 411.931827 146.567908 \nL 419.979904 146.567908 \nL 419.979904 127.26772 \nL 411.931827 127.26772 \nz\n\" clip-path=\"url(#p9e88aa34a5)\" style=\"fill: #daf7a6; stroke: #ffffff; stroke-linejoin: miter\"/>\n   </g>\n   <g id=\"patch_287\">\n    <path d=\"M 428.027981 139.013325 \nL 436.076058 139.013325 \nL 436.076058 127.26772 \nL 428.027981 127.26772 \nz\n\" clip-path=\"url(#p9e88aa34a5)\" style=\"fill: #daf7a6; stroke: #ffffff; stroke-linejoin: miter\"/>\n   </g>\n   <g id=\"patch_288\">\n    <path d=\"M 444.124135 148.255042 \nL 452.172212 148.255042 \nL 452.172212 127.26772 \nL 444.124135 127.26772 \nz\n\" clip-path=\"url(#p9e88aa34a5)\" style=\"fill: #daf7a6; stroke: #ffffff; stroke-linejoin: miter\"/>\n   </g>\n   <g id=\"patch_289\">\n    <path d=\"M 460.220288 143.922928 \nL 468.268365 143.922928 \nL 468.268365 127.26772 \nL 460.220288 127.26772 \nz\n\" clip-path=\"url(#p9e88aa34a5)\" style=\"fill: #daf7a6; stroke: #ffffff; stroke-linejoin: miter\"/>\n   </g>\n   <g id=\"patch_290\">\n    <path d=\"M 476.316442 148.131244 \nL 484.364519 148.131244 \nL 484.364519 127.26772 \nL 476.316442 127.26772 \nz\n\" clip-path=\"url(#p9e88aa34a5)\" style=\"fill: #daf7a6; stroke: #ffffff; stroke-linejoin: miter\"/>\n   </g>\n   <g id=\"patch_291\">\n    <path d=\"M 492.412596 145.447888 \nL 500.460673 145.447888 \nL 500.460673 127.26772 \nL 492.412596 127.26772 \nz\n\" clip-path=\"url(#p9e88aa34a5)\" style=\"fill: #daf7a6; stroke: #ffffff; stroke-linejoin: miter\"/>\n   </g>\n   <g id=\"patch_292\">\n    <path d=\"M 508.50875 138.614144 \nL 516.556827 138.614144 \nL 516.556827 127.26772 \nL 508.50875 127.26772 \nz\n\" clip-path=\"url(#p9e88aa34a5)\" style=\"fill: #daf7a6; stroke: #ffffff; stroke-linejoin: miter\"/>\n   </g>\n   <g id=\"patch_293\">\n    <path d=\"M 524.604904 149.222533 \nL 532.652981 149.222533 \nL 532.652981 127.26772 \nL 524.604904 127.26772 \nz\n\" clip-path=\"url(#p9e88aa34a5)\" style=\"fill: #daf7a6; stroke: #ffffff; stroke-linejoin: miter\"/>\n   </g>\n   <g id=\"patch_294\">\n    <path d=\"M 540.701058 150.317085 \nL 548.749135 150.317085 \nL 548.749135 127.26772 \nL 540.701058 127.26772 \nz\n\" clip-path=\"url(#p9e88aa34a5)\" style=\"fill: #daf7a6; stroke: #ffffff; stroke-linejoin: miter\"/>\n   </g>\n   <g id=\"patch_295\">\n    <path d=\"M 556.797212 144.656578 \nL 564.845288 144.656578 \nL 564.845288 127.26772 \nL 556.797212 127.26772 \nz\n\" clip-path=\"url(#p9e88aa34a5)\" style=\"fill: #daf7a6; stroke: #ffffff; stroke-linejoin: miter\"/>\n   </g>\n   <g id=\"patch_296\">\n    <path d=\"M 572.893365 144.06105 \nL 580.941442 144.06105 \nL 580.941442 127.26772 \nL 572.893365 127.26772 \nz\n\" clip-path=\"url(#p9e88aa34a5)\" style=\"fill: #daf7a6; stroke: #ffffff; stroke-linejoin: miter\"/>\n   </g>\n   <g id=\"patch_297\">\n    <path d=\"M 588.989519 151.843787 \nL 597.037596 151.843787 \nL 597.037596 127.26772 \nL 588.989519 127.26772 \nz\n\" clip-path=\"url(#p9e88aa34a5)\" style=\"fill: #daf7a6; stroke: #ffffff; stroke-linejoin: miter\"/>\n   </g>\n   <g id=\"patch_298\">\n    <path d=\"M 605.085673 167.816583 \nL 613.13375 167.816583 \nL 613.13375 127.26772 \nL 605.085673 127.26772 \nz\n\" clip-path=\"url(#p9e88aa34a5)\" style=\"fill: #daf7a6; stroke: #ffffff; stroke-linejoin: miter\"/>\n   </g>\n   <g id=\"patch_299\">\n    <path d=\"M 621.181827 149.698943 \nL 629.229904 149.698943 \nL 629.229904 127.26772 \nL 621.181827 127.26772 \nz\n\" clip-path=\"url(#p9e88aa34a5)\" style=\"fill: #daf7a6; stroke: #ffffff; stroke-linejoin: miter\"/>\n   </g>\n   <g id=\"patch_300\">\n    <path d=\"M 637.277981 177.006888 \nL 645.326058 177.006888 \nL 645.326058 127.26772 \nL 637.277981 127.26772 \nz\n\" clip-path=\"url(#p9e88aa34a5)\" style=\"fill: #daf7a6; stroke: #ffffff; stroke-linejoin: miter\"/>\n   </g>\n   <g id=\"patch_301\">\n    <path d=\"M 653.374135 144.137369 \nL 661.422212 144.137369 \nL 661.422212 127.26772 \nL 653.374135 127.26772 \nz\n\" clip-path=\"url(#p9e88aa34a5)\" style=\"fill: #daf7a6; stroke: #ffffff; stroke-linejoin: miter\"/>\n   </g>\n   <g id=\"patch_302\">\n    <path d=\"M 669.470288 136.649633 \nL 677.518365 136.649633 \nL 677.518365 127.26772 \nL 669.470288 127.26772 \nz\n\" clip-path=\"url(#p9e88aa34a5)\" style=\"fill: #daf7a6; stroke: #ffffff; stroke-linejoin: miter\"/>\n   </g>\n   <g id=\"patch_303\">\n    <path d=\"M 685.566442 149.158385 \nL 693.614519 149.158385 \nL 693.614519 127.26772 \nL 685.566442 127.26772 \nz\n\" clip-path=\"url(#p9e88aa34a5)\" style=\"fill: #daf7a6; stroke: #ffffff; stroke-linejoin: miter\"/>\n   </g>\n   <g id=\"patch_304\">\n    <path d=\"M 701.662596 148.459367 \nL 709.710673 148.459367 \nL 709.710673 127.26772 \nL 701.662596 127.26772 \nz\n\" clip-path=\"url(#p9e88aa34a5)\" style=\"fill: #daf7a6; stroke: #ffffff; stroke-linejoin: miter\"/>\n   </g>\n   <g id=\"patch_305\">\n    <path d=\"M 717.75875 143.41613 \nL 725.806827 143.41613 \nL 725.806827 127.26772 \nL 717.75875 127.26772 \nz\n\" clip-path=\"url(#p9e88aa34a5)\" style=\"fill: #daf7a6; stroke: #ffffff; stroke-linejoin: miter\"/>\n   </g>\n   <g id=\"patch_306\">\n    <path d=\"M 733.854904 150.186512 \nL 741.902981 150.186512 \nL 741.902981 127.26772 \nL 733.854904 127.26772 \nz\n\" clip-path=\"url(#p9e88aa34a5)\" style=\"fill: #daf7a6; stroke: #ffffff; stroke-linejoin: miter\"/>\n   </g>\n   <g id=\"patch_307\">\n    <path d=\"M 749.951058 143.257715 \nL 757.999135 143.257715 \nL 757.999135 127.26772 \nL 749.951058 127.26772 \nz\n\" clip-path=\"url(#p9e88aa34a5)\" style=\"fill: #daf7a6; stroke: #ffffff; stroke-linejoin: miter\"/>\n   </g>\n   <g id=\"patch_308\">\n    <path d=\"M 766.047212 135.328618 \nL 774.095288 135.328618 \nL 774.095288 127.26772 \nL 766.047212 127.26772 \nz\n\" clip-path=\"url(#p9e88aa34a5)\" style=\"fill: #daf7a6; stroke: #ffffff; stroke-linejoin: miter\"/>\n   </g>\n   <g id=\"patch_309\">\n    <path d=\"M 782.143365 155.813955 \nL 790.191442 155.813955 \nL 790.191442 127.26772 \nL 782.143365 127.26772 \nz\n\" clip-path=\"url(#p9e88aa34a5)\" style=\"fill: #daf7a6; stroke: #ffffff; stroke-linejoin: miter\"/>\n   </g>\n   <g id=\"patch_310\">\n    <path d=\"M 798.239519 146.539877 \nL 806.287596 146.539877 \nL 806.287596 127.26772 \nL 798.239519 127.26772 \nz\n\" clip-path=\"url(#p9e88aa34a5)\" style=\"fill: #daf7a6; stroke: #ffffff; stroke-linejoin: miter\"/>\n   </g>\n   <g id=\"patch_311\">\n    <path d=\"M 814.335673 838.8 \nL 822.38375 838.8 \nL 822.38375 838.8 \nL 814.335673 838.8 \nz\n\" clip-path=\"url(#p9e88aa34a5)\" style=\"fill: #daf7a6; stroke: #ffffff; stroke-linejoin: miter\"/>\n   </g>\n   <g id=\"patch_312\">\n    <path d=\"M 830.431827 143.937082 \nL 838.479904 143.937082 \nL 838.479904 127.26772 \nL 830.431827 127.26772 \nz\n\" clip-path=\"url(#p9e88aa34a5)\" style=\"fill: #daf7a6; stroke: #ffffff; stroke-linejoin: miter\"/>\n   </g>\n   <g id=\"patch_313\">\n    <path d=\"M 846.527981 144.823472 \nL 854.576058 144.823472 \nL 854.576058 127.26772 \nL 846.527981 127.26772 \nz\n\" clip-path=\"url(#p9e88aa34a5)\" style=\"fill: #daf7a6; stroke: #ffffff; stroke-linejoin: miter\"/>\n   </g>\n   <g id=\"patch_314\">\n    <path d=\"M 862.624135 143.747677 \nL 870.672212 143.747677 \nL 870.672212 127.26772 \nL 862.624135 127.26772 \nz\n\" clip-path=\"url(#p9e88aa34a5)\" style=\"fill: #daf7a6; stroke: #ffffff; stroke-linejoin: miter\"/>\n   </g>\n   <g id=\"patch_315\">\n    <path d=\"M 37.69625 838.8 \nL 37.69625 7.2 \n\" style=\"fill: none; stroke: #cccccc; stroke-width: 1.25; stroke-linejoin: miter; stroke-linecap: square\"/>\n   </g>\n   <g id=\"patch_316\">\n    <path d=\"M 874.69625 838.8 \nL 874.69625 7.2 \n\" style=\"fill: none; stroke: #cccccc; stroke-width: 1.25; stroke-linejoin: miter; stroke-linecap: square\"/>\n   </g>\n   <g id=\"patch_317\">\n    <path d=\"M 37.69625 838.8 \nL 874.69625 838.8 \n\" style=\"fill: none; stroke: #cccccc; stroke-width: 1.25; stroke-linejoin: miter; stroke-linecap: square\"/>\n   </g>\n   <g id=\"patch_318\">\n    <path d=\"M 37.69625 7.2 \nL 874.69625 7.2 \n\" style=\"fill: none; stroke: #cccccc; stroke-width: 1.25; stroke-linejoin: miter; stroke-linecap: square\"/>\n   </g>\n   <g id=\"legend_1\">\n    <g id=\"patch_319\">\n     <path d=\"M 45.39625 112.875625 \nL 173.077031 112.875625 \nQ 175.277031 112.875625 175.277031 110.675625 \nL 175.277031 14.9 \nQ 175.277031 12.7 173.077031 12.7 \nL 45.39625 12.7 \nQ 43.19625 12.7 43.19625 14.9 \nL 43.19625 110.675625 \nQ 43.19625 112.875625 45.39625 112.875625 \nz\n\" style=\"fill: #ffffff; opacity: 0.8; stroke: #cccccc; stroke-linejoin: miter\"/>\n    </g>\n    <g id=\"patch_320\">\n     <path d=\"M 47.59625 25.458281 \nL 69.59625 25.458281 \nL 69.59625 17.758281 \nL 47.59625 17.758281 \nz\n\" style=\"fill: #ff5733; stroke: #ffffff; stroke-linejoin: miter\"/>\n    </g>\n    <g id=\"text_60\">\n     <!-- Native percent -->\n     <g style=\"fill: #262626\" transform=\"translate(78.39625 25.458281) scale(0.11 -0.11)\">\n      <use xlink:href=\"#DejaVuSans-4e\"/>\n      <use xlink:href=\"#DejaVuSans-61\" x=\"74.804688\"/>\n      <use xlink:href=\"#DejaVuSans-74\" x=\"136.083984\"/>\n      <use xlink:href=\"#DejaVuSans-69\" x=\"175.292969\"/>\n      <use xlink:href=\"#DejaVuSans-76\" x=\"203.076172\"/>\n      <use xlink:href=\"#DejaVuSans-65\" x=\"262.255859\"/>\n      <use xlink:href=\"#DejaVuSans-20\" x=\"323.779297\"/>\n      <use xlink:href=\"#DejaVuSans-70\" x=\"355.566406\"/>\n      <use xlink:href=\"#DejaVuSans-65\" x=\"419.042969\"/>\n      <use xlink:href=\"#DejaVuSans-72\" x=\"480.566406\"/>\n      <use xlink:href=\"#DejaVuSans-63\" x=\"519.429688\"/>\n      <use xlink:href=\"#DejaVuSans-65\" x=\"574.410156\"/>\n      <use xlink:href=\"#DejaVuSans-6e\" x=\"635.933594\"/>\n      <use xlink:href=\"#DejaVuSans-74\" x=\"699.3125\"/>\n     </g>\n    </g>\n    <g id=\"patch_321\">\n     <path d=\"M 47.59625 41.604219 \nL 69.59625 41.604219 \nL 69.59625 33.904219 \nL 47.59625 33.904219 \nz\n\" style=\"fill: #c70039; stroke: #ffffff; stroke-linejoin: miter\"/>\n    </g>\n    <g id=\"text_61\">\n     <!-- Asian percent -->\n     <g style=\"fill: #262626\" transform=\"translate(78.39625 41.604219) scale(0.11 -0.11)\">\n      <use xlink:href=\"#DejaVuSans-41\"/>\n      <use xlink:href=\"#DejaVuSans-73\" x=\"68.408203\"/>\n      <use xlink:href=\"#DejaVuSans-69\" x=\"120.507812\"/>\n      <use xlink:href=\"#DejaVuSans-61\" x=\"148.291016\"/>\n      <use xlink:href=\"#DejaVuSans-6e\" x=\"209.570312\"/>\n      <use xlink:href=\"#DejaVuSans-20\" x=\"272.949219\"/>\n      <use xlink:href=\"#DejaVuSans-70\" x=\"304.736328\"/>\n      <use xlink:href=\"#DejaVuSans-65\" x=\"368.212891\"/>\n      <use xlink:href=\"#DejaVuSans-72\" x=\"429.736328\"/>\n      <use xlink:href=\"#DejaVuSans-63\" x=\"468.599609\"/>\n      <use xlink:href=\"#DejaVuSans-65\" x=\"523.580078\"/>\n      <use xlink:href=\"#DejaVuSans-6e\" x=\"585.103516\"/>\n      <use xlink:href=\"#DejaVuSans-74\" x=\"648.482422\"/>\n     </g>\n    </g>\n    <g id=\"patch_322\">\n     <path d=\"M 47.59625 57.750156 \nL 69.59625 57.750156 \nL 69.59625 50.050156 \nL 47.59625 50.050156 \nz\n\" style=\"fill: #900c3f; stroke: #ffffff; stroke-linejoin: miter\"/>\n    </g>\n    <g id=\"text_62\">\n     <!-- White percent -->\n     <g style=\"fill: #262626\" transform=\"translate(78.39625 57.750156) scale(0.11 -0.11)\">\n      <use xlink:href=\"#DejaVuSans-57\"/>\n      <use xlink:href=\"#DejaVuSans-68\" x=\"98.876953\"/>\n      <use xlink:href=\"#DejaVuSans-69\" x=\"162.255859\"/>\n      <use xlink:href=\"#DejaVuSans-74\" x=\"190.039062\"/>\n      <use xlink:href=\"#DejaVuSans-65\" x=\"229.248047\"/>\n      <use xlink:href=\"#DejaVuSans-20\" x=\"290.771484\"/>\n      <use xlink:href=\"#DejaVuSans-70\" x=\"322.558594\"/>\n      <use xlink:href=\"#DejaVuSans-65\" x=\"386.035156\"/>\n      <use xlink:href=\"#DejaVuSans-72\" x=\"447.558594\"/>\n      <use xlink:href=\"#DejaVuSans-63\" x=\"486.421875\"/>\n      <use xlink:href=\"#DejaVuSans-65\" x=\"541.402344\"/>\n      <use xlink:href=\"#DejaVuSans-6e\" x=\"602.925781\"/>\n      <use xlink:href=\"#DejaVuSans-74\" x=\"666.304688\"/>\n     </g>\n    </g>\n    <g id=\"patch_323\">\n     <path d=\"M 47.59625 73.896094 \nL 69.59625 73.896094 \nL 69.59625 66.196094 \nL 47.59625 66.196094 \nz\n\" style=\"fill: #581845; stroke: #ffffff; stroke-linejoin: miter\"/>\n    </g>\n    <g id=\"text_63\">\n     <!-- Black percent -->\n     <g style=\"fill: #262626\" transform=\"translate(78.39625 73.896094) scale(0.11 -0.11)\">\n      <defs>\n       <path id=\"DejaVuSans-42\" d=\"M 1259 2228 \nL 1259 519 \nL 2272 519 \nQ 2781 519 3026 730 \nQ 3272 941 3272 1375 \nQ 3272 1813 3026 2020 \nQ 2781 2228 2272 2228 \nL 1259 2228 \nz\nM 1259 4147 \nL 1259 2741 \nL 2194 2741 \nQ 2656 2741 2882 2914 \nQ 3109 3088 3109 3444 \nQ 3109 3797 2882 3972 \nQ 2656 4147 2194 4147 \nL 1259 4147 \nz\nM 628 4666 \nL 2241 4666 \nQ 2963 4666 3353 4366 \nQ 3744 4066 3744 3513 \nQ 3744 3084 3544 2831 \nQ 3344 2578 2956 2516 \nQ 3422 2416 3680 2098 \nQ 3938 1781 3938 1306 \nQ 3938 681 3513 340 \nQ 3088 0 2303 0 \nL 628 0 \nL 628 4666 \nz\n\" transform=\"scale(0.015625)\"/>\n      </defs>\n      <use xlink:href=\"#DejaVuSans-42\"/>\n      <use xlink:href=\"#DejaVuSans-6c\" x=\"68.603516\"/>\n      <use xlink:href=\"#DejaVuSans-61\" x=\"96.386719\"/>\n      <use xlink:href=\"#DejaVuSans-63\" x=\"157.666016\"/>\n      <use xlink:href=\"#DejaVuSans-6b\" x=\"212.646484\"/>\n      <use xlink:href=\"#DejaVuSans-20\" x=\"270.556641\"/>\n      <use xlink:href=\"#DejaVuSans-70\" x=\"302.34375\"/>\n      <use xlink:href=\"#DejaVuSans-65\" x=\"365.820312\"/>\n      <use xlink:href=\"#DejaVuSans-72\" x=\"427.34375\"/>\n      <use xlink:href=\"#DejaVuSans-63\" x=\"466.207031\"/>\n      <use xlink:href=\"#DejaVuSans-65\" x=\"521.1875\"/>\n      <use xlink:href=\"#DejaVuSans-6e\" x=\"582.710938\"/>\n      <use xlink:href=\"#DejaVuSans-74\" x=\"646.089844\"/>\n     </g>\n    </g>\n    <g id=\"patch_324\">\n     <path d=\"M 47.59625 90.042031 \nL 69.59625 90.042031 \nL 69.59625 82.342031 \nL 47.59625 82.342031 \nz\n\" style=\"fill: #ffc300; stroke: #ffffff; stroke-linejoin: miter\"/>\n    </g>\n    <g id=\"text_64\">\n     <!-- Hispanic percent -->\n     <g style=\"fill: #262626\" transform=\"translate(78.39625 90.042031) scale(0.11 -0.11)\">\n      <use xlink:href=\"#DejaVuSans-48\"/>\n      <use xlink:href=\"#DejaVuSans-69\" x=\"75.195312\"/>\n      <use xlink:href=\"#DejaVuSans-73\" x=\"102.978516\"/>\n      <use xlink:href=\"#DejaVuSans-70\" x=\"155.078125\"/>\n      <use xlink:href=\"#DejaVuSans-61\" x=\"218.554688\"/>\n      <use xlink:href=\"#DejaVuSans-6e\" x=\"279.833984\"/>\n      <use xlink:href=\"#DejaVuSans-69\" x=\"343.212891\"/>\n      <use xlink:href=\"#DejaVuSans-63\" x=\"370.996094\"/>\n      <use xlink:href=\"#DejaVuSans-20\" x=\"425.976562\"/>\n      <use xlink:href=\"#DejaVuSans-70\" x=\"457.763672\"/>\n      <use xlink:href=\"#DejaVuSans-65\" x=\"521.240234\"/>\n      <use xlink:href=\"#DejaVuSans-72\" x=\"582.763672\"/>\n      <use xlink:href=\"#DejaVuSans-63\" x=\"621.626953\"/>\n      <use xlink:href=\"#DejaVuSans-65\" x=\"676.607422\"/>\n      <use xlink:href=\"#DejaVuSans-6e\" x=\"738.130859\"/>\n      <use xlink:href=\"#DejaVuSans-74\" x=\"801.509766\"/>\n     </g>\n    </g>\n    <g id=\"patch_325\">\n     <path d=\"M 47.59625 106.187969 \nL 69.59625 106.187969 \nL 69.59625 98.487969 \nL 47.59625 98.487969 \nz\n\" style=\"fill: #daf7a6; stroke: #ffffff; stroke-linejoin: miter\"/>\n    </g>\n    <g id=\"text_65\">\n     <!-- Others percent -->\n     <g style=\"fill: #262626\" transform=\"translate(78.39625 106.187969) scale(0.11 -0.11)\">\n      <use xlink:href=\"#DejaVuSans-4f\"/>\n      <use xlink:href=\"#DejaVuSans-74\" x=\"78.710938\"/>\n      <use xlink:href=\"#DejaVuSans-68\" x=\"117.919922\"/>\n      <use xlink:href=\"#DejaVuSans-65\" x=\"181.298828\"/>\n      <use xlink:href=\"#DejaVuSans-72\" x=\"242.822266\"/>\n      <use xlink:href=\"#DejaVuSans-73\" x=\"283.935547\"/>\n      <use xlink:href=\"#DejaVuSans-20\" x=\"336.035156\"/>\n      <use xlink:href=\"#DejaVuSans-70\" x=\"367.822266\"/>\n      <use xlink:href=\"#DejaVuSans-65\" x=\"431.298828\"/>\n      <use xlink:href=\"#DejaVuSans-72\" x=\"492.822266\"/>\n      <use xlink:href=\"#DejaVuSans-63\" x=\"531.685547\"/>\n      <use xlink:href=\"#DejaVuSans-65\" x=\"586.666016\"/>\n      <use xlink:href=\"#DejaVuSans-6e\" x=\"648.189453\"/>\n      <use xlink:href=\"#DejaVuSans-74\" x=\"711.568359\"/>\n     </g>\n    </g>\n   </g>\n  </g>\n </g>\n <defs>\n  <clipPath id=\"p9e88aa34a5\">\n   <rect x=\"37.69625\" y=\"7.2\" width=\"837\" height=\"831.6\"/>\n  </clipPath>\n </defs>\n</svg>\n",
            "text/plain": [
              "<Figure size 1500x1500 with 1 Axes>"
            ]
          },
          "metadata": {},
          "output_type": "display_data"
        }
      ],
      "source": [
        "temp_DataFrame = census_DataFrame[['Native percent', 'Asian percent', 'White percent', 'Black percent', 'Hispanic percent', 'Others percent']]\n",
        "temp_DataFrame[temp_DataFrame < 0] = 0\n",
        "colors = ['#FF5733', '#C70039', '#900C3F', '#581845', '#FFC300', '#DAF7A6']\n",
        "a = temp_DataFrame.plot.bar(width=0.5, figsize=(15, 15), stacked=True, color=colors)\n"
      ]
    },
    {
      "cell_type": "code",
      "execution_count": null,
      "metadata": {
        "colab": {
          "base_uri": "https://localhost:8080/",
          "height": 800
        },
        "id": "dTuz4CYXk1LL",
        "outputId": "4727484e-2274-4495-932c-334bfe1997f5"
      },
      "outputs": [
        {
          "data": {
            "image/svg+xml": "<?xml version=\"1.0\" encoding=\"utf-8\" standalone=\"no\"?>\n<!DOCTYPE svg PUBLIC \"-//W3C//DTD SVG 1.1//EN\"\n  \"http://www.w3.org/Graphics/SVG/1.1/DTD/svg11.dtd\">\n<svg xmlns:xlink=\"http://www.w3.org/1999/xlink\" width=\"587.360215pt\" height=\"568.8pt\" viewBox=\"0 0 587.360215 568.8\" xmlns=\"http://www.w3.org/2000/svg\" version=\"1.1\">\n <metadata>\n  <rdf:RDF xmlns:dc=\"http://purl.org/dc/elements/1.1/\" xmlns:cc=\"http://creativecommons.org/ns#\" xmlns:rdf=\"http://www.w3.org/1999/02/22-rdf-syntax-ns#\">\n   <cc:Work>\n    <dc:type rdf:resource=\"http://purl.org/dc/dcmitype/StillImage\"/>\n    <dc:date>2023-05-01T22:47:37.329134</dc:date>\n    <dc:format>image/svg+xml</dc:format>\n    <dc:creator>\n     <cc:Agent>\n      <dc:title>Matplotlib v3.7.1, https://matplotlib.org/</dc:title>\n     </cc:Agent>\n    </dc:creator>\n   </cc:Work>\n  </rdf:RDF>\n </metadata>\n <defs>\n  <style type=\"text/css\">*{stroke-linejoin: round; stroke-linecap: butt}</style>\n </defs>\n <g id=\"figure_1\">\n  <g id=\"patch_1\">\n   <path d=\"M 0 568.8 \nL 587.360215 568.8 \nL 587.360215 0 \nL 0 0 \nz\n\" style=\"fill: #ffffff\"/>\n  </g>\n  <g id=\"axes_1\">\n   <g id=\"matplotlib.axis_1\"/>\n   <g id=\"matplotlib.axis_2\">\n    <g id=\"text_1\">\n     <!-- count -->\n     <g style=\"fill: #262626\" transform=\"translate(16.318125 301.3275) rotate(-90) scale(0.12 -0.12)\">\n      <defs>\n       <path id=\"DejaVuSans-63\" d=\"M 3122 3366 \nL 3122 2828 \nQ 2878 2963 2633 3030 \nQ 2388 3097 2138 3097 \nQ 1578 3097 1268 2742 \nQ 959 2388 959 1747 \nQ 959 1106 1268 751 \nQ 1578 397 2138 397 \nQ 2388 397 2633 464 \nQ 2878 531 3122 666 \nL 3122 134 \nQ 2881 22 2623 -34 \nQ 2366 -91 2075 -91 \nQ 1284 -91 818 406 \nQ 353 903 353 1747 \nQ 353 2603 823 3093 \nQ 1294 3584 2113 3584 \nQ 2378 3584 2631 3529 \nQ 2884 3475 3122 3366 \nz\n\" transform=\"scale(0.015625)\"/>\n       <path id=\"DejaVuSans-6f\" d=\"M 1959 3097 \nQ 1497 3097 1228 2736 \nQ 959 2375 959 1747 \nQ 959 1119 1226 758 \nQ 1494 397 1959 397 \nQ 2419 397 2687 759 \nQ 2956 1122 2956 1747 \nQ 2956 2369 2687 2733 \nQ 2419 3097 1959 3097 \nz\nM 1959 3584 \nQ 2709 3584 3137 3096 \nQ 3566 2609 3566 1747 \nQ 3566 888 3137 398 \nQ 2709 -91 1959 -91 \nQ 1206 -91 779 398 \nQ 353 888 353 1747 \nQ 353 2609 779 3096 \nQ 1206 3584 1959 3584 \nz\n\" transform=\"scale(0.015625)\"/>\n       <path id=\"DejaVuSans-75\" d=\"M 544 1381 \nL 544 3500 \nL 1119 3500 \nL 1119 1403 \nQ 1119 906 1312 657 \nQ 1506 409 1894 409 \nQ 2359 409 2629 706 \nQ 2900 1003 2900 1516 \nL 2900 3500 \nL 3475 3500 \nL 3475 0 \nL 2900 0 \nL 2900 538 \nQ 2691 219 2414 64 \nQ 2138 -91 1772 -91 \nQ 1169 -91 856 284 \nQ 544 659 544 1381 \nz\nM 1991 3584 \nL 1991 3584 \nz\n\" transform=\"scale(0.015625)\"/>\n       <path id=\"DejaVuSans-6e\" d=\"M 3513 2113 \nL 3513 0 \nL 2938 0 \nL 2938 2094 \nQ 2938 2591 2744 2837 \nQ 2550 3084 2163 3084 \nQ 1697 3084 1428 2787 \nQ 1159 2491 1159 1978 \nL 1159 0 \nL 581 0 \nL 581 3500 \nL 1159 3500 \nL 1159 2956 \nQ 1366 3272 1645 3428 \nQ 1925 3584 2291 3584 \nQ 2894 3584 3203 3211 \nQ 3513 2838 3513 2113 \nz\n\" transform=\"scale(0.015625)\"/>\n       <path id=\"DejaVuSans-74\" d=\"M 1172 4494 \nL 1172 3500 \nL 2356 3500 \nL 2356 3053 \nL 1172 3053 \nL 1172 1153 \nQ 1172 725 1289 603 \nQ 1406 481 1766 481 \nL 2356 481 \nL 2356 0 \nL 1766 0 \nQ 1100 0 847 248 \nQ 594 497 594 1153 \nL 594 3053 \nL 172 3053 \nL 172 3500 \nL 594 3500 \nL 594 4494 \nL 1172 4494 \nz\n\" transform=\"scale(0.015625)\"/>\n      </defs>\n      <use xlink:href=\"#DejaVuSans-63\"/>\n      <use xlink:href=\"#DejaVuSans-6f\" x=\"54.980469\"/>\n      <use xlink:href=\"#DejaVuSans-75\" x=\"116.162109\"/>\n      <use xlink:href=\"#DejaVuSans-6e\" x=\"179.541016\"/>\n      <use xlink:href=\"#DejaVuSans-74\" x=\"242.919922\"/>\n     </g>\n    </g>\n   </g>\n   <g id=\"patch_2\">\n    <path d=\"M 521.77375 284.4 \nC 521.77375 282.502936 521.749407 280.60595 521.700727 278.709511 \nC 521.652048 276.813071 521.579035 274.917335 521.481708 273.022769 \nL 300.01375 284.4 \nz\n\" style=\"fill: #ff9999; stroke: #ffffff; stroke-linejoin: miter\"/>\n   </g>\n   <g id=\"patch_3\">\n    <path d=\"M 521.481708 273.022769 \nC 520.815627 260.056908 519.012199 247.174551 516.092217 234.524219 \nC 513.172235 221.873886 509.146964 209.504381 504.06281 197.558311 \nL 300.01375 284.4 \nz\n\" style=\"fill: #66b3ff; stroke: #ffffff; stroke-linejoin: miter\"/>\n   </g>\n   <g id=\"patch_4\">\n    <path d=\"M 504.06281 197.558311 \nC 490.471581 165.623448 469.571272 137.320765 443.049002 114.934917 \nC 416.526732 92.549069 385.115878 76.699055 351.35199 68.664322 \nC 317.588103 60.629589 282.404802 60.632309 248.642157 68.672262 \nC 214.879513 76.712215 183.471109 92.567084 156.9523 114.957033 \nC 130.433491 137.346981 109.537559 165.652894 95.951267 197.589858 \nC 82.364975 229.526823 76.464005 264.211737 78.724694 298.84476 \nC 80.985382 333.477783 91.34522 367.101264 108.967938 397.001044 \nC 126.590655 426.900824 150.988961 452.250132 180.19337 471.002717 \nL 300.01375 284.4 \nz\n\" style=\"fill: #99ff99; stroke: #ffffff; stroke-linejoin: miter\"/>\n   </g>\n   <g id=\"patch_5\">\n    <path d=\"M 180.19337 471.002717 \nC 204.917452 486.878418 232.55198 497.683204 261.487449 502.787778 \nC 290.422919 507.892353 320.086451 507.195652 348.750368 500.738253 \nL 300.01375 284.4 \nz\n\" style=\"fill: #ffcc99; stroke: #ffffff; stroke-linejoin: miter\"/>\n   </g>\n   <g id=\"patch_6\">\n    <path d=\"M 348.750368 500.738253 \nC 392.046212 490.984578 431.433064 468.454681 461.788559 436.078637 \nC 492.144053 403.702592 512.092621 362.947531 519.039896 319.113757 \nL 300.01375 284.4 \nz\n\" style=\"fill: #ffb3e6; stroke: #ffffff; stroke-linejoin: miter\"/>\n   </g>\n   <g id=\"patch_7\">\n    <path d=\"M 519.039896 319.113757 \nC 519.94942 313.375123 520.633059 307.60296 521.089229 301.810633 \nC 521.5454 296.018305 521.773749 290.210286 521.77375 284.400023 \nL 300.01375 284.4 \nz\n\" style=\"fill: #c2c2f0; stroke: #ffffff; stroke-linejoin: miter\"/>\n   </g>\n   <g id=\"text_2\">\n    <!-- Native -->\n    <g style=\"fill: #262626\" transform=\"translate(543.869425 281.175774) scale(0.11 -0.11)\">\n     <defs>\n      <path id=\"DejaVuSans-4e\" d=\"M 628 4666 \nL 1478 4666 \nL 3547 763 \nL 3547 4666 \nL 4159 4666 \nL 4159 0 \nL 3309 0 \nL 1241 3903 \nL 1241 0 \nL 628 0 \nL 628 4666 \nz\n\" transform=\"scale(0.015625)\"/>\n      <path id=\"DejaVuSans-61\" d=\"M 2194 1759 \nQ 1497 1759 1228 1600 \nQ 959 1441 959 1056 \nQ 959 750 1161 570 \nQ 1363 391 1709 391 \nQ 2188 391 2477 730 \nQ 2766 1069 2766 1631 \nL 2766 1759 \nL 2194 1759 \nz\nM 3341 1997 \nL 3341 0 \nL 2766 0 \nL 2766 531 \nQ 2569 213 2275 61 \nQ 1981 -91 1556 -91 \nQ 1019 -91 701 211 \nQ 384 513 384 1019 \nQ 384 1609 779 1909 \nQ 1175 2209 1959 2209 \nL 2766 2209 \nL 2766 2266 \nQ 2766 2663 2505 2880 \nQ 2244 3097 1772 3097 \nQ 1472 3097 1187 3025 \nQ 903 2953 641 2809 \nL 641 3341 \nQ 956 3463 1253 3523 \nQ 1550 3584 1831 3584 \nQ 2591 3584 2966 3190 \nQ 3341 2797 3341 1997 \nz\n\" transform=\"scale(0.015625)\"/>\n      <path id=\"DejaVuSans-69\" d=\"M 603 3500 \nL 1178 3500 \nL 1178 0 \nL 603 0 \nL 603 3500 \nz\nM 603 4863 \nL 1178 4863 \nL 1178 4134 \nL 603 4134 \nL 603 4863 \nz\n\" transform=\"scale(0.015625)\"/>\n      <path id=\"DejaVuSans-76\" d=\"M 191 3500 \nL 800 3500 \nL 1894 563 \nL 2988 3500 \nL 3597 3500 \nL 2284 0 \nL 1503 0 \nL 191 3500 \nz\n\" transform=\"scale(0.015625)\"/>\n      <path id=\"DejaVuSans-65\" d=\"M 3597 1894 \nL 3597 1613 \nL 953 1613 \nQ 991 1019 1311 708 \nQ 1631 397 2203 397 \nQ 2534 397 2845 478 \nQ 3156 559 3463 722 \nL 3463 178 \nQ 3153 47 2828 -22 \nQ 2503 -91 2169 -91 \nQ 1331 -91 842 396 \nQ 353 884 353 1716 \nQ 353 2575 817 3079 \nQ 1281 3584 2069 3584 \nQ 2775 3584 3186 3129 \nQ 3597 2675 3597 1894 \nz\nM 3022 2063 \nQ 3016 2534 2758 2815 \nQ 2500 3097 2075 3097 \nQ 1594 3097 1305 2825 \nQ 1016 2553 972 2059 \nL 3022 2063 \nz\n\" transform=\"scale(0.015625)\"/>\n     </defs>\n     <use xlink:href=\"#DejaVuSans-4e\"/>\n     <use xlink:href=\"#DejaVuSans-61\" x=\"74.804688\"/>\n     <use xlink:href=\"#DejaVuSans-74\" x=\"136.083984\"/>\n     <use xlink:href=\"#DejaVuSans-69\" x=\"175.292969\"/>\n     <use xlink:href=\"#DejaVuSans-76\" x=\"203.076172\"/>\n     <use xlink:href=\"#DejaVuSans-65\" x=\"262.255859\"/>\n    </g>\n   </g>\n   <g id=\"text_3\">\n    <!-- Asian -->\n    <g style=\"fill: #262626\" transform=\"translate(537.700064 232.571953) scale(0.11 -0.11)\">\n     <defs>\n      <path id=\"DejaVuSans-41\" d=\"M 2188 4044 \nL 1331 1722 \nL 3047 1722 \nL 2188 4044 \nz\nM 1831 4666 \nL 2547 4666 \nL 4325 0 \nL 3669 0 \nL 3244 1197 \nL 1141 1197 \nL 716 0 \nL 50 0 \nL 1831 4666 \nz\n\" transform=\"scale(0.015625)\"/>\n      <path id=\"DejaVuSans-73\" d=\"M 2834 3397 \nL 2834 2853 \nQ 2591 2978 2328 3040 \nQ 2066 3103 1784 3103 \nQ 1356 3103 1142 2972 \nQ 928 2841 928 2578 \nQ 928 2378 1081 2264 \nQ 1234 2150 1697 2047 \nL 1894 2003 \nQ 2506 1872 2764 1633 \nQ 3022 1394 3022 966 \nQ 3022 478 2636 193 \nQ 2250 -91 1575 -91 \nQ 1294 -91 989 -36 \nQ 684 19 347 128 \nL 347 722 \nQ 666 556 975 473 \nQ 1284 391 1588 391 \nQ 1994 391 2212 530 \nQ 2431 669 2431 922 \nQ 2431 1156 2273 1281 \nQ 2116 1406 1581 1522 \nL 1381 1569 \nQ 847 1681 609 1914 \nQ 372 2147 372 2553 \nQ 372 3047 722 3315 \nQ 1072 3584 1716 3584 \nQ 2034 3584 2315 3537 \nQ 2597 3491 2834 3397 \nz\n\" transform=\"scale(0.015625)\"/>\n     </defs>\n     <use xlink:href=\"#DejaVuSans-41\"/>\n     <use xlink:href=\"#DejaVuSans-73\" x=\"68.408203\"/>\n     <use xlink:href=\"#DejaVuSans-69\" x=\"120.507812\"/>\n     <use xlink:href=\"#DejaVuSans-61\" x=\"148.291016\"/>\n     <use xlink:href=\"#DejaVuSans-6e\" x=\"209.570312\"/>\n    </g>\n   </g>\n   <g id=\"text_4\">\n    <!-- White -->\n    <g style=\"fill: #262626\" transform=\"translate(110.661936 101.048049) scale(0.11 -0.11)\">\n     <defs>\n      <path id=\"DejaVuSans-57\" d=\"M 213 4666 \nL 850 4666 \nL 1831 722 \nL 2809 4666 \nL 3519 4666 \nL 4500 722 \nL 5478 4666 \nL 6119 4666 \nL 4947 0 \nL 4153 0 \nL 3169 4050 \nL 2175 0 \nL 1381 0 \nL 213 4666 \nz\n\" transform=\"scale(0.015625)\"/>\n      <path id=\"DejaVuSans-68\" d=\"M 3513 2113 \nL 3513 0 \nL 2938 0 \nL 2938 2094 \nQ 2938 2591 2744 2837 \nQ 2550 3084 2163 3084 \nQ 1697 3084 1428 2787 \nQ 1159 2491 1159 1978 \nL 1159 0 \nL 581 0 \nL 581 4863 \nL 1159 4863 \nL 1159 2956 \nQ 1366 3272 1645 3428 \nQ 1925 3584 2291 3584 \nQ 2894 3584 3203 3211 \nQ 3513 2838 3513 2113 \nz\n\" transform=\"scale(0.015625)\"/>\n     </defs>\n     <use xlink:href=\"#DejaVuSans-57\"/>\n     <use xlink:href=\"#DejaVuSans-68\" x=\"98.876953\"/>\n     <use xlink:href=\"#DejaVuSans-69\" x=\"162.255859\"/>\n     <use xlink:href=\"#DejaVuSans-74\" x=\"190.039062\"/>\n     <use xlink:href=\"#DejaVuSans-65\" x=\"229.248047\"/>\n    </g>\n   </g>\n   <g id=\"text_5\">\n    <!-- Black -->\n    <g style=\"fill: #262626\" transform=\"translate(227.872944 527.661869) scale(0.11 -0.11)\">\n     <defs>\n      <path id=\"DejaVuSans-42\" d=\"M 1259 2228 \nL 1259 519 \nL 2272 519 \nQ 2781 519 3026 730 \nQ 3272 941 3272 1375 \nQ 3272 1813 3026 2020 \nQ 2781 2228 2272 2228 \nL 1259 2228 \nz\nM 1259 4147 \nL 1259 2741 \nL 2194 2741 \nQ 2656 2741 2882 2914 \nQ 3109 3088 3109 3444 \nQ 3109 3797 2882 3972 \nQ 2656 4147 2194 4147 \nL 1259 4147 \nz\nM 628 4666 \nL 2241 4666 \nQ 2963 4666 3353 4366 \nQ 3744 4066 3744 3513 \nQ 3744 3084 3544 2831 \nQ 3344 2578 2956 2516 \nQ 3422 2416 3680 2098 \nQ 3938 1781 3938 1306 \nQ 3938 681 3513 340 \nQ 3088 0 2303 0 \nL 628 0 \nL 628 4666 \nz\n\" transform=\"scale(0.015625)\"/>\n      <path id=\"DejaVuSans-6c\" d=\"M 603 4863 \nL 1178 4863 \nL 1178 0 \nL 603 0 \nL 603 4863 \nz\n\" transform=\"scale(0.015625)\"/>\n      <path id=\"DejaVuSans-6b\" d=\"M 581 4863 \nL 1159 4863 \nL 1159 1991 \nL 2875 3500 \nL 3609 3500 \nL 1753 1863 \nL 3688 0 \nL 2938 0 \nL 1159 1709 \nL 1159 0 \nL 581 0 \nL 581 4863 \nz\n\" transform=\"scale(0.015625)\"/>\n     </defs>\n     <use xlink:href=\"#DejaVuSans-42\"/>\n     <use xlink:href=\"#DejaVuSans-6c\" x=\"68.603516\"/>\n     <use xlink:href=\"#DejaVuSans-61\" x=\"96.386719\"/>\n     <use xlink:href=\"#DejaVuSans-63\" x=\"157.666016\"/>\n     <use xlink:href=\"#DejaVuSans-6b\" x=\"212.646484\"/>\n    </g>\n   </g>\n   <g id=\"text_6\">\n    <!-- Hispanic -->\n    <g style=\"fill: #262626\" transform=\"translate(477.96604 454.281813) scale(0.11 -0.11)\">\n     <defs>\n      <path id=\"DejaVuSans-48\" d=\"M 628 4666 \nL 1259 4666 \nL 1259 2753 \nL 3553 2753 \nL 3553 4666 \nL 4184 4666 \nL 4184 0 \nL 3553 0 \nL 3553 2222 \nL 1259 2222 \nL 1259 0 \nL 628 0 \nL 628 4666 \nz\n\" transform=\"scale(0.015625)\"/>\n      <path id=\"DejaVuSans-70\" d=\"M 1159 525 \nL 1159 -1331 \nL 581 -1331 \nL 581 3500 \nL 1159 3500 \nL 1159 2969 \nQ 1341 3281 1617 3432 \nQ 1894 3584 2278 3584 \nQ 2916 3584 3314 3078 \nQ 3713 2572 3713 1747 \nQ 3713 922 3314 415 \nQ 2916 -91 2278 -91 \nQ 1894 -91 1617 61 \nQ 1341 213 1159 525 \nz\nM 3116 1747 \nQ 3116 2381 2855 2742 \nQ 2594 3103 2138 3103 \nQ 1681 3103 1420 2742 \nQ 1159 2381 1159 1747 \nQ 1159 1113 1420 752 \nQ 1681 391 2138 391 \nQ 2594 391 2855 752 \nQ 3116 1113 3116 1747 \nz\n\" transform=\"scale(0.015625)\"/>\n     </defs>\n     <use xlink:href=\"#DejaVuSans-48\"/>\n     <use xlink:href=\"#DejaVuSans-69\" x=\"75.195312\"/>\n     <use xlink:href=\"#DejaVuSans-73\" x=\"102.978516\"/>\n     <use xlink:href=\"#DejaVuSans-70\" x=\"155.078125\"/>\n     <use xlink:href=\"#DejaVuSans-61\" x=\"218.554688\"/>\n     <use xlink:href=\"#DejaVuSans-6e\" x=\"279.833984\"/>\n     <use xlink:href=\"#DejaVuSans-69\" x=\"343.212891\"/>\n     <use xlink:href=\"#DejaVuSans-63\" x=\"370.996094\"/>\n    </g>\n   </g>\n   <g id=\"text_7\">\n    <!-- Others -->\n    <g style=\"fill: #262626\" transform=\"translate(543.196777 306.587008) scale(0.11 -0.11)\">\n     <defs>\n      <path id=\"DejaVuSans-4f\" d=\"M 2522 4238 \nQ 1834 4238 1429 3725 \nQ 1025 3213 1025 2328 \nQ 1025 1447 1429 934 \nQ 1834 422 2522 422 \nQ 3209 422 3611 934 \nQ 4013 1447 4013 2328 \nQ 4013 3213 3611 3725 \nQ 3209 4238 2522 4238 \nz\nM 2522 4750 \nQ 3503 4750 4090 4092 \nQ 4678 3434 4678 2328 \nQ 4678 1225 4090 567 \nQ 3503 -91 2522 -91 \nQ 1538 -91 948 565 \nQ 359 1222 359 2328 \nQ 359 3434 948 4092 \nQ 1538 4750 2522 4750 \nz\n\" transform=\"scale(0.015625)\"/>\n      <path id=\"DejaVuSans-72\" d=\"M 2631 2963 \nQ 2534 3019 2420 3045 \nQ 2306 3072 2169 3072 \nQ 1681 3072 1420 2755 \nQ 1159 2438 1159 1844 \nL 1159 0 \nL 581 0 \nL 581 3500 \nL 1159 3500 \nL 1159 2956 \nQ 1341 3275 1631 3429 \nQ 1922 3584 2338 3584 \nQ 2397 3584 2469 3576 \nQ 2541 3569 2628 3553 \nL 2631 2963 \nz\n\" transform=\"scale(0.015625)\"/>\n     </defs>\n     <use xlink:href=\"#DejaVuSans-4f\"/>\n     <use xlink:href=\"#DejaVuSans-74\" x=\"78.710938\"/>\n     <use xlink:href=\"#DejaVuSans-68\" x=\"117.919922\"/>\n     <use xlink:href=\"#DejaVuSans-65\" x=\"181.298828\"/>\n     <use xlink:href=\"#DejaVuSans-72\" x=\"242.822266\"/>\n     <use xlink:href=\"#DejaVuSans-73\" x=\"283.935547\"/>\n    </g>\n   </g>\n   <g id=\"legend_1\">\n    <g id=\"patch_8\">\n     <path d=\"M 487.455469 112.875625 \nL 569.51375 112.875625 \nQ 571.71375 112.875625 571.71375 110.675625 \nL 571.71375 14.9 \nQ 571.71375 12.7 569.51375 12.7 \nL 487.455469 12.7 \nQ 485.255469 12.7 485.255469 14.9 \nL 485.255469 110.675625 \nQ 485.255469 112.875625 487.455469 112.875625 \nz\n\" style=\"fill: #ffffff; opacity: 0.8; stroke: #cccccc; stroke-linejoin: miter\"/>\n    </g>\n    <g id=\"patch_9\">\n     <path d=\"M 489.655469 25.458281 \nL 511.655469 25.458281 \nL 511.655469 17.758281 \nL 489.655469 17.758281 \nz\n\" style=\"fill: #ff9999; stroke: #ffffff; stroke-linejoin: miter\"/>\n    </g>\n    <g id=\"text_8\">\n     <!-- Native -->\n     <g style=\"fill: #262626\" transform=\"translate(520.455469 25.458281) scale(0.11 -0.11)\">\n      <use xlink:href=\"#DejaVuSans-4e\"/>\n      <use xlink:href=\"#DejaVuSans-61\" x=\"74.804688\"/>\n      <use xlink:href=\"#DejaVuSans-74\" x=\"136.083984\"/>\n      <use xlink:href=\"#DejaVuSans-69\" x=\"175.292969\"/>\n      <use xlink:href=\"#DejaVuSans-76\" x=\"203.076172\"/>\n      <use xlink:href=\"#DejaVuSans-65\" x=\"262.255859\"/>\n     </g>\n    </g>\n    <g id=\"patch_10\">\n     <path d=\"M 489.655469 41.604219 \nL 511.655469 41.604219 \nL 511.655469 33.904219 \nL 489.655469 33.904219 \nz\n\" style=\"fill: #66b3ff; stroke: #ffffff; stroke-linejoin: miter\"/>\n    </g>\n    <g id=\"text_9\">\n     <!-- Asian -->\n     <g style=\"fill: #262626\" transform=\"translate(520.455469 41.604219) scale(0.11 -0.11)\">\n      <use xlink:href=\"#DejaVuSans-41\"/>\n      <use xlink:href=\"#DejaVuSans-73\" x=\"68.408203\"/>\n      <use xlink:href=\"#DejaVuSans-69\" x=\"120.507812\"/>\n      <use xlink:href=\"#DejaVuSans-61\" x=\"148.291016\"/>\n      <use xlink:href=\"#DejaVuSans-6e\" x=\"209.570312\"/>\n     </g>\n    </g>\n    <g id=\"patch_11\">\n     <path d=\"M 489.655469 57.750156 \nL 511.655469 57.750156 \nL 511.655469 50.050156 \nL 489.655469 50.050156 \nz\n\" style=\"fill: #99ff99; stroke: #ffffff; stroke-linejoin: miter\"/>\n    </g>\n    <g id=\"text_10\">\n     <!-- White -->\n     <g style=\"fill: #262626\" transform=\"translate(520.455469 57.750156) scale(0.11 -0.11)\">\n      <use xlink:href=\"#DejaVuSans-57\"/>\n      <use xlink:href=\"#DejaVuSans-68\" x=\"98.876953\"/>\n      <use xlink:href=\"#DejaVuSans-69\" x=\"162.255859\"/>\n      <use xlink:href=\"#DejaVuSans-74\" x=\"190.039062\"/>\n      <use xlink:href=\"#DejaVuSans-65\" x=\"229.248047\"/>\n     </g>\n    </g>\n    <g id=\"patch_12\">\n     <path d=\"M 489.655469 73.896094 \nL 511.655469 73.896094 \nL 511.655469 66.196094 \nL 489.655469 66.196094 \nz\n\" style=\"fill: #ffcc99; stroke: #ffffff; stroke-linejoin: miter\"/>\n    </g>\n    <g id=\"text_11\">\n     <!-- Black -->\n     <g style=\"fill: #262626\" transform=\"translate(520.455469 73.896094) scale(0.11 -0.11)\">\n      <use xlink:href=\"#DejaVuSans-42\"/>\n      <use xlink:href=\"#DejaVuSans-6c\" x=\"68.603516\"/>\n      <use xlink:href=\"#DejaVuSans-61\" x=\"96.386719\"/>\n      <use xlink:href=\"#DejaVuSans-63\" x=\"157.666016\"/>\n      <use xlink:href=\"#DejaVuSans-6b\" x=\"212.646484\"/>\n     </g>\n    </g>\n    <g id=\"patch_13\">\n     <path d=\"M 489.655469 90.042031 \nL 511.655469 90.042031 \nL 511.655469 82.342031 \nL 489.655469 82.342031 \nz\n\" style=\"fill: #ffb3e6; stroke: #ffffff; stroke-linejoin: miter\"/>\n    </g>\n    <g id=\"text_12\">\n     <!-- Hispanic -->\n     <g style=\"fill: #262626\" transform=\"translate(520.455469 90.042031) scale(0.11 -0.11)\">\n      <use xlink:href=\"#DejaVuSans-48\"/>\n      <use xlink:href=\"#DejaVuSans-69\" x=\"75.195312\"/>\n      <use xlink:href=\"#DejaVuSans-73\" x=\"102.978516\"/>\n      <use xlink:href=\"#DejaVuSans-70\" x=\"155.078125\"/>\n      <use xlink:href=\"#DejaVuSans-61\" x=\"218.554688\"/>\n      <use xlink:href=\"#DejaVuSans-6e\" x=\"279.833984\"/>\n      <use xlink:href=\"#DejaVuSans-69\" x=\"343.212891\"/>\n      <use xlink:href=\"#DejaVuSans-63\" x=\"370.996094\"/>\n     </g>\n    </g>\n    <g id=\"patch_14\">\n     <path d=\"M 489.655469 106.187969 \nL 511.655469 106.187969 \nL 511.655469 98.487969 \nL 489.655469 98.487969 \nz\n\" style=\"fill: #c2c2f0; stroke: #ffffff; stroke-linejoin: miter\"/>\n    </g>\n    <g id=\"text_13\">\n     <!-- Others -->\n     <g style=\"fill: #262626\" transform=\"translate(520.455469 106.187969) scale(0.11 -0.11)\">\n      <use xlink:href=\"#DejaVuSans-4f\"/>\n      <use xlink:href=\"#DejaVuSans-74\" x=\"78.710938\"/>\n      <use xlink:href=\"#DejaVuSans-68\" x=\"117.919922\"/>\n      <use xlink:href=\"#DejaVuSans-65\" x=\"181.298828\"/>\n      <use xlink:href=\"#DejaVuSans-72\" x=\"242.822266\"/>\n      <use xlink:href=\"#DejaVuSans-73\" x=\"283.935547\"/>\n     </g>\n    </g>\n   </g>\n  </g>\n </g>\n</svg>\n",
            "text/plain": [
              "<Figure size 1000x1000 with 1 Axes>"
            ]
          },
          "metadata": {},
          "output_type": "display_data"
        }
      ],
      "source": [
        "df = pd.DataFrame({'count': [census_DataFrame[col].sum() for col in columns]}, index=columns)\n",
        "if (df['count'] < 0).any():\n",
        "    df['count'] = df['count'].clip(lower=0)    \n",
        "plot = df.plot.pie(y='count', figsize=(10, 10), colors=['#ff9999','#66b3ff','#99ff99','#ffcc99','#ffb3e6','#c2c2f0'])\n"
      ]
    },
    {
      "cell_type": "code",
      "execution_count": null,
      "metadata": {
        "id": "YeExsG-pk3ub"
      },
      "outputs": [],
      "source": [
        "peopleAndPercentage = pd.DataFrame({'percentage': [census_DataFrame.sum()[1]*100/census_DataFrame.sum()[0],census_DataFrame.sum()[2]*100/census_DataFrame.sum()[0],census_DataFrame.sum()[3]*100/census_DataFrame.sum()[0],census_DataFrame.sum()[4]*100/census_DataFrame.sum()[0],census_DataFrame.sum()[5]*100/census_DataFrame.sum()[0],census_DataFrame.sum()[7]*100/census_DataFrame.sum()[0]]},index=['Native', 'Asian', 'White','Black','Hispanic','Others'])"
      ]
    },
    {
      "cell_type": "code",
      "execution_count": null,
      "metadata": {
        "colab": {
          "base_uri": "https://localhost:8080/",
          "height": 238
        },
        "id": "43KAvpJqvW0T",
        "outputId": "0601ba01-02f4-4f9e-d068-f38f61ed9f9d"
      },
      "outputs": [
        {
          "data": {
            "text/html": [
              "\n",
              "  <div id=\"df-795be2ad-1032-4ec1-bf5a-466cee590d49\">\n",
              "    <div class=\"colab-df-container\">\n",
              "      <div>\n",
              "<style scoped>\n",
              "    .dataframe tbody tr th:only-of-type {\n",
              "        vertical-align: middle;\n",
              "    }\n",
              "\n",
              "    .dataframe tbody tr th {\n",
              "        vertical-align: top;\n",
              "    }\n",
              "\n",
              "    .dataframe thead th {\n",
              "        text-align: right;\n",
              "    }\n",
              "</style>\n",
              "<table border=\"1\" class=\"dataframe\">\n",
              "  <thead>\n",
              "    <tr style=\"text-align: right;\">\n",
              "      <th></th>\n",
              "      <th>percentage</th>\n",
              "    </tr>\n",
              "  </thead>\n",
              "  <tbody>\n",
              "    <tr>\n",
              "      <th>Native</th>\n",
              "      <td>0.816891</td>\n",
              "    </tr>\n",
              "    <tr>\n",
              "      <th>Asian</th>\n",
              "      <td>5.587060</td>\n",
              "    </tr>\n",
              "    <tr>\n",
              "      <th>White</th>\n",
              "      <td>59.511292</td>\n",
              "    </tr>\n",
              "    <tr>\n",
              "      <th>Black</th>\n",
              "      <td>12.611323</td>\n",
              "    </tr>\n",
              "    <tr>\n",
              "      <th>Hispanic</th>\n",
              "      <td>18.971774</td>\n",
              "    </tr>\n",
              "    <tr>\n",
              "      <th>Others</th>\n",
              "      <td>2.501659</td>\n",
              "    </tr>\n",
              "  </tbody>\n",
              "</table>\n",
              "</div>\n",
              "      <button class=\"colab-df-convert\" onclick=\"convertToInteractive('df-795be2ad-1032-4ec1-bf5a-466cee590d49')\"\n",
              "              title=\"Convert this dataframe to an interactive table.\"\n",
              "              style=\"display:none;\">\n",
              "        \n",
              "  <svg xmlns=\"http://www.w3.org/2000/svg\" height=\"24px\"viewBox=\"0 0 24 24\"\n",
              "       width=\"24px\">\n",
              "    <path d=\"M0 0h24v24H0V0z\" fill=\"none\"/>\n",
              "    <path d=\"M18.56 5.44l.94 2.06.94-2.06 2.06-.94-2.06-.94-.94-2.06-.94 2.06-2.06.94zm-11 1L8.5 8.5l.94-2.06 2.06-.94-2.06-.94L8.5 2.5l-.94 2.06-2.06.94zm10 10l.94 2.06.94-2.06 2.06-.94-2.06-.94-.94-2.06-.94 2.06-2.06.94z\"/><path d=\"M17.41 7.96l-1.37-1.37c-.4-.4-.92-.59-1.43-.59-.52 0-1.04.2-1.43.59L10.3 9.45l-7.72 7.72c-.78.78-.78 2.05 0 2.83L4 21.41c.39.39.9.59 1.41.59.51 0 1.02-.2 1.41-.59l7.78-7.78 2.81-2.81c.8-.78.8-2.07 0-2.86zM5.41 20L4 18.59l7.72-7.72 1.47 1.35L5.41 20z\"/>\n",
              "  </svg>\n",
              "      </button>\n",
              "      \n",
              "  <style>\n",
              "    .colab-df-container {\n",
              "      display:flex;\n",
              "      flex-wrap:wrap;\n",
              "      gap: 12px;\n",
              "    }\n",
              "\n",
              "    .colab-df-convert {\n",
              "      background-color: #E8F0FE;\n",
              "      border: none;\n",
              "      border-radius: 50%;\n",
              "      cursor: pointer;\n",
              "      display: none;\n",
              "      fill: #1967D2;\n",
              "      height: 32px;\n",
              "      padding: 0 0 0 0;\n",
              "      width: 32px;\n",
              "    }\n",
              "\n",
              "    .colab-df-convert:hover {\n",
              "      background-color: #E2EBFA;\n",
              "      box-shadow: 0px 1px 2px rgba(60, 64, 67, 0.3), 0px 1px 3px 1px rgba(60, 64, 67, 0.15);\n",
              "      fill: #174EA6;\n",
              "    }\n",
              "\n",
              "    [theme=dark] .colab-df-convert {\n",
              "      background-color: #3B4455;\n",
              "      fill: #D2E3FC;\n",
              "    }\n",
              "\n",
              "    [theme=dark] .colab-df-convert:hover {\n",
              "      background-color: #434B5C;\n",
              "      box-shadow: 0px 1px 3px 1px rgba(0, 0, 0, 0.15);\n",
              "      filter: drop-shadow(0px 1px 2px rgba(0, 0, 0, 0.3));\n",
              "      fill: #FFFFFF;\n",
              "    }\n",
              "  </style>\n",
              "\n",
              "      <script>\n",
              "        const buttonEl =\n",
              "          document.querySelector('#df-795be2ad-1032-4ec1-bf5a-466cee590d49 button.colab-df-convert');\n",
              "        buttonEl.style.display =\n",
              "          google.colab.kernel.accessAllowed ? 'block' : 'none';\n",
              "\n",
              "        async function convertToInteractive(key) {\n",
              "          const element = document.querySelector('#df-795be2ad-1032-4ec1-bf5a-466cee590d49');\n",
              "          const dataTable =\n",
              "            await google.colab.kernel.invokeFunction('convertToInteractive',\n",
              "                                                     [key], {});\n",
              "          if (!dataTable) return;\n",
              "\n",
              "          const docLinkHtml = 'Like what you see? Visit the ' +\n",
              "            '<a target=\"_blank\" href=https://colab.research.google.com/notebooks/data_table.ipynb>data table notebook</a>'\n",
              "            + ' to learn more about interactive tables.';\n",
              "          element.innerHTML = '';\n",
              "          dataTable['output_type'] = 'display_data';\n",
              "          await google.colab.output.renderOutput(dataTable, element);\n",
              "          const docLink = document.createElement('div');\n",
              "          docLink.innerHTML = docLinkHtml;\n",
              "          element.appendChild(docLink);\n",
              "        }\n",
              "      </script>\n",
              "    </div>\n",
              "  </div>\n",
              "  "
            ],
            "text/plain": [
              "          percentage\n",
              "Native      0.816891\n",
              "Asian       5.587060\n",
              "White      59.511292\n",
              "Black      12.611323\n",
              "Hispanic   18.971774\n",
              "Others      2.501659"
            ]
          },
          "execution_count": 26,
          "metadata": {},
          "output_type": "execute_result"
        }
      ],
      "source": [
        "peopleAndPercentage"
      ]
    },
    {
      "cell_type": "code",
      "execution_count": null,
      "metadata": {
        "id": "-GUfLfD3vkn5"
      },
      "outputs": [],
      "source": [
        "DataFrame1=pd.read_csv('US Police shootings in from 2015-22.csv')"
      ]
    },
    {
      "cell_type": "code",
      "execution_count": null,
      "metadata": {
        "colab": {
          "base_uri": "https://localhost:8080/"
        },
        "id": "uIqG2Hs2280F",
        "outputId": "bddd18aa-62e3-41e9-e9ba-2a76106056e1"
      },
      "outputs": [
        {
          "data": {
            "text/plain": [
              "Index(['id', 'name', 'date', 'manner_of_death', 'armed', 'age', 'gender',\n",
              "       'race', 'city', 'state', 'signs_of_mental_illness', 'threat_level',\n",
              "       'flee', 'body_camera', 'longitude', 'latitude', 'is_geocoding_exact'],\n",
              "      dtype='object')"
            ]
          },
          "execution_count": 28,
          "metadata": {},
          "output_type": "execute_result"
        }
      ],
      "source": [
        "DataFrame1.columns"
      ]
    },
    {
      "cell_type": "code",
      "execution_count": null,
      "metadata": {
        "id": "8r2oS3brwVno"
      },
      "outputs": [],
      "source": [
        "states = {\n",
        "    'AK': 'Alaska',\n",
        "    'AL': 'Alabama',\n",
        "    'AR': 'Arkansas',\n",
        "    'AZ': 'Arizona',\n",
        "    'CA': 'California',\n",
        "    'CO': 'Colorado',\n",
        "    'CT': 'Connecticut',\n",
        "    'DC': 'District of Columbia',\n",
        "    'DE': 'Delaware',\n",
        "    'FL': 'Florida',\n",
        "    'GA': 'Georgia',\n",
        "    'HI': 'Hawaii',\n",
        "    'IA': 'Iowa',\n",
        "    'ID': 'Idaho',\n",
        "    'IL': 'Illinois',\n",
        "    'IN': 'Indiana',\n",
        "    'KS': 'Kansas',\n",
        "    'KY': 'Kentucky',\n",
        "    'LA': 'Louisiana',\n",
        "    'MA': 'Massachusetts',\n",
        "    'MD': 'Maryland',\n",
        "    'ME': 'Maine',\n",
        "    'MI': 'Michigan',\n",
        "    'MN': 'Minnesota',\n",
        "    'MO': 'Missouri',\n",
        "    'MS': 'Mississippi',\n",
        "    'MT': 'Montana',\n",
        "    'NC': 'North Carolina',\n",
        "    'ND': 'North Dakota',\n",
        "    'NE': 'Nebraska',\n",
        "    'NH': 'New Hampshire',\n",
        "    'NJ': 'New Jersey',\n",
        "    'NM': 'New Mexico',\n",
        "    'NV': 'Nevada',\n",
        "    'NY': 'New York',\n",
        "    'OH': 'Ohio',\n",
        "    'OK': 'Oklahoma',\n",
        "    'OR': 'Oregon',\n",
        "    'PA': 'Pennsylvania',\n",
        "    'RI': 'Rhode Island',\n",
        "    'SC': 'South Carolina',\n",
        "    'SD': 'South Dakota',\n",
        "    'TN': 'Tennessee',\n",
        "    'TX': 'Texas',\n",
        "    'UT': 'Utah',\n",
        "    'VA': 'Virginia',\n",
        "    'VT': 'Vermont',\n",
        "    'WA': 'Washington',\n",
        "    'WI': 'Wisconsin',\n",
        "    'WV': 'West Virginia',\n",
        "    'WY': 'Wyoming'\n",
        "}"
      ]
    },
    {
      "cell_type": "code",
      "execution_count": null,
      "metadata": {
        "colab": {
          "base_uri": "https://localhost:8080/"
        },
        "id": "yCsMXNy63DMA",
        "outputId": "7cd66667-66ae-4910-bd28-db27431f848f"
      },
      "outputs": [
        {
          "data": {
            "text/plain": [
              "id                            0\n",
              "name                        407\n",
              "date                          0\n",
              "manner_of_death               0\n",
              "armed                       209\n",
              "age                         472\n",
              "gender                       19\n",
              "race                       1438\n",
              "city                          0\n",
              "state                         0\n",
              "signs_of_mental_illness       0\n",
              "threat_level                  0\n",
              "flee                        863\n",
              "body_camera                   0\n",
              "longitude                   835\n",
              "latitude                    835\n",
              "is_geocoding_exact            0\n",
              "dtype: int64"
            ]
          },
          "execution_count": 30,
          "metadata": {},
          "output_type": "execute_result"
        }
      ],
      "source": [
        "DataFrame1.isnull().sum()"
      ]
    },
    {
      "cell_type": "code",
      "execution_count": null,
      "metadata": {
        "id": "3TYzN3xV3F83"
      },
      "outputs": [],
      "source": [
        "#since the names are null and we just can't give some random values for unknown names, so I'll just assign Unknown name\n",
        "DataFrame1['name'] = DataFrame1['name'].fillna('Unknown')"
      ]
    },
    {
      "cell_type": "code",
      "execution_count": null,
      "metadata": {
        "colab": {
          "base_uri": "https://localhost:8080/"
        },
        "id": "o8XQXwxf3JFk",
        "outputId": "414dc0f7-5539-4a3a-9ac6-c4c801a00476"
      },
      "outputs": [
        {
          "data": {
            "text/plain": [
              "0"
            ]
          },
          "execution_count": 32,
          "metadata": {},
          "output_type": "execute_result"
        }
      ],
      "source": [
        "DataFrame1['name'].isnull().sum()"
      ]
    },
    {
      "cell_type": "code",
      "execution_count": null,
      "metadata": {
        "colab": {
          "base_uri": "https://localhost:8080/"
        },
        "id": "YUbBCFl43MC6",
        "outputId": "f8cd1b8c-9263-4251-ff9e-fcdffe03d4b8"
      },
      "outputs": [
        {
          "data": {
            "text/plain": [
              "103"
            ]
          },
          "execution_count": 33,
          "metadata": {},
          "output_type": "execute_result"
        }
      ],
      "source": [
        "DataFrame1['armed'].nunique()"
      ]
    },
    {
      "cell_type": "code",
      "execution_count": null,
      "metadata": {
        "colab": {
          "base_uri": "https://localhost:8080/",
          "height": 876
        },
        "id": "gPM8kc5j3OTp",
        "outputId": "b7448be4-1372-4c8e-82f0-c55e52dc7942"
      },
      "outputs": [
        {
          "data": {
            "image/svg+xml": "<?xml version=\"1.0\" encoding=\"utf-8\" standalone=\"no\"?>\n<!DOCTYPE svg PUBLIC \"-//W3C//DTD SVG 1.1//EN\"\n  \"http://www.w3.org/Graphics/SVG/1.1/DTD/svg11.dtd\">\n<svg xmlns:xlink=\"http://www.w3.org/1999/xlink\" width=\"701.252188pt\" height=\"626.012706pt\" viewBox=\"0 0 701.252188 626.012706\" xmlns=\"http://www.w3.org/2000/svg\" version=\"1.1\">\n <metadata>\n  <rdf:RDF xmlns:dc=\"http://purl.org/dc/elements/1.1/\" xmlns:cc=\"http://creativecommons.org/ns#\" xmlns:rdf=\"http://www.w3.org/1999/02/22-rdf-syntax-ns#\">\n   <cc:Work>\n    <dc:type rdf:resource=\"http://purl.org/dc/dcmitype/StillImage\"/>\n    <dc:date>2023-05-01T22:47:37.956485</dc:date>\n    <dc:format>image/svg+xml</dc:format>\n    <dc:creator>\n     <cc:Agent>\n      <dc:title>Matplotlib v3.7.1, https://matplotlib.org/</dc:title>\n     </cc:Agent>\n    </dc:creator>\n   </cc:Work>\n  </rdf:RDF>\n </metadata>\n <defs>\n  <style type=\"text/css\">*{stroke-linejoin: round; stroke-linecap: butt}</style>\n </defs>\n <g id=\"figure_1\">\n  <g id=\"patch_1\">\n   <path d=\"M 0 626.012706 \nL 701.252188 626.012706 \nL 701.252188 0 \nL 0 0 \nz\n\" style=\"fill: #ffffff\"/>\n  </g>\n  <g id=\"axes_1\">\n   <g id=\"patch_2\">\n    <path d=\"M 41.192188 480.806925 \nL 694.052187 480.806925 \nL 694.052187 22.318125 \nL 41.192188 22.318125 \nz\n\" style=\"fill: #ffffff\"/>\n   </g>\n   <g id=\"matplotlib.axis_1\">\n    <g id=\"xtick_1\">\n     <g id=\"line2d_1\">\n      <path d=\"M 60.393952 480.806925 \nL 60.393952 22.318125 \n\" clip-path=\"url(#pcf6d4a167b)\" style=\"fill: none; stroke: #cccccc; stroke-linecap: round\"/>\n     </g>\n     <g id=\"text_1\">\n      <!-- id -->\n      <g style=\"fill: #262626\" transform=\"translate(63.429265 500.346144) rotate(-90) scale(0.11 -0.11)\">\n       <defs>\n        <path id=\"DejaVuSans-69\" d=\"M 603 3500 \nL 1178 3500 \nL 1178 0 \nL 603 0 \nL 603 3500 \nz\nM 603 4863 \nL 1178 4863 \nL 1178 4134 \nL 603 4134 \nL 603 4863 \nz\n\" transform=\"scale(0.015625)\"/>\n        <path id=\"DejaVuSans-64\" d=\"M 2906 2969 \nL 2906 4863 \nL 3481 4863 \nL 3481 0 \nL 2906 0 \nL 2906 525 \nQ 2725 213 2448 61 \nQ 2172 -91 1784 -91 \nQ 1150 -91 751 415 \nQ 353 922 353 1747 \nQ 353 2572 751 3078 \nQ 1150 3584 1784 3584 \nQ 2172 3584 2448 3432 \nQ 2725 3281 2906 2969 \nz\nM 947 1747 \nQ 947 1113 1208 752 \nQ 1469 391 1925 391 \nQ 2381 391 2643 752 \nQ 2906 1113 2906 1747 \nQ 2906 2381 2643 2742 \nQ 2381 3103 1925 3103 \nQ 1469 3103 1208 2742 \nQ 947 2381 947 1747 \nz\n\" transform=\"scale(0.015625)\"/>\n       </defs>\n       <use xlink:href=\"#DejaVuSans-69\"/>\n       <use xlink:href=\"#DejaVuSans-64\" x=\"27.783203\"/>\n      </g>\n     </g>\n    </g>\n    <g id=\"xtick_2\">\n     <g id=\"line2d_2\">\n      <path d=\"M 98.797482 480.806925 \nL 98.797482 22.318125 \n\" clip-path=\"url(#pcf6d4a167b)\" style=\"fill: none; stroke: #cccccc; stroke-linecap: round\"/>\n     </g>\n     <g id=\"text_2\">\n      <!-- name -->\n      <g style=\"fill: #262626\" transform=\"translate(101.832794 521.502237) rotate(-90) scale(0.11 -0.11)\">\n       <defs>\n        <path id=\"DejaVuSans-6e\" d=\"M 3513 2113 \nL 3513 0 \nL 2938 0 \nL 2938 2094 \nQ 2938 2591 2744 2837 \nQ 2550 3084 2163 3084 \nQ 1697 3084 1428 2787 \nQ 1159 2491 1159 1978 \nL 1159 0 \nL 581 0 \nL 581 3500 \nL 1159 3500 \nL 1159 2956 \nQ 1366 3272 1645 3428 \nQ 1925 3584 2291 3584 \nQ 2894 3584 3203 3211 \nQ 3513 2838 3513 2113 \nz\n\" transform=\"scale(0.015625)\"/>\n        <path id=\"DejaVuSans-61\" d=\"M 2194 1759 \nQ 1497 1759 1228 1600 \nQ 959 1441 959 1056 \nQ 959 750 1161 570 \nQ 1363 391 1709 391 \nQ 2188 391 2477 730 \nQ 2766 1069 2766 1631 \nL 2766 1759 \nL 2194 1759 \nz\nM 3341 1997 \nL 3341 0 \nL 2766 0 \nL 2766 531 \nQ 2569 213 2275 61 \nQ 1981 -91 1556 -91 \nQ 1019 -91 701 211 \nQ 384 513 384 1019 \nQ 384 1609 779 1909 \nQ 1175 2209 1959 2209 \nL 2766 2209 \nL 2766 2266 \nQ 2766 2663 2505 2880 \nQ 2244 3097 1772 3097 \nQ 1472 3097 1187 3025 \nQ 903 2953 641 2809 \nL 641 3341 \nQ 956 3463 1253 3523 \nQ 1550 3584 1831 3584 \nQ 2591 3584 2966 3190 \nQ 3341 2797 3341 1997 \nz\n\" transform=\"scale(0.015625)\"/>\n        <path id=\"DejaVuSans-6d\" d=\"M 3328 2828 \nQ 3544 3216 3844 3400 \nQ 4144 3584 4550 3584 \nQ 5097 3584 5394 3201 \nQ 5691 2819 5691 2113 \nL 5691 0 \nL 5113 0 \nL 5113 2094 \nQ 5113 2597 4934 2840 \nQ 4756 3084 4391 3084 \nQ 3944 3084 3684 2787 \nQ 3425 2491 3425 1978 \nL 3425 0 \nL 2847 0 \nL 2847 2094 \nQ 2847 2600 2669 2842 \nQ 2491 3084 2119 3084 \nQ 1678 3084 1418 2786 \nQ 1159 2488 1159 1978 \nL 1159 0 \nL 581 0 \nL 581 3500 \nL 1159 3500 \nL 1159 2956 \nQ 1356 3278 1631 3431 \nQ 1906 3584 2284 3584 \nQ 2666 3584 2933 3390 \nQ 3200 3197 3328 2828 \nz\n\" transform=\"scale(0.015625)\"/>\n        <path id=\"DejaVuSans-65\" d=\"M 3597 1894 \nL 3597 1613 \nL 953 1613 \nQ 991 1019 1311 708 \nQ 1631 397 2203 397 \nQ 2534 397 2845 478 \nQ 3156 559 3463 722 \nL 3463 178 \nQ 3153 47 2828 -22 \nQ 2503 -91 2169 -91 \nQ 1331 -91 842 396 \nQ 353 884 353 1716 \nQ 353 2575 817 3079 \nQ 1281 3584 2069 3584 \nQ 2775 3584 3186 3129 \nQ 3597 2675 3597 1894 \nz\nM 3022 2063 \nQ 3016 2534 2758 2815 \nQ 2500 3097 2075 3097 \nQ 1594 3097 1305 2825 \nQ 1016 2553 972 2059 \nL 3022 2063 \nz\n\" transform=\"scale(0.015625)\"/>\n       </defs>\n       <use xlink:href=\"#DejaVuSans-6e\"/>\n       <use xlink:href=\"#DejaVuSans-61\" x=\"63.378906\"/>\n       <use xlink:href=\"#DejaVuSans-6d\" x=\"124.658203\"/>\n       <use xlink:href=\"#DejaVuSans-65\" x=\"222.070312\"/>\n      </g>\n     </g>\n    </g>\n    <g id=\"xtick_3\">\n     <g id=\"line2d_3\">\n      <path d=\"M 137.201011 480.806925 \nL 137.201011 22.318125 \n\" clip-path=\"url(#pcf6d4a167b)\" style=\"fill: none; stroke: #cccccc; stroke-linecap: round\"/>\n     </g>\n     <g id=\"text_3\">\n      <!-- date -->\n      <g style=\"fill: #262626\" transform=\"translate(140.236324 515.111925) rotate(-90) scale(0.11 -0.11)\">\n       <defs>\n        <path id=\"DejaVuSans-74\" d=\"M 1172 4494 \nL 1172 3500 \nL 2356 3500 \nL 2356 3053 \nL 1172 3053 \nL 1172 1153 \nQ 1172 725 1289 603 \nQ 1406 481 1766 481 \nL 2356 481 \nL 2356 0 \nL 1766 0 \nQ 1100 0 847 248 \nQ 594 497 594 1153 \nL 594 3053 \nL 172 3053 \nL 172 3500 \nL 594 3500 \nL 594 4494 \nL 1172 4494 \nz\n\" transform=\"scale(0.015625)\"/>\n       </defs>\n       <use xlink:href=\"#DejaVuSans-64\"/>\n       <use xlink:href=\"#DejaVuSans-61\" x=\"63.476562\"/>\n       <use xlink:href=\"#DejaVuSans-74\" x=\"124.755859\"/>\n       <use xlink:href=\"#DejaVuSans-65\" x=\"163.964844\"/>\n      </g>\n     </g>\n    </g>\n    <g id=\"xtick_4\">\n     <g id=\"line2d_4\">\n      <path d=\"M 175.60454 480.806925 \nL 175.60454 22.318125 \n\" clip-path=\"url(#pcf6d4a167b)\" style=\"fill: none; stroke: #cccccc; stroke-linecap: round\"/>\n     </g>\n     <g id=\"text_4\">\n      <!-- manner_of_death -->\n      <g style=\"fill: #262626\" transform=\"translate(178.486884 586.374737) rotate(-90) scale(0.11 -0.11)\">\n       <defs>\n        <path id=\"DejaVuSans-72\" d=\"M 2631 2963 \nQ 2534 3019 2420 3045 \nQ 2306 3072 2169 3072 \nQ 1681 3072 1420 2755 \nQ 1159 2438 1159 1844 \nL 1159 0 \nL 581 0 \nL 581 3500 \nL 1159 3500 \nL 1159 2956 \nQ 1341 3275 1631 3429 \nQ 1922 3584 2338 3584 \nQ 2397 3584 2469 3576 \nQ 2541 3569 2628 3553 \nL 2631 2963 \nz\n\" transform=\"scale(0.015625)\"/>\n        <path id=\"DejaVuSans-5f\" d=\"M 3263 -1063 \nL 3263 -1509 \nL -63 -1509 \nL -63 -1063 \nL 3263 -1063 \nz\n\" transform=\"scale(0.015625)\"/>\n        <path id=\"DejaVuSans-6f\" d=\"M 1959 3097 \nQ 1497 3097 1228 2736 \nQ 959 2375 959 1747 \nQ 959 1119 1226 758 \nQ 1494 397 1959 397 \nQ 2419 397 2687 759 \nQ 2956 1122 2956 1747 \nQ 2956 2369 2687 2733 \nQ 2419 3097 1959 3097 \nz\nM 1959 3584 \nQ 2709 3584 3137 3096 \nQ 3566 2609 3566 1747 \nQ 3566 888 3137 398 \nQ 2709 -91 1959 -91 \nQ 1206 -91 779 398 \nQ 353 888 353 1747 \nQ 353 2609 779 3096 \nQ 1206 3584 1959 3584 \nz\n\" transform=\"scale(0.015625)\"/>\n        <path id=\"DejaVuSans-66\" d=\"M 2375 4863 \nL 2375 4384 \nL 1825 4384 \nQ 1516 4384 1395 4259 \nQ 1275 4134 1275 3809 \nL 1275 3500 \nL 2222 3500 \nL 2222 3053 \nL 1275 3053 \nL 1275 0 \nL 697 0 \nL 697 3053 \nL 147 3053 \nL 147 3500 \nL 697 3500 \nL 697 3744 \nQ 697 4328 969 4595 \nQ 1241 4863 1831 4863 \nL 2375 4863 \nz\n\" transform=\"scale(0.015625)\"/>\n        <path id=\"DejaVuSans-68\" d=\"M 3513 2113 \nL 3513 0 \nL 2938 0 \nL 2938 2094 \nQ 2938 2591 2744 2837 \nQ 2550 3084 2163 3084 \nQ 1697 3084 1428 2787 \nQ 1159 2491 1159 1978 \nL 1159 0 \nL 581 0 \nL 581 4863 \nL 1159 4863 \nL 1159 2956 \nQ 1366 3272 1645 3428 \nQ 1925 3584 2291 3584 \nQ 2894 3584 3203 3211 \nQ 3513 2838 3513 2113 \nz\n\" transform=\"scale(0.015625)\"/>\n       </defs>\n       <use xlink:href=\"#DejaVuSans-6d\"/>\n       <use xlink:href=\"#DejaVuSans-61\" x=\"97.412109\"/>\n       <use xlink:href=\"#DejaVuSans-6e\" x=\"158.691406\"/>\n       <use xlink:href=\"#DejaVuSans-6e\" x=\"222.070312\"/>\n       <use xlink:href=\"#DejaVuSans-65\" x=\"285.449219\"/>\n       <use xlink:href=\"#DejaVuSans-72\" x=\"346.972656\"/>\n       <use xlink:href=\"#DejaVuSans-5f\" x=\"388.085938\"/>\n       <use xlink:href=\"#DejaVuSans-6f\" x=\"438.085938\"/>\n       <use xlink:href=\"#DejaVuSans-66\" x=\"499.267578\"/>\n       <use xlink:href=\"#DejaVuSans-5f\" x=\"534.472656\"/>\n       <use xlink:href=\"#DejaVuSans-64\" x=\"584.472656\"/>\n       <use xlink:href=\"#DejaVuSans-65\" x=\"647.949219\"/>\n       <use xlink:href=\"#DejaVuSans-61\" x=\"709.472656\"/>\n       <use xlink:href=\"#DejaVuSans-74\" x=\"770.751953\"/>\n       <use xlink:href=\"#DejaVuSans-68\" x=\"809.960938\"/>\n      </g>\n     </g>\n    </g>\n    <g id=\"xtick_5\">\n     <g id=\"line2d_5\">\n      <path d=\"M 214.00807 480.806925 \nL 214.00807 22.318125 \n\" clip-path=\"url(#pcf6d4a167b)\" style=\"fill: none; stroke: #cccccc; stroke-linecap: round\"/>\n     </g>\n     <g id=\"text_5\">\n      <!-- armed -->\n      <g style=\"fill: #262626\" transform=\"translate(217.043382 525.8438) rotate(-90) scale(0.11 -0.11)\">\n       <use xlink:href=\"#DejaVuSans-61\"/>\n       <use xlink:href=\"#DejaVuSans-72\" x=\"61.279297\"/>\n       <use xlink:href=\"#DejaVuSans-6d\" x=\"100.642578\"/>\n       <use xlink:href=\"#DejaVuSans-65\" x=\"198.054688\"/>\n       <use xlink:href=\"#DejaVuSans-64\" x=\"259.578125\"/>\n      </g>\n     </g>\n    </g>\n    <g id=\"xtick_6\">\n     <g id=\"line2d_6\">\n      <path d=\"M 252.411599 480.806925 \nL 252.411599 22.318125 \n\" clip-path=\"url(#pcf6d4a167b)\" style=\"fill: none; stroke: #cccccc; stroke-linecap: round\"/>\n     </g>\n     <g id=\"text_6\">\n      <!-- age -->\n      <g style=\"fill: #262626\" transform=\"translate(255.446912 510.799581) rotate(-90) scale(0.11 -0.11)\">\n       <defs>\n        <path id=\"DejaVuSans-67\" d=\"M 2906 1791 \nQ 2906 2416 2648 2759 \nQ 2391 3103 1925 3103 \nQ 1463 3103 1205 2759 \nQ 947 2416 947 1791 \nQ 947 1169 1205 825 \nQ 1463 481 1925 481 \nQ 2391 481 2648 825 \nQ 2906 1169 2906 1791 \nz\nM 3481 434 \nQ 3481 -459 3084 -895 \nQ 2688 -1331 1869 -1331 \nQ 1566 -1331 1297 -1286 \nQ 1028 -1241 775 -1147 \nL 775 -588 \nQ 1028 -725 1275 -790 \nQ 1522 -856 1778 -856 \nQ 2344 -856 2625 -561 \nQ 2906 -266 2906 331 \nL 2906 616 \nQ 2728 306 2450 153 \nQ 2172 0 1784 0 \nQ 1141 0 747 490 \nQ 353 981 353 1791 \nQ 353 2603 747 3093 \nQ 1141 3584 1784 3584 \nQ 2172 3584 2450 3431 \nQ 2728 3278 2906 2969 \nL 2906 3500 \nL 3481 3500 \nL 3481 434 \nz\n\" transform=\"scale(0.015625)\"/>\n       </defs>\n       <use xlink:href=\"#DejaVuSans-61\"/>\n       <use xlink:href=\"#DejaVuSans-67\" x=\"61.279297\"/>\n       <use xlink:href=\"#DejaVuSans-65\" x=\"124.755859\"/>\n      </g>\n     </g>\n    </g>\n    <g id=\"xtick_7\">\n     <g id=\"line2d_7\">\n      <path d=\"M 290.815129 480.806925 \nL 290.815129 22.318125 \n\" clip-path=\"url(#pcf6d4a167b)\" style=\"fill: none; stroke: #cccccc; stroke-linecap: round\"/>\n     </g>\n     <g id=\"text_7\">\n      <!-- gender -->\n      <g style=\"fill: #262626\" transform=\"translate(293.850441 529.303644) rotate(-90) scale(0.11 -0.11)\">\n       <use xlink:href=\"#DejaVuSans-67\"/>\n       <use xlink:href=\"#DejaVuSans-65\" x=\"63.476562\"/>\n       <use xlink:href=\"#DejaVuSans-6e\" x=\"125\"/>\n       <use xlink:href=\"#DejaVuSans-64\" x=\"188.378906\"/>\n       <use xlink:href=\"#DejaVuSans-65\" x=\"251.855469\"/>\n       <use xlink:href=\"#DejaVuSans-72\" x=\"313.378906\"/>\n      </g>\n     </g>\n    </g>\n    <g id=\"xtick_8\">\n     <g id=\"line2d_8\">\n      <path d=\"M 329.218658 480.806925 \nL 329.218658 22.318125 \n\" clip-path=\"url(#pcf6d4a167b)\" style=\"fill: none; stroke: #cccccc; stroke-linecap: round\"/>\n     </g>\n     <g id=\"text_8\">\n      <!-- race -->\n      <g style=\"fill: #262626\" transform=\"translate(332.253971 514.386612) rotate(-90) scale(0.11 -0.11)\">\n       <defs>\n        <path id=\"DejaVuSans-63\" d=\"M 3122 3366 \nL 3122 2828 \nQ 2878 2963 2633 3030 \nQ 2388 3097 2138 3097 \nQ 1578 3097 1268 2742 \nQ 959 2388 959 1747 \nQ 959 1106 1268 751 \nQ 1578 397 2138 397 \nQ 2388 397 2633 464 \nQ 2878 531 3122 666 \nL 3122 134 \nQ 2881 22 2623 -34 \nQ 2366 -91 2075 -91 \nQ 1284 -91 818 406 \nQ 353 903 353 1747 \nQ 353 2603 823 3093 \nQ 1294 3584 2113 3584 \nQ 2378 3584 2631 3529 \nQ 2884 3475 3122 3366 \nz\n\" transform=\"scale(0.015625)\"/>\n       </defs>\n       <use xlink:href=\"#DejaVuSans-72\"/>\n       <use xlink:href=\"#DejaVuSans-61\" x=\"41.113281\"/>\n       <use xlink:href=\"#DejaVuSans-63\" x=\"102.392578\"/>\n       <use xlink:href=\"#DejaVuSans-65\" x=\"157.373047\"/>\n      </g>\n     </g>\n    </g>\n    <g id=\"xtick_9\">\n     <g id=\"line2d_9\">\n      <path d=\"M 367.622187 480.806925 \nL 367.622187 22.318125 \n\" clip-path=\"url(#pcf6d4a167b)\" style=\"fill: none; stroke: #cccccc; stroke-linecap: round\"/>\n     </g>\n     <g id=\"text_9\">\n      <!-- city -->\n      <g style=\"fill: #262626\" transform=\"translate(370.6575 510.234112) rotate(-90) scale(0.11 -0.11)\">\n       <defs>\n        <path id=\"DejaVuSans-79\" d=\"M 2059 -325 \nQ 1816 -950 1584 -1140 \nQ 1353 -1331 966 -1331 \nL 506 -1331 \nL 506 -850 \nL 844 -850 \nQ 1081 -850 1212 -737 \nQ 1344 -625 1503 -206 \nL 1606 56 \nL 191 3500 \nL 800 3500 \nL 1894 763 \nL 2988 3500 \nL 3597 3500 \nL 2059 -325 \nz\n\" transform=\"scale(0.015625)\"/>\n       </defs>\n       <use xlink:href=\"#DejaVuSans-63\"/>\n       <use xlink:href=\"#DejaVuSans-69\" x=\"54.980469\"/>\n       <use xlink:href=\"#DejaVuSans-74\" x=\"82.763672\"/>\n       <use xlink:href=\"#DejaVuSans-79\" x=\"121.972656\"/>\n      </g>\n     </g>\n    </g>\n    <g id=\"xtick_10\">\n     <g id=\"line2d_10\">\n      <path d=\"M 406.025717 480.806925 \nL 406.025717 22.318125 \n\" clip-path=\"url(#pcf6d4a167b)\" style=\"fill: none; stroke: #cccccc; stroke-linecap: round\"/>\n     </g>\n     <g id=\"text_10\">\n      <!-- state -->\n      <g style=\"fill: #262626\" transform=\"translate(409.061029 518.1713) rotate(-90) scale(0.11 -0.11)\">\n       <defs>\n        <path id=\"DejaVuSans-73\" d=\"M 2834 3397 \nL 2834 2853 \nQ 2591 2978 2328 3040 \nQ 2066 3103 1784 3103 \nQ 1356 3103 1142 2972 \nQ 928 2841 928 2578 \nQ 928 2378 1081 2264 \nQ 1234 2150 1697 2047 \nL 1894 2003 \nQ 2506 1872 2764 1633 \nQ 3022 1394 3022 966 \nQ 3022 478 2636 193 \nQ 2250 -91 1575 -91 \nQ 1294 -91 989 -36 \nQ 684 19 347 128 \nL 347 722 \nQ 666 556 975 473 \nQ 1284 391 1588 391 \nQ 1994 391 2212 530 \nQ 2431 669 2431 922 \nQ 2431 1156 2273 1281 \nQ 2116 1406 1581 1522 \nL 1381 1569 \nQ 847 1681 609 1914 \nQ 372 2147 372 2553 \nQ 372 3047 722 3315 \nQ 1072 3584 1716 3584 \nQ 2034 3584 2315 3537 \nQ 2597 3491 2834 3397 \nz\n\" transform=\"scale(0.015625)\"/>\n       </defs>\n       <use xlink:href=\"#DejaVuSans-73\"/>\n       <use xlink:href=\"#DejaVuSans-74\" x=\"52.099609\"/>\n       <use xlink:href=\"#DejaVuSans-61\" x=\"91.308594\"/>\n       <use xlink:href=\"#DejaVuSans-74\" x=\"152.587891\"/>\n       <use xlink:href=\"#DejaVuSans-65\" x=\"191.796875\"/>\n      </g>\n     </g>\n    </g>\n    <g id=\"xtick_11\">\n     <g id=\"line2d_11\">\n      <path d=\"M 444.429246 480.806925 \nL 444.429246 22.318125 \n\" clip-path=\"url(#pcf6d4a167b)\" style=\"fill: none; stroke: #cccccc; stroke-linecap: round\"/>\n     </g>\n     <g id=\"text_11\">\n      <!-- signs_of_mental_illness -->\n      <g style=\"fill: #262626\" transform=\"translate(447.31159 618.812706) rotate(-90) scale(0.11 -0.11)\">\n       <defs>\n        <path id=\"DejaVuSans-6c\" d=\"M 603 4863 \nL 1178 4863 \nL 1178 0 \nL 603 0 \nL 603 4863 \nz\n\" transform=\"scale(0.015625)\"/>\n       </defs>\n       <use xlink:href=\"#DejaVuSans-73\"/>\n       <use xlink:href=\"#DejaVuSans-69\" x=\"52.099609\"/>\n       <use xlink:href=\"#DejaVuSans-67\" x=\"79.882812\"/>\n       <use xlink:href=\"#DejaVuSans-6e\" x=\"143.359375\"/>\n       <use xlink:href=\"#DejaVuSans-73\" x=\"206.738281\"/>\n       <use xlink:href=\"#DejaVuSans-5f\" x=\"258.837891\"/>\n       <use xlink:href=\"#DejaVuSans-6f\" x=\"308.837891\"/>\n       <use xlink:href=\"#DejaVuSans-66\" x=\"370.019531\"/>\n       <use xlink:href=\"#DejaVuSans-5f\" x=\"405.224609\"/>\n       <use xlink:href=\"#DejaVuSans-6d\" x=\"455.224609\"/>\n       <use xlink:href=\"#DejaVuSans-65\" x=\"552.636719\"/>\n       <use xlink:href=\"#DejaVuSans-6e\" x=\"614.160156\"/>\n       <use xlink:href=\"#DejaVuSans-74\" x=\"677.539062\"/>\n       <use xlink:href=\"#DejaVuSans-61\" x=\"716.748047\"/>\n       <use xlink:href=\"#DejaVuSans-6c\" x=\"778.027344\"/>\n       <use xlink:href=\"#DejaVuSans-5f\" x=\"805.810547\"/>\n       <use xlink:href=\"#DejaVuSans-69\" x=\"855.810547\"/>\n       <use xlink:href=\"#DejaVuSans-6c\" x=\"883.59375\"/>\n       <use xlink:href=\"#DejaVuSans-6c\" x=\"911.376953\"/>\n       <use xlink:href=\"#DejaVuSans-6e\" x=\"939.160156\"/>\n       <use xlink:href=\"#DejaVuSans-65\" x=\"1002.539062\"/>\n       <use xlink:href=\"#DejaVuSans-73\" x=\"1064.0625\"/>\n       <use xlink:href=\"#DejaVuSans-73\" x=\"1116.162109\"/>\n      </g>\n     </g>\n    </g>\n    <g id=\"xtick_12\">\n     <g id=\"line2d_12\">\n      <path d=\"M 482.832776 480.806925 \nL 482.832776 22.318125 \n\" clip-path=\"url(#pcf6d4a167b)\" style=\"fill: none; stroke: #cccccc; stroke-linecap: round\"/>\n     </g>\n     <g id=\"text_12\">\n      <!-- threat_level -->\n      <g style=\"fill: #262626\" transform=\"translate(485.715119 555.346144) rotate(-90) scale(0.11 -0.11)\">\n       <defs>\n        <path id=\"DejaVuSans-76\" d=\"M 191 3500 \nL 800 3500 \nL 1894 563 \nL 2988 3500 \nL 3597 3500 \nL 2284 0 \nL 1503 0 \nL 191 3500 \nz\n\" transform=\"scale(0.015625)\"/>\n       </defs>\n       <use xlink:href=\"#DejaVuSans-74\"/>\n       <use xlink:href=\"#DejaVuSans-68\" x=\"39.208984\"/>\n       <use xlink:href=\"#DejaVuSans-72\" x=\"102.587891\"/>\n       <use xlink:href=\"#DejaVuSans-65\" x=\"141.451172\"/>\n       <use xlink:href=\"#DejaVuSans-61\" x=\"202.974609\"/>\n       <use xlink:href=\"#DejaVuSans-74\" x=\"264.253906\"/>\n       <use xlink:href=\"#DejaVuSans-5f\" x=\"303.462891\"/>\n       <use xlink:href=\"#DejaVuSans-6c\" x=\"353.462891\"/>\n       <use xlink:href=\"#DejaVuSans-65\" x=\"381.246094\"/>\n       <use xlink:href=\"#DejaVuSans-76\" x=\"442.769531\"/>\n       <use xlink:href=\"#DejaVuSans-65\" x=\"501.949219\"/>\n       <use xlink:href=\"#DejaVuSans-6c\" x=\"563.472656\"/>\n      </g>\n     </g>\n    </g>\n    <g id=\"xtick_13\">\n     <g id=\"line2d_13\">\n      <path d=\"M 521.236305 480.806925 \nL 521.236305 22.318125 \n\" clip-path=\"url(#pcf6d4a167b)\" style=\"fill: none; stroke: #cccccc; stroke-linecap: round\"/>\n     </g>\n     <g id=\"text_13\">\n      <!-- flee -->\n      <g style=\"fill: #262626\" transform=\"translate(524.271618 510.772081) rotate(-90) scale(0.11 -0.11)\">\n       <use xlink:href=\"#DejaVuSans-66\"/>\n       <use xlink:href=\"#DejaVuSans-6c\" x=\"35.205078\"/>\n       <use xlink:href=\"#DejaVuSans-65\" x=\"62.988281\"/>\n       <use xlink:href=\"#DejaVuSans-65\" x=\"124.511719\"/>\n      </g>\n     </g>\n    </g>\n    <g id=\"xtick_14\">\n     <g id=\"line2d_14\">\n      <path d=\"M 559.639835 480.806925 \nL 559.639835 22.318125 \n\" clip-path=\"url(#pcf6d4a167b)\" style=\"fill: none; stroke: #cccccc; stroke-linecap: round\"/>\n     </g>\n     <g id=\"text_14\">\n      <!-- body_camera -->\n      <g style=\"fill: #262626\" transform=\"translate(562.522178 564.55005) rotate(-90) scale(0.11 -0.11)\">\n       <defs>\n        <path id=\"DejaVuSans-62\" d=\"M 3116 1747 \nQ 3116 2381 2855 2742 \nQ 2594 3103 2138 3103 \nQ 1681 3103 1420 2742 \nQ 1159 2381 1159 1747 \nQ 1159 1113 1420 752 \nQ 1681 391 2138 391 \nQ 2594 391 2855 752 \nQ 3116 1113 3116 1747 \nz\nM 1159 2969 \nQ 1341 3281 1617 3432 \nQ 1894 3584 2278 3584 \nQ 2916 3584 3314 3078 \nQ 3713 2572 3713 1747 \nQ 3713 922 3314 415 \nQ 2916 -91 2278 -91 \nQ 1894 -91 1617 61 \nQ 1341 213 1159 525 \nL 1159 0 \nL 581 0 \nL 581 4863 \nL 1159 4863 \nL 1159 2969 \nz\n\" transform=\"scale(0.015625)\"/>\n       </defs>\n       <use xlink:href=\"#DejaVuSans-62\"/>\n       <use xlink:href=\"#DejaVuSans-6f\" x=\"63.476562\"/>\n       <use xlink:href=\"#DejaVuSans-64\" x=\"124.658203\"/>\n       <use xlink:href=\"#DejaVuSans-79\" x=\"188.134766\"/>\n       <use xlink:href=\"#DejaVuSans-5f\" x=\"247.314453\"/>\n       <use xlink:href=\"#DejaVuSans-63\" x=\"297.314453\"/>\n       <use xlink:href=\"#DejaVuSans-61\" x=\"352.294922\"/>\n       <use xlink:href=\"#DejaVuSans-6d\" x=\"413.574219\"/>\n       <use xlink:href=\"#DejaVuSans-65\" x=\"510.986328\"/>\n       <use xlink:href=\"#DejaVuSans-72\" x=\"572.509766\"/>\n       <use xlink:href=\"#DejaVuSans-61\" x=\"613.623047\"/>\n      </g>\n     </g>\n    </g>\n    <g id=\"xtick_15\">\n     <g id=\"line2d_15\">\n      <path d=\"M 598.043364 480.806925 \nL 598.043364 22.318125 \n\" clip-path=\"url(#pcf6d4a167b)\" style=\"fill: none; stroke: #cccccc; stroke-linecap: round\"/>\n     </g>\n     <g id=\"text_15\">\n      <!-- longitude -->\n      <g style=\"fill: #262626\" transform=\"translate(601.078676 542.139269) rotate(-90) scale(0.11 -0.11)\">\n       <defs>\n        <path id=\"DejaVuSans-75\" d=\"M 544 1381 \nL 544 3500 \nL 1119 3500 \nL 1119 1403 \nQ 1119 906 1312 657 \nQ 1506 409 1894 409 \nQ 2359 409 2629 706 \nQ 2900 1003 2900 1516 \nL 2900 3500 \nL 3475 3500 \nL 3475 0 \nL 2900 0 \nL 2900 538 \nQ 2691 219 2414 64 \nQ 2138 -91 1772 -91 \nQ 1169 -91 856 284 \nQ 544 659 544 1381 \nz\nM 1991 3584 \nL 1991 3584 \nz\n\" transform=\"scale(0.015625)\"/>\n       </defs>\n       <use xlink:href=\"#DejaVuSans-6c\"/>\n       <use xlink:href=\"#DejaVuSans-6f\" x=\"27.783203\"/>\n       <use xlink:href=\"#DejaVuSans-6e\" x=\"88.964844\"/>\n       <use xlink:href=\"#DejaVuSans-67\" x=\"152.34375\"/>\n       <use xlink:href=\"#DejaVuSans-69\" x=\"215.820312\"/>\n       <use xlink:href=\"#DejaVuSans-74\" x=\"243.603516\"/>\n       <use xlink:href=\"#DejaVuSans-75\" x=\"282.8125\"/>\n       <use xlink:href=\"#DejaVuSans-64\" x=\"346.191406\"/>\n       <use xlink:href=\"#DejaVuSans-65\" x=\"409.667969\"/>\n      </g>\n     </g>\n    </g>\n    <g id=\"xtick_16\">\n     <g id=\"line2d_16\">\n      <path d=\"M 636.446893 480.806925 \nL 636.446893 22.318125 \n\" clip-path=\"url(#pcf6d4a167b)\" style=\"fill: none; stroke: #cccccc; stroke-linecap: round\"/>\n     </g>\n     <g id=\"text_16\">\n      <!-- latitude -->\n      <g style=\"fill: #262626\" transform=\"translate(639.482206 532.507394) rotate(-90) scale(0.11 -0.11)\">\n       <use xlink:href=\"#DejaVuSans-6c\"/>\n       <use xlink:href=\"#DejaVuSans-61\" x=\"27.783203\"/>\n       <use xlink:href=\"#DejaVuSans-74\" x=\"89.0625\"/>\n       <use xlink:href=\"#DejaVuSans-69\" x=\"128.271484\"/>\n       <use xlink:href=\"#DejaVuSans-74\" x=\"156.054688\"/>\n       <use xlink:href=\"#DejaVuSans-75\" x=\"195.263672\"/>\n       <use xlink:href=\"#DejaVuSans-64\" x=\"258.642578\"/>\n       <use xlink:href=\"#DejaVuSans-65\" x=\"322.119141\"/>\n      </g>\n     </g>\n    </g>\n    <g id=\"xtick_17\">\n     <g id=\"line2d_17\">\n      <path d=\"M 674.850423 480.806925 \nL 674.850423 22.318125 \n\" clip-path=\"url(#pcf6d4a167b)\" style=\"fill: none; stroke: #cccccc; stroke-linecap: round\"/>\n     </g>\n     <g id=\"text_17\">\n      <!-- is_geocoding_exact -->\n      <g style=\"fill: #262626\" transform=\"translate(677.732767 597.5363) rotate(-90) scale(0.11 -0.11)\">\n       <defs>\n        <path id=\"DejaVuSans-78\" d=\"M 3513 3500 \nL 2247 1797 \nL 3578 0 \nL 2900 0 \nL 1881 1375 \nL 863 0 \nL 184 0 \nL 1544 1831 \nL 300 3500 \nL 978 3500 \nL 1906 2253 \nL 2834 3500 \nL 3513 3500 \nz\n\" transform=\"scale(0.015625)\"/>\n       </defs>\n       <use xlink:href=\"#DejaVuSans-69\"/>\n       <use xlink:href=\"#DejaVuSans-73\" x=\"27.783203\"/>\n       <use xlink:href=\"#DejaVuSans-5f\" x=\"79.882812\"/>\n       <use xlink:href=\"#DejaVuSans-67\" x=\"129.882812\"/>\n       <use xlink:href=\"#DejaVuSans-65\" x=\"193.359375\"/>\n       <use xlink:href=\"#DejaVuSans-6f\" x=\"254.882812\"/>\n       <use xlink:href=\"#DejaVuSans-63\" x=\"316.064453\"/>\n       <use xlink:href=\"#DejaVuSans-6f\" x=\"371.044922\"/>\n       <use xlink:href=\"#DejaVuSans-64\" x=\"432.226562\"/>\n       <use xlink:href=\"#DejaVuSans-69\" x=\"495.703125\"/>\n       <use xlink:href=\"#DejaVuSans-6e\" x=\"523.486328\"/>\n       <use xlink:href=\"#DejaVuSans-67\" x=\"586.865234\"/>\n       <use xlink:href=\"#DejaVuSans-5f\" x=\"650.341797\"/>\n       <use xlink:href=\"#DejaVuSans-65\" x=\"700.341797\"/>\n       <use xlink:href=\"#DejaVuSans-78\" x=\"760.115234\"/>\n       <use xlink:href=\"#DejaVuSans-61\" x=\"819.294922\"/>\n       <use xlink:href=\"#DejaVuSans-63\" x=\"880.574219\"/>\n       <use xlink:href=\"#DejaVuSans-74\" x=\"935.554688\"/>\n      </g>\n     </g>\n    </g>\n   </g>\n   <g id=\"matplotlib.axis_2\">\n    <g id=\"ytick_1\">\n     <g id=\"line2d_18\">\n      <path d=\"M 41.192188 480.806925 \nL 694.052187 480.806925 \n\" clip-path=\"url(#pcf6d4a167b)\" style=\"fill: none; stroke: #cccccc; stroke-linecap: round\"/>\n     </g>\n     <g id=\"text_18\">\n      <!-- 0.0 -->\n      <g style=\"fill: #262626\" transform=\"translate(14.19875 484.986066) scale(0.11 -0.11)\">\n       <defs>\n        <path id=\"DejaVuSans-30\" d=\"M 2034 4250 \nQ 1547 4250 1301 3770 \nQ 1056 3291 1056 2328 \nQ 1056 1369 1301 889 \nQ 1547 409 2034 409 \nQ 2525 409 2770 889 \nQ 3016 1369 3016 2328 \nQ 3016 3291 2770 3770 \nQ 2525 4250 2034 4250 \nz\nM 2034 4750 \nQ 2819 4750 3233 4129 \nQ 3647 3509 3647 2328 \nQ 3647 1150 3233 529 \nQ 2819 -91 2034 -91 \nQ 1250 -91 836 529 \nQ 422 1150 422 2328 \nQ 422 3509 836 4129 \nQ 1250 4750 2034 4750 \nz\n\" transform=\"scale(0.015625)\"/>\n        <path id=\"DejaVuSans-2e\" d=\"M 684 794 \nL 1344 794 \nL 1344 0 \nL 684 0 \nL 684 794 \nz\n\" transform=\"scale(0.015625)\"/>\n       </defs>\n       <use xlink:href=\"#DejaVuSans-30\"/>\n       <use xlink:href=\"#DejaVuSans-2e\" x=\"63.623047\"/>\n       <use xlink:href=\"#DejaVuSans-30\" x=\"95.410156\"/>\n      </g>\n     </g>\n    </g>\n    <g id=\"ytick_2\">\n     <g id=\"line2d_19\">\n      <path d=\"M 41.192188 422.489968 \nL 694.052187 422.489968 \n\" clip-path=\"url(#pcf6d4a167b)\" style=\"fill: none; stroke: #cccccc; stroke-linecap: round\"/>\n     </g>\n     <g id=\"text_19\">\n      <!-- 2.5 -->\n      <g style=\"fill: #262626\" transform=\"translate(14.19875 426.669108) scale(0.11 -0.11)\">\n       <defs>\n        <path id=\"DejaVuSans-32\" d=\"M 1228 531 \nL 3431 531 \nL 3431 0 \nL 469 0 \nL 469 531 \nQ 828 903 1448 1529 \nQ 2069 2156 2228 2338 \nQ 2531 2678 2651 2914 \nQ 2772 3150 2772 3378 \nQ 2772 3750 2511 3984 \nQ 2250 4219 1831 4219 \nQ 1534 4219 1204 4116 \nQ 875 4013 500 3803 \nL 500 4441 \nQ 881 4594 1212 4672 \nQ 1544 4750 1819 4750 \nQ 2544 4750 2975 4387 \nQ 3406 4025 3406 3419 \nQ 3406 3131 3298 2873 \nQ 3191 2616 2906 2266 \nQ 2828 2175 2409 1742 \nQ 1991 1309 1228 531 \nz\n\" transform=\"scale(0.015625)\"/>\n        <path id=\"DejaVuSans-35\" d=\"M 691 4666 \nL 3169 4666 \nL 3169 4134 \nL 1269 4134 \nL 1269 2991 \nQ 1406 3038 1543 3061 \nQ 1681 3084 1819 3084 \nQ 2600 3084 3056 2656 \nQ 3513 2228 3513 1497 \nQ 3513 744 3044 326 \nQ 2575 -91 1722 -91 \nQ 1428 -91 1123 -41 \nQ 819 9 494 109 \nL 494 744 \nQ 775 591 1075 516 \nQ 1375 441 1709 441 \nQ 2250 441 2565 725 \nQ 2881 1009 2881 1497 \nQ 2881 1984 2565 2268 \nQ 2250 2553 1709 2553 \nQ 1456 2553 1204 2497 \nQ 953 2441 691 2322 \nL 691 4666 \nz\n\" transform=\"scale(0.015625)\"/>\n       </defs>\n       <use xlink:href=\"#DejaVuSans-32\"/>\n       <use xlink:href=\"#DejaVuSans-2e\" x=\"63.623047\"/>\n       <use xlink:href=\"#DejaVuSans-35\" x=\"95.410156\"/>\n      </g>\n     </g>\n    </g>\n    <g id=\"ytick_3\">\n     <g id=\"line2d_20\">\n      <path d=\"M 41.192188 364.17301 \nL 694.052187 364.17301 \n\" clip-path=\"url(#pcf6d4a167b)\" style=\"fill: none; stroke: #cccccc; stroke-linecap: round\"/>\n     </g>\n     <g id=\"text_20\">\n      <!-- 5.0 -->\n      <g style=\"fill: #262626\" transform=\"translate(14.19875 368.352151) scale(0.11 -0.11)\">\n       <use xlink:href=\"#DejaVuSans-35\"/>\n       <use xlink:href=\"#DejaVuSans-2e\" x=\"63.623047\"/>\n       <use xlink:href=\"#DejaVuSans-30\" x=\"95.410156\"/>\n      </g>\n     </g>\n    </g>\n    <g id=\"ytick_4\">\n     <g id=\"line2d_21\">\n      <path d=\"M 41.192188 305.856053 \nL 694.052187 305.856053 \n\" clip-path=\"url(#pcf6d4a167b)\" style=\"fill: none; stroke: #cccccc; stroke-linecap: round\"/>\n     </g>\n     <g id=\"text_21\">\n      <!-- 7.5 -->\n      <g style=\"fill: #262626\" transform=\"translate(14.19875 310.035193) scale(0.11 -0.11)\">\n       <defs>\n        <path id=\"DejaVuSans-37\" d=\"M 525 4666 \nL 3525 4666 \nL 3525 4397 \nL 1831 0 \nL 1172 0 \nL 2766 4134 \nL 525 4134 \nL 525 4666 \nz\n\" transform=\"scale(0.015625)\"/>\n       </defs>\n       <use xlink:href=\"#DejaVuSans-37\"/>\n       <use xlink:href=\"#DejaVuSans-2e\" x=\"63.623047\"/>\n       <use xlink:href=\"#DejaVuSans-35\" x=\"95.410156\"/>\n      </g>\n     </g>\n    </g>\n    <g id=\"ytick_5\">\n     <g id=\"line2d_22\">\n      <path d=\"M 41.192188 247.539095 \nL 694.052187 247.539095 \n\" clip-path=\"url(#pcf6d4a167b)\" style=\"fill: none; stroke: #cccccc; stroke-linecap: round\"/>\n     </g>\n     <g id=\"text_22\">\n      <!-- 10.0 -->\n      <g style=\"fill: #262626\" transform=\"translate(7.2 251.718236) scale(0.11 -0.11)\">\n       <defs>\n        <path id=\"DejaVuSans-31\" d=\"M 794 531 \nL 1825 531 \nL 1825 4091 \nL 703 3866 \nL 703 4441 \nL 1819 4666 \nL 2450 4666 \nL 2450 531 \nL 3481 531 \nL 3481 0 \nL 794 0 \nL 794 531 \nz\n\" transform=\"scale(0.015625)\"/>\n       </defs>\n       <use xlink:href=\"#DejaVuSans-31\"/>\n       <use xlink:href=\"#DejaVuSans-30\" x=\"63.623047\"/>\n       <use xlink:href=\"#DejaVuSans-2e\" x=\"127.246094\"/>\n       <use xlink:href=\"#DejaVuSans-30\" x=\"159.033203\"/>\n      </g>\n     </g>\n    </g>\n    <g id=\"ytick_6\">\n     <g id=\"line2d_23\">\n      <path d=\"M 41.192188 189.222138 \nL 694.052187 189.222138 \n\" clip-path=\"url(#pcf6d4a167b)\" style=\"fill: none; stroke: #cccccc; stroke-linecap: round\"/>\n     </g>\n     <g id=\"text_23\">\n      <!-- 12.5 -->\n      <g style=\"fill: #262626\" transform=\"translate(7.2 193.401278) scale(0.11 -0.11)\">\n       <use xlink:href=\"#DejaVuSans-31\"/>\n       <use xlink:href=\"#DejaVuSans-32\" x=\"63.623047\"/>\n       <use xlink:href=\"#DejaVuSans-2e\" x=\"127.246094\"/>\n       <use xlink:href=\"#DejaVuSans-35\" x=\"159.033203\"/>\n      </g>\n     </g>\n    </g>\n    <g id=\"ytick_7\">\n     <g id=\"line2d_24\">\n      <path d=\"M 41.192188 130.90518 \nL 694.052187 130.90518 \n\" clip-path=\"url(#pcf6d4a167b)\" style=\"fill: none; stroke: #cccccc; stroke-linecap: round\"/>\n     </g>\n     <g id=\"text_24\">\n      <!-- 15.0 -->\n      <g style=\"fill: #262626\" transform=\"translate(7.2 135.084321) scale(0.11 -0.11)\">\n       <use xlink:href=\"#DejaVuSans-31\"/>\n       <use xlink:href=\"#DejaVuSans-35\" x=\"63.623047\"/>\n       <use xlink:href=\"#DejaVuSans-2e\" x=\"127.246094\"/>\n       <use xlink:href=\"#DejaVuSans-30\" x=\"159.033203\"/>\n      </g>\n     </g>\n    </g>\n    <g id=\"ytick_8\">\n     <g id=\"line2d_25\">\n      <path d=\"M 41.192188 72.588223 \nL 694.052187 72.588223 \n\" clip-path=\"url(#pcf6d4a167b)\" style=\"fill: none; stroke: #cccccc; stroke-linecap: round\"/>\n     </g>\n     <g id=\"text_25\">\n      <!-- 17.5 -->\n      <g style=\"fill: #262626\" transform=\"translate(7.2 76.767364) scale(0.11 -0.11)\">\n       <use xlink:href=\"#DejaVuSans-31\"/>\n       <use xlink:href=\"#DejaVuSans-37\" x=\"63.623047\"/>\n       <use xlink:href=\"#DejaVuSans-2e\" x=\"127.246094\"/>\n       <use xlink:href=\"#DejaVuSans-35\" x=\"159.033203\"/>\n      </g>\n     </g>\n    </g>\n   </g>\n   <g id=\"patch_3\">\n    <path d=\"M 50.79307 480.806925 \nL 69.994835 480.806925 \nL 69.994835 480.806925 \nL 50.79307 480.806925 \nz\n\" clip-path=\"url(#pcf6d4a167b)\" style=\"fill: #001c7f; stroke: #ffffff; stroke-linejoin: miter\"/>\n   </g>\n   <g id=\"patch_4\">\n    <path d=\"M 89.196599 480.806925 \nL 108.398364 480.806925 \nL 108.398364 480.806925 \nL 89.196599 480.806925 \nz\n\" clip-path=\"url(#pcf6d4a167b)\" style=\"fill: #001c7f; stroke: #ffffff; stroke-linejoin: miter\"/>\n   </g>\n   <g id=\"patch_5\">\n    <path d=\"M 127.600129 480.806925 \nL 146.801893 480.806925 \nL 146.801893 480.806925 \nL 127.600129 480.806925 \nz\n\" clip-path=\"url(#pcf6d4a167b)\" style=\"fill: #001c7f; stroke: #ffffff; stroke-linejoin: miter\"/>\n   </g>\n   <g id=\"patch_6\">\n    <path d=\"M 166.003658 480.806925 \nL 185.205423 480.806925 \nL 185.205423 480.806925 \nL 166.003658 480.806925 \nz\n\" clip-path=\"url(#pcf6d4a167b)\" style=\"fill: #001c7f; stroke: #ffffff; stroke-linejoin: miter\"/>\n   </g>\n   <g id=\"patch_7\">\n    <path d=\"M 204.407187 480.806925 \nL 223.608952 480.806925 \nL 223.608952 417.343014 \nL 204.407187 417.343014 \nz\n\" clip-path=\"url(#pcf6d4a167b)\" style=\"fill: #001c7f; stroke: #ffffff; stroke-linejoin: miter\"/>\n   </g>\n   <g id=\"patch_8\">\n    <path d=\"M 242.810717 480.806925 \nL 262.012482 480.806925 \nL 262.012482 337.481729 \nL 242.810717 337.481729 \nz\n\" clip-path=\"url(#pcf6d4a167b)\" style=\"fill: #001c7f; stroke: #ffffff; stroke-linejoin: miter\"/>\n   </g>\n   <g id=\"patch_9\">\n    <path d=\"M 281.214246 480.806925 \nL 300.416011 480.806925 \nL 300.416011 475.037479 \nL 281.214246 475.037479 \nz\n\" clip-path=\"url(#pcf6d4a167b)\" style=\"fill: #001c7f; stroke: #ffffff; stroke-linejoin: miter\"/>\n   </g>\n   <g id=\"patch_10\">\n    <path d=\"M 319.617776 480.806925 \nL 338.81954 480.806925 \nL 338.81954 44.150925 \nL 319.617776 44.150925 \nz\n\" clip-path=\"url(#pcf6d4a167b)\" style=\"fill: #001c7f; stroke: #ffffff; stroke-linejoin: miter\"/>\n   </g>\n   <g id=\"patch_11\">\n    <path d=\"M 358.021305 480.806925 \nL 377.22307 480.806925 \nL 377.22307 480.806925 \nL 358.021305 480.806925 \nz\n\" clip-path=\"url(#pcf6d4a167b)\" style=\"fill: #001c7f; stroke: #ffffff; stroke-linejoin: miter\"/>\n   </g>\n   <g id=\"patch_12\">\n    <path d=\"M 396.424835 480.806925 \nL 415.626599 480.806925 \nL 415.626599 480.806925 \nL 396.424835 480.806925 \nz\n\" clip-path=\"url(#pcf6d4a167b)\" style=\"fill: #001c7f; stroke: #ffffff; stroke-linejoin: miter\"/>\n   </g>\n   <g id=\"patch_13\">\n    <path d=\"M 434.828364 480.806925 \nL 454.030129 480.806925 \nL 454.030129 480.806925 \nL 434.828364 480.806925 \nz\n\" clip-path=\"url(#pcf6d4a167b)\" style=\"fill: #001c7f; stroke: #ffffff; stroke-linejoin: miter\"/>\n   </g>\n   <g id=\"patch_14\">\n    <path d=\"M 473.231893 480.806925 \nL 492.433658 480.806925 \nL 492.433658 480.806925 \nL 473.231893 480.806925 \nz\n\" clip-path=\"url(#pcf6d4a167b)\" style=\"fill: #001c7f; stroke: #ffffff; stroke-linejoin: miter\"/>\n   </g>\n   <g id=\"patch_15\">\n    <path d=\"M 511.635423 480.806925 \nL 530.837188 480.806925 \nL 530.837188 218.752594 \nL 511.635423 218.752594 \nz\n\" clip-path=\"url(#pcf6d4a167b)\" style=\"fill: #001c7f; stroke: #ffffff; stroke-linejoin: miter\"/>\n   </g>\n   <g id=\"patch_16\">\n    <path d=\"M 550.038952 480.806925 \nL 569.240717 480.806925 \nL 569.240717 480.806925 \nL 550.038952 480.806925 \nz\n\" clip-path=\"url(#pcf6d4a167b)\" style=\"fill: #001c7f; stroke: #ffffff; stroke-linejoin: miter\"/>\n   </g>\n   <g id=\"patch_17\">\n    <path d=\"M 588.442482 480.806925 \nL 607.644246 480.806925 \nL 607.644246 227.254936 \nL 588.442482 227.254936 \nz\n\" clip-path=\"url(#pcf6d4a167b)\" style=\"fill: #001c7f; stroke: #ffffff; stroke-linejoin: miter\"/>\n   </g>\n   <g id=\"patch_18\">\n    <path d=\"M 626.846011 480.806925 \nL 646.047776 480.806925 \nL 646.047776 227.254936 \nL 626.846011 227.254936 \nz\n\" clip-path=\"url(#pcf6d4a167b)\" style=\"fill: #001c7f; stroke: #ffffff; stroke-linejoin: miter\"/>\n   </g>\n   <g id=\"patch_19\">\n    <path d=\"M 665.24954 480.806925 \nL 684.451305 480.806925 \nL 684.451305 480.806925 \nL 665.24954 480.806925 \nz\n\" clip-path=\"url(#pcf6d4a167b)\" style=\"fill: #001c7f; stroke: #ffffff; stroke-linejoin: miter\"/>\n   </g>\n   <g id=\"patch_20\">\n    <path d=\"M 41.192188 480.806925 \nL 41.192188 22.318125 \n\" style=\"fill: none; stroke: #cccccc; stroke-width: 1.25; stroke-linejoin: miter; stroke-linecap: square\"/>\n   </g>\n   <g id=\"patch_21\">\n    <path d=\"M 694.052187 480.806925 \nL 694.052187 22.318125 \n\" style=\"fill: none; stroke: #cccccc; stroke-width: 1.25; stroke-linejoin: miter; stroke-linecap: square\"/>\n   </g>\n   <g id=\"patch_22\">\n    <path d=\"M 41.192188 480.806925 \nL 694.052187 480.806925 \n\" style=\"fill: none; stroke: #cccccc; stroke-width: 1.25; stroke-linejoin: miter; stroke-linecap: square\"/>\n   </g>\n   <g id=\"patch_23\">\n    <path d=\"M 41.192188 22.318125 \nL 694.052187 22.318125 \n\" style=\"fill: none; stroke: #cccccc; stroke-width: 1.25; stroke-linejoin: miter; stroke-linecap: square\"/>\n   </g>\n   <g id=\"text_26\">\n    <!-- Null value percentage in each column -->\n    <g style=\"fill: #262626\" transform=\"translate(253.89125 16.318125) scale(0.12 -0.12)\">\n     <defs>\n      <path id=\"DejaVuSans-4e\" d=\"M 628 4666 \nL 1478 4666 \nL 3547 763 \nL 3547 4666 \nL 4159 4666 \nL 4159 0 \nL 3309 0 \nL 1241 3903 \nL 1241 0 \nL 628 0 \nL 628 4666 \nz\n\" transform=\"scale(0.015625)\"/>\n      <path id=\"DejaVuSans-20\" transform=\"scale(0.015625)\"/>\n      <path id=\"DejaVuSans-70\" d=\"M 1159 525 \nL 1159 -1331 \nL 581 -1331 \nL 581 3500 \nL 1159 3500 \nL 1159 2969 \nQ 1341 3281 1617 3432 \nQ 1894 3584 2278 3584 \nQ 2916 3584 3314 3078 \nQ 3713 2572 3713 1747 \nQ 3713 922 3314 415 \nQ 2916 -91 2278 -91 \nQ 1894 -91 1617 61 \nQ 1341 213 1159 525 \nz\nM 3116 1747 \nQ 3116 2381 2855 2742 \nQ 2594 3103 2138 3103 \nQ 1681 3103 1420 2742 \nQ 1159 2381 1159 1747 \nQ 1159 1113 1420 752 \nQ 1681 391 2138 391 \nQ 2594 391 2855 752 \nQ 3116 1113 3116 1747 \nz\n\" transform=\"scale(0.015625)\"/>\n     </defs>\n     <use xlink:href=\"#DejaVuSans-4e\"/>\n     <use xlink:href=\"#DejaVuSans-75\" x=\"74.804688\"/>\n     <use xlink:href=\"#DejaVuSans-6c\" x=\"138.183594\"/>\n     <use xlink:href=\"#DejaVuSans-6c\" x=\"165.966797\"/>\n     <use xlink:href=\"#DejaVuSans-20\" x=\"193.75\"/>\n     <use xlink:href=\"#DejaVuSans-76\" x=\"225.537109\"/>\n     <use xlink:href=\"#DejaVuSans-61\" x=\"284.716797\"/>\n     <use xlink:href=\"#DejaVuSans-6c\" x=\"345.996094\"/>\n     <use xlink:href=\"#DejaVuSans-75\" x=\"373.779297\"/>\n     <use xlink:href=\"#DejaVuSans-65\" x=\"437.158203\"/>\n     <use xlink:href=\"#DejaVuSans-20\" x=\"498.681641\"/>\n     <use xlink:href=\"#DejaVuSans-70\" x=\"530.46875\"/>\n     <use xlink:href=\"#DejaVuSans-65\" x=\"593.945312\"/>\n     <use xlink:href=\"#DejaVuSans-72\" x=\"655.46875\"/>\n     <use xlink:href=\"#DejaVuSans-63\" x=\"694.332031\"/>\n     <use xlink:href=\"#DejaVuSans-65\" x=\"749.3125\"/>\n     <use xlink:href=\"#DejaVuSans-6e\" x=\"810.835938\"/>\n     <use xlink:href=\"#DejaVuSans-74\" x=\"874.214844\"/>\n     <use xlink:href=\"#DejaVuSans-61\" x=\"913.423828\"/>\n     <use xlink:href=\"#DejaVuSans-67\" x=\"974.703125\"/>\n     <use xlink:href=\"#DejaVuSans-65\" x=\"1038.179688\"/>\n     <use xlink:href=\"#DejaVuSans-20\" x=\"1099.703125\"/>\n     <use xlink:href=\"#DejaVuSans-69\" x=\"1131.490234\"/>\n     <use xlink:href=\"#DejaVuSans-6e\" x=\"1159.273438\"/>\n     <use xlink:href=\"#DejaVuSans-20\" x=\"1222.652344\"/>\n     <use xlink:href=\"#DejaVuSans-65\" x=\"1254.439453\"/>\n     <use xlink:href=\"#DejaVuSans-61\" x=\"1315.962891\"/>\n     <use xlink:href=\"#DejaVuSans-63\" x=\"1377.242188\"/>\n     <use xlink:href=\"#DejaVuSans-68\" x=\"1432.222656\"/>\n     <use xlink:href=\"#DejaVuSans-20\" x=\"1495.601562\"/>\n     <use xlink:href=\"#DejaVuSans-63\" x=\"1527.388672\"/>\n     <use xlink:href=\"#DejaVuSans-6f\" x=\"1582.369141\"/>\n     <use xlink:href=\"#DejaVuSans-6c\" x=\"1643.550781\"/>\n     <use xlink:href=\"#DejaVuSans-75\" x=\"1671.333984\"/>\n     <use xlink:href=\"#DejaVuSans-6d\" x=\"1734.712891\"/>\n     <use xlink:href=\"#DejaVuSans-6e\" x=\"1832.125\"/>\n    </g>\n   </g>\n  </g>\n </g>\n <defs>\n  <clipPath id=\"pcf6d4a167b\">\n   <rect x=\"41.192188\" y=\"22.318125\" width=\"652.86\" height=\"458.4888\"/>\n  </clipPath>\n </defs>\n</svg>\n",
            "text/plain": [
              "<Figure size 1170x827 with 1 Axes>"
            ]
          },
          "metadata": {},
          "output_type": "display_data"
        }
      ],
      "source": [
        "nullPercentage = DataFrame1.isnull().sum()/DataFrame1.shape[0]*100\n",
        "nullPercentage.plot(kind='bar')\n",
        "plt.title(\"Null value percentage in each column\")\n",
        "plt.show()"
      ]
    },
    {
      "cell_type": "code",
      "execution_count": null,
      "metadata": {
        "colab": {
          "base_uri": "https://localhost:8080/"
        },
        "id": "CEHw4YQk3R-e",
        "outputId": "fc737327-553e-480a-d586-3b45c117854d"
      },
      "outputs": [
        {
          "data": {
            "text/plain": [
              "6"
            ]
          },
          "execution_count": 35,
          "metadata": {},
          "output_type": "execute_result"
        }
      ],
      "source": [
        "DataFrame1['race'].nunique()"
      ]
    },
    {
      "cell_type": "code",
      "execution_count": null,
      "metadata": {
        "id": "5HvsGXga3UTm"
      },
      "outputs": [],
      "source": [
        "DataFrame1['race'].fillna('Other', inplace=True)"
      ]
    },
    {
      "cell_type": "code",
      "execution_count": null,
      "metadata": {
        "colab": {
          "base_uri": "https://localhost:8080/"
        },
        "id": "Fxxv4JwP3XmZ",
        "outputId": "9e074464-7c12-4666-a52f-400c00d3960d"
      },
      "outputs": [
        {
          "data": {
            "text/plain": [
              "0    Los Angeles\n",
              "Name: city, dtype: object"
            ]
          },
          "execution_count": 37,
          "metadata": {},
          "output_type": "execute_result"
        }
      ],
      "source": [
        "DataFrame1['city'].mode()"
      ]
    },
    {
      "cell_type": "code",
      "execution_count": null,
      "metadata": {
        "colab": {
          "base_uri": "https://localhost:8080/"
        },
        "id": "vvhBUes93aZa",
        "outputId": "ca155c3e-a935-41c7-8640-00a2dab25356"
      },
      "outputs": [
        {
          "data": {
            "text/plain": [
              "3142"
            ]
          },
          "execution_count": 38,
          "metadata": {},
          "output_type": "execute_result"
        }
      ],
      "source": [
        "DataFrame1['city'].nunique()"
      ]
    },
    {
      "cell_type": "code",
      "execution_count": null,
      "metadata": {
        "colab": {
          "base_uri": "https://localhost:8080/"
        },
        "id": "G_m7JFlW3c15",
        "outputId": "2b37806f-29af-49ec-ad4f-fcd4d6651bab"
      },
      "outputs": [
        {
          "data": {
            "text/plain": [
              "0"
            ]
          },
          "execution_count": 39,
          "metadata": {},
          "output_type": "execute_result"
        }
      ],
      "source": [
        "DataFrame1.duplicated().sum()"
      ]
    },
    {
      "cell_type": "code",
      "execution_count": null,
      "metadata": {
        "colab": {
          "base_uri": "https://localhost:8080/"
        },
        "id": "7PDVR70B3hOh",
        "outputId": "ae9c94c7-ab99-4691-b673-3c74522539df"
      },
      "outputs": [
        {
          "data": {
            "text/plain": [
              "51"
            ]
          },
          "execution_count": 40,
          "metadata": {},
          "output_type": "execute_result"
        }
      ],
      "source": [
        "DataFrame1['state'].nunique()"
      ]
    },
    {
      "cell_type": "code",
      "execution_count": null,
      "metadata": {
        "id": "GdtNAmMm3ioc"
      },
      "outputs": [],
      "source": [
        "#taking 2 fields so that I can use -count() on it\n",
        "State_Date = DataFrame1[['date','state']]\n",
        "State_List = [i for i in State_Date['state']]"
      ]
    },
    {
      "cell_type": "code",
      "execution_count": null,
      "metadata": {
        "colab": {
          "base_uri": "https://localhost:8080/"
        },
        "id": "JOBX0ves3la3",
        "outputId": "07491d53-e2e4-4175-b3c0-6141b7686138"
      },
      "outputs": [
        {
          "name": "stdout",
          "output_type": "stream",
          "text": [
            "[[208, 'WA'], [125, 'OR'], [71, 'KS'], [1110, 'CA'], [278, 'CO'], [211, 'OK'], [349, 'AZ'], [47, 'IA'], [159, 'PA'], [690, 'TX'], [219, 'OH'], [154, 'LA'], [48, 'MT'], [88, 'UT'], [109, 'AR'], [155, 'IL'], [124, 'NV'], [165, 'NM'], [86, 'MN'], [198, 'MO'], [134, 'VA'], [87, 'NJ'], [140, 'IN'], [141, 'KY'], [54, 'MA'], [22, 'NH'], [493, 'FL'], [62, 'ID'], [107, 'MD'], [38, 'NE'], [129, 'MI'], [289, 'GA'], [208, 'TN'], [218, 'NC'], [52, 'AK'], [140, 'NY'], [33, 'ME'], [145, 'AL'], [98, 'MS'], [115, 'WI'], [124, 'SC'], [17, 'DE'], [24, 'DC'], [71, 'WV'], [37, 'HI'], [25, 'WY'], [18, 'ND'], [22, 'CT'], [27, 'SD'], [12, 'VT'], [6, 'RI']]\n"
          ]
        }
      ],
      "source": [
        "State_Counts = []\n",
        "for state in DataFrame1['state'].unique():\n",
        "    State_Counts.append([State_List.count(state),state])\n",
        "print(State_Counts)"
      ]
    },
    {
      "cell_type": "code",
      "execution_count": null,
      "metadata": {
        "colab": {
          "background_save": true,
          "base_uri": "https://localhost:8080/"
        },
        "id": "jmmo225D3ox4",
        "outputId": "b6addbbc-6141-46a9-81d3-834d29b14f99"
      },
      "outputs": [
        {
          "data": {
            "image/svg+xml": "<?xml version=\"1.0\" encoding=\"utf-8\" standalone=\"no\"?>\n<!DOCTYPE svg PUBLIC \"-//W3C//DTD SVG 1.1//EN\"\n  \"http://www.w3.org/Graphics/SVG/1.1/DTD/svg11.dtd\">\n<svg xmlns:xlink=\"http://www.w3.org/1999/xlink\" width=\"1071.90875pt\" height=\"397.917813pt\" viewBox=\"0 0 1071.90875 397.917813\" xmlns=\"http://www.w3.org/2000/svg\" version=\"1.1\">\n <metadata>\n  <rdf:RDF xmlns:dc=\"http://purl.org/dc/elements/1.1/\" xmlns:cc=\"http://creativecommons.org/ns#\" xmlns:rdf=\"http://www.w3.org/1999/02/22-rdf-syntax-ns#\">\n   <cc:Work>\n    <dc:type rdf:resource=\"http://purl.org/dc/dcmitype/StillImage\"/>\n    <dc:date>2023-05-01T22:47:38.888931</dc:date>\n    <dc:format>image/svg+xml</dc:format>\n    <dc:creator>\n     <cc:Agent>\n      <dc:title>Matplotlib v3.7.1, https://matplotlib.org/</dc:title>\n     </cc:Agent>\n    </dc:creator>\n   </cc:Work>\n  </rdf:RDF>\n </metadata>\n <defs>\n  <style type=\"text/css\">*{stroke-linejoin: round; stroke-linecap: butt}</style>\n </defs>\n <g id=\"figure_1\">\n  <g id=\"patch_1\">\n   <path d=\"M 0 397.917813 \nL 1071.90875 397.917813 \nL 1071.90875 0 \nL 0 0 \nz\n\" style=\"fill: #ffffff\"/>\n  </g>\n  <g id=\"axes_1\">\n   <g id=\"patch_2\">\n    <path d=\"M 60.30875 354.958125 \nL 1064.70875 354.958125 \nL 1064.70875 22.318125 \nL 60.30875 22.318125 \nz\n\" style=\"fill: #ffffff\"/>\n   </g>\n   <g id=\"matplotlib.axis_1\">\n    <g id=\"xtick_1\">\n     <g id=\"text_1\">\n      <!-- WA -->\n      <g style=\"fill: #262626\" transform=\"translate(61.25784 372.816406) scale(0.11 -0.11)\">\n       <defs>\n        <path id=\"DejaVuSans-57\" d=\"M 213 4666 \nL 850 4666 \nL 1831 722 \nL 2809 4666 \nL 3519 4666 \nL 4500 722 \nL 5478 4666 \nL 6119 4666 \nL 4947 0 \nL 4153 0 \nL 3169 4050 \nL 2175 0 \nL 1381 0 \nL 213 4666 \nz\n\" transform=\"scale(0.015625)\"/>\n        <path id=\"DejaVuSans-41\" d=\"M 2188 4044 \nL 1331 1722 \nL 3047 1722 \nL 2188 4044 \nz\nM 1831 4666 \nL 2547 4666 \nL 4325 0 \nL 3669 0 \nL 3244 1197 \nL 1141 1197 \nL 716 0 \nL 50 0 \nL 1831 4666 \nz\n\" transform=\"scale(0.015625)\"/>\n       </defs>\n       <use xlink:href=\"#DejaVuSans-57\"/>\n       <use xlink:href=\"#DejaVuSans-41\" x=\"93.376953\"/>\n      </g>\n     </g>\n    </g>\n    <g id=\"xtick_2\">\n     <g id=\"text_2\">\n      <!-- OR -->\n      <g style=\"fill: #262626\" transform=\"translate(81.698755 372.816406) scale(0.11 -0.11)\">\n       <defs>\n        <path id=\"DejaVuSans-4f\" d=\"M 2522 4238 \nQ 1834 4238 1429 3725 \nQ 1025 3213 1025 2328 \nQ 1025 1447 1429 934 \nQ 1834 422 2522 422 \nQ 3209 422 3611 934 \nQ 4013 1447 4013 2328 \nQ 4013 3213 3611 3725 \nQ 3209 4238 2522 4238 \nz\nM 2522 4750 \nQ 3503 4750 4090 4092 \nQ 4678 3434 4678 2328 \nQ 4678 1225 4090 567 \nQ 3503 -91 2522 -91 \nQ 1538 -91 948 565 \nQ 359 1222 359 2328 \nQ 359 3434 948 4092 \nQ 1538 4750 2522 4750 \nz\n\" transform=\"scale(0.015625)\"/>\n        <path id=\"DejaVuSans-52\" d=\"M 2841 2188 \nQ 3044 2119 3236 1894 \nQ 3428 1669 3622 1275 \nL 4263 0 \nL 3584 0 \nL 2988 1197 \nQ 2756 1666 2539 1819 \nQ 2322 1972 1947 1972 \nL 1259 1972 \nL 1259 0 \nL 628 0 \nL 628 4666 \nL 2053 4666 \nQ 2853 4666 3247 4331 \nQ 3641 3997 3641 3322 \nQ 3641 2881 3436 2590 \nQ 3231 2300 2841 2188 \nz\nM 1259 4147 \nL 1259 2491 \nL 2053 2491 \nQ 2509 2491 2742 2702 \nQ 2975 2913 2975 3322 \nQ 2975 3731 2742 3939 \nQ 2509 4147 2053 4147 \nL 1259 4147 \nz\n\" transform=\"scale(0.015625)\"/>\n       </defs>\n       <use xlink:href=\"#DejaVuSans-4f\"/>\n       <use xlink:href=\"#DejaVuSans-52\" x=\"78.710938\"/>\n      </g>\n     </g>\n    </g>\n    <g id=\"xtick_3\">\n     <g id=\"text_3\">\n      <!-- KS -->\n      <g style=\"fill: #262626\" transform=\"translate(102.445607 372.816406) scale(0.11 -0.11)\">\n       <defs>\n        <path id=\"DejaVuSans-4b\" d=\"M 628 4666 \nL 1259 4666 \nL 1259 2694 \nL 3353 4666 \nL 4166 4666 \nL 1850 2491 \nL 4331 0 \nL 3500 0 \nL 1259 2247 \nL 1259 0 \nL 628 0 \nL 628 4666 \nz\n\" transform=\"scale(0.015625)\"/>\n        <path id=\"DejaVuSans-53\" d=\"M 3425 4513 \nL 3425 3897 \nQ 3066 4069 2747 4153 \nQ 2428 4238 2131 4238 \nQ 1616 4238 1336 4038 \nQ 1056 3838 1056 3469 \nQ 1056 3159 1242 3001 \nQ 1428 2844 1947 2747 \nL 2328 2669 \nQ 3034 2534 3370 2195 \nQ 3706 1856 3706 1288 \nQ 3706 609 3251 259 \nQ 2797 -91 1919 -91 \nQ 1588 -91 1214 -16 \nQ 841 59 441 206 \nL 441 856 \nQ 825 641 1194 531 \nQ 1563 422 1919 422 \nQ 2459 422 2753 634 \nQ 3047 847 3047 1241 \nQ 3047 1584 2836 1778 \nQ 2625 1972 2144 2069 \nL 1759 2144 \nQ 1053 2284 737 2584 \nQ 422 2884 422 3419 \nQ 422 4038 858 4394 \nQ 1294 4750 2059 4750 \nQ 2388 4750 2728 4690 \nQ 3069 4631 3425 4513 \nz\n\" transform=\"scale(0.015625)\"/>\n       </defs>\n       <use xlink:href=\"#DejaVuSans-4b\"/>\n       <use xlink:href=\"#DejaVuSans-53\" x=\"65.576172\"/>\n      </g>\n     </g>\n    </g>\n    <g id=\"xtick_4\">\n     <g id=\"text_4\">\n      <!-- CA -->\n      <g style=\"fill: #262626\" transform=\"translate(121.635271 372.816406) scale(0.11 -0.11)\">\n       <defs>\n        <path id=\"DejaVuSans-43\" d=\"M 4122 4306 \nL 4122 3641 \nQ 3803 3938 3442 4084 \nQ 3081 4231 2675 4231 \nQ 1875 4231 1450 3742 \nQ 1025 3253 1025 2328 \nQ 1025 1406 1450 917 \nQ 1875 428 2675 428 \nQ 3081 428 3442 575 \nQ 3803 722 4122 1019 \nL 4122 359 \nQ 3791 134 3420 21 \nQ 3050 -91 2638 -91 \nQ 1578 -91 968 557 \nQ 359 1206 359 2328 \nQ 359 3453 968 4101 \nQ 1578 4750 2638 4750 \nQ 3056 4750 3426 4639 \nQ 3797 4528 4122 4306 \nz\n\" transform=\"scale(0.015625)\"/>\n       </defs>\n       <use xlink:href=\"#DejaVuSans-43\"/>\n       <use xlink:href=\"#DejaVuSans-41\" x=\"69.824219\"/>\n      </g>\n     </g>\n    </g>\n    <g id=\"xtick_5\">\n     <g id=\"text_5\">\n      <!-- CO -->\n      <g style=\"fill: #262626\" transform=\"translate(140.762201 372.816406) scale(0.11 -0.11)\">\n       <use xlink:href=\"#DejaVuSans-43\"/>\n       <use xlink:href=\"#DejaVuSans-4f\" x=\"69.824219\"/>\n      </g>\n     </g>\n    </g>\n    <g id=\"xtick_6\">\n     <g id=\"text_6\">\n      <!-- OK -->\n      <g style=\"fill: #262626\" transform=\"translate(160.690069 372.816406) scale(0.11 -0.11)\">\n       <use xlink:href=\"#DejaVuSans-4f\"/>\n       <use xlink:href=\"#DejaVuSans-4b\" x=\"78.710938\"/>\n      </g>\n     </g>\n    </g>\n    <g id=\"xtick_7\">\n     <g id=\"text_7\">\n      <!-- AZ -->\n      <g style=\"fill: #262626\" transform=\"translate(180.790671 372.816406) scale(0.11 -0.11)\">\n       <defs>\n        <path id=\"DejaVuSans-5a\" d=\"M 359 4666 \nL 4025 4666 \nL 4025 4184 \nL 1075 531 \nL 4097 531 \nL 4097 0 \nL 288 0 \nL 288 481 \nL 3238 4134 \nL 359 4134 \nL 359 4666 \nz\n\" transform=\"scale(0.015625)\"/>\n       </defs>\n       <use xlink:href=\"#DejaVuSans-41\"/>\n       <use xlink:href=\"#DejaVuSans-5a\" x=\"68.408203\"/>\n      </g>\n     </g>\n    </g>\n    <g id=\"xtick_8\">\n     <g id=\"text_8\">\n      <!-- IA -->\n      <g style=\"fill: #262626\" transform=\"translate(202.629789 372.816406) scale(0.11 -0.11)\">\n       <defs>\n        <path id=\"DejaVuSans-49\" d=\"M 628 4666 \nL 1259 4666 \nL 1259 0 \nL 628 0 \nL 628 4666 \nz\n\" transform=\"scale(0.015625)\"/>\n       </defs>\n       <use xlink:href=\"#DejaVuSans-49\"/>\n       <use xlink:href=\"#DejaVuSans-41\" x=\"29.492188\"/>\n      </g>\n     </g>\n    </g>\n    <g id=\"xtick_9\">\n     <g id=\"text_9\">\n      <!-- PA -->\n      <g style=\"fill: #262626\" transform=\"translate(220.980703 372.816406) scale(0.11 -0.11)\">\n       <defs>\n        <path id=\"DejaVuSans-50\" d=\"M 1259 4147 \nL 1259 2394 \nL 2053 2394 \nQ 2494 2394 2734 2622 \nQ 2975 2850 2975 3272 \nQ 2975 3691 2734 3919 \nQ 2494 4147 2053 4147 \nL 1259 4147 \nz\nM 628 4666 \nL 2053 4666 \nQ 2838 4666 3239 4311 \nQ 3641 3956 3641 3272 \nQ 3641 2581 3239 2228 \nQ 2838 1875 2053 1875 \nL 1259 1875 \nL 1259 0 \nL 628 0 \nL 628 4666 \nz\n\" transform=\"scale(0.015625)\"/>\n       </defs>\n       <use xlink:href=\"#DejaVuSans-50\"/>\n       <use xlink:href=\"#DejaVuSans-41\" x=\"53.927734\"/>\n      </g>\n     </g>\n    </g>\n    <g id=\"xtick_10\">\n     <g id=\"text_10\">\n      <!-- TX -->\n      <g style=\"fill: #262626\" transform=\"translate(240.276071 372.816406) scale(0.11 -0.11)\">\n       <defs>\n        <path id=\"DejaVuSans-54\" d=\"M -19 4666 \nL 3928 4666 \nL 3928 4134 \nL 2272 4134 \nL 2272 0 \nL 1638 0 \nL 1638 4134 \nL -19 4134 \nL -19 4666 \nz\n\" transform=\"scale(0.015625)\"/>\n        <path id=\"DejaVuSans-58\" d=\"M 403 4666 \nL 1081 4666 \nL 2241 2931 \nL 3406 4666 \nL 4084 4666 \nL 2584 2425 \nL 4184 0 \nL 3506 0 \nL 2194 1984 \nL 872 0 \nL 191 0 \nL 1856 2491 \nL 403 4666 \nz\n\" transform=\"scale(0.015625)\"/>\n       </defs>\n       <use xlink:href=\"#DejaVuSans-54\"/>\n       <use xlink:href=\"#DejaVuSans-58\" x=\"61.083984\"/>\n      </g>\n     </g>\n    </g>\n    <g id=\"xtick_11\">\n     <g id=\"text_11\">\n      <!-- OH -->\n      <g style=\"fill: #262626\" transform=\"translate(258.631282 372.816406) scale(0.11 -0.11)\">\n       <defs>\n        <path id=\"DejaVuSans-48\" d=\"M 628 4666 \nL 1259 4666 \nL 1259 2753 \nL 3553 2753 \nL 3553 4666 \nL 4184 4666 \nL 4184 0 \nL 3553 0 \nL 3553 2222 \nL 1259 2222 \nL 1259 0 \nL 628 0 \nL 628 4666 \nz\n\" transform=\"scale(0.015625)\"/>\n       </defs>\n       <use xlink:href=\"#DejaVuSans-4f\"/>\n       <use xlink:href=\"#DejaVuSans-48\" x=\"78.710938\"/>\n      </g>\n     </g>\n    </g>\n    <g id=\"xtick_12\">\n     <g id=\"text_12\">\n      <!-- LA -->\n      <g style=\"fill: #262626\" transform=\"translate(279.840478 372.816406) scale(0.11 -0.11)\">\n       <defs>\n        <path id=\"DejaVuSans-4c\" d=\"M 628 4666 \nL 1259 4666 \nL 1259 531 \nL 3531 531 \nL 3531 0 \nL 628 0 \nL 628 4666 \nz\n\" transform=\"scale(0.015625)\"/>\n       </defs>\n       <use xlink:href=\"#DejaVuSans-4c\"/>\n       <use xlink:href=\"#DejaVuSans-41\" x=\"57.962891\"/>\n      </g>\n     </g>\n    </g>\n    <g id=\"xtick_13\">\n     <g id=\"text_13\">\n      <!-- MT -->\n      <g style=\"fill: #262626\" transform=\"translate(298.380455 372.816406) scale(0.11 -0.11)\">\n       <defs>\n        <path id=\"DejaVuSans-4d\" d=\"M 628 4666 \nL 1569 4666 \nL 2759 1491 \nL 3956 4666 \nL 4897 4666 \nL 4897 0 \nL 4281 0 \nL 4281 4097 \nL 3078 897 \nL 2444 897 \nL 1241 4097 \nL 1241 0 \nL 628 0 \nL 628 4666 \nz\n\" transform=\"scale(0.015625)\"/>\n       </defs>\n       <use xlink:href=\"#DejaVuSans-4d\"/>\n       <use xlink:href=\"#DejaVuSans-54\" x=\"86.279297\"/>\n      </g>\n     </g>\n    </g>\n    <g id=\"xtick_14\">\n     <g id=\"text_14\">\n      <!-- UT -->\n      <g style=\"fill: #262626\" transform=\"translate(318.794729 372.816406) scale(0.11 -0.11)\">\n       <defs>\n        <path id=\"DejaVuSans-55\" d=\"M 556 4666 \nL 1191 4666 \nL 1191 1831 \nQ 1191 1081 1462 751 \nQ 1734 422 2344 422 \nQ 2950 422 3222 751 \nQ 3494 1081 3494 1831 \nL 3494 4666 \nL 4128 4666 \nL 4128 1753 \nQ 4128 841 3676 375 \nQ 3225 -91 2344 -91 \nQ 1459 -91 1007 375 \nQ 556 841 556 1753 \nL 556 4666 \nz\n\" transform=\"scale(0.015625)\"/>\n       </defs>\n       <use xlink:href=\"#DejaVuSans-55\"/>\n       <use xlink:href=\"#DejaVuSans-54\" x=\"73.193359\"/>\n      </g>\n     </g>\n    </g>\n    <g id=\"xtick_15\">\n     <g id=\"text_15\">\n      <!-- AR -->\n      <g style=\"fill: #262626\" transform=\"translate(338.289472 372.816406) scale(0.11 -0.11)\">\n       <use xlink:href=\"#DejaVuSans-41\"/>\n       <use xlink:href=\"#DejaVuSans-52\" x=\"68.408203\"/>\n      </g>\n     </g>\n    </g>\n    <g id=\"xtick_16\">\n     <g id=\"text_16\">\n      <!-- IL -->\n      <g style=\"fill: #262626\" transform=\"translate(360.880542 372.816406) scale(0.11 -0.11)\">\n       <use xlink:href=\"#DejaVuSans-49\"/>\n       <use xlink:href=\"#DejaVuSans-4c\" x=\"29.492188\"/>\n      </g>\n     </g>\n    </g>\n    <g id=\"xtick_17\">\n     <g id=\"text_17\">\n      <!-- NV -->\n      <g style=\"fill: #262626\" transform=\"translate(377.38466 372.816406) scale(0.11 -0.11)\">\n       <defs>\n        <path id=\"DejaVuSans-4e\" d=\"M 628 4666 \nL 1478 4666 \nL 3547 763 \nL 3547 4666 \nL 4159 4666 \nL 4159 0 \nL 3309 0 \nL 1241 3903 \nL 1241 0 \nL 628 0 \nL 628 4666 \nz\n\" transform=\"scale(0.015625)\"/>\n        <path id=\"DejaVuSans-56\" d=\"M 1831 0 \nL 50 4666 \nL 709 4666 \nL 2188 738 \nL 3669 4666 \nL 4325 4666 \nL 2547 0 \nL 1831 0 \nz\n\" transform=\"scale(0.015625)\"/>\n       </defs>\n       <use xlink:href=\"#DejaVuSans-4e\"/>\n       <use xlink:href=\"#DejaVuSans-56\" x=\"74.804688\"/>\n      </g>\n     </g>\n    </g>\n    <g id=\"xtick_18\">\n     <g id=\"text_18\">\n      <!-- NM -->\n      <g style=\"fill: #262626\" transform=\"translate(396.095653 372.816406) scale(0.11 -0.11)\">\n       <use xlink:href=\"#DejaVuSans-4e\"/>\n       <use xlink:href=\"#DejaVuSans-4d\" x=\"74.804688\"/>\n      </g>\n     </g>\n    </g>\n    <g id=\"xtick_19\">\n     <g id=\"text_19\">\n      <!-- MN -->\n      <g style=\"fill: #262626\" transform=\"translate(415.78977 372.816406) scale(0.11 -0.11)\">\n       <use xlink:href=\"#DejaVuSans-4d\"/>\n       <use xlink:href=\"#DejaVuSans-4e\" x=\"86.279297\"/>\n      </g>\n     </g>\n    </g>\n    <g id=\"xtick_20\">\n     <g id=\"text_20\">\n      <!-- MO -->\n      <g style=\"fill: #262626\" transform=\"translate(435.269044 372.816406) scale(0.11 -0.11)\">\n       <use xlink:href=\"#DejaVuSans-4d\"/>\n       <use xlink:href=\"#DejaVuSans-4f\" x=\"86.279297\"/>\n      </g>\n     </g>\n    </g>\n    <g id=\"xtick_21\">\n     <g id=\"text_21\">\n      <!-- VA -->\n      <g style=\"fill: #262626\" transform=\"translate(456.864099 372.816406) scale(0.11 -0.11)\">\n       <use xlink:href=\"#DejaVuSans-56\"/>\n       <use xlink:href=\"#DejaVuSans-41\" x=\"62.033203\"/>\n      </g>\n     </g>\n    </g>\n    <g id=\"xtick_22\">\n     <g id=\"text_22\">\n      <!-- NJ -->\n      <g style=\"fill: #262626\" transform=\"translate(477.995092 372.816406) scale(0.11 -0.11)\">\n       <defs>\n        <path id=\"DejaVuSans-4a\" d=\"M 628 4666 \nL 1259 4666 \nL 1259 325 \nQ 1259 -519 939 -900 \nQ 619 -1281 -91 -1281 \nL -331 -1281 \nL -331 -750 \nL -134 -750 \nQ 284 -750 456 -515 \nQ 628 -281 628 325 \nL 628 4666 \nz\n\" transform=\"scale(0.015625)\"/>\n       </defs>\n       <use xlink:href=\"#DejaVuSans-4e\"/>\n       <use xlink:href=\"#DejaVuSans-4a\" x=\"74.804688\"/>\n      </g>\n     </g>\n    </g>\n    <g id=\"xtick_23\">\n     <g id=\"text_23\">\n      <!-- IN -->\n      <g style=\"fill: #262626\" transform=\"translate(497.68921 372.816406) scale(0.11 -0.11)\">\n       <use xlink:href=\"#DejaVuSans-49\"/>\n       <use xlink:href=\"#DejaVuSans-4e\" x=\"29.492188\"/>\n      </g>\n     </g>\n    </g>\n    <g id=\"xtick_24\">\n     <g id=\"text_24\">\n      <!-- KY -->\n      <g style=\"fill: #262626\" transform=\"translate(516.353796 372.816406) scale(0.11 -0.11)\">\n       <defs>\n        <path id=\"DejaVuSans-59\" d=\"M -13 4666 \nL 666 4666 \nL 1959 2747 \nL 3244 4666 \nL 3922 4666 \nL 2272 2222 \nL 2272 0 \nL 1638 0 \nL 1638 2222 \nL -13 4666 \nz\n\" transform=\"scale(0.015625)\"/>\n       </defs>\n       <use xlink:href=\"#DejaVuSans-4b\"/>\n       <use xlink:href=\"#DejaVuSans-59\" x=\"61.951172\"/>\n      </g>\n     </g>\n    </g>\n    <g id=\"xtick_25\">\n     <g id=\"text_25\">\n      <!-- MA -->\n      <g style=\"fill: #262626\" transform=\"translate(534.30682 372.816406) scale(0.11 -0.11)\">\n       <use xlink:href=\"#DejaVuSans-4d\"/>\n       <use xlink:href=\"#DejaVuSans-41\" x=\"86.279297\"/>\n      </g>\n     </g>\n    </g>\n    <g id=\"xtick_26\">\n     <g id=\"text_26\">\n      <!-- NH -->\n      <g style=\"fill: #262626\" transform=\"translate(554.257891 372.816406) scale(0.11 -0.11)\">\n       <use xlink:href=\"#DejaVuSans-4e\"/>\n       <use xlink:href=\"#DejaVuSans-48\" x=\"74.804688\"/>\n      </g>\n     </g>\n    </g>\n    <g id=\"xtick_27\">\n     <g id=\"text_27\">\n      <!-- FL -->\n      <g style=\"fill: #262626\" transform=\"translate(575.974977 372.816406) scale(0.11 -0.11)\">\n       <defs>\n        <path id=\"DejaVuSans-46\" d=\"M 628 4666 \nL 3309 4666 \nL 3309 4134 \nL 1259 4134 \nL 1259 2759 \nL 3109 2759 \nL 3109 2228 \nL 1259 2228 \nL 1259 0 \nL 628 0 \nL 628 4666 \nz\n\" transform=\"scale(0.015625)\"/>\n       </defs>\n       <use xlink:href=\"#DejaVuSans-46\"/>\n       <use xlink:href=\"#DejaVuSans-4c\" x=\"57.519531\"/>\n      </g>\n     </g>\n    </g>\n    <g id=\"xtick_28\">\n     <g id=\"text_28\">\n      <!-- ID -->\n      <g style=\"fill: #262626\" transform=\"translate(596.039485 372.816406) scale(0.11 -0.11)\">\n       <defs>\n        <path id=\"DejaVuSans-44\" d=\"M 1259 4147 \nL 1259 519 \nL 2022 519 \nQ 2988 519 3436 956 \nQ 3884 1394 3884 2338 \nQ 3884 3275 3436 3711 \nQ 2988 4147 2022 4147 \nL 1259 4147 \nz\nM 628 4666 \nL 1925 4666 \nQ 3281 4666 3915 4102 \nQ 4550 3538 4550 2338 \nQ 4550 1131 3912 565 \nQ 3275 0 1925 0 \nL 628 0 \nL 628 4666 \nz\n\" transform=\"scale(0.015625)\"/>\n       </defs>\n       <use xlink:href=\"#DejaVuSans-49\"/>\n       <use xlink:href=\"#DejaVuSans-44\" x=\"29.492188\"/>\n      </g>\n     </g>\n    </g>\n    <g id=\"xtick_29\">\n     <g id=\"text_29\">\n      <!-- MD -->\n      <g style=\"fill: #262626\" transform=\"translate(612.610634 372.816406) scale(0.11 -0.11)\">\n       <use xlink:href=\"#DejaVuSans-4d\"/>\n       <use xlink:href=\"#DejaVuSans-44\" x=\"86.279297\"/>\n      </g>\n     </g>\n    </g>\n    <g id=\"xtick_30\">\n     <g id=\"text_30\">\n      <!-- NE -->\n      <g style=\"fill: #262626\" transform=\"translate(633.695221 372.816406) scale(0.11 -0.11)\">\n       <defs>\n        <path id=\"DejaVuSans-45\" d=\"M 628 4666 \nL 3578 4666 \nL 3578 4134 \nL 1259 4134 \nL 1259 2753 \nL 3481 2753 \nL 3481 2222 \nL 1259 2222 \nL 1259 531 \nL 3634 531 \nL 3634 0 \nL 628 0 \nL 628 4666 \nz\n\" transform=\"scale(0.015625)\"/>\n       </defs>\n       <use xlink:href=\"#DejaVuSans-4e\"/>\n       <use xlink:href=\"#DejaVuSans-45\" x=\"74.804688\"/>\n      </g>\n     </g>\n    </g>\n    <g id=\"xtick_31\">\n     <g id=\"text_31\">\n      <!-- MI -->\n      <g style=\"fill: #262626\" transform=\"translate(654.611369 372.816406) scale(0.11 -0.11)\">\n       <use xlink:href=\"#DejaVuSans-4d\"/>\n       <use xlink:href=\"#DejaVuSans-49\" x=\"86.279297\"/>\n      </g>\n     </g>\n    </g>\n    <g id=\"xtick_32\">\n     <g id=\"text_32\">\n      <!-- GA -->\n      <g style=\"fill: #262626\" transform=\"translate(672.649472 372.816406) scale(0.11 -0.11)\">\n       <defs>\n        <path id=\"DejaVuSans-47\" d=\"M 3809 666 \nL 3809 1919 \nL 2778 1919 \nL 2778 2438 \nL 4434 2438 \nL 4434 434 \nQ 4069 175 3628 42 \nQ 3188 -91 2688 -91 \nQ 1594 -91 976 548 \nQ 359 1188 359 2328 \nQ 359 3472 976 4111 \nQ 1594 4750 2688 4750 \nQ 3144 4750 3555 4637 \nQ 3966 4525 4313 4306 \nL 4313 3634 \nQ 3963 3931 3569 4081 \nQ 3175 4231 2741 4231 \nQ 1884 4231 1454 3753 \nQ 1025 3275 1025 2328 \nQ 1025 1384 1454 906 \nQ 1884 428 2741 428 \nQ 3075 428 3337 486 \nQ 3600 544 3809 666 \nz\n\" transform=\"scale(0.015625)\"/>\n       </defs>\n       <use xlink:href=\"#DejaVuSans-47\"/>\n       <use xlink:href=\"#DejaVuSans-41\" x=\"77.490234\"/>\n      </g>\n     </g>\n    </g>\n    <g id=\"xtick_33\">\n     <g id=\"text_33\">\n      <!-- TN -->\n      <g style=\"fill: #262626\" transform=\"translate(692.893589 372.816406) scale(0.11 -0.11)\">\n       <use xlink:href=\"#DejaVuSans-54\"/>\n       <use xlink:href=\"#DejaVuSans-4e\" x=\"61.083984\"/>\n      </g>\n     </g>\n    </g>\n    <g id=\"xtick_34\">\n     <g id=\"text_34\">\n      <!-- NC -->\n      <g style=\"fill: #262626\" transform=\"translate(712.106457 372.816406) scale(0.11 -0.11)\">\n       <use xlink:href=\"#DejaVuSans-4e\"/>\n       <use xlink:href=\"#DejaVuSans-43\" x=\"74.804688\"/>\n      </g>\n     </g>\n    </g>\n    <g id=\"xtick_35\">\n     <g id=\"text_35\">\n      <!-- AK -->\n      <g style=\"fill: #262626\" transform=\"translate(732.386668 372.816406) scale(0.11 -0.11)\">\n       <use xlink:href=\"#DejaVuSans-41\"/>\n       <use xlink:href=\"#DejaVuSans-4b\" x=\"68.408203\"/>\n      </g>\n     </g>\n    </g>\n    <g id=\"xtick_36\">\n     <g id=\"text_36\">\n      <!-- NY -->\n      <g style=\"fill: #262626\" transform=\"translate(751.975942 372.816406) scale(0.11 -0.11)\">\n       <use xlink:href=\"#DejaVuSans-4e\"/>\n       <use xlink:href=\"#DejaVuSans-59\" x=\"74.804688\"/>\n      </g>\n     </g>\n    </g>\n    <g id=\"xtick_37\">\n     <g id=\"text_37\">\n      <!-- ME -->\n      <g style=\"fill: #262626\" transform=\"translate(770.923263 372.816406) scale(0.11 -0.11)\">\n       <use xlink:href=\"#DejaVuSans-4d\"/>\n       <use xlink:href=\"#DejaVuSans-45\" x=\"86.279297\"/>\n      </g>\n     </g>\n    </g>\n    <g id=\"xtick_38\">\n     <g id=\"text_38\">\n      <!-- AL -->\n      <g style=\"fill: #262626\" transform=\"translate(792.011287 372.816406) scale(0.11 -0.11)\">\n       <use xlink:href=\"#DejaVuSans-41\"/>\n       <use xlink:href=\"#DejaVuSans-4c\" x=\"68.408203\"/>\n      </g>\n     </g>\n    </g>\n    <g id=\"xtick_39\">\n     <g id=\"text_39\">\n      <!-- MS -->\n      <g style=\"fill: #262626\" transform=\"translate(810.29517 372.816406) scale(0.11 -0.11)\">\n       <use xlink:href=\"#DejaVuSans-4d\"/>\n       <use xlink:href=\"#DejaVuSans-53\" x=\"86.279297\"/>\n      </g>\n     </g>\n    </g>\n    <g id=\"xtick_40\">\n     <g id=\"text_40\">\n      <!-- WI -->\n      <g style=\"fill: #262626\" transform=\"translate(831.165772 372.816406) scale(0.11 -0.11)\">\n       <use xlink:href=\"#DejaVuSans-57\"/>\n       <use xlink:href=\"#DejaVuSans-49\" x=\"98.876953\"/>\n      </g>\n     </g>\n    </g>\n    <g id=\"xtick_41\">\n     <g id=\"text_41\">\n      <!-- SC -->\n      <g style=\"fill: #262626\" transform=\"translate(850.588327 372.816406) scale(0.11 -0.11)\">\n       <use xlink:href=\"#DejaVuSans-53\"/>\n       <use xlink:href=\"#DejaVuSans-43\" x=\"63.476562\"/>\n      </g>\n     </g>\n    </g>\n    <g id=\"xtick_42\">\n     <g id=\"text_42\">\n      <!-- DE -->\n      <g style=\"fill: #262626\" transform=\"translate(869.90432 372.816406) scale(0.11 -0.11)\">\n       <use xlink:href=\"#DejaVuSans-44\"/>\n       <use xlink:href=\"#DejaVuSans-45\" x=\"77.001953\"/>\n      </g>\n     </g>\n    </g>\n    <g id=\"xtick_43\">\n     <g id=\"text_43\">\n      <!-- DC -->\n      <g style=\"fill: #262626\" transform=\"translate(889.233203 372.816406) scale(0.11 -0.11)\">\n       <use xlink:href=\"#DejaVuSans-44\"/>\n       <use xlink:href=\"#DejaVuSans-43\" x=\"77.001953\"/>\n      </g>\n     </g>\n    </g>\n    <g id=\"xtick_44\">\n     <g id=\"text_44\">\n      <!-- WV -->\n      <g style=\"fill: #262626\" transform=\"translate(907.802399 372.816406) scale(0.11 -0.11)\">\n       <use xlink:href=\"#DejaVuSans-57\"/>\n       <use xlink:href=\"#DejaVuSans-56\" x=\"98.876953\"/>\n      </g>\n     </g>\n    </g>\n    <g id=\"xtick_45\">\n     <g id=\"text_45\">\n      <!-- HI -->\n      <g style=\"fill: #262626\" transform=\"translate(930.938313 372.816406) scale(0.11 -0.11)\">\n       <use xlink:href=\"#DejaVuSans-48\"/>\n       <use xlink:href=\"#DejaVuSans-49\" x=\"75.195312\"/>\n      </g>\n     </g>\n    </g>\n    <g id=\"xtick_46\">\n     <g id=\"text_46\">\n      <!-- WY -->\n      <g style=\"fill: #262626\" transform=\"translate(947.593681 372.816406) scale(0.11 -0.11)\">\n       <use xlink:href=\"#DejaVuSans-57\"/>\n       <use xlink:href=\"#DejaVuSans-59\" x=\"98.876953\"/>\n      </g>\n     </g>\n    </g>\n    <g id=\"xtick_47\">\n     <g id=\"text_47\">\n      <!-- ND -->\n      <g style=\"fill: #262626\" transform=\"translate(967.735533 372.816406) scale(0.11 -0.11)\">\n       <use xlink:href=\"#DejaVuSans-4e\"/>\n       <use xlink:href=\"#DejaVuSans-44\" x=\"74.804688\"/>\n      </g>\n     </g>\n    </g>\n    <g id=\"xtick_48\">\n     <g id=\"text_48\">\n      <!-- CT -->\n      <g style=\"fill: #262626\" transform=\"translate(988.579494 372.816406) scale(0.11 -0.11)\">\n       <use xlink:href=\"#DejaVuSans-43\"/>\n       <use xlink:href=\"#DejaVuSans-54\" x=\"69.824219\"/>\n      </g>\n     </g>\n    </g>\n    <g id=\"xtick_49\">\n     <g id=\"text_49\">\n      <!-- SD -->\n      <g style=\"fill: #262626\" transform=\"translate(1007.746815 372.816406) scale(0.11 -0.11)\">\n       <use xlink:href=\"#DejaVuSans-53\"/>\n       <use xlink:href=\"#DejaVuSans-44\" x=\"63.476562\"/>\n      </g>\n     </g>\n    </g>\n    <g id=\"xtick_50\">\n     <g id=\"text_50\">\n      <!-- VT -->\n      <g style=\"fill: #262626\" transform=\"translate(1028.045933 372.816406) scale(0.11 -0.11)\">\n       <use xlink:href=\"#DejaVuSans-56\"/>\n       <use xlink:href=\"#DejaVuSans-54\" x=\"68.408203\"/>\n      </g>\n     </g>\n    </g>\n    <g id=\"xtick_51\">\n     <g id=\"text_51\">\n      <!-- RI -->\n      <g style=\"fill: #262626\" transform=\"translate(1049.417551 372.816406) scale(0.11 -0.11)\">\n       <use xlink:href=\"#DejaVuSans-52\"/>\n       <use xlink:href=\"#DejaVuSans-49\" x=\"69.482422\"/>\n      </g>\n     </g>\n    </g>\n    <g id=\"text_52\">\n     <!-- State -->\n     <g style=\"fill: #262626\" transform=\"translate(546.626562 388.222188) scale(0.12 -0.12)\">\n      <defs>\n       <path id=\"DejaVuSans-74\" d=\"M 1172 4494 \nL 1172 3500 \nL 2356 3500 \nL 2356 3053 \nL 1172 3053 \nL 1172 1153 \nQ 1172 725 1289 603 \nQ 1406 481 1766 481 \nL 2356 481 \nL 2356 0 \nL 1766 0 \nQ 1100 0 847 248 \nQ 594 497 594 1153 \nL 594 3053 \nL 172 3053 \nL 172 3500 \nL 594 3500 \nL 594 4494 \nL 1172 4494 \nz\n\" transform=\"scale(0.015625)\"/>\n       <path id=\"DejaVuSans-61\" d=\"M 2194 1759 \nQ 1497 1759 1228 1600 \nQ 959 1441 959 1056 \nQ 959 750 1161 570 \nQ 1363 391 1709 391 \nQ 2188 391 2477 730 \nQ 2766 1069 2766 1631 \nL 2766 1759 \nL 2194 1759 \nz\nM 3341 1997 \nL 3341 0 \nL 2766 0 \nL 2766 531 \nQ 2569 213 2275 61 \nQ 1981 -91 1556 -91 \nQ 1019 -91 701 211 \nQ 384 513 384 1019 \nQ 384 1609 779 1909 \nQ 1175 2209 1959 2209 \nL 2766 2209 \nL 2766 2266 \nQ 2766 2663 2505 2880 \nQ 2244 3097 1772 3097 \nQ 1472 3097 1187 3025 \nQ 903 2953 641 2809 \nL 641 3341 \nQ 956 3463 1253 3523 \nQ 1550 3584 1831 3584 \nQ 2591 3584 2966 3190 \nQ 3341 2797 3341 1997 \nz\n\" transform=\"scale(0.015625)\"/>\n       <path id=\"DejaVuSans-65\" d=\"M 3597 1894 \nL 3597 1613 \nL 953 1613 \nQ 991 1019 1311 708 \nQ 1631 397 2203 397 \nQ 2534 397 2845 478 \nQ 3156 559 3463 722 \nL 3463 178 \nQ 3153 47 2828 -22 \nQ 2503 -91 2169 -91 \nQ 1331 -91 842 396 \nQ 353 884 353 1716 \nQ 353 2575 817 3079 \nQ 1281 3584 2069 3584 \nQ 2775 3584 3186 3129 \nQ 3597 2675 3597 1894 \nz\nM 3022 2063 \nQ 3016 2534 2758 2815 \nQ 2500 3097 2075 3097 \nQ 1594 3097 1305 2825 \nQ 1016 2553 972 2059 \nL 3022 2063 \nz\n\" transform=\"scale(0.015625)\"/>\n      </defs>\n      <use xlink:href=\"#DejaVuSans-53\"/>\n      <use xlink:href=\"#DejaVuSans-74\" x=\"63.476562\"/>\n      <use xlink:href=\"#DejaVuSans-61\" x=\"102.685547\"/>\n      <use xlink:href=\"#DejaVuSans-74\" x=\"163.964844\"/>\n      <use xlink:href=\"#DejaVuSans-65\" x=\"203.173828\"/>\n     </g>\n    </g>\n   </g>\n   <g id=\"matplotlib.axis_2\">\n    <g id=\"ytick_1\">\n     <g id=\"line2d_1\">\n      <path d=\"M 60.30875 354.958125 \nL 1064.70875 354.958125 \n\" clip-path=\"url(#pe4efe0a52d)\" style=\"fill: none; stroke: #cccccc; stroke-linecap: round\"/>\n     </g>\n     <g id=\"text_53\">\n      <!-- 0 -->\n      <g style=\"fill: #262626\" transform=\"translate(43.81 359.137266) scale(0.11 -0.11)\">\n       <defs>\n        <path id=\"DejaVuSans-30\" d=\"M 2034 4250 \nQ 1547 4250 1301 3770 \nQ 1056 3291 1056 2328 \nQ 1056 1369 1301 889 \nQ 1547 409 2034 409 \nQ 2525 409 2770 889 \nQ 3016 1369 3016 2328 \nQ 3016 3291 2770 3770 \nQ 2525 4250 2034 4250 \nz\nM 2034 4750 \nQ 2819 4750 3233 4129 \nQ 3647 3509 3647 2328 \nQ 3647 1150 3233 529 \nQ 2819 -91 2034 -91 \nQ 1250 -91 836 529 \nQ 422 1150 422 2328 \nQ 422 3509 836 4129 \nQ 1250 4750 2034 4750 \nz\n\" transform=\"scale(0.015625)\"/>\n       </defs>\n       <use xlink:href=\"#DejaVuSans-30\"/>\n      </g>\n     </g>\n    </g>\n    <g id=\"ytick_2\">\n     <g id=\"line2d_2\">\n      <path d=\"M 60.30875 297.877044 \nL 1064.70875 297.877044 \n\" clip-path=\"url(#pe4efe0a52d)\" style=\"fill: none; stroke: #cccccc; stroke-linecap: round\"/>\n     </g>\n     <g id=\"text_54\">\n      <!-- 200 -->\n      <g style=\"fill: #262626\" transform=\"translate(29.8125 302.056185) scale(0.11 -0.11)\">\n       <defs>\n        <path id=\"DejaVuSans-32\" d=\"M 1228 531 \nL 3431 531 \nL 3431 0 \nL 469 0 \nL 469 531 \nQ 828 903 1448 1529 \nQ 2069 2156 2228 2338 \nQ 2531 2678 2651 2914 \nQ 2772 3150 2772 3378 \nQ 2772 3750 2511 3984 \nQ 2250 4219 1831 4219 \nQ 1534 4219 1204 4116 \nQ 875 4013 500 3803 \nL 500 4441 \nQ 881 4594 1212 4672 \nQ 1544 4750 1819 4750 \nQ 2544 4750 2975 4387 \nQ 3406 4025 3406 3419 \nQ 3406 3131 3298 2873 \nQ 3191 2616 2906 2266 \nQ 2828 2175 2409 1742 \nQ 1991 1309 1228 531 \nz\n\" transform=\"scale(0.015625)\"/>\n       </defs>\n       <use xlink:href=\"#DejaVuSans-32\"/>\n       <use xlink:href=\"#DejaVuSans-30\" x=\"63.623047\"/>\n       <use xlink:href=\"#DejaVuSans-30\" x=\"127.246094\"/>\n      </g>\n     </g>\n    </g>\n    <g id=\"ytick_3\">\n     <g id=\"line2d_3\">\n      <path d=\"M 60.30875 240.795963 \nL 1064.70875 240.795963 \n\" clip-path=\"url(#pe4efe0a52d)\" style=\"fill: none; stroke: #cccccc; stroke-linecap: round\"/>\n     </g>\n     <g id=\"text_55\">\n      <!-- 400 -->\n      <g style=\"fill: #262626\" transform=\"translate(29.8125 244.975103) scale(0.11 -0.11)\">\n       <defs>\n        <path id=\"DejaVuSans-34\" d=\"M 2419 4116 \nL 825 1625 \nL 2419 1625 \nL 2419 4116 \nz\nM 2253 4666 \nL 3047 4666 \nL 3047 1625 \nL 3713 1625 \nL 3713 1100 \nL 3047 1100 \nL 3047 0 \nL 2419 0 \nL 2419 1100 \nL 313 1100 \nL 313 1709 \nL 2253 4666 \nz\n\" transform=\"scale(0.015625)\"/>\n       </defs>\n       <use xlink:href=\"#DejaVuSans-34\"/>\n       <use xlink:href=\"#DejaVuSans-30\" x=\"63.623047\"/>\n       <use xlink:href=\"#DejaVuSans-30\" x=\"127.246094\"/>\n      </g>\n     </g>\n    </g>\n    <g id=\"ytick_4\">\n     <g id=\"line2d_4\">\n      <path d=\"M 60.30875 183.714882 \nL 1064.70875 183.714882 \n\" clip-path=\"url(#pe4efe0a52d)\" style=\"fill: none; stroke: #cccccc; stroke-linecap: round\"/>\n     </g>\n     <g id=\"text_56\">\n      <!-- 600 -->\n      <g style=\"fill: #262626\" transform=\"translate(29.8125 187.894022) scale(0.11 -0.11)\">\n       <defs>\n        <path id=\"DejaVuSans-36\" d=\"M 2113 2584 \nQ 1688 2584 1439 2293 \nQ 1191 2003 1191 1497 \nQ 1191 994 1439 701 \nQ 1688 409 2113 409 \nQ 2538 409 2786 701 \nQ 3034 994 3034 1497 \nQ 3034 2003 2786 2293 \nQ 2538 2584 2113 2584 \nz\nM 3366 4563 \nL 3366 3988 \nQ 3128 4100 2886 4159 \nQ 2644 4219 2406 4219 \nQ 1781 4219 1451 3797 \nQ 1122 3375 1075 2522 \nQ 1259 2794 1537 2939 \nQ 1816 3084 2150 3084 \nQ 2853 3084 3261 2657 \nQ 3669 2231 3669 1497 \nQ 3669 778 3244 343 \nQ 2819 -91 2113 -91 \nQ 1303 -91 875 529 \nQ 447 1150 447 2328 \nQ 447 3434 972 4092 \nQ 1497 4750 2381 4750 \nQ 2619 4750 2861 4703 \nQ 3103 4656 3366 4563 \nz\n\" transform=\"scale(0.015625)\"/>\n       </defs>\n       <use xlink:href=\"#DejaVuSans-36\"/>\n       <use xlink:href=\"#DejaVuSans-30\" x=\"63.623047\"/>\n       <use xlink:href=\"#DejaVuSans-30\" x=\"127.246094\"/>\n      </g>\n     </g>\n    </g>\n    <g id=\"ytick_5\">\n     <g id=\"line2d_5\">\n      <path d=\"M 60.30875 126.633801 \nL 1064.70875 126.633801 \n\" clip-path=\"url(#pe4efe0a52d)\" style=\"fill: none; stroke: #cccccc; stroke-linecap: round\"/>\n     </g>\n     <g id=\"text_57\">\n      <!-- 800 -->\n      <g style=\"fill: #262626\" transform=\"translate(29.8125 130.812941) scale(0.11 -0.11)\">\n       <defs>\n        <path id=\"DejaVuSans-38\" d=\"M 2034 2216 \nQ 1584 2216 1326 1975 \nQ 1069 1734 1069 1313 \nQ 1069 891 1326 650 \nQ 1584 409 2034 409 \nQ 2484 409 2743 651 \nQ 3003 894 3003 1313 \nQ 3003 1734 2745 1975 \nQ 2488 2216 2034 2216 \nz\nM 1403 2484 \nQ 997 2584 770 2862 \nQ 544 3141 544 3541 \nQ 544 4100 942 4425 \nQ 1341 4750 2034 4750 \nQ 2731 4750 3128 4425 \nQ 3525 4100 3525 3541 \nQ 3525 3141 3298 2862 \nQ 3072 2584 2669 2484 \nQ 3125 2378 3379 2068 \nQ 3634 1759 3634 1313 \nQ 3634 634 3220 271 \nQ 2806 -91 2034 -91 \nQ 1263 -91 848 271 \nQ 434 634 434 1313 \nQ 434 1759 690 2068 \nQ 947 2378 1403 2484 \nz\nM 1172 3481 \nQ 1172 3119 1398 2916 \nQ 1625 2713 2034 2713 \nQ 2441 2713 2670 2916 \nQ 2900 3119 2900 3481 \nQ 2900 3844 2670 4047 \nQ 2441 4250 2034 4250 \nQ 1625 4250 1398 4047 \nQ 1172 3844 1172 3481 \nz\n\" transform=\"scale(0.015625)\"/>\n       </defs>\n       <use xlink:href=\"#DejaVuSans-38\"/>\n       <use xlink:href=\"#DejaVuSans-30\" x=\"63.623047\"/>\n       <use xlink:href=\"#DejaVuSans-30\" x=\"127.246094\"/>\n      </g>\n     </g>\n    </g>\n    <g id=\"ytick_6\">\n     <g id=\"line2d_6\">\n      <path d=\"M 60.30875 69.55272 \nL 1064.70875 69.55272 \n\" clip-path=\"url(#pe4efe0a52d)\" style=\"fill: none; stroke: #cccccc; stroke-linecap: round\"/>\n     </g>\n     <g id=\"text_58\">\n      <!-- 1000 -->\n      <g style=\"fill: #262626\" transform=\"translate(22.81375 73.73186) scale(0.11 -0.11)\">\n       <defs>\n        <path id=\"DejaVuSans-31\" d=\"M 794 531 \nL 1825 531 \nL 1825 4091 \nL 703 3866 \nL 703 4441 \nL 1819 4666 \nL 2450 4666 \nL 2450 531 \nL 3481 531 \nL 3481 0 \nL 794 0 \nL 794 531 \nz\n\" transform=\"scale(0.015625)\"/>\n       </defs>\n       <use xlink:href=\"#DejaVuSans-31\"/>\n       <use xlink:href=\"#DejaVuSans-30\" x=\"63.623047\"/>\n       <use xlink:href=\"#DejaVuSans-30\" x=\"127.246094\"/>\n       <use xlink:href=\"#DejaVuSans-30\" x=\"190.869141\"/>\n      </g>\n     </g>\n    </g>\n    <g id=\"text_59\">\n     <!-- Number Of Shootings -->\n     <g style=\"fill: #262626\" transform=\"translate(16.318125 253.100625) rotate(-90) scale(0.12 -0.12)\">\n      <defs>\n       <path id=\"DejaVuSans-75\" d=\"M 544 1381 \nL 544 3500 \nL 1119 3500 \nL 1119 1403 \nQ 1119 906 1312 657 \nQ 1506 409 1894 409 \nQ 2359 409 2629 706 \nQ 2900 1003 2900 1516 \nL 2900 3500 \nL 3475 3500 \nL 3475 0 \nL 2900 0 \nL 2900 538 \nQ 2691 219 2414 64 \nQ 2138 -91 1772 -91 \nQ 1169 -91 856 284 \nQ 544 659 544 1381 \nz\nM 1991 3584 \nL 1991 3584 \nz\n\" transform=\"scale(0.015625)\"/>\n       <path id=\"DejaVuSans-6d\" d=\"M 3328 2828 \nQ 3544 3216 3844 3400 \nQ 4144 3584 4550 3584 \nQ 5097 3584 5394 3201 \nQ 5691 2819 5691 2113 \nL 5691 0 \nL 5113 0 \nL 5113 2094 \nQ 5113 2597 4934 2840 \nQ 4756 3084 4391 3084 \nQ 3944 3084 3684 2787 \nQ 3425 2491 3425 1978 \nL 3425 0 \nL 2847 0 \nL 2847 2094 \nQ 2847 2600 2669 2842 \nQ 2491 3084 2119 3084 \nQ 1678 3084 1418 2786 \nQ 1159 2488 1159 1978 \nL 1159 0 \nL 581 0 \nL 581 3500 \nL 1159 3500 \nL 1159 2956 \nQ 1356 3278 1631 3431 \nQ 1906 3584 2284 3584 \nQ 2666 3584 2933 3390 \nQ 3200 3197 3328 2828 \nz\n\" transform=\"scale(0.015625)\"/>\n       <path id=\"DejaVuSans-62\" d=\"M 3116 1747 \nQ 3116 2381 2855 2742 \nQ 2594 3103 2138 3103 \nQ 1681 3103 1420 2742 \nQ 1159 2381 1159 1747 \nQ 1159 1113 1420 752 \nQ 1681 391 2138 391 \nQ 2594 391 2855 752 \nQ 3116 1113 3116 1747 \nz\nM 1159 2969 \nQ 1341 3281 1617 3432 \nQ 1894 3584 2278 3584 \nQ 2916 3584 3314 3078 \nQ 3713 2572 3713 1747 \nQ 3713 922 3314 415 \nQ 2916 -91 2278 -91 \nQ 1894 -91 1617 61 \nQ 1341 213 1159 525 \nL 1159 0 \nL 581 0 \nL 581 4863 \nL 1159 4863 \nL 1159 2969 \nz\n\" transform=\"scale(0.015625)\"/>\n       <path id=\"DejaVuSans-72\" d=\"M 2631 2963 \nQ 2534 3019 2420 3045 \nQ 2306 3072 2169 3072 \nQ 1681 3072 1420 2755 \nQ 1159 2438 1159 1844 \nL 1159 0 \nL 581 0 \nL 581 3500 \nL 1159 3500 \nL 1159 2956 \nQ 1341 3275 1631 3429 \nQ 1922 3584 2338 3584 \nQ 2397 3584 2469 3576 \nQ 2541 3569 2628 3553 \nL 2631 2963 \nz\n\" transform=\"scale(0.015625)\"/>\n       <path id=\"DejaVuSans-20\" transform=\"scale(0.015625)\"/>\n       <path id=\"DejaVuSans-66\" d=\"M 2375 4863 \nL 2375 4384 \nL 1825 4384 \nQ 1516 4384 1395 4259 \nQ 1275 4134 1275 3809 \nL 1275 3500 \nL 2222 3500 \nL 2222 3053 \nL 1275 3053 \nL 1275 0 \nL 697 0 \nL 697 3053 \nL 147 3053 \nL 147 3500 \nL 697 3500 \nL 697 3744 \nQ 697 4328 969 4595 \nQ 1241 4863 1831 4863 \nL 2375 4863 \nz\n\" transform=\"scale(0.015625)\"/>\n       <path id=\"DejaVuSans-68\" d=\"M 3513 2113 \nL 3513 0 \nL 2938 0 \nL 2938 2094 \nQ 2938 2591 2744 2837 \nQ 2550 3084 2163 3084 \nQ 1697 3084 1428 2787 \nQ 1159 2491 1159 1978 \nL 1159 0 \nL 581 0 \nL 581 4863 \nL 1159 4863 \nL 1159 2956 \nQ 1366 3272 1645 3428 \nQ 1925 3584 2291 3584 \nQ 2894 3584 3203 3211 \nQ 3513 2838 3513 2113 \nz\n\" transform=\"scale(0.015625)\"/>\n       <path id=\"DejaVuSans-6f\" d=\"M 1959 3097 \nQ 1497 3097 1228 2736 \nQ 959 2375 959 1747 \nQ 959 1119 1226 758 \nQ 1494 397 1959 397 \nQ 2419 397 2687 759 \nQ 2956 1122 2956 1747 \nQ 2956 2369 2687 2733 \nQ 2419 3097 1959 3097 \nz\nM 1959 3584 \nQ 2709 3584 3137 3096 \nQ 3566 2609 3566 1747 \nQ 3566 888 3137 398 \nQ 2709 -91 1959 -91 \nQ 1206 -91 779 398 \nQ 353 888 353 1747 \nQ 353 2609 779 3096 \nQ 1206 3584 1959 3584 \nz\n\" transform=\"scale(0.015625)\"/>\n       <path id=\"DejaVuSans-69\" d=\"M 603 3500 \nL 1178 3500 \nL 1178 0 \nL 603 0 \nL 603 3500 \nz\nM 603 4863 \nL 1178 4863 \nL 1178 4134 \nL 603 4134 \nL 603 4863 \nz\n\" transform=\"scale(0.015625)\"/>\n       <path id=\"DejaVuSans-6e\" d=\"M 3513 2113 \nL 3513 0 \nL 2938 0 \nL 2938 2094 \nQ 2938 2591 2744 2837 \nQ 2550 3084 2163 3084 \nQ 1697 3084 1428 2787 \nQ 1159 2491 1159 1978 \nL 1159 0 \nL 581 0 \nL 581 3500 \nL 1159 3500 \nL 1159 2956 \nQ 1366 3272 1645 3428 \nQ 1925 3584 2291 3584 \nQ 2894 3584 3203 3211 \nQ 3513 2838 3513 2113 \nz\n\" transform=\"scale(0.015625)\"/>\n       <path id=\"DejaVuSans-67\" d=\"M 2906 1791 \nQ 2906 2416 2648 2759 \nQ 2391 3103 1925 3103 \nQ 1463 3103 1205 2759 \nQ 947 2416 947 1791 \nQ 947 1169 1205 825 \nQ 1463 481 1925 481 \nQ 2391 481 2648 825 \nQ 2906 1169 2906 1791 \nz\nM 3481 434 \nQ 3481 -459 3084 -895 \nQ 2688 -1331 1869 -1331 \nQ 1566 -1331 1297 -1286 \nQ 1028 -1241 775 -1147 \nL 775 -588 \nQ 1028 -725 1275 -790 \nQ 1522 -856 1778 -856 \nQ 2344 -856 2625 -561 \nQ 2906 -266 2906 331 \nL 2906 616 \nQ 2728 306 2450 153 \nQ 2172 0 1784 0 \nQ 1141 0 747 490 \nQ 353 981 353 1791 \nQ 353 2603 747 3093 \nQ 1141 3584 1784 3584 \nQ 2172 3584 2450 3431 \nQ 2728 3278 2906 2969 \nL 2906 3500 \nL 3481 3500 \nL 3481 434 \nz\n\" transform=\"scale(0.015625)\"/>\n       <path id=\"DejaVuSans-73\" d=\"M 2834 3397 \nL 2834 2853 \nQ 2591 2978 2328 3040 \nQ 2066 3103 1784 3103 \nQ 1356 3103 1142 2972 \nQ 928 2841 928 2578 \nQ 928 2378 1081 2264 \nQ 1234 2150 1697 2047 \nL 1894 2003 \nQ 2506 1872 2764 1633 \nQ 3022 1394 3022 966 \nQ 3022 478 2636 193 \nQ 2250 -91 1575 -91 \nQ 1294 -91 989 -36 \nQ 684 19 347 128 \nL 347 722 \nQ 666 556 975 473 \nQ 1284 391 1588 391 \nQ 1994 391 2212 530 \nQ 2431 669 2431 922 \nQ 2431 1156 2273 1281 \nQ 2116 1406 1581 1522 \nL 1381 1569 \nQ 847 1681 609 1914 \nQ 372 2147 372 2553 \nQ 372 3047 722 3315 \nQ 1072 3584 1716 3584 \nQ 2034 3584 2315 3537 \nQ 2597 3491 2834 3397 \nz\n\" transform=\"scale(0.015625)\"/>\n      </defs>\n      <use xlink:href=\"#DejaVuSans-4e\"/>\n      <use xlink:href=\"#DejaVuSans-75\" x=\"74.804688\"/>\n      <use xlink:href=\"#DejaVuSans-6d\" x=\"138.183594\"/>\n      <use xlink:href=\"#DejaVuSans-62\" x=\"235.595703\"/>\n      <use xlink:href=\"#DejaVuSans-65\" x=\"299.072266\"/>\n      <use xlink:href=\"#DejaVuSans-72\" x=\"360.595703\"/>\n      <use xlink:href=\"#DejaVuSans-20\" x=\"401.708984\"/>\n      <use xlink:href=\"#DejaVuSans-4f\" x=\"433.496094\"/>\n      <use xlink:href=\"#DejaVuSans-66\" x=\"512.207031\"/>\n      <use xlink:href=\"#DejaVuSans-20\" x=\"547.412109\"/>\n      <use xlink:href=\"#DejaVuSans-53\" x=\"579.199219\"/>\n      <use xlink:href=\"#DejaVuSans-68\" x=\"642.675781\"/>\n      <use xlink:href=\"#DejaVuSans-6f\" x=\"706.054688\"/>\n      <use xlink:href=\"#DejaVuSans-6f\" x=\"767.236328\"/>\n      <use xlink:href=\"#DejaVuSans-74\" x=\"828.417969\"/>\n      <use xlink:href=\"#DejaVuSans-69\" x=\"867.626953\"/>\n      <use xlink:href=\"#DejaVuSans-6e\" x=\"895.410156\"/>\n      <use xlink:href=\"#DejaVuSans-67\" x=\"958.789062\"/>\n      <use xlink:href=\"#DejaVuSans-73\" x=\"1022.265625\"/>\n     </g>\n    </g>\n   </g>\n   <g id=\"patch_3\">\n    <path d=\"M 62.278162 354.958125 \nL 78.033456 354.958125 \nL 78.033456 295.593801 \nL 62.278162 295.593801 \nz\n\" clip-path=\"url(#pe4efe0a52d)\" style=\"fill: #14725d; stroke: #ffffff; stroke-linejoin: miter\"/>\n   </g>\n   <g id=\"patch_4\">\n    <path d=\"M 81.972279 354.958125 \nL 97.727574 354.958125 \nL 97.727574 319.282449 \nL 81.972279 319.282449 \nz\n\" clip-path=\"url(#pe4efe0a52d)\" style=\"fill: #18755e; stroke: #ffffff; stroke-linejoin: miter\"/>\n   </g>\n   <g id=\"patch_5\">\n    <path d=\"M 101.666397 354.958125 \nL 117.421691 354.958125 \nL 117.421691 334.694341 \nL 101.666397 334.694341 \nz\n\" clip-path=\"url(#pe4efe0a52d)\" style=\"fill: #1d775f; stroke: #ffffff; stroke-linejoin: miter\"/>\n   </g>\n   <g id=\"patch_6\">\n    <path d=\"M 121.360515 354.958125 \nL 137.115809 354.958125 \nL 137.115809 38.158125 \nL 121.360515 38.158125 \nz\n\" clip-path=\"url(#pe4efe0a52d)\" style=\"fill: #227a60; stroke: #ffffff; stroke-linejoin: miter\"/>\n   </g>\n   <g id=\"patch_7\">\n    <path d=\"M 141.054632 354.958125 \nL 156.809926 354.958125 \nL 156.809926 275.615422 \nL 141.054632 275.615422 \nz\n\" clip-path=\"url(#pe4efe0a52d)\" style=\"fill: #267d61; stroke: #ffffff; stroke-linejoin: miter\"/>\n   </g>\n   <g id=\"patch_8\">\n    <path d=\"M 160.74875 354.958125 \nL 176.504044 354.958125 \nL 176.504044 294.737584 \nL 160.74875 294.737584 \nz\n\" clip-path=\"url(#pe4efe0a52d)\" style=\"fill: #2b8062; stroke: #ffffff; stroke-linejoin: miter\"/>\n   </g>\n   <g id=\"patch_9\">\n    <path d=\"M 180.442868 354.958125 \nL 196.198162 354.958125 \nL 196.198162 255.351639 \nL 180.442868 255.351639 \nz\n\" clip-path=\"url(#pe4efe0a52d)\" style=\"fill: #308363; stroke: #ffffff; stroke-linejoin: miter\"/>\n   </g>\n   <g id=\"patch_10\">\n    <path d=\"M 200.136985 354.958125 \nL 215.892279 354.958125 \nL 215.892279 341.544071 \nL 200.136985 341.544071 \nz\n\" clip-path=\"url(#pe4efe0a52d)\" style=\"fill: #348664; stroke: #ffffff; stroke-linejoin: miter\"/>\n   </g>\n   <g id=\"patch_11\">\n    <path d=\"M 219.831103 354.958125 \nL 235.586397 354.958125 \nL 235.586397 309.578666 \nL 219.831103 309.578666 \nz\n\" clip-path=\"url(#pe4efe0a52d)\" style=\"fill: #398865; stroke: #ffffff; stroke-linejoin: miter\"/>\n   </g>\n   <g id=\"patch_12\">\n    <path d=\"M 239.525221 354.958125 \nL 255.280515 354.958125 \nL 255.280515 158.028395 \nL 239.525221 158.028395 \nz\n\" clip-path=\"url(#pe4efe0a52d)\" style=\"fill: #3e8b66; stroke: #ffffff; stroke-linejoin: miter\"/>\n   </g>\n   <g id=\"patch_13\">\n    <path d=\"M 259.219338 354.958125 \nL 274.974632 354.958125 \nL 274.974632 292.454341 \nL 259.219338 292.454341 \nz\n\" clip-path=\"url(#pe4efe0a52d)\" style=\"fill: #438e67; stroke: #ffffff; stroke-linejoin: miter\"/>\n   </g>\n   <g id=\"patch_14\">\n    <path d=\"M 278.913456 354.958125 \nL 294.66875 354.958125 \nL 294.66875 311.005693 \nL 278.913456 311.005693 \nz\n\" clip-path=\"url(#pe4efe0a52d)\" style=\"fill: #479168; stroke: #ffffff; stroke-linejoin: miter\"/>\n   </g>\n   <g id=\"patch_15\">\n    <path d=\"M 298.607574 354.958125 \nL 314.362868 354.958125 \nL 314.362868 341.258666 \nL 298.607574 341.258666 \nz\n\" clip-path=\"url(#pe4efe0a52d)\" style=\"fill: #4c9468; stroke: #ffffff; stroke-linejoin: miter\"/>\n   </g>\n   <g id=\"patch_16\">\n    <path d=\"M 318.301691 354.958125 \nL 334.056985 354.958125 \nL 334.056985 329.842449 \nL 318.301691 329.842449 \nz\n\" clip-path=\"url(#pe4efe0a52d)\" style=\"fill: #509669; stroke: #ffffff; stroke-linejoin: miter\"/>\n   </g>\n   <g id=\"patch_17\">\n    <path d=\"M 337.995809 354.958125 \nL 353.751103 354.958125 \nL 353.751103 323.848936 \nL 337.995809 323.848936 \nz\n\" clip-path=\"url(#pe4efe0a52d)\" style=\"fill: #54996a; stroke: #ffffff; stroke-linejoin: miter\"/>\n   </g>\n   <g id=\"patch_18\">\n    <path d=\"M 357.689926 354.958125 \nL 373.445221 354.958125 \nL 373.445221 310.720287 \nL 357.689926 310.720287 \nz\n\" clip-path=\"url(#pe4efe0a52d)\" style=\"fill: #599b6b; stroke: #ffffff; stroke-linejoin: miter\"/>\n   </g>\n   <g id=\"patch_19\">\n    <path d=\"M 377.384044 354.958125 \nL 393.139338 354.958125 \nL 393.139338 319.567855 \nL 377.384044 319.567855 \nz\n\" clip-path=\"url(#pe4efe0a52d)\" style=\"fill: #5e9e6c; stroke: #ffffff; stroke-linejoin: miter\"/>\n   </g>\n   <g id=\"patch_20\">\n    <path d=\"M 397.078162 354.958125 \nL 412.833456 354.958125 \nL 412.833456 307.866233 \nL 397.078162 307.866233 \nz\n\" clip-path=\"url(#pe4efe0a52d)\" style=\"fill: #62a16d; stroke: #ffffff; stroke-linejoin: miter\"/>\n   </g>\n   <g id=\"patch_21\">\n    <path d=\"M 416.772279 354.958125 \nL 432.527574 354.958125 \nL 432.527574 330.41326 \nL 416.772279 330.41326 \nz\n\" clip-path=\"url(#pe4efe0a52d)\" style=\"fill: #67a46e; stroke: #ffffff; stroke-linejoin: miter\"/>\n   </g>\n   <g id=\"patch_22\">\n    <path d=\"M 436.466397 354.958125 \nL 452.221691 354.958125 \nL 452.221691 298.447855 \nL 436.466397 298.447855 \nz\n\" clip-path=\"url(#pe4efe0a52d)\" style=\"fill: #6ca76f; stroke: #ffffff; stroke-linejoin: miter\"/>\n   </g>\n   <g id=\"patch_23\">\n    <path d=\"M 456.160515 354.958125 \nL 471.915809 354.958125 \nL 471.915809 316.713801 \nL 456.160515 316.713801 \nz\n\" clip-path=\"url(#pe4efe0a52d)\" style=\"fill: #70a970; stroke: #ffffff; stroke-linejoin: miter\"/>\n   </g>\n   <g id=\"patch_24\">\n    <path d=\"M 475.854632 354.958125 \nL 491.609926 354.958125 \nL 491.609926 330.127855 \nL 475.854632 330.127855 \nz\n\" clip-path=\"url(#pe4efe0a52d)\" style=\"fill: #74ac70; stroke: #ffffff; stroke-linejoin: miter\"/>\n   </g>\n   <g id=\"patch_25\">\n    <path d=\"M 495.54875 354.958125 \nL 511.304044 354.958125 \nL 511.304044 315.001368 \nL 495.54875 315.001368 \nz\n\" clip-path=\"url(#pe4efe0a52d)\" style=\"fill: #78ae70; stroke: #ffffff; stroke-linejoin: miter\"/>\n   </g>\n   <g id=\"patch_26\">\n    <path d=\"M 515.242868 354.958125 \nL 530.998162 354.958125 \nL 530.998162 314.715963 \nL 515.242868 314.715963 \nz\n\" clip-path=\"url(#pe4efe0a52d)\" style=\"fill: #7db071; stroke: #ffffff; stroke-linejoin: miter\"/>\n   </g>\n   <g id=\"patch_27\">\n    <path d=\"M 534.936985 354.958125 \nL 550.692279 354.958125 \nL 550.692279 339.546233 \nL 534.936985 339.546233 \nz\n\" clip-path=\"url(#pe4efe0a52d)\" style=\"fill: #81b271; stroke: #ffffff; stroke-linejoin: miter\"/>\n   </g>\n   <g id=\"patch_28\">\n    <path d=\"M 554.631103 354.958125 \nL 570.386397 354.958125 \nL 570.386397 348.679206 \nL 554.631103 348.679206 \nz\n\" clip-path=\"url(#pe4efe0a52d)\" style=\"fill: #85b471; stroke: #ffffff; stroke-linejoin: miter\"/>\n   </g>\n   <g id=\"patch_29\">\n    <path d=\"M 574.325221 354.958125 \nL 590.080515 354.958125 \nL 590.080515 214.25326 \nL 574.325221 214.25326 \nz\n\" clip-path=\"url(#pe4efe0a52d)\" style=\"fill: #88b671; stroke: #ffffff; stroke-linejoin: miter\"/>\n   </g>\n   <g id=\"patch_30\">\n    <path d=\"M 594.019338 354.958125 \nL 609.774632 354.958125 \nL 609.774632 337.26299 \nL 594.019338 337.26299 \nz\n\" clip-path=\"url(#pe4efe0a52d)\" style=\"fill: #8cb872; stroke: #ffffff; stroke-linejoin: miter\"/>\n   </g>\n   <g id=\"patch_31\">\n    <path d=\"M 613.713456 354.958125 \nL 629.46875 354.958125 \nL 629.46875 324.419747 \nL 613.713456 324.419747 \nz\n\" clip-path=\"url(#pe4efe0a52d)\" style=\"fill: #90ba72; stroke: #ffffff; stroke-linejoin: miter\"/>\n   </g>\n   <g id=\"patch_32\">\n    <path d=\"M 633.407574 354.958125 \nL 649.162868 354.958125 \nL 649.162868 344.11272 \nL 633.407574 344.11272 \nz\n\" clip-path=\"url(#pe4efe0a52d)\" style=\"fill: #94bd72; stroke: #ffffff; stroke-linejoin: miter\"/>\n   </g>\n   <g id=\"patch_33\">\n    <path d=\"M 653.101691 354.958125 \nL 668.856985 354.958125 \nL 668.856985 318.140828 \nL 653.101691 318.140828 \nz\n\" clip-path=\"url(#pe4efe0a52d)\" style=\"fill: #98bf73; stroke: #ffffff; stroke-linejoin: miter\"/>\n   </g>\n   <g id=\"patch_34\">\n    <path d=\"M 672.795809 354.958125 \nL 688.551103 354.958125 \nL 688.551103 272.475963 \nL 672.795809 272.475963 \nz\n\" clip-path=\"url(#pe4efe0a52d)\" style=\"fill: #9cc173; stroke: #ffffff; stroke-linejoin: miter\"/>\n   </g>\n   <g id=\"patch_35\">\n    <path d=\"M 692.489926 354.958125 \nL 708.245221 354.958125 \nL 708.245221 295.593801 \nL 692.489926 295.593801 \nz\n\" clip-path=\"url(#pe4efe0a52d)\" style=\"fill: #a0c373; stroke: #ffffff; stroke-linejoin: miter\"/>\n   </g>\n   <g id=\"patch_36\">\n    <path d=\"M 712.184044 354.958125 \nL 727.939338 354.958125 \nL 727.939338 292.739747 \nL 712.184044 292.739747 \nz\n\" clip-path=\"url(#pe4efe0a52d)\" style=\"fill: #a4c574; stroke: #ffffff; stroke-linejoin: miter\"/>\n   </g>\n   <g id=\"patch_37\">\n    <path d=\"M 731.878162 354.958125 \nL 747.633456 354.958125 \nL 747.633456 340.117044 \nL 731.878162 340.117044 \nz\n\" clip-path=\"url(#pe4efe0a52d)\" style=\"fill: #a8c874; stroke: #ffffff; stroke-linejoin: miter\"/>\n   </g>\n   <g id=\"patch_38\">\n    <path d=\"M 751.572279 354.958125 \nL 767.327574 354.958125 \nL 767.327574 315.001368 \nL 751.572279 315.001368 \nz\n\" clip-path=\"url(#pe4efe0a52d)\" style=\"fill: #acca74; stroke: #ffffff; stroke-linejoin: miter\"/>\n   </g>\n   <g id=\"patch_39\">\n    <path d=\"M 771.266397 354.958125 \nL 787.021691 354.958125 \nL 787.021691 345.539747 \nL 771.266397 345.539747 \nz\n\" clip-path=\"url(#pe4efe0a52d)\" style=\"fill: #b1cc75; stroke: #ffffff; stroke-linejoin: miter\"/>\n   </g>\n   <g id=\"patch_40\">\n    <path d=\"M 790.960515 354.958125 \nL 806.715809 354.958125 \nL 806.715809 313.574341 \nL 790.960515 313.574341 \nz\n\" clip-path=\"url(#pe4efe0a52d)\" style=\"fill: #b5ce75; stroke: #ffffff; stroke-linejoin: miter\"/>\n   </g>\n   <g id=\"patch_41\">\n    <path d=\"M 810.654632 354.958125 \nL 826.409926 354.958125 \nL 826.409926 326.988395 \nL 810.654632 326.988395 \nz\n\" clip-path=\"url(#pe4efe0a52d)\" style=\"fill: #b9d075; stroke: #ffffff; stroke-linejoin: miter\"/>\n   </g>\n   <g id=\"patch_42\">\n    <path d=\"M 830.34875 354.958125 \nL 846.104044 354.958125 \nL 846.104044 322.136503 \nL 830.34875 322.136503 \nz\n\" clip-path=\"url(#pe4efe0a52d)\" style=\"fill: #bcd275; stroke: #ffffff; stroke-linejoin: miter\"/>\n   </g>\n   <g id=\"patch_43\">\n    <path d=\"M 850.042868 354.958125 \nL 865.798162 354.958125 \nL 865.798162 319.567855 \nL 850.042868 319.567855 \nz\n\" clip-path=\"url(#pe4efe0a52d)\" style=\"fill: #c0d476; stroke: #ffffff; stroke-linejoin: miter\"/>\n   </g>\n   <g id=\"patch_44\">\n    <path d=\"M 869.736985 354.958125 \nL 885.492279 354.958125 \nL 885.492279 350.106233 \nL 869.736985 350.106233 \nz\n\" clip-path=\"url(#pe4efe0a52d)\" style=\"fill: #c4d676; stroke: #ffffff; stroke-linejoin: miter\"/>\n   </g>\n   <g id=\"patch_45\">\n    <path d=\"M 889.431103 354.958125 \nL 905.186397 354.958125 \nL 905.186397 348.108395 \nL 889.431103 348.108395 \nz\n\" clip-path=\"url(#pe4efe0a52d)\" style=\"fill: #c8d976; stroke: #ffffff; stroke-linejoin: miter\"/>\n   </g>\n   <g id=\"patch_46\">\n    <path d=\"M 909.125221 354.958125 \nL 924.880515 354.958125 \nL 924.880515 334.694341 \nL 909.125221 334.694341 \nz\n\" clip-path=\"url(#pe4efe0a52d)\" style=\"fill: #ccdb77; stroke: #ffffff; stroke-linejoin: miter\"/>\n   </g>\n   <g id=\"patch_47\">\n    <path d=\"M 928.819338 354.958125 \nL 944.574632 354.958125 \nL 944.574632 344.398125 \nL 928.819338 344.398125 \nz\n\" clip-path=\"url(#pe4efe0a52d)\" style=\"fill: #d0dd77; stroke: #ffffff; stroke-linejoin: miter\"/>\n   </g>\n   <g id=\"patch_48\">\n    <path d=\"M 948.513456 354.958125 \nL 964.26875 354.958125 \nL 964.26875 347.82299 \nL 948.513456 347.82299 \nz\n\" clip-path=\"url(#pe4efe0a52d)\" style=\"fill: #d4df77; stroke: #ffffff; stroke-linejoin: miter\"/>\n   </g>\n   <g id=\"patch_49\">\n    <path d=\"M 968.207574 354.958125 \nL 983.962868 354.958125 \nL 983.962868 349.820828 \nL 968.207574 349.820828 \nz\n\" clip-path=\"url(#pe4efe0a52d)\" style=\"fill: #d8e178; stroke: #ffffff; stroke-linejoin: miter\"/>\n   </g>\n   <g id=\"patch_50\">\n    <path d=\"M 987.901691 354.958125 \nL 1003.656985 354.958125 \nL 1003.656985 348.679206 \nL 987.901691 348.679206 \nz\n\" clip-path=\"url(#pe4efe0a52d)\" style=\"fill: #dce478; stroke: #ffffff; stroke-linejoin: miter\"/>\n   </g>\n   <g id=\"patch_51\">\n    <path d=\"M 1007.595809 354.958125 \nL 1023.351103 354.958125 \nL 1023.351103 347.252179 \nL 1007.595809 347.252179 \nz\n\" clip-path=\"url(#pe4efe0a52d)\" style=\"fill: #e0e678; stroke: #ffffff; stroke-linejoin: miter\"/>\n   </g>\n   <g id=\"patch_52\">\n    <path d=\"M 1027.289926 354.958125 \nL 1043.045221 354.958125 \nL 1043.045221 351.53326 \nL 1027.289926 351.53326 \nz\n\" clip-path=\"url(#pe4efe0a52d)\" style=\"fill: #e5e879; stroke: #ffffff; stroke-linejoin: miter\"/>\n   </g>\n   <g id=\"patch_53\">\n    <path d=\"M 1046.984044 354.958125 \nL 1062.739338 354.958125 \nL 1062.739338 353.245693 \nL 1046.984044 353.245693 \nz\n\" clip-path=\"url(#pe4efe0a52d)\" style=\"fill: #e9ea79; stroke: #ffffff; stroke-linejoin: miter\"/>\n   </g>\n   <g id=\"line2d_7\">\n    <path clip-path=\"url(#pe4efe0a52d)\" style=\"fill: none; stroke: #424242; stroke-width: 2.7; stroke-linecap: round\"/>\n   </g>\n   <g id=\"line2d_8\">\n    <path clip-path=\"url(#pe4efe0a52d)\" style=\"fill: none; stroke: #424242; stroke-width: 2.7; stroke-linecap: round\"/>\n   </g>\n   <g id=\"line2d_9\">\n    <path clip-path=\"url(#pe4efe0a52d)\" style=\"fill: none; stroke: #424242; stroke-width: 2.7; stroke-linecap: round\"/>\n   </g>\n   <g id=\"line2d_10\">\n    <path clip-path=\"url(#pe4efe0a52d)\" style=\"fill: none; stroke: #424242; stroke-width: 2.7; stroke-linecap: round\"/>\n   </g>\n   <g id=\"line2d_11\">\n    <path clip-path=\"url(#pe4efe0a52d)\" style=\"fill: none; stroke: #424242; stroke-width: 2.7; stroke-linecap: round\"/>\n   </g>\n   <g id=\"line2d_12\">\n    <path clip-path=\"url(#pe4efe0a52d)\" style=\"fill: none; stroke: #424242; stroke-width: 2.7; stroke-linecap: round\"/>\n   </g>\n   <g id=\"line2d_13\">\n    <path clip-path=\"url(#pe4efe0a52d)\" style=\"fill: none; stroke: #424242; stroke-width: 2.7; stroke-linecap: round\"/>\n   </g>\n   <g id=\"line2d_14\">\n    <path clip-path=\"url(#pe4efe0a52d)\" style=\"fill: none; stroke: #424242; stroke-width: 2.7; stroke-linecap: round\"/>\n   </g>\n   <g id=\"line2d_15\">\n    <path clip-path=\"url(#pe4efe0a52d)\" style=\"fill: none; stroke: #424242; stroke-width: 2.7; stroke-linecap: round\"/>\n   </g>\n   <g id=\"line2d_16\">\n    <path clip-path=\"url(#pe4efe0a52d)\" style=\"fill: none; stroke: #424242; stroke-width: 2.7; stroke-linecap: round\"/>\n   </g>\n   <g id=\"line2d_17\">\n    <path clip-path=\"url(#pe4efe0a52d)\" style=\"fill: none; stroke: #424242; stroke-width: 2.7; stroke-linecap: round\"/>\n   </g>\n   <g id=\"line2d_18\">\n    <path clip-path=\"url(#pe4efe0a52d)\" style=\"fill: none; stroke: #424242; stroke-width: 2.7; stroke-linecap: round\"/>\n   </g>\n   <g id=\"line2d_19\">\n    <path clip-path=\"url(#pe4efe0a52d)\" style=\"fill: none; stroke: #424242; stroke-width: 2.7; stroke-linecap: round\"/>\n   </g>\n   <g id=\"line2d_20\">\n    <path clip-path=\"url(#pe4efe0a52d)\" style=\"fill: none; stroke: #424242; stroke-width: 2.7; stroke-linecap: round\"/>\n   </g>\n   <g id=\"line2d_21\">\n    <path clip-path=\"url(#pe4efe0a52d)\" style=\"fill: none; stroke: #424242; stroke-width: 2.7; stroke-linecap: round\"/>\n   </g>\n   <g id=\"line2d_22\">\n    <path clip-path=\"url(#pe4efe0a52d)\" style=\"fill: none; stroke: #424242; stroke-width: 2.7; stroke-linecap: round\"/>\n   </g>\n   <g id=\"line2d_23\">\n    <path clip-path=\"url(#pe4efe0a52d)\" style=\"fill: none; stroke: #424242; stroke-width: 2.7; stroke-linecap: round\"/>\n   </g>\n   <g id=\"line2d_24\">\n    <path clip-path=\"url(#pe4efe0a52d)\" style=\"fill: none; stroke: #424242; stroke-width: 2.7; stroke-linecap: round\"/>\n   </g>\n   <g id=\"line2d_25\">\n    <path clip-path=\"url(#pe4efe0a52d)\" style=\"fill: none; stroke: #424242; stroke-width: 2.7; stroke-linecap: round\"/>\n   </g>\n   <g id=\"line2d_26\">\n    <path clip-path=\"url(#pe4efe0a52d)\" style=\"fill: none; stroke: #424242; stroke-width: 2.7; stroke-linecap: round\"/>\n   </g>\n   <g id=\"line2d_27\">\n    <path clip-path=\"url(#pe4efe0a52d)\" style=\"fill: none; stroke: #424242; stroke-width: 2.7; stroke-linecap: round\"/>\n   </g>\n   <g id=\"line2d_28\">\n    <path clip-path=\"url(#pe4efe0a52d)\" style=\"fill: none; stroke: #424242; stroke-width: 2.7; stroke-linecap: round\"/>\n   </g>\n   <g id=\"line2d_29\">\n    <path clip-path=\"url(#pe4efe0a52d)\" style=\"fill: none; stroke: #424242; stroke-width: 2.7; stroke-linecap: round\"/>\n   </g>\n   <g id=\"line2d_30\">\n    <path clip-path=\"url(#pe4efe0a52d)\" style=\"fill: none; stroke: #424242; stroke-width: 2.7; stroke-linecap: round\"/>\n   </g>\n   <g id=\"line2d_31\">\n    <path clip-path=\"url(#pe4efe0a52d)\" style=\"fill: none; stroke: #424242; stroke-width: 2.7; stroke-linecap: round\"/>\n   </g>\n   <g id=\"line2d_32\">\n    <path clip-path=\"url(#pe4efe0a52d)\" style=\"fill: none; stroke: #424242; stroke-width: 2.7; stroke-linecap: round\"/>\n   </g>\n   <g id=\"line2d_33\">\n    <path clip-path=\"url(#pe4efe0a52d)\" style=\"fill: none; stroke: #424242; stroke-width: 2.7; stroke-linecap: round\"/>\n   </g>\n   <g id=\"line2d_34\">\n    <path clip-path=\"url(#pe4efe0a52d)\" style=\"fill: none; stroke: #424242; stroke-width: 2.7; stroke-linecap: round\"/>\n   </g>\n   <g id=\"line2d_35\">\n    <path clip-path=\"url(#pe4efe0a52d)\" style=\"fill: none; stroke: #424242; stroke-width: 2.7; stroke-linecap: round\"/>\n   </g>\n   <g id=\"line2d_36\">\n    <path clip-path=\"url(#pe4efe0a52d)\" style=\"fill: none; stroke: #424242; stroke-width: 2.7; stroke-linecap: round\"/>\n   </g>\n   <g id=\"line2d_37\">\n    <path clip-path=\"url(#pe4efe0a52d)\" style=\"fill: none; stroke: #424242; stroke-width: 2.7; stroke-linecap: round\"/>\n   </g>\n   <g id=\"line2d_38\">\n    <path clip-path=\"url(#pe4efe0a52d)\" style=\"fill: none; stroke: #424242; stroke-width: 2.7; stroke-linecap: round\"/>\n   </g>\n   <g id=\"line2d_39\">\n    <path clip-path=\"url(#pe4efe0a52d)\" style=\"fill: none; stroke: #424242; stroke-width: 2.7; stroke-linecap: round\"/>\n   </g>\n   <g id=\"line2d_40\">\n    <path clip-path=\"url(#pe4efe0a52d)\" style=\"fill: none; stroke: #424242; stroke-width: 2.7; stroke-linecap: round\"/>\n   </g>\n   <g id=\"line2d_41\">\n    <path clip-path=\"url(#pe4efe0a52d)\" style=\"fill: none; stroke: #424242; stroke-width: 2.7; stroke-linecap: round\"/>\n   </g>\n   <g id=\"line2d_42\">\n    <path clip-path=\"url(#pe4efe0a52d)\" style=\"fill: none; stroke: #424242; stroke-width: 2.7; stroke-linecap: round\"/>\n   </g>\n   <g id=\"line2d_43\">\n    <path clip-path=\"url(#pe4efe0a52d)\" style=\"fill: none; stroke: #424242; stroke-width: 2.7; stroke-linecap: round\"/>\n   </g>\n   <g id=\"line2d_44\">\n    <path clip-path=\"url(#pe4efe0a52d)\" style=\"fill: none; stroke: #424242; stroke-width: 2.7; stroke-linecap: round\"/>\n   </g>\n   <g id=\"line2d_45\">\n    <path clip-path=\"url(#pe4efe0a52d)\" style=\"fill: none; stroke: #424242; stroke-width: 2.7; stroke-linecap: round\"/>\n   </g>\n   <g id=\"line2d_46\">\n    <path clip-path=\"url(#pe4efe0a52d)\" style=\"fill: none; stroke: #424242; stroke-width: 2.7; stroke-linecap: round\"/>\n   </g>\n   <g id=\"line2d_47\">\n    <path clip-path=\"url(#pe4efe0a52d)\" style=\"fill: none; stroke: #424242; stroke-width: 2.7; stroke-linecap: round\"/>\n   </g>\n   <g id=\"line2d_48\">\n    <path clip-path=\"url(#pe4efe0a52d)\" style=\"fill: none; stroke: #424242; stroke-width: 2.7; stroke-linecap: round\"/>\n   </g>\n   <g id=\"line2d_49\">\n    <path clip-path=\"url(#pe4efe0a52d)\" style=\"fill: none; stroke: #424242; stroke-width: 2.7; stroke-linecap: round\"/>\n   </g>\n   <g id=\"line2d_50\">\n    <path clip-path=\"url(#pe4efe0a52d)\" style=\"fill: none; stroke: #424242; stroke-width: 2.7; stroke-linecap: round\"/>\n   </g>\n   <g id=\"line2d_51\">\n    <path clip-path=\"url(#pe4efe0a52d)\" style=\"fill: none; stroke: #424242; stroke-width: 2.7; stroke-linecap: round\"/>\n   </g>\n   <g id=\"line2d_52\">\n    <path clip-path=\"url(#pe4efe0a52d)\" style=\"fill: none; stroke: #424242; stroke-width: 2.7; stroke-linecap: round\"/>\n   </g>\n   <g id=\"line2d_53\">\n    <path clip-path=\"url(#pe4efe0a52d)\" style=\"fill: none; stroke: #424242; stroke-width: 2.7; stroke-linecap: round\"/>\n   </g>\n   <g id=\"line2d_54\">\n    <path clip-path=\"url(#pe4efe0a52d)\" style=\"fill: none; stroke: #424242; stroke-width: 2.7; stroke-linecap: round\"/>\n   </g>\n   <g id=\"line2d_55\">\n    <path clip-path=\"url(#pe4efe0a52d)\" style=\"fill: none; stroke: #424242; stroke-width: 2.7; stroke-linecap: round\"/>\n   </g>\n   <g id=\"line2d_56\">\n    <path clip-path=\"url(#pe4efe0a52d)\" style=\"fill: none; stroke: #424242; stroke-width: 2.7; stroke-linecap: round\"/>\n   </g>\n   <g id=\"line2d_57\">\n    <path clip-path=\"url(#pe4efe0a52d)\" style=\"fill: none; stroke: #424242; stroke-width: 2.7; stroke-linecap: round\"/>\n   </g>\n   <g id=\"patch_54\">\n    <path d=\"M 60.30875 354.958125 \nL 60.30875 22.318125 \n\" style=\"fill: none; stroke: #cccccc; stroke-width: 1.25; stroke-linejoin: miter; stroke-linecap: square\"/>\n   </g>\n   <g id=\"patch_55\">\n    <path d=\"M 1064.70875 354.958125 \nL 1064.70875 22.318125 \n\" style=\"fill: none; stroke: #cccccc; stroke-width: 1.25; stroke-linejoin: miter; stroke-linecap: square\"/>\n   </g>\n   <g id=\"patch_56\">\n    <path d=\"M 60.30875 354.958125 \nL 1064.70875 354.958125 \n\" style=\"fill: none; stroke: #cccccc; stroke-width: 1.25; stroke-linejoin: miter; stroke-linecap: square\"/>\n   </g>\n   <g id=\"patch_57\">\n    <path d=\"M 60.30875 22.318125 \nL 1064.70875 22.318125 \n\" style=\"fill: none; stroke: #cccccc; stroke-width: 1.25; stroke-linejoin: miter; stroke-linecap: square\"/>\n   </g>\n   <g id=\"text_60\">\n    <!-- Shootings by State -->\n    <g style=\"fill: #262626\" transform=\"translate(505.742187 16.318125) scale(0.12 -0.12)\">\n     <defs>\n      <path id=\"DejaVuSans-79\" d=\"M 2059 -325 \nQ 1816 -950 1584 -1140 \nQ 1353 -1331 966 -1331 \nL 506 -1331 \nL 506 -850 \nL 844 -850 \nQ 1081 -850 1212 -737 \nQ 1344 -625 1503 -206 \nL 1606 56 \nL 191 3500 \nL 800 3500 \nL 1894 763 \nL 2988 3500 \nL 3597 3500 \nL 2059 -325 \nz\n\" transform=\"scale(0.015625)\"/>\n     </defs>\n     <use xlink:href=\"#DejaVuSans-53\"/>\n     <use xlink:href=\"#DejaVuSans-68\" x=\"63.476562\"/>\n     <use xlink:href=\"#DejaVuSans-6f\" x=\"126.855469\"/>\n     <use xlink:href=\"#DejaVuSans-6f\" x=\"188.037109\"/>\n     <use xlink:href=\"#DejaVuSans-74\" x=\"249.21875\"/>\n     <use xlink:href=\"#DejaVuSans-69\" x=\"288.427734\"/>\n     <use xlink:href=\"#DejaVuSans-6e\" x=\"316.210938\"/>\n     <use xlink:href=\"#DejaVuSans-67\" x=\"379.589844\"/>\n     <use xlink:href=\"#DejaVuSans-73\" x=\"443.066406\"/>\n     <use xlink:href=\"#DejaVuSans-20\" x=\"495.166016\"/>\n     <use xlink:href=\"#DejaVuSans-62\" x=\"526.953125\"/>\n     <use xlink:href=\"#DejaVuSans-79\" x=\"590.429688\"/>\n     <use xlink:href=\"#DejaVuSans-20\" x=\"649.609375\"/>\n     <use xlink:href=\"#DejaVuSans-53\" x=\"681.396484\"/>\n     <use xlink:href=\"#DejaVuSans-74\" x=\"744.873047\"/>\n     <use xlink:href=\"#DejaVuSans-61\" x=\"784.082031\"/>\n     <use xlink:href=\"#DejaVuSans-74\" x=\"845.361328\"/>\n     <use xlink:href=\"#DejaVuSans-65\" x=\"884.570312\"/>\n    </g>\n   </g>\n  </g>\n </g>\n <defs>\n  <clipPath id=\"pe4efe0a52d\">\n   <rect x=\"60.30875\" y=\"22.318125\" width=\"1004.4\" height=\"332.64\"/>\n  </clipPath>\n </defs>\n</svg>\n",
            "text/plain": [
              "<Figure size 1800x600 with 1 Axes>"
            ]
          },
          "metadata": {},
          "output_type": "display_data"
        }
      ],
      "source": [
        "# a plot for states vs number of incidents is plotted here\n",
        "import seaborn as sns\n",
        "x = [i[1] for i in State_Counts]\n",
        "y = [i[0] for i in State_Counts]\n",
        "\n",
        "plt.figure(figsize=(18,6))\n",
        "sns.barplot(x=x,y=y,palette='summer')\n",
        "plt.xlabel(xlabel = 'State')\n",
        "plt.ylabel(ylabel = 'Number Of Shootings')\n",
        "plt.title(label = 'Shootings by State')\n",
        "plt.show()"
      ]
    },
    {
      "cell_type": "code",
      "execution_count": null,
      "metadata": {
        "colab": {
          "background_save": true
        },
        "id": "7gVBvCNh3vFm"
      },
      "outputs": [],
      "source": [
        "DataFrame1['age'] = DataFrame1['age'].fillna(DataFrame1['age'].mean())"
      ]
    },
    {
      "cell_type": "code",
      "execution_count": null,
      "metadata": {
        "colab": {
          "background_save": true,
          "base_uri": "https://localhost:8080/"
        },
        "id": "ETQJEH0l3wz1",
        "outputId": "71cea387-4a56-43ad-a671-5f2857b367b9"
      },
      "outputs": [
        {
          "data": {
            "text/html": [
              "\n",
              "  <div id=\"df-05348272-6427-4c32-a8e5-859482003b52\">\n",
              "    <div class=\"colab-df-container\">\n",
              "      <div>\n",
              "<style scoped>\n",
              "    .dataframe tbody tr th:only-of-type {\n",
              "        vertical-align: middle;\n",
              "    }\n",
              "\n",
              "    .dataframe tbody tr th {\n",
              "        vertical-align: top;\n",
              "    }\n",
              "\n",
              "    .dataframe thead th {\n",
              "        text-align: right;\n",
              "    }\n",
              "</style>\n",
              "<table border=\"1\" class=\"dataframe\">\n",
              "  <thead>\n",
              "    <tr style=\"text-align: right;\">\n",
              "      <th></th>\n",
              "      <th>id</th>\n",
              "      <th>name</th>\n",
              "      <th>date</th>\n",
              "      <th>manner_of_death</th>\n",
              "      <th>armed</th>\n",
              "      <th>age</th>\n",
              "      <th>gender</th>\n",
              "      <th>race</th>\n",
              "      <th>city</th>\n",
              "      <th>state</th>\n",
              "      <th>signs_of_mental_illness</th>\n",
              "      <th>threat_level</th>\n",
              "      <th>flee</th>\n",
              "      <th>body_camera</th>\n",
              "      <th>longitude</th>\n",
              "      <th>latitude</th>\n",
              "      <th>is_geocoding_exact</th>\n",
              "      <th>Age_of_the_Person</th>\n",
              "    </tr>\n",
              "  </thead>\n",
              "  <tbody>\n",
              "    <tr>\n",
              "      <th>0</th>\n",
              "      <td>1</td>\n",
              "      <td>Tim Elliot</td>\n",
              "      <td>2015-01-02</td>\n",
              "      <td>shot</td>\n",
              "      <td>gun</td>\n",
              "      <td>53.0</td>\n",
              "      <td>M</td>\n",
              "      <td>A</td>\n",
              "      <td>Shelton</td>\n",
              "      <td>WA</td>\n",
              "      <td>True</td>\n",
              "      <td>attack</td>\n",
              "      <td>Not fleeing</td>\n",
              "      <td>False</td>\n",
              "      <td>-123.122</td>\n",
              "      <td>47.247</td>\n",
              "      <td>True</td>\n",
              "      <td>Age between 40 and 60</td>\n",
              "    </tr>\n",
              "    <tr>\n",
              "      <th>1</th>\n",
              "      <td>2</td>\n",
              "      <td>Lewis Lee Lembke</td>\n",
              "      <td>2015-01-02</td>\n",
              "      <td>shot</td>\n",
              "      <td>gun</td>\n",
              "      <td>47.0</td>\n",
              "      <td>M</td>\n",
              "      <td>W</td>\n",
              "      <td>Aloha</td>\n",
              "      <td>OR</td>\n",
              "      <td>False</td>\n",
              "      <td>attack</td>\n",
              "      <td>Not fleeing</td>\n",
              "      <td>False</td>\n",
              "      <td>-122.892</td>\n",
              "      <td>45.487</td>\n",
              "      <td>True</td>\n",
              "      <td>Age between 40 and 60</td>\n",
              "    </tr>\n",
              "    <tr>\n",
              "      <th>2</th>\n",
              "      <td>3</td>\n",
              "      <td>John Paul Quintero</td>\n",
              "      <td>2015-01-03</td>\n",
              "      <td>shot and Tasered</td>\n",
              "      <td>unarmed</td>\n",
              "      <td>23.0</td>\n",
              "      <td>M</td>\n",
              "      <td>H</td>\n",
              "      <td>Wichita</td>\n",
              "      <td>KS</td>\n",
              "      <td>False</td>\n",
              "      <td>other</td>\n",
              "      <td>Not fleeing</td>\n",
              "      <td>False</td>\n",
              "      <td>-97.281</td>\n",
              "      <td>37.695</td>\n",
              "      <td>True</td>\n",
              "      <td>Age between 18 and 40</td>\n",
              "    </tr>\n",
              "    <tr>\n",
              "      <th>3</th>\n",
              "      <td>4</td>\n",
              "      <td>Matthew Hoffman</td>\n",
              "      <td>2015-01-04</td>\n",
              "      <td>shot</td>\n",
              "      <td>toy weapon</td>\n",
              "      <td>32.0</td>\n",
              "      <td>M</td>\n",
              "      <td>W</td>\n",
              "      <td>San Francisco</td>\n",
              "      <td>CA</td>\n",
              "      <td>True</td>\n",
              "      <td>attack</td>\n",
              "      <td>Not fleeing</td>\n",
              "      <td>False</td>\n",
              "      <td>-122.422</td>\n",
              "      <td>37.763</td>\n",
              "      <td>True</td>\n",
              "      <td>Age between 18 and 40</td>\n",
              "    </tr>\n",
              "    <tr>\n",
              "      <th>4</th>\n",
              "      <td>5</td>\n",
              "      <td>Michael Rodriguez</td>\n",
              "      <td>2015-01-04</td>\n",
              "      <td>shot</td>\n",
              "      <td>nail gun</td>\n",
              "      <td>39.0</td>\n",
              "      <td>M</td>\n",
              "      <td>H</td>\n",
              "      <td>Evans</td>\n",
              "      <td>CO</td>\n",
              "      <td>False</td>\n",
              "      <td>attack</td>\n",
              "      <td>Not fleeing</td>\n",
              "      <td>False</td>\n",
              "      <td>-104.692</td>\n",
              "      <td>40.384</td>\n",
              "      <td>True</td>\n",
              "      <td>Age between 18 and 40</td>\n",
              "    </tr>\n",
              "  </tbody>\n",
              "</table>\n",
              "</div>\n",
              "      <button class=\"colab-df-convert\" onclick=\"convertToInteractive('df-05348272-6427-4c32-a8e5-859482003b52')\"\n",
              "              title=\"Convert this dataframe to an interactive table.\"\n",
              "              style=\"display:none;\">\n",
              "        \n",
              "  <svg xmlns=\"http://www.w3.org/2000/svg\" height=\"24px\"viewBox=\"0 0 24 24\"\n",
              "       width=\"24px\">\n",
              "    <path d=\"M0 0h24v24H0V0z\" fill=\"none\"/>\n",
              "    <path d=\"M18.56 5.44l.94 2.06.94-2.06 2.06-.94-2.06-.94-.94-2.06-.94 2.06-2.06.94zm-11 1L8.5 8.5l.94-2.06 2.06-.94-2.06-.94L8.5 2.5l-.94 2.06-2.06.94zm10 10l.94 2.06.94-2.06 2.06-.94-2.06-.94-.94-2.06-.94 2.06-2.06.94z\"/><path d=\"M17.41 7.96l-1.37-1.37c-.4-.4-.92-.59-1.43-.59-.52 0-1.04.2-1.43.59L10.3 9.45l-7.72 7.72c-.78.78-.78 2.05 0 2.83L4 21.41c.39.39.9.59 1.41.59.51 0 1.02-.2 1.41-.59l7.78-7.78 2.81-2.81c.8-.78.8-2.07 0-2.86zM5.41 20L4 18.59l7.72-7.72 1.47 1.35L5.41 20z\"/>\n",
              "  </svg>\n",
              "      </button>\n",
              "      \n",
              "  <style>\n",
              "    .colab-df-container {\n",
              "      display:flex;\n",
              "      flex-wrap:wrap;\n",
              "      gap: 12px;\n",
              "    }\n",
              "\n",
              "    .colab-df-convert {\n",
              "      background-color: #E8F0FE;\n",
              "      border: none;\n",
              "      border-radius: 50%;\n",
              "      cursor: pointer;\n",
              "      display: none;\n",
              "      fill: #1967D2;\n",
              "      height: 32px;\n",
              "      padding: 0 0 0 0;\n",
              "      width: 32px;\n",
              "    }\n",
              "\n",
              "    .colab-df-convert:hover {\n",
              "      background-color: #E2EBFA;\n",
              "      box-shadow: 0px 1px 2px rgba(60, 64, 67, 0.3), 0px 1px 3px 1px rgba(60, 64, 67, 0.15);\n",
              "      fill: #174EA6;\n",
              "    }\n",
              "\n",
              "    [theme=dark] .colab-df-convert {\n",
              "      background-color: #3B4455;\n",
              "      fill: #D2E3FC;\n",
              "    }\n",
              "\n",
              "    [theme=dark] .colab-df-convert:hover {\n",
              "      background-color: #434B5C;\n",
              "      box-shadow: 0px 1px 3px 1px rgba(0, 0, 0, 0.15);\n",
              "      filter: drop-shadow(0px 1px 2px rgba(0, 0, 0, 0.3));\n",
              "      fill: #FFFFFF;\n",
              "    }\n",
              "  </style>\n",
              "\n",
              "      <script>\n",
              "        const buttonEl =\n",
              "          document.querySelector('#df-05348272-6427-4c32-a8e5-859482003b52 button.colab-df-convert');\n",
              "        buttonEl.style.display =\n",
              "          google.colab.kernel.accessAllowed ? 'block' : 'none';\n",
              "\n",
              "        async function convertToInteractive(key) {\n",
              "          const element = document.querySelector('#df-05348272-6427-4c32-a8e5-859482003b52');\n",
              "          const dataTable =\n",
              "            await google.colab.kernel.invokeFunction('convertToInteractive',\n",
              "                                                     [key], {});\n",
              "          if (!dataTable) return;\n",
              "\n",
              "          const docLinkHtml = 'Like what you see? Visit the ' +\n",
              "            '<a target=\"_blank\" href=https://colab.research.google.com/notebooks/data_table.ipynb>data table notebook</a>'\n",
              "            + ' to learn more about interactive tables.';\n",
              "          element.innerHTML = '';\n",
              "          dataTable['output_type'] = 'display_data';\n",
              "          await google.colab.output.renderOutput(dataTable, element);\n",
              "          const docLink = document.createElement('div');\n",
              "          docLink.innerHTML = docLinkHtml;\n",
              "          element.appendChild(docLink);\n",
              "        }\n",
              "      </script>\n",
              "    </div>\n",
              "  </div>\n",
              "  "
            ],
            "text/plain": [
              "   id                name        date   manner_of_death       armed   age  \\\n",
              "0   1          Tim Elliot  2015-01-02              shot         gun  53.0   \n",
              "1   2    Lewis Lee Lembke  2015-01-02              shot         gun  47.0   \n",
              "2   3  John Paul Quintero  2015-01-03  shot and Tasered     unarmed  23.0   \n",
              "3   4     Matthew Hoffman  2015-01-04              shot  toy weapon  32.0   \n",
              "4   5   Michael Rodriguez  2015-01-04              shot    nail gun  39.0   \n",
              "\n",
              "  gender race           city state  signs_of_mental_illness threat_level  \\\n",
              "0      M    A        Shelton    WA                     True       attack   \n",
              "1      M    W          Aloha    OR                    False       attack   \n",
              "2      M    H        Wichita    KS                    False        other   \n",
              "3      M    W  San Francisco    CA                     True       attack   \n",
              "4      M    H          Evans    CO                    False       attack   \n",
              "\n",
              "          flee  body_camera  longitude  latitude  is_geocoding_exact  \\\n",
              "0  Not fleeing        False   -123.122    47.247                True   \n",
              "1  Not fleeing        False   -122.892    45.487                True   \n",
              "2  Not fleeing        False    -97.281    37.695                True   \n",
              "3  Not fleeing        False   -122.422    37.763                True   \n",
              "4  Not fleeing        False   -104.692    40.384                True   \n",
              "\n",
              "       Age_of_the_Person  \n",
              "0  Age between 40 and 60  \n",
              "1  Age between 40 and 60  \n",
              "2  Age between 18 and 40  \n",
              "3  Age between 18 and 40  \n",
              "4  Age between 18 and 40  "
            ]
          },
          "execution_count": 45,
          "metadata": {},
          "output_type": "execute_result"
        }
      ],
      "source": [
        "conditions = [\n",
        "    (DataFrame1['age'] <= 18),\n",
        "    (DataFrame1['age'] > 18) & (DataFrame1['age'] <= 40),\n",
        "    (DataFrame1['age'] > 40) & (DataFrame1['age'] <= 60),\n",
        "    (DataFrame1['age'] > 60)\n",
        "    ]\n",
        "\n",
        "# create a list of the values we want to assign for each condition\n",
        "values = ['Age less than 18', 'Age between 18 and 40', 'Age between 40 and 60', 'Age greater than 60']\n",
        "\n",
        "# create a new column and use np.select to assign values to it using our lists as arguments\n",
        "DataFrame1['Age_of_the_Person'] = np.select(conditions, values)\n",
        "\n",
        "# display updated DataFrame\n",
        "DataFrame1.head()"
      ]
    },
    {
      "cell_type": "code",
      "execution_count": null,
      "metadata": {
        "colab": {
          "background_save": true,
          "base_uri": "https://localhost:8080/"
        },
        "id": "6wog4Tcf30wD",
        "outputId": "93a55825-e6c1-47ef-ad6e-b1519d9f8913"
      },
      "outputs": [
        {
          "data": {
            "text/plain": [
              "Age between 18 and 40    4943\n",
              "Age between 40 and 60    2090\n",
              "Age greater than 60       399\n",
              "Age less than 18          250\n",
              "Name: Age_of_the_Person, dtype: int64"
            ]
          },
          "execution_count": 46,
          "metadata": {},
          "output_type": "execute_result"
        }
      ],
      "source": [
        "DataFrame1['Age_of_the_Person'].value_counts()"
      ]
    },
    {
      "cell_type": "code",
      "execution_count": null,
      "metadata": {
        "colab": {
          "base_uri": "https://localhost:8080/"
        },
        "id": "GGqcYbbi33z0",
        "outputId": "ef391e87-dc3c-4bba-c79e-6d981c9506a9"
      },
      "outputs": [
        {
          "data": {
            "text/html": [
              "<html>\n",
              "<head><meta charset=\"utf-8\" /></head>\n",
              "<body>\n",
              "    <div>            <script src=\"https://cdnjs.cloudflare.com/ajax/libs/mathjax/2.7.5/MathJax.js?config=TeX-AMS-MML_SVG\"></script><script type=\"text/javascript\">if (window.MathJax && window.MathJax.Hub && window.MathJax.Hub.Config) {window.MathJax.Hub.Config({SVG: {font: \"STIX-Web\"}});}</script>                <script type=\"text/javascript\">window.PlotlyConfig = {MathJaxConfig: 'local'};</script>\n",
              "        <script src=\"https://cdn.plot.ly/plotly-2.18.2.min.js\"></script>                <div id=\"36b80413-4594-4515-b65f-c74bfbf61575\" class=\"plotly-graph-div\" style=\"height:525px; width:100%;\"></div>            <script type=\"text/javascript\">                                    window.PLOTLYENV=window.PLOTLYENV || {};                                    if (document.getElementById(\"36b80413-4594-4515-b65f-c74bfbf61575\")) {                    Plotly.newPlot(                        \"36b80413-4594-4515-b65f-c74bfbf61575\",                        [{\"geo\":\"geo\",\"hovertemplate\":\"Age_of_the_Person=Age between 40 and 60<br>latitude=%{lat}<br>longitude=%{lon}<extra></extra>\",\"lat\":[47.247,45.487,40.413,39.999,40.772,41.083,28.912,32.407,37.588,42.257,33.509,42.908,33.578,43.826,39.749,33.47,36.121,45.79,39.38,34.417,40.273,31.523,31.397,33.953,41.152,28.482,33.787,32.655,35.025,39.573,32.864,27.554,32.359,35.229,29.369,33.448,39.793,27.99,30.455,34.631,40.632,36.241,28.104,30.425,30.789,34.043,42.968,29.743,33.819,35.269,40.246,30.862,33.417,38.306,38.947,40.331,35.204,42.33,33.582,35.376,43.19,39.534,40.03,37.302,38.818,39.469,42.313,33.05,35.974,44.091,36.184,32.899,33.655,35.127,29.489,30.845,35.954,34.904,29.806,38.948,34.051,35.5,33.48,30.171,41.122,34.073,31.401,34.133,38.375,44.914,28.567,33.696,40.739,36.611,36.054,32.754,39.28,35.052,37.38,37.058,43.266,29.86,47.229,21.31,29.85,42.25,38.552,41.603,38.873,40.965,32.858,38.658,40.657,33.344,34.794,42.36,31.734,40.953,35.787,34.97,39.623,27.059,36.905,32.009,45.903,39.722,30.031,25.787,41.098,32.732,40.576,42.351,40.427,30.03,36.229,32.736,39.411,44.743,43.208,35.194,42.053,32.99,37.859,34.671,35.414,33.833,44.153,37.339,32.758,35.307,45.469,37.839,36.144,30.247,33.999,44.103,34.884,33.553,39.122,37.556,34.313,42.72,38.975,34.143,29.956,30.849,29.505,34.077,29.542,35.886,41.738,38.906,33.972,38.402,37.827,33.299,42.972,38.99,47.19,35.193,47.706,34.157,31.58,32.774,41.79,42.064,30.051,35.512,33.207,47.286,36.168,35.896,28.061,33.466,35.517,32.792,32.771,29.669,29.554,40.407,32.827,34.72,38.547,25.769,32.706,36.789,34.079,33.955,39.958,35.965,25.727,43.886,36.077,30.284,31.623,39.522,40.481,40.742,36.718,25.584,34.416,30.507,34.961,32.562,44.072,45.493,34.187,32.817,40.573,26.668,42.564,30.174,31.867,39.413,36.613,31.434,36.129,34.033,33.935,42.857,37.284,42.583,60.287,39.408,34.039,29.675,32.61,44.891,29.733,32.797,39.634,45.53,36.038,34.981,37.255,33.57,37.384,35.957,31.432,39.611,32.638,42.09,34.095,34.063,39.501,39.947,27.726,45.041,34.116,36.532,32.642,39.758,33.466,44.187,25.788,41.541,41.322,36.308,34.917,36.674,34.108,32.728,35.852,36.244,36.229,39.304,35.38,36.407,33.755,44.483,30.694,33.68,41.893,29.849,37.09,36.75,32.235,40.613,39.929,34.133,39.718,34.29,39.118,61.192,36.856,47.197,45.446,39.191,38.593,33.836,32.852,43.586,34.659,32.486,39.121,26.418,35.296,35.532,38.918,41.729,31.757,36.031,45.993,38.193,45.006,32.282,34.682,32.723,27.457,32.166,41.182,37.118,47.12,34.812,47.691,35.372,30.436,39.446,32.367,33.837,44.081,40.327,32.864,46.809,33.941,43.238,37.324,39.055,45.783,32.422,31.888,37.815,40.145,36.108,34.146,32.73,27.889,37.882,43.503,40.071,39.789,42.272,38.275,33.711,28.054,34.783,46.533,38.976,33.282,39.309,29.736,44.962,42.133,39.797,38.877,37.762,41.212,42.897,30.718,38.377,34.604,42.473,35.246,25.493,35.017,42.403,42.589,35.285,29.649,43.553,47.656,32.299,44.979,33.031,34.902,36.343,39.988,27.665,33.466,28.9,40.762,38.199,38.646,35.466,41.586,30.708,39.727,33.607,35.128,34.998,37.604,36.848,37.432,39.062,29.955,46.567,45.639,43.647,38.999,35.17,36.177,41.64,42.85,34.962,36.041,29.693,35.338,27.86,42.148,43.071,42.757,43.331,36.557,33.512,38.605,38.62,42.239,null,41.428,39.57,40.718,36.175,36.1,41.858,null,43.064,45.171,39.551,33.697,36.516,33.862,28.034,34.491,42.422,38.91,43.483,38.198,38.697,33.836,34.734,47.466,30.262,35.914,39.718,35.035,33.43,null,31.969,34.097,34.99,33.625,28.507,35.488,36.137,39.717,34.129,31.049,41.69,39.076,31.569,26.245,37.964,33.929,34.659,35.364,30.067,32.729,null,36.211,39.916,38.665,43.644,29.725,44.79,35.213,42.46,39.352,46.004,32.812,34.859,34.582,37.665,43.045,34.62,null,36.17,42.416,25.939,36.1,36.16,43.786,34.741,41.326,34.241,29.574,33.791,27.818,38.451,48.057,33.462,36.969,34.128,31.462,28.077,38.468,33.527,40.571,32.882,35.026,33.909,27.818,35.637,43.948,30.395,38.886,35.743,42.456,29.534,38.093,28.948,45.522,28.861,35.109,40.882,33.979,35.319,47.966,35.843,26.211,41.257,28.066,28.006,34.018,41.849,39.212,26.709,39.233,37.222,32.635,34.069,38.341,35.24,36.751,39.196,39.051,34.236,43.659,33.682,29.176,30.445,34.154,36.503,34.03,38.18,35.64,33.384,35.778,44.107,40.459,32.38,39.756,34.99,44.218,39.353,44.789,33.422,41.429,34.723,36.773,37.693,30.13,null,32.864,28.971,37.541,39.86,39.804,34.027,37.674,35.508,41.952,34.767,39.947,37.32,29.366,36.132,45.505,30.245,36.573,38.902,26.94,37.739,29.586,34.731,33.987,32.427,39.957,30.225,28.882,35.212,43.639,38.543,29.057,37.472,44.913,47.393,34.318,40.45,34.748,26.461,35.429,33.503,42.35,34.872,37.964,40.309,34.663,35.276,null,41.999,33.626,41.56,45.041,29.429,39.13,32.74,40.611,30.356,44.105,null,32.872,42.358,32.8,29.804,38.566,32.956,26.926,39.942,38.945,35.189,37.041,36.298,35.153,38.822,40.809,37.663,40.606,37.647,null,30.626,27.545,33.479,37.806,25.809,44.72,45.676,35.615,40.399,35.421,41.82,41.515,32.431,36.789,36.584,35.237,34.141,44.129,38.377,36.155,32.955,33.756,36.194,39.799,34.19,47.601,39.966,32.542,46.266,37.55,38.009,38.23,35.449,44.791,35.236,41.122,36.783,39.302,35.222,35.124,32.091,28.195,null,32.304,38.522,36.869,26.22,42.289,44.844,34.946,34.102,43.435,35.109,36.492,37.988,40.762,32.726,41.749,40.779,34.062,43.8,35.857,40.747,46.212,38.836,37.698,40.818,36.23,35.665,40.36,34.171,39.646,30.342,33.716,37.974,32.862,26.431,43.029,46.151,41.69,32.422,34.05,38.528,35.222,36.929,47.206,35.187,null,null,36.637,32.801,28.517,35.994,48.476,37.84,28.44,33.273,39.209,60.126,42.876,39.776,40.089,25.794,34.287,34.155,46.827,32.35,37.126,36.781,38.024,33.823,27.802,29.849,38.799,39.548,42.136,27.024,34.515,39.58,39.929,38.632,29.12,31.808,35.771,35.47,42.264,37.391,34.897,29.687,33.463,35.199,36.007,30.421,38.029,61.218,42.102,32.503,30.735,42.718,32.702,36.286,47.708,37.719,33.391,26.152,41.161,33.861,47.517,32.241,37.796,47.584,38.559,42.459,35.162,61.203,40.265,26.112,45.429,33.453,null,35.49,37.154,26.473,36.587,34.87,33.975,32.734,33.808,38.005,45.381,35.398,44.124,42.931,38.039,33.933,27.839,28.31,39.405,43.488,29.828,36.0,41.787,38.89,null,29.565,37.118,40.847,null,35.319,42.559,30.384,29.906,39.628,28.045,44.373,39.676,null,30.719,33.411,36.309,28.352,36.154,47.672,33.196,37.955,28.54,null,33.567,33.577,30.4,28.039,38.276,33.767,30.272,34.119,34.472,31.93,42.254,40.79,36.571,33.22,37.68,36.158,36.331,40.35,36.122,31.351,59.809,35.477,33.458,37.755,29.702,36.118,37.353,31.114,27.976,35.554,null,34.717,33.655,39.293,41.672,45.519,38.15,45.784,31.826,40.163,39.38,33.378,40.711,37.206,42.245,38.923,28.616,42.057,29.426,38.854,38.269,39.447,39.903,28.68,34.048,35.164,40.056,29.485,44.112,35.887,46.108,33.451,29.254,34.214,44.262,32.721,35.198,40.427,36.201,44.596,null,37.999,34.751,39.932,34.406,44.155,39.916,40.1,34.121,null,28.099,42.946,30.349,32.564,37.74,33.874,35.908,21.391,41.872,29.571,40.665,33.036,40.295,46.263,41.031,31.076,39.005,39.013,33.452,35.075,33.568,40.702,35.167,44.092,43.358,43.623,28.287,45.51,42.69,38.855,41.985,null,28.853,38.986,30.443,null,25.882,30.461,39.552,35.94,33.946,41.595,33.828,45.985,47.646,null,33.69,21.389,32.085,40.576,32.141,37.918,39.914,null,44.952,34.421,40.025,33.517,32.694,41.272,39.927,30.591,41.033,43.021,30.204,47.694,34.693,35.445,35.066,28.948,34.114,36.212,48.242,32.178,38.216,42.362,34.855,40.734,37.009,36.863,21.278,null,34.048,41.867,29.648,35.633,43.585,37.98,42.518,null,21.305,39.101,32.885,34.265,39.947,47.238,47.111,42.351,36.05,33.174,34.882,34.207,35.958,null,42.206,null,39.65,null,46.857,43.598,null,43.951,null,null,37.361,47.521,null,33.48,null,39.99,38.009,33.456,40.508,36.252,27.447,40.739,36.152,36.479,40.097,42.946,30.177,35.203,40.787,33.437,40.752,39.11,34.321,34.12,30.198,null,33.611,39.758,30.756,42.273,41.386,42.497,45.417,null,null,36.137,37.867,38.814,39.247,47.177,39.128,39.69,null,40.087,36.264,45.125,47.691,41.536,36.112,32.861,29.709,29.709,40.732,37.632,39.464,40.308,21.332,33.541,31.909,39.713,35.207,37.32,26.337,36.008,36.975,40.977,36.832,42.983,41.276,37.299,35.716,34.049,41.753,38.274,36.576,43.009,33.028,41.046,21.328,43.734,44.625,35.767,35.814,36.185,42.335,null,36.323,39.686,34.405,null,40.325,40.233,36.113,39.012,34.563,28.079,35.225,39.349,29.817,42.959,35.042,33.495,29.424,40.595,38.879,32.551,26.543,35.024,27.845,29.945,37.945,34.049,40.176,46.981,39.708,40.854,34.734,32.864,null,35.735,null,39.559,30.352,45.493,37.433,35.912,25.741,null,31.0,34.084,35.313,29.745,39.714,36.134,26.223,33.462,36.2,null,25.962,37.174,35.911,35.039,41.506,37.62,28.072,26.135,31.896,37.661,41.548,39.579,35.064,41.013,42.3,38.925,28.106,35.864,34.121,37.314,36.57,null,37.725,33.864,43.428,41.676,64.838,39.49,44.216,38.625,30.153,33.492,36.072,34.168,34.104,44.915,38.606,34.021,34.023,37.131,39.318,38.672,33.08,28.8,40.76,39.313,40.757,33.983,33.568,37.633,38.272,39.971,33.523,41.758,40.334,32.266,39.141,35.029,30.269,37.497,28.034,35.356,39.833,35.142,36.25,null,39.53,40.537,37.48,32.848,35.122,null,32.756,33.931,36.104,39.124,35.482,33.81,41.809,35.079,32.704,32.758,30.495,33.452,32.147,36.076,43.61,39.358,40.961,43.656,41.745,34.129,46.123,46.97,33.611,30.362,38.849,37.643,44.94,30.434,40.442,39.708,43.043,38.415,38.971,38.271,38.303,38.728,38.303,35.904,40.741,34.712,36.755,32.211,27.054,33.964,41.766,null,33.808,31.778,33.875,35.6,32.518,33.936,36.177,36.062,null,39.849,28.554,null,47.152,41.521,38.689,30.452,47.886,40.414,37.664,30.502,40.621,42.09,34.592,33.385,34.18,47.519,39.705,36.166,37.664,38.78,28.129,37.942,39.637,25.979,25.979,34.068,45.519,30.802,40.625,34.442,40.707,40.707,43.42,47.452,33.824,32.269,45.012,47.497,39.752,40.049,42.437,37.972,31.321,35.491,37.044,29.181,41.192,37.08,29.718,37.657,41.292,38.42,33.582,34.882,35.464,null,null,40.013,null,25.78,37.146,39.785,29.288,28.981,28.359,36.344,33.935,27.42,41.545,34.857,47.038,38.815,38.213,39.191,35.861,30.383,26.615,44.088,40.696,40.484,39.548,null,null,46.218,43.41,32.647,36.776,null,40.763,34.941,34.0,41.718,43.055,null,36.032,25.582,32.221,51.254,46.817,29.255,33.963,39.034,33.305,null,40.263,null,29.414,null,40.359,39.048,41.37,38.582,29.426,35.05,36.03,null,29.306,null,44.943,36.917,null,null,35.075,25.888,34.803,28.307,38.364,47.118,null,45.429,26.246,43.011,null,34.508,40.921,30.223,33.179,43.839,40.974,45.641,37.783,26.177,35.802,30.363,29.853,37.458,36.071,35.779,null,34.151,44.518,32.218,39.676,34.142,39.086,null,37.693,33.02,35.112,47.614,31.024,34.198,36.741,null,48.072,36.255,28.549,39.921,41.406,42.794,34.187,41.257,30.634,30.515,45.499,null,null,35.406,31.652,null,46.376,null,32.543,30.19,38.246,35.944,34.721,37.061,40.95,45.359,null,32.756,41.523,31.727,35.866,42.683,26.719,30.393,27.916,40.783,36.39,29.845,35.565,27.069,null,34.029,36.225,25.529,41.238,34.065,27.809,28.021,null,45.4,36.075,35.159,35.074,38.281,36.329,36.001,29.096,39.78,33.319,34.824,30.003,35.037,30.79,42.25,36.926,null,42.313,29.257,43.601,38.62,47.036,null,36.831,35.918,41.661,37.092,39.732,35.062,33.892,35.033,29.445,41.588,31.883,39.722,34.509,29.448,33.415,47.644,42.322,29.913,39.251,42.505,36.729,45.64,38.258,38.212,30.698,40.622,27.186,33.606,35.092,null,41.028,33.927,34.628,31.489,35.032,37.177,null,34.978,42.899,40.875,33.509,39.187,33.509,30.412,61.309,33.734,36.872,31.864,42.433,35.72,38.951,29.463,30.176,28.249,38.494,47.419,33.846,34.785,36.055,41.587,39.159,30.4,33.549,37.31,35.522,38.011,38.266,47.657,40.664,29.602,31.363,33.568,40.711,33.493,42.143,42.989,39.456,34.345,33.094,35.58,40.804,36.724,33.866,44.252,37.682,40.026,33.553,44.408,null,33.495,39.731,38.58,44.02,35.968,45.021,34.705,31.096,34.187,39.098,33.519,29.454,36.313,30.401,38.589,33.475,34.975,30.318,47.081,29.4,34.01,33.7,35.066,39.978,38.032,32.705,36.182,35.791,28.589,39.189,40.648,41.534,47.589,36.846,43.312,43.817,47.605,25.849,39.047,38.52,48.165,46.616,null,34.843,35.486,null,29.965,39.898,31.855,33.917,32.084,26.67,30.849,32.1,47.975,25.607,32.708,33.676,32.626,null,40.087,null,null,null,38.618,null,null,null,33.787,null,33.723,39.04,39.496,37.699,39.979,42.379,34.289,43.649,29.812,45.487,null,40.109,28.009,26.207,33.106,36.29,32.887,29.551,34.029,39.284,null,36.159,38.197,null,36.279,36.585,39.312,37.838,null,39.311,39.673,40.861,40.646,null,42.996,31.066,31.423,32.216,36.344,45.433,41.863,40.646,null,null,29.696,34.243,43.307,null,null,40.757,35.294,null,46.093,35.579,33.85,34.302,35.113,39.049,41.752,33.634,null,36.559,null,35.009,37.756,null,46.672,32.533,43.52,30.839,null,34.499,35.601,34.01,41.623,36.779,41.734,33.324,null,42.392,34.119,29.59,41.814,21.331,43.064,37.793,30.498,31.785,34.958,35.205,40.229,40.6,43.567,36.069,42.104,25.862,41.999,null,33.859,39.038,39.67,44.067,39.61,35.02,38.541,31.345,46.84,31.36,43.37,29.347,36.739,39.788,34.065,36.153,32.835,33.804,36.159,33.655,40.479,36.607,null,37.697,27.774,null,35.252,35.358,null,32.668,34.351,null,35.952,36.196,42.654,35.536,null,43.725,39.614,null,null,42.882,null,30.191,37.074,35.18,40.403,null,34.11,36.653,35.24,null,null,null,null,null,null,null,null,null,null,null,null,null,null,null,null,null,null,null,null,null,null,null,null,null,null,null,32.043,32.19,null,null,42.309,null,null,null,null,null,40.793,null,null,null,null,null,null,null,null,null,null,null,33.701,null,null,null,null,34.521,null,35.271,null,null,null,null,null,null,null,null,null,null,null,null,null,48.522,null,null,null,null,null,null,null,null,38.662,32.721,45.146,35.001,33.827,37.514,43.168,29.546,35.575,41.283,37.985,34.982,37.794,34.214,36.196,35.372,34.271,28.988,38.053,33.073,26.092,36.149,39.611,34.413,32.796,25.89,39.105,38.716,45.028,35.182,42.907,29.898,40.548,36.054,39.867,37.371,30.226,47.779,38.947,39.56,42.517,41.994,45.819,32.756,36.863,35.916,31.44,30.745,34.047,34.864,42.313,37.764,37.764,39.191,33.601,36.451,29.407,null,36.694,40.721,43.007,31.925,30.234,33.662,30.234,40.261,38.79,42.273,33.597,32.802,37.047,28.442,37.296,28.918,34.108,41.526,35.178,28.081,35.836,29.889,34.689,41.574,33.84,30.321,32.628,29.567,35.129,35.073,35.085,64.826,36.892,40.743,42.25,null,41.002,35.671,null,null,null,28.012,null,null,null,null,null,null,null,31.275,33.379,35.181,33.306,null,null,null,34.542,null,null,null,null,null,null,34.614,41.474,null,null,null,40.44,40.44,30.406,40.379,32.723],\"legendgroup\":\"Age between 40 and 60\",\"lon\":[-123.122,-122.892,-79.991,-82.885,-111.872,-112.083,-98.542,-96.069,-122.06,-70.932,-111.909,-71.337,-102.369,-111.78,-74.929,-97.828,-97.05,-108.513,-76.821,-117.177,-76.713,-82.845,-97.208,-117.65,-74.001,-81.329,-97.712,-96.751,-90.054,-107.454,-85.724,-99.474,-111.09,-81.169,-100.831,-105.665,-85.992,-80.645,-90.956,-83.598,-75.433,-115.055,-81.95,-89.092,-88.604,-118.245,-87.904,-81.959,-117.94,-82.626,-109.01,-87.891,-86.849,-122.274,-94.487,-80.596,-81.242,-122.899,-112.203,-119.015,-78.047,-87.073,-82.999,-121.841,-94.91,-78.841,-71.089,-117.242,-114.84,-123.181,-95.94,-80.014,-112.144,-118.414,-98.427,-83.333,-96.277,-81.912,-95.173,-92.326,-117.721,-119.281,-112.039,-85.702,-102.983,-81.2,-109.917,-95.157,-122.792,-122.997,-81.812,-117.956,-82.516,-77.502,-86.779,-117.206,-75.603,-106.687,-83.245,-80.746,-76.008,-90.072,-122.489,-157.862,-81.278,-89.069,-121.434,-87.634,-77.105,-81.429,-80.078,-93.515,-73.889,-83.206,-80.797,-123.446,-95.616,-74.741,-119.223,-120.439,-79.907,-82.25,-121.751,-102.139,-122.75,-86.086,-95.617,-80.2,-85.156,-103.135,-73.968,-71.101,-104.704,-95.442,-80.887,-97.795,-76.806,-74.285,-74.069,-83.388,-71.014,-117.164,-80.854,-118.187,-97.444,-118.071,-71.976,-120.579,-96.827,-119.013,-122.784,-112.84,-115.217,-97.91,-118.472,-85.25,-114.64,-112.152,-84.513,-122.027,-84.799,-105.39,-121.018,-118.398,-90.017,-84.735,-82.28,-81.229,-90.628,-90.181,-111.83,-119.728,-118.055,-81.841,-122.269,-117.465,-88.026,-84.594,-114.881,-81.24,-117.4,-97.128,-97.173,-103.131,-72.447,-70.877,-99.122,-82.875,-87.493,-122.924,-115.255,-79.928,-82.302,-112.134,-86.58,-117.1,-96.753,-98.651,-98.616,-105.028,-104.419,-112.543,-86.615,-80.236,-103.122,-119.701,-118.029,-118.114,-105.062,-84.092,-80.453,-84.426,-87.388,-89.749,-88.212,-85.791,-122.389,-111.884,-81.271,-80.374,-112.589,-91.125,-85.267,-117.066,-103.214,-122.862,-118.466,-97.202,-74.269,-80.109,-70.889,-93.229,-102.442,-87.415,-121.844,-86.955,-115.259,-83.659,-118.281,-85.63,-82.86,-88.095,-151.283,-77.389,-88.438,-83.031,-85.36,-94.376,-95.356,-117.239,-79.941,-122.698,-115.137,-80.04,-121.914,-81.734,-122.053,-88.874,-84.723,-74.357,-97.839,-86.411,-117.421,-117.436,-119.796,-83.066,-97.402,-93.252,-109.293,-93.501,-96.546,-94.578,-111.673,-88.466,-80.141,-81.498,-105.752,-95.317,-82.284,-121.791,-117.322,-97.101,-88.845,-115.057,-115.09,-76.372,-81.202,-105.573,-84.707,-73.214,-90.972,-112.062,-87.744,-91.613,-121.022,-119.812,-100.45,-122.368,-75.31,-84.677,-75.959,-118.449,-84.585,-149.898,-76.188,-120.954,-122.826,-81.268,-90.244,-81.164,-86.652,-119.054,-93.169,-85.067,-94.425,-81.419,-118.914,-95.953,-94.511,-81.179,-106.49,-80.904,-123.926,-85.859,-93.156,-96.182,-118.08,-97.446,-82.499,-103.426,-73.267,-93.469,-122.559,-88.19,-122.306,-119.008,-91.175,-105.475,-86.3,-86.254,-103.231,-78.922,-97.513,-100.743,-118.176,-77.623,-121.878,-95.682,-108.501,-104.277,-102.374,-96.62,-88.956,-79.809,-118.247,-97.388,-82.499,-121.66,-112.155,-77.968,-104.984,-71.033,-104.564,-78.882,-82.426,-82.414,-93.71,-122.655,-83.963,-76.61,-90.62,-93.244,-72.627,-86.117,-82.67,-122.416,-95.96,-85.607,-98.639,-97.574,-98.603,-88.144,-80.936,-80.484,-92.795,-71.042,-74.183,-82.418,-97.823,-116.316,-117.412,-90.185,-89.62,-111.387,-82.336,-119.264,-75.25,-81.516,-112.139,-81.134,-73.987,-91.181,-94.362,-97.53,-87.559,-84.941,-86.16,-86.019,-106.601,-78.323,-84.201,-76.282,-78.657,-94.548,-93.986,-120.599,-122.661,-116.289,-93.954,-101.863,-95.933,-84.689,-106.305,-90.096,-94.235,-95.9,-97.493,-82.71,-84.326,-89.356,-105.381,-88.154,-82.211,-117.141,-121.461,-90.141,-83.347,null,-74.428,-74.36,-73.938,-95.95,-96.019,-87.62,null,-87.917,-89.592,-119.745,-116.269,-77.512,-81.2,-80.589,-118.618,-83.277,-77.57,-88.82,-85.841,-121.302,-81.164,-82.529,-122.261,-91.317,-94.964,-105.053,-88.258,-111.547,null,-99.902,-118.306,-85.233,-97.318,-81.149,-86.437,-115.092,-104.995,-117.306,-97.614,-83.741,-108.526,-84.162,-80.127,-91.832,-116.949,-86.54,-81.961,-95.378,-95.258,null,-86.765,-104.997,-121.23,-116.264,-95.442,-93.213,-114.04,-70.934,-74.488,-84.426,-83.644,-87.492,-92.57,-120.968,-76.132,-79.057,null,-115.14,-123.384,-80.294,-95.787,-95.928,-91.835,-92.265,-81.767,-118.569,-90.756,-83.963,-82.725,-81.353,-124.348,-81.828,-86.481,-117.913,-100.443,-81.902,-108.143,-117.163,-122.353,-111.759,-97.958,-117.977,-82.692,-88.834,-70.57,-91.086,-94.838,-81.307,-70.955,-95.206,-97.909,-81.306,-122.511,-81.906,-114.593,-97.592,-117.976,-89.749,-122.214,-81.404,-98.196,-86.621,-82.77,-81.568,-118.064,-87.806,-76.029,-80.252,-84.515,-93.275,-95.0,-117.737,-86.468,-85.84,-94.847,-76.777,-94.357,-84.06,-92.986,-117.283,-82.141,-97.806,-117.909,-88.876,-118.261,-77.402,-101.603,-91.05,-115.328,-69.395,-79.91,-81.663,-75.564,-89.997,-90.644,-76.52,-91.508,-111.563,-72.217,-95.899,-119.768,-120.977,-81.78,null,-96.938,-81.416,-121.994,-84.28,-104.911,-118.455,-84.259,-97.66,-87.689,-114.496,-83.075,-121.013,-98.532,-79.219,-122.852,-95.493,-96.704,-76.984,-82.292,-121.115,-90.7,-82.181,-118.365,-97.003,-74.212,-85.892,-81.16,-89.728,-116.196,-90.298,-81.3,-83.663,-89.577,-122.31,-92.239,-122.29,-92.268,-80.083,-86.793,-88.435,-90.014,-97.052,-85.146,-74.492,-82.786,-119.005,null,-72.614,-117.948,-80.801,-93.037,-98.527,-121.634,-97.25,-77.566,-81.649,-103.244,null,-117.203,-83.187,-96.977,-95.739,-90.257,-116.84,-80.102,-75.219,-92.339,-114.053,-80.779,-82.301,-96.493,-77.006,-75.201,-121.85,-75.501,-122.467,null,-81.51,-99.483,-112.29,-85.451,-80.313,-68.801,-122.486,-117.681,-105.124,-94.515,-87.821,-92.079,-99.712,-83.823,-119.615,-89.365,-89.624,-103.219,-97.303,-95.851,-80.042,-111.991,-115.235,-86.179,-118.322,-117.371,-86.027,-83.582,-119.353,-108.831,-121.788,-90.23,-94.804,-69.787,-78.367,-81.569,-90.429,-94.91,-114.223,-120.619,-111.223,-82.182,null,-106.763,-78.098,-94.343,-98.339,-72.025,-91.523,-90.007,-118.333,-116.762,-106.615,-80.674,-122.324,-84.107,-117.163,-79.065,-74.035,-118.502,-91.237,-83.251,-111.888,-119.138,-104.771,-121.79,-74.191,-93.108,-81.842,-80.614,-118.527,-121.778,-81.731,-83.068,-87.569,-97.249,-81.912,-90.931,-122.965,-83.585,-84.957,-118.247,-121.47,-101.882,-93.928,-122.479,-85.193,null,null,-81.118,-92.505,-82.416,-87.094,-116.841,-122.297,-82.478,-84.285,-85.921,-149.437,-77.269,-105.175,-79.752,-80.24,-118.443,-109.975,-123.161,-111.098,-104.703,-84.809,-78.455,-118.338,-97.418,-95.302,-123.016,-119.771,-80.079,-80.486,-89.924,-104.838,-85.37,-121.45,-81.023,-106.448,-91.631,-93.485,-89.025,-79.144,-117.021,-90.994,-112.078,-106.611,-115.146,-89.782,-121.308,-149.9,-76.802,-92.157,-88.102,-86.165,-114.668,-119.79,-117.368,-122.388,-83.791,-80.197,-104.768,-118.072,-111.221,-81.237,-79.422,-122.643,-80.01,-83.199,-91.78,-149.885,-76.864,-97.949,-122.341,-104.441,null,-93.835,-93.278,-81.824,-79.365,-111.761,-118.274,-97.329,-81.171,-121.894,-122.856,-80.876,-123.13,-114.654,-87.258,-84.333,-81.656,-80.705,-75.039,-112.034,-95.293,-115.122,-89.669,-90.127,null,-98.5,-84.075,-73.887,null,-97.205,-71.106,-89.091,-81.318,-104.798,-82.439,-72.878,-104.935,null,-88.173,-111.792,-78.401,-80.612,-95.673,-122.291,-97.096,-87.501,-81.379,null,-112.152,-111.886,-89.039,-81.95,-104.594,-118.195,-97.688,-117.445,-104.246,-102.077,-84.366,-73.707,-87.27,-116.973,-87.095,-92.369,-78.935,-74.658,-96.357,-109.548,-151.617,-79.167,-112.122,-85.904,-95.208,-80.217,-120.626,-93.283,-82.443,-77.432,null,-86.666,-112.152,-80.439,-86.279,-122.66,-85.841,-108.554,-92.932,-80.197,-75.027,-112.073,-112.092,-93.089,-85.496,-121.054,-81.38,-93.884,-98.494,-104.85,-85.816,-121.551,-104.978,-81.337,-117.21,-83.409,-82.962,-95.157,-103.068,-79.532,-68.115,-111.899,-98.493,-85.187,-88.368,-114.618,-94.355,-104.745,-83.276,-90.477,null,-87.548,-95.048,-83.048,-83.192,-70.08,-91.398,-80.743,-116.37,null,-97.835,-115.466,-94.178,-117.084,-120.94,-117.898,-80.076,-158.005,-87.765,-95.286,-73.563,-85.032,-83.038,-119.488,-75.038,-97.372,-77.014,-83.092,-111.771,-106.622,-112.134,-111.879,-103.733,-121.261,-124.217,-116.404,-82.144,-122.685,-83.35,-94.524,-88.299,null,-81.686,-94.696,-81.627,null,-80.288,-95.541,-119.765,-81.529,-117.439,-83.647,-117.925,-123.925,-117.363,null,-83.654,-158.137,-81.123,-75.53,-110.913,-77.459,-105.053,null,-93.138,-117.351,-75.164,-111.767,-117.108,-95.94,-75.179,-90.929,-81.569,-87.924,-82.429,-117.218,-81.836,-119.088,-81.525,-82.536,-118.153,-80.832,-122.341,-110.968,-84.535,-83.236,-92.097,-73.896,-87.314,-75.981,-157.828,null,-118.187,-73.714,-81.67,-95.983,-116.575,-81.271,-121.919,null,-157.857,-87.427,-105.957,-83.741,-83.064,-122.41,-122.438,-83.19,-115.215,-84.027,-81.87,-90.572,-95.378,null,-71.842,null,-121.56,null,-114.004,-116.394,null,-84.889,null,null,-87.219,-92.535,null,-112.134,null,-75.097,-122.098,-84.17,-122.312,-116.008,-80.336,-114.067,-94.062,-97.327,-108.824,-78.891,-81.601,-89.93,-72.872,-111.615,-81.839,-94.649,-79.891,-117.934,-85.623,null,-112.168,-94.845,-98.675,-89.106,-73.444,-94.168,-122.639,null,null,-95.941,-90.593,-104.834,-85.056,-122.523,-121.554,-104.861,null,-104.818,-95.978,-122.732,-117.426,-87.143,-89.432,-96.643,-95.282,-95.282,-74.189,-97.316,-121.858,-122.204,-157.864,-112.065,-102.233,-105.019,-111.606,-78.385,-98.2,-86.382,-120.078,-81.604,-76.191,-88.244,-84.35,-120.517,-78.838,-118.259,-88.331,-122.346,-82.355,-83.684,-79.759,-80.604,-157.885,-83.441,-91.047,-95.386,-90.658,-87.102,-85.146,null,-76.838,-105.067,-84.625,null,-79.536,-74.745,-115.176,-89.75,-118.058,-82.437,-77.069,-76.669,-85.303,-71.441,-97.934,-112.16,-98.494,-122.335,-86.043,-117.047,-80.055,-85.102,-82.73,-85.394,-122.331,-118.259,-122.233,-123.594,-80.17,-73.932,-92.395,-97.247,null,-78.878,null,-119.748,-97.796,-122.528,-81.585,-80.253,-80.338,null,-89.449,-118.355,-111.947,-94.98,-76.04,-115.141,-80.287,-94.415,-120.103,null,-80.241,-104.508,-80.037,-82.196,-74.222,-97.346,-80.705,-80.177,-102.293,-97.366,-88.046,-76.133,-89.664,-73.849,-83.119,-76.629,-80.575,-79.932,-118.263,-83.236,-82.184,null,-122.179,-117.444,-71.486,-86.256,-147.716,-76.557,-88.453,-78.772,-85.611,-80.856,-95.916,-116.405,-88.965,-84.693,-86.091,-117.656,-84.362,-92.263,-76.516,-78.79,-106.007,-82.072,-74.23,-76.618,-111.906,-117.715,-83.902,-121.01,-104.581,-74.675,-85.345,-72.694,-78.391,-80.965,-84.599,-85.407,-97.754,-84.19,-82.614,-80.769,-86.007,-90.049,-94.057,null,-107.783,-79.956,-86.294,-96.577,-84.871,null,-97.23,-117.298,-84.144,-94.834,-92.506,-117.99,-88.34,-106.529,-103.128,-117.073,-91.15,-112.238,-90.109,-96.155,-116.708,-119.192,-84.601,-111.825,-72.574,-117.877,-122.95,-123.824,-112.151,-90.999,-76.975,-77.62,-123.06,-84.517,-79.882,-105.086,-108.378,-82.444,-76.954,-80.998,-121.172,-90.44,-121.172,-94.979,-96.682,-118.148,-108.173,-110.872,-82.262,-83.438,-85.721,null,-118.255,-106.469,-118.171,-77.334,-93.713,-83.324,-95.94,-118.999,null,-104.994,-81.238,null,-122.438,-81.586,-93.339,-95.55,-122.232,-105.123,-113.065,-87.179,-81.146,-111.875,-84.012,-84.272,-118.665,-111.311,-76.641,-82.855,-121.027,-75.133,-81.979,-122.039,-106.523,-80.311,-80.311,-117.28,-122.558,-90.677,-91.373,-117.336,-74.084,-74.084,-74.55,-122.186,-117.78,-110.969,-93.313,-111.263,-105.142,-84.949,-76.498,-87.571,-89.378,-97.477,-93.27,-82.251,-111.979,-76.47,-95.391,-97.226,-95.947,-81.791,-117.232,-87.1,-97.601,null,null,-75.082,null,-80.131,-94.31,-105.113,-98.404,-82.01,-80.743,-81.531,-83.994,-81.51,-72.995,-111.766,-122.768,-76.962,-76.404,-81.744,-78.707,-89.054,-81.862,-70.33,-111.82,-122.57,-119.799,null,null,-119.126,-83.936,-83.721,-75.99,null,-111.88,-80.25,-80.421,-83.666,-87.914,null,-115.022,-80.486,-110.824,-85.323,-94.522,-98.349,-118.165,-94.556,-111.836,null,-74.719,null,-98.504,null,-76.329,-108.545,-74.69,-121.494,-98.583,-118.186,-80.383,null,-81.066,null,-122.99,-83.941,null,null,-106.643,-80.332,-87.662,-97.274,-75.642,-118.366,null,-122.628,-80.098,-88.243,null,-82.672,-74.161,-97.73,-97.102,-70.859,-74.287,-122.617,-82.519,-80.099,-82.345,-81.555,-98.74,-122.43,-79.402,-115.324,null,-118.113,-87.943,-81.926,-105.606,-116.213,-84.255,null,-122.101,-84.72,-89.833,-122.352,-87.494,-82.146,-83.635,null,-114.583,-82.516,-81.157,-104.977,-81.709,-77.817,-118.377,-111.953,-81.604,-85.348,-122.536,null,null,-97.725,-106.257,null,-115.938,null,-88.895,-96.94,-104.632,-84.87,-92.237,-88.653,-75.979,-121.998,null,-117.094,-76.684,-84.178,-84.686,-84.644,-81.905,-91.183,-82.714,-124.168,-79.006,-94.96,-97.55,-82.234,null,-117.686,-83.277,-80.429,-80.818,-117.576,-82.639,-82.243,null,-92.636,-95.976,-106.692,-106.615,-104.641,-95.791,-84.305,-82.054,-104.976,-85.034,-85.35,-98.102,-120.485,-81.643,-84.905,-83.89,null,-83.307,-81.049,-116.394,-121.474,-122.823,null,-76.083,-82.065,-93.498,-88.711,-104.998,-89.404,-118.203,-79.035,-98.575,-93.763,-102.5,-105.082,-84.505,-98.597,-117.601,-117.539,-83.176,-90.215,-96.612,-83.096,-119.723,-122.65,-122.271,-84.669,-81.918,-103.22,-80.3,-79.056,-106.577,null,-78.428,-118.292,-86.572,-96.917,-107.38,-87.142,null,-85.245,-87.856,-73.01,-112.035,-84.49,-112.035,-88.552,-149.558,-112.119,-87.88,-106.575,-83.033,-84.004,-85.908,-98.761,-94.214,-82.719,-121.519,-122.169,-84.077,-111.775,-87.164,-80.761,-78.188,-89.056,-101.927,-85.849,-97.525,-87.557,-85.783,-117.261,-73.767,-90.73,-92.413,-112.099,-82.556,-112.937,-123.65,-83.709,-77.964,-89.541,-94.315,-97.549,-73.963,-108.222,-84.545,-69.5,-97.227,-83.042,-112.186,-71.723,null,-112.117,-104.912,-92.249,-116.945,-85.356,-93.339,-79.158,-97.723,-118.16,-95.664,-81.814,-90.565,-119.288,-88.887,-121.42,-86.331,-92.875,-89.825,-122.298,-98.65,-118.292,-116.269,-106.692,-86.121,-77.573,-100.866,-78.572,-84.272,-81.463,-77.121,-112.034,-90.517,-122.302,-86.917,-112.327,-111.793,-122.34,-80.2,-84.575,-78.023,-114.288,-94.937,null,-85.14,-93.938,null,-92.124,-83.048,-102.317,-92.848,-93.379,-82.029,-83.336,-82.11,-99.126,-80.352,-97.085,-86.407,-83.699,null,-85.68,null,null,null,-75.55,null,null,null,-84.621,null,-84.119,-90.142,-74.931,-122.469,-83.946,-89.822,-118.438,-116.265,-95.157,-122.572,null,-104.762,-81.68,-80.222,-117.078,-76.226,-111.759,-95.801,-118.298,-84.23,null,-115.108,-120.682,null,-83.472,-87.356,-76.771,-122.296,null,-76.593,-105.025,-72.799,-75.252,null,-87.951,-83.197,-89.555,-110.815,-85.424,-122.538,-103.69,-74.135,null,null,-95.888,-82.632,-71.333,null,null,-87.045,-81.279,null,-88.642,-77.142,-83.749,-78.723,-84.983,-94.693,-103.322,-80.86,null,-82.572,null,-78.487,-89.078,null,-68.016,-93.408,-114.315,-84.118,null,-97.95,-119.345,-118.427,-87.564,-114.267,-77.539,-96.794,null,-75.086,-86.863,-97.984,-88.308,-157.866,-87.947,-81.177,-96.479,-81.609,-120.571,-101.809,-111.675,-112.426,-116.56,-79.793,-76.827,-80.195,-91.346,null,-118.015,-80.389,-104.9,-122.898,-84.224,-106.003,-121.424,-94.723,-100.885,-94.76,-93.772,-98.556,-108.133,-75.166,-84.492,-86.631,-80.05,-118.171,-115.108,-118.004,-74.614,-83.714,null,-97.284,-82.685,null,-88.986,-118.989,null,-90.008,-78.12,null,-83.893,-115.051,-112.186,-98.272,null,-70.244,-119.856,null,null,-85.642,null,-97.887,-94.51,-84.838,-76.729,null,-83.708,-78.691,-85.84,null,null,null,null,null,null,null,null,null,null,null,null,null,null,null,null,null,null,null,null,null,null,null,null,null,null,null,-81.14,-89.986,null,null,-85.175,null,null,null,null,null,-81.405,null,null,null,null,null,null,null,null,null,null,null,-116.081,null,null,null,null,-86.876,null,-106.646,null,null,null,null,null,null,null,null,null,null,null,null,null,-122.211,null,null,null,null,null,null,null,null,-90.028,-117.167,-123.972,-117.657,-117.92,-77.403,-83.017,-95.031,-89.644,-122.301,-120.305,-87.953,-79.989,-84.469,-115.026,-84.34,-83.385,-82.526,-84.462,-111.996,-97.667,-115.1,-86.103,-117.323,-117.047,-80.231,-78.959,-90.241,-93.135,-97.353,-71.325,-95.414,-74.331,-84.097,-84.138,-81.09,-81.761,-122.358,-77.024,-76.371,-82.952,-71.525,-94.409,-80.454,-101.214,-119.054,-85.644,-88.09,-118.249,-118.195,-71.066,-122.393,-122.393,-84.25,-81.604,-87.628,-98.461,null,-101.494,-74.081,-123.309,-92.636,-97.716,-97.35,-97.716,-104.757,-97.559,-88.971,-112.03,-109.708,-84.103,-82.602,-77.326,-98.546,-117.292,-81.622,-89.836,-81.908,-90.705,-81.329,-118.164,-90.6,-84.592,-97.712,-96.907,-98.05,-84.89,-98.244,-106.649,-147.714,-76.302,-84.105,-84.756,null,-75.365,-80.474,null,null,null,-82.684,null,null,null,null,null,null,null,-89.276,-79.292,-101.861,-111.876,null,null,null,-92.566,null,null,null,null,null,null,-87.183,-79.692,null,null,null,-82.395,-82.396,-88.9,-82.237,-117.108],\"marker\":{\"color\":\"#636efa\",\"symbol\":\"circle\"},\"mode\":\"markers\",\"name\":\"Age between 40 and 60\",\"showlegend\":true,\"type\":\"scattergeo\"},{\"geo\":\"geo\",\"hovertemplate\":\"Age_of_the_Person=Age between 18 and 40<br>latitude=%{lat}<br>longitude=%{lon}<extra></extra>\",\"lat\":[37.695,37.763,40.384,33.328,38.704,40.809,37.93,28.955,41.582,30.022,45.859,33.111,31.858,39.692,33.951,36.185,35.095,44.958,38.317,36.783,40.54,39.826,39.726,44.825,38.266,30.748,35.766,34.038,32.811,33.085,33.742,26.559,38.665,31.08,26.15,39.284,32.678,38.285,33.166,35.589,41.243,33.495,33.054,39.879,29.558,38.029,42.894,29.861,38.75,37.827,37.999,30.466,28.5,33.378,33.378,35.164,35.404,33.994,61.208,30.244,46.228,37.316,34.165,39.071,40.329,35.95,32.614,34.804,45.175,25.951,43.579,40.103,37.225,42.514,42.614,35.25,32.874,33.482,29.983,33.911,41.244,44.527,35.497,37.751,31.55,39.463,33.747,34.633,38.598,32.23,38.946,35.918,33.619,29.704,41.522,38.38,33.44,28.887,37.948,34.151,40.875,43.083,39.735,33.469,35.426,39.818,33.88,28.351,30.536,32.165,34.05,39.573,35.158,33.743,35.204,33.939,38.882,34.078,33.971,42.583,29.513,31.326,44.954,34.64,37.789,30.815,38.682,34.566,43.704,49.0,35.355,34.506,36.466,34.713,38.133,45.506,40.74,37.361,36.819,43.782,33.866,33.819,33.94,33.793,34.228,27.435,35.396,42.056,37.735,39.083,28.102,29.733,39.115,33.902,40.217,41.5,31.346,39.191,33.836,35.056,39.681,29.877,43.642,35.339,34.041,37.404,30.413,40.879,39.859,35.023,39.935,39.054,39.813,35.064,38.892,32.662,35.834,25.844,33.744,38.724,37.868,26.282,47.16,34.072,40.713,40.71,32.769,39.938,34.323,33.781,37.176,28.878,40.725,35.745,42.366,30.019,37.731,35.04,33.39,38.37,33.752,31.694,40.306,32.958,32.958,46.202,33.988,34.054,41.518,33.874,33.079,45.07,38.902,32.661,29.973,30.213,33.655,42.229,32.802,33.357,34.967,40.042,37.724,41.324,44.302,31.904,26.107,40.901,32.778,40.033,34.094,42.386,30.332,34.614,32.517,40.444,35.634,33.785,32.751,39.894,33.59,40.812,35.842,34.69,36.126,42.311,43.208,42.276,32.869,29.619,34.751,39.734,37.809,28.084,33.847,41.037,39.164,41.623,40.856,26.276,29.523,40.907,38.235,32.648,37.977,38.951,36.305,47.937,32.886,39.156,41.766,34.129,38.677,33.415,40.409,39.826,38.063,41.278,37.179,29.418,35.909,45.536,45.23,42.646,30.3,39.963,25.813,34.024,36.196,36.984,36.057,37.662,30.269,30.38,35.418,34.322,33.857,33.405,26.259,39.369,39.137,37.718,41.759,39.001,34.059,33.576,41.702,39.092,39.701,41.881,42.834,26.118,33.823,41.2,42.472,28.579,43.036,25.462,39.048,35.096,41.117,31.288,33.939,47.676,35.05,25.897,28.522,40.565,29.83,26.19,31.679,42.6,40.097,35.495,39.804,33.708,44.985,36.329,36.159,32.482,34.693,40.018,32.312,41.236,32.754,35.073,33.395,32.272,40.176,40.308,20.894,37.548,36.051,47.206,31.813,32.68,36.106,36.808,35.584,33.875,29.789,32.981,37.355,33.365,48.282,31.882,37.804,33.745,41.632,34.009,40.63,29.79,38.865,37.395,35.702,39.184,37.295,29.799,37.273,42.604,48.117,39.553,39.61,36.008,47.263,35.411,37.673,42.723,30.333,34.274,40.099,35.606,39.958,25.897,36.267,40.606,37.812,34.205,40.11,32.526,36.22,41.851,35.976,32.147,37.269,36.735,43.714,41.187,32.917,42.867,35.984,34.034,36.79,36.79,32.485,64.827,44.498,39.045,64.806,44.668,34.07,39.836,38.134,39.834,33.178,41.469,29.003,36.969,34.884,29.93,34.23,34.132,31.268,44.305,34.211,38.48,32.895,36.622,36.622,29.184,28.076,33.657,36.295,30.523,36.231,33.178,39.468,39.745,44.923,41.099,41.897,32.951,34.025,33.167,45.347,45.872,37.826,31.467,35.057,34.097,34.789,41.867,41.042,36.603,39.195,41.285,34.401,43.446,41.805,34.108,34.949,34.599,31.591,34.178,39.922,41.421,47.707,37.779,29.849,34.031,33.511,29.786,37.667,39.973,26.758,36.803,38.227,32.714,33.251,30.409,41.97,32.665,36.351,32.518,38.639,34.019,26.739,33.809,39.898,41.747,34.5,38.983,32.061,32.726,30.318,44.885,39.922,32.81,29.976,35.798,29.984,38.838,40.806,37.239,36.409,38.538,32.964,34.949,27.603,38.592,34.212,39.717,39.958,45.098,35.062,37.748,39.343,34.029,32.172,34.005,37.754,44.992,35.259,34.779,31.258,25.576,33.976,29.904,25.897,27.448,27.438,38.895,34.898,33.918,33.853,39.711,39.903,36.122,37.24,37.05,39.752,40.55,35.375,40.842,39.704,31.74,44.789,39.755,34.108,34.077,37.721,29.185,32.256,40.43,32.807,33.698,47.606,40.924,41.486,39.741,33.729,32.309,39.827,34.989,33.917,34.233,40.991,39.726,33.215,47.002,39.777,30.038,33.803,36.995,37.895,34.219,41.163,37.639,41.618,35.908,33.843,34.572,35.207,33.724,30.239,41.569,28.887,39.733,39.189,28.466,35.076,42.351,32.166,42.673,36.069,37.448,41.893,43.62,30.889,33.381,36.727,34.073,41.799,36.133,32.755,43.547,45.656,35.218,30.494,35.512,47.606,36.32,35.242,37.584,42.456,33.683,37.787,42.609,46.16,39.755,35.837,37.831,34.42,38.914,42.484,34.104,29.415,32.795,26.683,40.675,33.415,34.23,33.95,32.222,28.469,42.361,33.582,37.592,32.698,31.025,30.544,34.87,30.047,35.287,39.477,35.108,35.654,34.354,35.816,42.322,32.572,33.923,47.234,41.227,45.409,42.465,32.835,41.761,40.592,40.442,32.873,38.894,35.094,38.596,29.168,43.188,33.437,29.529,19.696,30.521,39.945,34.95,39.995,39.836,29.939,33.843,19.696,71.301,35.561,40.064,33.575,42.308,43.069,30.468,32.26,37.673,41.649,34.022,34.196,33.872,34.58,39.155,33.748,33.748,32.944,34.199,40.267,36.349,33.808,35.08,33.495,33.962,33.962,61.585,39.766,26.238,39.837,37.776,33.596,29.713,33.466,33.887,42.796,40.373,38.136,44.067,29.498,35.766,28.028,32.831,30.447,39.492,33.33,37.19,42.936,30.059,28.084,30.396,39.678,33.878,37.945,36.93,37.54,29.794,29.994,35.797,33.925,39.845,45.682,38.918,41.871,36.852,37.993,33.981,29.363,34.905,44.776,29.99,29.99,36.927,30.426,41.992,37.145,41.114,40.279,25.597,38.281,36.77,35.228,41.891,34.06,35.086,39.037,42.632,37.278,38.989,35.024,33.385,30.233,34.015,33.523,37.534,36.328,31.865,39.824,32.373,30.27,36.37,34.308,38.482,44.876,40.487,40.04,37.649,42.776,34.049,36.148,39.737,37.957,30.874,38.024,36.035,33.669,40.193,39.742,31.872,39.481,40.679,42.74,39.004,34.172,30.221,27.457,33.254,36.86,36.098,39.724,36.817,35.146,33.854,39.829,40.678,25.776,29.843,40.115,34.228,28.536,35.851,47.494,42.928,29.914,43.134,28.551,40.41,48.048,27.75,46.686,33.795,44.964,30.458,41.804,31.622,31.929,41.863,39.719,32.705,40.385,34.861,34.026,30.331,33.591,37.547,33.58,41.961,33.378,36.199,37.732,38.674,37.335,25.844,41.292,45.351,null,25.981,null,30.234,40.027,35.198,45.507,35.069,25.934,44.963,29.418,38.632,null,34.058,29.774,28.978,36.467,32.24,43.968,33.466,null,61.581,33.863,41.735,null,40.173,26.556,40.009,19.685,35.947,37.493,33.515,39.972,null,35.966,38.295,33.989,34.252,33.994,28.52,40.314,42.802,32.662,null,46.007,39.852,null,34.736,34.245,40.817,30.421,32.283,34.494,42.922,35.429,38.795,33.534,26.663,33.811,29.917,43.101,38.547,32.873,40.911,27.888,36.779,null,41.693,null,41.622,42.058,32.334,35.034,39.009,33.542,36.866,32.446,40.626,39.929,39.09,34.179,null,30.022,39.53,33.87,32.957,38.909,32.475,44.931,32.713,30.468,44.992,33.971,36.825,32.248,34.036,29.689,40.591,61.218,35.194,39.302,30.038,34.136,43.732,null,34.935,19.616,34.033,29.413,33.729,35.52,39.765,32.83,33.367,33.582,34.132,48.461,35.265,32.178,33.91,34.053,33.46,37.492,46.447,39.37,34.111,33.862,45.889,42.971,41.121,33.644,32.866,39.102,40.282,38.181,33.196,33.451,43.075,33.495,37.636,38.858,41.586,36.027,37.987,32.18,46.146,35.35,35.279,38.713,38.879,32.956,33.313,33.48,44.384,39.616,32.309,39.397,32.75,33.899,null,33.482,44.827,35.78,35.474,64.841,27.934,47.019,32.729,39.663,36.833,33.963,33.991,32.885,39.552,42.349,38.722,39.356,47.44,37.151,31.093,33.787,32.343,30.435,41.206,33.448,33.484,28.585,42.906,28.053,37.422,35.156,40.116,38.877,41.991,34.072,33.424,30.228,44.492,37.77,36.206,39.957,45.556,39.321,35.84,27.207,41.002,39.368,29.373,43.384,34.742,32.808,33.675,39.953,30.871,31.055,35.113,42.173,39.951,38.535,41.594,27.861,36.171,40.011,33.082,41.128,31.34,47.343,35.174,33.668,33.684,32.011,40.417,37.972,30.454,42.389,38.226,47.384,30.117,32.711,37.739,32.479,30.198,36.954,39.971,42.102,38.197,41.64,32.741,36.044,30.467,47.259,33.357,33.649,37.021,38.837,38.673,39.599,39.599,38.889,32.984,36.753,45.752,29.493,34.233,45.818,38.659,42.344,35.239,27.794,null,33.819,39.852,40.589,35.668,33.818,null,null,32.543,39.254,37.474,33.727,39.999,39.78,41.857,38.887,34.16,39.064,43.615,33.68,61.218,31.972,32.75,35.377,41.004,39.954,29.544,33.975,31.708,41.769,30.43,27.311,33.852,40.667,29.51,38.607,34.654,null,35.973,40.739,41.776,41.874,31.278,32.201,33.608,41.878,34.023,39.78,34.343,39.103,47.21,32.169,38.221,null,32.287,29.985,41.263,41.668,29.94,null,40.31,35.089,33.098,19.639,34.262,40.709,null,39.6,null,27.47,37.292,32.682,40.042,33.386,null,34.022,33.985,45.83,33.731,32.983,null,35.361,39.528,36.054,37.974,36.145,38.867,34.075,44.057,34.022,38.931,45.402,35.719,39.183,28.749,35.709,25.605,30.436,33.553,null,44.177,34.101,29.603,33.092,36.555,41.248,37.329,39.892,35.124,33.568,38.656,34.042,35.522,39.946,46.201,37.293,21.67,40.674,41.88,33.775,47.651,33.49,38.949,35.231,34.135,36.109,32.793,41.542,47.925,38.797,29.612,33.828,38.113,39.808,29.972,35.447,39.114,30.05,35.381,32.295,43.166,43.492,null,35.203,33.792,39.852,34.095,30.893,47.829,34.098,32.757,34.136,42.643,39.2,35.749,null,39.334,41.876,31.082,38.251,30.343,35.519,41.237,39.428,35.082,41.879,35.68,41.804,47.979,45.652,36.168,44.416,36.037,39.419,34.801,21.387,38.918,38.2,32.739,36.022,34.449,35.899,42.377,38.652,36.027,37.316,33.903,null,32.717,36.015,null,37.755,43.653,41.16,null,32.074,39.765,28.504,41.184,41.225,38.854,37.361,30.197,29.69,39.932,39.528,37.091,29.051,38.827,32.049,40.736,35.27,45.12,29.651,28.489,31.356,44.917,33.135,33.451,39.497,40.901,39.664,36.232,35.432,33.926,41.161,33.892,35.26,33.701,37.362,33.145,30.44,48.751,33.809,41.6,38.285,39.322,47.239,44.961,33.784,42.5,43.106,35.797,35.066,46.699,39.725,37.624,34.051,27.675,28.392,33.925,30.209,33.452,39.302,32.375,34.044,61.581,39.17,40.466,35.021,39.678,33.523,30.558,30.012,29.896,41.576,34.744,40.115,41.833,40.716,43.425,44.825,34.349,34.078,41.454,29.862,33.954,33.461,37.321,47.084,46.827,40.923,35.154,null,38.496,39.872,47.604,32.294,33.538,45.359,41.571,39.373,42.696,40.744,33.91,32.803,39.935,39.45,33.752,41.364,37.002,35.519,33.729,30.34,30.372,37.355,37.302,37.784,32.471,42.944,30.267,38.59,34.275,30.322,39.943,33.839,41.091,42.536,45.468,32.738,45.782,37.779,43.01,33.462,37.472,33.874,32.977,33.393,33.742,45.904,38.876,44.262,31.781,28.45,43.131,33.553,40.822,34.049,null,38.561,32.149,36.513,33.796,25.775,35.8,37.339,43.473,38.368,34.427,36.191,31.573,31.357,30.522,27.872,29.458,36.786,36.585,39.243,33.81,40.013,36.22,47.288,43.061,30.114,39.12,null,30.44,38.596,47.481,42.872,34.095,36.978,34.141,38.003,33.98,47.678,64.833,32.746,33.963,35.858,39.449,36.159,47.566,33.989,34.105,33.45,43.975,31.22,47.383,35.45,35.492,35.203,34.059,36.142,33.935,28.911,39.697,40.588,39.82,33.538,41.851,40.567,36.93,45.533,39.852,35.053,39.891,40.922,38.517,null,41.608,33.2,28.008,30.593,33.901,null,null,29.448,40.956,null,41.933,39.34,null,null,36.235,35.442,34.348,34.259,44.851,33.936,32.718,36.944,29.41,33.705,34.123,38.65,35.649,43.403,38.701,33.769,39.728,38.511,37.542,30.273,33.493,33.684,29.466,39.812,36.013,47.436,37.119,null,34.021,34.992,42.888,39.046,33.902,40.634,44.012,37.053,31.573,null,39.362,36.105,32.002,33.761,39.496,33.63,39.666,32.283,42.704,39.577,38.459,35.97,39.063,37.706,39.089,39.019,47.39,41.472,29.791,39.91,47.084,34.596,30.221,30.826,33.929,33.459,39.821,30.238,33.449,40.067,36.923,44.364,38.663,34.895,38.882,42.68,32.725,40.772,26.169,36.761,39.716,38.248,38.047,32.534,25.837,38.611,35.311,43.552,42.438,33.921,43.097,41.197,33.668,29.982,35.279,40.888,40.869,33.6,33.056,41.919,47.515,34.063,33.662,37.39,null,48.293,39.201,34.029,33.915,35.014,29.67,32.616,35.408,40.724,34.803,47.186,39.569,32.927,33.179,33.73,39.857,33.393,null,37.796,39.916,27.536,36.16,44.093,40.763,39.052,29.648,25.894,40.805,40.194,40.611,38.569,34.898,32.45,38.571,null,30.886,33.862,38.063,44.964,33.535,26.193,34.143,28.514,38.349,36.628,33.379,38.158,25.783,33.445,35.2,39.077,39.357,34.753,32.345,30.043,36.995,32.251,27.957,35.241,33.596,39.698,35.402,null,37.601,39.747,null,38.146,38.191,46.171,41.221,29.704,27.75,41.536,30.524,42.148,40.434,null,40.089,47.319,37.397,33.938,36.411,32.661,32.285,33.685,37.358,42.279,33.732,33.496,39.522,45.754,39.358,35.325,32.395,33.367,33.972,36.115,33.622,36.113,37.298,35.666,41.825,32.868,38.518,38.518,39.748,32.372,42.726,41.71,30.501,33.495,35.444,34.201,32.345,35.097,35.097,38.747,38.369,45.763,34.65,34.871,41.532,42.221,37.649,33.568,29.997,36.145,34.769,34.093,46.702,33.951,39.522,null,41.784,35.349,34.198,35.033,34.078,38.813,36.791,45.054,39.854,null,32.237,40.567,32.731,35.406,30.638,47.68,39.888,34.183,41.673,35.599,40.907,39.73,35.28,33.101,47.709,39.593,36.719,33.192,29.552,40.378,47.49,34.217,43.647,64.838,33.476,36.148,46.574,46.603,36.2,39.843,33.951,32.924,null,47.669,40.052,37.673,37.352,39.985,33.521,41.67,32.444,37.487,null,34.196,39.566,35.787,29.67,37.806,43.62,45.546,39.958,33.803,35.078,35.377,30.504,43.942,40.002,34.806,26.13,34.955,47.204,34.963,36.579,39.017,39.016,37.22,34.565,null,40.832,36.705,39.929,47.109,null,34.084,null,44.264,32.828,39.833,42.949,35.17,42.716,null,40.265,43.647,47.978,42.308,32.851,35.463,39.694,36.176,41.778,31.997,27.429,39.545,29.521,34.106,32.384,39.278,33.878,30.309,35.24,43.981,39.85,39.054,40.249,40.675,29.723,38.189,34.88,46.599,null,35.246,32.044,33.682,39.124,38.847,39.684,34.033,26.587,37.967,27.907,33.333,33.731,39.952,40.455,null,38.104,32.899,41.486,40.489,38.798,37.323,38.53,39.366,null,32.309,29.573,30.197,38.756,32.366,46.939,32.302,36.334,36.571,33.406,38.584,35.61,42.836,33.945,40.946,33.369,39.206,38.752,34.235,32.738,34.717,47.696,37.608,32.177,40.137,33.379,33.708,33.614,32.125,40.08,48.264,33.715,39.036,null,36.725,41.0,39.45,37.759,38.368,40.057,40.246,null,34.0,28.15,33.487,32.652,45.505,37.831,42.066,46.866,38.809,36.217,40.589,45.002,30.453,null,32.942,36.302,47.028,30.033,32.606,38.487,34.033,39.776,34.87,38.231,null,36.312,30.59,37.716,41.757,29.951,32.444,30.788,null,27.929,43.051,33.537,33.495,61.216,39.877,30.198,null,30.408,43.611,32.418,36.134,40.553,33.79,38.367,36.571,36.147,35.882,39.483,29.609,30.496,42.24,25.966,38.813,35.625,27.69,40.664,33.379,41.113,41.672,34.885,null,35.953,47.35,36.164,39.506,33.805,36.617,40.695,34.189,36.191,42.591,45.779,32.265,34.01,42.518,33.916,36.506,33.766,44.999,34.545,37.163,31.519,39.856,33.48,33.628,33.852,45.317,33.772,34.25,36.858,33.747,26.136,40.744,35.177,42.932,38.203,38.27,32.755,35.165,39.74,32.691,34.157,42.685,34.048,38.426,32.517,42.456,29.378,33.662,39.124,32.496,36.548,28.022,39.37,39.669,36.971,35.487,33.652,42.835,28.553,36.105,32.251,36.769,32.254,40.583,32.487,43.18,36.815,30.779,42.342,38.769,42.482,29.412,37.553,28.756,35.22,42.353,27.442,45.483,39.956,38.273,36.863,42.38,null,27.364,29.412,41.515,36.033,40.253,null,null,33.575,40.63,34.268,25.461,28.027,33.85,35.053,33.569,34.013,37.236,34.285,41.81,35.069,30.198,41.593,32.456,39.838,39.863,33.982,40.142,33.488,38.877,33.893,41.023,39.74,28.84,39.822,34.262,39.1,39.163,39.1,47.731,39.307,41.259,34.187,40.209,33.754,30.789,41.395,39.314,39.368,38.436,33.963,42.667,45.042,32.492,32.722,39.602,21.68,32.868,33.721,41.581,39.74,39.726,35.289,34.046,33.514,64.811,35.266,33.748,43.587,41.692,35.045,41.886,33.285,38.246,40.156,48.113,33.393,38.19,61.98,45.122,39.824,39.487,33.744,32.222,33.122,42.829,37.062,36.165,28.671,41.766,null,29.42,35.07,41.655,32.178,35.131,35.425,29.821,40.681,33.969,36.755,29.458,19.498,28.91,32.131,33.393,34.107,33.983,34.123,44.457,39.071,35.313,29.951,35.193,36.161,42.337,33.878,36.169,34.21,41.683,39.814,31.34,35.134,39.747,null,33.379,38.803,34.809,34.246,47.997,29.316,39.234,26.451,36.147,32.339,33.807,39.108,32.492,36.263,36.102,35.955,38.913,40.065,45.509,34.044,38.068,35.435,41.481,41.053,36.739,61.581,30.268,34.015,33.392,35.329,33.727,47.514,40.032,43.276,34.737,39.961,39.127,39.984,37.469,33.46,33.64,40.571,35.927,35.427,32.7,47.483,39.872,25.998,33.749,38.562,41.878,35.611,29.596,42.908,41.599,36.076,34.221,33.415,41.703,40.036,46.049,44.081,32.485,38.804,48.114,null,null,25.777,null,36.046,39.291,null,36.636,33.581,28.493,40.707,36.396,32.295,30.504,21.324,32.742,43.028,45.52,35.603,44.731,28.526,null,33.808,34.522,35.206,33.341,null,36.199,38.938,30.028,34.392,35.726,36.025,null,45.468,43.173,null,36.015,43.134,33.667,40.624,null,33.895,35.407,19.551,39.652,46.117,35.078,32.918,40.763,42.723,39.451,null,25.948,null,33.662,34.365,35.556,30.588,40.537,36.148,41.587,47.824,38.029,38.773,30.055,34.098,null,null,39.373,29.106,30.372,36.195,43.498,38.378,37.823,null,42.496,39.797,null,35.939,29.424,null,45.022,null,40.787,41.649,null,40.057,36.163,32.836,34.986,33.524,37.651,36.95,null,37.663,33.48,29.86,27.417,33.951,33.257,45.045,33.974,null,33.377,null,42.337,null,null,39.579,39.072,39.737,38.167,45.674,47.498,44.921,null,null,26.213,38.31,37.548,32.04,33.83,42.434,37.478,32.756,19.529,null,34.499,38.702,35.123,28.693,36.299,null,null,null,37.295,null,40.838,41.89,32.713,33.473,33.685,41.657,35.08,20.884,35.107,37.311,33.436,36.259,27.965,35.39,29.875,47.699,40.199,35.515,33.979,41.189,35.047,29.509,29.37,43.646,36.341,32.466,45.647,29.968,35.175,29.874,29.827,36.812,32.746,33.869,34.639,45.511,29.935,47.378,null,32.032,37.699,30.274,32.75,44.079,33.509,30.714,34.15,33.823,null,null,38.354,31.915,39.779,38.679,35.154,35.154,35.181,38.995,44.954,35.998,45.797,36.171,33.752,35.188,36.065,35.192,38.564,33.618,43.233,42.244,37.177,42.1,30.163,40.867,38.013,42.364,32.456,40.36,30.801,41.517,47.705,32.706,33.938,35.166,35.292,40.711,38.134,35.828,35.449,34.803,null,38.348,40.543,29.734,29.734,64.855,39.979,37.386,32.352,null,29.962,21.307,32.32,39.362,41.705,21.443,34.742,42.329,38.602,25.948,29.044,32.955,34.471,36.592,37.165,39.736,31.471,46.044,31.114,30.861,45.63,39.562,36.683,31.725,35.336,38.344,31.537,46.541,41.565,29.554,39.749,33.738,37.169,35.354,33.3,30.313,39.638,45.679,61.206,33.941,33.48,33.474,31.6,40.565,34.106,39.559,25.921,42.295,41.016,33.45,35.483,47.303,30.29,33.781,44.025,28.365,40.711,32.782,46.986,40.786,36.173,29.551,33.912,37.664,32.899,35.33,39.631,34.183,30.757,null,29.926,29.926,33.96,25.883,36.255,36.025,44.059,32.359,33.684,64.849,36.388,33.598,61.206,31.725,33.769,42.333,33.838,41.931,38.304,36.169,35.89,40.7,38.234,39.807,null,32.475,33.713,31.907,38.595,29.782,29.028,33.349,null,33.334,36.071,40.712,42.719,45.547,35.794,43.28,34.689,42.324,45.174,37.554,35.791,38.893,null,38.089,38.796,36.301,39.904,33.459,30.276,33.932,33.805,null,30.429,36.644,32.591,37.351,null,47.683,38.029,null,33.415,43.012,34.44,36.94,47.603,33.437,36.09,41.862,32.057,null,42.477,33.902,44.263,38.188,26.838,26.065,30.024,34.172,36.322,33.794,36.812,47.243,33.93,44.127,46.585,null,null,30.125,30.625,29.64,null,41.748,34.043,34.709,35.202,43.682,47.295,36.735,40.438,32.519,32.665,37.886,32.556,35.318,35.807,37.797,33.913,33.932,37.608,34.073,38.64,27.978,36.733,32.709,45.53,33.651,36.499,null,34.621,35.078,28.495,35.24,32.896,34.865,35.79,47.481,33.456,46.382,29.555,32.148,25.925,32.316,32.779,39.624,26.212,36.133,39.734,36.243,39.97,42.295,32.719,29.417,25.772,40.505,37.805,41.179,38.288,29.671,32.252,29.509,39.729,33.914,44.823,35.074,41.346,47.735,41.587,31.77,39.739,40.626,34.4,27.721,30.424,41.439,35.4,35.584,38.678,33.816,34.58,30.334,44.541,47.704,26.03,40.461,32.713,29.053,29.053,34.948,33.519,null,29.984,32.732,29.446,35.027,47.221,31.701,40.228,40.524,38.801,30.447,null,29.782,45.522,41.161,29.422,41.269,33.975,40.593,32.769,38.35,45.004,38.816,42.413,28.012,39.174,33.86,39.757,null,34.993,40.736,30.402,33.929,39.095,null,null,38.242,null,34.491,39.739,null,null,41.577,37.044,32.774,34.072,42.808,34.236,33.876,37.869,33.745,39.752,31.949,40.694,43.738,36.001,61.149,34.545,39.292,38.809,40.691,40.691,39.758,38.638,35.665,45.062,31.884,39.757,40.675,46.877,36.485,44.291,47.734,38.65,null,31.375,47.233,35.595,39.541,40.802,29.705,39.078,34.439,29.328,32.694,34.192,null,44.959,29.801,36.348,33.405,29.665,30.605,40.785,40.618,35.075,34.301,34.782,34.202,36.258,30.338,33.839,33.932,32.904,39.498,42.322,39.092,25.685,40.885,36.977,32.449,34.121,34.295,41.704,null,35.593,30.477,32.995,33.969,30.396,30.097,41.078,35.513,34.229,34.673,null,33.742,34.072,27.746,33.421,35.08,30.838,35.978,34.411,40.684,42.776,33.805,37.315,34.172,40.882,43.741,33.613,31.691,43.477,40.196,31.902,38.646,43.639,39.812,45.518,36.159,39.729,null,40.816,40.889,34.259,36.175,33.902,40.668,35.109,34.722,32.927,45.267,38.622,34.754,37.991,39.371,38.434,36.605,30.928,37.365,31.856,32.873,27.585,33.4,31.796,33.568,32.312,44.146,43.856,35.89,35.507,29.361,35.032,41.027,38.271,41.871,35.508,37.256,34.806,39.689,28.215,35.51,21.339,35.72,30.178,34.052,44.229,35.225,42.289,41.459,33.695,33.411,46.664,39.162,34.943,34.017,34.135,44.469,42.024,47.286,34.631,34.71,38.256,42.782,34.098,40.751,37.475,28.014,null,39.756,46.908,44.091,28.023,null,29.214,34.065,31.061,34.773,39.062,43.039,32.538,39.863,36.061,33.454,42.523,29.456,38.564,35.326,33.838,31.454,28.021,30.357,43.105,41.096,25.935,21.335,34.032,34.162,34.282,30.464,21.302,36.13,36.257,38.572,35.86,28.853,40.783,33.434,39.074,33.618,40.442,40.577,33.476,34.604,29.387,33.632,35.224,28.066,39.216,36.347,35.395,39.737,39.028,44.046,58.381,32.793,38.85,null,38.677,35.033,47.322,38.1,42.418,39.7,39.219,39.404,36.24,41.918,41.344,41.752,38.917,33.509,35.628,33.445,35.075,39.675,null,37.776,null,40.726,null,30.762,34.151,47.72,39.549,34.008,41.597,46.885,null,44.983,41.277,33.921,33.714,40.402,null,30.443,44.243,33.199,39.798,33.393,35.363,32.057,33.657,null,null,33.75,41.006,31.463,32.736,30.464,39.754,39.989,null,null,33.488,32.178,37.233,36.078,42.1,60.325,39.003,28.501,33.199,34.875,36.299,39.05,27.013,35.975,39.103,28.565,41.947,35.03,30.179,34.221,39.322,46.882,35.227,39.538,45.005,34.124,42.752,33.793,28.135,38.22,36.18,34.129,28.496,40.154,34.222,39.794,37.997,33.653,32.269,43.016,41.423,29.159,34.727,32.437,40.696,42.853,33.924,39.057,27.462,40.433,35.924,33.767,44.66,34.768,30.332,47.144,38.288,34.416,33.734,29.792,35.925,32.333,48.503,null,31.591,37.622,40.453,39.329,26.13,36.075,36.713,40.987,33.866,30.009,61.551,36.548,29.783,59.791,39.057,38.148,null,35.807,36.407,38.134,44.073,38.134,38.259,null,33.765,null,42.468,25.51,33.789,32.453,null,null,null,36.863,35.047,40.654,42.807,47.333,31.794,36.125,35.752,null,26.625,null,39.288,34.061,35.596,38.479,null,33.502,null,33.408,41.77,39.262,34.854,null,25.925,46.96,null,33.6,41.842,32.509,null,35.18,38.448,42.281,39.934,40.249,30.365,null,32.311,null,null,34.673,41.553,33.514,null,null,33.657,30.589,37.689,null,44.196,35.978,38.785,36.121,29.774,34.219,37.528,34.017,29.638,36.205,35.873,38.242,38.501,29.76,32.639,33.421,27.987,36.219,36.837,38.304,34.025,39.74,32.717,47.606,25.811,34.737,47.176,43.656,37.336,38.906,40.625,34.033,35.748,38.583,39.102,36.136,null,29.37,39.868,47.501,39.825,33.814,39.902,35.584,39.043,35.152,39.03,34.85,33.519,28.906,35.79,29.684,33.921,44.068,38.271,34.335,39.31,29.671,46.234,30.356,44.999,30.951,35.383,32.713,28.227,37.684,33.306,40.75,39.591,40.916,29.604,33.674,37.664,29.503,37.95,42.743,27.724,30.415,33.865,34.917,null,29.906,39.581,34.76,45.5,28.05,34.675,32.75,40.023,33.828,34.675,43.178,36.165,36.055,38.104,null,35.049,27.752,34.612,40.926,37.748,36.183,40.73,34.004,null,39.655,28.487,null,null,null,33.722,41.417,38.71,39.084,34.117,34.579,38.95,42.439,33.495,34.871,40.179,39.824,45.772,35.573,36.422,null,null,37.441,39.768,33.746,null,33.609,33.631,34.075,33.072,36.622,33.9,37.292,28.061,40.836,40.321,39.066,28.272,32.718,40.108,31.996,null,39.249,37.29,39.069,43.744,33.495,34.023,40.193,43.021,41.028,36.736,29.96,30.359,42.417,30.177,39.123,34.9,40.841,33.877,44.796,35.97,32.261,40.822,38.048,38.005,47.756,33.673,39.157,29.657,41.503,39.822,32.646,35.377,38.549,42.949,42.331,25.684,40.76,36.519,39.995,35.536,36.192,47.791,30.212,26.19,42.381,null,35.565,34.027,40.653,null,47.527,31.438,39.355,37.736,null,28.45,null,36.192,41.145,32.538,40.635,31.759,47.03,36.228,35.433,40.934,34.187,33.509,26.048,25.891,34.171,35.786,36.983,33.755,31.585,34.12,34.888,34.964,34.968,27.636,34.509,26.126,28.983,35.026,40.225,30.204,38.577,48.839,35.184,35.29,36.94,34.082,29.512,29.747,40.747,39.199,33.84,36.84,33.936,36.798,41.871,35.312,43.053,34.438,42.305,41.803,null,26.462,36.115,35.377,47.664,39.742,40.031,40.9,39.673,26.407,34.07,33.81,40.621,31.148,47.301,47.68,38.751,31.365,33.716,33.91,41.448,35.573,null,27.426,33.422,45.553,33.767,null,30.434,35.058,46.138,33.676,33.371,32.652,32.32,34.224,40.038,40.851,40.801,46.105,38.825,29.621,37.772,45.786,null,35.373,29.596,27.746,33.935,null,null,43.556,33.923,41.5,30.631,39.215,26.134,36.758,40.531,34.609,43.925,32.703,42.349,30.298,28.011,27.464,32.894,null,34.886,41.844,null,null,null,32.556,27.497,null,31.53,42.508,38.561,39.958,38.815,26.622,40.509,35.04,36.205,32.135,35.399,45.672,44.936,35.027,39.711,47.175,36.315,33.828,37.182,42.46,42.461,36.037,37.749,38.753,40.405,30.385,42.309,36.167,34.265,32.786,30.729,34.107,46.874,37.969,39.308,47.48,29.986,35.415,38.956,35.744,35.479,39.991,30.38,41.489,44.277,45.701,30.442,38.62,43.658,33.935,26.048,39.294,36.015,29.905,39.056,25.932,41.191,34.724,34.625,30.512,39.968,29.045,33.799,44.787,33.929,32.267,29.55,33.543,45.278,34.108,33.463,33.495,31.469,30.488,35.33,42.384,27.752,40.049,38.306,40.713,41.63,47.519,33.988,38.586,39.772,36.096,44.756,27.893,29.37,29.663,42.929,38.719,41.6,31.834,47.838,29.884,41.461,41.487,40.981,38.642,29.604,29.573,35.946,35.367,28.575,35.867,47.305,29.196,43.582,42.312,33.942,35.275,61.202,41.521,35.229,40.588,null,29.93,41.738,46.37,34.424,21.4,42.108,46.101,40.75,33.546,32.812,37.653,34.121,43.483,37.699,null,40.957,36.08,30.068,40.739,42.484,34.076,25.437,34.245,33.157,42.321,47.704,30.007,30.225,38.89,45.415,41.783,43.183,39.14,42.02,33.451,36.379,41.552,26.323,39.38,39.741,null,null,37.287,31.769,31.876,38.648,40.532,34.597,33.356,41.664,40.385,36.736,33.492,32.372,40.892,30.608,37.379,37.429,28.764,33.883,33.926,39.752,30.69,29.351,null,null,38.46,34.029,32.186,40.676,32.37,43.486,null,32.283,35.484,39.304,35.931,45.671,39.141,36.688,41.219,39.818,33.784,41.212,33.408,33.596,40.575,31.643,43.496,34.367,35.247,40.391,30.305,41.53,34.682,30.446,29.925,41.236,34.454,44.571,25.726,42.872,34.158,null,31.792,36.439,34.064,33.712,null,null,34.997,34.001,null,null,40.652,null,null,40.893,40.893,41.963,35.081,null,45.707,30.251,43.434,35.698,null,42.468,35.645,42.324,null,39.288,38.589,41.114,46.768,null,33.856,38.575,29.429,33.729,46.616,30.162,29.76,null,29.63,64.824,28.113,34.196,43.699,33.976,43.157,null,37.811,null,36.22,39.808,34.981,null,null,28.009,45.814,34.036,null,34.024,37.607,33.007,30.333,29.965,34.057,35.11,41.711,null,null,null,null,37.552,41.88,null,null,38.358,null,null,null,38.76,36.847,40.493,42.243,34.639,34.051,27.711,30.197,36.596,43.374,39.1,36.341,41.944,39.682,41.48,37.482,33.877,36.291,44.902,33.808,38.892,39.452,33.888,33.495,44.576,40.83,33.515,35.081,42.445,25.762,40.564,40.035,30.452,33.924,38.224,38.799,30.003,42.244,29.874,null,45.07,null,33.628,33.712,40.115,32.72,46.526,21.319,29.531,26.207,null,33.166,null,29.407,29.407,35.267,37.668,44.737,32.773,32.888,42.45,null,31.214,29.362,29.471,null,42.25,38.897,45.79,35.553,36.194,34.098,35.347,null,34.598,39.067,39.104,38.878,38.443,41.538,35.998,null,30.702,32.84,35.505,33.958,42.244,null,32.604,26.552,37.993,null,null,41.429,43.161,44.07,39.718,null,null,33.5,41.22,46.906,33.553,null,32.369,42.535,39.655,null,33.77,42.548,null,36.742,38.006,31.571,30.985,29.676,35.602,31.128,33.969,39.236,30.616,35.987,38.212,31.36,38.846,41.887,38.983,null,38.93,null,null,null,null,38.195,39.711,32.272,37.384,null,null,38.951,29.692,39.845,33.895,34.502,44.948,33.973,43.181,null,null,36.154,36.333,33.319,null,38.589,30.48,32.541,36.017,33.616,null,40.762,null,41.443,34.054,19.742,39.74,35.352,32.359,33.743,null,37.774,30.658,36.252,40.874,null,39.054,19.699,33.073,42.99,37.631,32.502,39.129,35.271,39.801,null,33.478,40.654,38.666,38.152,null,35.686,35.659,34.916,33.888,34.935,null,45.53,34.225,33.995,35.337,64.816,39.09,47.239,null,null,33.433,null,33.107,39.229,33.39,27.711,39.822,34.141,41.635,null,27.679,33.774,38.945,null,null,27.978,44.777,41.042,41.19,null,35.603,29.685,37.618,35.744,42.372,40.696,44.956,41.879,42.908,39.629,36.778,34.087,30.442,31.699,39.31,29.669,null,34.101,39.156,32.063,35.586,32.608,30.66,29.82,null,null,null,40.392,33.459,null,29.796,39.995,32.758,43.634,33.797,30.213,42.363,null,41.623,null,null,null,40.75,30.67,36.095,40.086,null,38.871,40.758,34.133,43.649,47.514,39.574,37.127,33.932,35.303,null,39.351,42.365,33.74,33.597,36.115,40.587,34.588,39.824,null,35.353,29.4,42.496,42.231,32.32,36.378,35.105,34.884,33.978,35.082,40.398,39.828,40.031,33.934,34.121,39.942,66.604,32.795,35.198,37.678,32.155,43.007,40.861,34.241,33.616,41.879,38.909,43.596,33.839,37.512,41.788,28.821,61.599,43.072,45.584,21.295,41.684,38.069,35.35,40.201,47.016,33.782,34.524,null,26.317,28.079,38.918,39.796,39.067,29.876,39.816,42.924,39.79,34.824,47.121,39.135,28.005,37.01,40.922,37.173,38.818,40.955,39.052,32.414,33.926,29.604,33.882,37.788,34.494,33.48,39.078,30.548,32.848,null,33.147,32.591,38.736,32.259,41.016,33.892,null,41.776,29.935,36.163,42.934,33.893,34.612,33.161,34.806,29.639,null,39.809,35.783,33.727,33.101,44.108,45.454,33.748,null,33.378,39.921,41.791,29.435,35.236,36.425,38.816,36.198,34.372,36.137,29.592,null,32.264,34.036,null,null,43.151,26.236,38.806,35.005,44.975,null,null,null,null,34.637,36.607,32.317,39.204,null,34.676,44.302,41.528,null,null,35.883,33.874,34.503,26.433,27.445,26.692,35.385,45.658,37.206,38.842,null,30.418,43.049,32.703,null,36.365,25.797,null,null,48.2,35.085,36.859,null,null,41.943,38.268,43.612,39.992,41.925,43.544,38.81,32.272,34.187,29.597,38.6,44.832,33.535,36.119,35.205,null,37.495,41.494,40.3,null,40.484,37.174,40.948,47.474,42.289,null,null,null,null,null,null,null,null,null,null,null,null,null,null,null,null,null,null,null,null,null,null,null,null,null,null,null,null,null,null,null,null,null,null,null,null,null,null,null,null,null,null,null,null,null,null,null,null,null,null,null,null,null,null,null,null,null,null,null,null,null,null,null,null,null,null,null,null,null,null,42.975,38.932,42.329,null,null,null,null,null,null,null,null,null,null,null,null,null,null,null,null,null,null,null,null,null,null,null,null,28.83,null,null,null,null,null,null,null,null,null,null,null,null,null,null,40.249,null,null,null,null,null,null,null,null,null,null,null,null,null,null,null,45.543,null,null,null,null,null,null,null,null,null,null,null,null,null,null,44.204,null,61.583,null,null,37.811,null,null,null,null,null,null,null,null,null,null,45.33,33.657,null,null,39.738,null,null,null,null,null,null,null,35.037,null,null,null,35.218,null,null,null,null,null,null,null,null,null,null,null,null,null,null,32.476,null,32.719,39.478,null,29.706,35.031,47.252,34.664,null,29.495,43.374,29.848,38.767,43.957,39.991,30.306,35.444,null,40.378,33.875,34.726,null,30.333,33.667,35.055,38.839,25.84,37.081,34.065,39.101,25.942,32.252,null,33.833,null,34.567,null,35.084,41.547,29.445,41.525,47.084,34.987,32.824,47.217,47.552,37.922,26.582,39.051,38.239,35.734,42.864,38.696,34.106,35.068,43.159,47.497,42.282,33.419,44.295,37.931,33.308,26.121,42.461,34.775,44.081,27.659,40.765,35.041,32.979,32.216,36.738,41.028,61.547,35.243,42.1,45.768,43.552,40.355,null,35.051,35.629,35.287,31.964,41.486,35.955,41.603,32.222,35.242,41.753,42.927,33.975,33.975,41.163,35.74,31.087,34.035,34.228,35.139,38.399,33.56,34.15,42.116,42.196,36.747,34.107,33.307,32.08,39.07,44.943,36.05,41.865,36.588,34.28,33.599,34.113,40.504,37.266,33.723,35.363,36.628,30.315,39.135,29.664,32.672,35.324,38.955,47.491,40.934,46.372,29.816,30.347,35.226,38.161,45.233,40.378,28.332,30.148,29.763,34.269,33.563,41.842,33.974,40.267,32.04,39.333,39.704,47.317,39.318,33.899,34.173,29.622,36.728,25.986,35.746,47.424,36.159,36.154,32.713,40.85,28.061,30.357,37.372,40.819,26.709,42.948,36.373,26.611,38.406,36.866,33.84,29.88,29.904,33.36,28.56,40.033,39.475,29.571,36.781,33.846,34.744,42.718,38.248,34.462,40.303,36.575,45.767,32.753,34.237,30.518,37.691,40.573,34.052,41.136,38.705,36.263,45.796,26.648,40.258,35.735,41.482,35.295,40.53,36.611,47.46,33.534,34.06,33.917,34.015,40.788,41.796,30.394,38.499,47.421,46.685,40.02,44.863,34.011,35.359,36.335,40.158,35.933,47.374,34.186,30.899,30.369,43.374,43.692,25.691,36.732,34.555,38.961,42.675,45.436,36.802,35.209,27.233,38.098,34.259,42.982,37.081,36.726,32.507,34.536,34.108,44.416,37.262,null,39.052,null,null,null,null,null,null,null,null,32.835,31.76,null,38.774,null,null,null,null,null,null,null,null,null,null,null,null,null,null,null,null,null,null,null,null,44.964,null,null,36.705,40.459,39.785,34.069,26.003,37.664,33.759,31.957,44.827,39.789,null,null,null,null,null,null,null,null,null,null,null,null,null,null,null,null,null,null,null,null,null,null,null,45.522,32.872,38.707,null,null,null,null,null,null,null,null,null,35.993,null,null,42.227,39.905,36.05,46.447,28.452,39.037,45.274,29.775,36.084,43.544,null,null,null,43.034,null,null,null,null,null,null,null,null,30.864,32.178,47.047,39.544,29.963,29.458,39.023,30.229],\"legendgroup\":\"Age between 18 and 40\",\"lon\":[-97.281,-122.422,-104.692,-111.841,-97.564,-91.119,-121.299,-95.369,-93.609,-90.012,-108.315,-92.359,-106.439,-88.304,-118.183,-115.116,-106.586,-93.094,-90.794,-76.348,-111.887,-85.991,-104.772,-93.358,-121.997,-92.441,-95.394,-118.233,-97.334,-112.042,-116.958,-99.123,-90.25,-105.028,-80.212,-76.648,-97.38,-104.574,-101.666,-119.335,-95.99,-112.113,-109.326,-82.997,-95.784,-121.316,-85.66,-95.72,-90.21,-122.284,-121.818,-84.33,-81.306,-111.978,-111.978,-89.932,-97.515,-117.057,-149.859,-97.891,-119.101,-121.876,-117.333,-94.64,-75.908,-88.572,-110.628,-88.205,-122.437,-80.208,-116.222,-111.624,-93.319,-84.701,-71.284,-80.819,-97.1,-86.824,-95.401,-84.695,-95.933,-88.058,-97.552,-122.414,-83.902,-87.379,-117.879,-82.408,-90.232,-110.99,-92.294,-77.548,-114.451,-95.622,-88.074,-75.609,-111.931,-81.254,-121.286,-118.345,-96.682,-89.365,-104.916,-112.043,-97.583,-75.456,-84.267,-80.749,-91.169,-81.184,-117.655,-75.816,-90.0,-117.868,-114.026,-118.22,-76.983,-117.43,-118.229,-87.835,-98.536,-90.303,-93.025,-78.751,-122.422,-95.104,-121.504,-87.287,-116.58,-122.273,-119.336,-96.323,-109.138,-112.001,-122.222,-122.53,-73.238,-121.959,-76.37,-88.475,-84.477,-79.462,-118.292,-118.271,-119.183,-80.328,-119.003,-71.878,-85.889,-83.255,-82.49,-94.971,-76.77,-118.337,-74.71,-90.582,-92.407,-78.128,-117.852,-106.193,-86.273,-90.048,-112.049,-97.057,-118.212,-121.995,-86.835,-86.879,-77.158,-82.006,-122.202,-95.762,-86.109,-78.491,-90.135,-96.823,-90.718,-80.212,-116.954,-90.244,-84.66,-98.35,-122.485,-118.205,-74.252,-73.794,-97.304,-105.257,-118.438,-118.174,-104.493,-97.001,-73.982,-94.772,-83.236,-89.966,-88.941,-97.949,-111.8,-121.492,-84.39,-106.342,-109.996,-96.642,-96.642,-119.168,-118.472,-118.044,-73.98,-118.05,-110.923,-93.266,-76.875,-97.395,-81.481,-81.739,-117.613,-85.641,-117.154,-105.673,-92.008,-76.3,-87.123,-95.957,-105.45,-106.423,-80.184,-74.041,-79.938,-79.075,-109.33,-83.187,-97.721,-86.564,-93.708,-74.113,-97.455,-118.139,-116.699,-104.976,-85.049,-74.125,-95.891,-111.986,-86.709,-122.832,-77.694,-71.14,-97.517,-95.214,-106.756,-104.326,-122.243,-80.606,-117.922,-83.662,-84.546,-93.698,-73.896,-80.105,-98.355,-74.04,-85.76,-96.708,-121.343,-119.951,-119.313,-98.863,-86.625,-84.394,-87.573,-117.9,-121.29,-82.02,-80.005,-86.12,-97.944,-96.158,-76.517,-98.64,-94.979,-122.536,-123.168,-123.384,-81.626,-75.088,-80.134,-117.894,-83.28,-76.4,-115.043,-121.872,-97.74,-97.702,-97.576,-118.406,-118.124,-111.821,-98.137,-74.428,-94.422,-85.906,-87.608,-94.565,-118.344,-83.97,-87.608,-121.558,-105.047,-87.815,-106.354,-80.201,-84.212,-122.275,-70.944,-81.916,-88.019,-80.493,-94.644,-85.245,-104.826,-86.375,-117.228,-122.304,-89.874,-97.472,-81.334,-105.1,-94.357,-80.129,-81.893,-89.646,-74.986,-97.489,-84.214,-78.947,-93.41,-80.433,-115.106,-93.789,-82.974,-105.271,-106.797,-122.27,-97.331,-106.643,-104.523,-110.973,-85.378,-88.175,-156.483,-77.467,-86.652,-122.484,-106.444,-97.093,-115.245,-119.898,-77.37,-118.156,-95.944,-80.247,-121.843,-111.756,-116.561,-102.384,-122.271,-117.015,-83.513,-118.343,-74.161,-98.721,-76.916,-122.027,-117.87,-119.722,-121.834,-95.313,-121.828,-83.265,-118.202,-81.627,-75.951,-78.511,-93.629,-119.047,-97.413,-73.707,-81.845,-86.512,-74.138,-106.035,-75.608,-80.185,-86.594,-111.987,-122.251,-118.451,-111.65,-94.783,-115.125,-87.671,-96.768,-110.96,-81.222,-119.764,-98.014,-123.704,-97.634,-71.518,-78.882,-117.647,-76.125,-76.125,-93.727,-147.779,-88.054,-94.542,-147.543,-74.992,-117.44,-86.28,-121.272,-75.393,-86.26,-91.927,-95.305,-87.88,-117.019,-89.953,-118.438,-118.267,-92.445,-103.802,-117.365,-78.875,-96.775,-121.844,-121.844,-81.424,-81.844,-95.632,-119.207,-86.496,-115.14,-96.637,-76.83,-75.573,-93.134,-81.509,-87.717,-103.367,-118.259,-97.278,-92.419,-93.296,-81.214,-110.233,-101.883,-117.403,-87.62,-87.713,-81.436,-121.894,-76.88,-72.419,-117.603,-85.244,-88.093,-117.285,-82.308,-98.422,-90.45,-84.76,-82.864,-81.71,-122.187,-122.415,-95.465,-117.916,-88.41,-95.363,-120.92,-76.749,-80.082,-119.769,-85.578,-117.159,-107.166,-90.031,-91.713,-115.496,-119.462,-93.746,-121.337,-117.34,-81.943,-116.464,-82.044,-74.08,-84.601,-77.027,-81.111,-117.224,-81.566,-122.998,-82.863,-96.628,-95.489,-95.251,-95.495,-104.818,-124.155,-93.256,-96.431,-90.341,-80.02,-81.979,-99.453,-80.675,-118.512,-121.848,-104.832,-112.778,-106.683,-122.421,-76.677,-117.511,-81.395,-117.4,-122.166,-93.301,-78.954,-84.895,-95.99,-80.397,-81.052,-95.434,-80.252,-82.555,-80.352,-76.924,-117.027,-84.742,-96.512,-105.017,-75.097,-115.137,-93.337,-93.278,-121.624,-84.571,-119.021,-96.623,-104.776,-103.163,-68.817,-105.037,-117.29,-117.248,-122.397,-98.585,-107.734,-80.007,-96.955,-116.251,-122.332,-73.879,-81.735,-86.198,-116.971,-110.875,-86.028,-85.307,-118.209,-97.488,-75.182,-104.861,-97.133,-122.762,-105.051,-89.905,-118.189,-121.573,-81.159,-119.051,-81.34,-120.999,-83.462,-84.092,-118.307,-118.045,-101.855,-116.971,-91.864,-75.381,-81.19,-104.885,-121.29,-82.384,-106.566,-83.194,-91.722,-84.578,-119.006,-122.156,-87.744,-116.94,-88.643,-111.922,-76.596,-118.056,-107.216,-115.272,-117.16,-96.711,-110.573,-80.885,-93.21,-97.52,-122.332,-82.337,-80.913,-120.947,-87.834,-105.918,-87.18,-88.489,-122.669,-105.016,-83.558,-89.143,-118.46,-79.855,-83.277,-118.358,-98.601,-116.963,-80.677,-111.813,-111.685,-118.46,-86.036,-110.926,-81.3,-122.859,-112.098,-122.079,-96.69,-83.183,-91.948,-86.571,-99.14,-95.582,-119.804,-90.033,-105.992,-79.574,-84.231,-83.208,-97.096,-84.484,-122.454,-96.017,-122.625,-70.949,-97.006,-87.666,-105.032,-79.882,-97.391,-76.925,-106.583,-121.291,-82.053,-100.626,-111.659,-98.493,-155.066,-87.054,-83.056,-91.934,-74.279,-75.402,-90.087,-117.934,-155.066,-156.738,-81.193,-82.864,-84.417,-71.078,-76.144,-91.133,-94.465,-78.396,-93.7,-118.163,-118.457,-117.741,-94.249,-84.605,-117.854,-117.85,-97.578,-83.45,-111.964,-82.211,-117.952,-106.72,-112.108,-118.362,-118.362,-149.778,-105.035,-98.324,-84.011,-121.143,-112.169,-95.316,-112.221,-118.1,-88.385,-104.696,-97.425,-103.156,-98.702,-78.633,-80.641,-97.091,-88.646,-76.333,-111.777,-84.108,-78.715,-94.143,-82.462,-88.885,-119.862,-118.203,-104.835,-76.244,-122.028,-95.337,-95.488,-84.256,-85.611,-75.368,-122.574,-76.875,-87.718,-86.891,-87.51,-118.241,-98.484,-80.188,-93.318,-95.424,-95.424,-76.191,-90.06,-87.793,-87.408,-73.528,-79.547,-80.422,-77.481,-119.791,-89.95,-71.369,-117.174,-106.617,-94.272,-71.317,-82.099,-94.385,-110.697,-104.554,-95.161,-118.139,-112.225,-77.411,-115.296,-102.328,-86.235,-85.685,-97.751,-86.436,-118.453,-121.44,-91.441,-74.468,-75.143,-120.962,-73.936,-118.226,-115.154,-104.99,-88.935,-85.808,-121.295,-85.493,-117.333,-85.339,-84.243,-106.554,-75.022,-73.805,-73.683,-76.901,-86.849,-97.837,-80.344,-111.841,-76.278,-94.153,-105.082,-76.233,-106.527,-84.268,-105.044,-111.872,-80.206,-95.186,-111.655,-118.472,-81.402,-89.128,-122.361,-78.876,-90.05,-88.006,-81.442,-80.537,-122.065,-82.663,-68.014,-118.191,-93.096,-88.844,-87.726,-94.64,-106.418,-71.051,-104.725,-117.056,-104.691,-96.666,-118.202,-81.653,-84.191,-88.4,-84.449,-121.48,-111.978,-115.124,-122.431,-121.276,-83.101,-80.23,-96.173,-122.615,null,-80.125,null,-81.853,-105.282,-111.655,-122.469,-106.51,-80.241,-93.012,-98.65,-90.097,null,-106.892,-95.573,-81.3,-79.907,-110.901,-121.342,-112.221,null,-149.439,-112.139,-122.634,null,-85.401,-81.991,-82.977,-155.066,-95.384,-120.874,-86.788,-76.708,null,-80.935,-104.645,-118.333,-88.737,-118.193,-81.377,-112.001,-73.954,-116.961,null,-112.546,-105.054,null,-86.627,-88.72,-73.866,-86.625,-81.082,-114.324,-71.917,-81.473,-104.767,-86.721,-80.265,-84.37,-96.198,-88.038,-90.008,-108.064,-74.164,-82.347,-119.673,null,-73.084,null,-87.581,-93.896,-83.316,-107.388,-75.466,-117.783,-83.889,-92.099,-91.372,-82.965,-105.594,-84.821,null,-91.818,-119.814,-117.974,-80.056,-76.932,-96.423,-123.112,-114.667,-91.14,-93.17,-118.188,-119.703,-110.972,-94.731,-95.353,-73.984,-149.814,-111.634,-76.654,-81.803,-117.287,-87.723,null,-120.438,-154.958,-117.689,-98.571,-117.048,-108.759,-86.113,-104.413,-111.93,-111.883,-117.314,-107.799,-86.132,-110.969,-118.246,-118.193,-86.818,-82.146,-120.424,-76.814,-118.316,-79.763,-95.375,-115.499,-112.024,-84.491,-116.982,-84.51,-76.899,-84.627,-117.258,-111.84,-87.967,-112.152,-122.08,-77.229,-80.778,-81.586,-121.252,-111.161,-122.917,-118.983,-80.719,-121.32,-99.307,-117.028,-105.669,-112.039,-88.735,-119.882,-106.765,-84.551,-96.88,-118.24,null,-112.183,-93.158,-78.592,-114.04,-147.72,-82.364,-122.312,-97.789,-105.019,-93.778,-118.243,-118.225,-105.952,-104.763,-88.088,-90.232,-74.436,-120.303,-88.732,-97.357,-118.155,-96.632,-97.76,-95.947,-112.074,-112.162,-80.819,-85.647,-81.906,-120.781,-90.158,-105.103,-77.002,-91.715,-117.311,-112.03,-97.834,-73.191,-87.147,-95.958,-75.217,-94.21,-111.094,-88.087,-80.388,-96.163,-76.764,-98.534,-72.356,-92.532,-116.952,-112.099,-75.165,-83.266,-95.126,-82.216,-83.432,-82.848,-81.86,-87.667,-82.329,-94.134,-105.264,-80.006,-85.13,-92.517,-122.296,-96.23,-111.961,-117.795,-102.033,-82.907,-122.028,-90.973,-71.005,-83.494,-122.226,-94.169,-96.821,-122.485,-85.101,-97.789,-122.046,-74.232,-86.453,-84.266,-81.407,-96.877,-115.028,-81.583,-122.131,-86.565,-117.289,-85.584,-104.794,-90.229,-75.821,-75.821,-121.293,-96.919,-95.944,-108.552,-98.44,-82.897,-96.008,-121.355,-71.068,-114.038,-97.393,null,-118.316,-84.425,-111.922,-80.458,-116.546,null,null,-94.956,-74.981,-81.7,-117.903,-75.145,-104.965,-80.804,-99.318,-109.983,-108.558,-116.233,-84.439,-149.879,-110.969,-117.106,-97.53,-76.455,-76.723,-95.136,-118.033,-81.742,-87.674,-86.642,-80.365,-117.907,-73.906,-98.598,-90.299,-120.458,null,-78.89,-74.228,-87.666,-87.716,-89.266,-110.973,-112.44,-87.741,-118.266,-86.398,-82.647,-94.526,-122.419,-110.943,-85.358,null,-106.741,-90.161,-81.393,-85.96,-95.396,null,-80.502,-78.987,-96.624,-155.044,-78.076,-75.225,null,-86.127,null,-99.468,-98.579,-83.91,-75.079,-84.283,null,-118.163,-118.309,-122.713,-116.954,-115.535,null,-99.177,-119.825,-94.164,-121.265,-120.371,-76.937,-118.035,-121.314,-86.019,-76.963,-122.798,-91.69,-121.018,-98.303,-86.916,-80.356,-87.281,-112.057,null,-93.947,-84.519,-95.428,-96.664,-119.395,-80.499,-81.146,-105.008,-106.604,-112.134,-90.25,-118.263,-88.343,-75.086,-93.78,-80.673,-157.938,-73.762,-87.709,-118.121,-117.434,-84.61,-77.405,-85.133,-116.081,-94.57,-96.764,-87.328,-97.033,-90.299,-82.341,-118.219,-122.258,-89.662,-90.243,-120.639,-94.423,-89.974,-118.989,-106.759,-85.57,-116.42,null,-80.74,-84.498,-82.91,-118.155,-102.88,-122.311,-118.329,-97.132,-117.226,-88.521,-120.202,-81.365,null,-80.034,-87.805,-83.771,-104.639,-81.677,-87.217,-80.744,-85.013,-98.246,-87.64,-108.136,-80.916,-122.088,-122.613,-86.76,-69.666,-79.867,-75.229,-82.372,-157.94,-94.507,-85.78,-96.356,-78.906,-119.752,-84.16,-83.129,-87.528,-78.878,-89.575,-118.297,null,-96.997,-95.869,null,-122.154,-70.28,-81.387,null,-110.959,-94.836,-82.336,-112.026,-111.973,-104.776,-81.055,-97.816,-95.161,-82.985,-119.816,-83.99,-95.436,-121.258,-84.806,-112.985,-81.543,-89.865,-95.538,-81.411,-94.728,-89.643,-117.143,-112.069,-119.789,-74.165,-104.99,-119.763,-97.496,-116.814,-81.787,-117.331,-80.833,-118.003,-121.963,-117.034,-91.009,-122.475,-117.853,-81.531,-122.275,-76.727,-122.364,-93.067,-112.117,-83.006,-87.934,-89.161,-78.875,-68.035,-121.845,-97.309,-85.154,-80.421,-80.602,-116.443,-92.356,-112.198,-76.646,-98.979,-118.211,-149.45,-77.205,-86.638,-85.232,-75.567,-96.296,-87.292,-91.84,-95.398,-85.816,-92.395,-82.947,-81.051,-74.202,-102.177,-91.539,-119.071,-117.611,-81.71,-95.45,-118.247,-112.341,-97.151,-122.355,-100.89,-74.154,-90.153,null,-79.258,-75.545,-122.337,-81.082,-112.171,-122.623,-87.212,-84.511,-123.395,-74.209,-118.118,-83.783,-82.964,-75.716,-84.467,-123.989,-76.434,-105.889,-94.599,-95.463,-97.651,-121.804,-121.894,-122.408,-85.01,-78.904,-97.739,-121.287,-118.305,-81.519,-105.004,-81.34,-83.173,-83.755,-122.569,-97.1,-108.504,-122.276,-87.99,-112.076,-77.44,-118.165,-117.269,-111.926,-117.842,-111.541,-77.107,-88.414,-93.699,-81.418,-115.673,-112.152,-81.385,-118.233,null,-90.294,-110.956,-84.51,-84.622,-80.141,-78.844,-121.888,-70.527,-121.956,-117.371,-115.038,-85.281,-89.259,-81.777,-81.465,-97.243,-119.809,-89.528,-76.511,-118.099,-75.119,-95.993,-122.224,-87.874,-91.901,-90.319,null,-91.152,-90.216,-122.33,-71.021,-117.352,-120.058,-89.624,-121.824,-118.128,-122.262,-147.76,-96.642,-118.205,-86.832,-84.517,-115.271,-122.559,-95.015,-118.346,-112.022,-124.101,-88.31,-122.209,-97.516,-105.672,-101.806,-118.263,-86.802,-84.504,-81.264,-104.992,-105.03,-105.035,-112.234,-87.734,-105.087,-76.202,-122.948,-105.008,-106.722,-84.191,-111.9,-90.014,null,-93.601,-117.253,-82.105,-92.407,-84.477,null,null,-81.531,-81.364,null,-87.752,-77.206,null,null,-115.229,-97.567,-79.252,-118.428,-93.318,-117.273,-97.169,-76.315,-98.54,-86.613,-109.292,-121.264,-105.951,-84.006,-90.26,-117.876,-121.837,-90.336,-77.442,-81.771,-112.299,-112.135,-98.606,-84.198,-120.131,-120.325,-120.258,null,-117.317,-106.665,-73.923,-94.552,-117.571,-73.963,-88.56,-120.82,-97.174,null,-121.263,-115.195,-93.329,-84.256,-80.294,-78.97,-119.703,-88.594,-82.502,-82.234,-122.742,-87.434,-94.553,-97.339,-94.476,-96.86,-122.202,-87.518,-95.135,-75.163,-122.355,-83.446,-81.736,-83.979,-118.253,-112.029,-79.757,-81.731,-86.824,-74.098,-119.794,-87.664,-90.268,-120.422,-94.806,-83.34,-117.016,-74.23,-80.277,-108.156,-84.121,-83.865,-97.323,-92.786,-80.223,-121.383,-119.021,-73.181,-73.259,-116.957,-87.961,-81.45,-78.907,-95.427,-80.788,-73.834,-124.087,-112.302,-96.726,-87.756,-111.254,-117.977,-114.229,-121.842,null,-122.643,-80.404,-118.213,-85.557,-80.569,-95.073,-117.045,-97.506,-89.636,-86.615,-122.402,-105.109,-96.463,-117.298,-118.024,-104.911,-111.85,null,-122.413,-85.372,-82.566,-115.167,-123.125,-111.877,-95.655,-81.669,-80.327,-91.107,-80.291,-105.077,-90.311,-79.019,-92.197,-92.175,null,-83.977,-84.774,-100.89,-93.056,-86.577,-97.699,-117.938,-81.332,-81.63,-82.046,-111.849,-85.705,-80.132,-86.829,-111.614,-121.536,-76.558,-82.245,-111.199,-95.241,-76.393,-110.825,-82.748,-81.333,-86.7,-84.251,-94.605,null,-121.012,-94.848,null,-121.276,-85.219,-100.682,-76.019,-95.565,-82.699,-81.623,-87.869,-76.747,-104.722,null,-75.386,-122.313,-122.017,-117.343,-85.341,-97.176,-106.845,-85.843,-82.847,-83.307,-86.055,-88.407,-104.776,-108.58,-86.757,-119.021,-88.705,-105.647,-84.48,-115.252,-84.369,-84.12,-79.931,-80.499,-71.419,-89.124,-82.727,-82.727,-104.995,-90.546,-94.206,-71.146,-91.136,-112.21,-97.541,-118.457,-90.194,-106.708,-106.708,-77.058,-81.62,-108.513,-120.449,-82.425,-90.57,-121.765,-92.411,-86.271,-98.099,-105.663,-86.527,-117.864,-120.742,-118.223,-119.813,null,-87.616,-82.438,-118.407,-81.186,-117.36,-104.822,-79.997,-87.749,-104.966,null,-110.88,-122.326,-117.248,-97.424,-88.09,-122.253,-104.968,-88.086,-72.761,-85.802,-73.871,-75.652,-84.762,-96.872,-122.194,-84.245,-108.172,-117.295,-98.257,-104.803,-92.465,-118.589,-72.051,-147.716,-112.048,-95.967,-120.51,-120.507,-119.327,-86.014,-116.481,-96.889,null,-117.428,-75.15,-97.353,-77.356,-76.844,-86.8,-85.979,-84.958,-122.226,null,-118.567,-104.961,-119.241,-100.011,-122.296,-116.224,-88.92,-82.854,-118.143,-106.545,-97.125,-97.641,-90.824,-76.751,-106.733,-80.201,-120.431,-122.436,-90.009,-82.752,-94.568,-94.57,-121.745,-118.043,null,-115.763,-86.398,-82.858,-122.336,null,-118.195,null,-72.584,-97.154,-104.987,-92.549,-90.024,-87.786,null,-76.862,-94.447,-122.162,-85.19,-96.989,-94.789,-104.866,-96.01,-124.201,-81.072,-82.568,-119.761,-98.492,-84.03,-90.153,-76.669,-84.275,-95.486,-97.105,-94.628,-105.074,-82.964,-76.859,-89.617,-95.459,-85.637,-83.389,-111.893,null,-80.91,-99.987,-84.419,-122.857,-104.75,-105.017,-118.159,-80.068,-121.805,-80.518,-84.11,-84.395,-83.089,-79.888,null,-122.258,-97.316,-87.349,-86.128,-94.494,-108.901,-81.657,-78.038,null,-106.764,-98.133,-97.736,-76.993,-86.33,-98.991,-90.206,-102.07,-82.713,-112.272,-77.33,-97.558,-106.276,-118.316,-82.803,-111.705,-96.301,-90.208,-118.457,-96.656,-81.198,-116.786,-77.522,-110.983,-74.841,-111.636,-117.85,-95.052,-111.065,-75.112,-116.572,-85.009,-94.492,null,-108.188,-85.795,-87.385,-122.418,-93.78,-111.676,-75.654,null,-117.5,-82.765,-112.164,-97.14,-122.926,-122.274,-88.283,-96.918,-104.822,-119.337,-111.886,-123.011,-91.127,null,-111.721,-82.46,-122.375,-95.522,-96.768,-121.475,-118.047,-104.902,-82.411,-84.546,null,-95.807,-81.445,-122.44,-88.312,-95.4,-99.771,-89.859,null,-82.788,-83.636,-111.884,-112.221,-149.817,-82.835,-97.756,null,-86.992,-116.543,-86.283,-97.063,-75.58,-80.992,-81.657,-87.304,-115.153,-97.416,-119.78,-98.487,-90.193,-84.405,-97.478,-94.538,-95.973,-97.364,-73.932,-111.74,-80.259,-86.279,-116.994,null,-92.599,-122.297,-115.041,-121.567,-116.465,-79.384,-111.948,-118.562,-94.86,-83.116,-108.51,-110.959,-118.339,-83.187,-118.318,-81.12,-84.434,-92.88,-90.636,-104.511,-97.15,-104.974,-112.089,-85.127,-117.934,-107.37,-84.555,-96.689,-85.327,-84.722,-80.154,-111.86,-89.864,-86.142,-85.665,-85.796,-95.107,-101.899,-104.903,-97.037,-99.264,-83.031,-84.176,-121.483,-93.745,-94.359,-98.524,-114.235,-94.656,-84.98,-119.296,-97.88,-87.398,-84.136,-93.718,-96.686,-84.485,-106.298,-81.352,-95.851,-110.91,-81.781,-90.244,-79.729,-93.51,-112.356,-76.367,-90.293,-83.274,-76.882,-83.127,-98.47,-77.442,-81.347,-97.257,-83.42,-99.489,-122.468,-83.035,-104.488,-83.329,-87.943,null,-99.48,-82.11,-81.68,-101.999,-103.773,null,null,-112.121,-111.828,-118.43,-80.48,-81.612,-118.352,-97.936,-116.079,-117.482,-93.307,-77.836,-87.619,-106.638,-97.698,-87.346,-90.058,-75.097,-105.084,-118.024,-87.642,-112.074,-77.006,-83.751,-74.919,-104.979,-81.685,-105.003,-83.856,-94.586,-94.531,-94.586,-122.176,-89.289,-74.36,-118.444,-74.753,-84.196,-81.653,-81.77,-84.565,-74.435,-78.849,-118.355,-73.778,-93.289,-92.097,-117.169,-104.904,-158.036,-96.671,-89.838,-75.334,-104.884,-104.819,-93.138,-117.812,-112.145,-147.425,-87.323,-117.874,-116.296,-94.371,-78.971,-87.743,-84.345,-104.613,-122.221,-98.865,-111.978,-120.613,-145.331,-123.202,-104.987,-75.027,-118.021,-110.767,-95.667,-106.353,-120.845,-115.124,-99.169,-87.576,null,-95.259,-106.639,-93.466,-110.926,-106.716,-82.503,-95.992,-89.621,-118.09,-119.829,-98.709,-154.951,-81.96,-111.087,-111.875,-118.272,-117.325,-117.222,-73.18,-76.95,-85.169,-82.109,-101.81,-86.8,-88.183,-118.366,-94.043,-118.462,-83.542,-105.02,-92.414,-79.478,-104.824,null,-111.774,-76.99,-102.415,-92.031,-117.459,-81.493,-94.439,-80.101,-115.159,-106.768,-84.449,-86.606,-93.746,-85.95,-115.054,-78.995,-76.871,-82.999,-90.72,-118.162,-78.889,-97.601,-87.701,-94.386,-119.736,-149.439,-97.743,-118.401,-112.091,-119.053,-84.408,-111.241,-75.041,-70.982,-106.648,-82.999,-84.484,-76.734,-105.87,-112.143,-112.134,-122.353,-77.572,-88.666,-97.149,-117.582,-105.03,-80.201,-86.807,-121.492,-71.354,-77.371,-95.565,-78.892,-87.288,-115.056,-84.091,-111.672,-93.624,-76.297,-118.369,-87.691,-93.793,-76.952,-122.154,null,null,-80.312,null,-115.029,-76.63,null,-84.115,-112.229,-81.412,-74.209,-97.878,-106.763,-90.462,-157.878,-80.122,-71.08,-122.674,-84.06,-92.859,-81.377,null,-84.563,-117.307,-89.887,-91.082,null,-86.823,-121.107,-82.116,-103.196,-97.977,-84.218,null,-122.578,-77.58,null,-115.244,-88.038,-118.003,-111.985,null,-84.451,-94.374,-154.873,-83.542,-122.931,-89.884,-96.126,-111.878,-88.543,-75.044,null,-80.203,null,-95.536,-80.221,-77.056,-84.591,-111.931,-95.923,-90.572,-122.239,-121.888,-90.219,-95.177,-118.327,null,null,-76.565,-81.031,-81.686,-115.105,-112.032,-81.666,-121.999,null,-82.898,-105.043,null,-83.224,-98.49,null,-93.304,null,-111.946,-87.692,null,-74.048,-95.636,-116.757,-85.283,-112.203,-98.739,-80.949,null,-122.078,-82.083,-95.525,-80.397,-118.245,-93.232,-92.808,-118.16,null,-86.811,null,-83.124,null,null,-104.877,-95.661,-105.054,-85.572,-122.561,-94.896,-68.676,null,null,-80.255,-122.285,-77.466,-81.2,-118.311,-79.322,-122.229,-83.762,-154.92,null,-84.951,-90.263,-106.587,-82.129,-119.591,null,null,null,-77.293,null,-75.653,-79.847,-97.276,-112.004,-117.333,-83.534,-106.559,-156.502,-106.606,-121.923,-112.571,-90.293,-82.779,-86.24,-93.957,-122.345,-105.107,-80.145,-78.368,-80.754,-90.02,-98.409,-98.504,-93.371,-119.291,-86.392,-111.056,-90.079,-101.841,-97.955,-95.4,-119.759,-117.033,-117.317,-98.633,-122.564,-95.496,-122.215,null,-102.004,-97.339,-93.183,-97.132,-123.166,-112.255,-95.571,-118.665,-116.458,null,null,-121.98,-102.402,-75.377,-90.261,-90.163,-90.163,-80.915,-77.031,-93.374,-83.972,-108.508,-115.144,-84.491,-111.681,-108.682,-111.679,-90.25,-114.505,-100.853,-84.402,-116.046,-75.79,-97.726,-74.134,-121.354,-87.845,-93.81,-104.697,-89.171,-88.086,-122.343,-100.938,-116.866,-89.866,-119.257,-73.988,-122.222,-78.017,-97.426,-82.418,null,-85.49,-122.346,-95.756,-95.756,-147.678,-77.233,-121.928,-90.319,null,-90.091,-157.857,-89.789,-76.779,-72.195,-158.016,-92.356,-71.072,-81.435,-80.204,-98.575,-96.907,-117.273,-87.431,-93.314,-104.996,-81.447,-95.291,-97.74,-93.298,-122.681,-104.874,-121.621,-96.165,-81.019,-82.894,-97.128,-122.1,-93.602,-98.623,-104.876,-84.254,-93.295,-118.95,-91.141,-81.579,-79.951,-122.646,-149.818,-83.408,-111.995,-112.477,-102.893,-122.351,-117.282,-76.987,-80.213,-85.582,-98.34,-112.102,-94.78,-122.31,-81.631,-88.415,-116.951,-81.677,-82.536,-91.937,-120.419,-77.848,-115.134,-98.572,-84.383,-121.022,-80.651,-80.872,-77.412,-79.137,-98.219,null,-90.04,-90.04,-118.352,-80.226,-81.575,-78.822,-122.972,-111.123,-84.407,-147.838,-84.117,-84.565,-149.883,-96.165,-81.203,-85.546,-117.974,-88.097,-85.85,-82.813,-89.916,-111.887,-104.64,-86.061,null,-93.797,-116.237,-106.597,-90.238,-98.74,-81.303,-111.98,null,-112.5,-102.53,-73.944,-102.455,-122.777,-83.574,-75.536,-82.196,-83.4,-93.276,-121.976,-78.55,-104.844,null,-83.807,-104.77,-119.783,-105.006,-112.134,-89.443,-118.239,-117.195,null,-84.195,-82.434,-96.947,-121.825,null,-117.238,-121.3,null,-111.836,-87.92,-119.79,-81.086,-122.331,-112.083,-95.993,-87.718,-81.1,null,-96.413,-118.305,-88.406,-85.58,-80.105,-80.244,-89.999,-118.155,-110.963,-117.922,-97.288,-122.214,-118.198,-70.2,-90.882,null,null,-81.787,-89.621,-95.328,null,-87.575,-117.655,-86.608,-101.831,-70.439,-122.214,-95.917,-122.298,-93.745,-97.341,-122.062,-117.047,-106.545,-90.553,-120.997,-118.27,-118.2,-120.992,-118.098,-90.23,-82.792,-119.805,-97.241,-122.685,-117.154,-82.574,null,-98.469,-94.629,-81.286,-89.994,-96.926,-92.127,-119.266,-122.207,-87.001,-120.306,-95.395,-111.003,-97.507,-106.743,-96.802,-105.146,-98.302,-95.851,-82.951,-121.777,-83.729,-71.063,-102.645,-98.482,-80.197,-81.641,-83.395,-95.956,-104.574,-95.555,-90.051,-94.986,-104.925,-83.399,-93.206,-106.55,-82.097,-122.648,-93.765,-106.429,-105.158,-111.982,-119.3,-82.414,-87.228,-81.753,-118.981,-77.431,-121.266,-116.411,-117.425,-81.662,-90.025,-122.197,-80.115,-79.863,-96.717,-95.457,-95.457,-95.764,-86.81,null,-90.153,-97.454,-95.105,-106.658,-122.438,-90.398,-74.001,-80.005,-104.77,-91.207,null,-95.156,-122.651,-112.062,-98.529,-95.81,-118.331,-75.545,-97.097,-81.633,-93.294,-104.771,-71.031,-82.7,-119.725,-83.955,-84.184,null,-118.881,-74.221,-88.519,-116.969,-94.63,null,null,-85.796,null,-82.443,-105.038,null,null,-87.32,-76.395,-96.749,-118.175,-87.924,-118.418,-117.968,-84.575,-117.955,-84.239,-81.924,-111.958,-122.884,-83.986,-149.911,-90.655,-76.597,-97.627,-73.794,-73.794,-75.537,-90.347,-78.69,-93.333,-102.379,-105.01,-73.919,-113.991,-82.234,-88.268,-116.801,-90.241,null,-94.432,-122.409,-97.621,-110.719,-91.114,-95.364,-94.462,-118.575,-100.409,-97.103,-101.722,null,-93.152,-95.783,-82.212,-97.198,-95.528,-87.076,-73.973,-74.083,-90.024,-83.82,-96.665,-85.102,-94.138,-89.942,-81.334,-117.933,-96.713,-76.655,-71.106,-104.868,-80.394,-73.846,-91.758,-94.713,-116.432,-83.832,-87.798,null,-97.521,-81.639,-96.937,-118.073,-94.313,-94.128,-111.978,-97.568,-92.015,-95.864,null,-78.833,-118.042,-97.413,-112.544,-106.557,-91.124,-79.935,-119.758,-73.99,-114.704,-84.146,-79.962,-118.457,-73.878,-122.479,-92.065,-91.061,-111.988,-74.171,-95.761,-90.193,-116.234,-84.293,-122.974,-115.119,-105.016,null,-73.947,-85.488,-83.961,-83.338,-87.552,-73.906,-106.604,-84.963,-115.57,-84.925,-121.33,-86.751,-87.504,-76.611,-82.244,-119.786,-85.119,-121.85,-102.372,-105.968,-80.422,-112.021,-106.56,-112.152,-106.752,-87.568,-90.82,-94.967,-95.981,-98.634,-78.934,-81.729,-85.805,-80.768,-81.202,-121.874,-81.558,-105.062,-82.028,-97.707,-158.077,-77.912,-81.593,-118.244,-88.494,-80.842,-71.588,-81.584,-117.389,-111.858,-119.177,-94.495,-90.079,-118.256,-116.382,-87.599,-87.895,-121.925,-78.61,-81.219,-104.649,-85.549,-118.338,-82.531,-94.315,-82.459,null,-104.508,-122.359,-123.091,-82.144,null,-81.06,-118.056,-97.337,-96.69,-94.545,-76.173,-94.386,-105.027,-94.161,-79.55,-89.025,-95.109,-90.246,-98.976,-117.903,-85.644,-82.402,-81.633,-87.971,-81.467,-97.538,-157.882,-118.192,-117.334,-77.848,-86.621,-158.11,-96.007,-85.995,-121.752,-81.505,-81.685,-73.238,-111.926,-110.712,-85.093,-79.882,-122.387,-112.226,-92.526,-98.504,-84.509,-90.0,-81.78,-76.677,-82.214,-118.985,-82.569,-122.665,-103.203,-134.582,-115.57,-91.96,null,-90.661,-90.79,-122.316,-76.875,-122.993,-105.03,-121.061,-94.345,-115.188,-87.777,-73.07,-87.561,-75.438,-101.902,-79.757,-112.075,-106.565,-104.831,null,-90.627,null,-73.984,null,-88.229,-117.351,-117.422,-107.324,-118.414,-87.368,-114.017,null,-89.651,-72.953,-84.701,-117.95,-86.871,null,-81.658,-88.418,-97.132,-105.07,-111.849,-97.502,-81.089,-95.554,null,null,-84.344,-74.331,-100.462,-117.08,-88.169,-104.791,-83.026,null,null,-111.926,-110.998,-82.566,-79.386,-75.385,-151.38,-94.547,-82.487,-97.132,-96.418,-119.635,-95.669,-82.146,-96.107,-94.546,-81.156,-87.669,-90.795,-92.027,-86.278,-76.549,-102.786,-101.829,-119.716,-122.775,-117.369,-70.936,-118.181,-81.458,-86.144,-82.78,-109.946,-81.459,-122.236,-83.969,-105.096,-90.764,-112.116,-107.759,-87.938,-100.193,-98.172,-87.694,-93.764,-73.743,-112.433,-117.848,-94.587,-82.616,-104.703,-94.938,-117.92,-93.264,-112.064,-81.656,-119.317,-104.605,-118.551,-117.898,-95.178,-80.592,-93.83,-119.506,null,-85.779,-77.616,-80.003,-84.525,-80.175,-95.976,-119.813,-75.195,-118.335,-95.27,-149.597,-119.377,-81.426,-151.743,-77.206,-85.817,null,-86.311,-105.573,-85.857,-123.045,-121.258,-104.625,null,-118.161,null,-93.821,-80.426,-84.376,-99.753,null,null,null,-75.979,-118.17,-111.967,-73.937,-122.958,-106.363,-115.973,-80.401,null,-81.625,null,-76.587,-117.737,-82.549,-78.996,null,-88.408,null,-111.823,-72.511,-80.319,-96.83,null,-80.176,-122.359,null,-112.317,-90.188,-93.971,null,-86.101,-102.44,-121.808,-75.189,-75.664,-81.676,null,-90.186,null,null,-77.203,-96.128,-82.046,null,null,-101.822,-87.894,-122.13,null,-94.02,-115.085,-104.813,-115.153,-95.304,-79.746,-102.683,-118.264,-95.519,-115.132,-81.577,-122.269,-76.965,-95.287,-83.873,-112.556,-82.422,-115.311,-120.187,-85.708,-118.263,-104.949,-117.165,-122.332,-80.13,-92.378,-122.522,-70.265,-121.902,-94.683,-103.207,-118.13,-95.387,-90.353,-94.541,-115.088,null,-98.615,-86.202,-122.187,-104.905,-118.182,-86.199,-119.335,-76.979,-78.102,-108.515,-82.383,-117.687,-81.266,-78.587,-95.366,-118.289,-103.167,-104.577,-89.522,-76.44,-95.528,-119.072,-90.915,-88.372,-88.164,-85.035,-83.691,-80.741,-122.062,-112.056,-111.9,-74.445,-74.162,-95.308,-111.974,-121.001,-95.116,-120.422,-84.557,-97.434,-84.299,-117.975,-95.317,null,-90.064,-104.88,-92.213,-122.765,-82.394,-118.162,-117.092,-75.08,-83.991,-118.162,-88.731,-115.142,-94.19,-122.257,null,-94.618,-97.451,-92.47,-73.773,-122.167,-85.017,-73.214,-117.93,null,-104.998,-81.409,null,null,null,-84.4,-87.322,-93.27,-94.528,-117.25,-118.092,-95.236,-87.876,-112.1,-118.158,-118.473,-105.043,-108.535,-81.094,-94.79,null,null,-121.877,-104.819,-116.355,null,-96.64,-117.699,-117.749,-96.75,-95.151,-84.446,-79.995,-81.776,-115.754,-85.459,-84.696,-82.72,-117.159,-122.191,-102.161,null,-94.418,-107.876,-94.521,-87.725,-112.208,-117.731,-85.386,-87.976,-75.074,-119.776,-95.429,-88.519,-83.146,-85.804,-104.858,-82.436,-79.918,-84.293,-93.595,-83.926,-107.745,-74.487,-121.374,-85.718,-122.353,-99.812,-108.72,-95.333,-87.623,-86.113,-116.983,-97.548,-121.418,-88.249,-83.046,-80.457,-111.877,-80.618,-86.069,-82.814,-115.125,-122.207,-93.208,-98.312,-83.168,null,-80.806,-118.388,-112.019,null,-122.663,-100.509,-74.474,-122.177,null,-81.401,null,-95.94,-112.058,-93.709,-111.804,-106.282,-122.24,-115.064,-79.586,-98.331,-118.536,-112.111,-80.158,-80.175,-118.149,-87.07,-120.618,-116.959,-97.111,-117.299,-116.995,-78.895,-77.211,-81.556,-114.295,-97.63,-95.969,-92.072,-74.012,-92.001,-121.318,-99.745,-106.57,-81.208,-83.978,-117.56,-98.712,-95.394,-111.892,-76.764,-117.879,-119.696,-118.296,-108.036,-87.633,-117.987,-76.148,-116.832,-85.272,-87.747,null,-80.085,-115.173,-82.506,-117.319,-105.036,-76.314,-111.883,-104.94,-81.391,-117.174,-117.985,-111.914,-81.495,-122.222,-122.127,-90.224,-110.782,-84.368,-83.406,-90.166,-120.698,null,-81.512,-111.883,-94.185,-84.235,null,-84.374,-118.174,-122.938,-78.901,-96.069,-117.069,-106.764,-119.071,-75.176,-73.933,-85.816,-92.888,-97.63,-95.309,-122.42,-108.572,null,-118.994,-90.733,-81.531,-118.283,null,null,-96.756,-118.265,-90.568,-81.764,-81.436,-80.329,-119.821,-112.298,-79.677,-71.661,-117.118,-87.833,-87.426,-82.402,-82.641,-111.757,null,-117.017,-87.717,null,null,null,-117.047,-99.464,null,-83.829,-83.047,-94.19,-75.244,-77.044,-80.165,-112.017,-85.112,-115.098,-110.998,-118.98,-122.663,-123.02,-85.22,-104.941,-122.263,-94.986,-118.293,-93.28,-70.963,-71.135,-115.05,-122.173,-104.79,-90.152,-81.645,-83.134,-95.851,-119.27,-115.579,-86.568,-117.368,-114.035,-87.567,-76.671,-122.208,-93.971,-119.034,-76.883,-109.056,-97.528,-75.121,-89.093,-81.647,-105.488,-109.392,-87.235,-121.424,-71.5,-118.318,-80.164,-85.234,-86.556,-81.333,-76.868,-80.202,-95.953,-106.678,-98.48,-90.335,-75.273,-80.946,-85.946,-91.468,-116.977,-107.762,-98.377,-102.03,-122.834,-117.29,-84.463,-112.112,-100.475,-87.197,-81.948,-82.968,-82.671,-82.974,-82.572,-74.006,-83.52,-92.571,-117.904,-90.26,-84.138,-115.286,-122.417,-82.32,-94.977,-103.359,-88.837,-75.117,-87.401,-102.38,-115.591,-95.474,-81.689,-87.47,-111.9,-121.534,-95.249,-95.372,-96.016,-80.709,-81.317,-83.522,-122.205,-81.071,-116.557,-85.679,-118.353,-119.032,-149.803,-88.062,-89.523,-122.342,null,-95.315,-72.678,-116.928,-117.32,-157.797,-71.031,-123.933,-102.306,-112.117,-79.943,-121.04,-117.246,-111.981,-97.355,null,-75.285,-87.799,-94.172,-74.202,-120.282,-118.09,-80.475,-111.321,-86.581,-71.207,-117.436,-95.426,-97.726,-77.009,-122.764,-72.685,-84.113,-77.198,-87.69,-112.013,-94.217,-87.509,-98.189,-84.388,-105.101,null,null,-77.405,-95.025,-106.582,-121.324,-85.634,-98.404,-112.428,-83.55,-104.716,-119.748,-86.832,-111.013,-73.855,-96.29,-121.83,-86.486,-82.537,-98.431,-117.47,-104.583,-88.038,-98.534,null,null,-121.841,-94.739,-110.968,-89.535,-88.709,-88.159,null,-106.795,-97.623,-76.645,-80.042,-122.67,-121.064,-79.856,-73.12,-84.296,-118.198,-111.973,-111.875,-112.151,-122.381,-97.09,-112.009,-89.519,-81.208,-75.491,-97.681,-81.587,-82.837,-89.087,-95.408,-77.085,-93.099,-69.639,-80.284,-112.449,-117.444,null,-106.286,-105.544,-118.011,-116.292,null,null,-82.231,-83.401,null,null,-75.456,null,null,-96.643,-96.643,-91.724,-106.586,null,-93.193,-81.624,-85.043,-82.084,null,-122.799,-109.096,-83.347,null,-76.624,-121.549,-80.336,-92.131,null,-87.302,-78.482,-98.452,-87.09,-94.937,-81.751,-95.37,null,-82.268,-147.87,-81.942,-118.338,-124.111,-117.344,-77.617,null,-121.991,null,-86.781,-84.191,-91.988,null,null,-80.613,-100.81,-118.187,null,-118.256,-122.065,-96.548,-87.143,-95.65,-118.274,-85.282,-83.666,null,null,null,null,-122.051,-87.808,null,null,-77.032,null,null,null,-90.519,-75.977,-104.564,-71.005,-120.458,-118.264,-97.407,-81.743,-82.211,-72.353,-94.449,-119.301,-87.757,-105.116,-90.582,-121.94,-117.588,-79.013,-123.046,-118.202,-77.007,-104.87,-117.215,-112.221,-123.26,-73.914,-86.841,-98.246,-75.077,-80.196,-122.391,-75.147,-84.317,-116.642,-84.534,-107.72,-90.21,-88.999,-97.933,null,-93.341,null,-84.992,-84.19,-82.946,-117.153,-67.867,-157.848,-98.468,-80.222,null,-87.539,null,-98.624,-98.624,-114.039,-122.06,-93.266,-97.296,-96.705,-82.968,null,-85.379,-98.486,-98.499,null,-71.77,-104.845,-108.628,-95.171,-86.831,-118.362,-118.943,null,-117.827,-90.982,-94.576,-77.017,-105.234,-87.143,-86.691,null,-81.665,-96.623,-97.583,-117.392,-71.903,null,-96.806,-80.092,-121.296,null,null,-96.476,-77.64,-103.091,-105.04,null,null,-86.8,-95.975,-102.779,-112.27,null,-86.141,-123.187,-104.97,null,-84.297,-84.854,null,-81.899,-121.872,-84.158,-91.115,-95.542,-80.954,-83.428,-83.357,-81.547,-96.301,-120.124,-90.008,-110.933,-76.986,-87.974,-94.706,null,-92.308,null,null,null,null,-85.793,-105.005,-110.973,-121.866,null,null,-84.514,-91.221,-105.102,-96.572,-93.195,-93.296,-118.045,-77.608,null,null,-95.993,-93.439,-84.29,null,-92.255,-97.687,-84.82,-106.062,-84.473,null,-111.901,null,-74.388,-84.721,-155.093,-104.885,-118.985,-90.151,-117.182,null,-79.246,-85.398,-93.109,-73.986,null,-84.502,-155.071,-117.297,-83.676,-97.342,-85.181,-94.65,-83.768,-105.08,null,-83.915,-111.871,-78.468,-90.559,null,-105.938,-105.993,-82.458,-118.077,-88.715,null,-122.661,-84.129,-83.835,-119.023,-147.864,-108.563,-122.342,null,null,-94.036,null,-98.59,-99.298,-104.561,-97.41,-104.931,-117.918,-122.192,null,-97.295,-84.385,-84.624,null,null,-82.401,-94.988,-74.753,-81.273,null,-120.659,-95.293,-84.767,-105.922,-122.855,-73.918,-122.987,-87.743,-84.183,-75.958,-108.696,-117.651,-87.235,-106.242,-76.75,-95.263,null,-118.336,-77.165,-81.084,-105.235,-90.067,-87.853,-95.474,null,null,null,-76.781,-112.017,null,-98.715,-75.129,-117.079,-116.215,-84.475,-92.391,-85.879,null,-87.607,null,null,null,-82.527,-81.539,-119.201,-75.299,null,-77.056,-82.392,-117.862,-72.319,-122.361,-86.865,-94.456,-117.946,-119.057,null,-76.546,-83.086,-117.841,-112.324,-86.926,-98.502,-118.675,-105.006,null,-119.035,-98.397,-71.02,-85.336,-89.571,-82.678,-106.55,-117.015,-81.106,-89.939,-105.075,-105.11,-75.104,-84.559,-117.226,-104.98,-160.007,-116.941,-101.82,-95.449,-90.005,-87.936,-79.899,-111.323,-84.459,-87.64,-77.005,-72.97,-118.391,-121.959,-124.163,-81.294,-149.511,-87.964,-122.683,-157.852,-85.978,-117.231,-94.393,-74.817,-114.337,-84.399,-117.303,null,-80.183,-80.653,-77.032,-86.074,-104.51,-95.367,-105.053,-87.95,-104.829,-106.735,-122.537,-78.95,-82.748,-121.571,-124.122,-92.854,-76.982,-111.881,-95.682,-93.763,-78.83,-98.271,-84.538,-122.221,-97.108,-112.03,-94.451,-95.498,-90.415,null,-117.048,-95.205,-85.0,-90.21,-80.507,-84.471,null,-87.634,-95.313,-115.136,-76.591,-84.291,-89.839,-96.676,-118.154,-82.607,null,-86.169,-119.239,-84.28,-96.676,-70.227,-122.514,-117.885,null,-111.937,-82.897,-86.245,-98.716,-85.164,-82.981,-104.766,-115.018,-118.57,-115.199,-90.726,null,-110.97,-118.322,null,null,-77.632,-97.996,-90.821,-80.851,-91.193,null,null,null,null,-120.466,-83.714,-106.794,-85.098,null,-82.539,-69.766,-90.57,null,null,-77.588,-116.546,-82.65,-81.783,-99.471,-80.06,-94.399,-122.548,-93.316,-76.988,null,-87.254,-76.183,-97.094,null,-84.232,-80.345,null,null,-108.534,-92.474,-87.494,null,null,-88.749,-85.699,-116.205,-75.24,-92.395,-96.758,-104.819,-90.236,-118.436,-90.694,-84.615,-91.516,-112.193,-95.905,-80.718,null,-76.861,-88.074,-73.991,null,-76.569,-79.699,-75.108,-122.223,-71.077,null,null,null,null,null,null,null,null,null,null,null,null,null,null,null,null,null,null,null,null,null,null,null,null,null,null,null,null,null,null,null,null,null,null,null,null,null,null,null,null,null,null,null,null,null,null,null,null,null,null,null,null,null,null,null,null,null,null,null,null,null,null,null,null,null,null,null,null,null,null,-83.666,-104.8,-75.314,null,null,null,null,null,null,null,null,null,null,null,null,null,null,null,null,null,null,null,null,null,null,null,null,-96.984,null,null,null,null,null,null,null,null,null,null,null,null,null,null,-76.879,null,null,null,null,null,null,null,null,null,null,null,null,null,null,null,-122.562,null,null,null,null,null,null,null,null,null,null,null,null,null,null,-120.826,null,-159.541,null,null,-83.811,null,null,null,null,null,null,null,null,null,null,-84.538,-117.696,null,null,-104.806,null,null,null,null,null,null,null,-106.176,null,null,null,-101.88,null,null,null,null,null,null,null,null,null,null,null,null,null,null,-83.712,null,-103.141,-119.8,null,-95.514,-106.204,-122.435,-106.797,null,-95.913,-112.137,-95.286,-119.394,-70.0,-79.586,-81.752,-97.49,null,-85.206,-118.151,-85.961,null,-97.705,-112.28,-85.634,-104.777,-80.213,-94.494,-84.634,-94.413,-80.307,-90.404,null,-83.885,null,-118.006,null,-106.65,-88.138,-98.527,-88.185,-122.435,-80.522,-97.18,-122.486,-122.288,-90.538,-81.714,-77.387,-85.731,-101.418,-106.269,-75.075,-81.055,-106.498,-97.716,-111.283,-85.59,-94.03,-105.498,-121.622,-111.829,-80.178,-73.263,-96.678,-103.245,-80.393,-111.944,-114.57,-104.422,-110.809,-119.788,-76.308,-149.62,-92.964,-84.29,-122.88,-96.752,-76.421,null,-106.67,-97.274,-84.749,-81.141,-88.597,-83.195,-87.756,-110.864,-90.742,-87.726,-85.638,-117.506,-117.506,-104.767,-88.626,-97.755,-84.573,-118.452,-106.533,-79.034,-81.72,-117.475,-86.442,-83.301,-108.187,-117.89,-111.755,-81.089,-84.502,-123.017,-95.904,-80.79,-82.213,-79.84,-112.186,-118.253,-105.117,-96.921,-84.463,-108.052,-95.162,-95.451,-121.547,-95.196,-83.745,-119.02,-77.061,-92.878,-73.891,-102.319,-90.954,-95.094,-101.793,-75.69,-122.761,-104.748,-81.471,-81.756,-95.27,-118.781,-84.505,-73.91,-84.125,-96.735,-102.117,-94.761,-84.229,-122.316,-76.471,-118.169,-79.391,-95.647,-110.255,-80.127,-78.599,-120.314,-94.144,-95.993,-114.626,-73.895,-82.488,-96.825,-89.578,-73.889,-80.06,-71.622,-102.004,-81.075,-86.111,-88.356,-84.37,-95.294,-90.03,-111.963,-81.431,-75.527,-81.628,-95.036,-119.831,-84.579,-92.288,-87.789,-85.812,-81.961,-80.302,-119.413,-108.552,-111.68,-84.491,-82.948,-97.478,-122.36,-117.718,-104.787,-93.238,-80.377,-108.506,-82.013,-83.378,-79.479,-81.61,-80.431,-105.008,-121.854,-122.213,-101.858,-118.294,-110.167,-81.111,-74.016,-88.202,-86.592,-80.755,-120.346,-68.014,-82.911,-87.899,-86.056,-78.9,-82.155,-111.645,-81.53,-122.301,-84.504,-83.357,-97.694,-124.213,-116.49,-80.434,-108.086,-112.469,-80.519,-85.83,-122.609,-119.742,-109.331,-98.14,-122.253,-118.432,-71.433,-82.452,-97.067,-95.378,-117.399,-117.436,-68.512,-121.805,null,-95.665,null,null,null,null,null,null,null,null,-96.96,-106.27,null,-77.176,null,null,null,null,null,null,null,null,null,null,null,null,null,null,null,null,null,null,null,null,-93.243,null,null,-121.656,-91.024,-104.964,-117.557,-80.161,-120.95,-117.99,-106.576,-69.234,-104.984,null,null,null,null,null,null,null,null,null,null,null,null,null,null,null,null,null,null,null,null,null,null,null,-122.534,-96.683,-122.903,null,null,null,null,null,null,null,null,null,-82.289,null,null,-121.776,-104.983,-80.388,-120.262,-81.402,-94.555,-93.591,-95.31,-91.073,-96.76,null,null,null,-108.765,null,null,null,null,null,null,null,null,-87.78,-110.981,-122.844,-119.763,-95.479,-90.312,-94.258,-95.166],\"marker\":{\"color\":\"#EF553B\",\"symbol\":\"circle\"},\"mode\":\"markers\",\"name\":\"Age between 18 and 40\",\"showlegend\":true,\"type\":\"scattergeo\"},{\"geo\":\"geo\",\"hovertemplate\":\"Age_of_the_Person=Age less than 18<br>latitude=%{lat}<br>longitude=%{lon}<extra></extra>\",\"lat\":[35.877,32.495,39.754,43.599,39.299,32.53,42.756,41.529,30.379,42.452,41.761,36.83,35.951,27.82,39.074,42.14,32.301,40.469,28.36,29.595,37.15,40.279,38.253,39.817,38.658,34.019,38.704,35.45,33.718,25.507,28.03,35.551,31.125,37.365,40.028,33.779,33.917,35.352,40.398,34.063,30.396,39.001,37.241,32.94,29.641,35.331,39.309,41.867,33.798,38.654,45.14,33.478,35.291,30.706,38.634,37.368,33.935,29.999,null,40.043,34.038,33.945,37.704,39.963,40.767,40.767,33.939,34.0,34.592,32.504,36.971,39.179,39.998,39.312,41.856,40.68,36.679,40.034,47.408,33.742,33.887,39.287,34.695,45.536,44.416,40.673,40.702,39.9,37.661,40.328,36.801,33.553,29.878,null,32.712,42.934,32.957,41.175,39.578,36.151,41.76,34.582,34.712,35.226,41.583,41.659,34.25,25.707,38.81,37.356,45.059,46.597,36.831,30.451,38.677,39.163,29.552,34.806,null,38.857,29.495,33.939,33.928,37.568,40.529,36.189,40.397,29.289,44.891,35.926,38.564,47.385,28.624,37.58,37.152,34.023,29.784,null,40.299,36.093,29.44,39.786,null,30.027,35.058,39.595,41.245,39.973,30.429,28.039,34.194,38.366,null,33.744,30.126,41.854,45.612,29.403,38.566,null,35.65,33.461,39.053,42.7,46.73,34.03,33.854,32.533,32.766,32.427,30.053,null,33.784,33.573,36.056,27.445,33.408,36.34,46.245,43.694,29.675,30.372,39.556,39.972,43.064,61.217,40.089,30.663,36.738,null,34.047,33.937,33.89,30.255,33.775,40.612,32.171,38.846,33.926,35.951,33.942,28.374,null,30.282,35.388,40.662,33.725,33.311,null,37.803,30.689,35.77,42.981,42.981,41.81,41.85,21.275,35.99,38.3,39.917,null,37.624,null,34.784,36.969,39.908,32.735,null,null,34.0,28.148,27.741,null,null,null,null,38.795,null,null,29.738,32.046,32.176,37.024,40.019,30.25,29.199,29.345,null,null,36.069],\"legendgroup\":\"Age less than 18\",\"lon\":[-97.423,-94.746,-104.909,-83.873,-76.44,-86.362,-84.837,-81.609,-81.68,-87.845,-87.572,-76.34,-78.526,-82.659,-108.556,-83.216,-96.864,-86.165,-80.792,-95.519,-122.127,-76.571,-85.752,-86.08,-90.256,-117.593,-104.694,-97.413,-116.235,-80.413,-82.516,-87.552,-92.05,-120.425,-75.179,-84.387,-118.082,-80.851,-77.034,-118.294,-97.667,-94.288,-79.995,-96.856,-82.405,-77.634,-76.61,-87.711,-84.564,-90.219,-89.152,-117.09,-80.757,-88.096,-121.333,-121.807,-118.249,-90.175,null,-74.293,-118.215,-118.281,-97.444,-82.987,-74.184,-74.184,-118.307,-118.25,-92.601,-85.004,-121.791,-94.594,-83.01,-76.657,-87.978,-73.961,-121.635,-76.301,-122.296,-117.871,-98.527,-76.647,-85.807,-122.578,-69.666,-73.876,-73.92,-105.042,-122.065,-122.281,-119.772,-112.172,-95.645,null,-96.615,-85.636,-117.226,-73.199,-104.896,-95.861,-87.624,-118.112,-86.612,-90.199,-87.401,-87.587,-91.988,-80.428,-77.662,-120.583,-123.609,-90.65,-86.545,-89.14,-90.212,-75.558,-98.257,-92.266,null,-94.694,-95.058,-118.296,-102.335,-122.024,-89.279,-115.021,-79.839,-94.827,-93.584,-95.883,-104.474,-122.233,-81.543,-120.801,-80.512,-117.116,-95.271,null,-111.682,-119.197,-98.528,-105.11,null,-95.53,-106.569,-104.876,-111.995,-82.967,-81.657,-81.95,-118.429,-104.713,null,-84.404,-81.795,-87.626,-122.561,-98.461,-90.242,null,-97.51,-112.048,-77.107,-87.794,-122.941,-118.144,-117.913,-94.808,-97.229,-104.252,-99.134,null,-118.134,-112.206,-115.037,-80.332,-111.788,-94.254,-119.112,-70.791,-95.336,-81.687,-119.762,-82.913,-88.045,-149.889,-82.995,-97.68,-78.479,null,-81.043,-118.294,-118.304,-81.815,-84.561,-111.952,-110.992,-77.003,-84.175,-79.981,-118.073,-80.765,null,-81.73,-97.53,-73.913,-84.406,-111.836,null,-77.921,-88.212,-95.394,-76.075,-76.075,-87.684,-87.708,-157.825,-83.887,-76.634,-82.839,null,-120.93,null,-91.9,-82.734,-75.269,-97.435,null,null,-118.068,-82.757,-97.429,null,null,null,null,-90.679,null,null,-95.517,-102.171,-111.079,-94.736,-75.087,-92.032,-99.789,-98.6,null,null,-79.872],\"marker\":{\"color\":\"#00cc96\",\"symbol\":\"circle\"},\"mode\":\"markers\",\"name\":\"Age less than 18\",\"showlegend\":true,\"type\":\"scattergeo\"},{\"geo\":\"geo\",\"hovertemplate\":\"Age_of_the_Person=Age greater than 60<br>latitude=%{lat}<br>longitude=%{lon}<extra></extra>\",\"lat\":[34.542,40.405,29.031,37.565,30.167,45.036,35.266,46.159,33.564,41.45,30.461,29.993,33.638,37.176,36.092,35.404,38.446,36.897,36.211,33.933,47.838,33.631,35.633,37.08,36.446,33.597,41.289,39.398,29.689,37.511,41.326,38.265,40.908,41.338,34.933,37.386,33.477,36.669,44.813,38.855,38.909,33.593,41.063,38.811,37.567,39.095,34.985,37.53,39.469,34.659,37.291,41.05,44.477,29.873,44.824,null,45.389,33.593,46.609,37.095,41.656,38.943,21.303,35.178,null,32.411,34.922,38.307,null,36.155,34.203,33.726,40.599,39.602,38.851,36.377,47.317,37.354,37.292,28.558,41.042,41.073,40.819,39.161,39.938,35.365,35.301,36.147,30.048,29.543,40.643,37.602,38.983,39.498,38.583,40.331,null,34.041,40.259,44.245,38.311,27.439,35.74,34.527,39.754,33.405,36.2,44.482,36.222,35.881,39.39,32.68,35.819,25.744,33.06,null,43.03,44.068,34.773,27.615,31.759,37.956,43.532,35.203,41.583,33.775,35.548,35.407,34.03,33.415,30.438,28.089,45.05,40.847,29.637,null,29.37,40.808,26.245,35.331,42.883,34.939,28.944,37.101,33.637,36.038,32.555,43.588,39.647,33.598,35.198,35.225,25.515,null,38.831,30.421,31.639,29.669,35.812,35.933,33.163,33.639,33.06,43.245,31.826,43.026,35.528,40.05,32.807,40.057,40.076,39.093,39.077,34.231,38.174,34.187,36.606,36.428,35.472,36.183,34.009,39.671,28.78,39.438,35.318,31.066,31.783,33.335,40.648,33.804,36.073,43.089,39.194,26.96,null,33.899,44.791,36.862,39.676,null,41.146,null,41.103,34.728,32.677,34.328,38.795,30.962,34.081,39.292,33.763,45.595,null,33.998,39.375,36.357,34.177,32.025,33.063,43.016,26.942,35.976,33.102,33.102,27.25,30.303,39.105,47.249,38.492,42.328,26.548,40.987,34.084,44.264,38.91,35.163,37.98,33.318,34.538,33.055,null,35.063,35.315,30.33,33.782,34.816,35.465,34.387,36.809,33.422,36.036,34.986,47.69,43.032,37.237,34.668,33.685,40.787,33.582,27.128,30.834,41.988,42.394,31.916,36.093,28.89,null,45.521,38.986,32.743,33.488,39.885,33.818,35.991,33.67,35.087,32.343,33.415,40.557,30.331,null,32.818,42.981,28.18,null,33.183,38.319,34.993,30.477,43.06,30.255,40.396,32.317,null,36.243,39.718,36.353,33.423,35.323,37.999,27.303,32.756,36.138,35.354,null,38.58,33.677,34.995,28.448,38.585,45.629,38.719,33.698,27.725,32.337,32.405,38.52,45.358,40.586,31.979,38.599,34.443,41.411,41.46,34.536,34.668,38.347,33.541,37.441,40.412,39.138,28.398,40.061,44.497,null,43.699,33.176,33.052,33.856,41.105,32.668,33.553,33.364,31.518,30.074,34.804,35.026,28.431,41.215,30.466,30.241,40.542,30.005,42.17,null,null,null,null,null,null,null,null,null,null,null,null,null,null,null,36.007,32.845,33.849,33.508,26.231,34.92,27.33,35.423,39.237,38.858,32.319,34.289,41.746,41.615,41.265,39.401,25.879,null,null,null,null,null,null,null,null,null,null,null,36.866,37.095],\"legendgroup\":\"Age greater than 60\",\"lon\":[-91.966,-74.301,-95.428,-82.921,-97.789,-93.386,-81.227,-68.104,-86.724,-81.641,-84.279,-90.265,-112.203,-88.677,-96.134,-97.34,-105.192,-94.887,-119.601,-84.087,-122.014,-112.257,-86.943,-119.659,-81.426,-112.1,-80.984,-101.04,-95.557,-77.791,-75.789,-77.17,-73.825,-81.445,-95.77,-84.419,-116.819,-85.365,-116.407,-76.968,-104.878,-112.298,-102.074,-90.239,-86.224,-84.546,-85.269,-122.052,-76.309,-93.691,-77.289,-85.133,-73.216,-97.669,-91.546,null,-122.776,-84.19,-87.688,-85.821,-71.199,-77.006,-157.842,-82.216,null,-87.033,-80.277,-77.444,null,-81.274,-81.262,-116.216,-105.077,-79.999,-81.399,-82.465,-122.21,-81.248,-122.009,-82.554,-81.563,-85.091,-73.854,-119.761,-77.661,-93.082,-119.09,-96.045,-81.925,-95.367,-73.897,-84.591,-94.569,-85.794,-90.232,-75.914,null,-118.257,-79.998,-86.329,-122.316,-82.568,-97.372,-112.478,-76.585,-84.56,-115.06,-69.808,-116.052,-83.89,-78.109,-116.512,-81.49,-80.328,-96.795,null,-88.256,-123.018,-112.455,-80.45,-86.181,-104.802,-89.309,-106.703,-73.396,-85.762,-87.552,-80.861,-95.875,-111.831,-88.953,-81.965,-93.344,-73.892,-95.754,null,-94.959,-73.92,-80.276,-91.969,-112.433,-85.312,-80.911,-94.51,-86.66,-95.805,-94.647,-84.826,-78.368,-117.707,-111.657,-114.014,-80.415,null,-93.754,-87.861,-93.955,-98.669,-80.354,-82.354,-86.28,-112.325,-84.405,-77.7,-92.932,-78.399,-113.231,-82.963,-96.679,-81.234,-76.299,-119.772,-108.511,-84.231,-85.762,-79.835,-82.162,-83.996,-94.368,-115.17,-118.257,-83.335,-82.242,-104.959,-106.544,-88.29,-106.326,-111.859,-111.997,-83.711,-83.182,-124.415,-76.651,-82.069,null,-117.517,-93.531,-119.78,-86.184,null,-112.055,null,-72.359,-81.587,-86.1,-83.885,-90.722,-87.483,-84.028,-80.349,-116.401,-121.162,null,-83.327,-76.541,-105.298,-77.9,-89.97,-95.46,-76.148,-82.298,-86.526,-97.126,-97.125,-80.402,-81.717,-94.631,-122.421,-85.775,-122.869,-80.091,-75.195,-86.78,-72.573,-86.573,-114.572,-121.261,-87.908,-117.327,-85.126,null,-85.112,-85.15,-97.679,-118.279,-77.561,-79.15,-80.087,-87.15,-82.242,-79.985,-82.556,-117.361,-89.494,-121.795,-118.076,-83.987,-74.075,-84.296,-82.455,-88.267,-77.265,-83.297,-106.441,-80.214,-81.27,null,-122.87,-119.163,-114.487,-86.7,-104.823,-84.277,-79.958,-96.617,-78.939,-86.196,-111.581,-79.755,-92.496,null,-96.934,-71.398,-80.677,null,-84.903,-87.279,-90.787,-84.3,-76.024,-81.465,-122.22,-106.775,null,-115.15,-84.143,-82.331,-111.719,-84.518,-121.228,-82.488,-79.988,-115.273,-119.009,null,-121.534,-116.296,-79.022,-82.603,-81.478,-88.359,-121.262,-111.874,-97.419,-95.285,-110.986,-78.019,-88.065,-122.348,-81.17,-77.319,-116.95,-86.469,-87.065,-117.293,-112.307,-121.986,-111.928,-100.015,-75.928,-76.442,-82.66,-79.436,-88.121,null,-86.0,-111.617,-86.77,-87.302,-76.879,-115.497,-112.117,-104.534,-97.203,-95.514,-85.025,-76.894,-81.345,-98.454,-97.64,-89.591,-88.983,-90.219,-75.125,null,null,null,null,null,null,null,null,null,null,null,null,null,null,null,-83.399,-83.643,-112.251,-84.366,-80.221,-81.978,-82.54,-76.316,-80.677,-104.917,-106.773,-86.227,-124.149,-88.123,-81.085,-76.6,-80.227,null,null,null,null,null,null,null,null,null,null,null,-83.889,-113.567],\"marker\":{\"color\":\"#ab63fa\",\"symbol\":\"circle\"},\"mode\":\"markers\",\"name\":\"Age greater than 60\",\"showlegend\":true,\"type\":\"scattergeo\"}],                        {\"template\":{\"data\":{\"histogram2dcontour\":[{\"type\":\"histogram2dcontour\",\"colorbar\":{\"outlinewidth\":0,\"ticks\":\"\"},\"colorscale\":[[0.0,\"#0d0887\"],[0.1111111111111111,\"#46039f\"],[0.2222222222222222,\"#7201a8\"],[0.3333333333333333,\"#9c179e\"],[0.4444444444444444,\"#bd3786\"],[0.5555555555555556,\"#d8576b\"],[0.6666666666666666,\"#ed7953\"],[0.7777777777777778,\"#fb9f3a\"],[0.8888888888888888,\"#fdca26\"],[1.0,\"#f0f921\"]]}],\"choropleth\":[{\"type\":\"choropleth\",\"colorbar\":{\"outlinewidth\":0,\"ticks\":\"\"}}],\"histogram2d\":[{\"type\":\"histogram2d\",\"colorbar\":{\"outlinewidth\":0,\"ticks\":\"\"},\"colorscale\":[[0.0,\"#0d0887\"],[0.1111111111111111,\"#46039f\"],[0.2222222222222222,\"#7201a8\"],[0.3333333333333333,\"#9c179e\"],[0.4444444444444444,\"#bd3786\"],[0.5555555555555556,\"#d8576b\"],[0.6666666666666666,\"#ed7953\"],[0.7777777777777778,\"#fb9f3a\"],[0.8888888888888888,\"#fdca26\"],[1.0,\"#f0f921\"]]}],\"heatmap\":[{\"type\":\"heatmap\",\"colorbar\":{\"outlinewidth\":0,\"ticks\":\"\"},\"colorscale\":[[0.0,\"#0d0887\"],[0.1111111111111111,\"#46039f\"],[0.2222222222222222,\"#7201a8\"],[0.3333333333333333,\"#9c179e\"],[0.4444444444444444,\"#bd3786\"],[0.5555555555555556,\"#d8576b\"],[0.6666666666666666,\"#ed7953\"],[0.7777777777777778,\"#fb9f3a\"],[0.8888888888888888,\"#fdca26\"],[1.0,\"#f0f921\"]]}],\"heatmapgl\":[{\"type\":\"heatmapgl\",\"colorbar\":{\"outlinewidth\":0,\"ticks\":\"\"},\"colorscale\":[[0.0,\"#0d0887\"],[0.1111111111111111,\"#46039f\"],[0.2222222222222222,\"#7201a8\"],[0.3333333333333333,\"#9c179e\"],[0.4444444444444444,\"#bd3786\"],[0.5555555555555556,\"#d8576b\"],[0.6666666666666666,\"#ed7953\"],[0.7777777777777778,\"#fb9f3a\"],[0.8888888888888888,\"#fdca26\"],[1.0,\"#f0f921\"]]}],\"contourcarpet\":[{\"type\":\"contourcarpet\",\"colorbar\":{\"outlinewidth\":0,\"ticks\":\"\"}}],\"contour\":[{\"type\":\"contour\",\"colorbar\":{\"outlinewidth\":0,\"ticks\":\"\"},\"colorscale\":[[0.0,\"#0d0887\"],[0.1111111111111111,\"#46039f\"],[0.2222222222222222,\"#7201a8\"],[0.3333333333333333,\"#9c179e\"],[0.4444444444444444,\"#bd3786\"],[0.5555555555555556,\"#d8576b\"],[0.6666666666666666,\"#ed7953\"],[0.7777777777777778,\"#fb9f3a\"],[0.8888888888888888,\"#fdca26\"],[1.0,\"#f0f921\"]]}],\"surface\":[{\"type\":\"surface\",\"colorbar\":{\"outlinewidth\":0,\"ticks\":\"\"},\"colorscale\":[[0.0,\"#0d0887\"],[0.1111111111111111,\"#46039f\"],[0.2222222222222222,\"#7201a8\"],[0.3333333333333333,\"#9c179e\"],[0.4444444444444444,\"#bd3786\"],[0.5555555555555556,\"#d8576b\"],[0.6666666666666666,\"#ed7953\"],[0.7777777777777778,\"#fb9f3a\"],[0.8888888888888888,\"#fdca26\"],[1.0,\"#f0f921\"]]}],\"mesh3d\":[{\"type\":\"mesh3d\",\"colorbar\":{\"outlinewidth\":0,\"ticks\":\"\"}}],\"scatter\":[{\"fillpattern\":{\"fillmode\":\"overlay\",\"size\":10,\"solidity\":0.2},\"type\":\"scatter\"}],\"parcoords\":[{\"type\":\"parcoords\",\"line\":{\"colorbar\":{\"outlinewidth\":0,\"ticks\":\"\"}}}],\"scatterpolargl\":[{\"type\":\"scatterpolargl\",\"marker\":{\"colorbar\":{\"outlinewidth\":0,\"ticks\":\"\"}}}],\"bar\":[{\"error_x\":{\"color\":\"#2a3f5f\"},\"error_y\":{\"color\":\"#2a3f5f\"},\"marker\":{\"line\":{\"color\":\"#E5ECF6\",\"width\":0.5},\"pattern\":{\"fillmode\":\"overlay\",\"size\":10,\"solidity\":0.2}},\"type\":\"bar\"}],\"scattergeo\":[{\"type\":\"scattergeo\",\"marker\":{\"colorbar\":{\"outlinewidth\":0,\"ticks\":\"\"}}}],\"scatterpolar\":[{\"type\":\"scatterpolar\",\"marker\":{\"colorbar\":{\"outlinewidth\":0,\"ticks\":\"\"}}}],\"histogram\":[{\"marker\":{\"pattern\":{\"fillmode\":\"overlay\",\"size\":10,\"solidity\":0.2}},\"type\":\"histogram\"}],\"scattergl\":[{\"type\":\"scattergl\",\"marker\":{\"colorbar\":{\"outlinewidth\":0,\"ticks\":\"\"}}}],\"scatter3d\":[{\"type\":\"scatter3d\",\"line\":{\"colorbar\":{\"outlinewidth\":0,\"ticks\":\"\"}},\"marker\":{\"colorbar\":{\"outlinewidth\":0,\"ticks\":\"\"}}}],\"scattermapbox\":[{\"type\":\"scattermapbox\",\"marker\":{\"colorbar\":{\"outlinewidth\":0,\"ticks\":\"\"}}}],\"scatterternary\":[{\"type\":\"scatterternary\",\"marker\":{\"colorbar\":{\"outlinewidth\":0,\"ticks\":\"\"}}}],\"scattercarpet\":[{\"type\":\"scattercarpet\",\"marker\":{\"colorbar\":{\"outlinewidth\":0,\"ticks\":\"\"}}}],\"carpet\":[{\"aaxis\":{\"endlinecolor\":\"#2a3f5f\",\"gridcolor\":\"white\",\"linecolor\":\"white\",\"minorgridcolor\":\"white\",\"startlinecolor\":\"#2a3f5f\"},\"baxis\":{\"endlinecolor\":\"#2a3f5f\",\"gridcolor\":\"white\",\"linecolor\":\"white\",\"minorgridcolor\":\"white\",\"startlinecolor\":\"#2a3f5f\"},\"type\":\"carpet\"}],\"table\":[{\"cells\":{\"fill\":{\"color\":\"#EBF0F8\"},\"line\":{\"color\":\"white\"}},\"header\":{\"fill\":{\"color\":\"#C8D4E3\"},\"line\":{\"color\":\"white\"}},\"type\":\"table\"}],\"barpolar\":[{\"marker\":{\"line\":{\"color\":\"#E5ECF6\",\"width\":0.5},\"pattern\":{\"fillmode\":\"overlay\",\"size\":10,\"solidity\":0.2}},\"type\":\"barpolar\"}],\"pie\":[{\"automargin\":true,\"type\":\"pie\"}]},\"layout\":{\"autotypenumbers\":\"strict\",\"colorway\":[\"#636efa\",\"#EF553B\",\"#00cc96\",\"#ab63fa\",\"#FFA15A\",\"#19d3f3\",\"#FF6692\",\"#B6E880\",\"#FF97FF\",\"#FECB52\"],\"font\":{\"color\":\"#2a3f5f\"},\"hovermode\":\"closest\",\"hoverlabel\":{\"align\":\"left\"},\"paper_bgcolor\":\"white\",\"plot_bgcolor\":\"#E5ECF6\",\"polar\":{\"bgcolor\":\"#E5ECF6\",\"angularaxis\":{\"gridcolor\":\"white\",\"linecolor\":\"white\",\"ticks\":\"\"},\"radialaxis\":{\"gridcolor\":\"white\",\"linecolor\":\"white\",\"ticks\":\"\"}},\"ternary\":{\"bgcolor\":\"#E5ECF6\",\"aaxis\":{\"gridcolor\":\"white\",\"linecolor\":\"white\",\"ticks\":\"\"},\"baxis\":{\"gridcolor\":\"white\",\"linecolor\":\"white\",\"ticks\":\"\"},\"caxis\":{\"gridcolor\":\"white\",\"linecolor\":\"white\",\"ticks\":\"\"}},\"coloraxis\":{\"colorbar\":{\"outlinewidth\":0,\"ticks\":\"\"}},\"colorscale\":{\"sequential\":[[0.0,\"#0d0887\"],[0.1111111111111111,\"#46039f\"],[0.2222222222222222,\"#7201a8\"],[0.3333333333333333,\"#9c179e\"],[0.4444444444444444,\"#bd3786\"],[0.5555555555555556,\"#d8576b\"],[0.6666666666666666,\"#ed7953\"],[0.7777777777777778,\"#fb9f3a\"],[0.8888888888888888,\"#fdca26\"],[1.0,\"#f0f921\"]],\"sequentialminus\":[[0.0,\"#0d0887\"],[0.1111111111111111,\"#46039f\"],[0.2222222222222222,\"#7201a8\"],[0.3333333333333333,\"#9c179e\"],[0.4444444444444444,\"#bd3786\"],[0.5555555555555556,\"#d8576b\"],[0.6666666666666666,\"#ed7953\"],[0.7777777777777778,\"#fb9f3a\"],[0.8888888888888888,\"#fdca26\"],[1.0,\"#f0f921\"]],\"diverging\":[[0,\"#8e0152\"],[0.1,\"#c51b7d\"],[0.2,\"#de77ae\"],[0.3,\"#f1b6da\"],[0.4,\"#fde0ef\"],[0.5,\"#f7f7f7\"],[0.6,\"#e6f5d0\"],[0.7,\"#b8e186\"],[0.8,\"#7fbc41\"],[0.9,\"#4d9221\"],[1,\"#276419\"]]},\"xaxis\":{\"gridcolor\":\"white\",\"linecolor\":\"white\",\"ticks\":\"\",\"title\":{\"standoff\":15},\"zerolinecolor\":\"white\",\"automargin\":true,\"zerolinewidth\":2},\"yaxis\":{\"gridcolor\":\"white\",\"linecolor\":\"white\",\"ticks\":\"\",\"title\":{\"standoff\":15},\"zerolinecolor\":\"white\",\"automargin\":true,\"zerolinewidth\":2},\"scene\":{\"xaxis\":{\"backgroundcolor\":\"#E5ECF6\",\"gridcolor\":\"white\",\"linecolor\":\"white\",\"showbackground\":true,\"ticks\":\"\",\"zerolinecolor\":\"white\",\"gridwidth\":2},\"yaxis\":{\"backgroundcolor\":\"#E5ECF6\",\"gridcolor\":\"white\",\"linecolor\":\"white\",\"showbackground\":true,\"ticks\":\"\",\"zerolinecolor\":\"white\",\"gridwidth\":2},\"zaxis\":{\"backgroundcolor\":\"#E5ECF6\",\"gridcolor\":\"white\",\"linecolor\":\"white\",\"showbackground\":true,\"ticks\":\"\",\"zerolinecolor\":\"white\",\"gridwidth\":2}},\"shapedefaults\":{\"line\":{\"color\":\"#2a3f5f\"}},\"annotationdefaults\":{\"arrowcolor\":\"#2a3f5f\",\"arrowhead\":0,\"arrowwidth\":1},\"geo\":{\"bgcolor\":\"white\",\"landcolor\":\"#E5ECF6\",\"subunitcolor\":\"white\",\"showland\":true,\"showlakes\":true,\"lakecolor\":\"white\"},\"title\":{\"x\":0.05},\"mapbox\":{\"style\":\"light\"}}},\"geo\":{\"domain\":{\"x\":[0.0,1.0],\"y\":[0.0,1.0]},\"center\":{},\"scope\":\"usa\"},\"legend\":{\"title\":{\"text\":\"Age_of_the_Person\"},\"tracegroupgap\":0},\"margin\":{\"t\":60},\"title\":{\"text\":\"Killings on Map\",\"x\":1}},                        {\"responsive\": true}                    ).then(function(){\n",
              "                            \n",
              "var gd = document.getElementById('36b80413-4594-4515-b65f-c74bfbf61575');\n",
              "var x = new MutationObserver(function (mutations, observer) {{\n",
              "        var display = window.getComputedStyle(gd).display;\n",
              "        if (!display || display === 'none') {{\n",
              "            console.log([gd, 'removed!']);\n",
              "            Plotly.purge(gd);\n",
              "            observer.disconnect();\n",
              "        }}\n",
              "}});\n",
              "\n",
              "// Listen for the removal of the full notebook cells\n",
              "var notebookContainer = gd.closest('#notebook-container');\n",
              "if (notebookContainer) {{\n",
              "    x.observe(notebookContainer, {childList: true});\n",
              "}}\n",
              "\n",
              "// Listen for the clearing of the current output cell\n",
              "var outputEl = gd.closest('.output');\n",
              "if (outputEl) {{\n",
              "    x.observe(outputEl, {childList: true});\n",
              "}}\n",
              "\n",
              "                        })                };                            </script>        </div>\n",
              "</body>\n",
              "</html>"
            ]
          },
          "metadata": {},
          "output_type": "display_data"
        }
      ],
      "source": [
        "fig = px.scatter_geo(DataFrame1,lat=\"latitude\",lon='longitude',color='Age_of_the_Person',scope='usa')\n",
        "fig.update_layout(title='Killings on Map',title_x=1)\n",
        "fig.show()"
      ]
    },
    {
      "cell_type": "code",
      "execution_count": null,
      "metadata": {
        "colab": {
          "base_uri": "https://localhost:8080/"
        },
        "id": "vYO3UJHM37Nd",
        "outputId": "96195994-9cac-49fc-cedc-dcca12d3c553"
      },
      "outputs": [
        {
          "data": {
            "text/plain": [
              "<Axes: xlabel='deaths', ylabel='city'>"
            ]
          },
          "execution_count": 48,
          "metadata": {},
          "output_type": "execute_result"
        },
        {
          "data": {
            "image/svg+xml": "<?xml version=\"1.0\" encoding=\"utf-8\" standalone=\"no\"?>\n<!DOCTYPE svg PUBLIC \"-//W3C//DTD SVG 1.1//EN\"\n  \"http://www.w3.org/Graphics/SVG/1.1/DTD/svg11.dtd\">\n<svg xmlns:xlink=\"http://www.w3.org/1999/xlink\" width=\"773.412812pt\" height=\"508.648487pt\" viewBox=\"0 0 773.412812 508.648487\" xmlns=\"http://www.w3.org/2000/svg\" version=\"1.1\">\n <metadata>\n  <rdf:RDF xmlns:dc=\"http://purl.org/dc/elements/1.1/\" xmlns:cc=\"http://creativecommons.org/ns#\" xmlns:rdf=\"http://www.w3.org/1999/02/22-rdf-syntax-ns#\">\n   <cc:Work>\n    <dc:type rdf:resource=\"http://purl.org/dc/dcmitype/StillImage\"/>\n    <dc:date>2023-05-01T22:47:40.713803</dc:date>\n    <dc:format>image/svg+xml</dc:format>\n    <dc:creator>\n     <cc:Agent>\n      <dc:title>Matplotlib v3.7.1, https://matplotlib.org/</dc:title>\n     </cc:Agent>\n    </dc:creator>\n   </cc:Work>\n  </rdf:RDF>\n </metadata>\n <defs>\n  <style type=\"text/css\">*{stroke-linejoin: round; stroke-linecap: butt}</style>\n </defs>\n <g id=\"figure_1\">\n  <g id=\"patch_1\">\n   <path d=\"M 0 508.648487 \nL 773.412812 508.648487 \nL 773.412812 0 \nL 0 0 \nz\n\" style=\"fill: #ffffff\"/>\n  </g>\n  <g id=\"axes_1\">\n   <g id=\"patch_2\">\n    <path d=\"M 113.352812 465.6888 \nL 766.212812 465.6888 \nL 766.212812 7.2 \nL 113.352812 7.2 \nz\n\" style=\"fill: #ffffff\"/>\n   </g>\n   <g id=\"matplotlib.axis_1\">\n    <g id=\"xtick_1\">\n     <g id=\"line2d_1\">\n      <path d=\"M 113.352812 465.6888 \nL 113.352812 7.2 \n\" clip-path=\"url(#p4e92bb9433)\" style=\"fill: none; stroke: #cccccc; stroke-linecap: round\"/>\n     </g>\n     <g id=\"text_1\">\n      <!-- 0 -->\n      <g style=\"fill: #262626\" transform=\"translate(109.853437 483.547081) scale(0.11 -0.11)\">\n       <defs>\n        <path id=\"DejaVuSans-30\" d=\"M 2034 4250 \nQ 1547 4250 1301 3770 \nQ 1056 3291 1056 2328 \nQ 1056 1369 1301 889 \nQ 1547 409 2034 409 \nQ 2525 409 2770 889 \nQ 3016 1369 3016 2328 \nQ 3016 3291 2770 3770 \nQ 2525 4250 2034 4250 \nz\nM 2034 4750 \nQ 2819 4750 3233 4129 \nQ 3647 3509 3647 2328 \nQ 3647 1150 3233 529 \nQ 2819 -91 2034 -91 \nQ 1250 -91 836 529 \nQ 422 1150 422 2328 \nQ 422 3509 836 4129 \nQ 1250 4750 2034 4750 \nz\n\" transform=\"scale(0.015625)\"/>\n       </defs>\n       <use xlink:href=\"#DejaVuSans-30\"/>\n      </g>\n     </g>\n    </g>\n    <g id=\"xtick_2\">\n     <g id=\"line2d_2\">\n      <path d=\"M 212.04669 465.6888 \nL 212.04669 7.2 \n\" clip-path=\"url(#p4e92bb9433)\" style=\"fill: none; stroke: #cccccc; stroke-linecap: round\"/>\n     </g>\n     <g id=\"text_2\">\n      <!-- 20 -->\n      <g style=\"fill: #262626\" transform=\"translate(205.04794 483.547081) scale(0.11 -0.11)\">\n       <defs>\n        <path id=\"DejaVuSans-32\" d=\"M 1228 531 \nL 3431 531 \nL 3431 0 \nL 469 0 \nL 469 531 \nQ 828 903 1448 1529 \nQ 2069 2156 2228 2338 \nQ 2531 2678 2651 2914 \nQ 2772 3150 2772 3378 \nQ 2772 3750 2511 3984 \nQ 2250 4219 1831 4219 \nQ 1534 4219 1204 4116 \nQ 875 4013 500 3803 \nL 500 4441 \nQ 881 4594 1212 4672 \nQ 1544 4750 1819 4750 \nQ 2544 4750 2975 4387 \nQ 3406 4025 3406 3419 \nQ 3406 3131 3298 2873 \nQ 3191 2616 2906 2266 \nQ 2828 2175 2409 1742 \nQ 1991 1309 1228 531 \nz\n\" transform=\"scale(0.015625)\"/>\n       </defs>\n       <use xlink:href=\"#DejaVuSans-32\"/>\n       <use xlink:href=\"#DejaVuSans-30\" x=\"63.623047\"/>\n      </g>\n     </g>\n    </g>\n    <g id=\"xtick_3\">\n     <g id=\"line2d_3\">\n      <path d=\"M 310.740568 465.6888 \nL 310.740568 7.2 \n\" clip-path=\"url(#p4e92bb9433)\" style=\"fill: none; stroke: #cccccc; stroke-linecap: round\"/>\n     </g>\n     <g id=\"text_3\">\n      <!-- 40 -->\n      <g style=\"fill: #262626\" transform=\"translate(303.741818 483.547081) scale(0.11 -0.11)\">\n       <defs>\n        <path id=\"DejaVuSans-34\" d=\"M 2419 4116 \nL 825 1625 \nL 2419 1625 \nL 2419 4116 \nz\nM 2253 4666 \nL 3047 4666 \nL 3047 1625 \nL 3713 1625 \nL 3713 1100 \nL 3047 1100 \nL 3047 0 \nL 2419 0 \nL 2419 1100 \nL 313 1100 \nL 313 1709 \nL 2253 4666 \nz\n\" transform=\"scale(0.015625)\"/>\n       </defs>\n       <use xlink:href=\"#DejaVuSans-34\"/>\n       <use xlink:href=\"#DejaVuSans-30\" x=\"63.623047\"/>\n      </g>\n     </g>\n    </g>\n    <g id=\"xtick_4\">\n     <g id=\"line2d_4\">\n      <path d=\"M 409.434445 465.6888 \nL 409.434445 7.2 \n\" clip-path=\"url(#p4e92bb9433)\" style=\"fill: none; stroke: #cccccc; stroke-linecap: round\"/>\n     </g>\n     <g id=\"text_4\">\n      <!-- 60 -->\n      <g style=\"fill: #262626\" transform=\"translate(402.435695 483.547081) scale(0.11 -0.11)\">\n       <defs>\n        <path id=\"DejaVuSans-36\" d=\"M 2113 2584 \nQ 1688 2584 1439 2293 \nQ 1191 2003 1191 1497 \nQ 1191 994 1439 701 \nQ 1688 409 2113 409 \nQ 2538 409 2786 701 \nQ 3034 994 3034 1497 \nQ 3034 2003 2786 2293 \nQ 2538 2584 2113 2584 \nz\nM 3366 4563 \nL 3366 3988 \nQ 3128 4100 2886 4159 \nQ 2644 4219 2406 4219 \nQ 1781 4219 1451 3797 \nQ 1122 3375 1075 2522 \nQ 1259 2794 1537 2939 \nQ 1816 3084 2150 3084 \nQ 2853 3084 3261 2657 \nQ 3669 2231 3669 1497 \nQ 3669 778 3244 343 \nQ 2819 -91 2113 -91 \nQ 1303 -91 875 529 \nQ 447 1150 447 2328 \nQ 447 3434 972 4092 \nQ 1497 4750 2381 4750 \nQ 2619 4750 2861 4703 \nQ 3103 4656 3366 4563 \nz\n\" transform=\"scale(0.015625)\"/>\n       </defs>\n       <use xlink:href=\"#DejaVuSans-36\"/>\n       <use xlink:href=\"#DejaVuSans-30\" x=\"63.623047\"/>\n      </g>\n     </g>\n    </g>\n    <g id=\"xtick_5\">\n     <g id=\"line2d_5\">\n      <path d=\"M 508.128323 465.6888 \nL 508.128323 7.2 \n\" clip-path=\"url(#p4e92bb9433)\" style=\"fill: none; stroke: #cccccc; stroke-linecap: round\"/>\n     </g>\n     <g id=\"text_5\">\n      <!-- 80 -->\n      <g style=\"fill: #262626\" transform=\"translate(501.129573 483.547081) scale(0.11 -0.11)\">\n       <defs>\n        <path id=\"DejaVuSans-38\" d=\"M 2034 2216 \nQ 1584 2216 1326 1975 \nQ 1069 1734 1069 1313 \nQ 1069 891 1326 650 \nQ 1584 409 2034 409 \nQ 2484 409 2743 651 \nQ 3003 894 3003 1313 \nQ 3003 1734 2745 1975 \nQ 2488 2216 2034 2216 \nz\nM 1403 2484 \nQ 997 2584 770 2862 \nQ 544 3141 544 3541 \nQ 544 4100 942 4425 \nQ 1341 4750 2034 4750 \nQ 2731 4750 3128 4425 \nQ 3525 4100 3525 3541 \nQ 3525 3141 3298 2862 \nQ 3072 2584 2669 2484 \nQ 3125 2378 3379 2068 \nQ 3634 1759 3634 1313 \nQ 3634 634 3220 271 \nQ 2806 -91 2034 -91 \nQ 1263 -91 848 271 \nQ 434 634 434 1313 \nQ 434 1759 690 2068 \nQ 947 2378 1403 2484 \nz\nM 1172 3481 \nQ 1172 3119 1398 2916 \nQ 1625 2713 2034 2713 \nQ 2441 2713 2670 2916 \nQ 2900 3119 2900 3481 \nQ 2900 3844 2670 4047 \nQ 2441 4250 2034 4250 \nQ 1625 4250 1398 4047 \nQ 1172 3844 1172 3481 \nz\n\" transform=\"scale(0.015625)\"/>\n       </defs>\n       <use xlink:href=\"#DejaVuSans-38\"/>\n       <use xlink:href=\"#DejaVuSans-30\" x=\"63.623047\"/>\n      </g>\n     </g>\n    </g>\n    <g id=\"xtick_6\">\n     <g id=\"line2d_6\">\n      <path d=\"M 606.8222 465.6888 \nL 606.8222 7.2 \n\" clip-path=\"url(#p4e92bb9433)\" style=\"fill: none; stroke: #cccccc; stroke-linecap: round\"/>\n     </g>\n     <g id=\"text_6\">\n      <!-- 100 -->\n      <g style=\"fill: #262626\" transform=\"translate(596.324075 483.547081) scale(0.11 -0.11)\">\n       <defs>\n        <path id=\"DejaVuSans-31\" d=\"M 794 531 \nL 1825 531 \nL 1825 4091 \nL 703 3866 \nL 703 4441 \nL 1819 4666 \nL 2450 4666 \nL 2450 531 \nL 3481 531 \nL 3481 0 \nL 794 0 \nL 794 531 \nz\n\" transform=\"scale(0.015625)\"/>\n       </defs>\n       <use xlink:href=\"#DejaVuSans-31\"/>\n       <use xlink:href=\"#DejaVuSans-30\" x=\"63.623047\"/>\n       <use xlink:href=\"#DejaVuSans-30\" x=\"127.246094\"/>\n      </g>\n     </g>\n    </g>\n    <g id=\"xtick_7\">\n     <g id=\"line2d_7\">\n      <path d=\"M 705.516078 465.6888 \nL 705.516078 7.2 \n\" clip-path=\"url(#p4e92bb9433)\" style=\"fill: none; stroke: #cccccc; stroke-linecap: round\"/>\n     </g>\n     <g id=\"text_7\">\n      <!-- 120 -->\n      <g style=\"fill: #262626\" transform=\"translate(695.017953 483.547081) scale(0.11 -0.11)\">\n       <use xlink:href=\"#DejaVuSans-31\"/>\n       <use xlink:href=\"#DejaVuSans-32\" x=\"63.623047\"/>\n       <use xlink:href=\"#DejaVuSans-30\" x=\"127.246094\"/>\n      </g>\n     </g>\n    </g>\n    <g id=\"text_8\">\n     <!-- deaths -->\n     <g style=\"fill: #262626\" transform=\"translate(419.324687 498.952862) scale(0.12 -0.12)\">\n      <defs>\n       <path id=\"DejaVuSans-64\" d=\"M 2906 2969 \nL 2906 4863 \nL 3481 4863 \nL 3481 0 \nL 2906 0 \nL 2906 525 \nQ 2725 213 2448 61 \nQ 2172 -91 1784 -91 \nQ 1150 -91 751 415 \nQ 353 922 353 1747 \nQ 353 2572 751 3078 \nQ 1150 3584 1784 3584 \nQ 2172 3584 2448 3432 \nQ 2725 3281 2906 2969 \nz\nM 947 1747 \nQ 947 1113 1208 752 \nQ 1469 391 1925 391 \nQ 2381 391 2643 752 \nQ 2906 1113 2906 1747 \nQ 2906 2381 2643 2742 \nQ 2381 3103 1925 3103 \nQ 1469 3103 1208 2742 \nQ 947 2381 947 1747 \nz\n\" transform=\"scale(0.015625)\"/>\n       <path id=\"DejaVuSans-65\" d=\"M 3597 1894 \nL 3597 1613 \nL 953 1613 \nQ 991 1019 1311 708 \nQ 1631 397 2203 397 \nQ 2534 397 2845 478 \nQ 3156 559 3463 722 \nL 3463 178 \nQ 3153 47 2828 -22 \nQ 2503 -91 2169 -91 \nQ 1331 -91 842 396 \nQ 353 884 353 1716 \nQ 353 2575 817 3079 \nQ 1281 3584 2069 3584 \nQ 2775 3584 3186 3129 \nQ 3597 2675 3597 1894 \nz\nM 3022 2063 \nQ 3016 2534 2758 2815 \nQ 2500 3097 2075 3097 \nQ 1594 3097 1305 2825 \nQ 1016 2553 972 2059 \nL 3022 2063 \nz\n\" transform=\"scale(0.015625)\"/>\n       <path id=\"DejaVuSans-61\" d=\"M 2194 1759 \nQ 1497 1759 1228 1600 \nQ 959 1441 959 1056 \nQ 959 750 1161 570 \nQ 1363 391 1709 391 \nQ 2188 391 2477 730 \nQ 2766 1069 2766 1631 \nL 2766 1759 \nL 2194 1759 \nz\nM 3341 1997 \nL 3341 0 \nL 2766 0 \nL 2766 531 \nQ 2569 213 2275 61 \nQ 1981 -91 1556 -91 \nQ 1019 -91 701 211 \nQ 384 513 384 1019 \nQ 384 1609 779 1909 \nQ 1175 2209 1959 2209 \nL 2766 2209 \nL 2766 2266 \nQ 2766 2663 2505 2880 \nQ 2244 3097 1772 3097 \nQ 1472 3097 1187 3025 \nQ 903 2953 641 2809 \nL 641 3341 \nQ 956 3463 1253 3523 \nQ 1550 3584 1831 3584 \nQ 2591 3584 2966 3190 \nQ 3341 2797 3341 1997 \nz\n\" transform=\"scale(0.015625)\"/>\n       <path id=\"DejaVuSans-74\" d=\"M 1172 4494 \nL 1172 3500 \nL 2356 3500 \nL 2356 3053 \nL 1172 3053 \nL 1172 1153 \nQ 1172 725 1289 603 \nQ 1406 481 1766 481 \nL 2356 481 \nL 2356 0 \nL 1766 0 \nQ 1100 0 847 248 \nQ 594 497 594 1153 \nL 594 3053 \nL 172 3053 \nL 172 3500 \nL 594 3500 \nL 594 4494 \nL 1172 4494 \nz\n\" transform=\"scale(0.015625)\"/>\n       <path id=\"DejaVuSans-68\" d=\"M 3513 2113 \nL 3513 0 \nL 2938 0 \nL 2938 2094 \nQ 2938 2591 2744 2837 \nQ 2550 3084 2163 3084 \nQ 1697 3084 1428 2787 \nQ 1159 2491 1159 1978 \nL 1159 0 \nL 581 0 \nL 581 4863 \nL 1159 4863 \nL 1159 2956 \nQ 1366 3272 1645 3428 \nQ 1925 3584 2291 3584 \nQ 2894 3584 3203 3211 \nQ 3513 2838 3513 2113 \nz\n\" transform=\"scale(0.015625)\"/>\n       <path id=\"DejaVuSans-73\" d=\"M 2834 3397 \nL 2834 2853 \nQ 2591 2978 2328 3040 \nQ 2066 3103 1784 3103 \nQ 1356 3103 1142 2972 \nQ 928 2841 928 2578 \nQ 928 2378 1081 2264 \nQ 1234 2150 1697 2047 \nL 1894 2003 \nQ 2506 1872 2764 1633 \nQ 3022 1394 3022 966 \nQ 3022 478 2636 193 \nQ 2250 -91 1575 -91 \nQ 1294 -91 989 -36 \nQ 684 19 347 128 \nL 347 722 \nQ 666 556 975 473 \nQ 1284 391 1588 391 \nQ 1994 391 2212 530 \nQ 2431 669 2431 922 \nQ 2431 1156 2273 1281 \nQ 2116 1406 1581 1522 \nL 1381 1569 \nQ 847 1681 609 1914 \nQ 372 2147 372 2553 \nQ 372 3047 722 3315 \nQ 1072 3584 1716 3584 \nQ 2034 3584 2315 3537 \nQ 2597 3491 2834 3397 \nz\n\" transform=\"scale(0.015625)\"/>\n      </defs>\n      <use xlink:href=\"#DejaVuSans-64\"/>\n      <use xlink:href=\"#DejaVuSans-65\" x=\"63.476562\"/>\n      <use xlink:href=\"#DejaVuSans-61\" x=\"125\"/>\n      <use xlink:href=\"#DejaVuSans-74\" x=\"186.279297\"/>\n      <use xlink:href=\"#DejaVuSans-68\" x=\"225.488281\"/>\n      <use xlink:href=\"#DejaVuSans-73\" x=\"288.867188\"/>\n     </g>\n    </g>\n   </g>\n   <g id=\"matplotlib.axis_2\">\n    <g id=\"ytick_1\">\n     <g id=\"text_9\">\n      <!-- Los Angeles -->\n      <g style=\"fill: #262626\" transform=\"translate(38.157031 22.841361) scale(0.11 -0.11)\">\n       <defs>\n        <path id=\"DejaVuSans-4c\" d=\"M 628 4666 \nL 1259 4666 \nL 1259 531 \nL 3531 531 \nL 3531 0 \nL 628 0 \nL 628 4666 \nz\n\" transform=\"scale(0.015625)\"/>\n        <path id=\"DejaVuSans-6f\" d=\"M 1959 3097 \nQ 1497 3097 1228 2736 \nQ 959 2375 959 1747 \nQ 959 1119 1226 758 \nQ 1494 397 1959 397 \nQ 2419 397 2687 759 \nQ 2956 1122 2956 1747 \nQ 2956 2369 2687 2733 \nQ 2419 3097 1959 3097 \nz\nM 1959 3584 \nQ 2709 3584 3137 3096 \nQ 3566 2609 3566 1747 \nQ 3566 888 3137 398 \nQ 2709 -91 1959 -91 \nQ 1206 -91 779 398 \nQ 353 888 353 1747 \nQ 353 2609 779 3096 \nQ 1206 3584 1959 3584 \nz\n\" transform=\"scale(0.015625)\"/>\n        <path id=\"DejaVuSans-20\" transform=\"scale(0.015625)\"/>\n        <path id=\"DejaVuSans-41\" d=\"M 2188 4044 \nL 1331 1722 \nL 3047 1722 \nL 2188 4044 \nz\nM 1831 4666 \nL 2547 4666 \nL 4325 0 \nL 3669 0 \nL 3244 1197 \nL 1141 1197 \nL 716 0 \nL 50 0 \nL 1831 4666 \nz\n\" transform=\"scale(0.015625)\"/>\n        <path id=\"DejaVuSans-6e\" d=\"M 3513 2113 \nL 3513 0 \nL 2938 0 \nL 2938 2094 \nQ 2938 2591 2744 2837 \nQ 2550 3084 2163 3084 \nQ 1697 3084 1428 2787 \nQ 1159 2491 1159 1978 \nL 1159 0 \nL 581 0 \nL 581 3500 \nL 1159 3500 \nL 1159 2956 \nQ 1366 3272 1645 3428 \nQ 1925 3584 2291 3584 \nQ 2894 3584 3203 3211 \nQ 3513 2838 3513 2113 \nz\n\" transform=\"scale(0.015625)\"/>\n        <path id=\"DejaVuSans-67\" d=\"M 2906 1791 \nQ 2906 2416 2648 2759 \nQ 2391 3103 1925 3103 \nQ 1463 3103 1205 2759 \nQ 947 2416 947 1791 \nQ 947 1169 1205 825 \nQ 1463 481 1925 481 \nQ 2391 481 2648 825 \nQ 2906 1169 2906 1791 \nz\nM 3481 434 \nQ 3481 -459 3084 -895 \nQ 2688 -1331 1869 -1331 \nQ 1566 -1331 1297 -1286 \nQ 1028 -1241 775 -1147 \nL 775 -588 \nQ 1028 -725 1275 -790 \nQ 1522 -856 1778 -856 \nQ 2344 -856 2625 -561 \nQ 2906 -266 2906 331 \nL 2906 616 \nQ 2728 306 2450 153 \nQ 2172 0 1784 0 \nQ 1141 0 747 490 \nQ 353 981 353 1791 \nQ 353 2603 747 3093 \nQ 1141 3584 1784 3584 \nQ 2172 3584 2450 3431 \nQ 2728 3278 2906 2969 \nL 2906 3500 \nL 3481 3500 \nL 3481 434 \nz\n\" transform=\"scale(0.015625)\"/>\n        <path id=\"DejaVuSans-6c\" d=\"M 603 4863 \nL 1178 4863 \nL 1178 0 \nL 603 0 \nL 603 4863 \nz\n\" transform=\"scale(0.015625)\"/>\n       </defs>\n       <use xlink:href=\"#DejaVuSans-4c\"/>\n       <use xlink:href=\"#DejaVuSans-6f\" x=\"53.962891\"/>\n       <use xlink:href=\"#DejaVuSans-73\" x=\"115.144531\"/>\n       <use xlink:href=\"#DejaVuSans-20\" x=\"167.244141\"/>\n       <use xlink:href=\"#DejaVuSans-41\" x=\"199.03125\"/>\n       <use xlink:href=\"#DejaVuSans-6e\" x=\"267.439453\"/>\n       <use xlink:href=\"#DejaVuSans-67\" x=\"330.818359\"/>\n       <use xlink:href=\"#DejaVuSans-65\" x=\"394.294922\"/>\n       <use xlink:href=\"#DejaVuSans-6c\" x=\"455.818359\"/>\n       <use xlink:href=\"#DejaVuSans-65\" x=\"483.601562\"/>\n       <use xlink:href=\"#DejaVuSans-73\" x=\"545.125\"/>\n      </g>\n     </g>\n    </g>\n    <g id=\"ytick_2\">\n     <g id=\"text_10\">\n      <!-- Phoenix -->\n      <g style=\"fill: #262626\" transform=\"translate(60.212031 45.765801) scale(0.11 -0.11)\">\n       <defs>\n        <path id=\"DejaVuSans-50\" d=\"M 1259 4147 \nL 1259 2394 \nL 2053 2394 \nQ 2494 2394 2734 2622 \nQ 2975 2850 2975 3272 \nQ 2975 3691 2734 3919 \nQ 2494 4147 2053 4147 \nL 1259 4147 \nz\nM 628 4666 \nL 2053 4666 \nQ 2838 4666 3239 4311 \nQ 3641 3956 3641 3272 \nQ 3641 2581 3239 2228 \nQ 2838 1875 2053 1875 \nL 1259 1875 \nL 1259 0 \nL 628 0 \nL 628 4666 \nz\n\" transform=\"scale(0.015625)\"/>\n        <path id=\"DejaVuSans-69\" d=\"M 603 3500 \nL 1178 3500 \nL 1178 0 \nL 603 0 \nL 603 3500 \nz\nM 603 4863 \nL 1178 4863 \nL 1178 4134 \nL 603 4134 \nL 603 4863 \nz\n\" transform=\"scale(0.015625)\"/>\n        <path id=\"DejaVuSans-78\" d=\"M 3513 3500 \nL 2247 1797 \nL 3578 0 \nL 2900 0 \nL 1881 1375 \nL 863 0 \nL 184 0 \nL 1544 1831 \nL 300 3500 \nL 978 3500 \nL 1906 2253 \nL 2834 3500 \nL 3513 3500 \nz\n\" transform=\"scale(0.015625)\"/>\n       </defs>\n       <use xlink:href=\"#DejaVuSans-50\"/>\n       <use xlink:href=\"#DejaVuSans-68\" x=\"60.302734\"/>\n       <use xlink:href=\"#DejaVuSans-6f\" x=\"123.681641\"/>\n       <use xlink:href=\"#DejaVuSans-65\" x=\"184.863281\"/>\n       <use xlink:href=\"#DejaVuSans-6e\" x=\"246.386719\"/>\n       <use xlink:href=\"#DejaVuSans-69\" x=\"309.765625\"/>\n       <use xlink:href=\"#DejaVuSans-78\" x=\"337.548828\"/>\n      </g>\n     </g>\n    </g>\n    <g id=\"ytick_3\">\n     <g id=\"text_11\">\n      <!-- Houston -->\n      <g style=\"fill: #262626\" transform=\"translate(58.134062 68.690241) scale(0.11 -0.11)\">\n       <defs>\n        <path id=\"DejaVuSans-48\" d=\"M 628 4666 \nL 1259 4666 \nL 1259 2753 \nL 3553 2753 \nL 3553 4666 \nL 4184 4666 \nL 4184 0 \nL 3553 0 \nL 3553 2222 \nL 1259 2222 \nL 1259 0 \nL 628 0 \nL 628 4666 \nz\n\" transform=\"scale(0.015625)\"/>\n        <path id=\"DejaVuSans-75\" d=\"M 544 1381 \nL 544 3500 \nL 1119 3500 \nL 1119 1403 \nQ 1119 906 1312 657 \nQ 1506 409 1894 409 \nQ 2359 409 2629 706 \nQ 2900 1003 2900 1516 \nL 2900 3500 \nL 3475 3500 \nL 3475 0 \nL 2900 0 \nL 2900 538 \nQ 2691 219 2414 64 \nQ 2138 -91 1772 -91 \nQ 1169 -91 856 284 \nQ 544 659 544 1381 \nz\nM 1991 3584 \nL 1991 3584 \nz\n\" transform=\"scale(0.015625)\"/>\n       </defs>\n       <use xlink:href=\"#DejaVuSans-48\"/>\n       <use xlink:href=\"#DejaVuSans-6f\" x=\"75.195312\"/>\n       <use xlink:href=\"#DejaVuSans-75\" x=\"136.376953\"/>\n       <use xlink:href=\"#DejaVuSans-73\" x=\"199.755859\"/>\n       <use xlink:href=\"#DejaVuSans-74\" x=\"251.855469\"/>\n       <use xlink:href=\"#DejaVuSans-6f\" x=\"291.064453\"/>\n       <use xlink:href=\"#DejaVuSans-6e\" x=\"352.246094\"/>\n      </g>\n     </g>\n    </g>\n    <g id=\"ytick_4\">\n     <g id=\"text_12\">\n      <!-- San Antonio -->\n      <g style=\"fill: #262626\" transform=\"translate(37.364688 91.614681) scale(0.11 -0.11)\">\n       <defs>\n        <path id=\"DejaVuSans-53\" d=\"M 3425 4513 \nL 3425 3897 \nQ 3066 4069 2747 4153 \nQ 2428 4238 2131 4238 \nQ 1616 4238 1336 4038 \nQ 1056 3838 1056 3469 \nQ 1056 3159 1242 3001 \nQ 1428 2844 1947 2747 \nL 2328 2669 \nQ 3034 2534 3370 2195 \nQ 3706 1856 3706 1288 \nQ 3706 609 3251 259 \nQ 2797 -91 1919 -91 \nQ 1588 -91 1214 -16 \nQ 841 59 441 206 \nL 441 856 \nQ 825 641 1194 531 \nQ 1563 422 1919 422 \nQ 2459 422 2753 634 \nQ 3047 847 3047 1241 \nQ 3047 1584 2836 1778 \nQ 2625 1972 2144 2069 \nL 1759 2144 \nQ 1053 2284 737 2584 \nQ 422 2884 422 3419 \nQ 422 4038 858 4394 \nQ 1294 4750 2059 4750 \nQ 2388 4750 2728 4690 \nQ 3069 4631 3425 4513 \nz\n\" transform=\"scale(0.015625)\"/>\n       </defs>\n       <use xlink:href=\"#DejaVuSans-53\"/>\n       <use xlink:href=\"#DejaVuSans-61\" x=\"63.476562\"/>\n       <use xlink:href=\"#DejaVuSans-6e\" x=\"124.755859\"/>\n       <use xlink:href=\"#DejaVuSans-20\" x=\"188.134766\"/>\n       <use xlink:href=\"#DejaVuSans-41\" x=\"219.921875\"/>\n       <use xlink:href=\"#DejaVuSans-6e\" x=\"288.330078\"/>\n       <use xlink:href=\"#DejaVuSans-74\" x=\"351.708984\"/>\n       <use xlink:href=\"#DejaVuSans-6f\" x=\"390.917969\"/>\n       <use xlink:href=\"#DejaVuSans-6e\" x=\"452.099609\"/>\n       <use xlink:href=\"#DejaVuSans-69\" x=\"515.478516\"/>\n       <use xlink:href=\"#DejaVuSans-6f\" x=\"543.261719\"/>\n      </g>\n     </g>\n    </g>\n    <g id=\"ytick_5\">\n     <g id=\"text_13\">\n      <!-- Las Vegas -->\n      <g style=\"fill: #262626\" transform=\"translate(48.861406 114.539121) scale(0.11 -0.11)\">\n       <defs>\n        <path id=\"DejaVuSans-56\" d=\"M 1831 0 \nL 50 4666 \nL 709 4666 \nL 2188 738 \nL 3669 4666 \nL 4325 4666 \nL 2547 0 \nL 1831 0 \nz\n\" transform=\"scale(0.015625)\"/>\n       </defs>\n       <use xlink:href=\"#DejaVuSans-4c\"/>\n       <use xlink:href=\"#DejaVuSans-61\" x=\"55.712891\"/>\n       <use xlink:href=\"#DejaVuSans-73\" x=\"116.992188\"/>\n       <use xlink:href=\"#DejaVuSans-20\" x=\"169.091797\"/>\n       <use xlink:href=\"#DejaVuSans-56\" x=\"200.878906\"/>\n       <use xlink:href=\"#DejaVuSans-65\" x=\"261.537109\"/>\n       <use xlink:href=\"#DejaVuSans-67\" x=\"323.060547\"/>\n       <use xlink:href=\"#DejaVuSans-61\" x=\"386.537109\"/>\n       <use xlink:href=\"#DejaVuSans-73\" x=\"447.816406\"/>\n      </g>\n     </g>\n    </g>\n    <g id=\"ytick_6\">\n     <g id=\"text_14\">\n      <!-- Albuquerque -->\n      <g style=\"fill: #262626\" transform=\"translate(33.542187 137.463561) scale(0.11 -0.11)\">\n       <defs>\n        <path id=\"DejaVuSans-62\" d=\"M 3116 1747 \nQ 3116 2381 2855 2742 \nQ 2594 3103 2138 3103 \nQ 1681 3103 1420 2742 \nQ 1159 2381 1159 1747 \nQ 1159 1113 1420 752 \nQ 1681 391 2138 391 \nQ 2594 391 2855 752 \nQ 3116 1113 3116 1747 \nz\nM 1159 2969 \nQ 1341 3281 1617 3432 \nQ 1894 3584 2278 3584 \nQ 2916 3584 3314 3078 \nQ 3713 2572 3713 1747 \nQ 3713 922 3314 415 \nQ 2916 -91 2278 -91 \nQ 1894 -91 1617 61 \nQ 1341 213 1159 525 \nL 1159 0 \nL 581 0 \nL 581 4863 \nL 1159 4863 \nL 1159 2969 \nz\n\" transform=\"scale(0.015625)\"/>\n        <path id=\"DejaVuSans-71\" d=\"M 947 1747 \nQ 947 1113 1208 752 \nQ 1469 391 1925 391 \nQ 2381 391 2643 752 \nQ 2906 1113 2906 1747 \nQ 2906 2381 2643 2742 \nQ 2381 3103 1925 3103 \nQ 1469 3103 1208 2742 \nQ 947 2381 947 1747 \nz\nM 2906 525 \nQ 2725 213 2448 61 \nQ 2172 -91 1784 -91 \nQ 1150 -91 751 415 \nQ 353 922 353 1747 \nQ 353 2572 751 3078 \nQ 1150 3584 1784 3584 \nQ 2172 3584 2448 3432 \nQ 2725 3281 2906 2969 \nL 2906 3500 \nL 3481 3500 \nL 3481 -1331 \nL 2906 -1331 \nL 2906 525 \nz\n\" transform=\"scale(0.015625)\"/>\n        <path id=\"DejaVuSans-72\" d=\"M 2631 2963 \nQ 2534 3019 2420 3045 \nQ 2306 3072 2169 3072 \nQ 1681 3072 1420 2755 \nQ 1159 2438 1159 1844 \nL 1159 0 \nL 581 0 \nL 581 3500 \nL 1159 3500 \nL 1159 2956 \nQ 1341 3275 1631 3429 \nQ 1922 3584 2338 3584 \nQ 2397 3584 2469 3576 \nQ 2541 3569 2628 3553 \nL 2631 2963 \nz\n\" transform=\"scale(0.015625)\"/>\n       </defs>\n       <use xlink:href=\"#DejaVuSans-41\"/>\n       <use xlink:href=\"#DejaVuSans-6c\" x=\"68.408203\"/>\n       <use xlink:href=\"#DejaVuSans-62\" x=\"96.191406\"/>\n       <use xlink:href=\"#DejaVuSans-75\" x=\"159.667969\"/>\n       <use xlink:href=\"#DejaVuSans-71\" x=\"223.046875\"/>\n       <use xlink:href=\"#DejaVuSans-75\" x=\"286.523438\"/>\n       <use xlink:href=\"#DejaVuSans-65\" x=\"349.902344\"/>\n       <use xlink:href=\"#DejaVuSans-72\" x=\"411.425781\"/>\n       <use xlink:href=\"#DejaVuSans-71\" x=\"450.789062\"/>\n       <use xlink:href=\"#DejaVuSans-75\" x=\"514.265625\"/>\n       <use xlink:href=\"#DejaVuSans-65\" x=\"577.644531\"/>\n      </g>\n     </g>\n    </g>\n    <g id=\"ytick_7\">\n     <g id=\"text_15\">\n      <!-- Chicago -->\n      <g style=\"fill: #262626\" transform=\"translate(59.641406 160.388001) scale(0.11 -0.11)\">\n       <defs>\n        <path id=\"DejaVuSans-43\" d=\"M 4122 4306 \nL 4122 3641 \nQ 3803 3938 3442 4084 \nQ 3081 4231 2675 4231 \nQ 1875 4231 1450 3742 \nQ 1025 3253 1025 2328 \nQ 1025 1406 1450 917 \nQ 1875 428 2675 428 \nQ 3081 428 3442 575 \nQ 3803 722 4122 1019 \nL 4122 359 \nQ 3791 134 3420 21 \nQ 3050 -91 2638 -91 \nQ 1578 -91 968 557 \nQ 359 1206 359 2328 \nQ 359 3453 968 4101 \nQ 1578 4750 2638 4750 \nQ 3056 4750 3426 4639 \nQ 3797 4528 4122 4306 \nz\n\" transform=\"scale(0.015625)\"/>\n        <path id=\"DejaVuSans-63\" d=\"M 3122 3366 \nL 3122 2828 \nQ 2878 2963 2633 3030 \nQ 2388 3097 2138 3097 \nQ 1578 3097 1268 2742 \nQ 959 2388 959 1747 \nQ 959 1106 1268 751 \nQ 1578 397 2138 397 \nQ 2388 397 2633 464 \nQ 2878 531 3122 666 \nL 3122 134 \nQ 2881 22 2623 -34 \nQ 2366 -91 2075 -91 \nQ 1284 -91 818 406 \nQ 353 903 353 1747 \nQ 353 2603 823 3093 \nQ 1294 3584 2113 3584 \nQ 2378 3584 2631 3529 \nQ 2884 3475 3122 3366 \nz\n\" transform=\"scale(0.015625)\"/>\n       </defs>\n       <use xlink:href=\"#DejaVuSans-43\"/>\n       <use xlink:href=\"#DejaVuSans-68\" x=\"69.824219\"/>\n       <use xlink:href=\"#DejaVuSans-69\" x=\"133.203125\"/>\n       <use xlink:href=\"#DejaVuSans-63\" x=\"160.986328\"/>\n       <use xlink:href=\"#DejaVuSans-61\" x=\"215.966797\"/>\n       <use xlink:href=\"#DejaVuSans-67\" x=\"277.246094\"/>\n       <use xlink:href=\"#DejaVuSans-6f\" x=\"340.722656\"/>\n      </g>\n     </g>\n    </g>\n    <g id=\"ytick_8\">\n     <g id=\"text_16\">\n      <!-- Columbus -->\n      <g style=\"fill: #262626\" transform=\"translate(49.014375 183.312441) scale(0.11 -0.11)\">\n       <defs>\n        <path id=\"DejaVuSans-6d\" d=\"M 3328 2828 \nQ 3544 3216 3844 3400 \nQ 4144 3584 4550 3584 \nQ 5097 3584 5394 3201 \nQ 5691 2819 5691 2113 \nL 5691 0 \nL 5113 0 \nL 5113 2094 \nQ 5113 2597 4934 2840 \nQ 4756 3084 4391 3084 \nQ 3944 3084 3684 2787 \nQ 3425 2491 3425 1978 \nL 3425 0 \nL 2847 0 \nL 2847 2094 \nQ 2847 2600 2669 2842 \nQ 2491 3084 2119 3084 \nQ 1678 3084 1418 2786 \nQ 1159 2488 1159 1978 \nL 1159 0 \nL 581 0 \nL 581 3500 \nL 1159 3500 \nL 1159 2956 \nQ 1356 3278 1631 3431 \nQ 1906 3584 2284 3584 \nQ 2666 3584 2933 3390 \nQ 3200 3197 3328 2828 \nz\n\" transform=\"scale(0.015625)\"/>\n       </defs>\n       <use xlink:href=\"#DejaVuSans-43\"/>\n       <use xlink:href=\"#DejaVuSans-6f\" x=\"69.824219\"/>\n       <use xlink:href=\"#DejaVuSans-6c\" x=\"131.005859\"/>\n       <use xlink:href=\"#DejaVuSans-75\" x=\"158.789062\"/>\n       <use xlink:href=\"#DejaVuSans-6d\" x=\"222.167969\"/>\n       <use xlink:href=\"#DejaVuSans-62\" x=\"319.580078\"/>\n       <use xlink:href=\"#DejaVuSans-75\" x=\"383.056641\"/>\n       <use xlink:href=\"#DejaVuSans-73\" x=\"446.435547\"/>\n      </g>\n     </g>\n    </g>\n    <g id=\"ytick_9\">\n     <g id=\"text_17\">\n      <!-- Denver -->\n      <g style=\"fill: #262626\" transform=\"translate(63.842031 206.236881) scale(0.11 -0.11)\">\n       <defs>\n        <path id=\"DejaVuSans-44\" d=\"M 1259 4147 \nL 1259 519 \nL 2022 519 \nQ 2988 519 3436 956 \nQ 3884 1394 3884 2338 \nQ 3884 3275 3436 3711 \nQ 2988 4147 2022 4147 \nL 1259 4147 \nz\nM 628 4666 \nL 1925 4666 \nQ 3281 4666 3915 4102 \nQ 4550 3538 4550 2338 \nQ 4550 1131 3912 565 \nQ 3275 0 1925 0 \nL 628 0 \nL 628 4666 \nz\n\" transform=\"scale(0.015625)\"/>\n        <path id=\"DejaVuSans-76\" d=\"M 191 3500 \nL 800 3500 \nL 1894 563 \nL 2988 3500 \nL 3597 3500 \nL 2284 0 \nL 1503 0 \nL 191 3500 \nz\n\" transform=\"scale(0.015625)\"/>\n       </defs>\n       <use xlink:href=\"#DejaVuSans-44\"/>\n       <use xlink:href=\"#DejaVuSans-65\" x=\"77.001953\"/>\n       <use xlink:href=\"#DejaVuSans-6e\" x=\"138.525391\"/>\n       <use xlink:href=\"#DejaVuSans-76\" x=\"201.904297\"/>\n       <use xlink:href=\"#DejaVuSans-65\" x=\"261.083984\"/>\n       <use xlink:href=\"#DejaVuSans-72\" x=\"322.607422\"/>\n      </g>\n     </g>\n    </g>\n    <g id=\"ytick_10\">\n     <g id=\"text_18\">\n      <!-- Jacksonville -->\n      <g style=\"fill: #262626\" transform=\"translate(39.569844 229.161321) scale(0.11 -0.11)\">\n       <defs>\n        <path id=\"DejaVuSans-4a\" d=\"M 628 4666 \nL 1259 4666 \nL 1259 325 \nQ 1259 -519 939 -900 \nQ 619 -1281 -91 -1281 \nL -331 -1281 \nL -331 -750 \nL -134 -750 \nQ 284 -750 456 -515 \nQ 628 -281 628 325 \nL 628 4666 \nz\n\" transform=\"scale(0.015625)\"/>\n        <path id=\"DejaVuSans-6b\" d=\"M 581 4863 \nL 1159 4863 \nL 1159 1991 \nL 2875 3500 \nL 3609 3500 \nL 1753 1863 \nL 3688 0 \nL 2938 0 \nL 1159 1709 \nL 1159 0 \nL 581 0 \nL 581 4863 \nz\n\" transform=\"scale(0.015625)\"/>\n       </defs>\n       <use xlink:href=\"#DejaVuSans-4a\"/>\n       <use xlink:href=\"#DejaVuSans-61\" x=\"29.492188\"/>\n       <use xlink:href=\"#DejaVuSans-63\" x=\"90.771484\"/>\n       <use xlink:href=\"#DejaVuSans-6b\" x=\"145.751953\"/>\n       <use xlink:href=\"#DejaVuSans-73\" x=\"203.662109\"/>\n       <use xlink:href=\"#DejaVuSans-6f\" x=\"255.761719\"/>\n       <use xlink:href=\"#DejaVuSans-6e\" x=\"316.943359\"/>\n       <use xlink:href=\"#DejaVuSans-76\" x=\"380.322266\"/>\n       <use xlink:href=\"#DejaVuSans-69\" x=\"439.501953\"/>\n       <use xlink:href=\"#DejaVuSans-6c\" x=\"467.285156\"/>\n       <use xlink:href=\"#DejaVuSans-6c\" x=\"495.068359\"/>\n       <use xlink:href=\"#DejaVuSans-65\" x=\"522.851562\"/>\n      </g>\n     </g>\n    </g>\n    <g id=\"ytick_11\">\n     <g id=\"text_19\">\n      <!-- Kansas City -->\n      <g style=\"fill: #262626\" transform=\"translate(39.862031 252.085761) scale(0.11 -0.11)\">\n       <defs>\n        <path id=\"DejaVuSans-4b\" d=\"M 628 4666 \nL 1259 4666 \nL 1259 2694 \nL 3353 4666 \nL 4166 4666 \nL 1850 2491 \nL 4331 0 \nL 3500 0 \nL 1259 2247 \nL 1259 0 \nL 628 0 \nL 628 4666 \nz\n\" transform=\"scale(0.015625)\"/>\n        <path id=\"DejaVuSans-79\" d=\"M 2059 -325 \nQ 1816 -950 1584 -1140 \nQ 1353 -1331 966 -1331 \nL 506 -1331 \nL 506 -850 \nL 844 -850 \nQ 1081 -850 1212 -737 \nQ 1344 -625 1503 -206 \nL 1606 56 \nL 191 3500 \nL 800 3500 \nL 1894 763 \nL 2988 3500 \nL 3597 3500 \nL 2059 -325 \nz\n\" transform=\"scale(0.015625)\"/>\n       </defs>\n       <use xlink:href=\"#DejaVuSans-4b\"/>\n       <use xlink:href=\"#DejaVuSans-61\" x=\"63.826172\"/>\n       <use xlink:href=\"#DejaVuSans-6e\" x=\"125.105469\"/>\n       <use xlink:href=\"#DejaVuSans-73\" x=\"188.484375\"/>\n       <use xlink:href=\"#DejaVuSans-61\" x=\"240.583984\"/>\n       <use xlink:href=\"#DejaVuSans-73\" x=\"301.863281\"/>\n       <use xlink:href=\"#DejaVuSans-20\" x=\"353.962891\"/>\n       <use xlink:href=\"#DejaVuSans-43\" x=\"385.75\"/>\n       <use xlink:href=\"#DejaVuSans-69\" x=\"455.574219\"/>\n       <use xlink:href=\"#DejaVuSans-74\" x=\"483.357422\"/>\n       <use xlink:href=\"#DejaVuSans-79\" x=\"522.566406\"/>\n      </g>\n     </g>\n    </g>\n    <g id=\"ytick_12\">\n     <g id=\"text_20\">\n      <!-- Tucson -->\n      <g style=\"fill: #262626\" transform=\"translate(66.34625 275.010201) scale(0.11 -0.11)\">\n       <defs>\n        <path id=\"DejaVuSans-54\" d=\"M -19 4666 \nL 3928 4666 \nL 3928 4134 \nL 2272 4134 \nL 2272 0 \nL 1638 0 \nL 1638 4134 \nL -19 4134 \nL -19 4666 \nz\n\" transform=\"scale(0.015625)\"/>\n       </defs>\n       <use xlink:href=\"#DejaVuSans-54\"/>\n       <use xlink:href=\"#DejaVuSans-75\" x=\"45.958984\"/>\n       <use xlink:href=\"#DejaVuSans-63\" x=\"109.337891\"/>\n       <use xlink:href=\"#DejaVuSans-73\" x=\"164.318359\"/>\n       <use xlink:href=\"#DejaVuSans-6f\" x=\"216.417969\"/>\n       <use xlink:href=\"#DejaVuSans-6e\" x=\"277.599609\"/>\n      </g>\n     </g>\n    </g>\n    <g id=\"ytick_13\">\n     <g id=\"text_21\">\n      <!-- New York -->\n      <g style=\"fill: #262626\" transform=\"translate(53.479687 297.934641) scale(0.11 -0.11)\">\n       <defs>\n        <path id=\"DejaVuSans-4e\" d=\"M 628 4666 \nL 1478 4666 \nL 3547 763 \nL 3547 4666 \nL 4159 4666 \nL 4159 0 \nL 3309 0 \nL 1241 3903 \nL 1241 0 \nL 628 0 \nL 628 4666 \nz\n\" transform=\"scale(0.015625)\"/>\n        <path id=\"DejaVuSans-77\" d=\"M 269 3500 \nL 844 3500 \nL 1563 769 \nL 2278 3500 \nL 2956 3500 \nL 3675 769 \nL 4391 3500 \nL 4966 3500 \nL 4050 0 \nL 3372 0 \nL 2619 2869 \nL 1863 0 \nL 1184 0 \nL 269 3500 \nz\n\" transform=\"scale(0.015625)\"/>\n        <path id=\"DejaVuSans-59\" d=\"M -13 4666 \nL 666 4666 \nL 1959 2747 \nL 3244 4666 \nL 3922 4666 \nL 2272 2222 \nL 2272 0 \nL 1638 0 \nL 1638 2222 \nL -13 4666 \nz\n\" transform=\"scale(0.015625)\"/>\n       </defs>\n       <use xlink:href=\"#DejaVuSans-4e\"/>\n       <use xlink:href=\"#DejaVuSans-65\" x=\"74.804688\"/>\n       <use xlink:href=\"#DejaVuSans-77\" x=\"136.328125\"/>\n       <use xlink:href=\"#DejaVuSans-20\" x=\"218.115234\"/>\n       <use xlink:href=\"#DejaVuSans-59\" x=\"249.902344\"/>\n       <use xlink:href=\"#DejaVuSans-6f\" x=\"297.736328\"/>\n       <use xlink:href=\"#DejaVuSans-72\" x=\"358.917969\"/>\n       <use xlink:href=\"#DejaVuSans-6b\" x=\"400.03125\"/>\n      </g>\n     </g>\n    </g>\n    <g id=\"ytick_14\">\n     <g id=\"text_22\">\n      <!-- Oklahoma City -->\n      <g style=\"fill: #262626\" transform=\"translate(22.81375 320.859081) scale(0.11 -0.11)\">\n       <defs>\n        <path id=\"DejaVuSans-4f\" d=\"M 2522 4238 \nQ 1834 4238 1429 3725 \nQ 1025 3213 1025 2328 \nQ 1025 1447 1429 934 \nQ 1834 422 2522 422 \nQ 3209 422 3611 934 \nQ 4013 1447 4013 2328 \nQ 4013 3213 3611 3725 \nQ 3209 4238 2522 4238 \nz\nM 2522 4750 \nQ 3503 4750 4090 4092 \nQ 4678 3434 4678 2328 \nQ 4678 1225 4090 567 \nQ 3503 -91 2522 -91 \nQ 1538 -91 948 565 \nQ 359 1222 359 2328 \nQ 359 3434 948 4092 \nQ 1538 4750 2522 4750 \nz\n\" transform=\"scale(0.015625)\"/>\n       </defs>\n       <use xlink:href=\"#DejaVuSans-4f\"/>\n       <use xlink:href=\"#DejaVuSans-6b\" x=\"78.710938\"/>\n       <use xlink:href=\"#DejaVuSans-6c\" x=\"136.621094\"/>\n       <use xlink:href=\"#DejaVuSans-61\" x=\"164.404297\"/>\n       <use xlink:href=\"#DejaVuSans-68\" x=\"225.683594\"/>\n       <use xlink:href=\"#DejaVuSans-6f\" x=\"289.0625\"/>\n       <use xlink:href=\"#DejaVuSans-6d\" x=\"350.244141\"/>\n       <use xlink:href=\"#DejaVuSans-61\" x=\"447.65625\"/>\n       <use xlink:href=\"#DejaVuSans-20\" x=\"508.935547\"/>\n       <use xlink:href=\"#DejaVuSans-43\" x=\"540.722656\"/>\n       <use xlink:href=\"#DejaVuSans-69\" x=\"610.546875\"/>\n       <use xlink:href=\"#DejaVuSans-74\" x=\"638.330078\"/>\n       <use xlink:href=\"#DejaVuSans-79\" x=\"677.539062\"/>\n      </g>\n     </g>\n    </g>\n    <g id=\"ytick_15\">\n     <g id=\"text_23\">\n      <!-- Austin -->\n      <g style=\"fill: #262626\" transform=\"translate(69.287031 343.783521) scale(0.11 -0.11)\">\n       <use xlink:href=\"#DejaVuSans-41\"/>\n       <use xlink:href=\"#DejaVuSans-75\" x=\"68.408203\"/>\n       <use xlink:href=\"#DejaVuSans-73\" x=\"131.787109\"/>\n       <use xlink:href=\"#DejaVuSans-74\" x=\"183.886719\"/>\n       <use xlink:href=\"#DejaVuSans-69\" x=\"223.095703\"/>\n       <use xlink:href=\"#DejaVuSans-6e\" x=\"250.878906\"/>\n      </g>\n     </g>\n    </g>\n    <g id=\"ytick_16\">\n     <g id=\"text_24\">\n      <!-- Miami -->\n      <g style=\"fill: #262626\" transform=\"translate(70.794375 366.707961) scale(0.11 -0.11)\">\n       <defs>\n        <path id=\"DejaVuSans-4d\" d=\"M 628 4666 \nL 1569 4666 \nL 2759 1491 \nL 3956 4666 \nL 4897 4666 \nL 4897 0 \nL 4281 0 \nL 4281 4097 \nL 3078 897 \nL 2444 897 \nL 1241 4097 \nL 1241 0 \nL 628 0 \nL 628 4666 \nz\n\" transform=\"scale(0.015625)\"/>\n       </defs>\n       <use xlink:href=\"#DejaVuSans-4d\"/>\n       <use xlink:href=\"#DejaVuSans-69\" x=\"86.279297\"/>\n       <use xlink:href=\"#DejaVuSans-61\" x=\"114.0625\"/>\n       <use xlink:href=\"#DejaVuSans-6d\" x=\"175.341797\"/>\n       <use xlink:href=\"#DejaVuSans-69\" x=\"272.753906\"/>\n      </g>\n     </g>\n    </g>\n    <g id=\"ytick_17\">\n     <g id=\"text_25\">\n      <!-- St. Louis -->\n      <g style=\"fill: #262626\" transform=\"translate(57.140625 389.632401) scale(0.11 -0.11)\">\n       <defs>\n        <path id=\"DejaVuSans-2e\" d=\"M 684 794 \nL 1344 794 \nL 1344 0 \nL 684 0 \nL 684 794 \nz\n\" transform=\"scale(0.015625)\"/>\n       </defs>\n       <use xlink:href=\"#DejaVuSans-53\"/>\n       <use xlink:href=\"#DejaVuSans-74\" x=\"63.476562\"/>\n       <use xlink:href=\"#DejaVuSans-2e\" x=\"102.685547\"/>\n       <use xlink:href=\"#DejaVuSans-20\" x=\"134.472656\"/>\n       <use xlink:href=\"#DejaVuSans-4c\" x=\"166.259766\"/>\n       <use xlink:href=\"#DejaVuSans-6f\" x=\"220.222656\"/>\n       <use xlink:href=\"#DejaVuSans-75\" x=\"281.404297\"/>\n       <use xlink:href=\"#DejaVuSans-69\" x=\"344.783203\"/>\n       <use xlink:href=\"#DejaVuSans-73\" x=\"372.566406\"/>\n      </g>\n     </g>\n    </g>\n    <g id=\"ytick_18\">\n     <g id=\"text_26\">\n      <!-- Bakersfield -->\n      <g style=\"fill: #262626\" transform=\"translate(42.837187 412.556841) scale(0.11 -0.11)\">\n       <defs>\n        <path id=\"DejaVuSans-42\" d=\"M 1259 2228 \nL 1259 519 \nL 2272 519 \nQ 2781 519 3026 730 \nQ 3272 941 3272 1375 \nQ 3272 1813 3026 2020 \nQ 2781 2228 2272 2228 \nL 1259 2228 \nz\nM 1259 4147 \nL 1259 2741 \nL 2194 2741 \nQ 2656 2741 2882 2914 \nQ 3109 3088 3109 3444 \nQ 3109 3797 2882 3972 \nQ 2656 4147 2194 4147 \nL 1259 4147 \nz\nM 628 4666 \nL 2241 4666 \nQ 2963 4666 3353 4366 \nQ 3744 4066 3744 3513 \nQ 3744 3084 3544 2831 \nQ 3344 2578 2956 2516 \nQ 3422 2416 3680 2098 \nQ 3938 1781 3938 1306 \nQ 3938 681 3513 340 \nQ 3088 0 2303 0 \nL 628 0 \nL 628 4666 \nz\n\" transform=\"scale(0.015625)\"/>\n        <path id=\"DejaVuSans-66\" d=\"M 2375 4863 \nL 2375 4384 \nL 1825 4384 \nQ 1516 4384 1395 4259 \nQ 1275 4134 1275 3809 \nL 1275 3500 \nL 2222 3500 \nL 2222 3053 \nL 1275 3053 \nL 1275 0 \nL 697 0 \nL 697 3053 \nL 147 3053 \nL 147 3500 \nL 697 3500 \nL 697 3744 \nQ 697 4328 969 4595 \nQ 1241 4863 1831 4863 \nL 2375 4863 \nz\n\" transform=\"scale(0.015625)\"/>\n       </defs>\n       <use xlink:href=\"#DejaVuSans-42\"/>\n       <use xlink:href=\"#DejaVuSans-61\" x=\"68.603516\"/>\n       <use xlink:href=\"#DejaVuSans-6b\" x=\"129.882812\"/>\n       <use xlink:href=\"#DejaVuSans-65\" x=\"184.167969\"/>\n       <use xlink:href=\"#DejaVuSans-72\" x=\"245.691406\"/>\n       <use xlink:href=\"#DejaVuSans-73\" x=\"286.804688\"/>\n       <use xlink:href=\"#DejaVuSans-66\" x=\"338.904297\"/>\n       <use xlink:href=\"#DejaVuSans-69\" x=\"374.109375\"/>\n       <use xlink:href=\"#DejaVuSans-65\" x=\"401.892578\"/>\n       <use xlink:href=\"#DejaVuSans-6c\" x=\"463.416016\"/>\n       <use xlink:href=\"#DejaVuSans-64\" x=\"491.199219\"/>\n      </g>\n     </g>\n    </g>\n    <g id=\"ytick_19\">\n     <g id=\"text_27\">\n      <!-- Tulsa -->\n      <g style=\"fill: #262626\" transform=\"translate(76.299531 435.481281) scale(0.11 -0.11)\">\n       <use xlink:href=\"#DejaVuSans-54\"/>\n       <use xlink:href=\"#DejaVuSans-75\" x=\"45.958984\"/>\n       <use xlink:href=\"#DejaVuSans-6c\" x=\"109.337891\"/>\n       <use xlink:href=\"#DejaVuSans-73\" x=\"137.121094\"/>\n       <use xlink:href=\"#DejaVuSans-61\" x=\"189.220703\"/>\n      </g>\n     </g>\n    </g>\n    <g id=\"ytick_20\">\n     <g id=\"text_28\">\n      <!-- Atlanta -->\n      <g style=\"fill: #262626\" transform=\"translate(64.386875 458.405721) scale(0.11 -0.11)\">\n       <use xlink:href=\"#DejaVuSans-41\"/>\n       <use xlink:href=\"#DejaVuSans-74\" x=\"66.658203\"/>\n       <use xlink:href=\"#DejaVuSans-6c\" x=\"105.867188\"/>\n       <use xlink:href=\"#DejaVuSans-61\" x=\"133.650391\"/>\n       <use xlink:href=\"#DejaVuSans-6e\" x=\"194.929688\"/>\n       <use xlink:href=\"#DejaVuSans-74\" x=\"258.308594\"/>\n       <use xlink:href=\"#DejaVuSans-61\" x=\"297.517578\"/>\n      </g>\n     </g>\n    </g>\n    <g id=\"text_29\">\n     <!-- city -->\n     <g style=\"fill: #262626\" transform=\"translate(16.318125 247.313775) rotate(-90) scale(0.12 -0.12)\">\n      <use xlink:href=\"#DejaVuSans-63\"/>\n      <use xlink:href=\"#DejaVuSans-69\" x=\"54.980469\"/>\n      <use xlink:href=\"#DejaVuSans-74\" x=\"82.763672\"/>\n      <use xlink:href=\"#DejaVuSans-79\" x=\"121.972656\"/>\n     </g>\n    </g>\n   </g>\n   <g id=\"patch_3\">\n    <path d=\"M 113.352812 9.492444 \nL 735.124241 9.492444 \nL 735.124241 27.831996 \nL 113.352812 27.831996 \nz\n\" clip-path=\"url(#p4e92bb9433)\" style=\"fill: #ea96a3; stroke: #ffffff; stroke-linejoin: miter\"/>\n   </g>\n   <g id=\"patch_4\">\n    <path d=\"M 113.352812 32.416884 \nL 611.756894 32.416884 \nL 611.756894 50.756436 \nL 113.352812 50.756436 \nz\n\" clip-path=\"url(#p4e92bb9433)\" style=\"fill: #e79683; stroke: #ffffff; stroke-linejoin: miter\"/>\n   </g>\n   <g id=\"patch_5\">\n    <path d=\"M 113.352812 55.341324 \nL 532.801792 55.341324 \nL 532.801792 73.680876 \nL 113.352812 73.680876 \nz\n\" clip-path=\"url(#p4e92bb9433)\" style=\"fill: #d7944e; stroke: #ffffff; stroke-linejoin: miter\"/>\n   </g>\n   <g id=\"patch_6\">\n    <path d=\"M 113.352812 78.265764 \nL 439.042608 78.265764 \nL 439.042608 96.605316 \nL 113.352812 96.605316 \nz\n\" clip-path=\"url(#p4e92bb9433)\" style=\"fill: #bf9a4a; stroke: #ffffff; stroke-linejoin: miter\"/>\n   </g>\n   <g id=\"patch_7\">\n    <path d=\"M 113.352812 101.190204 \nL 424.238527 101.190204 \nL 424.238527 119.529756 \nL 113.352812 119.529756 \nz\n\" clip-path=\"url(#p4e92bb9433)\" style=\"fill: #ab9e47; stroke: #ffffff; stroke-linejoin: miter\"/>\n   </g>\n   <g id=\"patch_8\">\n    <path d=\"M 113.352812 124.114644 \nL 374.891588 124.114644 \nL 374.891588 142.454196 \nL 113.352812 142.454196 \nz\n\" clip-path=\"url(#p4e92bb9433)\" style=\"fill: #98a246; stroke: #ffffff; stroke-linejoin: miter\"/>\n   </g>\n   <g id=\"patch_9\">\n    <path d=\"M 113.352812 147.039084 \nL 355.152812 147.039084 \nL 355.152812 165.378636 \nL 113.352812 165.378636 \nz\n\" clip-path=\"url(#p4e92bb9433)\" style=\"fill: #7fa946; stroke: #ffffff; stroke-linejoin: miter\"/>\n   </g>\n   <g id=\"patch_10\">\n    <path d=\"M 113.352812 169.963524 \nL 340.348731 169.963524 \nL 340.348731 188.303076 \nL 113.352812 188.303076 \nz\n\" clip-path=\"url(#p4e92bb9433)\" style=\"fill: #48b052; stroke: #ffffff; stroke-linejoin: miter\"/>\n   </g>\n   <g id=\"patch_11\">\n    <path d=\"M 113.352812 192.887964 \nL 340.348731 192.887964 \nL 340.348731 211.227516 \nL 113.352812 211.227516 \nz\n\" clip-path=\"url(#p4e92bb9433)\" style=\"fill: #49ae83; stroke: #ffffff; stroke-linejoin: miter\"/>\n   </g>\n   <g id=\"patch_12\">\n    <path d=\"M 113.352812 215.812404 \nL 325.544649 215.812404 \nL 325.544649 234.151956 \nL 113.352812 234.151956 \nz\n\" clip-path=\"url(#p4e92bb9433)\" style=\"fill: #4aad96; stroke: #ffffff; stroke-linejoin: miter\"/>\n   </g>\n   <g id=\"patch_13\">\n    <path d=\"M 113.352812 238.736844 \nL 325.544649 238.736844 \nL 325.544649 257.076396 \nL 113.352812 257.076396 \nz\n\" clip-path=\"url(#p4e92bb9433)\" style=\"fill: #4baba4; stroke: #ffffff; stroke-linejoin: miter\"/>\n   </g>\n   <g id=\"patch_14\">\n    <path d=\"M 113.352812 261.661284 \nL 325.544649 261.661284 \nL 325.544649 280.000836 \nL 113.352812 280.000836 \nz\n\" clip-path=\"url(#p4e92bb9433)\" style=\"fill: #4dabb2; stroke: #ffffff; stroke-linejoin: miter\"/>\n   </g>\n   <g id=\"patch_15\">\n    <path d=\"M 113.352812 284.585724 \nL 310.740568 284.585724 \nL 310.740568 302.925276 \nL 113.352812 302.925276 \nz\n\" clip-path=\"url(#p4e92bb9433)\" style=\"fill: #50acc3; stroke: #ffffff; stroke-linejoin: miter\"/>\n   </g>\n   <g id=\"patch_16\">\n    <path d=\"M 113.352812 307.510164 \nL 305.805874 307.510164 \nL 305.805874 325.849716 \nL 113.352812 325.849716 \nz\n\" clip-path=\"url(#p4e92bb9433)\" style=\"fill: #56addb; stroke: #ffffff; stroke-linejoin: miter\"/>\n   </g>\n   <g id=\"patch_17\">\n    <path d=\"M 113.352812 330.434604 \nL 300.87118 330.434604 \nL 300.87118 348.774156 \nL 113.352812 348.774156 \nz\n\" clip-path=\"url(#p4e92bb9433)\" style=\"fill: #94aee8; stroke: #ffffff; stroke-linejoin: miter\"/>\n   </g>\n   <g id=\"patch_18\">\n    <path d=\"M 113.352812 353.359044 \nL 295.936486 353.359044 \nL 295.936486 371.698596 \nL 113.352812 371.698596 \nz\n\" clip-path=\"url(#p4e92bb9433)\" style=\"fill: #b6a8eb; stroke: #ffffff; stroke-linejoin: miter\"/>\n   </g>\n   <g id=\"patch_19\">\n    <path d=\"M 113.352812 376.283484 \nL 281.132404 376.283484 \nL 281.132404 394.623036 \nL 113.352812 394.623036 \nz\n\" clip-path=\"url(#p4e92bb9433)\" style=\"fill: #ce9be9; stroke: #ffffff; stroke-linejoin: miter\"/>\n   </g>\n   <g id=\"patch_20\">\n    <path d=\"M 113.352812 399.207924 \nL 281.132404 399.207924 \nL 281.132404 417.547476 \nL 113.352812 417.547476 \nz\n\" clip-path=\"url(#p4e92bb9433)\" style=\"fill: #e689e4; stroke: #ffffff; stroke-linejoin: miter\"/>\n   </g>\n   <g id=\"patch_21\">\n    <path d=\"M 113.352812 422.132364 \nL 276.19771 422.132364 \nL 276.19771 440.471916 \nL 113.352812 440.471916 \nz\n\" clip-path=\"url(#p4e92bb9433)\" style=\"fill: #e88fcc; stroke: #ffffff; stroke-linejoin: miter\"/>\n   </g>\n   <g id=\"patch_22\">\n    <path d=\"M 113.352812 445.056804 \nL 266.328323 445.056804 \nL 266.328323 463.396356 \nL 113.352812 463.396356 \nz\n\" clip-path=\"url(#p4e92bb9433)\" style=\"fill: #e993b9; stroke: #ffffff; stroke-linejoin: miter\"/>\n   </g>\n   <g id=\"line2d_8\">\n    <path clip-path=\"url(#p4e92bb9433)\" style=\"fill: none; stroke: #424242; stroke-width: 2.7; stroke-linecap: round\"/>\n   </g>\n   <g id=\"line2d_9\">\n    <path clip-path=\"url(#p4e92bb9433)\" style=\"fill: none; stroke: #424242; stroke-width: 2.7; stroke-linecap: round\"/>\n   </g>\n   <g id=\"line2d_10\">\n    <path clip-path=\"url(#p4e92bb9433)\" style=\"fill: none; stroke: #424242; stroke-width: 2.7; stroke-linecap: round\"/>\n   </g>\n   <g id=\"line2d_11\">\n    <path clip-path=\"url(#p4e92bb9433)\" style=\"fill: none; stroke: #424242; stroke-width: 2.7; stroke-linecap: round\"/>\n   </g>\n   <g id=\"line2d_12\">\n    <path clip-path=\"url(#p4e92bb9433)\" style=\"fill: none; stroke: #424242; stroke-width: 2.7; stroke-linecap: round\"/>\n   </g>\n   <g id=\"line2d_13\">\n    <path clip-path=\"url(#p4e92bb9433)\" style=\"fill: none; stroke: #424242; stroke-width: 2.7; stroke-linecap: round\"/>\n   </g>\n   <g id=\"line2d_14\">\n    <path clip-path=\"url(#p4e92bb9433)\" style=\"fill: none; stroke: #424242; stroke-width: 2.7; stroke-linecap: round\"/>\n   </g>\n   <g id=\"line2d_15\">\n    <path clip-path=\"url(#p4e92bb9433)\" style=\"fill: none; stroke: #424242; stroke-width: 2.7; stroke-linecap: round\"/>\n   </g>\n   <g id=\"line2d_16\">\n    <path clip-path=\"url(#p4e92bb9433)\" style=\"fill: none; stroke: #424242; stroke-width: 2.7; stroke-linecap: round\"/>\n   </g>\n   <g id=\"line2d_17\">\n    <path clip-path=\"url(#p4e92bb9433)\" style=\"fill: none; stroke: #424242; stroke-width: 2.7; stroke-linecap: round\"/>\n   </g>\n   <g id=\"line2d_18\">\n    <path clip-path=\"url(#p4e92bb9433)\" style=\"fill: none; stroke: #424242; stroke-width: 2.7; stroke-linecap: round\"/>\n   </g>\n   <g id=\"line2d_19\">\n    <path clip-path=\"url(#p4e92bb9433)\" style=\"fill: none; stroke: #424242; stroke-width: 2.7; stroke-linecap: round\"/>\n   </g>\n   <g id=\"line2d_20\">\n    <path clip-path=\"url(#p4e92bb9433)\" style=\"fill: none; stroke: #424242; stroke-width: 2.7; stroke-linecap: round\"/>\n   </g>\n   <g id=\"line2d_21\">\n    <path clip-path=\"url(#p4e92bb9433)\" style=\"fill: none; stroke: #424242; stroke-width: 2.7; stroke-linecap: round\"/>\n   </g>\n   <g id=\"line2d_22\">\n    <path clip-path=\"url(#p4e92bb9433)\" style=\"fill: none; stroke: #424242; stroke-width: 2.7; stroke-linecap: round\"/>\n   </g>\n   <g id=\"line2d_23\">\n    <path clip-path=\"url(#p4e92bb9433)\" style=\"fill: none; stroke: #424242; stroke-width: 2.7; stroke-linecap: round\"/>\n   </g>\n   <g id=\"line2d_24\">\n    <path clip-path=\"url(#p4e92bb9433)\" style=\"fill: none; stroke: #424242; stroke-width: 2.7; stroke-linecap: round\"/>\n   </g>\n   <g id=\"line2d_25\">\n    <path clip-path=\"url(#p4e92bb9433)\" style=\"fill: none; stroke: #424242; stroke-width: 2.7; stroke-linecap: round\"/>\n   </g>\n   <g id=\"line2d_26\">\n    <path clip-path=\"url(#p4e92bb9433)\" style=\"fill: none; stroke: #424242; stroke-width: 2.7; stroke-linecap: round\"/>\n   </g>\n   <g id=\"line2d_27\">\n    <path clip-path=\"url(#p4e92bb9433)\" style=\"fill: none; stroke: #424242; stroke-width: 2.7; stroke-linecap: round\"/>\n   </g>\n   <g id=\"patch_23\">\n    <path d=\"M 113.352812 465.6888 \nL 113.352812 7.2 \n\" style=\"fill: none; stroke: #cccccc; stroke-width: 1.25; stroke-linejoin: miter; stroke-linecap: square\"/>\n   </g>\n   <g id=\"patch_24\">\n    <path d=\"M 766.212812 465.6888 \nL 766.212812 7.2 \n\" style=\"fill: none; stroke: #cccccc; stroke-width: 1.25; stroke-linejoin: miter; stroke-linecap: square\"/>\n   </g>\n   <g id=\"patch_25\">\n    <path d=\"M 113.352812 465.6888 \nL 766.212812 465.6888 \n\" style=\"fill: none; stroke: #cccccc; stroke-width: 1.25; stroke-linejoin: miter; stroke-linecap: square\"/>\n   </g>\n   <g id=\"patch_26\">\n    <path d=\"M 113.352812 7.2 \nL 766.212812 7.2 \n\" style=\"fill: none; stroke: #cccccc; stroke-width: 1.25; stroke-linejoin: miter; stroke-linecap: square\"/>\n   </g>\n  </g>\n </g>\n <defs>\n  <clipPath id=\"p4e92bb9433\">\n   <rect x=\"113.352812\" y=\"7.2\" width=\"652.86\" height=\"458.4888\"/>\n  </clipPath>\n </defs>\n</svg>\n",
            "text/plain": [
              "<Figure size 1170x827 with 1 Axes>"
            ]
          },
          "metadata": {},
          "output_type": "display_data"
        }
      ],
      "source": [
        "forPlat=DataFrame1['city'].value_counts().reset_index().rename(columns={'index':'city','city':'deaths'}).head(20)\n",
        "\n",
        "sns.barplot(y=\"city\", x=\"deaths\", data=forPlat,\n",
        "            label=\"deaths\")"
      ]
    },
    {
      "cell_type": "code",
      "execution_count": null,
      "metadata": {
        "id": "9Rpi7ehIwXjx"
      },
      "outputs": [],
      "source": [
        "DataFrame2=DataFrame1.replace({\"state\": states})"
      ]
    },
    {
      "cell_type": "code",
      "execution_count": null,
      "metadata": {
        "id": "u9HX0v0zwajB"
      },
      "outputs": [],
      "source": [
        "State_Date = DataFrame2[['date','state']]\n",
        "State_List = [i for i in State_Date['state']]"
      ]
    },
    {
      "cell_type": "code",
      "execution_count": null,
      "metadata": {
        "colab": {
          "base_uri": "https://localhost:8080/"
        },
        "id": "jDAkW-GPwhGG",
        "outputId": "41ed94fa-d5b5-4249-ae6d-18a743c245ca"
      },
      "outputs": [
        {
          "name": "stdout",
          "output_type": "stream",
          "text": [
            "[[208, 'Washington'], [125, 'Oregon'], [71, 'Kansas'], [1110, 'California'], [278, 'Colorado'], [211, 'Oklahoma'], [349, 'Arizona'], [47, 'Iowa'], [159, 'Pennsylvania'], [690, 'Texas'], [219, 'Ohio'], [154, 'Louisiana'], [48, 'Montana'], [88, 'Utah'], [109, 'Arkansas'], [155, 'Illinois'], [124, 'Nevada'], [165, 'New Mexico'], [86, 'Minnesota'], [198, 'Missouri'], [134, 'Virginia'], [87, 'New Jersey'], [140, 'Indiana'], [141, 'Kentucky'], [54, 'Massachusetts'], [22, 'New Hampshire'], [493, 'Florida'], [62, 'Idaho'], [107, 'Maryland'], [38, 'Nebraska'], [129, 'Michigan'], [289, 'Georgia'], [208, 'Tennessee'], [218, 'North Carolina'], [52, 'Alaska'], [140, 'New York'], [33, 'Maine'], [145, 'Alabama'], [98, 'Mississippi'], [115, 'Wisconsin'], [124, 'South Carolina'], [17, 'Delaware'], [24, 'District of Columbia'], [71, 'West Virginia'], [37, 'Hawaii'], [25, 'Wyoming'], [18, 'North Dakota'], [22, 'Connecticut'], [27, 'South Dakota'], [12, 'Vermont'], [6, 'Rhode Island']]\n"
          ]
        }
      ],
      "source": [
        "State_Counts = []\n",
        "for state in DataFrame2['state'].unique():\n",
        "    State_Counts.append([State_List.count(state),state])\n",
        "print(State_Counts)"
      ]
    },
    {
      "cell_type": "code",
      "execution_count": null,
      "metadata": {
        "id": "PMXq67yXwjQq"
      },
      "outputs": [],
      "source": [
        "State_Counts.sort(reverse=True)"
      ]
    },
    {
      "cell_type": "code",
      "execution_count": null,
      "metadata": {
        "colab": {
          "base_uri": "https://localhost:8080/"
        },
        "id": "lgnAQ4VVws8P",
        "outputId": "09884835-62f8-4f5e-a213-d91d3fcdfc2a"
      },
      "outputs": [
        {
          "name": "stdout",
          "output_type": "stream",
          "text": [
            "[[1110, 'California'], [690, 'Texas'], [493, 'Florida'], [349, 'Arizona'], [289, 'Georgia'], [278, 'Colorado'], [219, 'Ohio'], [218, 'North Carolina'], [211, 'Oklahoma'], [208, 'Washington'], [208, 'Tennessee'], [198, 'Missouri'], [165, 'New Mexico'], [159, 'Pennsylvania'], [155, 'Illinois'], [154, 'Louisiana'], [145, 'Alabama'], [141, 'Kentucky'], [140, 'New York'], [140, 'Indiana'], [134, 'Virginia'], [129, 'Michigan'], [125, 'Oregon'], [124, 'South Carolina'], [124, 'Nevada'], [115, 'Wisconsin'], [109, 'Arkansas'], [107, 'Maryland'], [98, 'Mississippi'], [88, 'Utah'], [87, 'New Jersey'], [86, 'Minnesota'], [71, 'West Virginia'], [71, 'Kansas'], [62, 'Idaho'], [54, 'Massachusetts'], [52, 'Alaska'], [48, 'Montana'], [47, 'Iowa'], [38, 'Nebraska'], [37, 'Hawaii'], [33, 'Maine'], [27, 'South Dakota'], [25, 'Wyoming'], [24, 'District of Columbia'], [22, 'New Hampshire'], [22, 'Connecticut'], [18, 'North Dakota'], [17, 'Delaware'], [12, 'Vermont'], [6, 'Rhode Island']]\n"
          ]
        }
      ],
      "source": [
        "print(State_Counts)"
      ]
    },
    {
      "cell_type": "code",
      "execution_count": null,
      "metadata": {
        "colab": {
          "base_uri": "https://localhost:8080/"
        },
        "id": "Az3vXWdUwvj-",
        "outputId": "253bf0a0-c29b-4d87-da24-051b8a850d5a"
      },
      "outputs": [
        {
          "name": "stdout",
          "output_type": "stream",
          "text": [
            "0.0012426840882118128\n",
            "0.0028211237511857295\n",
            "0.003928238279188193\n",
            "0.002792552389710841\n",
            "0.0007174024251993956\n",
            "0.0034189300458421536\n",
            "0.0070557266720036906\n",
            "0.002323616750477119\n",
            "0.0024354234700581377\n",
            "0.002367193849504336\n",
            "0.0024611712937930006\n",
            "0.0027480419250404528\n",
            "0.00296330448096598\n",
            "0.0016233239180546085\n",
            "0.00299304703202273\n",
            "0.004300350220521959\n",
            "0.004864746118796822\n",
            "0.0033014507517874995\n",
            "0.002090521679232444\n",
            "0.003534038202952974\n",
            "0.0006161517458519684\n",
            "0.0026054980233424455\n",
            "0.0012189210519776247\n",
            "0.0007856827648700284\n",
            "0.002409601360439975\n",
            "0.004521029852925247\n",
            "0.0019752306081735043\n",
            "0.0018757588151028562\n",
            "0.004890125218868284\n",
            "0.0009791323266952665\n",
            "0.0017722203303816202\n",
            "0.0015747368955448815\n",
            "0.0019220296633244707\n",
            "0.0020989335203245607\n",
            "0.0036190104961264964\n",
            "0.0027687317012458626\n",
            "0.002437668641178266\n",
            "0.005342662144731958\n",
            "0.001980377046568997\n",
            "0.0032865668288151427\n",
            "0.0032330964573100635\n",
            "0.0012933748028731368\n",
            "0.0005672160469201114\n",
            "0.0015356687641044926\n",
            "0.0014920582817012386\n",
            "0.00786830460925284\n",
            "0.004092029749056276\n",
            "0.0017567809159855696\n",
            "0.0\n",
            "0.003160051923463094\n",
            "0.003070498648980594\n",
            "0.003071349214177584\n"
          ]
        }
      ],
      "source": [
        "for states in census_DataFrame.index:\n",
        "  print((State_List.count(states)/census_DataFrame.at[states,'Total Population'])*100)"
      ]
    },
    {
      "cell_type": "code",
      "execution_count": null,
      "metadata": {
        "colab": {
          "base_uri": "https://localhost:8080/"
        },
        "id": "PHCcr4wdw4Bu",
        "outputId": "154f7212-cd0b-4362-dce3-6ab85bd33267"
      },
      "outputs": [
        {
          "name": "stdout",
          "output_type": "stream",
          "text": [
            "0.0012426840882118128\n",
            "0.0028211237511857295\n",
            "0.003928238279188193\n",
            "0.002792552389710841\n",
            "0.0007174024251993956\n",
            "0.0034189300458421536\n",
            "0.0070557266720036906\n",
            "0.002323616750477119\n",
            "0.0024354234700581377\n",
            "0.002367193849504336\n",
            "0.0024611712937930006\n",
            "0.0027480419250404528\n",
            "0.00296330448096598\n",
            "0.0016233239180546085\n",
            "0.00299304703202273\n",
            "0.004300350220521959\n",
            "0.004864746118796822\n",
            "0.0033014507517874995\n",
            "0.002090521679232444\n",
            "0.003534038202952974\n",
            "0.0006161517458519684\n",
            "0.0026054980233424455\n",
            "0.0012189210519776247\n",
            "0.0007856827648700284\n",
            "0.002409601360439975\n",
            "0.004521029852925247\n",
            "0.0019752306081735043\n",
            "0.0018757588151028562\n",
            "0.004890125218868284\n",
            "0.0009791323266952665\n",
            "0.0017722203303816202\n",
            "0.0015747368955448815\n",
            "0.0019220296633244707\n",
            "0.0020989335203245607\n",
            "0.0036190104961264964\n",
            "0.0027687317012458626\n",
            "0.002437668641178266\n",
            "0.005342662144731958\n",
            "0.001980377046568997\n",
            "0.0032865668288151427\n",
            "0.0032330964573100635\n",
            "0.0012933748028731368\n",
            "0.0005672160469201114\n",
            "0.0015356687641044926\n",
            "0.0014920582817012386\n",
            "0.00786830460925284\n",
            "0.004092029749056276\n",
            "0.0017567809159855696\n",
            "0.0\n",
            "0.003160051923463094\n",
            "0.003070498648980594\n",
            "0.003071349214177584\n"
          ]
        }
      ],
      "source": [
        "for states in census_DataFrame.index:\n",
        "  print(((State_List.count(states)/census_DataFrame.at[states,'Total Population'])*100))\n",
        "  census_DataFrame.at[states,'safty ratio'] = ((State_List.count(states)/census_DataFrame.at[states,'Total Population'])*100)"
      ]
    },
    {
      "cell_type": "code",
      "execution_count": null,
      "metadata": {
        "id": "YKliLAp7xBks"
      },
      "outputs": [],
      "source": [
        "tempo = census_DataFrame[['safty ratio']]"
      ]
    },
    {
      "cell_type": "code",
      "execution_count": null,
      "metadata": {
        "colab": {
          "base_uri": "https://localhost:8080/"
        },
        "id": "WCNd7S0xxFMf",
        "outputId": "1205005f-a8db-4787-e6b8-318168af957e"
      },
      "outputs": [
        {
          "data": {
            "image/svg+xml": "<?xml version=\"1.0\" encoding=\"utf-8\" standalone=\"no\"?>\n<!DOCTYPE svg PUBLIC \"-//W3C//DTD SVG 1.1//EN\"\n  \"http://www.w3.org/Graphics/SVG/1.1/DTD/svg11.dtd\">\n<svg xmlns:xlink=\"http://www.w3.org/1999/xlink\" width=\"985.549531pt\" height=\"866.145937pt\" viewBox=\"0 0 985.549531 866.145937\" xmlns=\"http://www.w3.org/2000/svg\" version=\"1.1\">\n <metadata>\n  <rdf:RDF xmlns:dc=\"http://purl.org/dc/elements/1.1/\" xmlns:cc=\"http://creativecommons.org/ns#\" xmlns:rdf=\"http://www.w3.org/1999/02/22-rdf-syntax-ns#\">\n   <cc:Work>\n    <dc:type rdf:resource=\"http://purl.org/dc/dcmitype/StillImage\"/>\n    <dc:date>2023-05-01T22:47:41.683704</dc:date>\n    <dc:format>image/svg+xml</dc:format>\n    <dc:creator>\n     <cc:Agent>\n      <dc:title>Matplotlib v3.7.1, https://matplotlib.org/</dc:title>\n     </cc:Agent>\n    </dc:creator>\n   </cc:Work>\n  </rdf:RDF>\n </metadata>\n <defs>\n  <style type=\"text/css\">*{stroke-linejoin: round; stroke-linecap: butt}</style>\n </defs>\n <g id=\"figure_1\">\n  <g id=\"patch_1\">\n   <path d=\"M 0 866.145937 \nL 985.549531 866.145937 \nL 985.549531 0 \nL 0 0 \nz\n\" style=\"fill: #ffffff\"/>\n  </g>\n  <g id=\"axes_1\">\n   <g id=\"patch_2\">\n    <path d=\"M 141.349531 838.8 \nL 978.349531 838.8 \nL 978.349531 7.2 \nL 141.349531 7.2 \nz\n\" style=\"fill: #ffffff\"/>\n   </g>\n   <g id=\"matplotlib.axis_1\">\n    <g id=\"xtick_1\">\n     <g id=\"line2d_1\">\n      <path d=\"M 141.349531 838.8 \nL 141.349531 7.2 \n\" clip-path=\"url(#pa7ad93e3f6)\" style=\"fill: none; stroke: #cccccc; stroke-linecap: round\"/>\n     </g>\n     <g id=\"text_1\">\n      <!-- 0.000 -->\n      <g style=\"fill: #262626\" transform=\"translate(125.604063 856.658281) scale(0.11 -0.11)\">\n       <defs>\n        <path id=\"DejaVuSans-30\" d=\"M 2034 4250 \nQ 1547 4250 1301 3770 \nQ 1056 3291 1056 2328 \nQ 1056 1369 1301 889 \nQ 1547 409 2034 409 \nQ 2525 409 2770 889 \nQ 3016 1369 3016 2328 \nQ 3016 3291 2770 3770 \nQ 2525 4250 2034 4250 \nz\nM 2034 4750 \nQ 2819 4750 3233 4129 \nQ 3647 3509 3647 2328 \nQ 3647 1150 3233 529 \nQ 2819 -91 2034 -91 \nQ 1250 -91 836 529 \nQ 422 1150 422 2328 \nQ 422 3509 836 4129 \nQ 1250 4750 2034 4750 \nz\n\" transform=\"scale(0.015625)\"/>\n        <path id=\"DejaVuSans-2e\" d=\"M 684 794 \nL 1344 794 \nL 1344 0 \nL 684 0 \nL 684 794 \nz\n\" transform=\"scale(0.015625)\"/>\n       </defs>\n       <use xlink:href=\"#DejaVuSans-30\"/>\n       <use xlink:href=\"#DejaVuSans-2e\" x=\"63.623047\"/>\n       <use xlink:href=\"#DejaVuSans-30\" x=\"95.410156\"/>\n       <use xlink:href=\"#DejaVuSans-30\" x=\"159.033203\"/>\n       <use xlink:href=\"#DejaVuSans-30\" x=\"222.65625\"/>\n      </g>\n     </g>\n    </g>\n    <g id=\"xtick_2\">\n     <g id=\"line2d_2\">\n      <path d=\"M 242.660156 838.8 \nL 242.660156 7.2 \n\" clip-path=\"url(#pa7ad93e3f6)\" style=\"fill: none; stroke: #cccccc; stroke-linecap: round\"/>\n     </g>\n     <g id=\"text_2\">\n      <!-- 0.001 -->\n      <g style=\"fill: #262626\" transform=\"translate(226.914687 856.658281) scale(0.11 -0.11)\">\n       <defs>\n        <path id=\"DejaVuSans-31\" d=\"M 794 531 \nL 1825 531 \nL 1825 4091 \nL 703 3866 \nL 703 4441 \nL 1819 4666 \nL 2450 4666 \nL 2450 531 \nL 3481 531 \nL 3481 0 \nL 794 0 \nL 794 531 \nz\n\" transform=\"scale(0.015625)\"/>\n       </defs>\n       <use xlink:href=\"#DejaVuSans-30\"/>\n       <use xlink:href=\"#DejaVuSans-2e\" x=\"63.623047\"/>\n       <use xlink:href=\"#DejaVuSans-30\" x=\"95.410156\"/>\n       <use xlink:href=\"#DejaVuSans-30\" x=\"159.033203\"/>\n       <use xlink:href=\"#DejaVuSans-31\" x=\"222.65625\"/>\n      </g>\n     </g>\n    </g>\n    <g id=\"xtick_3\">\n     <g id=\"line2d_3\">\n      <path d=\"M 343.970781 838.8 \nL 343.970781 7.2 \n\" clip-path=\"url(#pa7ad93e3f6)\" style=\"fill: none; stroke: #cccccc; stroke-linecap: round\"/>\n     </g>\n     <g id=\"text_3\">\n      <!-- 0.002 -->\n      <g style=\"fill: #262626\" transform=\"translate(328.225312 856.658281) scale(0.11 -0.11)\">\n       <defs>\n        <path id=\"DejaVuSans-32\" d=\"M 1228 531 \nL 3431 531 \nL 3431 0 \nL 469 0 \nL 469 531 \nQ 828 903 1448 1529 \nQ 2069 2156 2228 2338 \nQ 2531 2678 2651 2914 \nQ 2772 3150 2772 3378 \nQ 2772 3750 2511 3984 \nQ 2250 4219 1831 4219 \nQ 1534 4219 1204 4116 \nQ 875 4013 500 3803 \nL 500 4441 \nQ 881 4594 1212 4672 \nQ 1544 4750 1819 4750 \nQ 2544 4750 2975 4387 \nQ 3406 4025 3406 3419 \nQ 3406 3131 3298 2873 \nQ 3191 2616 2906 2266 \nQ 2828 2175 2409 1742 \nQ 1991 1309 1228 531 \nz\n\" transform=\"scale(0.015625)\"/>\n       </defs>\n       <use xlink:href=\"#DejaVuSans-30\"/>\n       <use xlink:href=\"#DejaVuSans-2e\" x=\"63.623047\"/>\n       <use xlink:href=\"#DejaVuSans-30\" x=\"95.410156\"/>\n       <use xlink:href=\"#DejaVuSans-30\" x=\"159.033203\"/>\n       <use xlink:href=\"#DejaVuSans-32\" x=\"222.65625\"/>\n      </g>\n     </g>\n    </g>\n    <g id=\"xtick_4\">\n     <g id=\"line2d_4\">\n      <path d=\"M 445.281406 838.8 \nL 445.281406 7.2 \n\" clip-path=\"url(#pa7ad93e3f6)\" style=\"fill: none; stroke: #cccccc; stroke-linecap: round\"/>\n     </g>\n     <g id=\"text_4\">\n      <!-- 0.003 -->\n      <g style=\"fill: #262626\" transform=\"translate(429.535937 856.658281) scale(0.11 -0.11)\">\n       <defs>\n        <path id=\"DejaVuSans-33\" d=\"M 2597 2516 \nQ 3050 2419 3304 2112 \nQ 3559 1806 3559 1356 \nQ 3559 666 3084 287 \nQ 2609 -91 1734 -91 \nQ 1441 -91 1130 -33 \nQ 819 25 488 141 \nL 488 750 \nQ 750 597 1062 519 \nQ 1375 441 1716 441 \nQ 2309 441 2620 675 \nQ 2931 909 2931 1356 \nQ 2931 1769 2642 2001 \nQ 2353 2234 1838 2234 \nL 1294 2234 \nL 1294 2753 \nL 1863 2753 \nQ 2328 2753 2575 2939 \nQ 2822 3125 2822 3475 \nQ 2822 3834 2567 4026 \nQ 2313 4219 1838 4219 \nQ 1578 4219 1281 4162 \nQ 984 4106 628 3988 \nL 628 4550 \nQ 988 4650 1302 4700 \nQ 1616 4750 1894 4750 \nQ 2613 4750 3031 4423 \nQ 3450 4097 3450 3541 \nQ 3450 3153 3228 2886 \nQ 3006 2619 2597 2516 \nz\n\" transform=\"scale(0.015625)\"/>\n       </defs>\n       <use xlink:href=\"#DejaVuSans-30\"/>\n       <use xlink:href=\"#DejaVuSans-2e\" x=\"63.623047\"/>\n       <use xlink:href=\"#DejaVuSans-30\" x=\"95.410156\"/>\n       <use xlink:href=\"#DejaVuSans-30\" x=\"159.033203\"/>\n       <use xlink:href=\"#DejaVuSans-33\" x=\"222.65625\"/>\n      </g>\n     </g>\n    </g>\n    <g id=\"xtick_5\">\n     <g id=\"line2d_5\">\n      <path d=\"M 546.592031 838.8 \nL 546.592031 7.2 \n\" clip-path=\"url(#pa7ad93e3f6)\" style=\"fill: none; stroke: #cccccc; stroke-linecap: round\"/>\n     </g>\n     <g id=\"text_5\">\n      <!-- 0.004 -->\n      <g style=\"fill: #262626\" transform=\"translate(530.846562 856.658281) scale(0.11 -0.11)\">\n       <defs>\n        <path id=\"DejaVuSans-34\" d=\"M 2419 4116 \nL 825 1625 \nL 2419 1625 \nL 2419 4116 \nz\nM 2253 4666 \nL 3047 4666 \nL 3047 1625 \nL 3713 1625 \nL 3713 1100 \nL 3047 1100 \nL 3047 0 \nL 2419 0 \nL 2419 1100 \nL 313 1100 \nL 313 1709 \nL 2253 4666 \nz\n\" transform=\"scale(0.015625)\"/>\n       </defs>\n       <use xlink:href=\"#DejaVuSans-30\"/>\n       <use xlink:href=\"#DejaVuSans-2e\" x=\"63.623047\"/>\n       <use xlink:href=\"#DejaVuSans-30\" x=\"95.410156\"/>\n       <use xlink:href=\"#DejaVuSans-30\" x=\"159.033203\"/>\n       <use xlink:href=\"#DejaVuSans-34\" x=\"222.65625\"/>\n      </g>\n     </g>\n    </g>\n    <g id=\"xtick_6\">\n     <g id=\"line2d_6\">\n      <path d=\"M 647.902656 838.8 \nL 647.902656 7.2 \n\" clip-path=\"url(#pa7ad93e3f6)\" style=\"fill: none; stroke: #cccccc; stroke-linecap: round\"/>\n     </g>\n     <g id=\"text_6\">\n      <!-- 0.005 -->\n      <g style=\"fill: #262626\" transform=\"translate(632.157187 856.658281) scale(0.11 -0.11)\">\n       <defs>\n        <path id=\"DejaVuSans-35\" d=\"M 691 4666 \nL 3169 4666 \nL 3169 4134 \nL 1269 4134 \nL 1269 2991 \nQ 1406 3038 1543 3061 \nQ 1681 3084 1819 3084 \nQ 2600 3084 3056 2656 \nQ 3513 2228 3513 1497 \nQ 3513 744 3044 326 \nQ 2575 -91 1722 -91 \nQ 1428 -91 1123 -41 \nQ 819 9 494 109 \nL 494 744 \nQ 775 591 1075 516 \nQ 1375 441 1709 441 \nQ 2250 441 2565 725 \nQ 2881 1009 2881 1497 \nQ 2881 1984 2565 2268 \nQ 2250 2553 1709 2553 \nQ 1456 2553 1204 2497 \nQ 953 2441 691 2322 \nL 691 4666 \nz\n\" transform=\"scale(0.015625)\"/>\n       </defs>\n       <use xlink:href=\"#DejaVuSans-30\"/>\n       <use xlink:href=\"#DejaVuSans-2e\" x=\"63.623047\"/>\n       <use xlink:href=\"#DejaVuSans-30\" x=\"95.410156\"/>\n       <use xlink:href=\"#DejaVuSans-30\" x=\"159.033203\"/>\n       <use xlink:href=\"#DejaVuSans-35\" x=\"222.65625\"/>\n      </g>\n     </g>\n    </g>\n    <g id=\"xtick_7\">\n     <g id=\"line2d_7\">\n      <path d=\"M 749.213281 838.8 \nL 749.213281 7.2 \n\" clip-path=\"url(#pa7ad93e3f6)\" style=\"fill: none; stroke: #cccccc; stroke-linecap: round\"/>\n     </g>\n     <g id=\"text_7\">\n      <!-- 0.006 -->\n      <g style=\"fill: #262626\" transform=\"translate(733.467812 856.658281) scale(0.11 -0.11)\">\n       <defs>\n        <path id=\"DejaVuSans-36\" d=\"M 2113 2584 \nQ 1688 2584 1439 2293 \nQ 1191 2003 1191 1497 \nQ 1191 994 1439 701 \nQ 1688 409 2113 409 \nQ 2538 409 2786 701 \nQ 3034 994 3034 1497 \nQ 3034 2003 2786 2293 \nQ 2538 2584 2113 2584 \nz\nM 3366 4563 \nL 3366 3988 \nQ 3128 4100 2886 4159 \nQ 2644 4219 2406 4219 \nQ 1781 4219 1451 3797 \nQ 1122 3375 1075 2522 \nQ 1259 2794 1537 2939 \nQ 1816 3084 2150 3084 \nQ 2853 3084 3261 2657 \nQ 3669 2231 3669 1497 \nQ 3669 778 3244 343 \nQ 2819 -91 2113 -91 \nQ 1303 -91 875 529 \nQ 447 1150 447 2328 \nQ 447 3434 972 4092 \nQ 1497 4750 2381 4750 \nQ 2619 4750 2861 4703 \nQ 3103 4656 3366 4563 \nz\n\" transform=\"scale(0.015625)\"/>\n       </defs>\n       <use xlink:href=\"#DejaVuSans-30\"/>\n       <use xlink:href=\"#DejaVuSans-2e\" x=\"63.623047\"/>\n       <use xlink:href=\"#DejaVuSans-30\" x=\"95.410156\"/>\n       <use xlink:href=\"#DejaVuSans-30\" x=\"159.033203\"/>\n       <use xlink:href=\"#DejaVuSans-36\" x=\"222.65625\"/>\n      </g>\n     </g>\n    </g>\n    <g id=\"xtick_8\">\n     <g id=\"line2d_8\">\n      <path d=\"M 850.523906 838.8 \nL 850.523906 7.2 \n\" clip-path=\"url(#pa7ad93e3f6)\" style=\"fill: none; stroke: #cccccc; stroke-linecap: round\"/>\n     </g>\n     <g id=\"text_8\">\n      <!-- 0.007 -->\n      <g style=\"fill: #262626\" transform=\"translate(834.778437 856.658281) scale(0.11 -0.11)\">\n       <defs>\n        <path id=\"DejaVuSans-37\" d=\"M 525 4666 \nL 3525 4666 \nL 3525 4397 \nL 1831 0 \nL 1172 0 \nL 2766 4134 \nL 525 4134 \nL 525 4666 \nz\n\" transform=\"scale(0.015625)\"/>\n       </defs>\n       <use xlink:href=\"#DejaVuSans-30\"/>\n       <use xlink:href=\"#DejaVuSans-2e\" x=\"63.623047\"/>\n       <use xlink:href=\"#DejaVuSans-30\" x=\"95.410156\"/>\n       <use xlink:href=\"#DejaVuSans-30\" x=\"159.033203\"/>\n       <use xlink:href=\"#DejaVuSans-37\" x=\"222.65625\"/>\n      </g>\n     </g>\n    </g>\n    <g id=\"xtick_9\">\n     <g id=\"line2d_9\">\n      <path d=\"M 951.834531 838.8 \nL 951.834531 7.2 \n\" clip-path=\"url(#pa7ad93e3f6)\" style=\"fill: none; stroke: #cccccc; stroke-linecap: round\"/>\n     </g>\n     <g id=\"text_9\">\n      <!-- 0.008 -->\n      <g style=\"fill: #262626\" transform=\"translate(936.089062 856.658281) scale(0.11 -0.11)\">\n       <defs>\n        <path id=\"DejaVuSans-38\" d=\"M 2034 2216 \nQ 1584 2216 1326 1975 \nQ 1069 1734 1069 1313 \nQ 1069 891 1326 650 \nQ 1584 409 2034 409 \nQ 2484 409 2743 651 \nQ 3003 894 3003 1313 \nQ 3003 1734 2745 1975 \nQ 2488 2216 2034 2216 \nz\nM 1403 2484 \nQ 997 2584 770 2862 \nQ 544 3141 544 3541 \nQ 544 4100 942 4425 \nQ 1341 4750 2034 4750 \nQ 2731 4750 3128 4425 \nQ 3525 4100 3525 3541 \nQ 3525 3141 3298 2862 \nQ 3072 2584 2669 2484 \nQ 3125 2378 3379 2068 \nQ 3634 1759 3634 1313 \nQ 3634 634 3220 271 \nQ 2806 -91 2034 -91 \nQ 1263 -91 848 271 \nQ 434 634 434 1313 \nQ 434 1759 690 2068 \nQ 947 2378 1403 2484 \nz\nM 1172 3481 \nQ 1172 3119 1398 2916 \nQ 1625 2713 2034 2713 \nQ 2441 2713 2670 2916 \nQ 2900 3119 2900 3481 \nQ 2900 3844 2670 4047 \nQ 2441 4250 2034 4250 \nQ 1625 4250 1398 4047 \nQ 1172 3844 1172 3481 \nz\n\" transform=\"scale(0.015625)\"/>\n       </defs>\n       <use xlink:href=\"#DejaVuSans-30\"/>\n       <use xlink:href=\"#DejaVuSans-2e\" x=\"63.623047\"/>\n       <use xlink:href=\"#DejaVuSans-30\" x=\"95.410156\"/>\n       <use xlink:href=\"#DejaVuSans-30\" x=\"159.033203\"/>\n       <use xlink:href=\"#DejaVuSans-38\" x=\"222.65625\"/>\n      </g>\n     </g>\n    </g>\n   </g>\n   <g id=\"matplotlib.axis_2\">\n    <g id=\"ytick_1\">\n     <g id=\"line2d_10\">\n      <path d=\"M 141.349531 829.241379 \nL 978.349531 829.241379 \n\" clip-path=\"url(#pa7ad93e3f6)\" style=\"fill: none; stroke: #cccccc; stroke-linecap: round\"/>\n     </g>\n     <g id=\"text_10\">\n      <!-- Pennsylvania -->\n      <g style=\"fill: #262626\" transform=\"translate(59.588125 833.42052) scale(0.11 -0.11)\">\n       <defs>\n        <path id=\"DejaVuSans-50\" d=\"M 1259 4147 \nL 1259 2394 \nL 2053 2394 \nQ 2494 2394 2734 2622 \nQ 2975 2850 2975 3272 \nQ 2975 3691 2734 3919 \nQ 2494 4147 2053 4147 \nL 1259 4147 \nz\nM 628 4666 \nL 2053 4666 \nQ 2838 4666 3239 4311 \nQ 3641 3956 3641 3272 \nQ 3641 2581 3239 2228 \nQ 2838 1875 2053 1875 \nL 1259 1875 \nL 1259 0 \nL 628 0 \nL 628 4666 \nz\n\" transform=\"scale(0.015625)\"/>\n        <path id=\"DejaVuSans-65\" d=\"M 3597 1894 \nL 3597 1613 \nL 953 1613 \nQ 991 1019 1311 708 \nQ 1631 397 2203 397 \nQ 2534 397 2845 478 \nQ 3156 559 3463 722 \nL 3463 178 \nQ 3153 47 2828 -22 \nQ 2503 -91 2169 -91 \nQ 1331 -91 842 396 \nQ 353 884 353 1716 \nQ 353 2575 817 3079 \nQ 1281 3584 2069 3584 \nQ 2775 3584 3186 3129 \nQ 3597 2675 3597 1894 \nz\nM 3022 2063 \nQ 3016 2534 2758 2815 \nQ 2500 3097 2075 3097 \nQ 1594 3097 1305 2825 \nQ 1016 2553 972 2059 \nL 3022 2063 \nz\n\" transform=\"scale(0.015625)\"/>\n        <path id=\"DejaVuSans-6e\" d=\"M 3513 2113 \nL 3513 0 \nL 2938 0 \nL 2938 2094 \nQ 2938 2591 2744 2837 \nQ 2550 3084 2163 3084 \nQ 1697 3084 1428 2787 \nQ 1159 2491 1159 1978 \nL 1159 0 \nL 581 0 \nL 581 3500 \nL 1159 3500 \nL 1159 2956 \nQ 1366 3272 1645 3428 \nQ 1925 3584 2291 3584 \nQ 2894 3584 3203 3211 \nQ 3513 2838 3513 2113 \nz\n\" transform=\"scale(0.015625)\"/>\n        <path id=\"DejaVuSans-73\" d=\"M 2834 3397 \nL 2834 2853 \nQ 2591 2978 2328 3040 \nQ 2066 3103 1784 3103 \nQ 1356 3103 1142 2972 \nQ 928 2841 928 2578 \nQ 928 2378 1081 2264 \nQ 1234 2150 1697 2047 \nL 1894 2003 \nQ 2506 1872 2764 1633 \nQ 3022 1394 3022 966 \nQ 3022 478 2636 193 \nQ 2250 -91 1575 -91 \nQ 1294 -91 989 -36 \nQ 684 19 347 128 \nL 347 722 \nQ 666 556 975 473 \nQ 1284 391 1588 391 \nQ 1994 391 2212 530 \nQ 2431 669 2431 922 \nQ 2431 1156 2273 1281 \nQ 2116 1406 1581 1522 \nL 1381 1569 \nQ 847 1681 609 1914 \nQ 372 2147 372 2553 \nQ 372 3047 722 3315 \nQ 1072 3584 1716 3584 \nQ 2034 3584 2315 3537 \nQ 2597 3491 2834 3397 \nz\n\" transform=\"scale(0.015625)\"/>\n        <path id=\"DejaVuSans-79\" d=\"M 2059 -325 \nQ 1816 -950 1584 -1140 \nQ 1353 -1331 966 -1331 \nL 506 -1331 \nL 506 -850 \nL 844 -850 \nQ 1081 -850 1212 -737 \nQ 1344 -625 1503 -206 \nL 1606 56 \nL 191 3500 \nL 800 3500 \nL 1894 763 \nL 2988 3500 \nL 3597 3500 \nL 2059 -325 \nz\n\" transform=\"scale(0.015625)\"/>\n        <path id=\"DejaVuSans-6c\" d=\"M 603 4863 \nL 1178 4863 \nL 1178 0 \nL 603 0 \nL 603 4863 \nz\n\" transform=\"scale(0.015625)\"/>\n        <path id=\"DejaVuSans-76\" d=\"M 191 3500 \nL 800 3500 \nL 1894 563 \nL 2988 3500 \nL 3597 3500 \nL 2284 0 \nL 1503 0 \nL 191 3500 \nz\n\" transform=\"scale(0.015625)\"/>\n        <path id=\"DejaVuSans-61\" d=\"M 2194 1759 \nQ 1497 1759 1228 1600 \nQ 959 1441 959 1056 \nQ 959 750 1161 570 \nQ 1363 391 1709 391 \nQ 2188 391 2477 730 \nQ 2766 1069 2766 1631 \nL 2766 1759 \nL 2194 1759 \nz\nM 3341 1997 \nL 3341 0 \nL 2766 0 \nL 2766 531 \nQ 2569 213 2275 61 \nQ 1981 -91 1556 -91 \nQ 1019 -91 701 211 \nQ 384 513 384 1019 \nQ 384 1609 779 1909 \nQ 1175 2209 1959 2209 \nL 2766 2209 \nL 2766 2266 \nQ 2766 2663 2505 2880 \nQ 2244 3097 1772 3097 \nQ 1472 3097 1187 3025 \nQ 903 2953 641 2809 \nL 641 3341 \nQ 956 3463 1253 3523 \nQ 1550 3584 1831 3584 \nQ 2591 3584 2966 3190 \nQ 3341 2797 3341 1997 \nz\n\" transform=\"scale(0.015625)\"/>\n        <path id=\"DejaVuSans-69\" d=\"M 603 3500 \nL 1178 3500 \nL 1178 0 \nL 603 0 \nL 603 3500 \nz\nM 603 4863 \nL 1178 4863 \nL 1178 4134 \nL 603 4134 \nL 603 4863 \nz\n\" transform=\"scale(0.015625)\"/>\n       </defs>\n       <use xlink:href=\"#DejaVuSans-50\"/>\n       <use xlink:href=\"#DejaVuSans-65\" x=\"56.677734\"/>\n       <use xlink:href=\"#DejaVuSans-6e\" x=\"118.201172\"/>\n       <use xlink:href=\"#DejaVuSans-6e\" x=\"181.580078\"/>\n       <use xlink:href=\"#DejaVuSans-73\" x=\"244.958984\"/>\n       <use xlink:href=\"#DejaVuSans-79\" x=\"297.058594\"/>\n       <use xlink:href=\"#DejaVuSans-6c\" x=\"356.238281\"/>\n       <use xlink:href=\"#DejaVuSans-76\" x=\"384.021484\"/>\n       <use xlink:href=\"#DejaVuSans-61\" x=\"443.201172\"/>\n       <use xlink:href=\"#DejaVuSans-6e\" x=\"504.480469\"/>\n       <use xlink:href=\"#DejaVuSans-69\" x=\"567.859375\"/>\n       <use xlink:href=\"#DejaVuSans-61\" x=\"595.642578\"/>\n      </g>\n     </g>\n    </g>\n    <g id=\"ytick_2\">\n     <g id=\"line2d_11\">\n      <path d=\"M 141.349531 813.310345 \nL 978.349531 813.310345 \n\" clip-path=\"url(#pa7ad93e3f6)\" style=\"fill: none; stroke: #cccccc; stroke-linecap: round\"/>\n     </g>\n     <g id=\"text_11\">\n      <!-- California -->\n      <g style=\"fill: #262626\" transform=\"translate(79.615 817.489485) scale(0.11 -0.11)\">\n       <defs>\n        <path id=\"DejaVuSans-43\" d=\"M 4122 4306 \nL 4122 3641 \nQ 3803 3938 3442 4084 \nQ 3081 4231 2675 4231 \nQ 1875 4231 1450 3742 \nQ 1025 3253 1025 2328 \nQ 1025 1406 1450 917 \nQ 1875 428 2675 428 \nQ 3081 428 3442 575 \nQ 3803 722 4122 1019 \nL 4122 359 \nQ 3791 134 3420 21 \nQ 3050 -91 2638 -91 \nQ 1578 -91 968 557 \nQ 359 1206 359 2328 \nQ 359 3453 968 4101 \nQ 1578 4750 2638 4750 \nQ 3056 4750 3426 4639 \nQ 3797 4528 4122 4306 \nz\n\" transform=\"scale(0.015625)\"/>\n        <path id=\"DejaVuSans-66\" d=\"M 2375 4863 \nL 2375 4384 \nL 1825 4384 \nQ 1516 4384 1395 4259 \nQ 1275 4134 1275 3809 \nL 1275 3500 \nL 2222 3500 \nL 2222 3053 \nL 1275 3053 \nL 1275 0 \nL 697 0 \nL 697 3053 \nL 147 3053 \nL 147 3500 \nL 697 3500 \nL 697 3744 \nQ 697 4328 969 4595 \nQ 1241 4863 1831 4863 \nL 2375 4863 \nz\n\" transform=\"scale(0.015625)\"/>\n        <path id=\"DejaVuSans-6f\" d=\"M 1959 3097 \nQ 1497 3097 1228 2736 \nQ 959 2375 959 1747 \nQ 959 1119 1226 758 \nQ 1494 397 1959 397 \nQ 2419 397 2687 759 \nQ 2956 1122 2956 1747 \nQ 2956 2369 2687 2733 \nQ 2419 3097 1959 3097 \nz\nM 1959 3584 \nQ 2709 3584 3137 3096 \nQ 3566 2609 3566 1747 \nQ 3566 888 3137 398 \nQ 2709 -91 1959 -91 \nQ 1206 -91 779 398 \nQ 353 888 353 1747 \nQ 353 2609 779 3096 \nQ 1206 3584 1959 3584 \nz\n\" transform=\"scale(0.015625)\"/>\n        <path id=\"DejaVuSans-72\" d=\"M 2631 2963 \nQ 2534 3019 2420 3045 \nQ 2306 3072 2169 3072 \nQ 1681 3072 1420 2755 \nQ 1159 2438 1159 1844 \nL 1159 0 \nL 581 0 \nL 581 3500 \nL 1159 3500 \nL 1159 2956 \nQ 1341 3275 1631 3429 \nQ 1922 3584 2338 3584 \nQ 2397 3584 2469 3576 \nQ 2541 3569 2628 3553 \nL 2631 2963 \nz\n\" transform=\"scale(0.015625)\"/>\n       </defs>\n       <use xlink:href=\"#DejaVuSans-43\"/>\n       <use xlink:href=\"#DejaVuSans-61\" x=\"69.824219\"/>\n       <use xlink:href=\"#DejaVuSans-6c\" x=\"131.103516\"/>\n       <use xlink:href=\"#DejaVuSans-69\" x=\"158.886719\"/>\n       <use xlink:href=\"#DejaVuSans-66\" x=\"186.669922\"/>\n       <use xlink:href=\"#DejaVuSans-6f\" x=\"221.875\"/>\n       <use xlink:href=\"#DejaVuSans-72\" x=\"283.056641\"/>\n       <use xlink:href=\"#DejaVuSans-6e\" x=\"322.419922\"/>\n       <use xlink:href=\"#DejaVuSans-69\" x=\"385.798828\"/>\n       <use xlink:href=\"#DejaVuSans-61\" x=\"413.582031\"/>\n      </g>\n     </g>\n    </g>\n    <g id=\"ytick_3\">\n     <g id=\"line2d_12\">\n      <path d=\"M 141.349531 797.37931 \nL 978.349531 797.37931 \n\" clip-path=\"url(#pa7ad93e3f6)\" style=\"fill: none; stroke: #cccccc; stroke-linecap: round\"/>\n     </g>\n     <g id=\"text_12\">\n      <!-- West Virginia -->\n      <g style=\"fill: #262626\" transform=\"translate(59.8425 801.558451) scale(0.11 -0.11)\">\n       <defs>\n        <path id=\"DejaVuSans-57\" d=\"M 213 4666 \nL 850 4666 \nL 1831 722 \nL 2809 4666 \nL 3519 4666 \nL 4500 722 \nL 5478 4666 \nL 6119 4666 \nL 4947 0 \nL 4153 0 \nL 3169 4050 \nL 2175 0 \nL 1381 0 \nL 213 4666 \nz\n\" transform=\"scale(0.015625)\"/>\n        <path id=\"DejaVuSans-74\" d=\"M 1172 4494 \nL 1172 3500 \nL 2356 3500 \nL 2356 3053 \nL 1172 3053 \nL 1172 1153 \nQ 1172 725 1289 603 \nQ 1406 481 1766 481 \nL 2356 481 \nL 2356 0 \nL 1766 0 \nQ 1100 0 847 248 \nQ 594 497 594 1153 \nL 594 3053 \nL 172 3053 \nL 172 3500 \nL 594 3500 \nL 594 4494 \nL 1172 4494 \nz\n\" transform=\"scale(0.015625)\"/>\n        <path id=\"DejaVuSans-20\" transform=\"scale(0.015625)\"/>\n        <path id=\"DejaVuSans-56\" d=\"M 1831 0 \nL 50 4666 \nL 709 4666 \nL 2188 738 \nL 3669 4666 \nL 4325 4666 \nL 2547 0 \nL 1831 0 \nz\n\" transform=\"scale(0.015625)\"/>\n        <path id=\"DejaVuSans-67\" d=\"M 2906 1791 \nQ 2906 2416 2648 2759 \nQ 2391 3103 1925 3103 \nQ 1463 3103 1205 2759 \nQ 947 2416 947 1791 \nQ 947 1169 1205 825 \nQ 1463 481 1925 481 \nQ 2391 481 2648 825 \nQ 2906 1169 2906 1791 \nz\nM 3481 434 \nQ 3481 -459 3084 -895 \nQ 2688 -1331 1869 -1331 \nQ 1566 -1331 1297 -1286 \nQ 1028 -1241 775 -1147 \nL 775 -588 \nQ 1028 -725 1275 -790 \nQ 1522 -856 1778 -856 \nQ 2344 -856 2625 -561 \nQ 2906 -266 2906 331 \nL 2906 616 \nQ 2728 306 2450 153 \nQ 2172 0 1784 0 \nQ 1141 0 747 490 \nQ 353 981 353 1791 \nQ 353 2603 747 3093 \nQ 1141 3584 1784 3584 \nQ 2172 3584 2450 3431 \nQ 2728 3278 2906 2969 \nL 2906 3500 \nL 3481 3500 \nL 3481 434 \nz\n\" transform=\"scale(0.015625)\"/>\n       </defs>\n       <use xlink:href=\"#DejaVuSans-57\"/>\n       <use xlink:href=\"#DejaVuSans-65\" x=\"93.001953\"/>\n       <use xlink:href=\"#DejaVuSans-73\" x=\"154.525391\"/>\n       <use xlink:href=\"#DejaVuSans-74\" x=\"206.625\"/>\n       <use xlink:href=\"#DejaVuSans-20\" x=\"245.833984\"/>\n       <use xlink:href=\"#DejaVuSans-56\" x=\"277.621094\"/>\n       <use xlink:href=\"#DejaVuSans-69\" x=\"343.779297\"/>\n       <use xlink:href=\"#DejaVuSans-72\" x=\"371.5625\"/>\n       <use xlink:href=\"#DejaVuSans-67\" x=\"410.925781\"/>\n       <use xlink:href=\"#DejaVuSans-69\" x=\"474.402344\"/>\n       <use xlink:href=\"#DejaVuSans-6e\" x=\"502.185547\"/>\n       <use xlink:href=\"#DejaVuSans-69\" x=\"565.564453\"/>\n       <use xlink:href=\"#DejaVuSans-61\" x=\"593.347656\"/>\n      </g>\n     </g>\n    </g>\n    <g id=\"ytick_4\">\n     <g id=\"line2d_13\">\n      <path d=\"M 141.349531 781.448276 \nL 978.349531 781.448276 \n\" clip-path=\"url(#pa7ad93e3f6)\" style=\"fill: none; stroke: #cccccc; stroke-linecap: round\"/>\n     </g>\n     <g id=\"text_13\">\n      <!-- Utah -->\n      <g style=\"fill: #262626\" transform=\"translate(105.774375 785.627416) scale(0.11 -0.11)\">\n       <defs>\n        <path id=\"DejaVuSans-55\" d=\"M 556 4666 \nL 1191 4666 \nL 1191 1831 \nQ 1191 1081 1462 751 \nQ 1734 422 2344 422 \nQ 2950 422 3222 751 \nQ 3494 1081 3494 1831 \nL 3494 4666 \nL 4128 4666 \nL 4128 1753 \nQ 4128 841 3676 375 \nQ 3225 -91 2344 -91 \nQ 1459 -91 1007 375 \nQ 556 841 556 1753 \nL 556 4666 \nz\n\" transform=\"scale(0.015625)\"/>\n        <path id=\"DejaVuSans-68\" d=\"M 3513 2113 \nL 3513 0 \nL 2938 0 \nL 2938 2094 \nQ 2938 2591 2744 2837 \nQ 2550 3084 2163 3084 \nQ 1697 3084 1428 2787 \nQ 1159 2491 1159 1978 \nL 1159 0 \nL 581 0 \nL 581 4863 \nL 1159 4863 \nL 1159 2956 \nQ 1366 3272 1645 3428 \nQ 1925 3584 2291 3584 \nQ 2894 3584 3203 3211 \nQ 3513 2838 3513 2113 \nz\n\" transform=\"scale(0.015625)\"/>\n       </defs>\n       <use xlink:href=\"#DejaVuSans-55\"/>\n       <use xlink:href=\"#DejaVuSans-74\" x=\"73.193359\"/>\n       <use xlink:href=\"#DejaVuSans-61\" x=\"112.402344\"/>\n       <use xlink:href=\"#DejaVuSans-68\" x=\"173.681641\"/>\n      </g>\n     </g>\n    </g>\n    <g id=\"ytick_5\">\n     <g id=\"line2d_14\">\n      <path d=\"M 141.349531 765.517241 \nL 978.349531 765.517241 \n\" clip-path=\"url(#pa7ad93e3f6)\" style=\"fill: none; stroke: #cccccc; stroke-linecap: round\"/>\n     </g>\n     <g id=\"text_14\">\n      <!-- New York -->\n      <g style=\"fill: #262626\" transform=\"translate(81.476406 769.696382) scale(0.11 -0.11)\">\n       <defs>\n        <path id=\"DejaVuSans-4e\" d=\"M 628 4666 \nL 1478 4666 \nL 3547 763 \nL 3547 4666 \nL 4159 4666 \nL 4159 0 \nL 3309 0 \nL 1241 3903 \nL 1241 0 \nL 628 0 \nL 628 4666 \nz\n\" transform=\"scale(0.015625)\"/>\n        <path id=\"DejaVuSans-77\" d=\"M 269 3500 \nL 844 3500 \nL 1563 769 \nL 2278 3500 \nL 2956 3500 \nL 3675 769 \nL 4391 3500 \nL 4966 3500 \nL 4050 0 \nL 3372 0 \nL 2619 2869 \nL 1863 0 \nL 1184 0 \nL 269 3500 \nz\n\" transform=\"scale(0.015625)\"/>\n        <path id=\"DejaVuSans-59\" d=\"M -13 4666 \nL 666 4666 \nL 1959 2747 \nL 3244 4666 \nL 3922 4666 \nL 2272 2222 \nL 2272 0 \nL 1638 0 \nL 1638 2222 \nL -13 4666 \nz\n\" transform=\"scale(0.015625)\"/>\n        <path id=\"DejaVuSans-6b\" d=\"M 581 4863 \nL 1159 4863 \nL 1159 1991 \nL 2875 3500 \nL 3609 3500 \nL 1753 1863 \nL 3688 0 \nL 2938 0 \nL 1159 1709 \nL 1159 0 \nL 581 0 \nL 581 4863 \nz\n\" transform=\"scale(0.015625)\"/>\n       </defs>\n       <use xlink:href=\"#DejaVuSans-4e\"/>\n       <use xlink:href=\"#DejaVuSans-65\" x=\"74.804688\"/>\n       <use xlink:href=\"#DejaVuSans-77\" x=\"136.328125\"/>\n       <use xlink:href=\"#DejaVuSans-20\" x=\"218.115234\"/>\n       <use xlink:href=\"#DejaVuSans-59\" x=\"249.902344\"/>\n       <use xlink:href=\"#DejaVuSans-6f\" x=\"297.736328\"/>\n       <use xlink:href=\"#DejaVuSans-72\" x=\"358.917969\"/>\n       <use xlink:href=\"#DejaVuSans-6b\" x=\"400.03125\"/>\n      </g>\n     </g>\n    </g>\n    <g id=\"ytick_6\">\n     <g id=\"line2d_15\">\n      <path d=\"M 141.349531 749.586207 \nL 978.349531 749.586207 \n\" clip-path=\"url(#pa7ad93e3f6)\" style=\"fill: none; stroke: #cccccc; stroke-linecap: round\"/>\n     </g>\n     <g id=\"text_15\">\n      <!-- District of Columbia -->\n      <g style=\"fill: #262626\" transform=\"translate(22.81375 753.765348) scale(0.11 -0.11)\">\n       <defs>\n        <path id=\"DejaVuSans-44\" d=\"M 1259 4147 \nL 1259 519 \nL 2022 519 \nQ 2988 519 3436 956 \nQ 3884 1394 3884 2338 \nQ 3884 3275 3436 3711 \nQ 2988 4147 2022 4147 \nL 1259 4147 \nz\nM 628 4666 \nL 1925 4666 \nQ 3281 4666 3915 4102 \nQ 4550 3538 4550 2338 \nQ 4550 1131 3912 565 \nQ 3275 0 1925 0 \nL 628 0 \nL 628 4666 \nz\n\" transform=\"scale(0.015625)\"/>\n        <path id=\"DejaVuSans-63\" d=\"M 3122 3366 \nL 3122 2828 \nQ 2878 2963 2633 3030 \nQ 2388 3097 2138 3097 \nQ 1578 3097 1268 2742 \nQ 959 2388 959 1747 \nQ 959 1106 1268 751 \nQ 1578 397 2138 397 \nQ 2388 397 2633 464 \nQ 2878 531 3122 666 \nL 3122 134 \nQ 2881 22 2623 -34 \nQ 2366 -91 2075 -91 \nQ 1284 -91 818 406 \nQ 353 903 353 1747 \nQ 353 2603 823 3093 \nQ 1294 3584 2113 3584 \nQ 2378 3584 2631 3529 \nQ 2884 3475 3122 3366 \nz\n\" transform=\"scale(0.015625)\"/>\n        <path id=\"DejaVuSans-75\" d=\"M 544 1381 \nL 544 3500 \nL 1119 3500 \nL 1119 1403 \nQ 1119 906 1312 657 \nQ 1506 409 1894 409 \nQ 2359 409 2629 706 \nQ 2900 1003 2900 1516 \nL 2900 3500 \nL 3475 3500 \nL 3475 0 \nL 2900 0 \nL 2900 538 \nQ 2691 219 2414 64 \nQ 2138 -91 1772 -91 \nQ 1169 -91 856 284 \nQ 544 659 544 1381 \nz\nM 1991 3584 \nL 1991 3584 \nz\n\" transform=\"scale(0.015625)\"/>\n        <path id=\"DejaVuSans-6d\" d=\"M 3328 2828 \nQ 3544 3216 3844 3400 \nQ 4144 3584 4550 3584 \nQ 5097 3584 5394 3201 \nQ 5691 2819 5691 2113 \nL 5691 0 \nL 5113 0 \nL 5113 2094 \nQ 5113 2597 4934 2840 \nQ 4756 3084 4391 3084 \nQ 3944 3084 3684 2787 \nQ 3425 2491 3425 1978 \nL 3425 0 \nL 2847 0 \nL 2847 2094 \nQ 2847 2600 2669 2842 \nQ 2491 3084 2119 3084 \nQ 1678 3084 1418 2786 \nQ 1159 2488 1159 1978 \nL 1159 0 \nL 581 0 \nL 581 3500 \nL 1159 3500 \nL 1159 2956 \nQ 1356 3278 1631 3431 \nQ 1906 3584 2284 3584 \nQ 2666 3584 2933 3390 \nQ 3200 3197 3328 2828 \nz\n\" transform=\"scale(0.015625)\"/>\n        <path id=\"DejaVuSans-62\" d=\"M 3116 1747 \nQ 3116 2381 2855 2742 \nQ 2594 3103 2138 3103 \nQ 1681 3103 1420 2742 \nQ 1159 2381 1159 1747 \nQ 1159 1113 1420 752 \nQ 1681 391 2138 391 \nQ 2594 391 2855 752 \nQ 3116 1113 3116 1747 \nz\nM 1159 2969 \nQ 1341 3281 1617 3432 \nQ 1894 3584 2278 3584 \nQ 2916 3584 3314 3078 \nQ 3713 2572 3713 1747 \nQ 3713 922 3314 415 \nQ 2916 -91 2278 -91 \nQ 1894 -91 1617 61 \nQ 1341 213 1159 525 \nL 1159 0 \nL 581 0 \nL 581 4863 \nL 1159 4863 \nL 1159 2969 \nz\n\" transform=\"scale(0.015625)\"/>\n       </defs>\n       <use xlink:href=\"#DejaVuSans-44\"/>\n       <use xlink:href=\"#DejaVuSans-69\" x=\"77.001953\"/>\n       <use xlink:href=\"#DejaVuSans-73\" x=\"104.785156\"/>\n       <use xlink:href=\"#DejaVuSans-74\" x=\"156.884766\"/>\n       <use xlink:href=\"#DejaVuSans-72\" x=\"196.09375\"/>\n       <use xlink:href=\"#DejaVuSans-69\" x=\"237.207031\"/>\n       <use xlink:href=\"#DejaVuSans-63\" x=\"264.990234\"/>\n       <use xlink:href=\"#DejaVuSans-74\" x=\"319.970703\"/>\n       <use xlink:href=\"#DejaVuSans-20\" x=\"359.179688\"/>\n       <use xlink:href=\"#DejaVuSans-6f\" x=\"390.966797\"/>\n       <use xlink:href=\"#DejaVuSans-66\" x=\"452.148438\"/>\n       <use xlink:href=\"#DejaVuSans-20\" x=\"487.353516\"/>\n       <use xlink:href=\"#DejaVuSans-43\" x=\"519.140625\"/>\n       <use xlink:href=\"#DejaVuSans-6f\" x=\"588.964844\"/>\n       <use xlink:href=\"#DejaVuSans-6c\" x=\"650.146484\"/>\n       <use xlink:href=\"#DejaVuSans-75\" x=\"677.929688\"/>\n       <use xlink:href=\"#DejaVuSans-6d\" x=\"741.308594\"/>\n       <use xlink:href=\"#DejaVuSans-62\" x=\"838.720703\"/>\n       <use xlink:href=\"#DejaVuSans-69\" x=\"902.197266\"/>\n       <use xlink:href=\"#DejaVuSans-61\" x=\"929.980469\"/>\n      </g>\n     </g>\n    </g>\n    <g id=\"ytick_7\">\n     <g id=\"line2d_16\">\n      <path d=\"M 141.349531 733.655172 \nL 978.349531 733.655172 \n\" clip-path=\"url(#pa7ad93e3f6)\" style=\"fill: none; stroke: #cccccc; stroke-linecap: round\"/>\n     </g>\n     <g id=\"text_16\">\n      <!-- Alaska -->\n      <g style=\"fill: #262626\" transform=\"translate(95.879531 737.834313) scale(0.11 -0.11)\">\n       <defs>\n        <path id=\"DejaVuSans-41\" d=\"M 2188 4044 \nL 1331 1722 \nL 3047 1722 \nL 2188 4044 \nz\nM 1831 4666 \nL 2547 4666 \nL 4325 0 \nL 3669 0 \nL 3244 1197 \nL 1141 1197 \nL 716 0 \nL 50 0 \nL 1831 4666 \nz\n\" transform=\"scale(0.015625)\"/>\n       </defs>\n       <use xlink:href=\"#DejaVuSans-41\"/>\n       <use xlink:href=\"#DejaVuSans-6c\" x=\"68.408203\"/>\n       <use xlink:href=\"#DejaVuSans-61\" x=\"96.191406\"/>\n       <use xlink:href=\"#DejaVuSans-73\" x=\"157.470703\"/>\n       <use xlink:href=\"#DejaVuSans-6b\" x=\"209.570312\"/>\n       <use xlink:href=\"#DejaVuSans-61\" x=\"265.730469\"/>\n      </g>\n     </g>\n    </g>\n    <g id=\"ytick_8\">\n     <g id=\"line2d_17\">\n      <path d=\"M 141.349531 717.724138 \nL 978.349531 717.724138 \n\" clip-path=\"url(#pa7ad93e3f6)\" style=\"fill: none; stroke: #cccccc; stroke-linecap: round\"/>\n     </g>\n     <g id=\"text_17\">\n      <!-- Florida -->\n      <g style=\"fill: #262626\" transform=\"translate(94.434063 721.903279) scale(0.11 -0.11)\">\n       <defs>\n        <path id=\"DejaVuSans-46\" d=\"M 628 4666 \nL 3309 4666 \nL 3309 4134 \nL 1259 4134 \nL 1259 2759 \nL 3109 2759 \nL 3109 2228 \nL 1259 2228 \nL 1259 0 \nL 628 0 \nL 628 4666 \nz\n\" transform=\"scale(0.015625)\"/>\n        <path id=\"DejaVuSans-64\" d=\"M 2906 2969 \nL 2906 4863 \nL 3481 4863 \nL 3481 0 \nL 2906 0 \nL 2906 525 \nQ 2725 213 2448 61 \nQ 2172 -91 1784 -91 \nQ 1150 -91 751 415 \nQ 353 922 353 1747 \nQ 353 2572 751 3078 \nQ 1150 3584 1784 3584 \nQ 2172 3584 2448 3432 \nQ 2725 3281 2906 2969 \nz\nM 947 1747 \nQ 947 1113 1208 752 \nQ 1469 391 1925 391 \nQ 2381 391 2643 752 \nQ 2906 1113 2906 1747 \nQ 2906 2381 2643 2742 \nQ 2381 3103 1925 3103 \nQ 1469 3103 1208 2742 \nQ 947 2381 947 1747 \nz\n\" transform=\"scale(0.015625)\"/>\n       </defs>\n       <use xlink:href=\"#DejaVuSans-46\"/>\n       <use xlink:href=\"#DejaVuSans-6c\" x=\"57.519531\"/>\n       <use xlink:href=\"#DejaVuSans-6f\" x=\"85.302734\"/>\n       <use xlink:href=\"#DejaVuSans-72\" x=\"146.484375\"/>\n       <use xlink:href=\"#DejaVuSans-69\" x=\"187.597656\"/>\n       <use xlink:href=\"#DejaVuSans-64\" x=\"215.380859\"/>\n       <use xlink:href=\"#DejaVuSans-61\" x=\"278.857422\"/>\n      </g>\n     </g>\n    </g>\n    <g id=\"ytick_9\">\n     <g id=\"line2d_18\">\n      <path d=\"M 141.349531 701.793103 \nL 978.349531 701.793103 \n\" clip-path=\"url(#pa7ad93e3f6)\" style=\"fill: none; stroke: #cccccc; stroke-linecap: round\"/>\n     </g>\n     <g id=\"text_18\">\n      <!-- South Carolina -->\n      <g style=\"fill: #262626\" transform=\"translate(51.133594 705.972244) scale(0.11 -0.11)\">\n       <defs>\n        <path id=\"DejaVuSans-53\" d=\"M 3425 4513 \nL 3425 3897 \nQ 3066 4069 2747 4153 \nQ 2428 4238 2131 4238 \nQ 1616 4238 1336 4038 \nQ 1056 3838 1056 3469 \nQ 1056 3159 1242 3001 \nQ 1428 2844 1947 2747 \nL 2328 2669 \nQ 3034 2534 3370 2195 \nQ 3706 1856 3706 1288 \nQ 3706 609 3251 259 \nQ 2797 -91 1919 -91 \nQ 1588 -91 1214 -16 \nQ 841 59 441 206 \nL 441 856 \nQ 825 641 1194 531 \nQ 1563 422 1919 422 \nQ 2459 422 2753 634 \nQ 3047 847 3047 1241 \nQ 3047 1584 2836 1778 \nQ 2625 1972 2144 2069 \nL 1759 2144 \nQ 1053 2284 737 2584 \nQ 422 2884 422 3419 \nQ 422 4038 858 4394 \nQ 1294 4750 2059 4750 \nQ 2388 4750 2728 4690 \nQ 3069 4631 3425 4513 \nz\n\" transform=\"scale(0.015625)\"/>\n       </defs>\n       <use xlink:href=\"#DejaVuSans-53\"/>\n       <use xlink:href=\"#DejaVuSans-6f\" x=\"63.476562\"/>\n       <use xlink:href=\"#DejaVuSans-75\" x=\"124.658203\"/>\n       <use xlink:href=\"#DejaVuSans-74\" x=\"188.037109\"/>\n       <use xlink:href=\"#DejaVuSans-68\" x=\"227.246094\"/>\n       <use xlink:href=\"#DejaVuSans-20\" x=\"290.625\"/>\n       <use xlink:href=\"#DejaVuSans-43\" x=\"322.412109\"/>\n       <use xlink:href=\"#DejaVuSans-61\" x=\"392.236328\"/>\n       <use xlink:href=\"#DejaVuSans-72\" x=\"453.515625\"/>\n       <use xlink:href=\"#DejaVuSans-6f\" x=\"492.378906\"/>\n       <use xlink:href=\"#DejaVuSans-6c\" x=\"553.560547\"/>\n       <use xlink:href=\"#DejaVuSans-69\" x=\"581.34375\"/>\n       <use xlink:href=\"#DejaVuSans-6e\" x=\"609.126953\"/>\n       <use xlink:href=\"#DejaVuSans-61\" x=\"672.505859\"/>\n      </g>\n     </g>\n    </g>\n    <g id=\"ytick_10\">\n     <g id=\"line2d_19\">\n      <path d=\"M 141.349531 685.862069 \nL 978.349531 685.862069 \n\" clip-path=\"url(#pa7ad93e3f6)\" style=\"fill: none; stroke: #cccccc; stroke-linecap: round\"/>\n     </g>\n     <g id=\"text_19\">\n      <!-- North Dakota -->\n      <g style=\"fill: #262626\" transform=\"translate(58.622188 690.04121) scale(0.11 -0.11)\">\n       <use xlink:href=\"#DejaVuSans-4e\"/>\n       <use xlink:href=\"#DejaVuSans-6f\" x=\"74.804688\"/>\n       <use xlink:href=\"#DejaVuSans-72\" x=\"135.986328\"/>\n       <use xlink:href=\"#DejaVuSans-74\" x=\"177.099609\"/>\n       <use xlink:href=\"#DejaVuSans-68\" x=\"216.308594\"/>\n       <use xlink:href=\"#DejaVuSans-20\" x=\"279.6875\"/>\n       <use xlink:href=\"#DejaVuSans-44\" x=\"311.474609\"/>\n       <use xlink:href=\"#DejaVuSans-61\" x=\"388.476562\"/>\n       <use xlink:href=\"#DejaVuSans-6b\" x=\"449.755859\"/>\n       <use xlink:href=\"#DejaVuSans-6f\" x=\"504.041016\"/>\n       <use xlink:href=\"#DejaVuSans-74\" x=\"565.222656\"/>\n       <use xlink:href=\"#DejaVuSans-61\" x=\"604.431641\"/>\n      </g>\n     </g>\n    </g>\n    <g id=\"ytick_11\">\n     <g id=\"line2d_20\">\n      <path d=\"M 141.349531 669.931034 \nL 978.349531 669.931034 \n\" clip-path=\"url(#pa7ad93e3f6)\" style=\"fill: none; stroke: #cccccc; stroke-linecap: round\"/>\n     </g>\n     <g id=\"text_20\">\n      <!-- Maine -->\n      <g style=\"fill: #262626\" transform=\"translate(98.822031 674.110175) scale(0.11 -0.11)\">\n       <defs>\n        <path id=\"DejaVuSans-4d\" d=\"M 628 4666 \nL 1569 4666 \nL 2759 1491 \nL 3956 4666 \nL 4897 4666 \nL 4897 0 \nL 4281 0 \nL 4281 4097 \nL 3078 897 \nL 2444 897 \nL 1241 4097 \nL 1241 0 \nL 628 0 \nL 628 4666 \nz\n\" transform=\"scale(0.015625)\"/>\n       </defs>\n       <use xlink:href=\"#DejaVuSans-4d\"/>\n       <use xlink:href=\"#DejaVuSans-61\" x=\"86.279297\"/>\n       <use xlink:href=\"#DejaVuSans-69\" x=\"147.558594\"/>\n       <use xlink:href=\"#DejaVuSans-6e\" x=\"175.341797\"/>\n       <use xlink:href=\"#DejaVuSans-65\" x=\"238.720703\"/>\n      </g>\n     </g>\n    </g>\n    <g id=\"ytick_12\">\n     <g id=\"line2d_21\">\n      <path d=\"M 141.349531 654 \nL 978.349531 654 \n\" clip-path=\"url(#pa7ad93e3f6)\" style=\"fill: none; stroke: #cccccc; stroke-linecap: round\"/>\n     </g>\n     <g id=\"text_21\">\n      <!-- Georgia -->\n      <g style=\"fill: #262626\" transform=\"translate(88.7175 658.179141) scale(0.11 -0.11)\">\n       <defs>\n        <path id=\"DejaVuSans-47\" d=\"M 3809 666 \nL 3809 1919 \nL 2778 1919 \nL 2778 2438 \nL 4434 2438 \nL 4434 434 \nQ 4069 175 3628 42 \nQ 3188 -91 2688 -91 \nQ 1594 -91 976 548 \nQ 359 1188 359 2328 \nQ 359 3472 976 4111 \nQ 1594 4750 2688 4750 \nQ 3144 4750 3555 4637 \nQ 3966 4525 4313 4306 \nL 4313 3634 \nQ 3963 3931 3569 4081 \nQ 3175 4231 2741 4231 \nQ 1884 4231 1454 3753 \nQ 1025 3275 1025 2328 \nQ 1025 1384 1454 906 \nQ 1884 428 2741 428 \nQ 3075 428 3337 486 \nQ 3600 544 3809 666 \nz\n\" transform=\"scale(0.015625)\"/>\n       </defs>\n       <use xlink:href=\"#DejaVuSans-47\"/>\n       <use xlink:href=\"#DejaVuSans-65\" x=\"77.490234\"/>\n       <use xlink:href=\"#DejaVuSans-6f\" x=\"139.013672\"/>\n       <use xlink:href=\"#DejaVuSans-72\" x=\"200.195312\"/>\n       <use xlink:href=\"#DejaVuSans-67\" x=\"239.558594\"/>\n       <use xlink:href=\"#DejaVuSans-69\" x=\"303.035156\"/>\n       <use xlink:href=\"#DejaVuSans-61\" x=\"330.818359\"/>\n      </g>\n     </g>\n    </g>\n    <g id=\"ytick_13\">\n     <g id=\"line2d_22\">\n      <path d=\"M 141.349531 638.068966 \nL 978.349531 638.068966 \n\" clip-path=\"url(#pa7ad93e3f6)\" style=\"fill: none; stroke: #cccccc; stroke-linecap: round\"/>\n     </g>\n     <g id=\"text_22\">\n      <!-- Alabama -->\n      <g style=\"fill: #262626\" transform=\"translate(83.348125 642.248106) scale(0.11 -0.11)\">\n       <use xlink:href=\"#DejaVuSans-41\"/>\n       <use xlink:href=\"#DejaVuSans-6c\" x=\"68.408203\"/>\n       <use xlink:href=\"#DejaVuSans-61\" x=\"96.191406\"/>\n       <use xlink:href=\"#DejaVuSans-62\" x=\"157.470703\"/>\n       <use xlink:href=\"#DejaVuSans-61\" x=\"220.947266\"/>\n       <use xlink:href=\"#DejaVuSans-6d\" x=\"282.226562\"/>\n       <use xlink:href=\"#DejaVuSans-61\" x=\"379.638672\"/>\n      </g>\n     </g>\n    </g>\n    <g id=\"ytick_14\">\n     <g id=\"line2d_23\">\n      <path d=\"M 141.349531 622.137931 \nL 978.349531 622.137931 \n\" clip-path=\"url(#pa7ad93e3f6)\" style=\"fill: none; stroke: #cccccc; stroke-linecap: round\"/>\n     </g>\n     <g id=\"text_23\">\n      <!-- New Hampshire -->\n      <g style=\"fill: #262626\" transform=\"translate(44.848125 626.317072) scale(0.11 -0.11)\">\n       <defs>\n        <path id=\"DejaVuSans-48\" d=\"M 628 4666 \nL 1259 4666 \nL 1259 2753 \nL 3553 2753 \nL 3553 4666 \nL 4184 4666 \nL 4184 0 \nL 3553 0 \nL 3553 2222 \nL 1259 2222 \nL 1259 0 \nL 628 0 \nL 628 4666 \nz\n\" transform=\"scale(0.015625)\"/>\n        <path id=\"DejaVuSans-70\" d=\"M 1159 525 \nL 1159 -1331 \nL 581 -1331 \nL 581 3500 \nL 1159 3500 \nL 1159 2969 \nQ 1341 3281 1617 3432 \nQ 1894 3584 2278 3584 \nQ 2916 3584 3314 3078 \nQ 3713 2572 3713 1747 \nQ 3713 922 3314 415 \nQ 2916 -91 2278 -91 \nQ 1894 -91 1617 61 \nQ 1341 213 1159 525 \nz\nM 3116 1747 \nQ 3116 2381 2855 2742 \nQ 2594 3103 2138 3103 \nQ 1681 3103 1420 2742 \nQ 1159 2381 1159 1747 \nQ 1159 1113 1420 752 \nQ 1681 391 2138 391 \nQ 2594 391 2855 752 \nQ 3116 1113 3116 1747 \nz\n\" transform=\"scale(0.015625)\"/>\n       </defs>\n       <use xlink:href=\"#DejaVuSans-4e\"/>\n       <use xlink:href=\"#DejaVuSans-65\" x=\"74.804688\"/>\n       <use xlink:href=\"#DejaVuSans-77\" x=\"136.328125\"/>\n       <use xlink:href=\"#DejaVuSans-20\" x=\"218.115234\"/>\n       <use xlink:href=\"#DejaVuSans-48\" x=\"249.902344\"/>\n       <use xlink:href=\"#DejaVuSans-61\" x=\"325.097656\"/>\n       <use xlink:href=\"#DejaVuSans-6d\" x=\"386.376953\"/>\n       <use xlink:href=\"#DejaVuSans-70\" x=\"483.789062\"/>\n       <use xlink:href=\"#DejaVuSans-73\" x=\"547.265625\"/>\n       <use xlink:href=\"#DejaVuSans-68\" x=\"599.365234\"/>\n       <use xlink:href=\"#DejaVuSans-69\" x=\"662.744141\"/>\n       <use xlink:href=\"#DejaVuSans-72\" x=\"690.527344\"/>\n       <use xlink:href=\"#DejaVuSans-65\" x=\"729.390625\"/>\n      </g>\n     </g>\n    </g>\n    <g id=\"ytick_15\">\n     <g id=\"line2d_24\">\n      <path d=\"M 141.349531 606.206897 \nL 978.349531 606.206897 \n\" clip-path=\"url(#pa7ad93e3f6)\" style=\"fill: none; stroke: #cccccc; stroke-linecap: round\"/>\n     </g>\n     <g id=\"text_24\">\n      <!-- Oregon -->\n      <g style=\"fill: #262626\" transform=\"translate(91.462344 610.386037) scale(0.11 -0.11)\">\n       <defs>\n        <path id=\"DejaVuSans-4f\" d=\"M 2522 4238 \nQ 1834 4238 1429 3725 \nQ 1025 3213 1025 2328 \nQ 1025 1447 1429 934 \nQ 1834 422 2522 422 \nQ 3209 422 3611 934 \nQ 4013 1447 4013 2328 \nQ 4013 3213 3611 3725 \nQ 3209 4238 2522 4238 \nz\nM 2522 4750 \nQ 3503 4750 4090 4092 \nQ 4678 3434 4678 2328 \nQ 4678 1225 4090 567 \nQ 3503 -91 2522 -91 \nQ 1538 -91 948 565 \nQ 359 1222 359 2328 \nQ 359 3434 948 4092 \nQ 1538 4750 2522 4750 \nz\n\" transform=\"scale(0.015625)\"/>\n       </defs>\n       <use xlink:href=\"#DejaVuSans-4f\"/>\n       <use xlink:href=\"#DejaVuSans-72\" x=\"78.710938\"/>\n       <use xlink:href=\"#DejaVuSans-65\" x=\"117.574219\"/>\n       <use xlink:href=\"#DejaVuSans-67\" x=\"179.097656\"/>\n       <use xlink:href=\"#DejaVuSans-6f\" x=\"242.574219\"/>\n       <use xlink:href=\"#DejaVuSans-6e\" x=\"303.755859\"/>\n      </g>\n     </g>\n    </g>\n    <g id=\"ytick_16\">\n     <g id=\"line2d_25\">\n      <path d=\"M 141.349531 590.275862 \nL 978.349531 590.275862 \n\" clip-path=\"url(#pa7ad93e3f6)\" style=\"fill: none; stroke: #cccccc; stroke-linecap: round\"/>\n     </g>\n     <g id=\"text_25\">\n      <!-- Wyoming -->\n      <g style=\"fill: #262626\" transform=\"translate(80.199375 594.455003) scale(0.11 -0.11)\">\n       <use xlink:href=\"#DejaVuSans-57\"/>\n       <use xlink:href=\"#DejaVuSans-79\" x=\"97.126953\"/>\n       <use xlink:href=\"#DejaVuSans-6f\" x=\"156.306641\"/>\n       <use xlink:href=\"#DejaVuSans-6d\" x=\"217.488281\"/>\n       <use xlink:href=\"#DejaVuSans-69\" x=\"314.900391\"/>\n       <use xlink:href=\"#DejaVuSans-6e\" x=\"342.683594\"/>\n       <use xlink:href=\"#DejaVuSans-67\" x=\"406.0625\"/>\n      </g>\n     </g>\n    </g>\n    <g id=\"ytick_17\">\n     <g id=\"line2d_26\">\n      <path d=\"M 141.349531 574.344828 \nL 978.349531 574.344828 \n\" clip-path=\"url(#pa7ad93e3f6)\" style=\"fill: none; stroke: #cccccc; stroke-linecap: round\"/>\n     </g>\n     <g id=\"text_26\">\n      <!-- Arizona -->\n      <g style=\"fill: #262626\" transform=\"translate(90.530781 578.523968) scale(0.11 -0.11)\">\n       <defs>\n        <path id=\"DejaVuSans-7a\" d=\"M 353 3500 \nL 3084 3500 \nL 3084 2975 \nL 922 459 \nL 3084 459 \nL 3084 0 \nL 275 0 \nL 275 525 \nL 2438 3041 \nL 353 3041 \nL 353 3500 \nz\n\" transform=\"scale(0.015625)\"/>\n       </defs>\n       <use xlink:href=\"#DejaVuSans-41\"/>\n       <use xlink:href=\"#DejaVuSans-72\" x=\"68.408203\"/>\n       <use xlink:href=\"#DejaVuSans-69\" x=\"109.521484\"/>\n       <use xlink:href=\"#DejaVuSans-7a\" x=\"137.304688\"/>\n       <use xlink:href=\"#DejaVuSans-6f\" x=\"189.794922\"/>\n       <use xlink:href=\"#DejaVuSans-6e\" x=\"250.976562\"/>\n       <use xlink:href=\"#DejaVuSans-61\" x=\"314.355469\"/>\n      </g>\n     </g>\n    </g>\n    <g id=\"ytick_18\">\n     <g id=\"line2d_27\">\n      <path d=\"M 141.349531 558.413793 \nL 978.349531 558.413793 \n\" clip-path=\"url(#pa7ad93e3f6)\" style=\"fill: none; stroke: #cccccc; stroke-linecap: round\"/>\n     </g>\n     <g id=\"text_27\">\n      <!-- Louisiana -->\n      <g style=\"fill: #262626\" transform=\"translate(79.915781 562.592934) scale(0.11 -0.11)\">\n       <defs>\n        <path id=\"DejaVuSans-4c\" d=\"M 628 4666 \nL 1259 4666 \nL 1259 531 \nL 3531 531 \nL 3531 0 \nL 628 0 \nL 628 4666 \nz\n\" transform=\"scale(0.015625)\"/>\n       </defs>\n       <use xlink:href=\"#DejaVuSans-4c\"/>\n       <use xlink:href=\"#DejaVuSans-6f\" x=\"53.962891\"/>\n       <use xlink:href=\"#DejaVuSans-75\" x=\"115.144531\"/>\n       <use xlink:href=\"#DejaVuSans-69\" x=\"178.523438\"/>\n       <use xlink:href=\"#DejaVuSans-73\" x=\"206.306641\"/>\n       <use xlink:href=\"#DejaVuSans-69\" x=\"258.40625\"/>\n       <use xlink:href=\"#DejaVuSans-61\" x=\"286.189453\"/>\n       <use xlink:href=\"#DejaVuSans-6e\" x=\"347.46875\"/>\n       <use xlink:href=\"#DejaVuSans-61\" x=\"410.847656\"/>\n      </g>\n     </g>\n    </g>\n    <g id=\"ytick_19\">\n     <g id=\"line2d_28\">\n      <path d=\"M 141.349531 542.482759 \nL 978.349531 542.482759 \n\" clip-path=\"url(#pa7ad93e3f6)\" style=\"fill: none; stroke: #cccccc; stroke-linecap: round\"/>\n     </g>\n     <g id=\"text_28\">\n      <!-- Indiana -->\n      <g style=\"fill: #262626\" transform=\"translate(91.140938 546.661899) scale(0.11 -0.11)\">\n       <defs>\n        <path id=\"DejaVuSans-49\" d=\"M 628 4666 \nL 1259 4666 \nL 1259 0 \nL 628 0 \nL 628 4666 \nz\n\" transform=\"scale(0.015625)\"/>\n       </defs>\n       <use xlink:href=\"#DejaVuSans-49\"/>\n       <use xlink:href=\"#DejaVuSans-6e\" x=\"29.492188\"/>\n       <use xlink:href=\"#DejaVuSans-64\" x=\"92.871094\"/>\n       <use xlink:href=\"#DejaVuSans-69\" x=\"156.347656\"/>\n       <use xlink:href=\"#DejaVuSans-61\" x=\"184.130859\"/>\n       <use xlink:href=\"#DejaVuSans-6e\" x=\"245.410156\"/>\n       <use xlink:href=\"#DejaVuSans-61\" x=\"308.789062\"/>\n      </g>\n     </g>\n    </g>\n    <g id=\"ytick_20\">\n     <g id=\"line2d_29\">\n      <path d=\"M 141.349531 526.551724 \nL 978.349531 526.551724 \n\" clip-path=\"url(#pa7ad93e3f6)\" style=\"fill: none; stroke: #cccccc; stroke-linecap: round\"/>\n     </g>\n     <g id=\"text_29\">\n      <!-- Idaho -->\n      <g style=\"fill: #262626\" transform=\"translate(101.178438 530.730865) scale(0.11 -0.11)\">\n       <use xlink:href=\"#DejaVuSans-49\"/>\n       <use xlink:href=\"#DejaVuSans-64\" x=\"29.492188\"/>\n       <use xlink:href=\"#DejaVuSans-61\" x=\"92.96875\"/>\n       <use xlink:href=\"#DejaVuSans-68\" x=\"154.248047\"/>\n       <use xlink:href=\"#DejaVuSans-6f\" x=\"217.626953\"/>\n      </g>\n     </g>\n    </g>\n    <g id=\"ytick_21\">\n     <g id=\"line2d_30\">\n      <path d=\"M 141.349531 510.62069 \nL 978.349531 510.62069 \n\" clip-path=\"url(#pa7ad93e3f6)\" style=\"fill: none; stroke: #cccccc; stroke-linecap: round\"/>\n     </g>\n     <g id=\"text_30\">\n      <!-- Connecticut -->\n      <g style=\"fill: #262626\" transform=\"translate(65.978438 514.79983) scale(0.11 -0.11)\">\n       <use xlink:href=\"#DejaVuSans-43\"/>\n       <use xlink:href=\"#DejaVuSans-6f\" x=\"69.824219\"/>\n       <use xlink:href=\"#DejaVuSans-6e\" x=\"131.005859\"/>\n       <use xlink:href=\"#DejaVuSans-6e\" x=\"194.384766\"/>\n       <use xlink:href=\"#DejaVuSans-65\" x=\"257.763672\"/>\n       <use xlink:href=\"#DejaVuSans-63\" x=\"319.287109\"/>\n       <use xlink:href=\"#DejaVuSans-74\" x=\"374.267578\"/>\n       <use xlink:href=\"#DejaVuSans-69\" x=\"413.476562\"/>\n       <use xlink:href=\"#DejaVuSans-63\" x=\"441.259766\"/>\n       <use xlink:href=\"#DejaVuSans-75\" x=\"496.240234\"/>\n       <use xlink:href=\"#DejaVuSans-74\" x=\"559.619141\"/>\n      </g>\n     </g>\n    </g>\n    <g id=\"ytick_22\">\n     <g id=\"line2d_31\">\n      <path d=\"M 141.349531 494.689655 \nL 978.349531 494.689655 \n\" clip-path=\"url(#pa7ad93e3f6)\" style=\"fill: none; stroke: #cccccc; stroke-linecap: round\"/>\n     </g>\n     <g id=\"text_31\">\n      <!-- Hawaii -->\n      <g style=\"fill: #262626\" transform=\"translate(94.9875 498.868796) scale(0.11 -0.11)\">\n       <use xlink:href=\"#DejaVuSans-48\"/>\n       <use xlink:href=\"#DejaVuSans-61\" x=\"75.195312\"/>\n       <use xlink:href=\"#DejaVuSans-77\" x=\"136.474609\"/>\n       <use xlink:href=\"#DejaVuSans-61\" x=\"218.261719\"/>\n       <use xlink:href=\"#DejaVuSans-69\" x=\"279.541016\"/>\n       <use xlink:href=\"#DejaVuSans-69\" x=\"307.324219\"/>\n      </g>\n     </g>\n    </g>\n    <g id=\"ytick_23\">\n     <g id=\"line2d_32\">\n      <path d=\"M 141.349531 478.758621 \nL 978.349531 478.758621 \n\" clip-path=\"url(#pa7ad93e3f6)\" style=\"fill: none; stroke: #cccccc; stroke-linecap: round\"/>\n     </g>\n     <g id=\"text_32\">\n      <!-- Illinois -->\n      <g style=\"fill: #262626\" transform=\"translate(96.948594 482.937761) scale(0.11 -0.11)\">\n       <use xlink:href=\"#DejaVuSans-49\"/>\n       <use xlink:href=\"#DejaVuSans-6c\" x=\"29.492188\"/>\n       <use xlink:href=\"#DejaVuSans-6c\" x=\"57.275391\"/>\n       <use xlink:href=\"#DejaVuSans-69\" x=\"85.058594\"/>\n       <use xlink:href=\"#DejaVuSans-6e\" x=\"112.841797\"/>\n       <use xlink:href=\"#DejaVuSans-6f\" x=\"176.220703\"/>\n       <use xlink:href=\"#DejaVuSans-69\" x=\"237.402344\"/>\n       <use xlink:href=\"#DejaVuSans-73\" x=\"265.185547\"/>\n      </g>\n     </g>\n    </g>\n    <g id=\"ytick_24\">\n     <g id=\"line2d_33\">\n      <path d=\"M 141.349531 462.827586 \nL 978.349531 462.827586 \n\" clip-path=\"url(#pa7ad93e3f6)\" style=\"fill: none; stroke: #cccccc; stroke-linecap: round\"/>\n     </g>\n     <g id=\"text_33\">\n      <!-- Massachusetts -->\n      <g style=\"fill: #262626\" transform=\"translate(50.571563 467.006727) scale(0.11 -0.11)\">\n       <use xlink:href=\"#DejaVuSans-4d\"/>\n       <use xlink:href=\"#DejaVuSans-61\" x=\"86.279297\"/>\n       <use xlink:href=\"#DejaVuSans-73\" x=\"147.558594\"/>\n       <use xlink:href=\"#DejaVuSans-73\" x=\"199.658203\"/>\n       <use xlink:href=\"#DejaVuSans-61\" x=\"251.757812\"/>\n       <use xlink:href=\"#DejaVuSans-63\" x=\"313.037109\"/>\n       <use xlink:href=\"#DejaVuSans-68\" x=\"368.017578\"/>\n       <use xlink:href=\"#DejaVuSans-75\" x=\"431.396484\"/>\n       <use xlink:href=\"#DejaVuSans-73\" x=\"494.775391\"/>\n       <use xlink:href=\"#DejaVuSans-65\" x=\"546.875\"/>\n       <use xlink:href=\"#DejaVuSans-74\" x=\"608.398438\"/>\n       <use xlink:href=\"#DejaVuSans-74\" x=\"647.607422\"/>\n       <use xlink:href=\"#DejaVuSans-73\" x=\"686.816406\"/>\n      </g>\n     </g>\n    </g>\n    <g id=\"ytick_25\">\n     <g id=\"line2d_34\">\n      <path d=\"M 141.349531 446.896552 \nL 978.349531 446.896552 \n\" clip-path=\"url(#pa7ad93e3f6)\" style=\"fill: none; stroke: #cccccc; stroke-linecap: round\"/>\n     </g>\n     <g id=\"text_34\">\n      <!-- Texas -->\n      <g style=\"fill: #262626\" transform=\"translate(101.443125 451.075692) scale(0.11 -0.11)\">\n       <defs>\n        <path id=\"DejaVuSans-54\" d=\"M -19 4666 \nL 3928 4666 \nL 3928 4134 \nL 2272 4134 \nL 2272 0 \nL 1638 0 \nL 1638 4134 \nL -19 4134 \nL -19 4666 \nz\n\" transform=\"scale(0.015625)\"/>\n        <path id=\"DejaVuSans-78\" d=\"M 3513 3500 \nL 2247 1797 \nL 3578 0 \nL 2900 0 \nL 1881 1375 \nL 863 0 \nL 184 0 \nL 1544 1831 \nL 300 3500 \nL 978 3500 \nL 1906 2253 \nL 2834 3500 \nL 3513 3500 \nz\n\" transform=\"scale(0.015625)\"/>\n       </defs>\n       <use xlink:href=\"#DejaVuSans-54\"/>\n       <use xlink:href=\"#DejaVuSans-65\" x=\"44.083984\"/>\n       <use xlink:href=\"#DejaVuSans-78\" x=\"103.857422\"/>\n       <use xlink:href=\"#DejaVuSans-61\" x=\"163.037109\"/>\n       <use xlink:href=\"#DejaVuSans-73\" x=\"224.316406\"/>\n      </g>\n     </g>\n    </g>\n    <g id=\"ytick_26\">\n     <g id=\"line2d_35\">\n      <path d=\"M 141.349531 430.965517 \nL 978.349531 430.965517 \n\" clip-path=\"url(#pa7ad93e3f6)\" style=\"fill: none; stroke: #cccccc; stroke-linecap: round\"/>\n     </g>\n     <g id=\"text_35\">\n      <!-- Montana -->\n      <g style=\"fill: #262626\" transform=\"translate(83.89125 435.144658) scale(0.11 -0.11)\">\n       <use xlink:href=\"#DejaVuSans-4d\"/>\n       <use xlink:href=\"#DejaVuSans-6f\" x=\"86.279297\"/>\n       <use xlink:href=\"#DejaVuSans-6e\" x=\"147.460938\"/>\n       <use xlink:href=\"#DejaVuSans-74\" x=\"210.839844\"/>\n       <use xlink:href=\"#DejaVuSans-61\" x=\"250.048828\"/>\n       <use xlink:href=\"#DejaVuSans-6e\" x=\"311.328125\"/>\n       <use xlink:href=\"#DejaVuSans-61\" x=\"374.707031\"/>\n      </g>\n     </g>\n    </g>\n    <g id=\"ytick_27\">\n     <g id=\"line2d_36\">\n      <path d=\"M 141.349531 415.034483 \nL 978.349531 415.034483 \n\" clip-path=\"url(#pa7ad93e3f6)\" style=\"fill: none; stroke: #cccccc; stroke-linecap: round\"/>\n     </g>\n     <g id=\"text_36\">\n      <!-- Nebraska -->\n      <g style=\"fill: #262626\" transform=\"translate(79.957031 419.213623) scale(0.11 -0.11)\">\n       <use xlink:href=\"#DejaVuSans-4e\"/>\n       <use xlink:href=\"#DejaVuSans-65\" x=\"74.804688\"/>\n       <use xlink:href=\"#DejaVuSans-62\" x=\"136.328125\"/>\n       <use xlink:href=\"#DejaVuSans-72\" x=\"199.804688\"/>\n       <use xlink:href=\"#DejaVuSans-61\" x=\"240.917969\"/>\n       <use xlink:href=\"#DejaVuSans-73\" x=\"302.197266\"/>\n       <use xlink:href=\"#DejaVuSans-6b\" x=\"354.296875\"/>\n       <use xlink:href=\"#DejaVuSans-61\" x=\"410.457031\"/>\n      </g>\n     </g>\n    </g>\n    <g id=\"ytick_28\">\n     <g id=\"line2d_37\">\n      <path d=\"M 141.349531 399.103448 \nL 978.349531 399.103448 \n\" clip-path=\"url(#pa7ad93e3f6)\" style=\"fill: none; stroke: #cccccc; stroke-linecap: round\"/>\n     </g>\n     <g id=\"text_37\">\n      <!-- Ohio -->\n      <g style=\"fill: #262626\" transform=\"translate(106.432656 403.282589) scale(0.11 -0.11)\">\n       <use xlink:href=\"#DejaVuSans-4f\"/>\n       <use xlink:href=\"#DejaVuSans-68\" x=\"78.710938\"/>\n       <use xlink:href=\"#DejaVuSans-69\" x=\"142.089844\"/>\n       <use xlink:href=\"#DejaVuSans-6f\" x=\"169.873047\"/>\n      </g>\n     </g>\n    </g>\n    <g id=\"ytick_29\">\n     <g id=\"line2d_38\">\n      <path d=\"M 141.349531 383.172414 \nL 978.349531 383.172414 \n\" clip-path=\"url(#pa7ad93e3f6)\" style=\"fill: none; stroke: #cccccc; stroke-linecap: round\"/>\n     </g>\n     <g id=\"text_38\">\n      <!-- Colorado -->\n      <g style=\"fill: #262626\" transform=\"translate(82.674375 387.351554) scale(0.11 -0.11)\">\n       <use xlink:href=\"#DejaVuSans-43\"/>\n       <use xlink:href=\"#DejaVuSans-6f\" x=\"69.824219\"/>\n       <use xlink:href=\"#DejaVuSans-6c\" x=\"131.005859\"/>\n       <use xlink:href=\"#DejaVuSans-6f\" x=\"158.789062\"/>\n       <use xlink:href=\"#DejaVuSans-72\" x=\"219.970703\"/>\n       <use xlink:href=\"#DejaVuSans-61\" x=\"261.083984\"/>\n       <use xlink:href=\"#DejaVuSans-64\" x=\"322.363281\"/>\n       <use xlink:href=\"#DejaVuSans-6f\" x=\"385.839844\"/>\n      </g>\n     </g>\n    </g>\n    <g id=\"ytick_30\">\n     <g id=\"line2d_39\">\n      <path d=\"M 141.349531 367.241379 \nL 978.349531 367.241379 \n\" clip-path=\"url(#pa7ad93e3f6)\" style=\"fill: none; stroke: #cccccc; stroke-linecap: round\"/>\n     </g>\n     <g id=\"text_39\">\n      <!-- New Jersey -->\n      <g style=\"fill: #262626\" transform=\"translate(70.815 371.42052) scale(0.11 -0.11)\">\n       <defs>\n        <path id=\"DejaVuSans-4a\" d=\"M 628 4666 \nL 1259 4666 \nL 1259 325 \nQ 1259 -519 939 -900 \nQ 619 -1281 -91 -1281 \nL -331 -1281 \nL -331 -750 \nL -134 -750 \nQ 284 -750 456 -515 \nQ 628 -281 628 325 \nL 628 4666 \nz\n\" transform=\"scale(0.015625)\"/>\n       </defs>\n       <use xlink:href=\"#DejaVuSans-4e\"/>\n       <use xlink:href=\"#DejaVuSans-65\" x=\"74.804688\"/>\n       <use xlink:href=\"#DejaVuSans-77\" x=\"136.328125\"/>\n       <use xlink:href=\"#DejaVuSans-20\" x=\"218.115234\"/>\n       <use xlink:href=\"#DejaVuSans-4a\" x=\"249.902344\"/>\n       <use xlink:href=\"#DejaVuSans-65\" x=\"279.394531\"/>\n       <use xlink:href=\"#DejaVuSans-72\" x=\"340.917969\"/>\n       <use xlink:href=\"#DejaVuSans-73\" x=\"382.03125\"/>\n       <use xlink:href=\"#DejaVuSans-65\" x=\"434.130859\"/>\n       <use xlink:href=\"#DejaVuSans-79\" x=\"495.654297\"/>\n      </g>\n     </g>\n    </g>\n    <g id=\"ytick_31\">\n     <g id=\"line2d_40\">\n      <path d=\"M 141.349531 351.310345 \nL 978.349531 351.310345 \n\" clip-path=\"url(#pa7ad93e3f6)\" style=\"fill: none; stroke: #cccccc; stroke-linecap: round\"/>\n     </g>\n     <g id=\"text_40\">\n      <!-- Maryland -->\n      <g style=\"fill: #262626\" transform=\"translate(80.833594 355.489485) scale(0.11 -0.11)\">\n       <use xlink:href=\"#DejaVuSans-4d\"/>\n       <use xlink:href=\"#DejaVuSans-61\" x=\"86.279297\"/>\n       <use xlink:href=\"#DejaVuSans-72\" x=\"147.558594\"/>\n       <use xlink:href=\"#DejaVuSans-79\" x=\"188.671875\"/>\n       <use xlink:href=\"#DejaVuSans-6c\" x=\"247.851562\"/>\n       <use xlink:href=\"#DejaVuSans-61\" x=\"275.634766\"/>\n       <use xlink:href=\"#DejaVuSans-6e\" x=\"336.914062\"/>\n       <use xlink:href=\"#DejaVuSans-64\" x=\"400.292969\"/>\n      </g>\n     </g>\n    </g>\n    <g id=\"ytick_32\">\n     <g id=\"line2d_41\">\n      <path d=\"M 141.349531 335.37931 \nL 978.349531 335.37931 \n\" clip-path=\"url(#pa7ad93e3f6)\" style=\"fill: none; stroke: #cccccc; stroke-linecap: round\"/>\n     </g>\n     <g id=\"text_41\">\n      <!-- Virginia -->\n      <g style=\"fill: #262626\" transform=\"translate(90.379531 339.558451) scale(0.11 -0.11)\">\n       <use xlink:href=\"#DejaVuSans-56\"/>\n       <use xlink:href=\"#DejaVuSans-69\" x=\"66.158203\"/>\n       <use xlink:href=\"#DejaVuSans-72\" x=\"93.941406\"/>\n       <use xlink:href=\"#DejaVuSans-67\" x=\"133.304688\"/>\n       <use xlink:href=\"#DejaVuSans-69\" x=\"196.78125\"/>\n       <use xlink:href=\"#DejaVuSans-6e\" x=\"224.564453\"/>\n       <use xlink:href=\"#DejaVuSans-69\" x=\"287.943359\"/>\n       <use xlink:href=\"#DejaVuSans-61\" x=\"315.726562\"/>\n      </g>\n     </g>\n    </g>\n    <g id=\"ytick_33\">\n     <g id=\"line2d_42\">\n      <path d=\"M 141.349531 319.448276 \nL 978.349531 319.448276 \n\" clip-path=\"url(#pa7ad93e3f6)\" style=\"fill: none; stroke: #cccccc; stroke-linecap: round\"/>\n     </g>\n     <g id=\"text_42\">\n      <!-- Vermont -->\n      <g style=\"fill: #262626\" transform=\"translate(85.350469 323.627416) scale(0.11 -0.11)\">\n       <use xlink:href=\"#DejaVuSans-56\"/>\n       <use xlink:href=\"#DejaVuSans-65\" x=\"60.658203\"/>\n       <use xlink:href=\"#DejaVuSans-72\" x=\"122.181641\"/>\n       <use xlink:href=\"#DejaVuSans-6d\" x=\"161.544922\"/>\n       <use xlink:href=\"#DejaVuSans-6f\" x=\"258.957031\"/>\n       <use xlink:href=\"#DejaVuSans-6e\" x=\"320.138672\"/>\n       <use xlink:href=\"#DejaVuSans-74\" x=\"383.517578\"/>\n      </g>\n     </g>\n    </g>\n    <g id=\"ytick_34\">\n     <g id=\"line2d_43\">\n      <path d=\"M 141.349531 303.517241 \nL 978.349531 303.517241 \n\" clip-path=\"url(#pa7ad93e3f6)\" style=\"fill: none; stroke: #cccccc; stroke-linecap: round\"/>\n     </g>\n     <g id=\"text_43\">\n      <!-- North Carolina -->\n      <g style=\"fill: #262626\" transform=\"translate(52.336719 307.696382) scale(0.11 -0.11)\">\n       <use xlink:href=\"#DejaVuSans-4e\"/>\n       <use xlink:href=\"#DejaVuSans-6f\" x=\"74.804688\"/>\n       <use xlink:href=\"#DejaVuSans-72\" x=\"135.986328\"/>\n       <use xlink:href=\"#DejaVuSans-74\" x=\"177.099609\"/>\n       <use xlink:href=\"#DejaVuSans-68\" x=\"216.308594\"/>\n       <use xlink:href=\"#DejaVuSans-20\" x=\"279.6875\"/>\n       <use xlink:href=\"#DejaVuSans-43\" x=\"311.474609\"/>\n       <use xlink:href=\"#DejaVuSans-61\" x=\"381.298828\"/>\n       <use xlink:href=\"#DejaVuSans-72\" x=\"442.578125\"/>\n       <use xlink:href=\"#DejaVuSans-6f\" x=\"481.441406\"/>\n       <use xlink:href=\"#DejaVuSans-6c\" x=\"542.623047\"/>\n       <use xlink:href=\"#DejaVuSans-69\" x=\"570.40625\"/>\n       <use xlink:href=\"#DejaVuSans-6e\" x=\"598.189453\"/>\n       <use xlink:href=\"#DejaVuSans-61\" x=\"661.568359\"/>\n      </g>\n     </g>\n    </g>\n    <g id=\"ytick_35\">\n     <g id=\"line2d_44\">\n      <path d=\"M 141.349531 287.586207 \nL 978.349531 287.586207 \n\" clip-path=\"url(#pa7ad93e3f6)\" style=\"fill: none; stroke: #cccccc; stroke-linecap: round\"/>\n     </g>\n     <g id=\"text_44\">\n      <!-- Arkansas -->\n      <g style=\"fill: #262626\" transform=\"translate(81.711875 291.765348) scale(0.11 -0.11)\">\n       <use xlink:href=\"#DejaVuSans-41\"/>\n       <use xlink:href=\"#DejaVuSans-72\" x=\"68.408203\"/>\n       <use xlink:href=\"#DejaVuSans-6b\" x=\"109.521484\"/>\n       <use xlink:href=\"#DejaVuSans-61\" x=\"165.681641\"/>\n       <use xlink:href=\"#DejaVuSans-6e\" x=\"226.960938\"/>\n       <use xlink:href=\"#DejaVuSans-73\" x=\"290.339844\"/>\n       <use xlink:href=\"#DejaVuSans-61\" x=\"342.439453\"/>\n       <use xlink:href=\"#DejaVuSans-73\" x=\"403.71875\"/>\n      </g>\n     </g>\n    </g>\n    <g id=\"ytick_36\">\n     <g id=\"line2d_45\">\n      <path d=\"M 141.349531 271.655172 \nL 978.349531 271.655172 \n\" clip-path=\"url(#pa7ad93e3f6)\" style=\"fill: none; stroke: #cccccc; stroke-linecap: round\"/>\n     </g>\n     <g id=\"text_45\">\n      <!-- Washington -->\n      <g style=\"fill: #262626\" transform=\"translate(67.207344 275.834313) scale(0.11 -0.11)\">\n       <use xlink:href=\"#DejaVuSans-57\"/>\n       <use xlink:href=\"#DejaVuSans-61\" x=\"92.501953\"/>\n       <use xlink:href=\"#DejaVuSans-73\" x=\"153.78125\"/>\n       <use xlink:href=\"#DejaVuSans-68\" x=\"205.880859\"/>\n       <use xlink:href=\"#DejaVuSans-69\" x=\"269.259766\"/>\n       <use xlink:href=\"#DejaVuSans-6e\" x=\"297.042969\"/>\n       <use xlink:href=\"#DejaVuSans-67\" x=\"360.421875\"/>\n       <use xlink:href=\"#DejaVuSans-74\" x=\"423.898438\"/>\n       <use xlink:href=\"#DejaVuSans-6f\" x=\"463.107422\"/>\n       <use xlink:href=\"#DejaVuSans-6e\" x=\"524.289062\"/>\n      </g>\n     </g>\n    </g>\n    <g id=\"ytick_37\">\n     <g id=\"line2d_46\">\n      <path d=\"M 141.349531 255.724138 \nL 978.349531 255.724138 \n\" clip-path=\"url(#pa7ad93e3f6)\" style=\"fill: none; stroke: #cccccc; stroke-linecap: round\"/>\n     </g>\n     <g id=\"text_46\">\n      <!-- Kansas -->\n      <g style=\"fill: #262626\" transform=\"translate(92.914688 259.903279) scale(0.11 -0.11)\">\n       <defs>\n        <path id=\"DejaVuSans-4b\" d=\"M 628 4666 \nL 1259 4666 \nL 1259 2694 \nL 3353 4666 \nL 4166 4666 \nL 1850 2491 \nL 4331 0 \nL 3500 0 \nL 1259 2247 \nL 1259 0 \nL 628 0 \nL 628 4666 \nz\n\" transform=\"scale(0.015625)\"/>\n       </defs>\n       <use xlink:href=\"#DejaVuSans-4b\"/>\n       <use xlink:href=\"#DejaVuSans-61\" x=\"63.826172\"/>\n       <use xlink:href=\"#DejaVuSans-6e\" x=\"125.105469\"/>\n       <use xlink:href=\"#DejaVuSans-73\" x=\"188.484375\"/>\n       <use xlink:href=\"#DejaVuSans-61\" x=\"240.583984\"/>\n       <use xlink:href=\"#DejaVuSans-73\" x=\"301.863281\"/>\n      </g>\n     </g>\n    </g>\n    <g id=\"ytick_38\">\n     <g id=\"line2d_47\">\n      <path d=\"M 141.349531 239.793103 \nL 978.349531 239.793103 \n\" clip-path=\"url(#pa7ad93e3f6)\" style=\"fill: none; stroke: #cccccc; stroke-linecap: round\"/>\n     </g>\n     <g id=\"text_47\">\n      <!-- Oklahoma -->\n      <g style=\"fill: #262626\" transform=\"translate(75.866406 243.972244) scale(0.11 -0.11)\">\n       <use xlink:href=\"#DejaVuSans-4f\"/>\n       <use xlink:href=\"#DejaVuSans-6b\" x=\"78.710938\"/>\n       <use xlink:href=\"#DejaVuSans-6c\" x=\"136.621094\"/>\n       <use xlink:href=\"#DejaVuSans-61\" x=\"164.404297\"/>\n       <use xlink:href=\"#DejaVuSans-68\" x=\"225.683594\"/>\n       <use xlink:href=\"#DejaVuSans-6f\" x=\"289.0625\"/>\n       <use xlink:href=\"#DejaVuSans-6d\" x=\"350.244141\"/>\n       <use xlink:href=\"#DejaVuSans-61\" x=\"447.65625\"/>\n      </g>\n     </g>\n    </g>\n    <g id=\"ytick_39\">\n     <g id=\"line2d_48\">\n      <path d=\"M 141.349531 223.862069 \nL 978.349531 223.862069 \n\" clip-path=\"url(#pa7ad93e3f6)\" style=\"fill: none; stroke: #cccccc; stroke-linecap: round\"/>\n     </g>\n     <g id=\"text_48\">\n      <!-- Wisconsin -->\n      <g style=\"fill: #262626\" transform=\"translate(76.926875 228.04121) scale(0.11 -0.11)\">\n       <use xlink:href=\"#DejaVuSans-57\"/>\n       <use xlink:href=\"#DejaVuSans-69\" x=\"96.626953\"/>\n       <use xlink:href=\"#DejaVuSans-73\" x=\"124.410156\"/>\n       <use xlink:href=\"#DejaVuSans-63\" x=\"176.509766\"/>\n       <use xlink:href=\"#DejaVuSans-6f\" x=\"231.490234\"/>\n       <use xlink:href=\"#DejaVuSans-6e\" x=\"292.671875\"/>\n       <use xlink:href=\"#DejaVuSans-73\" x=\"356.050781\"/>\n       <use xlink:href=\"#DejaVuSans-69\" x=\"408.150391\"/>\n       <use xlink:href=\"#DejaVuSans-6e\" x=\"435.933594\"/>\n      </g>\n     </g>\n    </g>\n    <g id=\"ytick_40\">\n     <g id=\"line2d_49\">\n      <path d=\"M 141.349531 207.931034 \nL 978.349531 207.931034 \n\" clip-path=\"url(#pa7ad93e3f6)\" style=\"fill: none; stroke: #cccccc; stroke-linecap: round\"/>\n     </g>\n     <g id=\"text_49\">\n      <!-- Mississippi -->\n      <g style=\"fill: #262626\" transform=\"translate(73.247031 212.110175) scale(0.11 -0.11)\">\n       <use xlink:href=\"#DejaVuSans-4d\"/>\n       <use xlink:href=\"#DejaVuSans-69\" x=\"86.279297\"/>\n       <use xlink:href=\"#DejaVuSans-73\" x=\"114.0625\"/>\n       <use xlink:href=\"#DejaVuSans-73\" x=\"166.162109\"/>\n       <use xlink:href=\"#DejaVuSans-69\" x=\"218.261719\"/>\n       <use xlink:href=\"#DejaVuSans-73\" x=\"246.044922\"/>\n       <use xlink:href=\"#DejaVuSans-73\" x=\"298.144531\"/>\n       <use xlink:href=\"#DejaVuSans-69\" x=\"350.244141\"/>\n       <use xlink:href=\"#DejaVuSans-70\" x=\"378.027344\"/>\n       <use xlink:href=\"#DejaVuSans-70\" x=\"441.503906\"/>\n       <use xlink:href=\"#DejaVuSans-69\" x=\"504.980469\"/>\n      </g>\n     </g>\n    </g>\n    <g id=\"ytick_41\">\n     <g id=\"line2d_50\">\n      <path d=\"M 141.349531 192 \nL 978.349531 192 \n\" clip-path=\"url(#pa7ad93e3f6)\" style=\"fill: none; stroke: #cccccc; stroke-linecap: round\"/>\n     </g>\n     <g id=\"text_50\">\n      <!-- Missouri -->\n      <g style=\"fill: #262626\" transform=\"translate(86.562188 196.179141) scale(0.11 -0.11)\">\n       <use xlink:href=\"#DejaVuSans-4d\"/>\n       <use xlink:href=\"#DejaVuSans-69\" x=\"86.279297\"/>\n       <use xlink:href=\"#DejaVuSans-73\" x=\"114.0625\"/>\n       <use xlink:href=\"#DejaVuSans-73\" x=\"166.162109\"/>\n       <use xlink:href=\"#DejaVuSans-6f\" x=\"218.261719\"/>\n       <use xlink:href=\"#DejaVuSans-75\" x=\"279.443359\"/>\n       <use xlink:href=\"#DejaVuSans-72\" x=\"342.822266\"/>\n       <use xlink:href=\"#DejaVuSans-69\" x=\"383.935547\"/>\n      </g>\n     </g>\n    </g>\n    <g id=\"ytick_42\">\n     <g id=\"line2d_51\">\n      <path d=\"M 141.349531 176.068966 \nL 978.349531 176.068966 \n\" clip-path=\"url(#pa7ad93e3f6)\" style=\"fill: none; stroke: #cccccc; stroke-linecap: round\"/>\n     </g>\n     <g id=\"text_51\">\n      <!-- Michigan -->\n      <g style=\"fill: #262626\" transform=\"translate(82.531719 180.248106) scale(0.11 -0.11)\">\n       <use xlink:href=\"#DejaVuSans-4d\"/>\n       <use xlink:href=\"#DejaVuSans-69\" x=\"86.279297\"/>\n       <use xlink:href=\"#DejaVuSans-63\" x=\"114.0625\"/>\n       <use xlink:href=\"#DejaVuSans-68\" x=\"169.042969\"/>\n       <use xlink:href=\"#DejaVuSans-69\" x=\"232.421875\"/>\n       <use xlink:href=\"#DejaVuSans-67\" x=\"260.205078\"/>\n       <use xlink:href=\"#DejaVuSans-61\" x=\"323.681641\"/>\n       <use xlink:href=\"#DejaVuSans-6e\" x=\"384.960938\"/>\n      </g>\n     </g>\n    </g>\n    <g id=\"ytick_43\">\n     <g id=\"line2d_52\">\n      <path d=\"M 141.349531 160.137931 \nL 978.349531 160.137931 \n\" clip-path=\"url(#pa7ad93e3f6)\" style=\"fill: none; stroke: #cccccc; stroke-linecap: round\"/>\n     </g>\n     <g id=\"text_52\">\n      <!-- Rhode Island -->\n      <g style=\"fill: #262626\" transform=\"translate(60.53 164.317072) scale(0.11 -0.11)\">\n       <defs>\n        <path id=\"DejaVuSans-52\" d=\"M 2841 2188 \nQ 3044 2119 3236 1894 \nQ 3428 1669 3622 1275 \nL 4263 0 \nL 3584 0 \nL 2988 1197 \nQ 2756 1666 2539 1819 \nQ 2322 1972 1947 1972 \nL 1259 1972 \nL 1259 0 \nL 628 0 \nL 628 4666 \nL 2053 4666 \nQ 2853 4666 3247 4331 \nQ 3641 3997 3641 3322 \nQ 3641 2881 3436 2590 \nQ 3231 2300 2841 2188 \nz\nM 1259 4147 \nL 1259 2491 \nL 2053 2491 \nQ 2509 2491 2742 2702 \nQ 2975 2913 2975 3322 \nQ 2975 3731 2742 3939 \nQ 2509 4147 2053 4147 \nL 1259 4147 \nz\n\" transform=\"scale(0.015625)\"/>\n       </defs>\n       <use xlink:href=\"#DejaVuSans-52\"/>\n       <use xlink:href=\"#DejaVuSans-68\" x=\"69.482422\"/>\n       <use xlink:href=\"#DejaVuSans-6f\" x=\"132.861328\"/>\n       <use xlink:href=\"#DejaVuSans-64\" x=\"194.042969\"/>\n       <use xlink:href=\"#DejaVuSans-65\" x=\"257.519531\"/>\n       <use xlink:href=\"#DejaVuSans-20\" x=\"319.042969\"/>\n       <use xlink:href=\"#DejaVuSans-49\" x=\"350.830078\"/>\n       <use xlink:href=\"#DejaVuSans-73\" x=\"380.322266\"/>\n       <use xlink:href=\"#DejaVuSans-6c\" x=\"432.421875\"/>\n       <use xlink:href=\"#DejaVuSans-61\" x=\"460.205078\"/>\n       <use xlink:href=\"#DejaVuSans-6e\" x=\"521.484375\"/>\n       <use xlink:href=\"#DejaVuSans-64\" x=\"584.863281\"/>\n      </g>\n     </g>\n    </g>\n    <g id=\"ytick_44\">\n     <g id=\"line2d_53\">\n      <path d=\"M 141.349531 144.206897 \nL 978.349531 144.206897 \n\" clip-path=\"url(#pa7ad93e3f6)\" style=\"fill: none; stroke: #cccccc; stroke-linecap: round\"/>\n     </g>\n     <g id=\"text_53\">\n      <!-- Minnesota -->\n      <g style=\"fill: #262626\" transform=\"translate(75.0775 148.386037) scale(0.11 -0.11)\">\n       <use xlink:href=\"#DejaVuSans-4d\"/>\n       <use xlink:href=\"#DejaVuSans-69\" x=\"86.279297\"/>\n       <use xlink:href=\"#DejaVuSans-6e\" x=\"114.0625\"/>\n       <use xlink:href=\"#DejaVuSans-6e\" x=\"177.441406\"/>\n       <use xlink:href=\"#DejaVuSans-65\" x=\"240.820312\"/>\n       <use xlink:href=\"#DejaVuSans-73\" x=\"302.34375\"/>\n       <use xlink:href=\"#DejaVuSans-6f\" x=\"354.443359\"/>\n       <use xlink:href=\"#DejaVuSans-74\" x=\"415.625\"/>\n       <use xlink:href=\"#DejaVuSans-61\" x=\"454.833984\"/>\n      </g>\n     </g>\n    </g>\n    <g id=\"ytick_45\">\n     <g id=\"line2d_54\">\n      <path d=\"M 141.349531 128.275862 \nL 978.349531 128.275862 \n\" clip-path=\"url(#pa7ad93e3f6)\" style=\"fill: none; stroke: #cccccc; stroke-linecap: round\"/>\n     </g>\n     <g id=\"text_54\">\n      <!-- Iowa -->\n      <g style=\"fill: #262626\" transform=\"translate(106.137031 132.455003) scale(0.11 -0.11)\">\n       <use xlink:href=\"#DejaVuSans-49\"/>\n       <use xlink:href=\"#DejaVuSans-6f\" x=\"29.492188\"/>\n       <use xlink:href=\"#DejaVuSans-77\" x=\"90.673828\"/>\n       <use xlink:href=\"#DejaVuSans-61\" x=\"172.460938\"/>\n      </g>\n     </g>\n    </g>\n    <g id=\"ytick_46\">\n     <g id=\"line2d_55\">\n      <path d=\"M 141.349531 112.344828 \nL 978.349531 112.344828 \n\" clip-path=\"url(#pa7ad93e3f6)\" style=\"fill: none; stroke: #cccccc; stroke-linecap: round\"/>\n     </g>\n     <g id=\"text_55\">\n      <!-- New Mexico -->\n      <g style=\"fill: #262626\" transform=\"translate(65.9475 116.523968) scale(0.11 -0.11)\">\n       <use xlink:href=\"#DejaVuSans-4e\"/>\n       <use xlink:href=\"#DejaVuSans-65\" x=\"74.804688\"/>\n       <use xlink:href=\"#DejaVuSans-77\" x=\"136.328125\"/>\n       <use xlink:href=\"#DejaVuSans-20\" x=\"218.115234\"/>\n       <use xlink:href=\"#DejaVuSans-4d\" x=\"249.902344\"/>\n       <use xlink:href=\"#DejaVuSans-65\" x=\"336.181641\"/>\n       <use xlink:href=\"#DejaVuSans-78\" x=\"395.955078\"/>\n       <use xlink:href=\"#DejaVuSans-69\" x=\"455.134766\"/>\n       <use xlink:href=\"#DejaVuSans-63\" x=\"482.917969\"/>\n       <use xlink:href=\"#DejaVuSans-6f\" x=\"537.898438\"/>\n      </g>\n     </g>\n    </g>\n    <g id=\"ytick_47\">\n     <g id=\"line2d_56\">\n      <path d=\"M 141.349531 96.413793 \nL 978.349531 96.413793 \n\" clip-path=\"url(#pa7ad93e3f6)\" style=\"fill: none; stroke: #cccccc; stroke-linecap: round\"/>\n     </g>\n     <g id=\"text_56\">\n      <!-- Nevada -->\n      <g style=\"fill: #262626\" transform=\"translate(89.875938 100.592934) scale(0.11 -0.11)\">\n       <use xlink:href=\"#DejaVuSans-4e\"/>\n       <use xlink:href=\"#DejaVuSans-65\" x=\"74.804688\"/>\n       <use xlink:href=\"#DejaVuSans-76\" x=\"136.328125\"/>\n       <use xlink:href=\"#DejaVuSans-61\" x=\"195.507812\"/>\n       <use xlink:href=\"#DejaVuSans-64\" x=\"256.787109\"/>\n       <use xlink:href=\"#DejaVuSans-61\" x=\"320.263672\"/>\n      </g>\n     </g>\n    </g>\n    <g id=\"ytick_48\">\n     <g id=\"line2d_57\">\n      <path d=\"M 141.349531 80.482759 \nL 978.349531 80.482759 \n\" clip-path=\"url(#pa7ad93e3f6)\" style=\"fill: none; stroke: #cccccc; stroke-linecap: round\"/>\n     </g>\n     <g id=\"text_57\">\n      <!-- Delaware -->\n      <g style=\"fill: #262626\" transform=\"translate(80.034375 84.661899) scale(0.11 -0.11)\">\n       <use xlink:href=\"#DejaVuSans-44\"/>\n       <use xlink:href=\"#DejaVuSans-65\" x=\"77.001953\"/>\n       <use xlink:href=\"#DejaVuSans-6c\" x=\"138.525391\"/>\n       <use xlink:href=\"#DejaVuSans-61\" x=\"166.308594\"/>\n       <use xlink:href=\"#DejaVuSans-77\" x=\"227.587891\"/>\n       <use xlink:href=\"#DejaVuSans-61\" x=\"309.375\"/>\n       <use xlink:href=\"#DejaVuSans-72\" x=\"370.654297\"/>\n       <use xlink:href=\"#DejaVuSans-65\" x=\"409.517578\"/>\n      </g>\n     </g>\n    </g>\n    <g id=\"ytick_49\">\n     <g id=\"line2d_58\">\n      <path d=\"M 141.349531 64.551724 \nL 978.349531 64.551724 \n\" clip-path=\"url(#pa7ad93e3f6)\" style=\"fill: none; stroke: #cccccc; stroke-linecap: round\"/>\n     </g>\n     <g id=\"text_58\">\n      <!-- Puerto Rico -->\n      <g style=\"fill: #262626\" transform=\"translate(69.130625 68.730865) scale(0.11 -0.11)\">\n       <use xlink:href=\"#DejaVuSans-50\"/>\n       <use xlink:href=\"#DejaVuSans-75\" x=\"58.552734\"/>\n       <use xlink:href=\"#DejaVuSans-65\" x=\"121.931641\"/>\n       <use xlink:href=\"#DejaVuSans-72\" x=\"183.455078\"/>\n       <use xlink:href=\"#DejaVuSans-74\" x=\"224.568359\"/>\n       <use xlink:href=\"#DejaVuSans-6f\" x=\"263.777344\"/>\n       <use xlink:href=\"#DejaVuSans-20\" x=\"324.958984\"/>\n       <use xlink:href=\"#DejaVuSans-52\" x=\"356.746094\"/>\n       <use xlink:href=\"#DejaVuSans-69\" x=\"426.228516\"/>\n       <use xlink:href=\"#DejaVuSans-63\" x=\"454.011719\"/>\n       <use xlink:href=\"#DejaVuSans-6f\" x=\"508.992188\"/>\n      </g>\n     </g>\n    </g>\n    <g id=\"ytick_50\">\n     <g id=\"line2d_59\">\n      <path d=\"M 141.349531 48.62069 \nL 978.349531 48.62069 \n\" clip-path=\"url(#pa7ad93e3f6)\" style=\"fill: none; stroke: #cccccc; stroke-linecap: round\"/>\n     </g>\n     <g id=\"text_59\">\n      <!-- Kentucky -->\n      <g style=\"fill: #262626\" transform=\"translate(81.632813 52.79983) scale(0.11 -0.11)\">\n       <use xlink:href=\"#DejaVuSans-4b\"/>\n       <use xlink:href=\"#DejaVuSans-65\" x=\"60.576172\"/>\n       <use xlink:href=\"#DejaVuSans-6e\" x=\"122.099609\"/>\n       <use xlink:href=\"#DejaVuSans-74\" x=\"185.478516\"/>\n       <use xlink:href=\"#DejaVuSans-75\" x=\"224.6875\"/>\n       <use xlink:href=\"#DejaVuSans-63\" x=\"288.066406\"/>\n       <use xlink:href=\"#DejaVuSans-6b\" x=\"343.046875\"/>\n       <use xlink:href=\"#DejaVuSans-79\" x=\"397.332031\"/>\n      </g>\n     </g>\n    </g>\n    <g id=\"ytick_51\">\n     <g id=\"line2d_60\">\n      <path d=\"M 141.349531 32.689655 \nL 978.349531 32.689655 \n\" clip-path=\"url(#pa7ad93e3f6)\" style=\"fill: none; stroke: #cccccc; stroke-linecap: round\"/>\n     </g>\n     <g id=\"text_60\">\n      <!-- South Dakota -->\n      <g style=\"fill: #262626\" transform=\"translate(57.419063 36.868796) scale(0.11 -0.11)\">\n       <use xlink:href=\"#DejaVuSans-53\"/>\n       <use xlink:href=\"#DejaVuSans-6f\" x=\"63.476562\"/>\n       <use xlink:href=\"#DejaVuSans-75\" x=\"124.658203\"/>\n       <use xlink:href=\"#DejaVuSans-74\" x=\"188.037109\"/>\n       <use xlink:href=\"#DejaVuSans-68\" x=\"227.246094\"/>\n       <use xlink:href=\"#DejaVuSans-20\" x=\"290.625\"/>\n       <use xlink:href=\"#DejaVuSans-44\" x=\"322.412109\"/>\n       <use xlink:href=\"#DejaVuSans-61\" x=\"399.414062\"/>\n       <use xlink:href=\"#DejaVuSans-6b\" x=\"460.693359\"/>\n       <use xlink:href=\"#DejaVuSans-6f\" x=\"514.978516\"/>\n       <use xlink:href=\"#DejaVuSans-74\" x=\"576.160156\"/>\n       <use xlink:href=\"#DejaVuSans-61\" x=\"615.369141\"/>\n      </g>\n     </g>\n    </g>\n    <g id=\"ytick_52\">\n     <g id=\"line2d_61\">\n      <path d=\"M 141.349531 16.758621 \nL 978.349531 16.758621 \n\" clip-path=\"url(#pa7ad93e3f6)\" style=\"fill: none; stroke: #cccccc; stroke-linecap: round\"/>\n     </g>\n     <g id=\"text_61\">\n      <!-- Tennessee -->\n      <g style=\"fill: #262626\" transform=\"translate(74.524063 20.937761) scale(0.11 -0.11)\">\n       <use xlink:href=\"#DejaVuSans-54\"/>\n       <use xlink:href=\"#DejaVuSans-65\" x=\"44.083984\"/>\n       <use xlink:href=\"#DejaVuSans-6e\" x=\"105.607422\"/>\n       <use xlink:href=\"#DejaVuSans-6e\" x=\"168.986328\"/>\n       <use xlink:href=\"#DejaVuSans-65\" x=\"232.365234\"/>\n       <use xlink:href=\"#DejaVuSans-73\" x=\"293.888672\"/>\n       <use xlink:href=\"#DejaVuSans-73\" x=\"345.988281\"/>\n       <use xlink:href=\"#DejaVuSans-65\" x=\"398.087891\"/>\n       <use xlink:href=\"#DejaVuSans-65\" x=\"459.611328\"/>\n      </g>\n     </g>\n    </g>\n    <g id=\"text_62\">\n     <!-- State Name -->\n     <g style=\"fill: #262626\" transform=\"translate(16.318125 458.490937) rotate(-90) scale(0.12 -0.12)\">\n      <use xlink:href=\"#DejaVuSans-53\"/>\n      <use xlink:href=\"#DejaVuSans-74\" x=\"63.476562\"/>\n      <use xlink:href=\"#DejaVuSans-61\" x=\"102.685547\"/>\n      <use xlink:href=\"#DejaVuSans-74\" x=\"163.964844\"/>\n      <use xlink:href=\"#DejaVuSans-65\" x=\"203.173828\"/>\n      <use xlink:href=\"#DejaVuSans-20\" x=\"264.697266\"/>\n      <use xlink:href=\"#DejaVuSans-4e\" x=\"296.484375\"/>\n      <use xlink:href=\"#DejaVuSans-61\" x=\"371.289062\"/>\n      <use xlink:href=\"#DejaVuSans-6d\" x=\"432.568359\"/>\n      <use xlink:href=\"#DejaVuSans-65\" x=\"529.980469\"/>\n     </g>\n    </g>\n   </g>\n   <g id=\"patch_3\">\n    <path d=\"M 141.349531 834.817241 \nL 267.246633 834.817241 \nL 267.246633 823.665517 \nL 141.349531 823.665517 \nz\n\" clip-path=\"url(#pa7ad93e3f6)\" style=\"fill: #001c7f; stroke: #ffffff; stroke-linejoin: miter\"/>\n   </g>\n   <g id=\"patch_4\">\n    <path d=\"M 141.349531 818.886207 \nL 427.159342 818.886207 \nL 427.159342 807.734483 \nL 141.349531 807.734483 \nz\n\" clip-path=\"url(#pa7ad93e3f6)\" style=\"fill: #001c7f; stroke: #ffffff; stroke-linejoin: miter\"/>\n   </g>\n   <g id=\"patch_5\">\n    <path d=\"M 141.349531 802.955172 \nL 539.321806 802.955172 \nL 539.321806 791.803448 \nL 141.349531 791.803448 \nz\n\" clip-path=\"url(#pa7ad93e3f6)\" style=\"fill: #001c7f; stroke: #ffffff; stroke-linejoin: miter\"/>\n   </g>\n   <g id=\"patch_6\">\n    <path d=\"M 141.349531 787.024138 \nL 424.264759 787.024138 \nL 424.264759 775.872414 \nL 141.349531 775.872414 \nz\n\" clip-path=\"url(#pa7ad93e3f6)\" style=\"fill: #001c7f; stroke: #ffffff; stroke-linejoin: miter\"/>\n   </g>\n   <g id=\"patch_7\">\n    <path d=\"M 141.349531 771.093103 \nL 214.030019 771.093103 \nL 214.030019 759.941379 \nL 141.349531 759.941379 \nz\n\" clip-path=\"url(#pa7ad93e3f6)\" style=\"fill: #001c7f; stroke: #ffffff; stroke-linejoin: miter\"/>\n   </g>\n   <g id=\"patch_8\">\n    <path d=\"M 141.349531 755.162069 \nL 487.723471 755.162069 \nL 487.723471 744.010345 \nL 141.349531 744.010345 \nz\n\" clip-path=\"url(#pa7ad93e3f6)\" style=\"fill: #001c7f; stroke: #ffffff; stroke-linejoin: miter\"/>\n   </g>\n   <g id=\"patch_9\">\n    <path d=\"M 141.349531 739.231034 \nL 856.16961 739.231034 \nL 856.16961 728.07931 \nL 141.349531 728.07931 \nz\n\" clip-path=\"url(#pa7ad93e3f6)\" style=\"fill: #001c7f; stroke: #ffffff; stroke-linejoin: miter\"/>\n   </g>\n   <g id=\"patch_10\">\n    <path d=\"M 141.349531 723.3 \nL 376.756596 723.3 \nL 376.756596 712.148276 \nL 141.349531 712.148276 \nz\n\" clip-path=\"url(#pa7ad93e3f6)\" style=\"fill: #001c7f; stroke: #ffffff; stroke-linejoin: miter\"/>\n   </g>\n   <g id=\"patch_11\">\n    <path d=\"M 141.349531 707.368966 \nL 388.083805 707.368966 \nL 388.083805 696.217241 \nL 141.349531 696.217241 \nz\n\" clip-path=\"url(#pa7ad93e3f6)\" style=\"fill: #001c7f; stroke: #ffffff; stroke-linejoin: miter\"/>\n   </g>\n   <g id=\"patch_12\">\n    <path d=\"M 141.349531 691.437931 \nL 381.171419 691.437931 \nL 381.171419 680.286207 \nL 141.349531 680.286207 \nz\n\" clip-path=\"url(#pa7ad93e3f6)\" style=\"fill: #001c7f; stroke: #ffffff; stroke-linejoin: miter\"/>\n   </g>\n   <g id=\"patch_13\">\n    <path d=\"M 141.349531 675.506897 \nL 390.692333 675.506897 \nL 390.692333 664.355172 \nL 141.349531 664.355172 \nz\n\" clip-path=\"url(#pa7ad93e3f6)\" style=\"fill: #001c7f; stroke: #ffffff; stroke-linejoin: miter\"/>\n   </g>\n   <g id=\"patch_14\">\n    <path d=\"M 141.349531 659.575862 \nL 419.755376 659.575862 \nL 419.755376 648.424138 \nL 141.349531 648.424138 \nz\n\" clip-path=\"url(#pa7ad93e3f6)\" style=\"fill: #001c7f; stroke: #ffffff; stroke-linejoin: miter\"/>\n   </g>\n   <g id=\"patch_15\">\n    <path d=\"M 141.349531 643.644828 \nL 441.56376 643.644828 \nL 441.56376 632.493103 \nL 141.349531 632.493103 \nz\n\" clip-path=\"url(#pa7ad93e3f6)\" style=\"fill: #001c7f; stroke: #ffffff; stroke-linejoin: miter\"/>\n   </g>\n   <g id=\"patch_16\">\n    <path d=\"M 141.349531 627.713793 \nL 305.809492 627.713793 \nL 305.809492 616.562069 \nL 141.349531 616.562069 \nz\n\" clip-path=\"url(#pa7ad93e3f6)\" style=\"fill: #001c7f; stroke: #ffffff; stroke-linejoin: miter\"/>\n   </g>\n   <g id=\"patch_17\">\n    <path d=\"M 141.349531 611.782759 \nL 444.576997 611.782759 \nL 444.576997 600.631034 \nL 141.349531 600.631034 \nz\n\" clip-path=\"url(#pa7ad93e3f6)\" style=\"fill: #001c7f; stroke: #ffffff; stroke-linejoin: miter\"/>\n   </g>\n   <g id=\"patch_18\">\n    <path d=\"M 141.349531 595.851724 \nL 577.0207 595.851724 \nL 577.0207 584.7 \nL 141.349531 584.7 \nz\n\" clip-path=\"url(#pa7ad93e3f6)\" style=\"fill: #001c7f; stroke: #ffffff; stroke-linejoin: miter\"/>\n   </g>\n   <g id=\"patch_19\">\n    <path d=\"M 141.349531 579.92069 \nL 634.200001 579.92069 \nL 634.200001 568.768966 \nL 141.349531 568.768966 \nz\n\" clip-path=\"url(#pa7ad93e3f6)\" style=\"fill: #001c7f; stroke: #ffffff; stroke-linejoin: miter\"/>\n   </g>\n   <g id=\"patch_20\">\n    <path d=\"M 141.349531 563.989655 \nL 475.82157 563.989655 \nL 475.82157 552.837931 \nL 141.349531 552.837931 \nz\n\" clip-path=\"url(#pa7ad93e3f6)\" style=\"fill: #001c7f; stroke: #ffffff; stroke-linejoin: miter\"/>\n   </g>\n   <g id=\"patch_21\">\n    <path d=\"M 141.349531 548.058621 \nL 353.141589 548.058621 \nL 353.141589 536.906897 \nL 141.349531 536.906897 \nz\n\" clip-path=\"url(#pa7ad93e3f6)\" style=\"fill: #001c7f; stroke: #ffffff; stroke-linejoin: miter\"/>\n   </g>\n   <g id=\"patch_22\">\n    <path d=\"M 141.349531 532.127586 \nL 499.38515 532.127586 \nL 499.38515 520.975862 \nL 141.349531 520.975862 \nz\n\" clip-path=\"url(#pa7ad93e3f6)\" style=\"fill: #001c7f; stroke: #ffffff; stroke-linejoin: miter\"/>\n   </g>\n   <g id=\"patch_23\">\n    <path d=\"M 141.349531 516.196552 \nL 203.77225 516.196552 \nL 203.77225 505.044828 \nL 141.349531 505.044828 \nz\n\" clip-path=\"url(#pa7ad93e3f6)\" style=\"fill: #001c7f; stroke: #ffffff; stroke-linejoin: miter\"/>\n   </g>\n   <g id=\"patch_24\">\n    <path d=\"M 141.349531 500.265517 \nL 405.314164 500.265517 \nL 405.314164 489.113793 \nL 141.349531 489.113793 \nz\n\" clip-path=\"url(#pa7ad93e3f6)\" style=\"fill: #001c7f; stroke: #ffffff; stroke-linejoin: miter\"/>\n   </g>\n   <g id=\"patch_25\">\n    <path d=\"M 141.349531 484.334483 \nL 264.839185 484.334483 \nL 264.839185 473.182759 \nL 141.349531 473.182759 \nz\n\" clip-path=\"url(#pa7ad93e3f6)\" style=\"fill: #001c7f; stroke: #ffffff; stroke-linejoin: miter\"/>\n   </g>\n   <g id=\"patch_26\">\n    <path d=\"M 141.349531 468.403448 \nL 220.947543 468.403448 \nL 220.947543 457.251724 \nL 141.349531 457.251724 \nz\n\" clip-path=\"url(#pa7ad93e3f6)\" style=\"fill: #001c7f; stroke: #ffffff; stroke-linejoin: miter\"/>\n   </g>\n   <g id=\"patch_27\">\n    <path d=\"M 141.349531 452.472414 \nL 385.467751 452.472414 \nL 385.467751 441.32069 \nL 141.349531 441.32069 \nz\n\" clip-path=\"url(#pa7ad93e3f6)\" style=\"fill: #001c7f; stroke: #ffffff; stroke-linejoin: miter\"/>\n   </g>\n   <g id=\"patch_28\">\n    <path d=\"M 141.349531 436.541379 \nL 599.377891 436.541379 \nL 599.377891 425.389655 \nL 141.349531 425.389655 \nz\n\" clip-path=\"url(#pa7ad93e3f6)\" style=\"fill: #001c7f; stroke: #ffffff; stroke-linejoin: miter\"/>\n   </g>\n   <g id=\"patch_29\">\n    <path d=\"M 141.349531 420.610345 \nL 341.461379 420.610345 \nL 341.461379 409.458621 \nL 141.349531 409.458621 \nz\n\" clip-path=\"url(#pa7ad93e3f6)\" style=\"fill: #001c7f; stroke: #ffffff; stroke-linejoin: miter\"/>\n   </g>\n   <g id=\"patch_30\">\n    <path d=\"M 141.349531 404.67931 \nL 331.383829 404.67931 \nL 331.383829 393.527586 \nL 141.349531 393.527586 \nz\n\" clip-path=\"url(#pa7ad93e3f6)\" style=\"fill: #001c7f; stroke: #ffffff; stroke-linejoin: miter\"/>\n   </g>\n   <g id=\"patch_31\">\n    <path d=\"M 141.349531 388.748276 \nL 636.771173 388.748276 \nL 636.771173 377.596552 \nL 141.349531 377.596552 \nz\n\" clip-path=\"url(#pa7ad93e3f6)\" style=\"fill: #001c7f; stroke: #ffffff; stroke-linejoin: miter\"/>\n   </g>\n   <g id=\"patch_32\">\n    <path d=\"M 141.349531 372.817241 \nL 240.546039 372.817241 \nL 240.546039 361.665517 \nL 141.349531 361.665517 \nz\n\" clip-path=\"url(#pa7ad93e3f6)\" style=\"fill: #001c7f; stroke: #ffffff; stroke-linejoin: miter\"/>\n   </g>\n   <g id=\"patch_33\">\n    <path d=\"M 141.349531 356.886207 \nL 320.89428 356.886207 \nL 320.89428 345.734483 \nL 141.349531 345.734483 \nz\n\" clip-path=\"url(#pa7ad93e3f6)\" style=\"fill: #001c7f; stroke: #ffffff; stroke-linejoin: miter\"/>\n   </g>\n   <g id=\"patch_34\">\n    <path d=\"M 141.349531 340.955172 \nL 300.88711 340.955172 \nL 300.88711 329.803448 \nL 141.349531 329.803448 \nz\n\" clip-path=\"url(#pa7ad93e3f6)\" style=\"fill: #001c7f; stroke: #ffffff; stroke-linejoin: miter\"/>\n   </g>\n   <g id=\"patch_35\">\n    <path d=\"M 141.349531 325.024138 \nL 336.071558 325.024138 \nL 336.071558 313.872414 \nL 141.349531 313.872414 \nz\n\" clip-path=\"url(#pa7ad93e3f6)\" style=\"fill: #001c7f; stroke: #ffffff; stroke-linejoin: miter\"/>\n   </g>\n   <g id=\"patch_36\">\n    <path d=\"M 141.349531 309.093103 \nL 353.993798 309.093103 \nL 353.993798 297.941379 \nL 141.349531 297.941379 \nz\n\" clip-path=\"url(#pa7ad93e3f6)\" style=\"fill: #001c7f; stroke: #ffffff; stroke-linejoin: miter\"/>\n   </g>\n   <g id=\"patch_37\">\n    <path d=\"M 141.349531 293.162069 \nL 507.993746 293.162069 \nL 507.993746 282.010345 \nL 141.349531 282.010345 \nz\n\" clip-path=\"url(#pa7ad93e3f6)\" style=\"fill: #001c7f; stroke: #ffffff; stroke-linejoin: miter\"/>\n   </g>\n   <g id=\"patch_38\">\n    <path d=\"M 141.349531 277.231034 \nL 421.85147 277.231034 \nL 421.85147 266.07931 \nL 141.349531 266.07931 \nz\n\" clip-path=\"url(#pa7ad93e3f6)\" style=\"fill: #001c7f; stroke: #ffffff; stroke-linejoin: miter\"/>\n   </g>\n   <g id=\"patch_39\">\n    <path d=\"M 141.349531 261.3 \nL 388.311265 261.3 \nL 388.311265 250.148276 \nL 141.349531 250.148276 \nz\n\" clip-path=\"url(#pa7ad93e3f6)\" style=\"fill: #001c7f; stroke: #ffffff; stroke-linejoin: miter\"/>\n   </g>\n   <g id=\"patch_40\">\n    <path d=\"M 141.349531 245.368966 \nL 682.617972 245.368966 \nL 682.617972 234.217241 \nL 141.349531 234.217241 \nz\n\" clip-path=\"url(#pa7ad93e3f6)\" style=\"fill: #001c7f; stroke: #ffffff; stroke-linejoin: miter\"/>\n   </g>\n   <g id=\"patch_41\">\n    <path d=\"M 141.349531 229.437931 \nL 341.982767 229.437931 \nL 341.982767 218.286207 \nL 141.349531 218.286207 \nz\n\" clip-path=\"url(#pa7ad93e3f6)\" style=\"fill: #001c7f; stroke: #ffffff; stroke-linejoin: miter\"/>\n   </g>\n   <g id=\"patch_42\">\n    <path d=\"M 141.349531 213.506897 \nL 474.313671 213.506897 \nL 474.313671 202.355172 \nL 141.349531 202.355172 \nz\n\" clip-path=\"url(#pa7ad93e3f6)\" style=\"fill: #001c7f; stroke: #ffffff; stroke-linejoin: miter\"/>\n   </g>\n   <g id=\"patch_43\">\n    <path d=\"M 141.349531 197.575862 \nL 468.896554 197.575862 \nL 468.896554 186.424138 \nL 141.349531 186.424138 \nz\n\" clip-path=\"url(#pa7ad93e3f6)\" style=\"fill: #001c7f; stroke: #ffffff; stroke-linejoin: miter\"/>\n   </g>\n   <g id=\"patch_44\">\n    <path d=\"M 141.349531 181.644828 \nL 272.382141 181.644828 \nL 272.382141 170.493103 \nL 141.349531 170.493103 \nz\n\" clip-path=\"url(#pa7ad93e3f6)\" style=\"fill: #001c7f; stroke: #ffffff; stroke-linejoin: miter\"/>\n   </g>\n   <g id=\"patch_45\">\n    <path d=\"M 141.349531 165.713793 \nL 198.814543 165.713793 \nL 198.814543 154.562069 \nL 141.349531 154.562069 \nz\n\" clip-path=\"url(#pa7ad93e3f6)\" style=\"fill: #001c7f; stroke: #ffffff; stroke-linejoin: miter\"/>\n   </g>\n   <g id=\"patch_46\">\n    <path d=\"M 141.349531 149.782759 \nL 296.929093 149.782759 \nL 296.929093 138.631034 \nL 141.349531 138.631034 \nz\n\" clip-path=\"url(#pa7ad93e3f6)\" style=\"fill: #001c7f; stroke: #ffffff; stroke-linejoin: miter\"/>\n   </g>\n   <g id=\"patch_47\">\n    <path d=\"M 141.349531 133.851724 \nL 292.510888 133.851724 \nL 292.510888 122.7 \nL 141.349531 122.7 \nz\n\" clip-path=\"url(#pa7ad93e3f6)\" style=\"fill: #001c7f; stroke: #ffffff; stroke-linejoin: miter\"/>\n   </g>\n   <g id=\"patch_48\">\n    <path d=\"M 141.349531 117.92069 \nL 938.492388 117.92069 \nL 938.492388 106.768966 \nL 141.349531 106.768966 \nz\n\" clip-path=\"url(#pa7ad93e3f6)\" style=\"fill: #001c7f; stroke: #ffffff; stroke-linejoin: miter\"/>\n   </g>\n   <g id=\"patch_49\">\n    <path d=\"M 141.349531 101.989655 \nL 555.915622 101.989655 \nL 555.915622 90.837931 \nL 141.349531 90.837931 \nz\n\" clip-path=\"url(#pa7ad93e3f6)\" style=\"fill: #001c7f; stroke: #ffffff; stroke-linejoin: miter\"/>\n   </g>\n   <g id=\"patch_50\">\n    <path d=\"M 141.349531 86.058621 \nL 319.330104 86.058621 \nL 319.330104 74.906897 \nL 141.349531 74.906897 \nz\n\" clip-path=\"url(#pa7ad93e3f6)\" style=\"fill: #001c7f; stroke: #ffffff; stroke-linejoin: miter\"/>\n   </g>\n   <g id=\"patch_51\">\n    <path d=\"M 141.349531 70.127586 \nL 141.349531 70.127586 \nL 141.349531 58.975862 \nL 141.349531 58.975862 \nz\n\" clip-path=\"url(#pa7ad93e3f6)\" style=\"fill: #001c7f; stroke: #ffffff; stroke-linejoin: miter\"/>\n   </g>\n   <g id=\"patch_52\">\n    <path d=\"M 141.349531 54.196552 \nL 461.496366 54.196552 \nL 461.496366 43.044828 \nL 141.349531 43.044828 \nz\n\" clip-path=\"url(#pa7ad93e3f6)\" style=\"fill: #001c7f; stroke: #ffffff; stroke-linejoin: miter\"/>\n   </g>\n   <g id=\"patch_53\">\n    <path d=\"M 141.349531 38.265517 \nL 452.423668 38.265517 \nL 452.423668 27.113793 \nL 141.349531 27.113793 \nz\n\" clip-path=\"url(#pa7ad93e3f6)\" style=\"fill: #001c7f; stroke: #ffffff; stroke-linejoin: miter\"/>\n   </g>\n   <g id=\"patch_54\">\n    <path d=\"M 141.349531 22.334483 \nL 452.50984 22.334483 \nL 452.50984 11.182759 \nL 141.349531 11.182759 \nz\n\" clip-path=\"url(#pa7ad93e3f6)\" style=\"fill: #001c7f; stroke: #ffffff; stroke-linejoin: miter\"/>\n   </g>\n   <g id=\"patch_55\">\n    <path d=\"M 141.349531 838.8 \nL 141.349531 7.2 \n\" style=\"fill: none; stroke: #cccccc; stroke-width: 1.25; stroke-linejoin: miter; stroke-linecap: square\"/>\n   </g>\n   <g id=\"patch_56\">\n    <path d=\"M 978.349531 838.8 \nL 978.349531 7.2 \n\" style=\"fill: none; stroke: #cccccc; stroke-width: 1.25; stroke-linejoin: miter; stroke-linecap: square\"/>\n   </g>\n   <g id=\"patch_57\">\n    <path d=\"M 141.349531 838.8 \nL 978.349531 838.8 \n\" style=\"fill: none; stroke: #cccccc; stroke-width: 1.25; stroke-linejoin: miter; stroke-linecap: square\"/>\n   </g>\n   <g id=\"patch_58\">\n    <path d=\"M 141.349531 7.2 \nL 978.349531 7.2 \n\" style=\"fill: none; stroke: #cccccc; stroke-width: 1.25; stroke-linejoin: miter; stroke-linecap: square\"/>\n   </g>\n   <g id=\"legend_1\">\n    <g id=\"patch_59\">\n     <path d=\"M 879.617656 32.145937 \nL 970.649531 32.145937 \nQ 972.849531 32.145937 972.849531 29.945937 \nL 972.849531 14.9 \nQ 972.849531 12.7 970.649531 12.7 \nL 879.617656 12.7 \nQ 877.417656 12.7 877.417656 14.9 \nL 877.417656 29.945937 \nQ 877.417656 32.145937 879.617656 32.145937 \nz\n\" style=\"fill: #ffffff; opacity: 0.8; stroke: #cccccc; stroke-linejoin: miter\"/>\n    </g>\n    <g id=\"patch_60\">\n     <path d=\"M 881.817656 25.458281 \nL 903.817656 25.458281 \nL 903.817656 17.758281 \nL 881.817656 17.758281 \nz\n\" style=\"fill: #001c7f; stroke: #ffffff; stroke-linejoin: miter\"/>\n    </g>\n    <g id=\"text_63\">\n     <!-- safty ratio -->\n     <g style=\"fill: #262626\" transform=\"translate(912.617656 25.458281) scale(0.11 -0.11)\">\n      <use xlink:href=\"#DejaVuSans-73\"/>\n      <use xlink:href=\"#DejaVuSans-61\" x=\"52.099609\"/>\n      <use xlink:href=\"#DejaVuSans-66\" x=\"113.378906\"/>\n      <use xlink:href=\"#DejaVuSans-74\" x=\"146.833984\"/>\n      <use xlink:href=\"#DejaVuSans-79\" x=\"186.042969\"/>\n      <use xlink:href=\"#DejaVuSans-20\" x=\"245.222656\"/>\n      <use xlink:href=\"#DejaVuSans-72\" x=\"277.009766\"/>\n      <use xlink:href=\"#DejaVuSans-61\" x=\"318.123047\"/>\n      <use xlink:href=\"#DejaVuSans-74\" x=\"379.402344\"/>\n      <use xlink:href=\"#DejaVuSans-69\" x=\"418.611328\"/>\n      <use xlink:href=\"#DejaVuSans-6f\" x=\"446.394531\"/>\n     </g>\n    </g>\n   </g>\n  </g>\n </g>\n <defs>\n  <clipPath id=\"pa7ad93e3f6\">\n   <rect x=\"141.349531\" y=\"7.2\" width=\"837\" height=\"831.6\"/>\n  </clipPath>\n </defs>\n</svg>\n",
            "text/plain": [
              "<Figure size 1500x1500 with 1 Axes>"
            ]
          },
          "metadata": {},
          "output_type": "display_data"
        }
      ],
      "source": [
        "ax = tempo.plot.barh(y='safty ratio',figsize=(15,15),width = 0.7)"
      ]
    },
    {
      "cell_type": "code",
      "execution_count": null,
      "metadata": {
        "id": "_gGVWhcFxK-5"
      },
      "outputs": [],
      "source": [
        "race = DataFrame1['race']"
      ]
    },
    {
      "cell_type": "code",
      "execution_count": null,
      "metadata": {
        "colab": {
          "base_uri": "https://localhost:8080/"
        },
        "id": "wuwrxuEbxRsA",
        "outputId": "d9f5cb49-6942-4d7c-de29-3b086e652b97"
      },
      "outputs": [
        {
          "data": {
            "text/plain": [
              "0           A\n",
              "1           W\n",
              "2           H\n",
              "3           W\n",
              "4           H\n",
              "        ...  \n",
              "7677    Other\n",
              "7678    Other\n",
              "7679    Other\n",
              "7680    Other\n",
              "7681        B\n",
              "Name: race, Length: 7682, dtype: object"
            ]
          },
          "execution_count": 59,
          "metadata": {},
          "output_type": "execute_result"
        }
      ],
      "source": [
        "race.dropna()"
      ]
    },
    {
      "cell_type": "code",
      "execution_count": null,
      "metadata": {
        "colab": {
          "base_uri": "https://localhost:8080/"
        },
        "id": "0GTLW4Stxz99",
        "outputId": "54ece2f9-287b-4705-83a3-1533bc696e83"
      },
      "outputs": [
        {
          "data": {
            "text/plain": [
              "W        3183\n",
              "B        1678\n",
              "Other    1438\n",
              "H        1127\n",
              "A         112\n",
              "N          97\n",
              "O          47\n",
              "Name: race, dtype: int64"
            ]
          },
          "execution_count": 60,
          "metadata": {},
          "output_type": "execute_result"
        }
      ],
      "source": [
        "race.value_counts()"
      ]
    },
    {
      "cell_type": "code",
      "execution_count": null,
      "metadata": {
        "colab": {
          "base_uri": "https://localhost:8080/"
        },
        "id": "to64HGnZyBOp",
        "outputId": "d6cd71ca-000f-44d0-93f3-e2c7a6f95d58"
      },
      "outputs": [
        {
          "data": {
            "image/svg+xml": "<?xml version=\"1.0\" encoding=\"utf-8\" standalone=\"no\"?>\n<!DOCTYPE svg PUBLIC \"-//W3C//DTD SVG 1.1//EN\"\n  \"http://www.w3.org/Graphics/SVG/1.1/DTD/svg11.dtd\">\n<svg xmlns:xlink=\"http://www.w3.org/1999/xlink\" width=\"587.918914pt\" height=\"568.8pt\" viewBox=\"0 0 587.918914 568.8\" xmlns=\"http://www.w3.org/2000/svg\" version=\"1.1\">\n <metadata>\n  <rdf:RDF xmlns:dc=\"http://purl.org/dc/elements/1.1/\" xmlns:cc=\"http://creativecommons.org/ns#\" xmlns:rdf=\"http://www.w3.org/1999/02/22-rdf-syntax-ns#\">\n   <cc:Work>\n    <dc:type rdf:resource=\"http://purl.org/dc/dcmitype/StillImage\"/>\n    <dc:date>2023-05-01T22:47:42.104963</dc:date>\n    <dc:format>image/svg+xml</dc:format>\n    <dc:creator>\n     <cc:Agent>\n      <dc:title>Matplotlib v3.7.1, https://matplotlib.org/</dc:title>\n     </cc:Agent>\n    </dc:creator>\n   </cc:Work>\n  </rdf:RDF>\n </metadata>\n <defs>\n  <style type=\"text/css\">*{stroke-linejoin: round; stroke-linecap: butt}</style>\n </defs>\n <g id=\"figure_1\">\n  <g id=\"patch_1\">\n   <path d=\"M 0 568.8 \nL 587.918914 568.8 \nL 587.918914 0 \nL 0 0 \nz\n\" style=\"fill: #ffffff\"/>\n  </g>\n  <g id=\"axes_1\">\n   <g id=\"matplotlib.axis_1\"/>\n   <g id=\"matplotlib.axis_2\">\n    <g id=\"text_1\">\n     <!-- count -->\n     <g style=\"fill: #262626\" transform=\"translate(16.318125 301.3275) rotate(-90) scale(0.12 -0.12)\">\n      <defs>\n       <path id=\"DejaVuSans-63\" d=\"M 3122 3366 \nL 3122 2828 \nQ 2878 2963 2633 3030 \nQ 2388 3097 2138 3097 \nQ 1578 3097 1268 2742 \nQ 959 2388 959 1747 \nQ 959 1106 1268 751 \nQ 1578 397 2138 397 \nQ 2388 397 2633 464 \nQ 2878 531 3122 666 \nL 3122 134 \nQ 2881 22 2623 -34 \nQ 2366 -91 2075 -91 \nQ 1284 -91 818 406 \nQ 353 903 353 1747 \nQ 353 2603 823 3093 \nQ 1294 3584 2113 3584 \nQ 2378 3584 2631 3529 \nQ 2884 3475 3122 3366 \nz\n\" transform=\"scale(0.015625)\"/>\n       <path id=\"DejaVuSans-6f\" d=\"M 1959 3097 \nQ 1497 3097 1228 2736 \nQ 959 2375 959 1747 \nQ 959 1119 1226 758 \nQ 1494 397 1959 397 \nQ 2419 397 2687 759 \nQ 2956 1122 2956 1747 \nQ 2956 2369 2687 2733 \nQ 2419 3097 1959 3097 \nz\nM 1959 3584 \nQ 2709 3584 3137 3096 \nQ 3566 2609 3566 1747 \nQ 3566 888 3137 398 \nQ 2709 -91 1959 -91 \nQ 1206 -91 779 398 \nQ 353 888 353 1747 \nQ 353 2609 779 3096 \nQ 1206 3584 1959 3584 \nz\n\" transform=\"scale(0.015625)\"/>\n       <path id=\"DejaVuSans-75\" d=\"M 544 1381 \nL 544 3500 \nL 1119 3500 \nL 1119 1403 \nQ 1119 906 1312 657 \nQ 1506 409 1894 409 \nQ 2359 409 2629 706 \nQ 2900 1003 2900 1516 \nL 2900 3500 \nL 3475 3500 \nL 3475 0 \nL 2900 0 \nL 2900 538 \nQ 2691 219 2414 64 \nQ 2138 -91 1772 -91 \nQ 1169 -91 856 284 \nQ 544 659 544 1381 \nz\nM 1991 3584 \nL 1991 3584 \nz\n\" transform=\"scale(0.015625)\"/>\n       <path id=\"DejaVuSans-6e\" d=\"M 3513 2113 \nL 3513 0 \nL 2938 0 \nL 2938 2094 \nQ 2938 2591 2744 2837 \nQ 2550 3084 2163 3084 \nQ 1697 3084 1428 2787 \nQ 1159 2491 1159 1978 \nL 1159 0 \nL 581 0 \nL 581 3500 \nL 1159 3500 \nL 1159 2956 \nQ 1366 3272 1645 3428 \nQ 1925 3584 2291 3584 \nQ 2894 3584 3203 3211 \nQ 3513 2838 3513 2113 \nz\n\" transform=\"scale(0.015625)\"/>\n       <path id=\"DejaVuSans-74\" d=\"M 1172 4494 \nL 1172 3500 \nL 2356 3500 \nL 2356 3053 \nL 1172 3053 \nL 1172 1153 \nQ 1172 725 1289 603 \nQ 1406 481 1766 481 \nL 2356 481 \nL 2356 0 \nL 1766 0 \nQ 1100 0 847 248 \nQ 594 497 594 1153 \nL 594 3053 \nL 172 3053 \nL 172 3500 \nL 594 3500 \nL 594 4494 \nL 1172 4494 \nz\n\" transform=\"scale(0.015625)\"/>\n      </defs>\n      <use xlink:href=\"#DejaVuSans-63\"/>\n      <use xlink:href=\"#DejaVuSans-6f\" x=\"54.980469\"/>\n      <use xlink:href=\"#DejaVuSans-75\" x=\"116.162109\"/>\n      <use xlink:href=\"#DejaVuSans-6e\" x=\"179.541016\"/>\n      <use xlink:href=\"#DejaVuSans-74\" x=\"242.919922\"/>\n     </g>\n    </g>\n   </g>\n   <g id=\"patch_2\">\n    <path d=\"M 521.77375 284.4 \nC 521.77375 235.564664 505.642188 188.070705 475.899172 149.337733 \nC 446.156156 110.604762 404.43561 82.760562 357.255209 70.155016 \nC 310.074807 57.54947 260.026392 60.87506 214.928636 79.612254 \nC 169.830879 98.349448 132.161214 131.468924 107.804477 173.796687 \nL 300.01375 284.4 \nz\n\" style=\"fill: #001c7f; stroke: #ffffff; stroke-linejoin: miter\"/>\n   </g>\n   <g id=\"patch_3\">\n    <path d=\"M 107.804477 173.796687 \nC 82.099074 218.468195 72.753921 270.733285 81.386719 321.544566 \nC 90.019516 372.355846 116.101633 418.601871 155.118101 452.277183 \nL 300.01375 284.4 \nz\n\" style=\"fill: #b1400d; stroke: #ffffff; stroke-linejoin: miter\"/>\n   </g>\n   <g id=\"patch_4\">\n    <path d=\"M 155.118101 452.277183 \nC 188.468509 481.062089 229.651998 499.266335 273.38805 504.555785 \nC 317.124102 509.845235 361.459991 501.983726 400.710999 481.979254 \nL 300.01375 284.4 \nz\n\" style=\"fill: #12711c; stroke: #ffffff; stroke-linejoin: miter\"/>\n   </g>\n   <g id=\"patch_5\">\n    <path d=\"M 400.710999 481.979254 \nC 431.388277 466.344427 458.00681 443.777645 478.451024 416.07246 \nC 498.895239 388.367275 512.608778 356.277638 518.501725 322.353954 \nL 300.01375 284.4 \nz\n\" style=\"fill: #8c0800; stroke: #ffffff; stroke-linejoin: miter\"/>\n   </g>\n   <g id=\"patch_6\">\n    <path d=\"M 518.501725 322.353954 \nC 519.084785 318.997471 519.590424 315.627999 520.018237 312.24822 \nC 520.44605 308.86844 520.795925 305.479251 521.067582 302.083352 \nL 300.01375 284.4 \nz\n\" style=\"fill: #591e71; stroke: #ffffff; stroke-linejoin: miter\"/>\n   </g>\n   <g id=\"patch_7\">\n    <path d=\"M 521.067582 302.083352 \nC 521.302854 299.142292 521.479408 296.196831 521.597138 293.248726 \nC 521.714867 290.300621 521.77375 287.35046 521.77375 284.400005 \nL 300.01375 284.4 \nz\n\" style=\"fill: #592f0d; stroke: #ffffff; stroke-linejoin: miter\"/>\n   </g>\n   <g id=\"text_2\">\n    <!-- White -->\n    <g style=\"fill: #262626\" transform=\"translate(362.979355 51.765831) scale(0.11 -0.11)\">\n     <defs>\n      <path id=\"DejaVuSans-57\" d=\"M 213 4666 \nL 850 4666 \nL 1831 722 \nL 2809 4666 \nL 3519 4666 \nL 4500 722 \nL 5478 4666 \nL 6119 4666 \nL 4947 0 \nL 4153 0 \nL 3169 4050 \nL 2175 0 \nL 1381 0 \nL 213 4666 \nz\n\" transform=\"scale(0.015625)\"/>\n      <path id=\"DejaVuSans-68\" d=\"M 3513 2113 \nL 3513 0 \nL 2938 0 \nL 2938 2094 \nQ 2938 2591 2744 2837 \nQ 2550 3084 2163 3084 \nQ 1697 3084 1428 2787 \nQ 1159 2491 1159 1978 \nL 1159 0 \nL 581 0 \nL 581 4863 \nL 1159 4863 \nL 1159 2956 \nQ 1366 3272 1645 3428 \nQ 1925 3584 2291 3584 \nQ 2894 3584 3203 3211 \nQ 3513 2838 3513 2113 \nz\n\" transform=\"scale(0.015625)\"/>\n      <path id=\"DejaVuSans-69\" d=\"M 603 3500 \nL 1178 3500 \nL 1178 0 \nL 603 0 \nL 603 3500 \nz\nM 603 4863 \nL 1178 4863 \nL 1178 4134 \nL 603 4134 \nL 603 4863 \nz\n\" transform=\"scale(0.015625)\"/>\n      <path id=\"DejaVuSans-65\" d=\"M 3597 1894 \nL 3597 1613 \nL 953 1613 \nQ 991 1019 1311 708 \nQ 1631 397 2203 397 \nQ 2534 397 2845 478 \nQ 3156 559 3463 722 \nL 3463 178 \nQ 3153 47 2828 -22 \nQ 2503 -91 2169 -91 \nQ 1331 -91 842 396 \nQ 353 884 353 1716 \nQ 353 2575 817 3079 \nQ 1281 3584 2069 3584 \nQ 2775 3584 3186 3129 \nQ 3597 2675 3597 1894 \nz\nM 3022 2063 \nQ 3016 2534 2758 2815 \nQ 2500 3097 2075 3097 \nQ 1594 3097 1305 2825 \nQ 1016 2553 972 2059 \nL 3022 2063 \nz\n\" transform=\"scale(0.015625)\"/>\n     </defs>\n     <use xlink:href=\"#DejaVuSans-57\"/>\n     <use xlink:href=\"#DejaVuSans-68\" x=\"98.876953\"/>\n     <use xlink:href=\"#DejaVuSans-69\" x=\"162.255859\"/>\n     <use xlink:href=\"#DejaVuSans-74\" x=\"190.039062\"/>\n     <use xlink:href=\"#DejaVuSans-65\" x=\"229.248047\"/>\n    </g>\n   </g>\n   <g id=\"text_3\">\n    <!-- Black -->\n    <g style=\"fill: #262626\" transform=\"translate(29.762141 328.294335) scale(0.11 -0.11)\">\n     <defs>\n      <path id=\"DejaVuSans-42\" d=\"M 1259 2228 \nL 1259 519 \nL 2272 519 \nQ 2781 519 3026 730 \nQ 3272 941 3272 1375 \nQ 3272 1813 3026 2020 \nQ 2781 2228 2272 2228 \nL 1259 2228 \nz\nM 1259 4147 \nL 1259 2741 \nL 2194 2741 \nQ 2656 2741 2882 2914 \nQ 3109 3088 3109 3444 \nQ 3109 3797 2882 3972 \nQ 2656 4147 2194 4147 \nL 1259 4147 \nz\nM 628 4666 \nL 2241 4666 \nQ 2963 4666 3353 4366 \nQ 3744 4066 3744 3513 \nQ 3744 3084 3544 2831 \nQ 3344 2578 2956 2516 \nQ 3422 2416 3680 2098 \nQ 3938 1781 3938 1306 \nQ 3938 681 3513 340 \nQ 3088 0 2303 0 \nL 628 0 \nL 628 4666 \nz\n\" transform=\"scale(0.015625)\"/>\n      <path id=\"DejaVuSans-6c\" d=\"M 603 4863 \nL 1178 4863 \nL 1178 0 \nL 603 0 \nL 603 4863 \nz\n\" transform=\"scale(0.015625)\"/>\n      <path id=\"DejaVuSans-61\" d=\"M 2194 1759 \nQ 1497 1759 1228 1600 \nQ 959 1441 959 1056 \nQ 959 750 1161 570 \nQ 1363 391 1709 391 \nQ 2188 391 2477 730 \nQ 2766 1069 2766 1631 \nL 2766 1759 \nL 2194 1759 \nz\nM 3341 1997 \nL 3341 0 \nL 2766 0 \nL 2766 531 \nQ 2569 213 2275 61 \nQ 1981 -91 1556 -91 \nQ 1019 -91 701 211 \nQ 384 513 384 1019 \nQ 384 1609 779 1909 \nQ 1175 2209 1959 2209 \nL 2766 2209 \nL 2766 2266 \nQ 2766 2663 2505 2880 \nQ 2244 3097 1772 3097 \nQ 1472 3097 1187 3025 \nQ 903 2953 641 2809 \nL 641 3341 \nQ 956 3463 1253 3523 \nQ 1550 3584 1831 3584 \nQ 2591 3584 2966 3190 \nQ 3341 2797 3341 1997 \nz\n\" transform=\"scale(0.015625)\"/>\n      <path id=\"DejaVuSans-6b\" d=\"M 581 4863 \nL 1159 4863 \nL 1159 1991 \nL 2875 3500 \nL 3609 3500 \nL 1753 1863 \nL 3688 0 \nL 2938 0 \nL 1159 1709 \nL 1159 0 \nL 581 0 \nL 581 4863 \nz\n\" transform=\"scale(0.015625)\"/>\n     </defs>\n     <use xlink:href=\"#DejaVuSans-42\"/>\n     <use xlink:href=\"#DejaVuSans-6c\" x=\"68.603516\"/>\n     <use xlink:href=\"#DejaVuSans-61\" x=\"96.386719\"/>\n     <use xlink:href=\"#DejaVuSans-63\" x=\"157.666016\"/>\n     <use xlink:href=\"#DejaVuSans-6b\" x=\"212.646484\"/>\n    </g>\n   </g>\n   <g id=\"text_4\">\n    <!-- Hispanic -->\n    <g style=\"fill: #262626\" transform=\"translate(223.867199 529.606676) scale(0.11 -0.11)\">\n     <defs>\n      <path id=\"DejaVuSans-48\" d=\"M 628 4666 \nL 1259 4666 \nL 1259 2753 \nL 3553 2753 \nL 3553 4666 \nL 4184 4666 \nL 4184 0 \nL 3553 0 \nL 3553 2222 \nL 1259 2222 \nL 1259 0 \nL 628 0 \nL 628 4666 \nz\n\" transform=\"scale(0.015625)\"/>\n      <path id=\"DejaVuSans-73\" d=\"M 2834 3397 \nL 2834 2853 \nQ 2591 2978 2328 3040 \nQ 2066 3103 1784 3103 \nQ 1356 3103 1142 2972 \nQ 928 2841 928 2578 \nQ 928 2378 1081 2264 \nQ 1234 2150 1697 2047 \nL 1894 2003 \nQ 2506 1872 2764 1633 \nQ 3022 1394 3022 966 \nQ 3022 478 2636 193 \nQ 2250 -91 1575 -91 \nQ 1294 -91 989 -36 \nQ 684 19 347 128 \nL 347 722 \nQ 666 556 975 473 \nQ 1284 391 1588 391 \nQ 1994 391 2212 530 \nQ 2431 669 2431 922 \nQ 2431 1156 2273 1281 \nQ 2116 1406 1581 1522 \nL 1381 1569 \nQ 847 1681 609 1914 \nQ 372 2147 372 2553 \nQ 372 3047 722 3315 \nQ 1072 3584 1716 3584 \nQ 2034 3584 2315 3537 \nQ 2597 3491 2834 3397 \nz\n\" transform=\"scale(0.015625)\"/>\n      <path id=\"DejaVuSans-70\" d=\"M 1159 525 \nL 1159 -1331 \nL 581 -1331 \nL 581 3500 \nL 1159 3500 \nL 1159 2969 \nQ 1341 3281 1617 3432 \nQ 1894 3584 2278 3584 \nQ 2916 3584 3314 3078 \nQ 3713 2572 3713 1747 \nQ 3713 922 3314 415 \nQ 2916 -91 2278 -91 \nQ 1894 -91 1617 61 \nQ 1341 213 1159 525 \nz\nM 3116 1747 \nQ 3116 2381 2855 2742 \nQ 2594 3103 2138 3103 \nQ 1681 3103 1420 2742 \nQ 1159 2381 1159 1747 \nQ 1159 1113 1420 752 \nQ 1681 391 2138 391 \nQ 2594 391 2855 752 \nQ 3116 1113 3116 1747 \nz\n\" transform=\"scale(0.015625)\"/>\n     </defs>\n     <use xlink:href=\"#DejaVuSans-48\"/>\n     <use xlink:href=\"#DejaVuSans-69\" x=\"75.195312\"/>\n     <use xlink:href=\"#DejaVuSans-73\" x=\"102.978516\"/>\n     <use xlink:href=\"#DejaVuSans-70\" x=\"155.078125\"/>\n     <use xlink:href=\"#DejaVuSans-61\" x=\"218.554688\"/>\n     <use xlink:href=\"#DejaVuSans-6e\" x=\"279.833984\"/>\n     <use xlink:href=\"#DejaVuSans-69\" x=\"343.212891\"/>\n     <use xlink:href=\"#DejaVuSans-63\" x=\"370.996094\"/>\n    </g>\n   </g>\n   <g id=\"text_5\">\n    <!-- Asian -->\n    <g style=\"fill: #262626\" transform=\"translate(496.294752 432.275019) scale(0.11 -0.11)\">\n     <defs>\n      <path id=\"DejaVuSans-41\" d=\"M 2188 4044 \nL 1331 1722 \nL 3047 1722 \nL 2188 4044 \nz\nM 1831 4666 \nL 2547 4666 \nL 4325 0 \nL 3669 0 \nL 3244 1197 \nL 1141 1197 \nL 716 0 \nL 50 0 \nL 1831 4666 \nz\n\" transform=\"scale(0.015625)\"/>\n     </defs>\n     <use xlink:href=\"#DejaVuSans-41\"/>\n     <use xlink:href=\"#DejaVuSans-73\" x=\"68.408203\"/>\n     <use xlink:href=\"#DejaVuSans-69\" x=\"120.507812\"/>\n     <use xlink:href=\"#DejaVuSans-61\" x=\"148.291016\"/>\n     <use xlink:href=\"#DejaVuSans-6e\" x=\"209.570312\"/>\n    </g>\n   </g>\n   <g id=\"text_6\">\n    <!-- Native -->\n    <g style=\"fill: #262626\" transform=\"translate(542.018686 318.068354) scale(0.11 -0.11)\">\n     <defs>\n      <path id=\"DejaVuSans-4e\" d=\"M 628 4666 \nL 1478 4666 \nL 3547 763 \nL 3547 4666 \nL 4159 4666 \nL 4159 0 \nL 3309 0 \nL 1241 3903 \nL 1241 0 \nL 628 0 \nL 628 4666 \nz\n\" transform=\"scale(0.015625)\"/>\n      <path id=\"DejaVuSans-76\" d=\"M 191 3500 \nL 800 3500 \nL 1894 563 \nL 2988 3500 \nL 3597 3500 \nL 2284 0 \nL 1503 0 \nL 191 3500 \nz\n\" transform=\"scale(0.015625)\"/>\n     </defs>\n     <use xlink:href=\"#DejaVuSans-4e\"/>\n     <use xlink:href=\"#DejaVuSans-61\" x=\"74.804688\"/>\n     <use xlink:href=\"#DejaVuSans-74\" x=\"136.083984\"/>\n     <use xlink:href=\"#DejaVuSans-69\" x=\"175.292969\"/>\n     <use xlink:href=\"#DejaVuSans-76\" x=\"203.076172\"/>\n     <use xlink:href=\"#DejaVuSans-65\" x=\"262.255859\"/>\n    </g>\n   </g>\n   <g id=\"text_7\">\n    <!-- Others -->\n    <g style=\"fill: #262626\" transform=\"translate(543.755476 297.168911) scale(0.11 -0.11)\">\n     <defs>\n      <path id=\"DejaVuSans-4f\" d=\"M 2522 4238 \nQ 1834 4238 1429 3725 \nQ 1025 3213 1025 2328 \nQ 1025 1447 1429 934 \nQ 1834 422 2522 422 \nQ 3209 422 3611 934 \nQ 4013 1447 4013 2328 \nQ 4013 3213 3611 3725 \nQ 3209 4238 2522 4238 \nz\nM 2522 4750 \nQ 3503 4750 4090 4092 \nQ 4678 3434 4678 2328 \nQ 4678 1225 4090 567 \nQ 3503 -91 2522 -91 \nQ 1538 -91 948 565 \nQ 359 1222 359 2328 \nQ 359 3434 948 4092 \nQ 1538 4750 2522 4750 \nz\n\" transform=\"scale(0.015625)\"/>\n      <path id=\"DejaVuSans-72\" d=\"M 2631 2963 \nQ 2534 3019 2420 3045 \nQ 2306 3072 2169 3072 \nQ 1681 3072 1420 2755 \nQ 1159 2438 1159 1844 \nL 1159 0 \nL 581 0 \nL 581 3500 \nL 1159 3500 \nL 1159 2956 \nQ 1341 3275 1631 3429 \nQ 1922 3584 2338 3584 \nQ 2397 3584 2469 3576 \nQ 2541 3569 2628 3553 \nL 2631 2963 \nz\n\" transform=\"scale(0.015625)\"/>\n     </defs>\n     <use xlink:href=\"#DejaVuSans-4f\"/>\n     <use xlink:href=\"#DejaVuSans-74\" x=\"78.710938\"/>\n     <use xlink:href=\"#DejaVuSans-68\" x=\"117.919922\"/>\n     <use xlink:href=\"#DejaVuSans-65\" x=\"181.298828\"/>\n     <use xlink:href=\"#DejaVuSans-72\" x=\"242.822266\"/>\n     <use xlink:href=\"#DejaVuSans-73\" x=\"283.935547\"/>\n    </g>\n   </g>\n   <g id=\"legend_1\">\n    <g id=\"patch_8\">\n     <path d=\"M 487.455469 112.875625 \nL 569.51375 112.875625 \nQ 571.71375 112.875625 571.71375 110.675625 \nL 571.71375 14.9 \nQ 571.71375 12.7 569.51375 12.7 \nL 487.455469 12.7 \nQ 485.255469 12.7 485.255469 14.9 \nL 485.255469 110.675625 \nQ 485.255469 112.875625 487.455469 112.875625 \nz\n\" style=\"fill: #ffffff; opacity: 0.8; stroke: #cccccc; stroke-linejoin: miter\"/>\n    </g>\n    <g id=\"patch_9\">\n     <path d=\"M 489.655469 25.458281 \nL 511.655469 25.458281 \nL 511.655469 17.758281 \nL 489.655469 17.758281 \nz\n\" style=\"fill: #001c7f; stroke: #ffffff; stroke-linejoin: miter\"/>\n    </g>\n    <g id=\"text_8\">\n     <!-- White -->\n     <g style=\"fill: #262626\" transform=\"translate(520.455469 25.458281) scale(0.11 -0.11)\">\n      <use xlink:href=\"#DejaVuSans-57\"/>\n      <use xlink:href=\"#DejaVuSans-68\" x=\"98.876953\"/>\n      <use xlink:href=\"#DejaVuSans-69\" x=\"162.255859\"/>\n      <use xlink:href=\"#DejaVuSans-74\" x=\"190.039062\"/>\n      <use xlink:href=\"#DejaVuSans-65\" x=\"229.248047\"/>\n     </g>\n    </g>\n    <g id=\"patch_10\">\n     <path d=\"M 489.655469 41.604219 \nL 511.655469 41.604219 \nL 511.655469 33.904219 \nL 489.655469 33.904219 \nz\n\" style=\"fill: #b1400d; stroke: #ffffff; stroke-linejoin: miter\"/>\n    </g>\n    <g id=\"text_9\">\n     <!-- Black -->\n     <g style=\"fill: #262626\" transform=\"translate(520.455469 41.604219) scale(0.11 -0.11)\">\n      <use xlink:href=\"#DejaVuSans-42\"/>\n      <use xlink:href=\"#DejaVuSans-6c\" x=\"68.603516\"/>\n      <use xlink:href=\"#DejaVuSans-61\" x=\"96.386719\"/>\n      <use xlink:href=\"#DejaVuSans-63\" x=\"157.666016\"/>\n      <use xlink:href=\"#DejaVuSans-6b\" x=\"212.646484\"/>\n     </g>\n    </g>\n    <g id=\"patch_11\">\n     <path d=\"M 489.655469 57.750156 \nL 511.655469 57.750156 \nL 511.655469 50.050156 \nL 489.655469 50.050156 \nz\n\" style=\"fill: #12711c; stroke: #ffffff; stroke-linejoin: miter\"/>\n    </g>\n    <g id=\"text_10\">\n     <!-- Hispanic -->\n     <g style=\"fill: #262626\" transform=\"translate(520.455469 57.750156) scale(0.11 -0.11)\">\n      <use xlink:href=\"#DejaVuSans-48\"/>\n      <use xlink:href=\"#DejaVuSans-69\" x=\"75.195312\"/>\n      <use xlink:href=\"#DejaVuSans-73\" x=\"102.978516\"/>\n      <use xlink:href=\"#DejaVuSans-70\" x=\"155.078125\"/>\n      <use xlink:href=\"#DejaVuSans-61\" x=\"218.554688\"/>\n      <use xlink:href=\"#DejaVuSans-6e\" x=\"279.833984\"/>\n      <use xlink:href=\"#DejaVuSans-69\" x=\"343.212891\"/>\n      <use xlink:href=\"#DejaVuSans-63\" x=\"370.996094\"/>\n     </g>\n    </g>\n    <g id=\"patch_12\">\n     <path d=\"M 489.655469 73.896094 \nL 511.655469 73.896094 \nL 511.655469 66.196094 \nL 489.655469 66.196094 \nz\n\" style=\"fill: #8c0800; stroke: #ffffff; stroke-linejoin: miter\"/>\n    </g>\n    <g id=\"text_11\">\n     <!-- Asian -->\n     <g style=\"fill: #262626\" transform=\"translate(520.455469 73.896094) scale(0.11 -0.11)\">\n      <use xlink:href=\"#DejaVuSans-41\"/>\n      <use xlink:href=\"#DejaVuSans-73\" x=\"68.408203\"/>\n      <use xlink:href=\"#DejaVuSans-69\" x=\"120.507812\"/>\n      <use xlink:href=\"#DejaVuSans-61\" x=\"148.291016\"/>\n      <use xlink:href=\"#DejaVuSans-6e\" x=\"209.570312\"/>\n     </g>\n    </g>\n    <g id=\"patch_13\">\n     <path d=\"M 489.655469 90.042031 \nL 511.655469 90.042031 \nL 511.655469 82.342031 \nL 489.655469 82.342031 \nz\n\" style=\"fill: #591e71; stroke: #ffffff; stroke-linejoin: miter\"/>\n    </g>\n    <g id=\"text_12\">\n     <!-- Native -->\n     <g style=\"fill: #262626\" transform=\"translate(520.455469 90.042031) scale(0.11 -0.11)\">\n      <use xlink:href=\"#DejaVuSans-4e\"/>\n      <use xlink:href=\"#DejaVuSans-61\" x=\"74.804688\"/>\n      <use xlink:href=\"#DejaVuSans-74\" x=\"136.083984\"/>\n      <use xlink:href=\"#DejaVuSans-69\" x=\"175.292969\"/>\n      <use xlink:href=\"#DejaVuSans-76\" x=\"203.076172\"/>\n      <use xlink:href=\"#DejaVuSans-65\" x=\"262.255859\"/>\n     </g>\n    </g>\n    <g id=\"patch_14\">\n     <path d=\"M 489.655469 106.187969 \nL 511.655469 106.187969 \nL 511.655469 98.487969 \nL 489.655469 98.487969 \nz\n\" style=\"fill: #592f0d; stroke: #ffffff; stroke-linejoin: miter\"/>\n    </g>\n    <g id=\"text_13\">\n     <!-- Others -->\n     <g style=\"fill: #262626\" transform=\"translate(520.455469 106.187969) scale(0.11 -0.11)\">\n      <use xlink:href=\"#DejaVuSans-4f\"/>\n      <use xlink:href=\"#DejaVuSans-74\" x=\"78.710938\"/>\n      <use xlink:href=\"#DejaVuSans-68\" x=\"117.919922\"/>\n      <use xlink:href=\"#DejaVuSans-65\" x=\"181.298828\"/>\n      <use xlink:href=\"#DejaVuSans-72\" x=\"242.822266\"/>\n      <use xlink:href=\"#DejaVuSans-73\" x=\"283.935547\"/>\n     </g>\n    </g>\n   </g>\n  </g>\n </g>\n</svg>\n",
            "text/plain": [
              "<Figure size 1000x1000 with 1 Axes>"
            ]
          },
          "metadata": {},
          "output_type": "display_data"
        }
      ],
      "source": [
        "racepie = pd.DataFrame({'count': [race.value_counts()[0],race.value_counts()[1],race.value_counts()[2],race.value_counts()[3],race.value_counts()[4],race.value_counts()[5]]},index=['White', 'Black', 'Hispanic','Asian','Native','Others'])\n",
        "plot = racepie.plot.pie(y='count', figsize=(10, 10))"
      ]
    },
    {
      "cell_type": "code",
      "execution_count": null,
      "metadata": {
        "id": "bKBzm7BFyEdo"
      },
      "outputs": [],
      "source": [
        "DataFrame1['counts']=1"
      ]
    },
    {
      "cell_type": "code",
      "execution_count": null,
      "metadata": {
        "id": "rxFWXSkvyJtN"
      },
      "outputs": [],
      "source": [
        "fleeing = DataFrame1[(DataFrame1['flee'] == 'Not fleeing') & (DataFrame1['armed'] == 'unarmed')]"
      ]
    },
    {
      "cell_type": "code",
      "execution_count": null,
      "metadata": {
        "colab": {
          "base_uri": "https://localhost:8080/"
        },
        "id": "4_NR7nl2yMbN",
        "outputId": "4a7ee088-64aa-46e8-c65e-49df066f5d51"
      },
      "outputs": [
        {
          "data": {
            "text/plain": [
              "race\n",
              "A          4\n",
              "B         64\n",
              "H         40\n",
              "N          2\n",
              "O          4\n",
              "Other      9\n",
              "W        104\n",
              "Name: counts, dtype: int64"
            ]
          },
          "execution_count": 64,
          "metadata": {},
          "output_type": "execute_result"
        }
      ],
      "source": [
        "unarmNOTflee = fleeing.groupby('race').sum()\n",
        "unarmNOTflee['counts']"
      ]
    },
    {
      "cell_type": "code",
      "execution_count": null,
      "metadata": {
        "colab": {
          "base_uri": "https://localhost:8080/"
        },
        "id": "u4FXlawxyQ74",
        "outputId": "a746953b-b2ae-4a51-8262-393a2d391a6c"
      },
      "outputs": [
        {
          "data": {
            "text/plain": [
              "Index(['A', 'B', 'H', 'N', 'O', 'Other', 'W'], dtype='object', name='race')"
            ]
          },
          "execution_count": 65,
          "metadata": {},
          "output_type": "execute_result"
        }
      ],
      "source": [
        "unarmNOTflee.index"
      ]
    },
    {
      "cell_type": "code",
      "execution_count": null,
      "metadata": {
        "colab": {
          "base_uri": "https://localhost:8080/"
        },
        "id": "K3-vvT8YyUhc",
        "outputId": "3e6ebc61-7623-49a0-ff3c-91aba43c1039"
      },
      "outputs": [
        {
          "data": {
            "text/html": [
              "\n",
              "  <div id=\"df-b1b4a468-a6de-45b5-8ffd-f9b565206a83\">\n",
              "    <div class=\"colab-df-container\">\n",
              "      <div>\n",
              "<style scoped>\n",
              "    .dataframe tbody tr th:only-of-type {\n",
              "        vertical-align: middle;\n",
              "    }\n",
              "\n",
              "    .dataframe tbody tr th {\n",
              "        vertical-align: top;\n",
              "    }\n",
              "\n",
              "    .dataframe thead th {\n",
              "        text-align: right;\n",
              "    }\n",
              "</style>\n",
              "<table border=\"1\" class=\"dataframe\">\n",
              "  <thead>\n",
              "    <tr style=\"text-align: right;\">\n",
              "      <th></th>\n",
              "      <th>0</th>\n",
              "    </tr>\n",
              "  </thead>\n",
              "  <tbody>\n",
              "    <tr>\n",
              "      <th>Total Population</th>\n",
              "      <td>329824950</td>\n",
              "    </tr>\n",
              "    <tr>\n",
              "      <th>Native</th>\n",
              "      <td>2694311</td>\n",
              "    </tr>\n",
              "    <tr>\n",
              "      <th>Asian</th>\n",
              "      <td>18427519</td>\n",
              "    </tr>\n",
              "    <tr>\n",
              "      <th>White</th>\n",
              "      <td>196283090</td>\n",
              "    </tr>\n",
              "    <tr>\n",
              "      <th>Black</th>\n",
              "      <td>41595290</td>\n",
              "    </tr>\n",
              "    <tr>\n",
              "      <th>Hispanic</th>\n",
              "      <td>62573645</td>\n",
              "    </tr>\n",
              "    <tr>\n",
              "      <th>Others</th>\n",
              "      <td>8251095</td>\n",
              "    </tr>\n",
              "  </tbody>\n",
              "</table>\n",
              "</div>\n",
              "      <button class=\"colab-df-convert\" onclick=\"convertToInteractive('df-b1b4a468-a6de-45b5-8ffd-f9b565206a83')\"\n",
              "              title=\"Convert this dataframe to an interactive table.\"\n",
              "              style=\"display:none;\">\n",
              "        \n",
              "  <svg xmlns=\"http://www.w3.org/2000/svg\" height=\"24px\"viewBox=\"0 0 24 24\"\n",
              "       width=\"24px\">\n",
              "    <path d=\"M0 0h24v24H0V0z\" fill=\"none\"/>\n",
              "    <path d=\"M18.56 5.44l.94 2.06.94-2.06 2.06-.94-2.06-.94-.94-2.06-.94 2.06-2.06.94zm-11 1L8.5 8.5l.94-2.06 2.06-.94-2.06-.94L8.5 2.5l-.94 2.06-2.06.94zm10 10l.94 2.06.94-2.06 2.06-.94-2.06-.94-.94-2.06-.94 2.06-2.06.94z\"/><path d=\"M17.41 7.96l-1.37-1.37c-.4-.4-.92-.59-1.43-.59-.52 0-1.04.2-1.43.59L10.3 9.45l-7.72 7.72c-.78.78-.78 2.05 0 2.83L4 21.41c.39.39.9.59 1.41.59.51 0 1.02-.2 1.41-.59l7.78-7.78 2.81-2.81c.8-.78.8-2.07 0-2.86zM5.41 20L4 18.59l7.72-7.72 1.47 1.35L5.41 20z\"/>\n",
              "  </svg>\n",
              "      </button>\n",
              "      \n",
              "  <style>\n",
              "    .colab-df-container {\n",
              "      display:flex;\n",
              "      flex-wrap:wrap;\n",
              "      gap: 12px;\n",
              "    }\n",
              "\n",
              "    .colab-df-convert {\n",
              "      background-color: #E8F0FE;\n",
              "      border: none;\n",
              "      border-radius: 50%;\n",
              "      cursor: pointer;\n",
              "      display: none;\n",
              "      fill: #1967D2;\n",
              "      height: 32px;\n",
              "      padding: 0 0 0 0;\n",
              "      width: 32px;\n",
              "    }\n",
              "\n",
              "    .colab-df-convert:hover {\n",
              "      background-color: #E2EBFA;\n",
              "      box-shadow: 0px 1px 2px rgba(60, 64, 67, 0.3), 0px 1px 3px 1px rgba(60, 64, 67, 0.15);\n",
              "      fill: #174EA6;\n",
              "    }\n",
              "\n",
              "    [theme=dark] .colab-df-convert {\n",
              "      background-color: #3B4455;\n",
              "      fill: #D2E3FC;\n",
              "    }\n",
              "\n",
              "    [theme=dark] .colab-df-convert:hover {\n",
              "      background-color: #434B5C;\n",
              "      box-shadow: 0px 1px 3px 1px rgba(0, 0, 0, 0.15);\n",
              "      filter: drop-shadow(0px 1px 2px rgba(0, 0, 0, 0.3));\n",
              "      fill: #FFFFFF;\n",
              "    }\n",
              "  </style>\n",
              "\n",
              "      <script>\n",
              "        const buttonEl =\n",
              "          document.querySelector('#df-b1b4a468-a6de-45b5-8ffd-f9b565206a83 button.colab-df-convert');\n",
              "        buttonEl.style.display =\n",
              "          google.colab.kernel.accessAllowed ? 'block' : 'none';\n",
              "\n",
              "        async function convertToInteractive(key) {\n",
              "          const element = document.querySelector('#df-b1b4a468-a6de-45b5-8ffd-f9b565206a83');\n",
              "          const dataTable =\n",
              "            await google.colab.kernel.invokeFunction('convertToInteractive',\n",
              "                                                     [key], {});\n",
              "          if (!dataTable) return;\n",
              "\n",
              "          const docLinkHtml = 'Like what you see? Visit the ' +\n",
              "            '<a target=\"_blank\" href=https://colab.research.google.com/notebooks/data_table.ipynb>data table notebook</a>'\n",
              "            + ' to learn more about interactive tables.';\n",
              "          element.innerHTML = '';\n",
              "          dataTable['output_type'] = 'display_data';\n",
              "          await google.colab.output.renderOutput(dataTable, element);\n",
              "          const docLink = document.createElement('div');\n",
              "          docLink.innerHTML = docLinkHtml;\n",
              "          element.appendChild(docLink);\n",
              "        }\n",
              "      </script>\n",
              "    </div>\n",
              "  </div>\n",
              "  "
            ],
            "text/plain": [
              "                          0\n",
              "Total Population  329824950\n",
              "Native              2694311\n",
              "Asian              18427519\n",
              "White             196283090\n",
              "Black              41595290\n",
              "Hispanic           62573645\n",
              "Others              8251095"
            ]
          },
          "execution_count": 66,
          "metadata": {},
          "output_type": "execute_result"
        }
      ],
      "source": [
        "census_race_pop = census_DataFrame.sum().to_frame()\n",
        "census_race_pop.drop(labels=['state','Native percent','Asian percent',\n",
        "'White percent',\n",
        "'Black percent',\n",
        "'Hispanic percent',\n",
        "'Others percent',\t\n",
        "'safty ratio'],axis=0)"
      ]
    },
    {
      "cell_type": "code",
      "execution_count": null,
      "metadata": {
        "colab": {
          "base_uri": "https://localhost:8080/"
        },
        "id": "bdvsK0pgyY-Y",
        "outputId": "4e3cba19-b4ae-43ec-d4f5-3e90e3dc559b"
      },
      "outputs": [
        {
          "data": {
            "text/plain": [
              "41595290"
            ]
          },
          "execution_count": 67,
          "metadata": {},
          "output_type": "execute_result"
        }
      ],
      "source": [
        "census_race_pop.at['Black',0]"
      ]
    },
    {
      "cell_type": "code",
      "execution_count": null,
      "metadata": {
        "colab": {
          "background_save": true
        },
        "id": "uY5esXkjyhMu",
        "outputId": "1703cd95-b7c3-4282-dbf8-ca1c58b50ff1"
      },
      "outputs": [
        {
          "data": {
            "text/plain": [
              "0.15386357445758883"
            ]
          },
          "execution_count": 68,
          "metadata": {},
          "output_type": "execute_result"
        }
      ],
      "source": [
        "(unarmNOTflee.at['B','counts']/census_race_pop.at['Black',0])*100000"
      ]
    },
    {
      "cell_type": "code",
      "execution_count": null,
      "metadata": {
        "colab": {
          "background_save": true
        },
        "id": "HfqxOepByi5w",
        "outputId": "53046415-0c1f-494a-8eac-708d4d4683ee"
      },
      "outputs": [
        {
          "data": {
            "text/plain": [
              "0.052984696745909186"
            ]
          },
          "execution_count": 69,
          "metadata": {},
          "output_type": "execute_result"
        }
      ],
      "source": [
        "(unarmNOTflee.at['W','counts']/census_race_pop.at['White',0])*100000"
      ]
    },
    {
      "cell_type": "code",
      "execution_count": null,
      "metadata": {
        "colab": {
          "background_save": true
        },
        "id": "656USFsdywbz"
      },
      "outputs": [],
      "source": [
        "fleeing = DataFrame1[(DataFrame1['flee'] != 'Not fleeing') & (DataFrame1['armed'] == 'unarmed')]"
      ]
    },
    {
      "cell_type": "code",
      "execution_count": null,
      "metadata": {
        "id": "bBMMWGQWyyvf"
      },
      "outputs": [],
      "source": [
        "unarmflee = fleeing.groupby('race').sum()\n",
        "unarmflee['counts']"
      ]
    },
    {
      "cell_type": "code",
      "execution_count": null,
      "metadata": {
        "id": "2eGW2Pr1y1Xp"
      },
      "outputs": [],
      "source": [
        "(unarmflee.at['B','counts']/census_race_pop.at['Black',0])*100000"
      ]
    },
    {
      "cell_type": "code",
      "execution_count": null,
      "metadata": {
        "id": "yvHmarq0y9Hs"
      },
      "outputs": [],
      "source": [
        "(unarmflee.at['W','counts']/census_race_pop.at['White',0])*100000"
      ]
    },
    {
      "cell_type": "code",
      "execution_count": null,
      "metadata": {
        "id": "71TueV4_y_ls"
      },
      "outputs": [],
      "source": [
        "fleeing = DataFrame1[(DataFrame1['flee'] != 'Not fleeing') & (DataFrame1['armed'] != 'unarmed')]"
      ]
    },
    {
      "cell_type": "code",
      "execution_count": null,
      "metadata": {
        "id": "gKGBaIzEzBan"
      },
      "outputs": [],
      "source": [
        "armflee = fleeing.groupby('race').sum()\n",
        "armflee['counts']"
      ]
    },
    {
      "cell_type": "code",
      "execution_count": null,
      "metadata": {
        "id": "XNsCdGwAzFq-"
      },
      "outputs": [],
      "source": [
        "(armflee.at['B','counts']/census_race_pop.at['Black',0])*100000"
      ]
    },
    {
      "cell_type": "code",
      "execution_count": null,
      "metadata": {
        "id": "OHIm_QsEzHxi"
      },
      "outputs": [],
      "source": [
        "(armflee.at['W','counts']/census_race_pop.at['White',0])*100000"
      ]
    },
    {
      "cell_type": "code",
      "execution_count": null,
      "metadata": {
        "id": "iKwiP32TzKLc"
      },
      "outputs": [],
      "source": [
        "fleeing = DataFrame1[(DataFrame1['flee'] == 'Not fleeing') & (DataFrame1['armed'] != 'unarmed')]"
      ]
    },
    {
      "cell_type": "code",
      "execution_count": null,
      "metadata": {
        "id": "b0Vl7YRwzMI4"
      },
      "outputs": [],
      "source": [
        "armNOTflee = fleeing.groupby('race').sum()\n",
        "armNOTflee['counts']"
      ]
    },
    {
      "cell_type": "code",
      "execution_count": null,
      "metadata": {
        "id": "APBaqRXBzPft"
      },
      "outputs": [],
      "source": [
        "(armNOTflee.at['B','counts']/census_race_pop.at['Black',0])*100000"
      ]
    },
    {
      "cell_type": "code",
      "execution_count": null,
      "metadata": {
        "id": "hgZYoPnhzQga"
      },
      "outputs": [],
      "source": [
        "(armNOTflee.at['W','counts']/census_race_pop.at['White',0])*100000"
      ]
    },
    {
      "cell_type": "code",
      "execution_count": null,
      "metadata": {
        "id": "wCVn-K30zUUJ"
      },
      "outputs": [],
      "source": [
        "raceWise = DataFrame1[(DataFrame1['threat_level']=='attack')]"
      ]
    },
    {
      "cell_type": "code",
      "execution_count": null,
      "metadata": {
        "id": "U_HZ_3glzWVT"
      },
      "outputs": [],
      "source": [
        "racewiseGrouped = raceWise.groupby('race').sum()\n",
        "racewiseGrouped['counts']"
      ]
    },
    {
      "cell_type": "code",
      "execution_count": null,
      "metadata": {
        "id": "446SfV8PSB5c"
      },
      "outputs": [],
      "source": [
        "police_deaths = pd.read_csv(\"police_deaths_538.csv\")"
      ]
    },
    {
      "cell_type": "code",
      "execution_count": null,
      "metadata": {
        "id": "7SA3zCf_5qgU"
      },
      "outputs": [],
      "source": [
        "police_deaths.info()"
      ]
    },
    {
      "cell_type": "code",
      "execution_count": null,
      "metadata": {
        "id": "sjJhjNK2U7Oi"
      },
      "outputs": [],
      "source": [
        "police_deaths.describe()"
      ]
    },
    {
      "cell_type": "code",
      "execution_count": null,
      "metadata": {
        "id": "XYKLdnycUzB6"
      },
      "outputs": [],
      "source": [
        "police_deaths.head()"
      ]
    },
    {
      "cell_type": "code",
      "execution_count": null,
      "metadata": {
        "id": "5NVoJDyeU-lO"
      },
      "outputs": [],
      "source": [
        "# Create pivot table and plot horizontal bar chart\n",
        "a = police_deaths.pivot_table(index='cause_short', values='cause', aggfunc='count')\\\n",
        "        .sort_values(by='cause', ascending=True)\\\n",
        "        .plot(kind='barh', figsize=(12, 14), color='orange', width=0.85, xlim=[0, 12500], legend=False)\n",
        "\n",
        "# Remove spines and set tick labels\n",
        "a.spines['right'].set_visible(False)\n",
        "a.spines['top'].set_visible(False)\n",
        "a.spines['left'].set_visible(False)\n",
        "a.spines['bottom'].set_visible(False)\n",
        "a.xaxis.set_major_locator(ticker.MultipleLocator(750))\n",
        "a.set_xlabel('No. of deaths', labelpad=25, size=16)\n",
        "a.set_ylabel('Cause of deaths', labelpad=25, size=16)\n",
        "a.set_title('Causes of Officer Death', size=18)\n",
        "a.xaxis.set_major_formatter(StrMethodFormatter('{x:,g}'))\n",
        "\n",
        "# Add vertical lines and bar labels\n",
        "values = a.get_xticks()\n",
        "for tick in values:\n",
        "    a.axvline(x=tick, linestyle='dotted', alpha=0.6, color='red', zorder=2)\n",
        "for i in a.containers:\n",
        "    for j in i:\n",
        "        a.text(j.get_width() + 0.3, j.get_y() + j.get_height() / 2, \n",
        "               '{:,.0f}'.format(j.get_width()), fontsize=10, color='green')\n"
      ]
    },
    {
      "cell_type": "code",
      "execution_count": null,
      "metadata": {
        "id": "Jy2tbHn1uoWE"
      },
      "outputs": [],
      "source": [
        "corr = census_DataFrame.corr()\n",
        "sns.heatmap(corr, cmap=\"YlGnBu\")\n",
        "plt.title(\"Correlation between Census Features\")\n",
        "plt.show()"
      ]
    },
    {
      "cell_type": "code",
      "execution_count": null,
      "metadata": {
        "id": "RYDH9BFqVCh-"
      },
      "outputs": [],
      "source": [
        "fatal_en= pd.read_csv(\"fatal_encounters_dot_org.csv\")"
      ]
    },
    {
      "cell_type": "code",
      "execution_count": null,
      "metadata": {
        "id": "otgaIvdpVGij"
      },
      "outputs": [],
      "source": [
        "fatal_en.describe()"
      ]
    },
    {
      "cell_type": "code",
      "execution_count": null,
      "metadata": {
        "id": "fktHHeOpVIvv"
      },
      "outputs": [],
      "source": [
        "fatal_en = fatal_en.iloc[:,[0,2,1,3,4,5,8,10,11,15,16,18,19,22,27]]"
      ]
    },
    {
      "cell_type": "code",
      "execution_count": null,
      "metadata": {
        "id": "bOOmmYKY8nf5"
      },
      "outputs": [],
      "source": [
        "fatal_en.head()"
      ]
    },
    {
      "cell_type": "code",
      "execution_count": null,
      "metadata": {
        "id": "uio74IkhV7Jl"
      },
      "outputs": [],
      "source": [
        "fatal_en_pv = pd.pivot_table(fatal_en,index=['Location of death (state)'],values = ['Unique ID'],columns = ['Cause of death'], aggfunc=\"count\").fillna(value=0)\n",
        "fatal_en_pv.columns = fatal_en_pv.columns.droplevel()\n",
        "fatal_en_pv.loc[:,'Total'] = fatal_en_pv.sum(axis=1)\n",
        "fatal_en_pv.sort_values(\"Total\", axis = 0, ascending = True, inplace=True)\n",
        "colors2 = plt.cm.nipy_spectral(np.linspace(0, 1, 15))\n",
        "a2 = fatal_en_pv.drop(['Total'], axis = 1).plot.barh(figsize=(12,16),stacked=True, width=0.80,color=colors2 )\n",
        "a2.set_xlabel(\"Total People Killed\", labelpad=20, weight='bold',size=14)\n",
        "a2.set_ylabel(\"States\", labelpad=20, weight='bold', size=14)\n",
        "a2.set_title(\"Causes of People Death per different State  \", size=20)"
      ]
    },
    {
      "cell_type": "code",
      "execution_count": null,
      "metadata": {
        "id": "KsOnFKH-WAmX"
      },
      "outputs": [],
      "source": [
        "fatal_en.rename(columns={\"Location of death (city)\": \"Location\"}, inplace=True)\n",
        "text_list = fatal_en['Location'].astype(str).tolist()\n",
        "\n",
        "word_could_dict = Counter(text_list)\n",
        "\n",
        "wordcloud = WordCloud(\n",
        "    width=1000,\n",
        "    height=500,\n",
        "    background_color='green',\n",
        "    max_words=20,\n",
        "    colormap='winter'\n",
        ").generate_from_frequencies(word_could_dict)\n",
        "\n",
        "plt.figure(figsize=(30, 20))\n",
        "plt.imshow(wordcloud, interpolation='bilinear')\n",
        "plt.axis('off')\n",
        "plt.tight_layout(pad=0)\n",
        "plt.show()\n"
      ]
    },
    {
      "cell_type": "code",
      "execution_count": null,
      "metadata": {
        "id": "5ZZw6lqQWI4Q"
      },
      "outputs": [],
      "source": [
        "# Read the shootings dataset\n",
        "shootings = pd.read_csv(\"shootings_wash_post.csv\")"
      ]
    },
    {
      "cell_type": "code",
      "execution_count": null,
      "metadata": {
        "id": "E1VEDDDP_Vk-"
      },
      "outputs": [],
      "source": [
        "# Replace abbreviations with full race and gender names\n",
        "race_dict = {'W': 'White', 'B': 'Black', 'A': 'Asian', 'N': 'Native', 'H': 'Hispanic', 'O': 'Other'}\n",
        "gender_dict = {'M': 'Male', 'F': 'Female'}\n",
        "shootings[\"race\"] = shootings[\"race\"].map(race_dict)\n",
        "shootings[\"gender\"] = shootings[\"gender\"].map(gender_dict)"
      ]
    },
    {
      "cell_type": "code",
      "execution_count": null,
      "metadata": {
        "id": "xfwD7o2p_YpX"
      },
      "outputs": [],
      "source": [
        "# Replace missing values with appropriate values\n",
        "shootings['armed'].fillna('No', inplace=True)\n",
        "shootings['age'].fillna(0, inplace=True)\n",
        "shootings['race'].fillna('Other', inplace=True)\n",
        "shootings['flee'].fillna('Not specified', inplace=True)"
      ]
    },
    {
      "cell_type": "code",
      "execution_count": null,
      "metadata": {
        "id": "Gg2mqSr0_ciC"
      },
      "outputs": [],
      "source": [
        "# Rename a column for clarity\n",
        "shootings.rename(columns={\"signs_of_mental_illness\": \"Signs Mental illness\"}, inplace=True)"
      ]
    },
    {
      "cell_type": "code",
      "execution_count": null,
      "metadata": {
        "id": "IzbTsHNi_ez6"
      },
      "outputs": [],
      "source": [
        "# Check for any remaining missing values\n",
        "shootings.isna().sum()"
      ]
    },
    {
      "cell_type": "code",
      "execution_count": null,
      "metadata": {
        "id": "29IuOXyZ_hJa"
      },
      "outputs": [],
      "source": [
        "# Print the first few rows of the dataframe\n",
        "shootings.head()"
      ]
    },
    {
      "cell_type": "code",
      "execution_count": null,
      "metadata": {
        "id": "OIvPDcAEWQCv"
      },
      "outputs": [],
      "source": [
        "text_list = shootings[\"city\"].astype(str).tolist()\n",
        "word_could_dict = Counter(text_list)\n",
        "\n",
        "wordcloud = WordCloud(\n",
        "    width=1000,\n",
        "    height=500,\n",
        "    background_color='green',\n",
        "    max_words=10\n",
        ").generate_from_frequencies(word_could_dict)\n",
        "\n",
        "plt.figure(figsize=(30, 20))\n",
        "plt.imshow(wordcloud, interpolation='bilinear')\n",
        "plt.axis('off')\n",
        "plt.tight_layout(pad=0)\n",
        "plt.show()\n"
      ]
    },
    {
      "cell_type": "code",
      "execution_count": null,
      "metadata": {
        "id": "ZG_2ZrJPWXbL"
      },
      "outputs": [],
      "source": [
        "text_list = [str(armed) for armed in shootings[\"armed\"]]\n",
        "word_count_dict = Counter(text_list)\n",
        "\n",
        "wordcloud = WordCloud(\n",
        "    width=1000,\n",
        "    height=500,\n",
        "    background_color='green',\n",
        "    max_words=10\n",
        ").generate_from_frequencies(word_count_dict)\n",
        "\n",
        "plt.figure(figsize=(30, 20))\n",
        "plt.imshow(wordcloud, interpolation='bilinear')\n",
        "plt.axis('off')\n",
        "plt.tight_layout(pad=0)\n",
        "plt.show()\n"
      ]
    },
    {
      "cell_type": "code",
      "execution_count": null,
      "metadata": {
        "id": "3s7g7AiOWfNJ"
      },
      "outputs": [],
      "source": [
        "shootings['date'] = pd.to_datetime(shootings['date'])\n",
        "shootings[['year', 'month', 'day']] = shootings['date'].dt.date.astype(str).str.split('-', expand=True).astype(int)\n",
        "print(shootings)"
      ]
    },
    {
      "cell_type": "code",
      "execution_count": null,
      "metadata": {
        "id": "uvSLUbbGWwFH"
      },
      "outputs": [],
      "source": [
        "DataFrame_mod = shootings[shootings.year != 2022]\n",
        "sns.set(style='darkgrid')\n",
        "sns.countplot(data=DataFrame_mod, x='year', palette='pastel')\n",
        "plt.title('Shootings Year from 2015 to 2020', fontsize=16)\n",
        "plt.show()"
      ]
    },
    {
      "cell_type": "code",
      "execution_count": null,
      "metadata": {
        "id": "Xn_anwQ8W058"
      },
      "outputs": [],
      "source": [
        "Group_by_Year = DataFrame_mod.groupby(\"year\")\n",
        "fig = px.line(Group_by_Year.count().date, title='Number of Shootings from 2015 to 2020 year', markers=True, color_discrete_sequence=['#1f77b4'])\n",
        "fig.update_traces(line_color='green')\n",
        "fig.show()"
      ]
    },
    {
      "cell_type": "code",
      "execution_count": null,
      "metadata": {
        "id": "TX9QoURhW72C"
      },
      "outputs": [],
      "source": [
        "Group_by_Month = DataFrame_mod.groupby('month')\n",
        "fig = px.line(Group_by_Month.count().date, title='Number of Shootings with respect to Month', markers=True)\n",
        "fig.update_traces(line_color='green')\n",
        "fig.show()\n"
      ]
    },
    {
      "cell_type": "code",
      "execution_count": null,
      "metadata": {
        "id": "rwQDo7i4XDbG"
      },
      "outputs": [],
      "source": [
        "Group_by_day = DataFrame_mod.groupby('day')\n",
        "fig = px.line(Group_by_day.count().date, title='Number of Shootings by day',markers=True)\n",
        "fig.update_traces(line_color='green')\n",
        "fig.show()"
      ]
    },
    {
      "cell_type": "code",
      "execution_count": null,
      "metadata": {
        "id": "R7eoZIoLXGdo"
      },
      "outputs": [],
      "source": [
        "df_year_month = DataFrame_mod.groupby(by=['year','month']).count().date\n",
        "df_year_month = df_year_month.reset_index().pivot('year','month','date').transpose()\n",
        "fig = px.line(np.cumsum(df_year_month), title='Number of Shootings with Cumulative representation', markers=True, color_discrete_sequence=['green'])\n",
        "fig.show()"
      ]
    },
    {
      "cell_type": "code",
      "execution_count": null,
      "metadata": {
        "id": "_V1kV1j9XJQl"
      },
      "outputs": [],
      "source": [
        "labels = ['shot', 'shot and tasered']\n",
        "sizes = shootings.manner_of_death.value_counts().values\n",
        "colors = ['#ff9999','#66b3ff']\n",
        "\n",
        "fig1, ax1 = plt.subplots()\n",
        "ax1.pie(sizes, colors=colors, labels=labels, autopct='%1.1f%%', startangle=90)\n",
        "ax1.axis('equal')\n",
        "\n",
        "plt.title('Manner of Death of the person')\n",
        "plt.show()\n",
        "\n",
        "print(shootings.manner_of_death.value_counts())\n"
      ]
    },
    {
      "cell_type": "code",
      "execution_count": null,
      "metadata": {
        "id": "XW17TBWhXnMG"
      },
      "outputs": [],
      "source": [
        "plt.figure(figsize=(7,7))\n",
        "plt.title('Threat Level')\n",
        "sns.set_palette('husl')\n",
        "sns.countplot(x='threat_level', data=DataFrame_mod)\n",
        "plt.show()\n",
        "\n",
        "print(DataFrame_mod.threat_level.value_counts())"
      ]
    },
    {
      "cell_type": "code",
      "execution_count": null,
      "metadata": {
        "id": "IyyzNFyPXqyF"
      },
      "outputs": [],
      "source": [
        "plt.figure(figsize=(20,10))\n",
        "sns.countplot(data=DataFrame_mod, x='armed', order=DataFrame_mod['armed'].value_counts().index, palette='Set2')\n",
        "plt.title(\"Number of Cases by Weapon Type\")\n",
        "plt.xticks(rotation=90)\n",
        "plt.show()\n",
        "\n",
        "armed_counts = DataFrame_mod.armed.value_counts()\n",
        "print(armed_counts.head(26))\n"
      ]
    },
    {
      "cell_type": "code",
      "execution_count": null,
      "metadata": {
        "id": "kABV3nlHX2LE"
      },
      "outputs": [],
      "source": [
        "fig, ax = plt.subplots(1, 2, figsize=(20, 8))\n",
        "\n",
        "sns.histplot(data=DataFrame_mod, x='age', kde=True, ax=ax[0])\n",
        "ax[0].set_xlabel('Age')\n",
        "ax[0].set_ylabel('Count')\n",
        "ax[0].set_title('Histogram of Age')\n",
        "\n",
        "sns.boxplot(x=DataFrame_mod['age'], ax=ax[1])\n",
        "ax[1].set_xlabel('Age')\n",
        "ax[1].set_title('Boxplot of Age')\n",
        "\n",
        "plt.suptitle('Distribution of Age')\n",
        "plt.show()\n"
      ]
    },
    {
      "cell_type": "code",
      "execution_count": null,
      "metadata": {
        "id": "JHAxNwBGX_6F"
      },
      "outputs": [],
      "source": [
        "Data_year_state = DataFrame_mod.groupby(['year', 'state']).size().reset_index(name='count')\n",
        "\n",
        "fig = px.choropleth(Data_year_state,\n",
        "                    locations='state', \n",
        "                    locationmode=\"USA-states\",\n",
        "                    color='count',\n",
        "                    color_continuous_scale=\"Viridis_r\", \n",
        "                    scope=\"usa\",\n",
        "                    animation_frame='year',\n",
        "                    title=\"Incidents Observed in Each State Over the Year\")\n",
        "\n",
        "fig.show()\n"
      ]
    },
    {
      "cell_type": "code",
      "execution_count": null,
      "metadata": {
        "id": "oHTRUrp_YFrn"
      },
      "outputs": [],
      "source": [
        "plt.figure(figsize=(12,8))\n",
        "sns.countplot(data=DataFrame_mod,x='flee',hue='threat_level', palette='Set2')\n",
        "plt.title(\"Count of Flee and Attack\")\n",
        "plt.show()\n",
        "DataFrame_mod.flee.value_counts()\n"
      ]
    },
    {
      "cell_type": "code",
      "execution_count": null,
      "metadata": {
        "id": "i0t7ToYJN175"
      },
      "outputs": [],
      "source": [
        "data = pd.read_csv(\"shootings.csv\")"
      ]
    },
    {
      "cell_type": "code",
      "execution_count": null,
      "metadata": {
        "id": "IK-RzNIsHCp4"
      },
      "outputs": [],
      "source": [
        "data.describe()"
      ]
    },
    {
      "cell_type": "code",
      "execution_count": null,
      "metadata": {
        "id": "dmFXI5aqHGEU"
      },
      "outputs": [],
      "source": [
        "data.head()"
      ]
    },
    {
      "cell_type": "code",
      "execution_count": null,
      "metadata": {
        "id": "OpThrT4kG-Ou"
      },
      "outputs": [],
      "source": [
        "fig = px.bar(data['manner_of_death'].value_counts(), x=data['manner_of_death'].value_counts().index, y=data['manner_of_death'].value_counts().values, color=data['manner_of_death'].value_counts().index, labels={'x': 'manner of death', 'y': 'count'})\n",
        "fig.update_layout(title='Frequency of reason of death', height=500, width=500)\n",
        "fig.show()"
      ]
    },
    {
      "cell_type": "code",
      "execution_count": null,
      "metadata": {
        "id": "6L87MbFxH-Uo"
      },
      "outputs": [],
      "source": [
        "fig = px.bar(data['armed'].value_counts(), x=data['armed'].value_counts().index, y=data['armed'].value_counts().values, color=data['armed'].value_counts().index, labels={'x': 'weapons used', 'y': 'count'})\n",
        "fig.update_layout(title='Frequency of different weapons used', height=700, width=1000)\n",
        "fig.show()\n"
      ]
    },
    {
      "cell_type": "code",
      "execution_count": null,
      "metadata": {
        "id": "OWzbozTeJ07P"
      },
      "outputs": [],
      "source": [
        "\n",
        "\n",
        "fig = px.bar(data['gender'].value_counts(), x=data['gender'].value_counts().index, y=data['gender'].value_counts().values, color=data['gender'].value_counts().index, labels={'x': 'gender', 'y': 'count'})\n",
        "fig.update_layout(title='Gender Difference', height=500, width=500)\n",
        "fig.show()\n"
      ]
    },
    {
      "cell_type": "code",
      "execution_count": null,
      "metadata": {
        "id": "DSEa5HzQNvRN"
      },
      "outputs": [],
      "source": [
        "df = data.groupby('date')['manner_of_death'].count().reset_index()\n",
        "df['date'] = pd.to_datetime(df['date'])\n",
        "df['year-month'] = df['date'].dt.strftime('%Y-%m')\n",
        "df_ym = df.groupby('year-month')[['manner_of_death']].sum().reset_index()\n",
        "df_ym['year-month'] = pd.to_datetime(df_ym['year-month'])\n",
        "df_ym = df_ym.sort_values('year-month')\n",
        "\n",
        "fig = go.Figure(go.Scatter(x=df_ym['year-month'], y=df_ym['manner_of_death'], \n",
        "                           mode='lines+markers', \n",
        "                           marker=dict(color='rgba(255, 0, 0, 0.8)'), \n",
        "                           line=dict(color='rgba(255, 0, 0, 0.8)')))\n",
        "fig.update_layout(title_text='No of deaths (2015-2020)', yaxis_title=\"no. of deaths\")\n",
        "fig.show()\n"
      ]
    },
    {
      "cell_type": "code",
      "execution_count": null,
      "metadata": {
        "id": "XN8vcvonN3g1"
      },
      "outputs": [],
      "source": [
        "df"
      ]
    },
    {
      "cell_type": "code",
      "execution_count": null,
      "metadata": {
        "id": "6XsGG4fzN5jk"
      },
      "outputs": [],
      "source": [
        "df=data['race'].value_counts().reset_index().rename(columns={'index':'race','race':'count'})\n",
        "fig = go.Figure(go.Bar(x=df['race'],y=df['count'],marker={'color': df['count'],'colorscale': 'Blues'},))\n",
        "fig.update_layout(title_text='Different Races Frequency',xaxis_title=\"Race of the person\",yaxis_title=\"Total Count\",height=500,width=500)\n",
        "fig.show()"
      ]
    },
    {
      "cell_type": "code",
      "execution_count": null,
      "metadata": {
        "id": "XiiOJjXhe7UM"
      },
      "outputs": [],
      "source": [
        "fig = go.Figure(go.Bar(\n",
        "    x=df_ym['year-month'],\n",
        "    y=df_ym['manner_of_death'],\n",
        "    marker={'color': df_ym['manner_of_death'], 'colorscale': 'Blues'},\n",
        "    text=df_ym['manner_of_death']\n",
        "))\n",
        "fig.update_layout(title_text='Number of Deaths from 2015-2020', yaxis_title=\"number of deaths\")\n",
        "fig.show()"
      ]
    },
    {
      "cell_type": "code",
      "execution_count": null,
      "metadata": {
        "id": "WooZ78rTfRFS"
      },
      "outputs": [],
      "source": [
        "fig = go.Figure(go.Box(y=data['age'], marker_color='#7b6de3'))\n",
        "fig.update_layout(title=\"Age Distribution\")\n",
        "fig.show()"
      ]
    },
    {
      "cell_type": "code",
      "execution_count": null,
      "metadata": {
        "id": "ls70a0_SfTNH"
      },
      "outputs": [],
      "source": [
        "sns.distplot(data['age'], kde=True, hist_kws={'color': 'darkcyan'}, kde_kws={'color': 'black'})\n"
      ]
    },
    {
      "cell_type": "code",
      "execution_count": null,
      "metadata": {
        "id": "qTNIjJCQ2mx6"
      },
      "outputs": [],
      "source": [
        "sns.boxplot(x=\"gender\", y=\"age\", palette=[\"#3498db\", \"#e74c3c\"], data=data)\n",
        "sns.despine(offset=10, trim=True)"
      ]
    },
    {
      "cell_type": "code",
      "execution_count": null,
      "metadata": {
        "id": "l4Hkkq2z2-Ib"
      },
      "outputs": [],
      "source": [
        "Dataframe_male=data[data['gender']=='M']['age'].values\n",
        "Dataframe_female=data[data['gender']=='F']['age'].values\n",
        "sns.set_palette(\"Paired\")\n",
        "sns.distplot(Dataframe_male, hist=False, rug=True)\n",
        "sns.distplot(Dataframe_female, hist=False, rug=True)"
      ]
    },
    {
      "cell_type": "code",
      "execution_count": null,
      "metadata": {
        "id": "tiUOTn2DZ4Yy"
      },
      "outputs": [],
      "source": [
        "sns.boxplot(x=\"race\", y=\"age\", data=data, palette=[\"#800000\", \"#FFA07A\", \"#008080\", \"#00CED1\", \"#FFD700\"])\n",
        "sns.despine(offset=10, trim=True)"
      ]
    },
    {
      "cell_type": "code",
      "execution_count": null,
      "metadata": {
        "id": "cOyWtAlmJDMH"
      },
      "outputs": [],
      "source": [
        "PK = pd.read_csv('fatal-police-shootings-data.csv', encoding='latin1')"
      ]
    },
    {
      "cell_type": "code",
      "execution_count": null,
      "metadata": {
        "id": "GXzwDX_XJH-H"
      },
      "outputs": [],
      "source": [
        "def ActualVsPopulation(df, population, group):\n",
        "    \"\"\"\n",
        "    Get a DataFrame with actual per-group percentage vs population group percentage.\n",
        "    \"\"\"\n",
        "    data = {group: [], 'type': [], 'percent': []}\n",
        "    total_population = float(sum(population.values()))\n",
        "    try:\n",
        "        total_kills = float(df.id.count())\n",
        "    except ZeroDivisionError:\n",
        "        total_kills = 0\n",
        "        \n",
        "    for g in df[group].dropna().unique():\n",
        "        # Actual percentage\n",
        "        kills = df[df[group] == g].id.count()\n",
        "        actual_percent = round(100 * kills / total_kills, 2) if total_kills > 0 else 0\n",
        "        data[group].append(g)\n",
        "        data['type'].append('Killings')\n",
        "        data['percent'].append(actual_percent)\n",
        "        \n",
        "        # Population percentage\n",
        "        pop_percent = round(100 * population[g] / total_population, 2)\n",
        "        data[group].append(g)\n",
        "        data['type'].append('Population')\n",
        "        data['percent'].append(pop_percent)\n",
        "        \n",
        "    return pd.DataFrame(data=data)\n"
      ]
    },
    {
      "cell_type": "code",
      "execution_count": null,
      "metadata": {
        "id": "YMQOeEImJdNp"
      },
      "outputs": [],
      "source": [
        "# Plot percent police killings by race vs population percentages\n",
        "pop_r = {'W': 60.7, # white - % population by race https://www.census.gov/quickfacts/fact/table/US\n",
        "         'B': 13.4, # black or african american\n",
        "         'H': 18.1, # hispanic or latino\n",
        "         'A': 5.8,  # asian\n",
        "         'N': 1.5,  # american indian, alaska native, naitive hawaiian, and other pacific islander\n",
        "         'O': 0.5}  # other\n",
        "df = ActualVsPopulation(PK, pop_r, 'race')\n",
        "sns.barplot(x=\"race\", y=\"percent\", hue=\"type\", data=df,\n",
        "            order = PK.race.value_counts().index, palette=[\"g\", \"C0\"])\n",
        "plt.title('Shooting vs Population Distribution (by Race)')\n",
        "plt.show()"
      ]
    },
    {
      "cell_type": "code",
      "execution_count": null,
      "metadata": {
        "id": "vfW-mBsCI_8k"
      },
      "outputs": [],
      "source": [
        "import seaborn as sns\n",
        "import pandas as pd\n",
        "import matplotlib.pyplot as plt\n",
        "\n",
        "# Population for each state\n",
        "# https://www.census.gov/data/datasets/2017/demo/popest/state-total.html\n",
        "pop_s ={'AL': 4874747,\n",
        "        'AK': 739795,\n",
        "        'AZ': 7016270,\n",
        "        'AR': 3004279,\n",
        "        'CA': 39536653,\n",
        "        'CO': 5607154,\n",
        "        'CT': 3588184,\n",
        "        'DE': 961939,\n",
        "        'DC': 693972,\n",
        "        'FL': 20984400,\n",
        "        'GA': 10429379,\n",
        "        'HI': 1427538,\n",
        "        'ID': 1716943,\n",
        "        'IL': 12802023,\n",
        "        'IN': 6666818,\n",
        "        'IA': 3145711,\n",
        "        'KS': 2913123,\n",
        "        'KY': 4454189,\n",
        "        'LA': 4684333,\n",
        "        'ME': 1335907,\n",
        "        'MD': 6052177,\n",
        "        'MA': 6859819,\n",
        "        'MI': 9962311,\n",
        "        'MN': 5576606,\n",
        "        'MS': 2984100,\n",
        "        'MO': 6113532,\n",
        "        'MT': 1050493,\n",
        "        'NE': 1920076,\n",
        "        'NV': 2998039,\n",
        "        'NH': 1342795,\n",
        "        'NJ': 9005644,\n",
        "        'NM': 2088070,\n",
        "        'NY': 19849399,\n",
        "        'NC': 10273419,\n",
        "        'ND': 755393,\n",
        "        'OH': 11658609,\n",
        "        'OK': 3930864,\n",
        "        'OR': 4142776,\n",
        "        'PA': 12805537,\n",
        "        'RI': 1059639,\n",
        "        'SC': 5024369,\n",
        "        'SD': 869666,\n",
        "        'TN': 6715984,\n",
        "        'TX': 28304596,\n",
        "        'UT': 3101833,\n",
        "        'VT': 623657,\n",
        "        'VA': 8470020,\n",
        "        'WA': 7405743,\n",
        "        'WV': 1815857,\n",
        "        'WI': 5795483,\n",
        "        'WY': 579315}\n",
        "\n",
        "# Plot percent police killings by state vs population percentages\n",
        "df = ActualVsPopulation(PK, pop_s, 'state')\n",
        "\n",
        "plt.figure(figsize=(10, 16))\n",
        "sns.barplot(y=\"state\", x=\"percent\", hue=\"type\", data=df,\n",
        "            order = PK.state.value_counts().index, palette=[\"red\", \"blue\"])\n",
        "plt.title('Actual Police Killings vs Population Distribution (by State)')\n",
        "plt.xlabel('Percent')\n",
        "plt.ylabel('State')\n",
        "plt.show()\n"
      ]
    },
    {
      "cell_type": "code",
      "execution_count": null,
      "metadata": {
        "id": "5F9Wp_mkIirK"
      },
      "outputs": [],
      "source": [
        "lam = 10 #lambda, the \"expected\" number\n",
        "k1 = 5   #k, the actual number, when more than expected\n",
        "k2 = 15  #k, the actual number, when less than expected\n",
        "\n",
        "xx = np.arange(0,30)\n",
        "ppd = poisson.pmf(xx, lam) #poisson probability distribution\n",
        "cppd = poisson.cdf(xx, lam) #cumulative poisson distribution\n",
        "\n",
        "# Set color scheme\n",
        "colors = ['tab:blue', 'tab:green', 'tab:red']\n",
        "\n",
        "p_k1 = poisson.pmf(k1, lam) #probability of observing k1\n",
        "p_k2 = poisson.pmf(k2, lam) #and k2\n",
        "c_k1 = poisson.cdf(k1, lam) #cumulative probability of observing k1\n",
        "c_k2 = poisson.cdf(k2, lam) #and k2\n",
        "\n",
        "# Plot Poisson Probability Distribution\n",
        "fig, ax = plt.subplots()\n",
        "ax.plot(xx, ppd, color=colors[0], marker='o')\n",
        "ax.axvline(k1, color=colors[1], linestyle='--')\n",
        "ax.axhline(p_k1, color=colors[1], linestyle='--')\n",
        "ax.axvline(k2, color=colors[2], linestyle='--')\n",
        "ax.axhline(p_k2, color=colors[2], linestyle='--')\n",
        "ax.set_title(r'Poisson Distribution, $\\lambda=10$')\n",
        "ax.set_xlabel('k')\n",
        "ax.set_ylabel('Probability')\n",
        "ax.set_xlim([0, 30])\n",
        "ax.set_ylim([0, 0.14])\n",
        "plt.show()\n",
        "\n",
        "# Plot Poisson Cumulative Distribution\n",
        "fig, ax = plt.subplots()\n",
        "ax.plot(xx, cppd, color=colors[0], marker='o')\n",
        "ax.axvline(k1, color=colors[1], linestyle='--')\n",
        "ax.axhline(c_k1, color=colors[1], linestyle='--')\n",
        "ax.axvline(k2, color=colors[2], linestyle='--')\n",
        "ax.axhline(c_k2, color=colors[2], linestyle='--')\n",
        "ax.set_title(r'Poisson Cumulative Distribution, $\\lambda=10$')\n",
        "ax.set_xlabel('k')\n",
        "ax.set_ylabel('Cumulative Probability')\n",
        "ax.set_xlim([0, 30])\n",
        "ax.set_ylim([0, 1])\n",
        "plt.show()\n"
      ]
    },
    {
      "cell_type": "code",
      "execution_count": null,
      "metadata": {
        "id": "qr0ul8mxIsml"
      },
      "outputs": [],
      "source": [
        "# Compute the cumulative Poisson distribution value for each state\n",
        "natl_rate = PK.shape[0]/sum(pop_s.values()) #national average rate of police shootings per person\n",
        "cum_poisson_vals = [] #to store cumulative poisson values\n",
        "for state in pop_s.keys():\n",
        "    lam = natl_rate*pop_s[state] #num shootings for this state if rate matched national avg (lambda)\n",
        "    k = PK[PK.state==state].shape[0] #actual number of shootings in this state\n",
        "    cum_poisson_vals.append(poisson.cdf(k, lam))\n",
        "\n",
        "# Plot cumulative Poisson distribution values\n",
        "plt.figure(figsize=(6, 13))\n",
        "EK = pd.DataFrame(data={'state': list(pop_s.keys()), \n",
        "                        'cum_poisson': cum_poisson_vals})\n",
        "EK.sort_values('cum_poisson', inplace=True)\n",
        "y = np.arange(len(EK.state))\n",
        "plt.barh(y, EK.cum_poisson-0.5, left=0.5, color='green')\n",
        "ax = plt.gca()\n",
        "ax.set_yticks(y)\n",
        "ax.set_yticklabels(EK.state)\n",
        "ax.invert_yaxis()\n",
        "plt.plot([0.5, 0.5], [y[0]-1, y[-1]+1], 'k', linewidth=2)\n",
        "plt.title('Police Shootings: Cumulative Probability\\ngiven national average, by State')\n",
        "plt.ylabel('State')\n",
        "plt.xlabel('Cumulative Poisson Probability')\n",
        "plt.text(0.505, y[0]-1.5, \n",
        "         r'Less shootings $\\leftarrow$ $\\rightarrow$ More shootings',\n",
        "         horizontalalignment='center', color='gray')\n",
        "plt.show()\n"
      ]
    },
    {
      "cell_type": "code",
      "execution_count": null,
      "metadata": {
        "id": "Z6R-tusKJvfO"
      },
      "outputs": [],
      "source": [
        "# Convert date from object to datetime\n",
        "PK.date = pd.to_datetime(PK.date)"
      ]
    },
    {
      "cell_type": "code",
      "execution_count": null,
      "metadata": {
        "id": "1x2-Kk1oJy6M"
      },
      "outputs": [],
      "source": [
        "# Plot shootings by month\n",
        "plt.figure(figsize=(5,8))\n",
        "sns.countplot(y=PK.date.dt.strftime('%Y %m %B'), \n",
        "              order=sorted(PK.date.dt.strftime('%Y %m %B').unique()), palette='Set2')\n",
        "plt.title('Shooting By Month')\n",
        "plt.show()\n"
      ]
    },
    {
      "cell_type": "code",
      "execution_count": null,
      "metadata": {
        "id": "u4I8sJ2nJ14B"
      },
      "outputs": [],
      "source": [
        "# Plot shootings by day of week\n",
        "dow_map={0:'M', 1:'T', 2:'W', 3:'Th', 4:'F', 5:'Sa', 6:'Su'}\n",
        "sns.countplot(x=PK.date.dt.dayofweek.map(dow_map), order=dow_map.values(), palette='pastel')\n",
        "plt.title('Shooting By Day of Week')\n",
        "plt.show()\n"
      ]
    },
    {
      "cell_type": "code",
      "execution_count": null,
      "metadata": {
        "id": "djNcz3oOJ44v"
      },
      "outputs": [],
      "source": [
        "# Plot how many individuals showed signs of mental illness\n",
        "ax = sns.countplot(x='signs_of_mental_illness', data=PK, palette='Blues')\n",
        "for p in ax.patches:\n",
        "    x = p.get_bbox().get_points()[:,0]\n",
        "    y = p.get_bbox().get_points()[1,1]\n",
        "    ax.annotate('{:.2g}%'.format(100.*y/len(PK)), (x.mean(), y), ha='center', va='bottom')\n",
        "plt.title('mental illness of the individuals during shoting')\n",
        "plt.show()\n"
      ]
    },
    {
      "cell_type": "code",
      "execution_count": null,
      "metadata": {
        "id": "l5cK9qslJ8QQ"
      },
      "outputs": [],
      "source": [
        "# Set color palette\n",
        "colors = sns.color_palette(\"muted\")\n",
        "\n",
        "# Plot how many individuals were fleeing when shot\n",
        "ax = sns.countplot(x='flee', data=PK, palette=colors)\n",
        "for p in ax.patches:\n",
        "    x = p.get_bbox().get_points()[:,0]\n",
        "    y = p.get_bbox().get_points()[1,1]\n",
        "    ax.annotate('{:.2g}%'.format(100.*y/len(PK)), (x.mean(), y), ha='center', va='bottom')\n",
        "plt.title('Method used for fleeing during shoting')\n",
        "plt.show()\n"
      ]
    },
    {
      "cell_type": "code",
      "execution_count": null,
      "metadata": {
        "id": "rvv2FI8hJ_LE"
      },
      "outputs": [],
      "source": [
        "# New color palette\n",
        "colors = ['#FF5733', '#2C3E50']\n",
        "\n",
        "# Plot how many shootings have body camera footage\n",
        "ax = sns.countplot(x='body_camera', data=PK, palette=colors)\n",
        "for p in ax.patches:\n",
        "    x = p.get_bbox().get_points()[:,0]\n",
        "    y = p.get_bbox().get_points()[1,1]\n",
        "    ax.annotate('{:.2g}%'.format(100.*y/len(PK)), (x.mean(), y), ha='center', va='bottom')\n",
        "plt.title('Whether officer wears body camera, time of the shooting')\n",
        "plt.show()\n"
      ]
    },
    {
      "cell_type": "code",
      "execution_count": null,
      "metadata": {
        "id": "yX49U4iAKDbL"
      },
      "outputs": [],
      "source": [
        "pcPK = PK.groupby('state').agg({'body_camera': 'mean'})\n",
        "plt.figure(figsize=(8, 13))\n",
        "sns.barplot(x=100.*pcPK.values.flatten(),\n",
        "y=pcPK.index,\n",
        "order=pcPK.body_camera.sort_values(ascending=False).index,\n",
        "palette='rocket')\n",
        "plt.title('Percentage Police Killings with bodycamera in different by State')\n",
        "plt.xlabel('Percentage Shootings with bodycamera')\n",
        "plt.xlim([0, 100])\n",
        "plt.show()"
      ]
    },
    {
      "cell_type": "code",
      "execution_count": null,
      "metadata": {
        "id": "qzpT_s4p4VHx"
      },
      "outputs": [],
      "source": [
        "DataFrame1['date'].describe()"
      ]
    },
    {
      "cell_type": "code",
      "execution_count": null,
      "metadata": {
        "id": "el1JXsEt4Xyo"
      },
      "outputs": [],
      "source": [
        "DataFrame1['date'] = pd.to_datetime(DataFrame1['date'])"
      ]
    },
    {
      "cell_type": "code",
      "execution_count": null,
      "metadata": {
        "id": "XMqC9rbc4Z_r"
      },
      "outputs": [],
      "source": [
        "DataFrame1['year'] = pd.DatetimeIndex(DataFrame1['date']).year"
      ]
    },
    {
      "cell_type": "code",
      "execution_count": null,
      "metadata": {
        "id": "QObBpASp4cWp"
      },
      "outputs": [],
      "source": [
        "DataFrame1['year'].nunique()"
      ]
    },
    {
      "cell_type": "code",
      "execution_count": null,
      "metadata": {
        "id": "pN9X03Hb4egd"
      },
      "outputs": [],
      "source": [
        "Year_Count = pd.DataFrame();"
      ]
    },
    {
      "cell_type": "code",
      "execution_count": null,
      "metadata": {
        "id": "Y4yFy2564iUM"
      },
      "outputs": [],
      "source": [
        "DataFrame1['year'].value_counts()"
      ]
    },
    {
      "cell_type": "code",
      "execution_count": null,
      "metadata": {
        "id": "Fty3vXyL4qrm"
      },
      "outputs": [],
      "source": [
        "Year_Count['year'] =  DataFrame1['year'].unique()\n",
        "Year_Count =  Year_Count.drop(7)"
      ]
    },
    {
      "cell_type": "code",
      "execution_count": null,
      "metadata": {
        "id": "2tqpyAm54r1C"
      },
      "outputs": [],
      "source": [
        "Year_Count"
      ]
    },
    {
      "cell_type": "code",
      "execution_count": null,
      "metadata": {
        "id": "-EaS4oaJ4uH8"
      },
      "outputs": [],
      "source": [
        "x=[]\n",
        "def yearCount(i):\n",
        "  print(DataFrame1['year'].value_counts()[i])\n",
        "  x.append(DataFrame1['year'].value_counts()[i])\n",
        "  print(x)\n",
        "\n",
        "for i in Year_Count['year']:\n",
        "  print(i)\n",
        "  yearCount(i)\n",
        "\n",
        "Year_Count = Year_Count.assign(count = x)"
      ]
    },
    {
      "cell_type": "code",
      "execution_count": null,
      "metadata": {
        "id": "5h6wxTNH4wn2"
      },
      "outputs": [],
      "source": [
        "Year_Count['count'].describe()"
      ]
    },
    {
      "cell_type": "code",
      "execution_count": null,
      "metadata": {
        "id": "Ocf3pMpe4yjD"
      },
      "outputs": [],
      "source": [
        "#find line of best fit\n",
        "a, b = np.polyfit(Year_Count['year'],Year_Count['count'] , 1)\n",
        "\n",
        "#add points to plot\n",
        "plt.scatter(Year_Count['year'],Year_Count['count'])\n",
        "\n",
        "#add line of best fit to plot\n",
        "plt.plot(Year_Count['year'], a*Year_Count['year']+b)\n",
        "print(b+2023*a)  "
      ]
    },
    {
      "cell_type": "code",
      "execution_count": null,
      "metadata": {
        "id": "uSyY-YWH407O"
      },
      "outputs": [],
      "source": [
        "from statistics import mean\n",
        "def best_fit_slope_and_intercept(xs,ys):\n",
        "    m = (((mean(xs)*mean(ys)) - mean(xs*ys)) /\n",
        "         ((mean(xs)*mean(xs)) - mean(xs*xs)))\n",
        "    \n",
        "    b = mean(ys) - m*mean(xs)\n",
        "    \n",
        "    return m, b\n",
        "m, b = best_fit_slope_and_intercept(Year_Count['year'],Year_Count['count'])\n",
        "\n",
        "print(m,b)\n",
        "regression_line = [(m*x)+b for x in Year_Count['year']]\n",
        "\n",
        "\n",
        "regression_line = []\n",
        "for x in Year_Count['year']:\n",
        "    regression_line.append((m*x)+b)\n",
        "\n",
        "import matplotlib.pyplot as plt\n",
        "from matplotlib import style\n",
        "style.use('ggplot')\n",
        "\n",
        "\n",
        "plt.scatter(Year_Count['year'],Year_Count['count'],color='#003F72')\n",
        "plt.plot(Year_Count['year'], regression_line)\n",
        "plt.show()"
      ]
    },
    {
      "cell_type": "code",
      "execution_count": null,
      "metadata": {
        "id": "AHAlMvqW44iL"
      },
      "outputs": [],
      "source": [
        "predict_x = 2023\n",
        "predict_y = (m*predict_x)+b\n"
      ]
    },
    {
      "cell_type": "code",
      "execution_count": null,
      "metadata": {
        "id": "vcWIiX4C451q"
      },
      "outputs": [],
      "source": [
        "row = {'year': 2023 , 'count':predict_y}\n",
        "print(row)\n",
        "Year_Count = Year_Count.append(row, ignore_index = True)\n",
        "regression_line = []\n",
        "for x in Year_Count['year']:\n",
        "    regression_line.append((m*x)+b)\n",
        "plt.scatter(Year_Count['year'],Year_Count['count'],color='#003F72',label='data')\n",
        "plt.plot(Year_Count['year'], regression_line, label='regression line')\n",
        "plt.legend(loc=4)\n",
        "plt.show()"
      ]
    },
    {
      "cell_type": "code",
      "execution_count": null,
      "metadata": {
        "id": "uC1CEdBMNX6F"
      },
      "outputs": [],
      "source": [
        "predict_x = 2023\n",
        "predict_y = (m*predict_x)+b\n",
        "row = {'year': 2022 , 'count':predict_y}\n",
        "print(row)\n",
        "Year_Count = Year_Count.append(row, ignore_index = True)\n",
        "regression_line = []\n",
        "for x in Year_Count['year']:\n",
        "    regression_line.append((m*x)+b)\n",
        "plt.scatter(Year_Count['year'],Year_Count['count'],color='#003F72',label='data')\n",
        "plt.plot(Year_Count['year'], regression_line, label='regression line')\n",
        "plt.legend(loc=4)\n",
        "plt.show()\n"
      ]
    },
    {
      "cell_type": "code",
      "execution_count": null,
      "metadata": {
        "id": "SsrI0wyA48dZ"
      },
      "outputs": [],
      "source": [
        "demo = pd.DataFrame();\n",
        "#demo['month_year'] = pd.to_datetime(DataFrame1['date']).dt.to_period('M')\n",
        "demo['month_year'] = DataFrame1['date'].apply(lambda x: x.strftime('%B-%Y')) \n",
        "demo['month_year'] = pd.to_datetime(demo['month_year'])\n",
        "demo.info()"
      ]
    },
    {
      "cell_type": "code",
      "execution_count": null,
      "metadata": {
        "id": "Oy_Y9cVY4_-x"
      },
      "outputs": [],
      "source": [
        "demo = demo.value_counts().to_frame('counts')\n",
        "demo"
      ]
    },
    {
      "cell_type": "code",
      "execution_count": null,
      "metadata": {
        "id": "yG5KQIn15CP1"
      },
      "outputs": [],
      "source": [
        "demo = demo.sort_values([\"month_year\"])\n",
        "demo = demo[:-1]\n",
        "\n",
        "print(demo.tail())\n",
        "demo.plot()\n",
        "demo[\"counts\"] = pd.to_numeric(demo[\"counts\"])\n",
        "demo.head()"
      ]
    },
    {
      "cell_type": "markdown",
      "metadata": {
        "id": "XgKZ9jHBXMzh"
      },
      "source": [
        "Reference: \n",
        "https://www.kaggle.com/datasets/zusmani/us-mass-shootings-last-50-years\n",
        "https://www.kaggle.com/datasets/fivethirtyeight/police-officer-deaths-in-the-us\n",
        "https://www.kaggle.com/datasets/fivethirtyeight/fivethirtyeight-police-deaths-dataset\n",
        "https://www.kaggle.com/code/kwullum/fatal-police-shootings-in-the-us-racial-bias\n",
        "https://www.kaggle.com/code/brendanhasz/police-shootings-eda/input\n",
        "\"https://api.census.gov/data/2020/acs/acs5?\"\n",
        "https://www.washingtonpost.com/graphics/investigations/police-shootings-database/\n",
        "https://towardsdatascience.com/an-examination-of-fatal-force-by-police-in-the-us-db897d97085c"
      ]
    }
  ],
  "metadata": {
    "colab": {
      "provenance": []
    },
    "kernelspec": {
      "display_name": "Python 3",
      "name": "python3"
    },
    "language_info": {
      "name": "python"
    }
  },
  "nbformat": 4,
  "nbformat_minor": 0
}